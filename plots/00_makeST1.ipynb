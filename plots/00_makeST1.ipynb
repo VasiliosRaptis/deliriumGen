{
 "cells": [
  {
   "cell_type": "markdown",
   "id": "cb563d0c",
   "metadata": {},
   "source": [
    "**Add pre-installed package path & load packages:**"
   ]
  },
  {
   "cell_type": "code",
   "execution_count": 1,
   "id": "c6ea61ad",
   "metadata": {},
   "outputs": [],
   "source": [
    ".libPaths(c(.libPaths(), \"/exports/eddie3_apps_local/apps/SL7/R/4.3.0/lib64/R/library\"))"
   ]
  },
  {
   "cell_type": "code",
   "execution_count": 2,
   "id": "fd87c27e",
   "metadata": {},
   "outputs": [],
   "source": [
    "library(\"dplyr\", warn.conflicts = F)\n",
    "library(\"stringr\", warn.conflicts = F)\n",
    "library(\"data.table\", warn.conflicts = F) \n",
    "library(\"vroom\", warn.conflicts = F)\n",
    "library(\"ggplot2\", warn.conflicts = F)"
   ]
  },
  {
   "cell_type": "markdown",
   "id": "3fa61508",
   "metadata": {},
   "source": [
    "**Change working directory:**"
   ]
  },
  {
   "cell_type": "code",
   "execution_count": 3,
   "id": "b3b6ab1a",
   "metadata": {},
   "outputs": [
    {
     "data": {
      "text/html": [
       "'/exports/cmvm/eddie/smgphs/groups/Quantgen/Users/vasilis/PHD'"
      ],
      "text/latex": [
       "'/exports/cmvm/eddie/smgphs/groups/Quantgen/Users/vasilis/PHD'"
      ],
      "text/markdown": [
       "'/exports/cmvm/eddie/smgphs/groups/Quantgen/Users/vasilis/PHD'"
      ],
      "text/plain": [
       "[1] \"/exports/cmvm/eddie/smgphs/groups/Quantgen/Users/vasilis/PHD\""
      ]
     },
     "metadata": {},
     "output_type": "display_data"
    }
   ],
   "source": [
    "wd = \"/exports/cmvm/eddie/smgphs/groups/Quantgen/Users/vasilis/PHD/\"\n",
    "setwd(wd)\n",
    "getwd()"
   ]
  },
  {
   "cell_type": "markdown",
   "id": "70bb3271",
   "metadata": {},
   "source": [
    "**Dementia data:**"
   ]
  },
  {
   "cell_type": "code",
   "execution_count": 84,
   "id": "f5403b98",
   "metadata": {},
   "outputs": [],
   "source": [
    "file <- \"/exports/cmvm/eddie/smgphs/groups/Quantgen/Users/ukb_data/ukb44986/extra_data/dementia_outcomes.csv\"\n",
    "dem    <- fread(file)\n",
    "# select \"Date of all cause dementia report\"; field 42018\n",
    "ac    <- dem %>% select(eid, `42018-0.0`) %>% filter(`42018-0.0` != \"1900-01-01\") \n",
    "# select \"Date of alzheimer's disease report; field 42020\"\n",
    "alz   <- dem %>% select(eid, `42020-0.0`) %>% filter(`42020-0.0` != \"1900-01-01\") "
   ]
  },
  {
   "cell_type": "markdown",
   "id": "aa16750a",
   "metadata": {},
   "source": [
    "**UKB EUR:**"
   ]
  },
  {
   "cell_type": "code",
   "execution_count": 4,
   "id": "68f6b587",
   "metadata": {},
   "outputs": [],
   "source": [
    "file <- \"ukb.delirium.gwas/pheno_covar_files/ukb_wb_del_cov_phe_dem_apoe.txt\"\n",
    "a <- fread(file)\n",
    "eur.ids <- fread(\"ukb.delirium.gwas/regenie_files/extraction_files/qc_pass_called.id\")"
   ]
  },
  {
   "cell_type": "code",
   "execution_count": 88,
   "id": "6f4554eb",
   "metadata": {},
   "outputs": [
    {
     "data": {
      "text/html": [
       "<table class=\"dataframe\">\n",
       "<caption>A tibble: 2 × 6</caption>\n",
       "<thead>\n",
       "\t<tr><th scope=col>delirium</th><th scope=col>n</th><th scope=col>age; mean (sd)</th><th scope=col>sex; female (%)</th><th scope=col>dementia (%)</th><th scope=col>AD (%)</th></tr>\n",
       "\t<tr><th scope=col>&lt;int&gt;</th><th scope=col>&lt;int&gt;</th><th scope=col>&lt;chr&gt;</th><th scope=col>&lt;chr&gt;</th><th scope=col>&lt;chr&gt;</th><th scope=col>&lt;chr&gt;</th></tr>\n",
       "</thead>\n",
       "<tbody>\n",
       "\t<tr><td>0</td><td>385097</td><td>70.6 (7.9)</td><td>209332 (54.4)</td><td>5374 (1.4) </td><td>2424 (0.6) </td></tr>\n",
       "\t<tr><td>1</td><td>  7176</td><td>74.6 (6)  </td><td>3092 (43.1)  </td><td>2561 (35.7)</td><td>1142 (15.9)</td></tr>\n",
       "</tbody>\n",
       "</table>\n"
      ],
      "text/latex": [
       "A tibble: 2 × 6\n",
       "\\begin{tabular}{llllll}\n",
       " delirium & n & age; mean (sd) & sex; female (\\%) & dementia (\\%) & AD (\\%)\\\\\n",
       " <int> & <int> & <chr> & <chr> & <chr> & <chr>\\\\\n",
       "\\hline\n",
       "\t 0 & 385097 & 70.6 (7.9) & 209332 (54.4) & 5374 (1.4)  & 2424 (0.6) \\\\\n",
       "\t 1 &   7176 & 74.6 (6)   & 3092 (43.1)   & 2561 (35.7) & 1142 (15.9)\\\\\n",
       "\\end{tabular}\n"
      ],
      "text/markdown": [
       "\n",
       "A tibble: 2 × 6\n",
       "\n",
       "| delirium &lt;int&gt; | n &lt;int&gt; | age; mean (sd) &lt;chr&gt; | sex; female (%) &lt;chr&gt; | dementia (%) &lt;chr&gt; | AD (%) &lt;chr&gt; |\n",
       "|---|---|---|---|---|---|\n",
       "| 0 | 385097 | 70.6 (7.9) | 209332 (54.4) | 5374 (1.4)  | 2424 (0.6)  |\n",
       "| 1 |   7176 | 74.6 (6)   | 3092 (43.1)   | 2561 (35.7) | 1142 (15.9) |\n",
       "\n"
      ],
      "text/plain": [
       "  delirium n      age; mean (sd) sex; female (%) dementia (%) AD (%)     \n",
       "1 0        385097 70.6 (7.9)     209332 (54.4)   5374 (1.4)   2424 (0.6) \n",
       "2 1          7176 74.6 (6)       3092 (43.1)     2561 (35.7)  1142 (15.9)"
      ]
     },
     "metadata": {},
     "output_type": "display_data"
    }
   ],
   "source": [
    "a %>% \n",
    "    filter(IID %in% eur.ids$V1) %>%\n",
    "    mutate(alz_status = ifelse(IID %in% alz$eid, 1, 0)) %>%\n",
    "    group_by(delirium) %>% \n",
    "    summarise(n=n(),\n",
    "              `age; mean (sd)` = paste0(round(mean(age),1), \" (\", round(sd(age),1), \")\"),\n",
    "              `sex; female (%)`= paste0(sum(sex==0), \" (\", round(100*(sum(sex==0)/n()),1), \")\"),\n",
    "              `dementia (%)`   = paste0(sum(dementia_status==1, na.rm=T), \" (\", round(100*(sum(dementia_status==1, na.rm=T)/n()),1), \")\"),\n",
    "              `AD (%)`         = paste0(sum(alz_status==1, na.rm=T), \" (\", round(100*(sum(alz_status==1, na.rm=T)/n()),1), \")\")\n",
    "             )"
   ]
  },
  {
   "cell_type": "markdown",
   "id": "2c998f75",
   "metadata": {},
   "source": [
    "**UKB SAS:**"
   ]
  },
  {
   "cell_type": "code",
   "execution_count": 83,
   "id": "989d45fe",
   "metadata": {},
   "outputs": [],
   "source": [
    "sas <- fread(\"/exports/cmvm/eddie/smgphs/groups/Quantgen/Users/vasilis/PHD/ukb.delirium.gwas/non_eur/data/pheno/delirium_sas.phe\")"
   ]
  },
  {
   "cell_type": "code",
   "execution_count": 94,
   "id": "8bdbd5be",
   "metadata": {
    "scrolled": true
   },
   "outputs": [
    {
     "data": {
      "text/html": [
       "<table class=\"dataframe\">\n",
       "<caption>A tibble: 2 × 6</caption>\n",
       "<thead>\n",
       "\t<tr><th scope=col>delirium</th><th scope=col>n</th><th scope=col>age; mean (sd)</th><th scope=col>sex; female (%)</th><th scope=col>dementia (%)</th><th scope=col>AD (%)</th></tr>\n",
       "\t<tr><th scope=col>&lt;int&gt;</th><th scope=col>&lt;int&gt;</th><th scope=col>&lt;chr&gt;</th><th scope=col>&lt;chr&gt;</th><th scope=col>&lt;chr&gt;</th><th scope=col>&lt;chr&gt;</th></tr>\n",
       "</thead>\n",
       "<tbody>\n",
       "\t<tr><td>0</td><td>9294</td><td>66.8 (8.3)</td><td>4292 (46.2)</td><td>103 (1.1)</td><td>36 (0.4) </td></tr>\n",
       "\t<tr><td>1</td><td> 107</td><td>71.4 (8)  </td><td>32 (29.9)  </td><td>33 (30.8)</td><td>17 (15.9)</td></tr>\n",
       "</tbody>\n",
       "</table>\n"
      ],
      "text/latex": [
       "A tibble: 2 × 6\n",
       "\\begin{tabular}{llllll}\n",
       " delirium & n & age; mean (sd) & sex; female (\\%) & dementia (\\%) & AD (\\%)\\\\\n",
       " <int> & <int> & <chr> & <chr> & <chr> & <chr>\\\\\n",
       "\\hline\n",
       "\t 0 & 9294 & 66.8 (8.3) & 4292 (46.2) & 103 (1.1) & 36 (0.4) \\\\\n",
       "\t 1 &  107 & 71.4 (8)   & 32 (29.9)   & 33 (30.8) & 17 (15.9)\\\\\n",
       "\\end{tabular}\n"
      ],
      "text/markdown": [
       "\n",
       "A tibble: 2 × 6\n",
       "\n",
       "| delirium &lt;int&gt; | n &lt;int&gt; | age; mean (sd) &lt;chr&gt; | sex; female (%) &lt;chr&gt; | dementia (%) &lt;chr&gt; | AD (%) &lt;chr&gt; |\n",
       "|---|---|---|---|---|---|\n",
       "| 0 | 9294 | 66.8 (8.3) | 4292 (46.2) | 103 (1.1) | 36 (0.4)  |\n",
       "| 1 |  107 | 71.4 (8)   | 32 (29.9)   | 33 (30.8) | 17 (15.9) |\n",
       "\n"
      ],
      "text/plain": [
       "  delirium n    age; mean (sd) sex; female (%) dementia (%) AD (%)   \n",
       "1 0        9294 66.8 (8.3)     4292 (46.2)     103 (1.1)    36 (0.4) \n",
       "2 1         107 71.4 (8)       32 (29.9)       33 (30.8)    17 (15.9)"
      ]
     },
     "metadata": {},
     "output_type": "display_data"
    }
   ],
   "source": [
    "sas %>% \n",
    "    mutate(alz_status = ifelse(IID %in% alz$eid, 1, 0)) %>%\n",
    "    mutate(dementia_status = ifelse(IID %in% ac$eid, 1, 0)) %>%\n",
    "    group_by(delirium) %>% \n",
    "    summarise(n=n(),\n",
    "              `age; mean (sd)` = paste0(round(mean(age),1), \" (\", round(sd(age),1), \")\"),\n",
    "              `sex; female (%)`= paste0(sum(sex==0), \" (\", round(100*(sum(sex==0)/n()),1), \")\"),\n",
    "              `dementia (%)`   = paste0(sum(dementia_status==1, na.rm=T), \" (\", round(100*(sum(dementia_status==1, na.rm=T)/n()),1), \")\"),\n",
    "              `AD (%)`         = paste0(sum(alz_status==1, na.rm=T), \" (\", round(100*(sum(alz_status==1, na.rm=T)/n()),1), \")\")\n",
    "             )"
   ]
  },
  {
   "cell_type": "markdown",
   "id": "dfbec6f0",
   "metadata": {},
   "source": [
    "**UKB AFR:**"
   ]
  },
  {
   "cell_type": "code",
   "execution_count": 97,
   "id": "f0cad5b9",
   "metadata": {},
   "outputs": [],
   "source": [
    "afr <- fread(\"/exports/cmvm/eddie/smgphs/groups/Quantgen/Users/vasilis/PHD/ukb.delirium.gwas/non_eur/data/pheno/delirium_afr.phe\")\n",
    "    afr.id <- fread(\"/exports/cmvm/eddie/smgphs/groups/Quantgen/Users/vasilis/PHD/ukb.delirium.gwas/non_eur/data/pheno/delirium_afr_for_keep.id\")"
   ]
  },
  {
   "cell_type": "code",
   "execution_count": 98,
   "id": "c698e07a",
   "metadata": {},
   "outputs": [
    {
     "data": {
      "text/html": [
       "<table class=\"dataframe\">\n",
       "<caption>A tibble: 2 × 6</caption>\n",
       "<thead>\n",
       "\t<tr><th scope=col>delirium</th><th scope=col>n</th><th scope=col>age; mean (sd)</th><th scope=col>sex; female (%)</th><th scope=col>dementia (%)</th><th scope=col>AD (%)</th></tr>\n",
       "\t<tr><th scope=col>&lt;int&gt;</th><th scope=col>&lt;int&gt;</th><th scope=col>&lt;chr&gt;</th><th scope=col>&lt;chr&gt;</th><th scope=col>&lt;chr&gt;</th><th scope=col>&lt;chr&gt;</th></tr>\n",
       "</thead>\n",
       "<tbody>\n",
       "\t<tr><td>0</td><td>7515</td><td>65.3 (7.9)</td><td>4300 (57.2)</td><td>92 (1.2) </td><td>37 (0.5) </td></tr>\n",
       "\t<tr><td>1</td><td> 115</td><td>71.8 (8.1)</td><td>52 (45.2)  </td><td>41 (35.7)</td><td>19 (16.5)</td></tr>\n",
       "</tbody>\n",
       "</table>\n"
      ],
      "text/latex": [
       "A tibble: 2 × 6\n",
       "\\begin{tabular}{llllll}\n",
       " delirium & n & age; mean (sd) & sex; female (\\%) & dementia (\\%) & AD (\\%)\\\\\n",
       " <int> & <int> & <chr> & <chr> & <chr> & <chr>\\\\\n",
       "\\hline\n",
       "\t 0 & 7515 & 65.3 (7.9) & 4300 (57.2) & 92 (1.2)  & 37 (0.5) \\\\\n",
       "\t 1 &  115 & 71.8 (8.1) & 52 (45.2)   & 41 (35.7) & 19 (16.5)\\\\\n",
       "\\end{tabular}\n"
      ],
      "text/markdown": [
       "\n",
       "A tibble: 2 × 6\n",
       "\n",
       "| delirium &lt;int&gt; | n &lt;int&gt; | age; mean (sd) &lt;chr&gt; | sex; female (%) &lt;chr&gt; | dementia (%) &lt;chr&gt; | AD (%) &lt;chr&gt; |\n",
       "|---|---|---|---|---|---|\n",
       "| 0 | 7515 | 65.3 (7.9) | 4300 (57.2) | 92 (1.2)  | 37 (0.5)  |\n",
       "| 1 |  115 | 71.8 (8.1) | 52 (45.2)   | 41 (35.7) | 19 (16.5) |\n",
       "\n"
      ],
      "text/plain": [
       "  delirium n    age; mean (sd) sex; female (%) dementia (%) AD (%)   \n",
       "1 0        7515 65.3 (7.9)     4300 (57.2)     92 (1.2)     37 (0.5) \n",
       "2 1         115 71.8 (8.1)     52 (45.2)       41 (35.7)    19 (16.5)"
      ]
     },
     "metadata": {},
     "output_type": "display_data"
    }
   ],
   "source": [
    "afr %>% \n",
    "    filter(IID %in% afr.id$V1) %>%\n",
    "    mutate(alz_status = ifelse(IID %in% alz$eid, 1, 0)) %>%\n",
    "    mutate(dementia_status = ifelse(IID %in% ac$eid, 1, 0)) %>%\n",
    "    group_by(delirium) %>% \n",
    "    summarise(n=n(),\n",
    "              `age; mean (sd)` = paste0(round(mean(age),1), \" (\", round(sd(age),1), \")\"),\n",
    "              `sex; female (%)`= paste0(sum(sex==0), \" (\", round(100*(sum(sex==0)/n()),1), \")\"),\n",
    "              `dementia (%)`   = paste0(sum(dementia_status==1, na.rm=T), \" (\", round(100*(sum(dementia_status==1, na.rm=T)/n()),1), \")\"),\n",
    "              `AD (%)`         = paste0(sum(alz_status==1, na.rm=T), \" (\", round(100*(sum(alz_status==1, na.rm=T)/n()),1), \")\")\n",
    "             )"
   ]
  }
 ],
 "metadata": {
  "kernelspec": {
   "display_name": "R",
   "language": "R",
   "name": "ir"
  },
  "language_info": {
   "codemirror_mode": "r",
   "file_extension": ".r",
   "mimetype": "text/x-r-source",
   "name": "R",
   "pygments_lexer": "r",
   "version": "4.3.2"
  }
 },
 "nbformat": 4,
 "nbformat_minor": 5
}
