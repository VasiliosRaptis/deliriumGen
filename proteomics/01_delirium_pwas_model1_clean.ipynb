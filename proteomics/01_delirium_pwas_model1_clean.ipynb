{
 "cells": [
  {
   "cell_type": "markdown",
   "id": "cb563d0c",
   "metadata": {},
   "source": [
    "### **Add pre-installed package path & load packages:**"
   ]
  },
  {
   "cell_type": "code",
   "execution_count": 2,
   "id": "c6ea61ad",
   "metadata": {},
   "outputs": [],
   "source": [
    ".libPaths(c(.libPaths(), \"/exports/eddie3_apps_local/apps/SL7/R/4.3.0/lib64/R/library\"))"
   ]
  },
  {
   "cell_type": "code",
   "execution_count": 3,
   "id": "fd87c27e",
   "metadata": {},
   "outputs": [],
   "source": [
    "library(\"dplyr\", warn.conflicts = F)\n",
    "library(\"tidyr\", warn.conflicts = F)\n",
    "library(\"stringr\", warn.conflicts = F)\n",
    "library(\"data.table\", warn.conflicts = F) \n",
    "library(\"vroom\", warn.conflicts = F)\n",
    "library(\"ggplot2\", warn.conflicts = F)\n",
    "#library(survival)"
   ]
  },
  {
   "cell_type": "markdown",
   "id": "3fa61508",
   "metadata": {},
   "source": [
    "### **Change working directory:**"
   ]
  },
  {
   "cell_type": "code",
   "execution_count": 4,
   "id": "b3b6ab1a",
   "metadata": {},
   "outputs": [
    {
     "data": {
      "text/html": [
       "'/exports/cmvm/eddie/smgphs/groups/Quantgen/Users/vasilis/PHD/proteomics/delirium'"
      ],
      "text/latex": [
       "'/exports/cmvm/eddie/smgphs/groups/Quantgen/Users/vasilis/PHD/proteomics/delirium'"
      ],
      "text/markdown": [
       "'/exports/cmvm/eddie/smgphs/groups/Quantgen/Users/vasilis/PHD/proteomics/delirium'"
      ],
      "text/plain": [
       "[1] \"/exports/cmvm/eddie/smgphs/groups/Quantgen/Users/vasilis/PHD/proteomics/delirium\""
      ]
     },
     "metadata": {},
     "output_type": "display_data"
    }
   ],
   "source": [
    "wd = \"/exports/cmvm/eddie/smgphs/groups/Quantgen/Users/vasilis/PHD/proteomics/delirium/\"\n",
    "setwd(wd)\n",
    "getwd()"
   ]
  },
  {
   "cell_type": "markdown",
   "id": "aa16750a",
   "metadata": {},
   "source": [
    "### **Load data:**"
   ]
  },
  {
   "cell_type": "markdown",
   "id": "f0fe9a29",
   "metadata": {},
   "source": [
    "#### Unadjusted proteomics"
   ]
  },
  {
   "cell_type": "code",
   "execution_count": 7,
   "id": "2ce33c24",
   "metadata": {},
   "outputs": [
    {
     "data": {
      "text/html": [
       "<style>\n",
       ".list-inline {list-style: none; margin:0; padding: 0}\n",
       ".list-inline>li {display: inline-block}\n",
       ".list-inline>li:not(:last-child)::after {content: \"\\00b7\"; padding: 0 .5ex}\n",
       "</style>\n",
       "<ol class=list-inline><li>32746</li><li>2951</li></ol>\n"
      ],
      "text/latex": [
       "\\begin{enumerate*}\n",
       "\\item 32746\n",
       "\\item 2951\n",
       "\\end{enumerate*}\n"
      ],
      "text/markdown": [
       "1. 32746\n",
       "2. 2951\n",
       "\n",
       "\n"
      ],
      "text/plain": [
       "[1] 32746  2951"
      ]
     },
     "metadata": {},
     "output_type": "display_data"
    },
    {
     "data": {
      "text/html": [
       "<table class=\"dataframe\">\n",
       "<caption>A tibble: 6 × 2951</caption>\n",
       "<thead>\n",
       "\t<tr><th scope=col>FID</th><th scope=col>IID</th><th scope=col>Sex</th><th scope=col>Age</th><th scope=col>GeneticArray</th><th scope=col>UKB_centre</th><th scope=col>protein_batch</th><th scope=col>Sample_age</th><th scope=col>PC_1</th><th scope=col>PC_2</th><th scope=col>⋯</th><th scope=col>ZFYVE19</th><th scope=col>ZHX2</th><th scope=col>ZNF174</th><th scope=col>ZNF75D</th><th scope=col>ZNF830</th><th scope=col>ZNRD2</th><th scope=col>ZNRF4</th><th scope=col>ZP3</th><th scope=col>ZP4</th><th scope=col>ZPR1</th></tr>\n",
       "\t<tr><th scope=col>&lt;int&gt;</th><th scope=col>&lt;int&gt;</th><th scope=col>&lt;int&gt;</th><th scope=col>&lt;int&gt;</th><th scope=col>&lt;int&gt;</th><th scope=col>&lt;int&gt;</th><th scope=col>&lt;int&gt;</th><th scope=col>&lt;int&gt;</th><th scope=col>&lt;dbl&gt;</th><th scope=col>&lt;dbl&gt;</th><th scope=col>⋯</th><th scope=col>&lt;dbl&gt;</th><th scope=col>&lt;dbl&gt;</th><th scope=col>&lt;dbl&gt;</th><th scope=col>&lt;dbl&gt;</th><th scope=col>&lt;dbl&gt;</th><th scope=col>&lt;dbl&gt;</th><th scope=col>&lt;dbl&gt;</th><th scope=col>&lt;dbl&gt;</th><th scope=col>&lt;dbl&gt;</th><th scope=col>&lt;dbl&gt;</th></tr>\n",
       "</thead>\n",
       "<tbody>\n",
       "\t<tr><td>1331483</td><td>1331483</td><td>1</td><td>54</td><td>1</td><td>11012</td><td>0</td><td>4612</td><td>-11.1120</td><td>4.32787</td><td>⋯</td><td> 0.4039</td><td>-0.4125</td><td>-0.09345</td><td>-0.76265</td><td>-0.24295</td><td>-0.0419</td><td>-0.07065</td><td>-0.3355</td><td>-0.18575</td><td> 0.48245</td></tr>\n",
       "\t<tr><td>1361634</td><td>1361634</td><td>1</td><td>44</td><td>1</td><td>11010</td><td>0</td><td>5076</td><td>-13.6785</td><td>5.88845</td><td>⋯</td><td> 0.0299</td><td>-0.2598</td><td> 0.18405</td><td>-0.43495</td><td> 3.28595</td><td>-0.2007</td><td> 0.54375</td><td>-0.8688</td><td> 0.28305</td><td> 1.16465</td></tr>\n",
       "\t<tr><td>1508802</td><td>1508802</td><td>0</td><td>54</td><td>1</td><td>11010</td><td>0</td><td>5076</td><td>-12.9177</td><td>6.97354</td><td>⋯</td><td>-0.8821</td><td> 0.3132</td><td> 0.03755</td><td>-0.32695</td><td> 0.25825</td><td>-0.5867</td><td>-0.70445</td><td> 1.1548</td><td>-0.33145</td><td> 1.07485</td></tr>\n",
       "\t<tr><td>1533247</td><td>1533247</td><td>1</td><td>58</td><td>1</td><td>11011</td><td>0</td><td>4982</td><td>-11.5671</td><td>3.51090</td><td>⋯</td><td>-1.6311</td><td> 0.1698</td><td>-0.05835</td><td>-0.32865</td><td> 0.17085</td><td>-0.6857</td><td>-1.00975</td><td>-0.4541</td><td>-0.01685</td><td> 0.21385</td></tr>\n",
       "\t<tr><td>1629003</td><td>1629003</td><td>0</td><td>61</td><td>1</td><td>11016</td><td>0</td><td>4575</td><td>-12.5582</td><td>5.42726</td><td>⋯</td><td>-0.1456</td><td> 0.2485</td><td> 0.85035</td><td> 1.84065</td><td> 0.18675</td><td> 0.0550</td><td>-0.64625</td><td>-0.3087</td><td>-0.38505</td><td>-0.09005</td></tr>\n",
       "\t<tr><td>1629466</td><td>1629466</td><td>0</td><td>58</td><td>1</td><td>11001</td><td>0</td><td>5342</td><td>-13.1117</td><td>2.61686</td><td>⋯</td><td>-0.8135</td><td>-0.1235</td><td>-0.71715</td><td> 0.88495</td><td> 0.41565</td><td>-0.7310</td><td>-0.02125</td><td>-0.8497</td><td>-0.01975</td><td> 2.73195</td></tr>\n",
       "</tbody>\n",
       "</table>\n"
      ],
      "text/latex": [
       "A tibble: 6 × 2951\n",
       "\\begin{tabular}{lllllllllllllllllllll}\n",
       " FID & IID & Sex & Age & GeneticArray & UKB\\_centre & protein\\_batch & Sample\\_age & PC\\_1 & PC\\_2 & ⋯ & ZFYVE19 & ZHX2 & ZNF174 & ZNF75D & ZNF830 & ZNRD2 & ZNRF4 & ZP3 & ZP4 & ZPR1\\\\\n",
       " <int> & <int> & <int> & <int> & <int> & <int> & <int> & <int> & <dbl> & <dbl> & ⋯ & <dbl> & <dbl> & <dbl> & <dbl> & <dbl> & <dbl> & <dbl> & <dbl> & <dbl> & <dbl>\\\\\n",
       "\\hline\n",
       "\t 1331483 & 1331483 & 1 & 54 & 1 & 11012 & 0 & 4612 & -11.1120 & 4.32787 & ⋯ &  0.4039 & -0.4125 & -0.09345 & -0.76265 & -0.24295 & -0.0419 & -0.07065 & -0.3355 & -0.18575 &  0.48245\\\\\n",
       "\t 1361634 & 1361634 & 1 & 44 & 1 & 11010 & 0 & 5076 & -13.6785 & 5.88845 & ⋯ &  0.0299 & -0.2598 &  0.18405 & -0.43495 &  3.28595 & -0.2007 &  0.54375 & -0.8688 &  0.28305 &  1.16465\\\\\n",
       "\t 1508802 & 1508802 & 0 & 54 & 1 & 11010 & 0 & 5076 & -12.9177 & 6.97354 & ⋯ & -0.8821 &  0.3132 &  0.03755 & -0.32695 &  0.25825 & -0.5867 & -0.70445 &  1.1548 & -0.33145 &  1.07485\\\\\n",
       "\t 1533247 & 1533247 & 1 & 58 & 1 & 11011 & 0 & 4982 & -11.5671 & 3.51090 & ⋯ & -1.6311 &  0.1698 & -0.05835 & -0.32865 &  0.17085 & -0.6857 & -1.00975 & -0.4541 & -0.01685 &  0.21385\\\\\n",
       "\t 1629003 & 1629003 & 0 & 61 & 1 & 11016 & 0 & 4575 & -12.5582 & 5.42726 & ⋯ & -0.1456 &  0.2485 &  0.85035 &  1.84065 &  0.18675 &  0.0550 & -0.64625 & -0.3087 & -0.38505 & -0.09005\\\\\n",
       "\t 1629466 & 1629466 & 0 & 58 & 1 & 11001 & 0 & 5342 & -13.1117 & 2.61686 & ⋯ & -0.8135 & -0.1235 & -0.71715 &  0.88495 &  0.41565 & -0.7310 & -0.02125 & -0.8497 & -0.01975 &  2.73195\\\\\n",
       "\\end{tabular}\n"
      ],
      "text/markdown": [
       "\n",
       "A tibble: 6 × 2951\n",
       "\n",
       "| FID &lt;int&gt; | IID &lt;int&gt; | Sex &lt;int&gt; | Age &lt;int&gt; | GeneticArray &lt;int&gt; | UKB_centre &lt;int&gt; | protein_batch &lt;int&gt; | Sample_age &lt;int&gt; | PC_1 &lt;dbl&gt; | PC_2 &lt;dbl&gt; | ⋯ ⋯ | ZFYVE19 &lt;dbl&gt; | ZHX2 &lt;dbl&gt; | ZNF174 &lt;dbl&gt; | ZNF75D &lt;dbl&gt; | ZNF830 &lt;dbl&gt; | ZNRD2 &lt;dbl&gt; | ZNRF4 &lt;dbl&gt; | ZP3 &lt;dbl&gt; | ZP4 &lt;dbl&gt; | ZPR1 &lt;dbl&gt; |\n",
       "|---|---|---|---|---|---|---|---|---|---|---|---|---|---|---|---|---|---|---|---|---|\n",
       "| 1331483 | 1331483 | 1 | 54 | 1 | 11012 | 0 | 4612 | -11.1120 | 4.32787 | ⋯ |  0.4039 | -0.4125 | -0.09345 | -0.76265 | -0.24295 | -0.0419 | -0.07065 | -0.3355 | -0.18575 |  0.48245 |\n",
       "| 1361634 | 1361634 | 1 | 44 | 1 | 11010 | 0 | 5076 | -13.6785 | 5.88845 | ⋯ |  0.0299 | -0.2598 |  0.18405 | -0.43495 |  3.28595 | -0.2007 |  0.54375 | -0.8688 |  0.28305 |  1.16465 |\n",
       "| 1508802 | 1508802 | 0 | 54 | 1 | 11010 | 0 | 5076 | -12.9177 | 6.97354 | ⋯ | -0.8821 |  0.3132 |  0.03755 | -0.32695 |  0.25825 | -0.5867 | -0.70445 |  1.1548 | -0.33145 |  1.07485 |\n",
       "| 1533247 | 1533247 | 1 | 58 | 1 | 11011 | 0 | 4982 | -11.5671 | 3.51090 | ⋯ | -1.6311 |  0.1698 | -0.05835 | -0.32865 |  0.17085 | -0.6857 | -1.00975 | -0.4541 | -0.01685 |  0.21385 |\n",
       "| 1629003 | 1629003 | 0 | 61 | 1 | 11016 | 0 | 4575 | -12.5582 | 5.42726 | ⋯ | -0.1456 |  0.2485 |  0.85035 |  1.84065 |  0.18675 |  0.0550 | -0.64625 | -0.3087 | -0.38505 | -0.09005 |\n",
       "| 1629466 | 1629466 | 0 | 58 | 1 | 11001 | 0 | 5342 | -13.1117 | 2.61686 | ⋯ | -0.8135 | -0.1235 | -0.71715 |  0.88495 |  0.41565 | -0.7310 | -0.02125 | -0.8497 | -0.01975 |  2.73195 |\n",
       "\n"
      ],
      "text/plain": [
       "  FID     IID     Sex Age GeneticArray UKB_centre protein_batch Sample_age PC_1     PC_2    ⋯ ZFYVE19 ZHX2    ZNF174   ZNF75D   ZNF830   ZNRD2   ZNRF4    ZP3     ZP4      ZPR1    \n",
       "1 1331483 1331483 1   54  1            11012      0             4612       -11.1120 4.32787 ⋯  0.4039 -0.4125 -0.09345 -0.76265 -0.24295 -0.0419 -0.07065 -0.3355 -0.18575  0.48245\n",
       "2 1361634 1361634 1   44  1            11010      0             5076       -13.6785 5.88845 ⋯  0.0299 -0.2598  0.18405 -0.43495  3.28595 -0.2007  0.54375 -0.8688  0.28305  1.16465\n",
       "3 1508802 1508802 0   54  1            11010      0             5076       -12.9177 6.97354 ⋯ -0.8821  0.3132  0.03755 -0.32695  0.25825 -0.5867 -0.70445  1.1548 -0.33145  1.07485\n",
       "4 1533247 1533247 1   58  1            11011      0             4982       -11.5671 3.51090 ⋯ -1.6311  0.1698 -0.05835 -0.32865  0.17085 -0.6857 -1.00975 -0.4541 -0.01685  0.21385\n",
       "5 1629003 1629003 0   61  1            11016      0             4575       -12.5582 5.42726 ⋯ -0.1456  0.2485  0.85035  1.84065  0.18675  0.0550 -0.64625 -0.3087 -0.38505 -0.09005\n",
       "6 1629466 1629466 0   58  1            11001      0             5342       -13.1117 2.61686 ⋯ -0.8135 -0.1235 -0.71715  0.88495  0.41565 -0.7310 -0.02125 -0.8497 -0.01975  2.73195"
      ]
     },
     "metadata": {},
     "output_type": "display_data"
    }
   ],
   "source": [
    "# unadjusted proteome file\n",
    "file <- \"/exports/cmvm/eddie/smgphs/groups/Quantgen/Users/vasilis/PHD/proteomics/Resource/Proteome/no_batch7/proteome_unadjusted.txt\"\n",
    "prot <- fread(file) %>% as_tibble\n",
    "# change \"-\" to \"_\" in some column names\n",
    "prot <- rename_with(prot, ~ gsub(\"-\", \"_\", .x))\n",
    "dim(prot)\n",
    "head(prot)"
   ]
  },
  {
   "cell_type": "markdown",
   "id": "1ae8ff67",
   "metadata": {},
   "source": [
    "#### Phenotypes "
   ]
  },
  {
   "cell_type": "code",
   "execution_count": 8,
   "id": "78396dbb",
   "metadata": {},
   "outputs": [
    {
     "data": {
      "text/html": [
       "407909"
      ],
      "text/latex": [
       "407909"
      ],
      "text/markdown": [
       "407909"
      ],
      "text/plain": [
       "[1] 407909"
      ]
     },
     "metadata": {},
     "output_type": "display_data"
    },
    {
     "data": {
      "text/plain": [
       ".\n",
       "     0      1 \n",
       "400386   7523 "
      ]
     },
     "metadata": {},
     "output_type": "display_data"
    }
   ],
   "source": [
    "# prelim pheno file\n",
    "file <- \"/exports/cmvm/eddie/smgphs/groups/Quantgen/Users/vasilis/PHD/proteomics/Resource/pheno/delirium.phe\"\n",
    "phe <- fread(file)\n",
    "phe %>% nrow\n",
    "phe %>% pull(delirium) %>% table"
   ]
  },
  {
   "cell_type": "code",
   "execution_count": 9,
   "id": "51443fea",
   "metadata": {},
   "outputs": [],
   "source": [
    "# apoe e4 count\n",
    "file = \"/exports/cmvm/eddie/smgphs/groups/Quantgen/Users/vasilis/PHD/ukb.delirium.gwas/pheno_covar_files/ukb_wb_del_cov_phe_dem_apoe.txt\"\n",
    "apoe <- fread(file, select = c(\"IID\", \"e4_count\"))\n",
    "phe  <- left_join(phe, apoe, by = \"IID\")"
   ]
  },
  {
   "cell_type": "code",
   "execution_count": 7,
   "id": "491d5180",
   "metadata": {},
   "outputs": [],
   "source": [
    "## dementia outcomes\n",
    "#file <- \"/exports/cmvm/eddie/smgphs/groups/Quantgen/Users/ukb_data/ukb44986/extra_data/dementia_outcomes.csv\"\n",
    "#dem  <- fread(file)\n",
    "## select only \"Date of all cause dementia report\"; field 42018\n",
    "#dem    <- dem %>% select(eid, `42018-0.0`) %>% filter(`42018-0.0` != \"1900-01-01\") %>% rename(\"dementia_date\" = `42018-0.0`)\n",
    "#phe    <- left_join(phe, dem, by = c(\"IID\"=\"eid\")) # merge with main dataset based on \"eid\""
   ]
  },
  {
   "cell_type": "code",
   "execution_count": 10,
   "id": "244303cf",
   "metadata": {},
   "outputs": [],
   "source": [
    "# BMI \n",
    "file <- \"/exports/cmvm/eddie/smgphs/groups/Quantgen/Users/ukb_data/ukb44986/extra_data/f21001.BMI.csv\"\n",
    "bmi  <- fread(file) %>% select(eid, `21001-0.0`) %>% rename(\"BMI\" = `21001-0.0`)\n",
    "phe  <- left_join(phe, bmi, by = c(\"IID\"=\"eid\"))"
   ]
  },
  {
   "cell_type": "markdown",
   "id": "e6c6b959",
   "metadata": {},
   "source": [
    "#### Metadata"
   ]
  },
  {
   "cell_type": "code",
   "execution_count": 11,
   "id": "a6b0922b",
   "metadata": {},
   "outputs": [],
   "source": [
    "# assay table \n",
    "file <- \"/exports/cmvm/eddie/smgphs/groups/Quantgen/Users/ukb_data/ukb44986/proteomics/olink_assay.dat\"\n",
    "assay <- fread(file)\n",
    "# replace \"-\" with \"_\" in assay (protein) names\n",
    "assay <- assay %>% mutate(Assay = gsub(\"-\", \"_\", Assay))"
   ]
  },
  {
   "cell_type": "code",
   "execution_count": 12,
   "id": "fa3b74cc",
   "metadata": {},
   "outputs": [],
   "source": [
    "# genomic positions table\n",
    "file <- \"/exports/cmvm/eddie/smgphs/groups/Quantgen/Users/vasilis/PHD/proteomics/Resource/Proteome/Sun_etal_sup/proteins_positions.txt\"\n",
    "pos  <- fread(file)"
   ]
  },
  {
   "cell_type": "code",
   "execution_count": 13,
   "id": "0cac9bee",
   "metadata": {},
   "outputs": [],
   "source": [
    "pos <-\n",
    "pos %>% \n",
    "    mutate(UniProt = gsub(\";.*\",\"\",UniProt)) %>%\n",
    "    mutate(Gene_CHROM = gsub(\";.*\",\"\",Gene_CHROM)) %>%\n",
    "    mutate(Gene_start = gsub(\";.*\",\"\",Gene_start))%>% \n",
    "    mutate(Gene_end = gsub(\";.*\",\"\",Gene_end)) %>%\n",
    "    filter(!duplicated(UniProt))\n"
   ]
  },
  {
   "cell_type": "markdown",
   "id": "82678bd4",
   "metadata": {},
   "source": [
    "### **Exclude withdrawls**"
   ]
  },
  {
   "cell_type": "code",
   "execution_count": 14,
   "id": "0108f0e1",
   "metadata": {},
   "outputs": [],
   "source": [
    "w_eids <- fread(\"/exports/cmvm/eddie/smgphs/groups/Quantgen/Users/ukb_data/ukb44986/withdraw44986_131_20231013.txt\")\n",
    "w_eids <- w_eids$V1\n",
    "phe    <- phe %>% filter(!(IID %in% w_eids))"
   ]
  },
  {
   "cell_type": "markdown",
   "id": "2a3e1225",
   "metadata": {},
   "source": [
    "### **Make delirium_incident cases outcome, if delirium case reported after 1 year of assessment:**"
   ]
  },
  {
   "cell_type": "code",
   "execution_count": 15,
   "id": "541f32a0",
   "metadata": {},
   "outputs": [
    {
     "data": {
      "text/plain": [
       ".\n",
       "    -1      0      1 \n",
       "    75 400386   7448 "
      ]
     },
     "metadata": {},
     "output_type": "display_data"
    },
    {
     "data": {
      "text/html": [
       "<table class=\"dataframe\">\n",
       "<caption>A data.table: 6 × 13</caption>\n",
       "<thead>\n",
       "\t<tr><th scope=col>FID</th><th scope=col>IID</th><th scope=col>sex</th><th scope=col>age</th><th scope=col>approx_dob</th><th scope=col>approx_AAA</th><th scope=col>age_death</th><th scope=col>delirium_date</th><th scope=col>censoring_date</th><th scope=col>delirium</th><th scope=col>e4_count</th><th scope=col>BMI</th><th scope=col>delirium_incident</th></tr>\n",
       "\t<tr><th scope=col>&lt;int&gt;</th><th scope=col>&lt;int&gt;</th><th scope=col>&lt;int&gt;</th><th scope=col>&lt;dbl&gt;</th><th scope=col>&lt;IDate&gt;</th><th scope=col>&lt;dbl&gt;</th><th scope=col>&lt;dbl&gt;</th><th scope=col>&lt;IDate&gt;</th><th scope=col>&lt;IDate&gt;</th><th scope=col>&lt;int&gt;</th><th scope=col>&lt;int&gt;</th><th scope=col>&lt;dbl&gt;</th><th scope=col>&lt;dbl&gt;</th></tr>\n",
       "</thead>\n",
       "<tbody>\n",
       "\t<tr><td>1000015</td><td>1000015</td><td>1</td><td>82.0</td><td>1940-11-15</td><td>67.44</td><td>NA</td><td>NA</td><td>2022-10-31</td><td>0</td><td>1</td><td>24.6832</td><td>0</td></tr>\n",
       "\t<tr><td>1000027</td><td>1000027</td><td>1</td><td>76.1</td><td>1946-09-15</td><td>61.85</td><td>NA</td><td>NA</td><td>2022-10-31</td><td>0</td><td>1</td><td>32.5577</td><td>0</td></tr>\n",
       "\t<tr><td>1000039</td><td>1000039</td><td>0</td><td>69.0</td><td>1953-10-15</td><td>55.14</td><td>NA</td><td>NA</td><td>2022-10-31</td><td>0</td><td>0</td><td>19.8903</td><td>0</td></tr>\n",
       "\t<tr><td>1000040</td><td>1000040</td><td>1</td><td>56.6</td><td>1966-03-15</td><td>42.47</td><td>NA</td><td>NA</td><td>2022-10-31</td><td>0</td><td>0</td><td>30.1242</td><td>0</td></tr>\n",
       "\t<tr><td>1000053</td><td>1000053</td><td>0</td><td>54.7</td><td>1968-02-15</td><td>41.04</td><td>NA</td><td>NA</td><td>2022-10-31</td><td>0</td><td>2</td><td>22.2860</td><td>0</td></tr>\n",
       "\t<tr><td>1000064</td><td>1000064</td><td>0</td><td>58.6</td><td>1964-03-15</td><td>46.49</td><td>NA</td><td>NA</td><td>2022-10-31</td><td>0</td><td>0</td><td>44.3343</td><td>0</td></tr>\n",
       "</tbody>\n",
       "</table>\n"
      ],
      "text/latex": [
       "A data.table: 6 × 13\n",
       "\\begin{tabular}{lllllllllllll}\n",
       " FID & IID & sex & age & approx\\_dob & approx\\_AAA & age\\_death & delirium\\_date & censoring\\_date & delirium & e4\\_count & BMI & delirium\\_incident\\\\\n",
       " <int> & <int> & <int> & <dbl> & <IDate> & <dbl> & <dbl> & <IDate> & <IDate> & <int> & <int> & <dbl> & <dbl>\\\\\n",
       "\\hline\n",
       "\t 1000015 & 1000015 & 1 & 82.0 & 1940-11-15 & 67.44 & NA & NA & 2022-10-31 & 0 & 1 & 24.6832 & 0\\\\\n",
       "\t 1000027 & 1000027 & 1 & 76.1 & 1946-09-15 & 61.85 & NA & NA & 2022-10-31 & 0 & 1 & 32.5577 & 0\\\\\n",
       "\t 1000039 & 1000039 & 0 & 69.0 & 1953-10-15 & 55.14 & NA & NA & 2022-10-31 & 0 & 0 & 19.8903 & 0\\\\\n",
       "\t 1000040 & 1000040 & 1 & 56.6 & 1966-03-15 & 42.47 & NA & NA & 2022-10-31 & 0 & 0 & 30.1242 & 0\\\\\n",
       "\t 1000053 & 1000053 & 0 & 54.7 & 1968-02-15 & 41.04 & NA & NA & 2022-10-31 & 0 & 2 & 22.2860 & 0\\\\\n",
       "\t 1000064 & 1000064 & 0 & 58.6 & 1964-03-15 & 46.49 & NA & NA & 2022-10-31 & 0 & 0 & 44.3343 & 0\\\\\n",
       "\\end{tabular}\n"
      ],
      "text/markdown": [
       "\n",
       "A data.table: 6 × 13\n",
       "\n",
       "| FID &lt;int&gt; | IID &lt;int&gt; | sex &lt;int&gt; | age &lt;dbl&gt; | approx_dob &lt;IDate&gt; | approx_AAA &lt;dbl&gt; | age_death &lt;dbl&gt; | delirium_date &lt;IDate&gt; | censoring_date &lt;IDate&gt; | delirium &lt;int&gt; | e4_count &lt;int&gt; | BMI &lt;dbl&gt; | delirium_incident &lt;dbl&gt; |\n",
       "|---|---|---|---|---|---|---|---|---|---|---|---|---|\n",
       "| 1000015 | 1000015 | 1 | 82.0 | 1940-11-15 | 67.44 | NA | NA | 2022-10-31 | 0 | 1 | 24.6832 | 0 |\n",
       "| 1000027 | 1000027 | 1 | 76.1 | 1946-09-15 | 61.85 | NA | NA | 2022-10-31 | 0 | 1 | 32.5577 | 0 |\n",
       "| 1000039 | 1000039 | 0 | 69.0 | 1953-10-15 | 55.14 | NA | NA | 2022-10-31 | 0 | 0 | 19.8903 | 0 |\n",
       "| 1000040 | 1000040 | 1 | 56.6 | 1966-03-15 | 42.47 | NA | NA | 2022-10-31 | 0 | 0 | 30.1242 | 0 |\n",
       "| 1000053 | 1000053 | 0 | 54.7 | 1968-02-15 | 41.04 | NA | NA | 2022-10-31 | 0 | 2 | 22.2860 | 0 |\n",
       "| 1000064 | 1000064 | 0 | 58.6 | 1964-03-15 | 46.49 | NA | NA | 2022-10-31 | 0 | 0 | 44.3343 | 0 |\n",
       "\n"
      ],
      "text/plain": [
       "  FID     IID     sex age  approx_dob approx_AAA age_death delirium_date censoring_date delirium e4_count BMI     delirium_incident\n",
       "1 1000015 1000015 1   82.0 1940-11-15 67.44      NA        <NA>          2022-10-31     0        1        24.6832 0                \n",
       "2 1000027 1000027 1   76.1 1946-09-15 61.85      NA        <NA>          2022-10-31     0        1        32.5577 0                \n",
       "3 1000039 1000039 0   69.0 1953-10-15 55.14      NA        <NA>          2022-10-31     0        0        19.8903 0                \n",
       "4 1000040 1000040 1   56.6 1966-03-15 42.47      NA        <NA>          2022-10-31     0        0        30.1242 0                \n",
       "5 1000053 1000053 0   54.7 1968-02-15 41.04      NA        <NA>          2022-10-31     0        2        22.2860 0                \n",
       "6 1000064 1000064 0   58.6 1964-03-15 46.49      NA        <NA>          2022-10-31     0        0        44.3343 0                "
      ]
     },
     "metadata": {},
     "output_type": "display_data"
    }
   ],
   "source": [
    "# incident delirium: 1\n",
    "# prevalent delirium: -1 (to be excluded)\n",
    "# control: 0\n",
    "\n",
    "phe <- \n",
    "phe %>% \n",
    "    mutate(delirium_incident = case_when((age >= approx_AAA+1 & delirium==1) ~  1, # incident case\n",
    "                                        (age < approx_AAA+1 & delirium==1) ~ -1,  # prevalent case\n",
    "                                        (delirium==0)~0, # control\n",
    "                                         TRUE ~ NA)) \n",
    "phe %>% pull(delirium_incident) %>% table(.,useNA = \"ifany\")\n",
    "head(phe)"
   ]
  },
  {
   "cell_type": "markdown",
   "id": "ca6a1d26",
   "metadata": {},
   "source": [
    "### Make dementia_prevalent covariate:"
   ]
  },
  {
   "cell_type": "code",
   "execution_count": null,
   "id": "bab741b3",
   "metadata": {},
   "outputs": [],
   "source": [
    "# dementia_prevalent: \n",
    "# 1 = dementia at assessment + 1 year burn in period after assessment (prevalent); \n",
    "# 0 = after delirium (incident) OR no delirium / dementia\n",
    "\n",
    "#phe2 <-\n",
    "#phe %>%\n",
    "    # dementia_age variable\n",
    "#    mutate(dementia_age = round(as.numeric(difftime(dementia_date, approx_dob, units=\"days\")) / 365.25, digits=1)) %>%\n",
    "    # dementia prior to assessment + 1 year\n",
    "#    mutate(dementia_prevalent = case_when(dementia_age <= approx_AAA+1  ~ 1, # prevalent\n",
    "#                                          dementia_age  > approx_AAA+1  ~ 0, # incident\n",
    "#                                          TRUE ~ 0)) \n",
    "\n",
    "\n",
    "# dementia prior to delirium (cases) / dementia any time (controls)\n",
    "#    mutate(dementia_prevalent2 = case_when((as.IDate(dementia_date) <= as.IDate(delirium_date)) ~ 1, # prevalent\n",
    "#                                           (as.IDate(dementia_date) >  as.IDate(delirium_date)) ~ 0, # incident\n",
    "#                                            !is.na(dementia_date) ~ 1, # controls with dementia\n",
    "#                                            is.na(dementia_date)  ~ 0, # controls without dementia\n",
    "#                                            TRUE ~ NA)) "
   ]
  },
  {
   "cell_type": "code",
   "execution_count": null,
   "id": "a8851ec0",
   "metadata": {},
   "outputs": [],
   "source": [
    "#library(lubridate)\n",
    "## adds / substracts dates \n",
    "#phe %>% mutate(a = as.Date(dementia_date) %m-% years(1)) %>% select(dementia_date, a) %>% filter(!is.na(dementia_date))\n"
   ]
  },
  {
   "cell_type": "code",
   "execution_count": 16,
   "id": "d24cdeca",
   "metadata": {},
   "outputs": [
    {
     "data": {
      "text/html": [
       "<style>\n",
       ".list-inline {list-style: none; margin:0; padding: 0}\n",
       ".list-inline>li {display: inline-block}\n",
       ".list-inline>li:not(:last-child)::after {content: \"\\00b7\"; padding: 0 .5ex}\n",
       "</style>\n",
       "<ol class=list-inline><li>407834</li><li>7</li></ol>\n"
      ],
      "text/latex": [
       "\\begin{enumerate*}\n",
       "\\item 407834\n",
       "\\item 7\n",
       "\\end{enumerate*}\n"
      ],
      "text/markdown": [
       "1. 407834\n",
       "2. 7\n",
       "\n",
       "\n"
      ],
      "text/plain": [
       "[1] 407834      7"
      ]
     },
     "metadata": {},
     "output_type": "display_data"
    },
    {
     "data": {
      "text/html": [
       "<table class=\"dataframe\">\n",
       "<caption>A data.table: 6 × 7</caption>\n",
       "<thead>\n",
       "\t<tr><th scope=col>IID</th><th scope=col>sex</th><th scope=col>age_at_collection</th><th scope=col>age</th><th scope=col>BMI</th><th scope=col>e4_count</th><th scope=col>delirium_incident</th></tr>\n",
       "\t<tr><th scope=col>&lt;int&gt;</th><th scope=col>&lt;int&gt;</th><th scope=col>&lt;dbl&gt;</th><th scope=col>&lt;dbl&gt;</th><th scope=col>&lt;dbl&gt;</th><th scope=col>&lt;int&gt;</th><th scope=col>&lt;dbl&gt;</th></tr>\n",
       "</thead>\n",
       "<tbody>\n",
       "\t<tr><td>1000015</td><td>1</td><td>67.44</td><td>82.0</td><td>24.6832</td><td>1</td><td>0</td></tr>\n",
       "\t<tr><td>1000027</td><td>1</td><td>61.85</td><td>76.1</td><td>32.5577</td><td>1</td><td>0</td></tr>\n",
       "\t<tr><td>1000039</td><td>0</td><td>55.14</td><td>69.0</td><td>19.8903</td><td>0</td><td>0</td></tr>\n",
       "\t<tr><td>1000040</td><td>1</td><td>42.47</td><td>56.6</td><td>30.1242</td><td>0</td><td>0</td></tr>\n",
       "\t<tr><td>1000053</td><td>0</td><td>41.04</td><td>54.7</td><td>22.2860</td><td>2</td><td>0</td></tr>\n",
       "\t<tr><td>1000064</td><td>0</td><td>46.49</td><td>58.6</td><td>44.3343</td><td>0</td><td>0</td></tr>\n",
       "</tbody>\n",
       "</table>\n"
      ],
      "text/latex": [
       "A data.table: 6 × 7\n",
       "\\begin{tabular}{lllllll}\n",
       " IID & sex & age\\_at\\_collection & age & BMI & e4\\_count & delirium\\_incident\\\\\n",
       " <int> & <int> & <dbl> & <dbl> & <dbl> & <int> & <dbl>\\\\\n",
       "\\hline\n",
       "\t 1000015 & 1 & 67.44 & 82.0 & 24.6832 & 1 & 0\\\\\n",
       "\t 1000027 & 1 & 61.85 & 76.1 & 32.5577 & 1 & 0\\\\\n",
       "\t 1000039 & 0 & 55.14 & 69.0 & 19.8903 & 0 & 0\\\\\n",
       "\t 1000040 & 1 & 42.47 & 56.6 & 30.1242 & 0 & 0\\\\\n",
       "\t 1000053 & 0 & 41.04 & 54.7 & 22.2860 & 2 & 0\\\\\n",
       "\t 1000064 & 0 & 46.49 & 58.6 & 44.3343 & 0 & 0\\\\\n",
       "\\end{tabular}\n"
      ],
      "text/markdown": [
       "\n",
       "A data.table: 6 × 7\n",
       "\n",
       "| IID &lt;int&gt; | sex &lt;int&gt; | age_at_collection &lt;dbl&gt; | age &lt;dbl&gt; | BMI &lt;dbl&gt; | e4_count &lt;int&gt; | delirium_incident &lt;dbl&gt; |\n",
       "|---|---|---|---|---|---|---|\n",
       "| 1000015 | 1 | 67.44 | 82.0 | 24.6832 | 1 | 0 |\n",
       "| 1000027 | 1 | 61.85 | 76.1 | 32.5577 | 1 | 0 |\n",
       "| 1000039 | 0 | 55.14 | 69.0 | 19.8903 | 0 | 0 |\n",
       "| 1000040 | 1 | 42.47 | 56.6 | 30.1242 | 0 | 0 |\n",
       "| 1000053 | 0 | 41.04 | 54.7 | 22.2860 | 2 | 0 |\n",
       "| 1000064 | 0 | 46.49 | 58.6 | 44.3343 | 0 | 0 |\n",
       "\n"
      ],
      "text/plain": [
       "  IID     sex age_at_collection age  BMI     e4_count delirium_incident\n",
       "1 1000015 1   67.44             82.0 24.6832 1        0                \n",
       "2 1000027 1   61.85             76.1 32.5577 1        0                \n",
       "3 1000039 0   55.14             69.0 19.8903 0        0                \n",
       "4 1000040 1   42.47             56.6 30.1242 0        0                \n",
       "5 1000053 0   41.04             54.7 22.2860 2        0                \n",
       "6 1000064 0   46.49             58.6 44.3343 0        0                "
      ]
     },
     "metadata": {},
     "output_type": "display_data"
    }
   ],
   "source": [
    "# clean pheno table\n",
    "phe2 <-\n",
    "#phe2 %>% \n",
    "phe %>%\n",
    "    filter(delirium_incident %in% c(0,1)) %>% # exclude prevalent delirium\n",
    "#    mutate(dementia_prevalent = as.factor(dementia_prevalent)) %>% \n",
    "    rename(age_at_collection = \"approx_AAA\") %>%\n",
    "#    select(IID,sex,age_at_collection,age,BMI,dementia_prevalent,delirium_incident)\n",
    "    select(IID,sex,age_at_collection,age,BMI,e4_count,delirium_incident)\n",
    "dim(phe2)\n",
    "head(phe2)"
   ]
  },
  {
   "cell_type": "markdown",
   "id": "10bfdf3d",
   "metadata": {},
   "source": [
    "### Statistics on missingness:"
   ]
  },
  {
   "cell_type": "code",
   "execution_count": 17,
   "id": "4590426a",
   "metadata": {},
   "outputs": [
    {
     "name": "stderr",
     "output_type": "stream",
     "text": [
      "Warning message:\n",
      "“\u001b[1m\u001b[22m`funs()` was deprecated in dplyr 0.8.0.\n",
      "\u001b[36mℹ\u001b[39m Please use a list of either functions or lambdas:\n",
      "\n",
      "# Simple named list: list(mean = mean, median = median)\n",
      "\n",
      "# Auto named with `tibble::lst()`: tibble::lst(mean, median)\n",
      "\n",
      "# Using lambdas list(~ mean(., trim = .2), ~ median(., na.rm = TRUE))”\n"
     ]
    },
    {
     "name": "stdout",
     "output_type": "stream",
     "text": [
      "[1] \"Individuals with > 80% nonmissing values: 32570 out of 32746\"\n",
      "[1] \"Proteins with > 80% nonmissing values: 2919 out of 2923\"\n"
     ]
    }
   ],
   "source": [
    "# statistics on missingness\n",
    "nmiss_id   <- prot[,-c(1:28)] %>% mutate(nmiss_id = rowSums(!is.na(.))/ncol(prot[,-c(1:28)]) ) %>% filter(nmiss_id>0.8) %>% nrow\n",
    "nmiss_prot <- prot[,-c(1:28)] %>% summarise_all(funs(sum(!is.na(.))/nrow(prot[,-c(1:28)]))) %>% t %>% as.vector %>% .[.>0.8] %>% length\n",
    "\n",
    "print(paste(\"Individuals with > 80% nonmissing values:\", nmiss_id, \"out of\", nrow(prot[,-c(1:28)])))\n",
    "print(paste(\"Proteins with > 80% nonmissing values:\", nmiss_prot, \"out of\", ncol(prot[,-c(1:28)])))"
   ]
  },
  {
   "cell_type": "markdown",
   "id": "3bde8f56",
   "metadata": {},
   "source": [
    "### **Merge phe + proteomics data:**"
   ]
  },
  {
   "cell_type": "code",
   "execution_count": 18,
   "id": "0e886b9f",
   "metadata": {},
   "outputs": [
    {
     "data": {
      "text/html": [
       "<style>\n",
       ".list-inline {list-style: none; margin:0; padding: 0}\n",
       ".list-inline>li {display: inline-block}\n",
       ".list-inline>li:not(:last-child)::after {content: \"\\00b7\"; padding: 0 .5ex}\n",
       "</style>\n",
       "<ol class=list-inline><li>32746</li><li>2951</li></ol>\n"
      ],
      "text/latex": [
       "\\begin{enumerate*}\n",
       "\\item 32746\n",
       "\\item 2951\n",
       "\\end{enumerate*}\n"
      ],
      "text/markdown": [
       "1. 32746\n",
       "2. 2951\n",
       "\n",
       "\n"
      ],
      "text/plain": [
       "[1] 32746  2951"
      ]
     },
     "metadata": {},
     "output_type": "display_data"
    },
    {
     "data": {
      "text/html": [
       "<style>\n",
       ".list-inline {list-style: none; margin:0; padding: 0}\n",
       ".list-inline>li {display: inline-block}\n",
       ".list-inline>li:not(:last-child)::after {content: \"\\00b7\"; padding: 0 .5ex}\n",
       "</style>\n",
       "<ol class=list-inline><li>32652</li><li>2954</li></ol>\n"
      ],
      "text/latex": [
       "\\begin{enumerate*}\n",
       "\\item 32652\n",
       "\\item 2954\n",
       "\\end{enumerate*}\n"
      ],
      "text/markdown": [
       "1. 32652\n",
       "2. 2954\n",
       "\n",
       "\n"
      ],
      "text/plain": [
       "[1] 32652  2954"
      ]
     },
     "metadata": {},
     "output_type": "display_data"
    },
    {
     "data": {
      "text/html": [
       "<table class=\"dataframe\">\n",
       "<caption>A data.table: 6 × 2954</caption>\n",
       "<thead>\n",
       "\t<tr><th scope=col>IID</th><th scope=col>sex</th><th scope=col>age_at_collection</th><th scope=col>age</th><th scope=col>BMI</th><th scope=col>e4_count</th><th scope=col>delirium_incident</th><th scope=col>GeneticArray</th><th scope=col>UKB_centre</th><th scope=col>protein_batch</th><th scope=col>⋯</th><th scope=col>ZFYVE19</th><th scope=col>ZHX2</th><th scope=col>ZNF174</th><th scope=col>ZNF75D</th><th scope=col>ZNF830</th><th scope=col>ZNRD2</th><th scope=col>ZNRF4</th><th scope=col>ZP3</th><th scope=col>ZP4</th><th scope=col>ZPR1</th></tr>\n",
       "\t<tr><th scope=col>&lt;int&gt;</th><th scope=col>&lt;int&gt;</th><th scope=col>&lt;dbl&gt;</th><th scope=col>&lt;dbl&gt;</th><th scope=col>&lt;dbl&gt;</th><th scope=col>&lt;int&gt;</th><th scope=col>&lt;dbl&gt;</th><th scope=col>&lt;int&gt;</th><th scope=col>&lt;int&gt;</th><th scope=col>&lt;int&gt;</th><th scope=col>⋯</th><th scope=col>&lt;dbl&gt;</th><th scope=col>&lt;dbl&gt;</th><th scope=col>&lt;dbl&gt;</th><th scope=col>&lt;dbl&gt;</th><th scope=col>&lt;dbl&gt;</th><th scope=col>&lt;dbl&gt;</th><th scope=col>&lt;dbl&gt;</th><th scope=col>&lt;dbl&gt;</th><th scope=col>&lt;dbl&gt;</th><th scope=col>&lt;dbl&gt;</th></tr>\n",
       "</thead>\n",
       "<tbody>\n",
       "\t<tr><td>1000071</td><td>0</td><td>59.17</td><td>74.3</td><td>27.3034</td><td>1</td><td>0</td><td>1</td><td>11004</td><td>3</td><td>⋯</td><td>-0.0404</td><td> 0.0709</td><td> 0.1207</td><td> 0.3909</td><td>-0.2911</td><td>-0.22785</td><td>-0.3313</td><td> 1.6562</td><td> 0.0000</td><td>-0.6093</td></tr>\n",
       "\t<tr><td>1000303</td><td>1</td><td>63.82</td><td>72.1</td><td>30.0092</td><td>0</td><td>0</td><td>0</td><td>11010</td><td>6</td><td>⋯</td><td> 1.8926</td><td>-0.0241</td><td> 0.5815</td><td>-0.1538</td><td>-0.2890</td><td> 0.84655</td><td> 0.1522</td><td> 0.6625</td><td> 0.3080</td><td>-0.2519</td></tr>\n",
       "\t<tr><td>1000629</td><td>0</td><td>54.93</td><td>67.6</td><td>25.6935</td><td>0</td><td>0</td><td>0</td><td>11021</td><td>3</td><td>⋯</td><td>-0.5778</td><td> 0.2080</td><td> 0.1028</td><td>-0.2671</td><td> 0.3807</td><td>-0.38695</td><td> 0.3052</td><td>-4.3959</td><td> 0.1463</td><td> 0.4644</td></tr>\n",
       "\t<tr><td>1000647</td><td>0</td><td>68.51</td><td>76.7</td><td>22.7918</td><td>0</td><td>0</td><td>1</td><td>11010</td><td>3</td><td>⋯</td><td>-0.8161</td><td> 0.0691</td><td>-0.0001</td><td> 0.0606</td><td> 0.6231</td><td>-0.37185</td><td>-0.5297</td><td> 0.8547</td><td>-0.0875</td><td> 1.9491</td></tr>\n",
       "\t<tr><td>1000757</td><td>0</td><td>57.94</td><td>72.2</td><td>25.6568</td><td>1</td><td>0</td><td>1</td><td>11011</td><td>2</td><td>⋯</td><td> 1.0404</td><td>-0.1653</td><td> 0.2392</td><td>-0.1405</td><td> 0.4756</td><td>-0.21525</td><td> 0.8643</td><td> 2.0385</td><td> 0.0294</td><td> 0.0417</td></tr>\n",
       "\t<tr><td>1000900</td><td>0</td><td>47.55</td><td>61.1</td><td>30.9234</td><td>0</td><td>0</td><td>1</td><td>11011</td><td>3</td><td>⋯</td><td> 0.2752</td><td> 0.1067</td><td>-0.1043</td><td>-0.1570</td><td> 0.5793</td><td>-0.18945</td><td>-0.3761</td><td> 0.1647</td><td>-0.2371</td><td>-0.6022</td></tr>\n",
       "</tbody>\n",
       "</table>\n"
      ],
      "text/latex": [
       "A data.table: 6 × 2954\n",
       "\\begin{tabular}{lllllllllllllllllllll}\n",
       " IID & sex & age\\_at\\_collection & age & BMI & e4\\_count & delirium\\_incident & GeneticArray & UKB\\_centre & protein\\_batch & ⋯ & ZFYVE19 & ZHX2 & ZNF174 & ZNF75D & ZNF830 & ZNRD2 & ZNRF4 & ZP3 & ZP4 & ZPR1\\\\\n",
       " <int> & <int> & <dbl> & <dbl> & <dbl> & <int> & <dbl> & <int> & <int> & <int> & ⋯ & <dbl> & <dbl> & <dbl> & <dbl> & <dbl> & <dbl> & <dbl> & <dbl> & <dbl> & <dbl>\\\\\n",
       "\\hline\n",
       "\t 1000071 & 0 & 59.17 & 74.3 & 27.3034 & 1 & 0 & 1 & 11004 & 3 & ⋯ & -0.0404 &  0.0709 &  0.1207 &  0.3909 & -0.2911 & -0.22785 & -0.3313 &  1.6562 &  0.0000 & -0.6093\\\\\n",
       "\t 1000303 & 1 & 63.82 & 72.1 & 30.0092 & 0 & 0 & 0 & 11010 & 6 & ⋯ &  1.8926 & -0.0241 &  0.5815 & -0.1538 & -0.2890 &  0.84655 &  0.1522 &  0.6625 &  0.3080 & -0.2519\\\\\n",
       "\t 1000629 & 0 & 54.93 & 67.6 & 25.6935 & 0 & 0 & 0 & 11021 & 3 & ⋯ & -0.5778 &  0.2080 &  0.1028 & -0.2671 &  0.3807 & -0.38695 &  0.3052 & -4.3959 &  0.1463 &  0.4644\\\\\n",
       "\t 1000647 & 0 & 68.51 & 76.7 & 22.7918 & 0 & 0 & 1 & 11010 & 3 & ⋯ & -0.8161 &  0.0691 & -0.0001 &  0.0606 &  0.6231 & -0.37185 & -0.5297 &  0.8547 & -0.0875 &  1.9491\\\\\n",
       "\t 1000757 & 0 & 57.94 & 72.2 & 25.6568 & 1 & 0 & 1 & 11011 & 2 & ⋯ &  1.0404 & -0.1653 &  0.2392 & -0.1405 &  0.4756 & -0.21525 &  0.8643 &  2.0385 &  0.0294 &  0.0417\\\\\n",
       "\t 1000900 & 0 & 47.55 & 61.1 & 30.9234 & 0 & 0 & 1 & 11011 & 3 & ⋯ &  0.2752 &  0.1067 & -0.1043 & -0.1570 &  0.5793 & -0.18945 & -0.3761 &  0.1647 & -0.2371 & -0.6022\\\\\n",
       "\\end{tabular}\n"
      ],
      "text/markdown": [
       "\n",
       "A data.table: 6 × 2954\n",
       "\n",
       "| IID &lt;int&gt; | sex &lt;int&gt; | age_at_collection &lt;dbl&gt; | age &lt;dbl&gt; | BMI &lt;dbl&gt; | e4_count &lt;int&gt; | delirium_incident &lt;dbl&gt; | GeneticArray &lt;int&gt; | UKB_centre &lt;int&gt; | protein_batch &lt;int&gt; | ⋯ ⋯ | ZFYVE19 &lt;dbl&gt; | ZHX2 &lt;dbl&gt; | ZNF174 &lt;dbl&gt; | ZNF75D &lt;dbl&gt; | ZNF830 &lt;dbl&gt; | ZNRD2 &lt;dbl&gt; | ZNRF4 &lt;dbl&gt; | ZP3 &lt;dbl&gt; | ZP4 &lt;dbl&gt; | ZPR1 &lt;dbl&gt; |\n",
       "|---|---|---|---|---|---|---|---|---|---|---|---|---|---|---|---|---|---|---|---|---|\n",
       "| 1000071 | 0 | 59.17 | 74.3 | 27.3034 | 1 | 0 | 1 | 11004 | 3 | ⋯ | -0.0404 |  0.0709 |  0.1207 |  0.3909 | -0.2911 | -0.22785 | -0.3313 |  1.6562 |  0.0000 | -0.6093 |\n",
       "| 1000303 | 1 | 63.82 | 72.1 | 30.0092 | 0 | 0 | 0 | 11010 | 6 | ⋯ |  1.8926 | -0.0241 |  0.5815 | -0.1538 | -0.2890 |  0.84655 |  0.1522 |  0.6625 |  0.3080 | -0.2519 |\n",
       "| 1000629 | 0 | 54.93 | 67.6 | 25.6935 | 0 | 0 | 0 | 11021 | 3 | ⋯ | -0.5778 |  0.2080 |  0.1028 | -0.2671 |  0.3807 | -0.38695 |  0.3052 | -4.3959 |  0.1463 |  0.4644 |\n",
       "| 1000647 | 0 | 68.51 | 76.7 | 22.7918 | 0 | 0 | 1 | 11010 | 3 | ⋯ | -0.8161 |  0.0691 | -0.0001 |  0.0606 |  0.6231 | -0.37185 | -0.5297 |  0.8547 | -0.0875 |  1.9491 |\n",
       "| 1000757 | 0 | 57.94 | 72.2 | 25.6568 | 1 | 0 | 1 | 11011 | 2 | ⋯ |  1.0404 | -0.1653 |  0.2392 | -0.1405 |  0.4756 | -0.21525 |  0.8643 |  2.0385 |  0.0294 |  0.0417 |\n",
       "| 1000900 | 0 | 47.55 | 61.1 | 30.9234 | 0 | 0 | 1 | 11011 | 3 | ⋯ |  0.2752 |  0.1067 | -0.1043 | -0.1570 |  0.5793 | -0.18945 | -0.3761 |  0.1647 | -0.2371 | -0.6022 |\n",
       "\n"
      ],
      "text/plain": [
       "  IID     sex age_at_collection age  BMI     e4_count delirium_incident GeneticArray UKB_centre protein_batch ⋯ ZFYVE19 ZHX2    ZNF174  ZNF75D  ZNF830  ZNRD2    ZNRF4   ZP3     ZP4     ZPR1   \n",
       "1 1000071 0   59.17             74.3 27.3034 1        0                 1            11004      3             ⋯ -0.0404  0.0709  0.1207  0.3909 -0.2911 -0.22785 -0.3313  1.6562  0.0000 -0.6093\n",
       "2 1000303 1   63.82             72.1 30.0092 0        0                 0            11010      6             ⋯  1.8926 -0.0241  0.5815 -0.1538 -0.2890  0.84655  0.1522  0.6625  0.3080 -0.2519\n",
       "3 1000629 0   54.93             67.6 25.6935 0        0                 0            11021      3             ⋯ -0.5778  0.2080  0.1028 -0.2671  0.3807 -0.38695  0.3052 -4.3959  0.1463  0.4644\n",
       "4 1000647 0   68.51             76.7 22.7918 0        0                 1            11010      3             ⋯ -0.8161  0.0691 -0.0001  0.0606  0.6231 -0.37185 -0.5297  0.8547 -0.0875  1.9491\n",
       "5 1000757 0   57.94             72.2 25.6568 1        0                 1            11011      2             ⋯  1.0404 -0.1653  0.2392 -0.1405  0.4756 -0.21525  0.8643  2.0385  0.0294  0.0417\n",
       "6 1000900 0   47.55             61.1 30.9234 0        0                 1            11011      3             ⋯  0.2752  0.1067 -0.1043 -0.1570  0.5793 -0.18945 -0.3761  0.1647 -0.2371 -0.6022"
      ]
     },
     "metadata": {},
     "output_type": "display_data"
    }
   ],
   "source": [
    "data <- inner_join(x=phe2, y=prot, by=\"IID\") %>% select(-c('Age', 'Sex', 'FID')) \n",
    "dim(prot)\n",
    "dim(data) # some missing from prot table: due to extra qc steps in extractF05.ipynb\n",
    "head(data)\n"
   ]
  },
  {
   "cell_type": "markdown",
   "id": "e2be6c27",
   "metadata": {},
   "source": [
    "### **QC proteins with high missingness (>20%)**"
   ]
  },
  {
   "cell_type": "code",
   "execution_count": 19,
   "id": "ba8cacc8",
   "metadata": {},
   "outputs": [
    {
     "name": "stdout",
     "output_type": "stream",
     "text": [
      "proteins with <80% non-missing rate to be excluded: CTSS GLIPR1 NPM1 PCOLCE"
     ]
    }
   ],
   "source": [
    "n_prot     <- nrow(data[,-c(1:31)]) # #of proteins\n",
    "prot_names <- names(data)[-c(1:31)] # protein names\n",
    "\n",
    "## find proteins with < 80% nonmissing values\n",
    "\n",
    "# produce table with % non-missing per protein\n",
    "nmiss_prot <- data %>% select(all_of(prot_names)) %>% summarise(across(everything(), ~ sum(!is.na(.)) / n_prot)) \n",
    "# protein names with < 80% nonmissing values\n",
    "low_nmiss_prot_names <-  names(nmiss_prot)[nmiss_prot <  0.8] \n",
    "cat(\"proteins with <80% non-missing rate to be excluded:\", low_nmiss_prot_names)\n",
    "\n",
    "# exlcude proteins with <80% non-missing rate\n",
    "data_qc <- data %>% select(-c(all_of(low_nmiss_prot_names)))"
   ]
  },
  {
   "cell_type": "markdown",
   "id": "ce61a6b4",
   "metadata": {},
   "source": [
    "### **Statistics on delirium phenotype:**"
   ]
  },
  {
   "cell_type": "code",
   "execution_count": 20,
   "id": "3a191ff1",
   "metadata": {},
   "outputs": [
    {
     "data": {
      "text/html": [
       "<table class=\"dataframe\">\n",
       "<caption>A tibble: 2 × 3</caption>\n",
       "<thead>\n",
       "\t<tr><th scope=col>delirium_incident</th><th scope=col>n</th><th scope=col>percent</th></tr>\n",
       "\t<tr><th scope=col>&lt;dbl&gt;</th><th scope=col>&lt;int&gt;</th><th scope=col>&lt;chr&gt;</th></tr>\n",
       "</thead>\n",
       "<tbody>\n",
       "\t<tr><td>0</td><td>32111</td><td>98.3</td></tr>\n",
       "\t<tr><td>1</td><td>  541</td><td> 1.7</td></tr>\n",
       "</tbody>\n",
       "</table>\n"
      ],
      "text/latex": [
       "A tibble: 2 × 3\n",
       "\\begin{tabular}{lll}\n",
       " delirium\\_incident & n & percent\\\\\n",
       " <dbl> & <int> & <chr>\\\\\n",
       "\\hline\n",
       "\t 0 & 32111 & 98.3\\\\\n",
       "\t 1 &   541 &  1.7\\\\\n",
       "\\end{tabular}\n"
      ],
      "text/markdown": [
       "\n",
       "A tibble: 2 × 3\n",
       "\n",
       "| delirium_incident &lt;dbl&gt; | n &lt;int&gt; | percent &lt;chr&gt; |\n",
       "|---|---|---|\n",
       "| 0 | 32111 | 98.3 |\n",
       "| 1 |   541 |  1.7 |\n",
       "\n"
      ],
      "text/plain": [
       "  delirium_incident n     percent\n",
       "1 0                 32111 98.3   \n",
       "2 1                   541  1.7   "
      ]
     },
     "metadata": {},
     "output_type": "display_data"
    }
   ],
   "source": [
    "## overall cases count\n",
    "data_qc %>% \n",
    "    group_by(delirium_incident) %>% \n",
    "#   group_by(delirium_incident, dementia_prevalent) \n",
    "    summarise(n=n()) %>% \n",
    "    mutate(percent = format(n/sum(n)*100,digits = 2))"
   ]
  },
  {
   "cell_type": "code",
   "execution_count": 21,
   "id": "a6c97c3d",
   "metadata": {},
   "outputs": [
    {
     "data": {
      "text/html": [
       "<table class=\"dataframe\">\n",
       "<caption>A tibble: 2 × 2921</caption>\n",
       "<thead>\n",
       "\t<tr><th scope=col>delirium_incident</th><th scope=col>PC_20</th><th scope=col>A1BG</th><th scope=col>AAMDC</th><th scope=col>AARSD1</th><th scope=col>ABCA2</th><th scope=col>ABHD14B</th><th scope=col>ABL1</th><th scope=col>ABO</th><th scope=col>ABRAXAS2</th><th scope=col>⋯</th><th scope=col>ZFYVE19</th><th scope=col>ZHX2</th><th scope=col>ZNF174</th><th scope=col>ZNF75D</th><th scope=col>ZNF830</th><th scope=col>ZNRD2</th><th scope=col>ZNRF4</th><th scope=col>ZP3</th><th scope=col>ZP4</th><th scope=col>ZPR1</th></tr>\n",
       "\t<tr><th scope=col>&lt;dbl&gt;</th><th scope=col>&lt;int&gt;</th><th scope=col>&lt;int&gt;</th><th scope=col>&lt;int&gt;</th><th scope=col>&lt;int&gt;</th><th scope=col>&lt;int&gt;</th><th scope=col>&lt;int&gt;</th><th scope=col>&lt;int&gt;</th><th scope=col>&lt;int&gt;</th><th scope=col>&lt;int&gt;</th><th scope=col>⋯</th><th scope=col>&lt;int&gt;</th><th scope=col>&lt;int&gt;</th><th scope=col>&lt;int&gt;</th><th scope=col>&lt;int&gt;</th><th scope=col>&lt;int&gt;</th><th scope=col>&lt;int&gt;</th><th scope=col>&lt;int&gt;</th><th scope=col>&lt;int&gt;</th><th scope=col>&lt;int&gt;</th><th scope=col>&lt;int&gt;</th></tr>\n",
       "</thead>\n",
       "<tbody>\n",
       "\t<tr><td>0</td><td>32111</td><td>32111</td><td>32111</td><td>31945</td><td>32111</td><td>31831</td><td>31945</td><td>32111</td><td>32111</td><td>⋯</td><td>32111</td><td>32111</td><td>32111</td><td>32111</td><td>32111</td><td>32111</td><td>32111</td><td>32111</td><td>32111</td><td>32111</td></tr>\n",
       "\t<tr><td>1</td><td>  541</td><td>  541</td><td>  541</td><td>  533</td><td>  541</td><td>  531</td><td>  533</td><td>  541</td><td>  541</td><td>⋯</td><td>  541</td><td>  541</td><td>  541</td><td>  541</td><td>  541</td><td>  541</td><td>  541</td><td>  541</td><td>  541</td><td>  541</td></tr>\n",
       "</tbody>\n",
       "</table>\n"
      ],
      "text/latex": [
       "A tibble: 2 × 2921\n",
       "\\begin{tabular}{lllllllllllllllllllll}\n",
       " delirium\\_incident & PC\\_20 & A1BG & AAMDC & AARSD1 & ABCA2 & ABHD14B & ABL1 & ABO & ABRAXAS2 & ⋯ & ZFYVE19 & ZHX2 & ZNF174 & ZNF75D & ZNF830 & ZNRD2 & ZNRF4 & ZP3 & ZP4 & ZPR1\\\\\n",
       " <dbl> & <int> & <int> & <int> & <int> & <int> & <int> & <int> & <int> & <int> & ⋯ & <int> & <int> & <int> & <int> & <int> & <int> & <int> & <int> & <int> & <int>\\\\\n",
       "\\hline\n",
       "\t 0 & 32111 & 32111 & 32111 & 31945 & 32111 & 31831 & 31945 & 32111 & 32111 & ⋯ & 32111 & 32111 & 32111 & 32111 & 32111 & 32111 & 32111 & 32111 & 32111 & 32111\\\\\n",
       "\t 1 &   541 &   541 &   541 &   533 &   541 &   531 &   533 &   541 &   541 & ⋯ &   541 &   541 &   541 &   541 &   541 &   541 &   541 &   541 &   541 &   541\\\\\n",
       "\\end{tabular}\n"
      ],
      "text/markdown": [
       "\n",
       "A tibble: 2 × 2921\n",
       "\n",
       "| delirium_incident &lt;dbl&gt; | PC_20 &lt;int&gt; | A1BG &lt;int&gt; | AAMDC &lt;int&gt; | AARSD1 &lt;int&gt; | ABCA2 &lt;int&gt; | ABHD14B &lt;int&gt; | ABL1 &lt;int&gt; | ABO &lt;int&gt; | ABRAXAS2 &lt;int&gt; | ⋯ ⋯ | ZFYVE19 &lt;int&gt; | ZHX2 &lt;int&gt; | ZNF174 &lt;int&gt; | ZNF75D &lt;int&gt; | ZNF830 &lt;int&gt; | ZNRD2 &lt;int&gt; | ZNRF4 &lt;int&gt; | ZP3 &lt;int&gt; | ZP4 &lt;int&gt; | ZPR1 &lt;int&gt; |\n",
       "|---|---|---|---|---|---|---|---|---|---|---|---|---|---|---|---|---|---|---|---|---|\n",
       "| 0 | 32111 | 32111 | 32111 | 31945 | 32111 | 31831 | 31945 | 32111 | 32111 | ⋯ | 32111 | 32111 | 32111 | 32111 | 32111 | 32111 | 32111 | 32111 | 32111 | 32111 |\n",
       "| 1 |   541 |   541 |   541 |   533 |   541 |   531 |   533 |   541 |   541 | ⋯ |   541 |   541 |   541 |   541 |   541 |   541 |   541 |   541 |   541 |   541 |\n",
       "\n"
      ],
      "text/plain": [
       "  delirium_incident PC_20 A1BG  AAMDC AARSD1 ABCA2 ABHD14B ABL1  ABO   ABRAXAS2 ⋯ ZFYVE19 ZHX2  ZNF174 ZNF75D ZNF830 ZNRD2 ZNRF4 ZP3   ZP4   ZPR1 \n",
       "1 0                 32111 32111 32111 31945  32111 31831   31945 32111 32111    ⋯ 32111   32111 32111  32111  32111  32111 32111 32111 32111 32111\n",
       "2 1                   541   541   541   533    541   531     533   541   541    ⋯   541     541   541    541    541    541   541   541   541   541"
      ]
     },
     "metadata": {},
     "output_type": "display_data"
    },
    {
     "name": "stdout",
     "output_type": "stream",
     "text": [
      "[1] \"No. of delirium cases summary:\"\n"
     ]
    },
    {
     "data": {
      "text/plain": [
       "   Min. 1st Qu.  Median    Mean 3rd Qu.    Max. \n",
       "  466.0   532.0   533.0   535.5   541.0   541.0 "
      ]
     },
     "metadata": {},
     "output_type": "display_data"
    },
    {
     "data": {
      "image/png": "[encoded data removed]",
      "text/plain": [
       "Plot with title “Histogram of .”"
      ]
     },
     "metadata": {
      "image/png": {
       "height": 420,
       "width": 420
      }
     },
     "output_type": "display_data"
    }
   ],
   "source": [
    "## per protein cases count \n",
    "# make table with ncases / ncontrols per protein - will use later\n",
    "del_per_prot <- data_qc[,-c(1:6,8:30)] %>% group_by(delirium_incident) %>% summarise(across(where(is.numeric), ~ sum(!is.na(.))))\n",
    "del_per_prot\n",
    "# hist\n",
    "del_per_prot[2,-1] %>% t %>% hist(.,breaks=50)\n",
    "# summary\n",
    "print(\"No. of delirium cases summary:\")\n",
    "del_per_prot[,-1] %>% t %>% .[,2] %>% summary"
   ]
  },
  {
   "cell_type": "markdown",
   "id": "be07383a",
   "metadata": {},
   "source": [
    "### Exclude proteins with <150 delirium cases:"
   ]
  },
  {
   "cell_type": "code",
   "execution_count": 22,
   "id": "7771271e",
   "metadata": {},
   "outputs": [
    {
     "name": "stdout",
     "output_type": "stream",
     "text": [
      "Proteins to be excluded:\n"
     ]
    }
   ],
   "source": [
    "# transpose del_per_prot table & filter proteins with < 150 cases\n",
    "prot_names_low_cases <-\n",
    "    tibble(prot = colnames(del_per_prot[,-1]), \n",
    "           n_cases = as.numeric(del_per_prot[2,-1]), \n",
    "           n_controls = as.numeric(del_per_prot[1,-1])) %>%\n",
    "    filter(n_cases < 150) %>% pull(prot)\n",
    "\n",
    "cat(paste0(\"Proteins to be excluded:\", \"\\n\", paste(prot_names_low_cases, collapse = \"\\n\")))\n",
    "\n",
    "# filter out proteins to be excluded\n",
    "data_qc <- data_qc %>% select(!any_of(prot_names_low_cases))"
   ]
  },
  {
   "cell_type": "markdown",
   "id": "6f6641d0",
   "metadata": {},
   "source": [
    "### **Inverse-rank normalisation of proteins:**"
   ]
  },
  {
   "cell_type": "code",
   "execution_count": 23,
   "id": "35e49b74",
   "metadata": {},
   "outputs": [],
   "source": [
    "# protein names\n",
    "prot_names <- names(data_qc)[32:ncol(data_qc)]  # skip all covariates (check first)\n",
    "\n",
    "# i.r.n.t. for every protein in prot_names\n",
    "# data_int <-\n",
    "data_qc <- \n",
    "data_qc %>% mutate(across(all_of(prot_names), ~ (qnorm((rank(.,na.last=\"keep\")-0.5)/sum(!is.na(.))))))"
   ]
  },
  {
   "cell_type": "code",
   "execution_count": null,
   "id": "d5a024d8",
   "metadata": {},
   "outputs": [],
   "source": [
    "#test irnt\n",
    "#a <- data_int %>% pull(ABHD14B) \n",
    "#b <- data %>% mutate(ABHD14B = qnorm((rank(ABHD14B,na.last=\"keep\")-0.5)/sum(!is.na(ABHD14B))) ) %>% pull(ABHD14B)\n",
    "#data.frame(a,b) %>% filter(is.na(a))\n",
    "#all(a==b,na.rm = T)"
   ]
  },
  {
   "cell_type": "markdown",
   "id": "ec459fde",
   "metadata": {},
   "source": [
    "### **Check significant covariates:**"
   ]
  },
  {
   "cell_type": "code",
   "execution_count": 22,
   "id": "911f260e",
   "metadata": {},
   "outputs": [
    {
     "name": "stdout",
     "output_type": "stream",
     "text": [
      "delirium_incident ~ sex + age_at_collection + BMI + GeneticArray + \n",
      "    UKB_centre + protein_batch + Sample_age + e4_count\n"
     ]
    },
    {
     "name": "stderr",
     "output_type": "stream",
     "text": [
      "Warning message:\n",
      "“glm.fit: fitted probabilities numerically 0 or 1 occurred”\n"
     ]
    },
    {
     "data": {
      "text/plain": [
       "\n",
       "Call:\n",
       "glm(formula = formula0, family = \"binomial\", data = data_qc)\n",
       "\n",
       "Coefficients:\n",
       "                    Estimate Std. Error z value Pr(>|z|)    \n",
       "(Intercept)       -5.222e+02  2.039e+02  -2.561 0.010432 *  \n",
       "sex                3.674e-01  8.858e-02   4.148 3.35e-05 ***\n",
       "age_at_collection  1.732e-01  9.312e-03  18.603  < 2e-16 ***\n",
       "BMI                4.563e-02  8.986e-03   5.078 3.82e-07 ***\n",
       "GeneticArray       3.338e-02  1.409e-01   0.237 0.812779    \n",
       "UKB_centre         4.543e-02  1.839e-02   2.471 0.013490 *  \n",
       "protein_batch     -5.684e-02  3.120e-02  -1.822 0.068444 .  \n",
       "Sample_age         1.191e-03  3.333e-04   3.574 0.000351 ***\n",
       "e4_count           4.210e-01  7.776e-02   5.414 6.16e-08 ***\n",
       "---\n",
       "Signif. codes:  0 ‘***’ 0.001 ‘**’ 0.01 ‘*’ 0.05 ‘.’ 0.1 ‘ ’ 1\n",
       "\n",
       "(Dispersion parameter for binomial family taken to be 1)\n",
       "\n",
       "    Null deviance: 5509.1  on 32641  degrees of freedom\n",
       "Residual deviance: 4880.9  on 32633  degrees of freedom\n",
       "  (10 observations deleted due to missingness)\n",
       "AIC: 4898.9\n",
       "\n",
       "Number of Fisher Scoring iterations: 8\n"
      ]
     },
     "metadata": {},
     "output_type": "display_data"
    }
   ],
   "source": [
    "PC1to20   <- paste0(\"PC_\", seq(1,20), collapse=\" + \")\n",
    "formula0  <- \n",
    "as.formula(\n",
    "    paste(\n",
    "    \"delirium_incident ~ sex + age_at_collection + BMI + GeneticArray + UKB_centre + protein_batch + Sample_age + e4_count\",\n",
    "    #PC1to20,\n",
    "    sep=\" + \"))\n",
    "print(formula0)\n",
    "mod0 <- glm(formula = formula0, data = data_qc, family=\"binomial\")\n",
    "summary(mod0)\n",
    "## keep sex, age_at_collection, BMI  "
   ]
  },
  {
   "cell_type": "markdown",
   "id": "41f4ca70",
   "metadata": {},
   "source": [
    "### **Export clean data table (no extra covariates):**"
   ]
  },
  {
   "cell_type": "code",
   "execution_count": 66,
   "id": "e93b5377",
   "metadata": {},
   "outputs": [],
   "source": [
    "data_clean <- data_qc %>% select(c(\"IID\",\"delirium_incident\",\"sex\",\"age_at_collection\",\"BMI\",\"age\",\"e4_count\"),names(data_qc)[32:ncol(data_qc)])\n",
    "file <- \"/exports/cmvm/eddie/smgphs/groups/Quantgen/Users/vasilis/PHD/proteomics/delirium/data/data_int_clean.csv\"\n",
    "write.table(data_clean, file=file, sep = \",\", row.names = F, col.names = T, quote = T)"
   ]
  },
  {
   "cell_type": "code",
   "execution_count": 4,
   "id": "c7a2dcd2",
   "metadata": {},
   "outputs": [],
   "source": [
    "## LOAD CLEAD DATA\n",
    "file    <- \"/exports/cmvm/eddie/smgphs/groups/Quantgen/Users/vasilis/PHD/proteomics/delirium/data/data_int_clean.csv\"\n",
    "data_qc <- fread(file)\n"
   ]
  },
  {
   "cell_type": "markdown",
   "id": "73356182",
   "metadata": {},
   "source": [
    "### **Logistic Regression on full set:**"
   ]
  },
  {
   "cell_type": "markdown",
   "id": "3bafe74d",
   "metadata": {},
   "source": [
    "#### **APOE-e4 x protein interaction**"
   ]
  },
  {
   "cell_type": "code",
   "execution_count": 50,
   "id": "74ac38b6",
   "metadata": {},
   "outputs": [
    {
     "name": "stdout",
     "output_type": "stream",
     "text": [
      "========================================================================================================================================================================================================"
     ]
    }
   ],
   "source": [
    "# real\n",
    "# get protein names\n",
    "prot_names <- names(data_qc)[32:ncol(data_qc)]  # skip all covariates (check first)\n",
    "# create empty output sumstats table\n",
    "prot_sumstats <- data.frame(PROTEIN=numeric(), \n",
    "                            BETA=numeric(), \n",
    "                            STDERR=numeric(), \n",
    "                            PVALUE=numeric(), \n",
    "                            PROTxE4=numeric(),\n",
    "                            PROTxE4_STDERR=numeric(),\n",
    "                            PROTxE4_PVALUE=numeric(),\n",
    "                            NCASES=numeric(), \n",
    "                            NCONTROLS=numeric()\n",
    "                           )\n",
    "# progress bar\n",
    "pb = txtProgressBar(min = 0, max = length(prot_names), initial = 0) \n",
    "\n",
    "# run model: \"incident delirium ~ covariates + protein\" for each protein in prot_names\n",
    "for (i in 1:length(prot_names)) {\n",
    "    #print(paste0(\"analyzing protein \", prot_names[i], \" ...\"))\n",
    "    ## create formula string\n",
    "    formula_i  <- as.formula(\n",
    "        paste(\n",
    "            \"delirium_incident ~ sex + age_at_collection + BMI + e4_count*\", prot_names[i]))\n",
    "    ## logistic reg model: delirium ~ coviates + protein_i\n",
    "    mod_i   <- glm(formula = formula_i, data = data_qc, family=\"binomial\",) %>% suppressWarnings()\n",
    "    ## extract coefficients: beta; std error; p-value\n",
    "    coefs_i <- summary(mod_i)$coefficients[prot_names[i],c(\"Estimate\",\"Std. Error\",\"Pr(>|z|)\")] \n",
    "    ## append coefs in output sumstats table\n",
    "    prot_sumstats[i,c(\"BETA\",\"STDERR\",\"PVALUE\")] <- coefs_i\n",
    "    ## append protein_i name in output sumstats table\n",
    "    prot_sumstats[i,\"PROTEIN\"] <- prot_names[i]\n",
    "    ## append e4 interaction sumstats\n",
    "    prot_x_e4_i       <- paste0(\"e4_count:\", prot_names[i])\n",
    "    prot_x_e4_coefs_i <- summary(mod_i)$coefficients[prot_x_e4_i,c(\"Estimate\",\"Std. Error\",\"Pr(>|z|)\")]\n",
    "    prot_sumstats[i,c(\"PROTxE4\",\"PROTxE4_STDERR\",\"PROTxE4_PVALUE\")] <- prot_x_e4_coefs_i\n",
    "    ## append protein_i no. of cases + controls (using del_per_prot_train table)\n",
    "    ncases    <- del_per_prot[2,prot_names[i]] # 2nd row: cases\n",
    "    ncontrols <- del_per_prot[1,prot_names[i]] # 1st row: cases\n",
    "    prot_sumstats[i,c(\"NCASES\",\"NCONTROLS\")] <- c(ncases, ncontrols)\n",
    "    #print(\"Done\")\n",
    "    setTxtProgressBar(pb,i)\n",
    "    #cat(paste0(\"\\rAnalysed \", i, \" out of \",  length(prot_names), \" proteins (\", round((i / length(prot_names)*100),2), \"%) ...\"))\n",
    "}\n"
   ]
  },
  {
   "cell_type": "code",
   "execution_count": 51,
   "id": "50098b4a",
   "metadata": {},
   "outputs": [],
   "source": [
    "prot_sumstats_annot <- inner_join(x=prot_sumstats, y=assay, by=c(\"PROTEIN\"=\"Assay\")) \n",
    "# make UniProt var to merge \n",
    "prot_sumstats_annot <- prot_sumstats_annot %>% mutate(UniProt2 = gsub(\"-.*\",\"\", UniProt)) %>% mutate(UniProt2 = gsub(\"_.*\",\"\", UniProt2))\n",
    "\n",
    "prot_sumstats_annot_pos <- \n",
    "left_join(x=prot_sumstats_annot, y=pos[,-c(\"Assay_Target\",\"Gene_symbol\")], by=c(\"UniProt2\"=\"UniProt\")) %>% \n",
    "    mutate(Gene_CHROM = gsub(\"X\",\"23\",Gene_CHROM)) %>%\n",
    "    mutate(Gene_CHROM = as.numeric(Gene_CHROM)) %>%\n",
    "    mutate(Gene_start = as.numeric(Gene_start)) %>%\n",
    "    mutate(Gene_end = as.numeric(Gene_end)) %>%\n",
    "    arrange(Gene_CHROM, Gene_start)\n"
   ]
  },
  {
   "cell_type": "code",
   "execution_count": 56,
   "id": "16caafd9",
   "metadata": {},
   "outputs": [
    {
     "data": {
      "text/html": [
       "<style>\n",
       ".list-inline {list-style: none; margin:0; padding: 0}\n",
       ".list-inline>li {display: inline-block}\n",
       ".list-inline>li:not(:last-child)::after {content: \"\\00b7\"; padding: 0 .5ex}\n",
       "</style>\n",
       "<ol class=list-inline><li>2919</li><li>15</li></ol>\n"
      ],
      "text/latex": [
       "\\begin{enumerate*}\n",
       "\\item 2919\n",
       "\\item 15\n",
       "\\end{enumerate*}\n"
      ],
      "text/markdown": [
       "1. 2919\n",
       "2. 15\n",
       "\n",
       "\n"
      ],
      "text/plain": [
       "[1] 2919   15"
      ]
     },
     "metadata": {},
     "output_type": "display_data"
    },
    {
     "data": {
      "text/html": [
       "39"
      ],
      "text/latex": [
       "39"
      ],
      "text/markdown": [
       "39"
      ],
      "text/plain": [
       "[1] 39"
      ]
     },
     "metadata": {},
     "output_type": "display_data"
    },
    {
     "data": {
      "text/html": [
       "<table class=\"dataframe\">\n",
       "<caption>A data.frame: 6 × 15</caption>\n",
       "<thead>\n",
       "\t<tr><th></th><th scope=col>PROTEIN</th><th scope=col>BETA</th><th scope=col>STDERR</th><th scope=col>PVALUE</th><th scope=col>PROTxE4</th><th scope=col>PROTxE4_STDERR</th><th scope=col>PROTxE4_PVALUE</th><th scope=col>NCASES</th><th scope=col>NCONTROLS</th><th scope=col>UniProt</th><th scope=col>Panel</th><th scope=col>UniProt2</th><th scope=col>Gene_CHROM</th><th scope=col>Gene_start</th><th scope=col>Gene_end</th></tr>\n",
       "\t<tr><th></th><th scope=col>&lt;chr&gt;</th><th scope=col>&lt;dbl&gt;</th><th scope=col>&lt;dbl&gt;</th><th scope=col>&lt;dbl&gt;</th><th scope=col>&lt;dbl&gt;</th><th scope=col>&lt;dbl&gt;</th><th scope=col>&lt;dbl&gt;</th><th scope=col>&lt;dbl&gt;</th><th scope=col>&lt;dbl&gt;</th><th scope=col>&lt;chr&gt;</th><th scope=col>&lt;chr&gt;</th><th scope=col>&lt;chr&gt;</th><th scope=col>&lt;dbl&gt;</th><th scope=col>&lt;dbl&gt;</th><th scope=col>&lt;dbl&gt;</th></tr>\n",
       "</thead>\n",
       "<tbody>\n",
       "\t<tr><th scope=row>1</th><td>GDF15</td><td>0.4423138</td><td>0.06574961</td><td>1.729034e-11</td><td> 0.0170975958</td><td>0.08780006</td><td>0.8456017</td><td>532</td><td>31884</td><td>Q99988</td><td>Cardiometabolic</td><td>Q99988</td><td>19</td><td>18374731</td><td>18389176</td></tr>\n",
       "\t<tr><th scope=row>2</th><td>AREG </td><td>0.3627137</td><td>0.05944031</td><td>1.046507e-09</td><td>-0.0002928142</td><td>0.08522372</td><td>0.9972586</td><td>533</td><td>31945</td><td>P15514</td><td>Oncology       </td><td>P15514</td><td> 4</td><td>74445136</td><td>74455005</td></tr>\n",
       "\t<tr><th scope=row>3</th><td>WFDC2</td><td>0.3716657</td><td>0.06143184</td><td>1.448009e-09</td><td> 0.0987329458</td><td>0.08681397</td><td>0.2554157</td><td>513</td><td>30513</td><td>Q14508</td><td>Oncology       </td><td>Q14508</td><td>20</td><td>45469753</td><td>45481532</td></tr>\n",
       "\t<tr><th scope=row>4</th><td>IL6  </td><td>0.3412059</td><td>0.05893360</td><td>7.052633e-09</td><td>-0.0064074146</td><td>0.08030888</td><td>0.9364085</td><td>533</td><td>31945</td><td>P05231</td><td>Oncology       </td><td>P05231</td><td> 7</td><td>22725884</td><td>22732002</td></tr>\n",
       "\t<tr><th scope=row>5</th><td>TFF3 </td><td>0.3444147</td><td>0.06101244</td><td>1.651901e-08</td><td>-0.0550779872</td><td>0.08438667</td><td>0.5139588</td><td>527</td><td>31636</td><td>Q07654</td><td>Cardiometabolic</td><td>Q07654</td><td>21</td><td>42311667</td><td>42315409</td></tr>\n",
       "\t<tr><th scope=row>6</th><td>PLAUR</td><td>0.3223726</td><td>0.05834944</td><td>3.297437e-08</td><td> 0.0303127498</td><td>0.08344665</td><td>0.7164114</td><td>520</td><td>31512</td><td>Q03405</td><td>Inflammation   </td><td>Q03405</td><td>19</td><td>43646095</td><td>43670547</td></tr>\n",
       "</tbody>\n",
       "</table>\n"
      ],
      "text/latex": [
       "A data.frame: 6 × 15\n",
       "\\begin{tabular}{r|lllllllllllllll}\n",
       "  & PROTEIN & BETA & STDERR & PVALUE & PROTxE4 & PROTxE4\\_STDERR & PROTxE4\\_PVALUE & NCASES & NCONTROLS & UniProt & Panel & UniProt2 & Gene\\_CHROM & Gene\\_start & Gene\\_end\\\\\n",
       "  & <chr> & <dbl> & <dbl> & <dbl> & <dbl> & <dbl> & <dbl> & <dbl> & <dbl> & <chr> & <chr> & <chr> & <dbl> & <dbl> & <dbl>\\\\\n",
       "\\hline\n",
       "\t1 & GDF15 & 0.4423138 & 0.06574961 & 1.729034e-11 &  0.0170975958 & 0.08780006 & 0.8456017 & 532 & 31884 & Q99988 & Cardiometabolic & Q99988 & 19 & 18374731 & 18389176\\\\\n",
       "\t2 & AREG  & 0.3627137 & 0.05944031 & 1.046507e-09 & -0.0002928142 & 0.08522372 & 0.9972586 & 533 & 31945 & P15514 & Oncology        & P15514 &  4 & 74445136 & 74455005\\\\\n",
       "\t3 & WFDC2 & 0.3716657 & 0.06143184 & 1.448009e-09 &  0.0987329458 & 0.08681397 & 0.2554157 & 513 & 30513 & Q14508 & Oncology        & Q14508 & 20 & 45469753 & 45481532\\\\\n",
       "\t4 & IL6   & 0.3412059 & 0.05893360 & 7.052633e-09 & -0.0064074146 & 0.08030888 & 0.9364085 & 533 & 31945 & P05231 & Oncology        & P05231 &  7 & 22725884 & 22732002\\\\\n",
       "\t5 & TFF3  & 0.3444147 & 0.06101244 & 1.651901e-08 & -0.0550779872 & 0.08438667 & 0.5139588 & 527 & 31636 & Q07654 & Cardiometabolic & Q07654 & 21 & 42311667 & 42315409\\\\\n",
       "\t6 & PLAUR & 0.3223726 & 0.05834944 & 3.297437e-08 &  0.0303127498 & 0.08344665 & 0.7164114 & 520 & 31512 & Q03405 & Inflammation    & Q03405 & 19 & 43646095 & 43670547\\\\\n",
       "\\end{tabular}\n"
      ],
      "text/markdown": [
       "\n",
       "A data.frame: 6 × 15\n",
       "\n",
       "| <!--/--> | PROTEIN &lt;chr&gt; | BETA &lt;dbl&gt; | STDERR &lt;dbl&gt; | PVALUE &lt;dbl&gt; | PROTxE4 &lt;dbl&gt; | PROTxE4_STDERR &lt;dbl&gt; | PROTxE4_PVALUE &lt;dbl&gt; | NCASES &lt;dbl&gt; | NCONTROLS &lt;dbl&gt; | UniProt &lt;chr&gt; | Panel &lt;chr&gt; | UniProt2 &lt;chr&gt; | Gene_CHROM &lt;dbl&gt; | Gene_start &lt;dbl&gt; | Gene_end &lt;dbl&gt; |\n",
       "|---|---|---|---|---|---|---|---|---|---|---|---|---|---|---|---|\n",
       "| 1 | GDF15 | 0.4423138 | 0.06574961 | 1.729034e-11 |  0.0170975958 | 0.08780006 | 0.8456017 | 532 | 31884 | Q99988 | Cardiometabolic | Q99988 | 19 | 18374731 | 18389176 |\n",
       "| 2 | AREG  | 0.3627137 | 0.05944031 | 1.046507e-09 | -0.0002928142 | 0.08522372 | 0.9972586 | 533 | 31945 | P15514 | Oncology        | P15514 |  4 | 74445136 | 74455005 |\n",
       "| 3 | WFDC2 | 0.3716657 | 0.06143184 | 1.448009e-09 |  0.0987329458 | 0.08681397 | 0.2554157 | 513 | 30513 | Q14508 | Oncology        | Q14508 | 20 | 45469753 | 45481532 |\n",
       "| 4 | IL6   | 0.3412059 | 0.05893360 | 7.052633e-09 | -0.0064074146 | 0.08030888 | 0.9364085 | 533 | 31945 | P05231 | Oncology        | P05231 |  7 | 22725884 | 22732002 |\n",
       "| 5 | TFF3  | 0.3444147 | 0.06101244 | 1.651901e-08 | -0.0550779872 | 0.08438667 | 0.5139588 | 527 | 31636 | Q07654 | Cardiometabolic | Q07654 | 21 | 42311667 | 42315409 |\n",
       "| 6 | PLAUR | 0.3223726 | 0.05834944 | 3.297437e-08 |  0.0303127498 | 0.08344665 | 0.7164114 | 520 | 31512 | Q03405 | Inflammation    | Q03405 | 19 | 43646095 | 43670547 |\n",
       "\n"
      ],
      "text/plain": [
       "  PROTEIN BETA      STDERR     PVALUE       PROTxE4       PROTxE4_STDERR PROTxE4_PVALUE NCASES NCONTROLS UniProt Panel           UniProt2 Gene_CHROM Gene_start Gene_end\n",
       "1 GDF15   0.4423138 0.06574961 1.729034e-11  0.0170975958 0.08780006     0.8456017      532    31884     Q99988  Cardiometabolic Q99988   19         18374731   18389176\n",
       "2 AREG    0.3627137 0.05944031 1.046507e-09 -0.0002928142 0.08522372     0.9972586      533    31945     P15514  Oncology        P15514    4         74445136   74455005\n",
       "3 WFDC2   0.3716657 0.06143184 1.448009e-09  0.0987329458 0.08681397     0.2554157      513    30513     Q14508  Oncology        Q14508   20         45469753   45481532\n",
       "4 IL6     0.3412059 0.05893360 7.052633e-09 -0.0064074146 0.08030888     0.9364085      533    31945     P05231  Oncology        P05231    7         22725884   22732002\n",
       "5 TFF3    0.3444147 0.06101244 1.651901e-08 -0.0550779872 0.08438667     0.5139588      527    31636     Q07654  Cardiometabolic Q07654   21         42311667   42315409\n",
       "6 PLAUR   0.3223726 0.05834944 3.297437e-08  0.0303127498 0.08344665     0.7164114      520    31512     Q03405  Inflammation    Q03405   19         43646095   43670547"
      ]
     },
     "metadata": {},
     "output_type": "display_data"
    }
   ],
   "source": [
    "# output \n",
    "dim(prot_sumstats_annot_pos)\n",
    "prot_sumstats_annot_pos %>% arrange(PVALUE) %>% filter(PVALUE < 0.05/nrow(prot_sumstats_annot_pos)) %>% nrow\n",
    "prot_sumstats_annot_pos %>% arrange(PVALUE) %>% filter(PVALUE < 0.05/nrow(prot_sumstats_annot_pos)) %>% head"
   ]
  },
  {
   "cell_type": "code",
   "execution_count": 66,
   "id": "56d02f46",
   "metadata": {},
   "outputs": [],
   "source": [
    "# write output \n",
    "write.table(prot_sumstats_annot_pos, \"/exports/cmvm/eddie/smgphs/groups/Quantgen/Users/vasilis/PHD/proteomics/delirium/output_pwas_models12/del_model1_glm_int_fullset_e4int_sumstats.txt\", sep = \",\", row.names = F, col.names = T, quote = T)"
   ]
  },
  {
   "cell_type": "markdown",
   "id": "f908b7c2",
   "metadata": {},
   "source": [
    "#### **APOE protein x protein interaction:**"
   ]
  },
  {
   "cell_type": "code",
   "execution_count": 34,
   "id": "d4b64874",
   "metadata": {},
   "outputs": [
    {
     "name": "stdout",
     "output_type": "stream",
     "text": [
      "========================================================================================================================================================================================================"
     ]
    }
   ],
   "source": [
    "# real\n",
    "# get protein names\n",
    "prot_names <- names(data_qc)[32:ncol(data_qc)]  # skip all covariates (check first)\n",
    "# create empty output sumstats table\n",
    "prot_sumstats <- data.frame(PROTEIN=numeric(), \n",
    "                            BETA=numeric(), \n",
    "                            STDERR=numeric(), \n",
    "                            PVALUE=numeric(), \n",
    "                            PROTxAPOE=numeric(),\n",
    "                            PROTxAPOE_STDERR=numeric(),\n",
    "                            PROTxAPOE_PVALUE=numeric(),\n",
    "                            NCASES=numeric(), \n",
    "                            NCONTROLS=numeric()\n",
    "                           )\n",
    "# progress bar\n",
    "pb = txtProgressBar(min = 0, max = length(prot_names), initial = 0) \n",
    "\n",
    "# run model: \"incident delirium ~ covariates + protein\" for each protein in prot_names\n",
    "for (i in 1:length(prot_names)) {\n",
    "#for (i in 1:2) {\n",
    "    #print(paste0(\"analyzing prlibrary(rhdf5)otein \", prot_names[i], \" ...\"))\n",
    "    ## skip APOE gene itself\n",
    "    if (prot_names[i]==\"APOE\") next\n",
    "    ## create formula string\n",
    "    formula_i  <- as.formula(\n",
    "        paste(\n",
    "            \"delirium_incident ~ sex + age_at_collection + BMI + APOE*\", prot_names[i]))\n",
    "    ## logistic reg model: delirium ~ coviates + protein_i\n",
    "    mod_i   <- glm(formula = formula_i, data = data_qc, family=\"binomial\",) %>% suppressWarnings()\n",
    "    ## extract coefficients: beta; std error; p-value\n",
    "    coefs_i <- summary(mod_i)$coefficients[prot_names[i],c(\"Estimate\",\"Std. Error\",\"Pr(>|z|)\")] \n",
    "    ## append coefs in output sumstats table\n",
    "    prot_sumstats[i,c(\"BETA\",\"STDERR\",\"PVALUE\")] <- coefs_i\n",
    "    ## append protein_i name in output sumstats table\n",
    "    prot_sumstats[i,\"PROTEIN\"] <- prot_names[i]\n",
    "    ## append APOE interaction sumstats\n",
    "    prot_x_APOE_i       <- paste0(\"APOE:\", prot_names[i])\n",
    "    prot_x_APOE_coefs_i <- summary(mod_i)$coefficients[prot_x_APOE_i,c(\"Estimate\",\"Std. Error\",\"Pr(>|z|)\")]\n",
    "    prot_sumstats[i,c(\"PROTxAPOE\",\"PROTxAPOE_STDERR\",\"PROTxAPOE_PVALUE\")] <- prot_x_APOE_coefs_i\n",
    "    ## append protein_i no. of cases + controls (using del_per_prot_train table)\n",
    "    ncases    <- del_per_prot[2,prot_names[i]] # 2nd row: cases\n",
    "    ncontrols <- del_per_prot[1,prot_names[i]] # 1st row: cases\n",
    "    prot_sumstats[i,c(\"NCASES\",\"NCONTROLS\")] <- c(ncases, ncontrols)\n",
    "    #print(\"Done\")\n",
    "    setTxtProgressBar(pb,i)\n",
    "    #cat(paste0(\"\\rAnalysed \", i, \" out of \",  length(prot_names), \" proteins (\", round((i / length(prot_names)*100),2), \"%) ...\"))\n",
    "}\n"
   ]
  },
  {
   "cell_type": "code",
   "execution_count": 35,
   "id": "669583e9",
   "metadata": {},
   "outputs": [],
   "source": [
    "prot_sumstats_annot <- inner_join(x=prot_sumstats, y=assay, by=c(\"PROTEIN\"=\"Assay\")) \n",
    "# make UniProt var to merge \n",
    "prot_sumstats_annot <- prot_sumstats_annot %>% mutate(UniProt2 = gsub(\"-.*\",\"\", UniProt)) %>% mutate(UniProt2 = gsub(\"_.*\",\"\", UniProt2))\n",
    "\n",
    "prot_sumstats_annot_pos <- \n",
    "left_join(x=prot_sumstats_annot, y=pos[,-c(\"Assay_Target\",\"Gene_symbol\")], by=c(\"UniProt2\"=\"UniProt\")) %>% \n",
    "    mutate(Gene_CHROM = gsub(\"X\",\"23\",Gene_CHROM)) %>%\n",
    "    mutate(Gene_CHROM = as.numeric(Gene_CHROM)) %>%\n",
    "    mutate(Gene_start = as.numeric(Gene_start)) %>%\n",
    "    mutate(Gene_end = as.numeric(Gene_end)) %>%\n",
    "    arrange(Gene_CHROM, Gene_start)\n"
   ]
  },
  {
   "cell_type": "code",
   "execution_count": 40,
   "id": "e90dc048",
   "metadata": {},
   "outputs": [
    {
     "data": {
      "text/html": [
       "<style>\n",
       ".list-inline {list-style: none; margin:0; padding: 0}\n",
       ".list-inline>li {display: inline-block}\n",
       ".list-inline>li:not(:last-child)::after {content: \"\\00b7\"; padding: 0 .5ex}\n",
       "</style>\n",
       "<ol class=list-inline><li>2918</li><li>15</li></ol>\n"
      ],
      "text/latex": [
       "\\begin{enumerate*}\n",
       "\\item 2918\n",
       "\\item 15\n",
       "\\end{enumerate*}\n"
      ],
      "text/markdown": [
       "1. 2918\n",
       "2. 15\n",
       "\n",
       "\n"
      ],
      "text/plain": [
       "[1] 2918   15"
      ]
     },
     "metadata": {},
     "output_type": "display_data"
    },
    {
     "data": {
      "text/html": [
       "<table class=\"dataframe\">\n",
       "<caption>A data.frame: 6 × 15</caption>\n",
       "<thead>\n",
       "\t<tr><th></th><th scope=col>PROTEIN</th><th scope=col>BETA</th><th scope=col>STDERR</th><th scope=col>PVALUE</th><th scope=col>PROTxAPOE</th><th scope=col>PROTxAPOE_STDERR</th><th scope=col>PROTxAPOE_PVALUE</th><th scope=col>NCASES</th><th scope=col>NCONTROLS</th><th scope=col>UniProt</th><th scope=col>Panel</th><th scope=col>UniProt2</th><th scope=col>Gene_CHROM</th><th scope=col>Gene_start</th><th scope=col>Gene_end</th></tr>\n",
       "\t<tr><th></th><th scope=col>&lt;chr&gt;</th><th scope=col>&lt;dbl&gt;</th><th scope=col>&lt;dbl&gt;</th><th scope=col>&lt;dbl&gt;</th><th scope=col>&lt;dbl&gt;</th><th scope=col>&lt;dbl&gt;</th><th scope=col>&lt;dbl&gt;</th><th scope=col>&lt;dbl&gt;</th><th scope=col>&lt;dbl&gt;</th><th scope=col>&lt;chr&gt;</th><th scope=col>&lt;chr&gt;</th><th scope=col>&lt;chr&gt;</th><th scope=col>&lt;dbl&gt;</th><th scope=col>&lt;dbl&gt;</th><th scope=col>&lt;dbl&gt;</th></tr>\n",
       "</thead>\n",
       "<tbody>\n",
       "\t<tr><th scope=row>1</th><td>PIGR             </td><td> 0.27759302</td><td>0.04709221</td><td>3.754331e-09</td><td> 0.1652197</td><td>0.04063106</td><td>4.775737e-05</td><td>523</td><td>31407</td><td>P01833</td><td>Neurology         </td><td>P01833</td><td> 1</td><td>206928522</td><td>206946466</td></tr>\n",
       "\t<tr><th scope=row>2</th><td>CXADR            </td><td> 0.13578651</td><td>0.04537316</td><td>2.765561e-03</td><td> 0.1470047</td><td>0.04102426</td><td>3.392034e-04</td><td>533</td><td>31945</td><td>P78310</td><td>Inflammation      </td><td>P78310</td><td>21</td><td> 17513043</td><td> 17593579</td></tr>\n",
       "\t<tr><th scope=row>3</th><td>GGT1             </td><td> 0.16073518</td><td>0.04945694</td><td>1.154039e-03</td><td> 0.1395505</td><td>0.04017910</td><td>5.142720e-04</td><td>531</td><td>31833</td><td>P19440</td><td>Neurology         </td><td>P19440</td><td>22</td><td> 24594811</td><td> 24629005</td></tr>\n",
       "\t<tr><th scope=row>4</th><td>FDX1             </td><td> 0.04253069</td><td>0.04564553</td><td>3.514605e-01</td><td> 0.1500576</td><td>0.04409584</td><td>6.665338e-04</td><td>541</td><td>32111</td><td>P10109</td><td>Cardiometabolic II</td><td>P10109</td><td>11</td><td>110429948</td><td>110464884</td></tr>\n",
       "\t<tr><th scope=row>5</th><td>OFD1             </td><td>-0.01925345</td><td>0.04425663</td><td>6.635326e-01</td><td>-0.1430894</td><td>0.04334138</td><td>9.618668e-04</td><td>541</td><td>32111</td><td>O75665</td><td>Oncology II       </td><td>O75665</td><td>23</td><td> 13734743</td><td> 13777955</td></tr>\n",
       "\t<tr><th scope=row>6</th><td>DEFB103A_DEFB103B</td><td>-0.04728862</td><td>0.04489113</td><td>2.921546e-01</td><td>-0.1301655</td><td>0.04009102</td><td>1.167312e-03</td><td>526</td><td>31865</td><td>P81534</td><td>Inflammation II   </td><td>P81534</td><td> 8</td><td>  7428888</td><td>  7430348</td></tr>\n",
       "</tbody>\n",
       "</table>\n"
      ],
      "text/latex": [
       "A data.frame: 6 × 15\n",
       "\\begin{tabular}{r|lllllllllllllll}\n",
       "  & PROTEIN & BETA & STDERR & PVALUE & PROTxAPOE & PROTxAPOE\\_STDERR & PROTxAPOE\\_PVALUE & NCASES & NCONTROLS & UniProt & Panel & UniProt2 & Gene\\_CHROM & Gene\\_start & Gene\\_end\\\\\n",
       "  & <chr> & <dbl> & <dbl> & <dbl> & <dbl> & <dbl> & <dbl> & <dbl> & <dbl> & <chr> & <chr> & <chr> & <dbl> & <dbl> & <dbl>\\\\\n",
       "\\hline\n",
       "\t1 & PIGR              &  0.27759302 & 0.04709221 & 3.754331e-09 &  0.1652197 & 0.04063106 & 4.775737e-05 & 523 & 31407 & P01833 & Neurology          & P01833 &  1 & 206928522 & 206946466\\\\\n",
       "\t2 & CXADR             &  0.13578651 & 0.04537316 & 2.765561e-03 &  0.1470047 & 0.04102426 & 3.392034e-04 & 533 & 31945 & P78310 & Inflammation       & P78310 & 21 &  17513043 &  17593579\\\\\n",
       "\t3 & GGT1              &  0.16073518 & 0.04945694 & 1.154039e-03 &  0.1395505 & 0.04017910 & 5.142720e-04 & 531 & 31833 & P19440 & Neurology          & P19440 & 22 &  24594811 &  24629005\\\\\n",
       "\t4 & FDX1              &  0.04253069 & 0.04564553 & 3.514605e-01 &  0.1500576 & 0.04409584 & 6.665338e-04 & 541 & 32111 & P10109 & Cardiometabolic II & P10109 & 11 & 110429948 & 110464884\\\\\n",
       "\t5 & OFD1              & -0.01925345 & 0.04425663 & 6.635326e-01 & -0.1430894 & 0.04334138 & 9.618668e-04 & 541 & 32111 & O75665 & Oncology II        & O75665 & 23 &  13734743 &  13777955\\\\\n",
       "\t6 & DEFB103A\\_DEFB103B & -0.04728862 & 0.04489113 & 2.921546e-01 & -0.1301655 & 0.04009102 & 1.167312e-03 & 526 & 31865 & P81534 & Inflammation II    & P81534 &  8 &   7428888 &   7430348\\\\\n",
       "\\end{tabular}\n"
      ],
      "text/markdown": [
       "\n",
       "A data.frame: 6 × 15\n",
       "\n",
       "| <!--/--> | PROTEIN &lt;chr&gt; | BETA &lt;dbl&gt; | STDERR &lt;dbl&gt; | PVALUE &lt;dbl&gt; | PROTxAPOE &lt;dbl&gt; | PROTxAPOE_STDERR &lt;dbl&gt; | PROTxAPOE_PVALUE &lt;dbl&gt; | NCASES &lt;dbl&gt; | NCONTROLS &lt;dbl&gt; | UniProt &lt;chr&gt; | Panel &lt;chr&gt; | UniProt2 &lt;chr&gt; | Gene_CHROM &lt;dbl&gt; | Gene_start &lt;dbl&gt; | Gene_end &lt;dbl&gt; |\n",
       "|---|---|---|---|---|---|---|---|---|---|---|---|---|---|---|---|\n",
       "| 1 | PIGR              |  0.27759302 | 0.04709221 | 3.754331e-09 |  0.1652197 | 0.04063106 | 4.775737e-05 | 523 | 31407 | P01833 | Neurology          | P01833 |  1 | 206928522 | 206946466 |\n",
       "| 2 | CXADR             |  0.13578651 | 0.04537316 | 2.765561e-03 |  0.1470047 | 0.04102426 | 3.392034e-04 | 533 | 31945 | P78310 | Inflammation       | P78310 | 21 |  17513043 |  17593579 |\n",
       "| 3 | GGT1              |  0.16073518 | 0.04945694 | 1.154039e-03 |  0.1395505 | 0.04017910 | 5.142720e-04 | 531 | 31833 | P19440 | Neurology          | P19440 | 22 |  24594811 |  24629005 |\n",
       "| 4 | FDX1              |  0.04253069 | 0.04564553 | 3.514605e-01 |  0.1500576 | 0.04409584 | 6.665338e-04 | 541 | 32111 | P10109 | Cardiometabolic II | P10109 | 11 | 110429948 | 110464884 |\n",
       "| 5 | OFD1              | -0.01925345 | 0.04425663 | 6.635326e-01 | -0.1430894 | 0.04334138 | 9.618668e-04 | 541 | 32111 | O75665 | Oncology II        | O75665 | 23 |  13734743 |  13777955 |\n",
       "| 6 | DEFB103A_DEFB103B | -0.04728862 | 0.04489113 | 2.921546e-01 | -0.1301655 | 0.04009102 | 1.167312e-03 | 526 | 31865 | P81534 | Inflammation II    | P81534 |  8 |   7428888 |   7430348 |\n",
       "\n"
      ],
      "text/plain": [
       "  PROTEIN           BETA        STDERR     PVALUE       PROTxAPOE  PROTxAPOE_STDERR PROTxAPOE_PVALUE NCASES NCONTROLS UniProt Panel              UniProt2 Gene_CHROM Gene_start Gene_end \n",
       "1 PIGR               0.27759302 0.04709221 3.754331e-09  0.1652197 0.04063106       4.775737e-05     523    31407     P01833  Neurology          P01833    1         206928522  206946466\n",
       "2 CXADR              0.13578651 0.04537316 2.765561e-03  0.1470047 0.04102426       3.392034e-04     533    31945     P78310  Inflammation       P78310   21          17513043   17593579\n",
       "3 GGT1               0.16073518 0.04945694 1.154039e-03  0.1395505 0.04017910       5.142720e-04     531    31833     P19440  Neurology          P19440   22          24594811   24629005\n",
       "4 FDX1               0.04253069 0.04564553 3.514605e-01  0.1500576 0.04409584       6.665338e-04     541    32111     P10109  Cardiometabolic II P10109   11         110429948  110464884\n",
       "5 OFD1              -0.01925345 0.04425663 6.635326e-01 -0.1430894 0.04334138       9.618668e-04     541    32111     O75665  Oncology II        O75665   23          13734743   13777955\n",
       "6 DEFB103A_DEFB103B -0.04728862 0.04489113 2.921546e-01 -0.1301655 0.04009102       1.167312e-03     526    31865     P81534  Inflammation II    P81534    8           7428888    7430348"
      ]
     },
     "metadata": {},
     "output_type": "display_data"
    }
   ],
   "source": [
    "# output \n",
    "dim(prot_sumstats_annot_pos)\n",
    "prot_sumstats_annot_pos %>% arrange(PROTxAPOE_PVALUE) %>% head"
   ]
  },
  {
   "cell_type": "code",
   "execution_count": 36,
   "id": "dcc507af",
   "metadata": {},
   "outputs": [],
   "source": [
    "# write output \n",
    "write.table(prot_sumstats_annot_pos, \"/exports/cmvm/eddie/smgphs/groups/Quantgen/Users/vasilis/PHD/proteomics/delirium/output_pwas_models12/del_model1_glm_int_fullset_APOEint_sumstats.txt\", sep = \",\", row.names = F, col.names = T, quote = T)"
   ]
  },
  {
   "cell_type": "code",
   "execution_count": null,
   "id": "9ae1e7c4",
   "metadata": {},
   "outputs": [],
   "source": []
  },
  {
   "cell_type": "code",
   "execution_count": 47,
   "id": "475b7e70",
   "metadata": {},
   "outputs": [
    {
     "name": "stdout",
     "output_type": "stream",
     "text": [
      "========================================================================================================================================================================================================"
     ]
    }
   ],
   "source": [
    "# real\n",
    "# get protein names\n",
    "prot_names <- names(data_qc)[32:ncol(data_qc)]  # skip all covariates (check first)\n",
    "# create empty output sumstats table\n",
    "prot_sumstats <- data.frame(PROTEIN=numeric(), \n",
    "                            BETA=numeric(), \n",
    "                            STDERR=numeric(), \n",
    "                            PVALUE=numeric(), \n",
    "                            NCASES=numeric(), \n",
    "                            NCONTROLS=numeric()\n",
    "                           )\n",
    "# progress bar\n",
    "pb = txtProgressBar(min = 0, max = length(prot_names), initial = 0) \n",
    "\n",
    "# run model: \"incident delirium ~ covariates + protein\" for each protein in prot_names\n",
    "for (i in 1:length(prot_names)) {\n",
    "#for (i in 1:2) {\n",
    "    #print(paste0(\"analyzing prlibrary(rhdf5)otein \", prot_names[i], \" ...\"))\n",
    "    ## create formula string\n",
    "    formula_i  <- as.formula(\n",
    "        paste(\n",
    "            \"delirium_incident ~ sex + age_at_collection + BMI + e4_count +\", prot_names[i]))\n",
    "    ## logistic reg model: delirium ~ coviates + protein_i\n",
    "    mod_i   <- glm(formula = formula_i, data = data_qc, family=\"binomial\",) %>% suppressWarnings()\n",
    "    ## extract coefficients: beta; std error; p-value\n",
    "    coefs_i <- summary(mod_i)$coefficients[prot_names[i],c(\"Estimate\",\"Std. Error\",\"Pr(>|z|)\")] \n",
    "    ## append coefs in output sumstats table\n",
    "    prot_sumstats[i,c(\"BETA\",\"STDERR\",\"PVALUE\")] <- coefs_i\n",
    "    ## append protein_i name in output sumstats table\n",
    "    prot_sumstats[i,\"PROTEIN\"] <- prot_names[i]\n",
    "    ## append protein_i no. of cases + controls (using del_per_prot_train table)\n",
    "    ncases    <- del_per_prot[2,prot_names[i]] # 2nd row: cases\n",
    "    ncontrols <- del_per_prot[1,prot_names[i]] # 1st row: cases\n",
    "    prot_sumstats[i,c(\"NCASES\",\"NCONTROLS\")] <- c(ncases, ncontrols)\n",
    "    #print(\"Done\")\n",
    "    setTxtProgressBar(pb,i)\n",
    "    #cat(paste0(\"\\rAnalysed \", i, \" out of \",  length(prot_names), \" proteins (\", round((i / length(prot_names)*100),2), \"%) ...\"))\n",
    "}\n"
   ]
  },
  {
   "cell_type": "code",
   "execution_count": 48,
   "id": "4068e42c",
   "metadata": {},
   "outputs": [],
   "source": [
    "prot_sumstats_annot <- inner_join(x=prot_sumstats, y=assay, by=c(\"PROTEIN\"=\"Assay\")) \n",
    "# make UniProt var to merge \n",
    "prot_sumstats_annot <- prot_sumstats_annot %>% mutate(UniProt2 = gsub(\"-.*\",\"\", UniProt)) %>% mutate(UniProt2 = gsub(\"_.*\",\"\", UniProt2))\n",
    "\n",
    "prot_sumstats_annot_pos <- \n",
    "left_join(x=prot_sumstats_annot, y=pos[,-c(\"Assay_Target\",\"Gene_symbol\")], by=c(\"UniProt2\"=\"UniProt\")) %>% \n",
    "    mutate(Gene_CHROM = gsub(\"X\",\"23\",Gene_CHROM)) %>%\n",
    "    mutate(Gene_CHROM = as.numeric(Gene_CHROM)) %>%\n",
    "    mutate(Gene_start = as.numeric(Gene_start)) %>%\n",
    "    mutate(Gene_end = as.numeric(Gene_end)) %>%\n",
    "    arrange(Gene_CHROM, Gene_start)\n"
   ]
  },
  {
   "cell_type": "code",
   "execution_count": 55,
   "id": "a340d5ad",
   "metadata": {},
   "outputs": [
    {
     "data": {
      "text/html": [
       "<style>\n",
       ".list-inline {list-style: none; margin:0; padding: 0}\n",
       ".list-inline>li {display: inline-block}\n",
       ".list-inline>li:not(:last-child)::after {content: \"\\00b7\"; padding: 0 .5ex}\n",
       "</style>\n",
       "<ol class=list-inline><li>111</li><li>12</li></ol>\n"
      ],
      "text/latex": [
       "\\begin{enumerate*}\n",
       "\\item 111\n",
       "\\item 12\n",
       "\\end{enumerate*}\n"
      ],
      "text/markdown": [
       "1. 111\n",
       "2. 12\n",
       "\n",
       "\n"
      ],
      "text/plain": [
       "[1] 111  12"
      ]
     },
     "metadata": {},
     "output_type": "display_data"
    },
    {
     "data": {
      "text/html": [
       "<table class=\"dataframe\">\n",
       "<caption>A data.frame: 6 × 12</caption>\n",
       "<thead>\n",
       "\t<tr><th></th><th scope=col>PROTEIN</th><th scope=col>BETA</th><th scope=col>STDERR</th><th scope=col>PVALUE</th><th scope=col>NCASES</th><th scope=col>NCONTROLS</th><th scope=col>UniProt</th><th scope=col>Panel</th><th scope=col>UniProt2</th><th scope=col>Gene_CHROM</th><th scope=col>Gene_start</th><th scope=col>Gene_end</th></tr>\n",
       "\t<tr><th></th><th scope=col>&lt;chr&gt;</th><th scope=col>&lt;dbl&gt;</th><th scope=col>&lt;dbl&gt;</th><th scope=col>&lt;dbl&gt;</th><th scope=col>&lt;dbl&gt;</th><th scope=col>&lt;dbl&gt;</th><th scope=col>&lt;chr&gt;</th><th scope=col>&lt;chr&gt;</th><th scope=col>&lt;chr&gt;</th><th scope=col>&lt;dbl&gt;</th><th scope=col>&lt;dbl&gt;</th><th scope=col>&lt;dbl&gt;</th></tr>\n",
       "</thead>\n",
       "<tbody>\n",
       "\t<tr><th scope=row>1</th><td>GDF15</td><td>0.4492583</td><td>0.05525540</td><td>4.272476e-16</td><td>532</td><td>31884</td><td>Q99988</td><td>Cardiometabolic</td><td>Q99988</td><td>19</td><td>18374731</td><td>18389176</td></tr>\n",
       "\t<tr><th scope=row>2</th><td>WFDC2</td><td>0.4106737</td><td>0.05112292</td><td>9.506805e-16</td><td>513</td><td>30513</td><td>Q14508</td><td>Oncology       </td><td>Q14508</td><td>20</td><td>45469753</td><td>45481532</td></tr>\n",
       "\t<tr><th scope=row>3</th><td>AREG </td><td>0.3625946</td><td>0.04828552</td><td>5.940508e-14</td><td>533</td><td>31945</td><td>P15514</td><td>Oncology       </td><td>P15514</td><td> 4</td><td>74445136</td><td>74455005</td></tr>\n",
       "\t<tr><th scope=row>4</th><td>IL6  </td><td>0.3385499</td><td>0.04862260</td><td>3.335561e-12</td><td>533</td><td>31945</td><td>P05231</td><td>Oncology       </td><td>P05231</td><td> 7</td><td>22725884</td><td>22732002</td></tr>\n",
       "\t<tr><th scope=row>5</th><td>PLAUR</td><td>0.3341755</td><td>0.04851640</td><td>5.662662e-12</td><td>520</td><td>31512</td><td>Q03405</td><td>Inflammation   </td><td>Q03405</td><td>19</td><td>43646095</td><td>43670547</td></tr>\n",
       "\t<tr><th scope=row>6</th><td>TFF3 </td><td>0.3210395</td><td>0.04922193</td><td>6.924372e-11</td><td>527</td><td>31636</td><td>Q07654</td><td>Cardiometabolic</td><td>Q07654</td><td>21</td><td>42311667</td><td>42315409</td></tr>\n",
       "</tbody>\n",
       "</table>\n"
      ],
      "text/latex": [
       "A data.frame: 6 × 12\n",
       "\\begin{tabular}{r|llllllllllll}\n",
       "  & PROTEIN & BETA & STDERR & PVALUE & NCASES & NCONTROLS & UniProt & Panel & UniProt2 & Gene\\_CHROM & Gene\\_start & Gene\\_end\\\\\n",
       "  & <chr> & <dbl> & <dbl> & <dbl> & <dbl> & <dbl> & <chr> & <chr> & <chr> & <dbl> & <dbl> & <dbl>\\\\\n",
       "\\hline\n",
       "\t1 & GDF15 & 0.4492583 & 0.05525540 & 4.272476e-16 & 532 & 31884 & Q99988 & Cardiometabolic & Q99988 & 19 & 18374731 & 18389176\\\\\n",
       "\t2 & WFDC2 & 0.4106737 & 0.05112292 & 9.506805e-16 & 513 & 30513 & Q14508 & Oncology        & Q14508 & 20 & 45469753 & 45481532\\\\\n",
       "\t3 & AREG  & 0.3625946 & 0.04828552 & 5.940508e-14 & 533 & 31945 & P15514 & Oncology        & P15514 &  4 & 74445136 & 74455005\\\\\n",
       "\t4 & IL6   & 0.3385499 & 0.04862260 & 3.335561e-12 & 533 & 31945 & P05231 & Oncology        & P05231 &  7 & 22725884 & 22732002\\\\\n",
       "\t5 & PLAUR & 0.3341755 & 0.04851640 & 5.662662e-12 & 520 & 31512 & Q03405 & Inflammation    & Q03405 & 19 & 43646095 & 43670547\\\\\n",
       "\t6 & TFF3  & 0.3210395 & 0.04922193 & 6.924372e-11 & 527 & 31636 & Q07654 & Cardiometabolic & Q07654 & 21 & 42311667 & 42315409\\\\\n",
       "\\end{tabular}\n"
      ],
      "text/markdown": [
       "\n",
       "A data.frame: 6 × 12\n",
       "\n",
       "| <!--/--> | PROTEIN &lt;chr&gt; | BETA &lt;dbl&gt; | STDERR &lt;dbl&gt; | PVALUE &lt;dbl&gt; | NCASES &lt;dbl&gt; | NCONTROLS &lt;dbl&gt; | UniProt &lt;chr&gt; | Panel &lt;chr&gt; | UniProt2 &lt;chr&gt; | Gene_CHROM &lt;dbl&gt; | Gene_start &lt;dbl&gt; | Gene_end &lt;dbl&gt; |\n",
       "|---|---|---|---|---|---|---|---|---|---|---|---|---|\n",
       "| 1 | GDF15 | 0.4492583 | 0.05525540 | 4.272476e-16 | 532 | 31884 | Q99988 | Cardiometabolic | Q99988 | 19 | 18374731 | 18389176 |\n",
       "| 2 | WFDC2 | 0.4106737 | 0.05112292 | 9.506805e-16 | 513 | 30513 | Q14508 | Oncology        | Q14508 | 20 | 45469753 | 45481532 |\n",
       "| 3 | AREG  | 0.3625946 | 0.04828552 | 5.940508e-14 | 533 | 31945 | P15514 | Oncology        | P15514 |  4 | 74445136 | 74455005 |\n",
       "| 4 | IL6   | 0.3385499 | 0.04862260 | 3.335561e-12 | 533 | 31945 | P05231 | Oncology        | P05231 |  7 | 22725884 | 22732002 |\n",
       "| 5 | PLAUR | 0.3341755 | 0.04851640 | 5.662662e-12 | 520 | 31512 | Q03405 | Inflammation    | Q03405 | 19 | 43646095 | 43670547 |\n",
       "| 6 | TFF3  | 0.3210395 | 0.04922193 | 6.924372e-11 | 527 | 31636 | Q07654 | Cardiometabolic | Q07654 | 21 | 42311667 | 42315409 |\n",
       "\n"
      ],
      "text/plain": [
       "  PROTEIN BETA      STDERR     PVALUE       NCASES NCONTROLS UniProt Panel           UniProt2 Gene_CHROM Gene_start Gene_end\n",
       "1 GDF15   0.4492583 0.05525540 4.272476e-16 532    31884     Q99988  Cardiometabolic Q99988   19         18374731   18389176\n",
       "2 WFDC2   0.4106737 0.05112292 9.506805e-16 513    30513     Q14508  Oncology        Q14508   20         45469753   45481532\n",
       "3 AREG    0.3625946 0.04828552 5.940508e-14 533    31945     P15514  Oncology        P15514    4         74445136   74455005\n",
       "4 IL6     0.3385499 0.04862260 3.335561e-12 533    31945     P05231  Oncology        P05231    7         22725884   22732002\n",
       "5 PLAUR   0.3341755 0.04851640 5.662662e-12 520    31512     Q03405  Inflammation    Q03405   19         43646095   43670547\n",
       "6 TFF3    0.3210395 0.04922193 6.924372e-11 527    31636     Q07654  Cardiometabolic Q07654   21         42311667   42315409"
      ]
     },
     "metadata": {},
     "output_type": "display_data"
    }
   ],
   "source": [
    "# output \n",
    "prot_sumstats_annot_pos %>% arrange(PVALUE) %>% filter(PVALUE < 0.05 / nrow(.)) %>% dim\n",
    "prot_sumstats_annot_pos %>% arrange(PVALUE) %>% filter(PVALUE < 0.05 / nrow(.)) %>% head"
   ]
  },
  {
   "cell_type": "code",
   "execution_count": 56,
   "id": "e367ebe3",
   "metadata": {},
   "outputs": [],
   "source": [
    "# write output \n",
    "write.table(prot_sumstats_annot_pos, \"/exports/cmvm/eddie/smgphs/groups/Quantgen/Users/vasilis/PHD/proteomics/delirium/output_pwas_models12/del_model1_glm_int_fullset_e4Adj_sumstats.txt\", sep = \",\", row.names = F, col.names = T, quote = T)"
   ]
  },
  {
   "cell_type": "code",
   "execution_count": null,
   "id": "9e934a40",
   "metadata": {},
   "outputs": [],
   "source": []
  },
  {
   "cell_type": "code",
   "execution_count": null,
   "id": "4f249724",
   "metadata": {},
   "outputs": [],
   "source": []
  },
  {
   "cell_type": "code",
   "execution_count": 5,
   "id": "25d2427e",
   "metadata": {},
   "outputs": [],
   "source": [
    "a <- fread(\"/exports/cmvm/eddie/smgphs/groups/Quantgen/Users/vasilis/PHD/proteomics/delirium/output_pwas_models12/del_model1_glm_int_fullset_e4int_sumstats.txt\")"
   ]
  },
  {
   "cell_type": "code",
   "execution_count": 8,
   "id": "d0484014",
   "metadata": {},
   "outputs": [
    {
     "data": {
      "text/html": [
       "1.71291538198013e-05"
      ],
      "text/latex": [
       "1.71291538198013e-05"
      ],
      "text/markdown": [
       "1.71291538198013e-05"
      ],
      "text/plain": [
       "[1] 1.712915e-05"
      ]
     },
     "metadata": {},
     "output_type": "display_data"
    }
   ],
   "source": [
    "0.05 / nrow(a)"
   ]
  },
  {
   "cell_type": "code",
   "execution_count": 7,
   "id": "582b4848",
   "metadata": {},
   "outputs": [
    {
     "data": {
      "text/html": [
       "<table class=\"dataframe\">\n",
       "<caption>A data.table: 2919 × 15</caption>\n",
       "<thead>\n",
       "\t<tr><th scope=col>PROTEIN</th><th scope=col>BETA</th><th scope=col>STDERR</th><th scope=col>PVALUE</th><th scope=col>PROTxE4</th><th scope=col>PROTxE4_STDERR</th><th scope=col>PROTxE4_PVALUE</th><th scope=col>NCASES</th><th scope=col>NCONTROLS</th><th scope=col>UniProt</th><th scope=col>Panel</th><th scope=col>UniProt2</th><th scope=col>Gene_CHROM</th><th scope=col>Gene_start</th><th scope=col>Gene_end</th></tr>\n",
       "\t<tr><th scope=col>&lt;chr&gt;</th><th scope=col>&lt;dbl&gt;</th><th scope=col>&lt;dbl&gt;</th><th scope=col>&lt;dbl&gt;</th><th scope=col>&lt;dbl&gt;</th><th scope=col>&lt;dbl&gt;</th><th scope=col>&lt;dbl&gt;</th><th scope=col>&lt;int&gt;</th><th scope=col>&lt;int&gt;</th><th scope=col>&lt;chr&gt;</th><th scope=col>&lt;chr&gt;</th><th scope=col>&lt;chr&gt;</th><th scope=col>&lt;int&gt;</th><th scope=col>&lt;int&gt;</th><th scope=col>&lt;int&gt;</th></tr>\n",
       "</thead>\n",
       "<tbody>\n",
       "\t<tr><td>CEND1  </td><td> 0.073874888</td><td>0.05405086</td><td>1.716986e-01</td><td> 0.2654944</td><td>0.07937150</td><td>0.0008229492</td><td>541</td><td>32111</td><td>Q8N111</td><td>Neurology II      </td><td>Q8N111</td><td>11</td><td>   787115</td><td>   790113</td></tr>\n",
       "\t<tr><td>PNPT1  </td><td> 0.080397252</td><td>0.05524805</td><td>1.456124e-01</td><td>-0.2595978</td><td>0.08035951</td><td>0.0012359352</td><td>533</td><td>31945</td><td>Q8TCS8</td><td>Inflammation      </td><td>Q8TCS8</td><td> 2</td><td> 55634061</td><td> 55693863</td></tr>\n",
       "\t<tr><td>GGT1   </td><td> 0.239548468</td><td>0.05976952</td><td>6.126883e-05</td><td>-0.2496042</td><td>0.08064929</td><td>0.0019685696</td><td>531</td><td>31833</td><td>P19440</td><td>Neurology         </td><td>P19440</td><td>22</td><td> 24594811</td><td> 24629005</td></tr>\n",
       "\t<tr><td>PCSK7  </td><td> 0.082023688</td><td>0.05462843</td><td>1.332306e-01</td><td>-0.2428209</td><td>0.07891993</td><td>0.0020923563</td><td>541</td><td>32111</td><td>Q16549</td><td>Oncology II       </td><td>Q16549</td><td>11</td><td>117204337</td><td>117232525</td></tr>\n",
       "\t<tr><td>BCL7A  </td><td> 0.097753461</td><td>0.05402380</td><td>7.038084e-02</td><td>-0.2384891</td><td>0.07830314</td><td>0.0023212758</td><td>541</td><td>32111</td><td>Q4VC05</td><td>Oncology II       </td><td>Q4VC05</td><td>12</td><td>122019422</td><td>122062044</td></tr>\n",
       "\t<tr><td>NCF2   </td><td>-0.111638543</td><td>0.05500180</td><td>4.238448e-02</td><td> 0.2402574</td><td>0.07939981</td><td>0.0024787906</td><td>530</td><td>31885</td><td>P19878</td><td>Inflammation      </td><td>P19878</td><td> 1</td><td>183555562</td><td>183590876</td></tr>\n",
       "\t<tr><td>CBX2   </td><td>-0.090518088</td><td>0.05339859</td><td>9.004887e-02</td><td> 0.2298219</td><td>0.07606096</td><td>0.0025148551</td><td>541</td><td>32111</td><td>Q14781</td><td>Cardiometabolic II</td><td>Q14781</td><td>17</td><td> 79778148</td><td> 79787983</td></tr>\n",
       "\t<tr><td>AMBN   </td><td>-0.043358276</td><td>0.05452807</td><td>4.265233e-01</td><td> 0.2292448</td><td>0.07810476</td><td>0.0033344660</td><td>533</td><td>31945</td><td>Q9NP70</td><td>Inflammation      </td><td>Q9NP70</td><td> 4</td><td> 70592256</td><td> 70607288</td></tr>\n",
       "\t<tr><td>MANSC4 </td><td> 0.121604688</td><td>0.05357215</td><td>2.321221e-02</td><td>-0.2157350</td><td>0.07407298</td><td>0.0035858784</td><td>541</td><td>32111</td><td>A6NHS7</td><td>Cardiometabolic II</td><td>A6NHS7</td><td>12</td><td> 27762427</td><td> 27780236</td></tr>\n",
       "\t<tr><td>ITPRIP </td><td> 0.032014904</td><td>0.05535809</td><td>5.630455e-01</td><td>-0.2316742</td><td>0.08013171</td><td>0.0038381367</td><td>541</td><td>32111</td><td>Q8IWB1</td><td>Neurology II      </td><td>Q8IWB1</td><td>10</td><td>104309698</td><td>104338465</td></tr>\n",
       "\t<tr><td>ZBP1   </td><td>-0.080946372</td><td>0.05586916</td><td>1.473778e-01</td><td> 0.2316666</td><td>0.08102534</td><td>0.0042472879</td><td>541</td><td>32111</td><td>Q9H171</td><td>Inflammation II   </td><td>Q9H171</td><td>20</td><td> 57603846</td><td> 57620576</td></tr>\n",
       "\t<tr><td>BLNK   </td><td>-0.084842830</td><td>0.05432986</td><td>1.183765e-01</td><td> 0.2222081</td><td>0.07778945</td><td>0.0042829597</td><td>541</td><td>32111</td><td>Q8WV28</td><td>Inflammation II   </td><td>Q8WV28</td><td>10</td><td> 96189171</td><td> 96271587</td></tr>\n",
       "\t<tr><td>IKZF2  </td><td>-0.089358662</td><td>0.05480992</td><td>1.030302e-01</td><td> 0.2263542</td><td>0.07974933</td><td>0.0045351603</td><td>533</td><td>31945</td><td>Q9UKS7</td><td>Oncology          </td><td>Q9UKS7</td><td> 2</td><td>212999691</td><td>213152427</td></tr>\n",
       "\t<tr><td>MKI67  </td><td>-0.090449055</td><td>0.05428431</td><td>9.567164e-02</td><td> 0.2252630</td><td>0.08033572</td><td>0.0050469774</td><td>541</td><td>32111</td><td>P46013</td><td>Inflammation II   </td><td>P46013</td><td>10</td><td>128096659</td><td>128126423</td></tr>\n",
       "\t<tr><td>DOC2B  </td><td>-0.044055689</td><td>0.05390914</td><td>4.138020e-01</td><td> 0.2170003</td><td>0.07892067</td><td>0.0059668116</td><td>541</td><td>32111</td><td>Q14184</td><td>Neurology II      </td><td>Q14184</td><td>17</td><td>   142789</td><td>   181650</td></tr>\n",
       "\t<tr><td>APBB1IP</td><td> 0.023616245</td><td>0.05625137</td><td>6.746066e-01</td><td> 0.2209657</td><td>0.08081437</td><td>0.0062524871</td><td>533</td><td>31945</td><td>Q7Z5R6</td><td>Oncology          </td><td>Q7Z5R6</td><td>10</td><td> 26438341</td><td> 26567803</td></tr>\n",
       "\t<tr><td>ANXA1  </td><td>-0.029985133</td><td>0.05720719</td><td>6.001744e-01</td><td> 0.2242317</td><td>0.08428542</td><td>0.0078051189</td><td>531</td><td>31920</td><td>P04083</td><td>Inflammation II   </td><td>P04083</td><td> 9</td><td> 73151865</td><td> 73170393</td></tr>\n",
       "\t<tr><td>BCL2L15</td><td>-0.038643736</td><td>0.05558260</td><td>4.868994e-01</td><td> 0.2118009</td><td>0.07970447</td><td>0.0078762744</td><td>541</td><td>32111</td><td>Q5TBC7</td><td>Inflammation II   </td><td>Q5TBC7</td><td> 1</td><td>113876816</td><td>113887581</td></tr>\n",
       "\t<tr><td>SCLY   </td><td> 0.077219721</td><td>0.05825155</td><td>1.849639e-01</td><td>-0.2174733</td><td>0.08326603</td><td>0.0090069724</td><td>531</td><td>31825</td><td>Q96I15</td><td>Oncology          </td><td>Q96I15</td><td> 2</td><td>238060924</td><td>238099413</td></tr>\n",
       "\t<tr><td>GLP1R  </td><td>-0.074061484</td><td>0.05363050</td><td>1.672918e-01</td><td> 0.2026165</td><td>0.07775467</td><td>0.0091648262</td><td>541</td><td>32111</td><td>P43220</td><td>Neurology II      </td><td>P43220</td><td> 6</td><td> 39048781</td><td> 39091303</td></tr>\n",
       "\t<tr><td>PAM    </td><td>-0.027430998</td><td>0.05381062</td><td>6.102131e-01</td><td> 0.2035990</td><td>0.07819687</td><td>0.0092230945</td><td>529</td><td>31704</td><td>P19021</td><td>Cardiometabolic   </td><td>P19021</td><td> 5</td><td>102753981</td><td>103029730</td></tr>\n",
       "\t<tr><td>APOE   </td><td> 0.025871177</td><td>0.05859747</td><td>6.588462e-01</td><td>-0.2104990</td><td>0.08125157</td><td>0.0095779078</td><td>541</td><td>32111</td><td>P02649</td><td>Inflammation II   </td><td>P02649</td><td>19</td><td> 44905791</td><td> 44909393</td></tr>\n",
       "\t<tr><td>SATB1  </td><td>-0.120300993</td><td>0.05455897</td><td>2.745608e-02</td><td> 0.2016541</td><td>0.07796885</td><td>0.0097000767</td><td>541</td><td>32111</td><td>Q01826</td><td>Neurology II      </td><td>Q01826</td><td> 3</td><td> 18345377</td><td> 18445621</td></tr>\n",
       "\t<tr><td>COL5A1 </td><td> 0.179770535</td><td>0.05304242</td><td>7.010089e-04</td><td>-0.1936526</td><td>0.07551853</td><td>0.0103382280</td><td>541</td><td>32111</td><td>P20908</td><td>Inflammation II   </td><td>P20908</td><td> 9</td><td>134641803</td><td>134844843</td></tr>\n",
       "\t<tr><td>AMY2B  </td><td>-0.145065538</td><td>0.05691901</td><td>1.081468e-02</td><td> 0.2037086</td><td>0.08017692</td><td>0.0110618582</td><td>480</td><td>29047</td><td>P19961</td><td>Cardiometabolic   </td><td>P19961</td><td> 1</td><td>103553815</td><td>103579534</td></tr>\n",
       "\t<tr><td>ACY1   </td><td> 0.079692476</td><td>0.05921147</td><td>1.783361e-01</td><td>-0.2012165</td><td>0.08048436</td><td>0.0124168720</td><td>532</td><td>31884</td><td>Q03154</td><td>Cardiometabolic   </td><td>Q03154</td><td> 3</td><td> 51983340</td><td> 51989197</td></tr>\n",
       "\t<tr><td>ATF4   </td><td> 0.025574686</td><td>0.05320781</td><td>6.307606e-01</td><td>-0.1962642</td><td>0.07862480</td><td>0.0125527589</td><td>541</td><td>32111</td><td>P18848</td><td>Oncology II       </td><td>P18848</td><td>22</td><td> 39519695</td><td> 39522683</td></tr>\n",
       "\t<tr><td>S100A11</td><td>-0.020127371</td><td>0.05634378</td><td>7.209239e-01</td><td> 0.2057731</td><td>0.08248267</td><td>0.0126048019</td><td>530</td><td>31633</td><td>P31949</td><td>Cardiometabolic   </td><td>P31949</td><td> 1</td><td>152032506</td><td>152047907</td></tr>\n",
       "\t<tr><td>FGR    </td><td>-0.019842476</td><td>0.05489644</td><td>7.177609e-01</td><td> 0.2000033</td><td>0.08018651</td><td>0.0126232139</td><td>531</td><td>31891</td><td>P09769</td><td>Neurology         </td><td>P09769</td><td> 1</td><td> 27612064</td><td> 27635185</td></tr>\n",
       "\t<tr><td>PRTN3  </td><td> 0.005950025</td><td>0.05575863</td><td>9.150187e-01</td><td> 0.1959241</td><td>0.07860921</td><td>0.0126889837</td><td>502</td><td>30570</td><td>P24158</td><td>Cardiometabolic   </td><td>P24158</td><td>19</td><td>   840999</td><td>   848175</td></tr>\n",
       "\t<tr><td>⋮</td><td>⋮</td><td>⋮</td><td>⋮</td><td>⋮</td><td>⋮</td><td>⋮</td><td>⋮</td><td>⋮</td><td>⋮</td><td>⋮</td><td>⋮</td><td>⋮</td><td>⋮</td><td>⋮</td></tr>\n",
       "\t<tr><td>TRIM40 </td><td> 0.015176739</td><td>0.05438525</td><td>7.801989e-01</td><td> 6.344192e-04</td><td>0.07763974</td><td>0.9934803</td><td>541</td><td>32111</td><td>Q6P9F5</td><td>Neurology II      </td><td>Q6P9F5</td><td> 6</td><td> 30136124</td><td> 30148735</td></tr>\n",
       "\t<tr><td>FOSB   </td><td>-0.017463453</td><td>0.05500059</td><td>7.508537e-01</td><td> 6.474125e-04</td><td>0.07949958</td><td>0.9935024</td><td>531</td><td>31891</td><td>P53539</td><td>Neurology         </td><td>P53539</td><td>19</td><td> 45467995</td><td> 45475179</td></tr>\n",
       "\t<tr><td>SEMA3G </td><td> 0.067889384</td><td>0.05352909</td><td>2.047012e-01</td><td> 6.205768e-04</td><td>0.07687376</td><td>0.9935590</td><td>541</td><td>32111</td><td>Q9NS98</td><td>Inflammation II   </td><td>Q9NS98</td><td> 3</td><td> 52433035</td><td> 52445103</td></tr>\n",
       "\t<tr><td>CNPY4  </td><td> 0.023961630</td><td>0.05482669</td><td>6.620800e-01</td><td>-6.088976e-04</td><td>0.07815011</td><td>0.9937834</td><td>533</td><td>31945</td><td>Q8N129</td><td>Oncology          </td><td>Q8N129</td><td> 7</td><td>100119634</td><td>100125508</td></tr>\n",
       "\t<tr><td>EVPL   </td><td>-0.036379118</td><td>0.05453537</td><td>5.047250e-01</td><td> 5.531332e-04</td><td>0.07755658</td><td>0.9943095</td><td>541</td><td>32111</td><td>Q92817</td><td>Oncology II       </td><td>Q92817</td><td>17</td><td> 76004502</td><td> 76027306</td></tr>\n",
       "\t<tr><td>WASF3  </td><td>-0.013186791</td><td>0.05458372</td><td>8.090991e-01</td><td> 5.330072e-04</td><td>0.07742937</td><td>0.9945076</td><td>531</td><td>31891</td><td>Q9UPY6</td><td>Neurology         </td><td>Q9UPY6</td><td>13</td><td> 26557683</td><td> 26688948</td></tr>\n",
       "\t<tr><td>PACS2  </td><td>-0.065569750</td><td>0.05450367</td><td>2.289633e-01</td><td>-4.199918e-04</td><td>0.07699178</td><td>0.9956475</td><td>541</td><td>32111</td><td>Q86VP3</td><td>Cardiometabolic II</td><td>Q86VP3</td><td>14</td><td>105300563</td><td>105398147</td></tr>\n",
       "\t<tr><td>IFNGR2 </td><td> 0.046235880</td><td>0.05508532</td><td>4.012727e-01</td><td> 4.053387e-04</td><td>0.07865114</td><td>0.9958880</td><td>531</td><td>31891</td><td>P38484</td><td>Neurology         </td><td>P38484</td><td>21</td><td> 33403413</td><td> 33479348</td></tr>\n",
       "\t<tr><td>F9     </td><td> 0.111793945</td><td>0.05793482</td><td>5.365017e-02</td><td>-3.778283e-04</td><td>0.07893398</td><td>0.9961808</td><td>532</td><td>31756</td><td>P00740</td><td>Cardiometabolic   </td><td>P00740</td><td>23</td><td>139530739</td><td>139563459</td></tr>\n",
       "\t<tr><td>GCC1   </td><td>-0.034071045</td><td>0.05466188</td><td>5.330839e-01</td><td>-3.516747e-04</td><td>0.07633727</td><td>0.9963243</td><td>541</td><td>32111</td><td>Q96CN9</td><td>Neurology II      </td><td>Q96CN9</td><td> 7</td><td>127580628</td><td>127593611</td></tr>\n",
       "\t<tr><td>FHIP2A </td><td> 0.034042960</td><td>0.05461131</td><td>5.330426e-01</td><td> 3.473156e-04</td><td>0.07684055</td><td>0.9963936</td><td>541</td><td>32111</td><td>Q5W0V3</td><td>Cardiometabolic II</td><td>Q5W0V3</td><td>10</td><td>114821744</td><td>114899832</td></tr>\n",
       "\t<tr><td>RAB27B </td><td>-0.053528571</td><td>0.05417910</td><td>3.231561e-01</td><td> 3.393977e-04</td><td>0.07664324</td><td>0.9964668</td><td>541</td><td>32111</td><td>O00194</td><td>Cardiometabolic II</td><td>O00194</td><td>18</td><td> 54717860</td><td> 54895516</td></tr>\n",
       "\t<tr><td>PCYT2  </td><td> 0.015798626</td><td>0.05548710</td><td>7.758540e-01</td><td>-3.373014e-04</td><td>0.07853975</td><td>0.9965734</td><td>541</td><td>32111</td><td>Q99447</td><td>Oncology II       </td><td>Q99447</td><td>17</td><td> 81900958</td><td> 81911432</td></tr>\n",
       "\t<tr><td>RILP   </td><td>-0.024561917</td><td>0.05497800</td><td>6.550491e-01</td><td> 3.010849e-04</td><td>0.07867083</td><td>0.9969464</td><td>531</td><td>31825</td><td>Q96NA2</td><td>Oncology          </td><td>Q96NA2</td><td>17</td><td>  1646145</td><td>  1649866</td></tr>\n",
       "\t<tr><td>AREG   </td><td> 0.362713742</td><td>0.05944031</td><td>1.046507e-09</td><td>-2.928142e-04</td><td>0.08522372</td><td>0.9972586</td><td>533</td><td>31945</td><td>P15514</td><td>Oncology          </td><td>P15514</td><td> 4</td><td> 74445136</td><td> 74455005</td></tr>\n",
       "\t<tr><td>PGD    </td><td> 0.047479922</td><td>0.05548961</td><td>3.921890e-01</td><td>-2.495572e-04</td><td>0.07850040</td><td>0.9974635</td><td>541</td><td>32111</td><td>P52209</td><td>Cardiometabolic II</td><td>P52209</td><td> 1</td><td> 10398592</td><td> 10420511</td></tr>\n",
       "\t<tr><td>ANGPTL2</td><td> 0.040628254</td><td>0.05555394</td><td>4.645777e-01</td><td> 2.132818e-04</td><td>0.07957247</td><td>0.9978614</td><td>533</td><td>31819</td><td>Q9UKU9</td><td>Inflammation      </td><td>Q9UKU9</td><td> 9</td><td>127087348</td><td>127122635</td></tr>\n",
       "\t<tr><td>MFAP3L </td><td>-0.044811055</td><td>0.05365172</td><td>4.035932e-01</td><td>-1.721092e-04</td><td>0.07741613</td><td>0.9982262</td><td>541</td><td>32111</td><td>O75121</td><td>Neurology II      </td><td>O75121</td><td> 4</td><td>169986597</td><td>170033031</td></tr>\n",
       "\t<tr><td>ZP3    </td><td>-0.001421686</td><td>0.05272153</td><td>9.784869e-01</td><td> 1.578262e-04</td><td>0.07565281</td><td>0.9983355</td><td>541</td><td>32111</td><td>P21754</td><td>Cardiometabolic II</td><td>P21754</td><td> 7</td><td> 76397518</td><td> 76442071</td></tr>\n",
       "\t<tr><td>PRL    </td><td> 0.045298810</td><td>0.05640362</td><td>4.219060e-01</td><td> 1.541262e-04</td><td>0.08152083</td><td>0.9984915</td><td>531</td><td>31891</td><td>P01236</td><td>Neurology         </td><td>P01236</td><td> 6</td><td> 22287244</td><td> 22302826</td></tr>\n",
       "\t<tr><td>NIT2   </td><td>-0.012012722</td><td>0.05564839</td><td>8.290904e-01</td><td>-1.366500e-04</td><td>0.07895122</td><td>0.9986190</td><td>538</td><td>31992</td><td>Q9NQR4</td><td>Cardiometabolic II</td><td>Q9NQR4</td><td> 3</td><td>100334739</td><td>100361635</td></tr>\n",
       "\t<tr><td>DYNLT3 </td><td>-0.102312880</td><td>0.05400229</td><td>5.814505e-02</td><td> 1.265631e-04</td><td>0.07771553</td><td>0.9987006</td><td>541</td><td>32111</td><td>P51808</td><td>Oncology II       </td><td>P51808</td><td>23</td><td> 37836757</td><td> 37847571</td></tr>\n",
       "\t<tr><td>TNNI3  </td><td> 0.039571273</td><td>0.05458230</td><td>4.684621e-01</td><td>-1.200125e-04</td><td>0.07805061</td><td>0.9987732</td><td>532</td><td>31884</td><td>P19429</td><td>Cardiometabolic   </td><td>P19429</td><td>19</td><td> 55151767</td><td> 55157773</td></tr>\n",
       "\t<tr><td>CEP164 </td><td>-0.041524026</td><td>0.05504611</td><td>4.506392e-01</td><td>-1.198943e-04</td><td>0.07913154</td><td>0.9987911</td><td>533</td><td>31945</td><td>Q9UPV0</td><td>Inflammation      </td><td>Q9UPV0</td><td>11</td><td>117314557</td><td>117413266</td></tr>\n",
       "\t<tr><td>LACRT  </td><td>-0.087655812</td><td>0.05522829</td><td>1.124777e-01</td><td>-7.696100e-05</td><td>0.07687195</td><td>0.9992012</td><td>539</td><td>32053</td><td>Q9GZZ8</td><td>Oncology II       </td><td>Q9GZZ8</td><td>12</td><td> 54630811</td><td> 54634895</td></tr>\n",
       "\t<tr><td>MAP2K1 </td><td> 0.017063007</td><td>0.05549776</td><td>7.584979e-01</td><td> 6.026511e-05</td><td>0.07881852</td><td>0.9993899</td><td>541</td><td>32111</td><td>Q02750</td><td>Oncology II       </td><td>Q02750</td><td>15</td><td> 66386837</td><td> 66491656</td></tr>\n",
       "\t<tr><td>CD300C </td><td> 0.198181180</td><td>0.05456262</td><td>2.810382e-04</td><td>-5.573204e-05</td><td>0.07809940</td><td>0.9994306</td><td>531</td><td>31891</td><td>Q08708</td><td>Neurology         </td><td>Q08708</td><td>17</td><td> 74541073</td><td> 74546115</td></tr>\n",
       "\t<tr><td>BSND   </td><td>-0.024082352</td><td>0.05370085</td><td>6.538257e-01</td><td>-4.562151e-05</td><td>0.07823523</td><td>0.9995347</td><td>541</td><td>32111</td><td>Q8WZ55</td><td>Oncology II       </td><td>Q8WZ55</td><td> 1</td><td> 54998933</td><td> 55017172</td></tr>\n",
       "\t<tr><td>GHRHR  </td><td>-0.076350800</td><td>0.05479503</td><td>1.635021e-01</td><td> 3.099625e-05</td><td>0.07763654</td><td>0.9996814</td><td>531</td><td>31891</td><td>Q02643</td><td>Neurology         </td><td>Q02643</td><td> 7</td><td> 30938669</td><td> 30993254</td></tr>\n",
       "\t<tr><td>FZD10  </td><td> 0.029143211</td><td>0.05388023</td><td>5.885843e-01</td><td> 2.664567e-05</td><td>0.07787649</td><td>0.9997270</td><td>541</td><td>32111</td><td>Q9ULW2</td><td>Neurology II      </td><td>Q9ULW2</td><td>12</td><td>130162459</td><td>130165740</td></tr>\n",
       "</tbody>\n",
       "</table>\n"
      ],
      "text/latex": [
       "A data.table: 2919 × 15\n",
       "\\begin{tabular}{lllllllllllllll}\n",
       " PROTEIN & BETA & STDERR & PVALUE & PROTxE4 & PROTxE4\\_STDERR & PROTxE4\\_PVALUE & NCASES & NCONTROLS & UniProt & Panel & UniProt2 & Gene\\_CHROM & Gene\\_start & Gene\\_end\\\\\n",
       " <chr> & <dbl> & <dbl> & <dbl> & <dbl> & <dbl> & <dbl> & <int> & <int> & <chr> & <chr> & <chr> & <int> & <int> & <int>\\\\\n",
       "\\hline\n",
       "\t CEND1   &  0.073874888 & 0.05405086 & 1.716986e-01 &  0.2654944 & 0.07937150 & 0.0008229492 & 541 & 32111 & Q8N111 & Neurology II       & Q8N111 & 11 &    787115 &    790113\\\\\n",
       "\t PNPT1   &  0.080397252 & 0.05524805 & 1.456124e-01 & -0.2595978 & 0.08035951 & 0.0012359352 & 533 & 31945 & Q8TCS8 & Inflammation       & Q8TCS8 &  2 &  55634061 &  55693863\\\\\n",
       "\t GGT1    &  0.239548468 & 0.05976952 & 6.126883e-05 & -0.2496042 & 0.08064929 & 0.0019685696 & 531 & 31833 & P19440 & Neurology          & P19440 & 22 &  24594811 &  24629005\\\\\n",
       "\t PCSK7   &  0.082023688 & 0.05462843 & 1.332306e-01 & -0.2428209 & 0.07891993 & 0.0020923563 & 541 & 32111 & Q16549 & Oncology II        & Q16549 & 11 & 117204337 & 117232525\\\\\n",
       "\t BCL7A   &  0.097753461 & 0.05402380 & 7.038084e-02 & -0.2384891 & 0.07830314 & 0.0023212758 & 541 & 32111 & Q4VC05 & Oncology II        & Q4VC05 & 12 & 122019422 & 122062044\\\\\n",
       "\t NCF2    & -0.111638543 & 0.05500180 & 4.238448e-02 &  0.2402574 & 0.07939981 & 0.0024787906 & 530 & 31885 & P19878 & Inflammation       & P19878 &  1 & 183555562 & 183590876\\\\\n",
       "\t CBX2    & -0.090518088 & 0.05339859 & 9.004887e-02 &  0.2298219 & 0.07606096 & 0.0025148551 & 541 & 32111 & Q14781 & Cardiometabolic II & Q14781 & 17 &  79778148 &  79787983\\\\\n",
       "\t AMBN    & -0.043358276 & 0.05452807 & 4.265233e-01 &  0.2292448 & 0.07810476 & 0.0033344660 & 533 & 31945 & Q9NP70 & Inflammation       & Q9NP70 &  4 &  70592256 &  70607288\\\\\n",
       "\t MANSC4  &  0.121604688 & 0.05357215 & 2.321221e-02 & -0.2157350 & 0.07407298 & 0.0035858784 & 541 & 32111 & A6NHS7 & Cardiometabolic II & A6NHS7 & 12 &  27762427 &  27780236\\\\\n",
       "\t ITPRIP  &  0.032014904 & 0.05535809 & 5.630455e-01 & -0.2316742 & 0.08013171 & 0.0038381367 & 541 & 32111 & Q8IWB1 & Neurology II       & Q8IWB1 & 10 & 104309698 & 104338465\\\\\n",
       "\t ZBP1    & -0.080946372 & 0.05586916 & 1.473778e-01 &  0.2316666 & 0.08102534 & 0.0042472879 & 541 & 32111 & Q9H171 & Inflammation II    & Q9H171 & 20 &  57603846 &  57620576\\\\\n",
       "\t BLNK    & -0.084842830 & 0.05432986 & 1.183765e-01 &  0.2222081 & 0.07778945 & 0.0042829597 & 541 & 32111 & Q8WV28 & Inflammation II    & Q8WV28 & 10 &  96189171 &  96271587\\\\\n",
       "\t IKZF2   & -0.089358662 & 0.05480992 & 1.030302e-01 &  0.2263542 & 0.07974933 & 0.0045351603 & 533 & 31945 & Q9UKS7 & Oncology           & Q9UKS7 &  2 & 212999691 & 213152427\\\\\n",
       "\t MKI67   & -0.090449055 & 0.05428431 & 9.567164e-02 &  0.2252630 & 0.08033572 & 0.0050469774 & 541 & 32111 & P46013 & Inflammation II    & P46013 & 10 & 128096659 & 128126423\\\\\n",
       "\t DOC2B   & -0.044055689 & 0.05390914 & 4.138020e-01 &  0.2170003 & 0.07892067 & 0.0059668116 & 541 & 32111 & Q14184 & Neurology II       & Q14184 & 17 &    142789 &    181650\\\\\n",
       "\t APBB1IP &  0.023616245 & 0.05625137 & 6.746066e-01 &  0.2209657 & 0.08081437 & 0.0062524871 & 533 & 31945 & Q7Z5R6 & Oncology           & Q7Z5R6 & 10 &  26438341 &  26567803\\\\\n",
       "\t ANXA1   & -0.029985133 & 0.05720719 & 6.001744e-01 &  0.2242317 & 0.08428542 & 0.0078051189 & 531 & 31920 & P04083 & Inflammation II    & P04083 &  9 &  73151865 &  73170393\\\\\n",
       "\t BCL2L15 & -0.038643736 & 0.05558260 & 4.868994e-01 &  0.2118009 & 0.07970447 & 0.0078762744 & 541 & 32111 & Q5TBC7 & Inflammation II    & Q5TBC7 &  1 & 113876816 & 113887581\\\\\n",
       "\t SCLY    &  0.077219721 & 0.05825155 & 1.849639e-01 & -0.2174733 & 0.08326603 & 0.0090069724 & 531 & 31825 & Q96I15 & Oncology           & Q96I15 &  2 & 238060924 & 238099413\\\\\n",
       "\t GLP1R   & -0.074061484 & 0.05363050 & 1.672918e-01 &  0.2026165 & 0.07775467 & 0.0091648262 & 541 & 32111 & P43220 & Neurology II       & P43220 &  6 &  39048781 &  39091303\\\\\n",
       "\t PAM     & -0.027430998 & 0.05381062 & 6.102131e-01 &  0.2035990 & 0.07819687 & 0.0092230945 & 529 & 31704 & P19021 & Cardiometabolic    & P19021 &  5 & 102753981 & 103029730\\\\\n",
       "\t APOE    &  0.025871177 & 0.05859747 & 6.588462e-01 & -0.2104990 & 0.08125157 & 0.0095779078 & 541 & 32111 & P02649 & Inflammation II    & P02649 & 19 &  44905791 &  44909393\\\\\n",
       "\t SATB1   & -0.120300993 & 0.05455897 & 2.745608e-02 &  0.2016541 & 0.07796885 & 0.0097000767 & 541 & 32111 & Q01826 & Neurology II       & Q01826 &  3 &  18345377 &  18445621\\\\\n",
       "\t COL5A1  &  0.179770535 & 0.05304242 & 7.010089e-04 & -0.1936526 & 0.07551853 & 0.0103382280 & 541 & 32111 & P20908 & Inflammation II    & P20908 &  9 & 134641803 & 134844843\\\\\n",
       "\t AMY2B   & -0.145065538 & 0.05691901 & 1.081468e-02 &  0.2037086 & 0.08017692 & 0.0110618582 & 480 & 29047 & P19961 & Cardiometabolic    & P19961 &  1 & 103553815 & 103579534\\\\\n",
       "\t ACY1    &  0.079692476 & 0.05921147 & 1.783361e-01 & -0.2012165 & 0.08048436 & 0.0124168720 & 532 & 31884 & Q03154 & Cardiometabolic    & Q03154 &  3 &  51983340 &  51989197\\\\\n",
       "\t ATF4    &  0.025574686 & 0.05320781 & 6.307606e-01 & -0.1962642 & 0.07862480 & 0.0125527589 & 541 & 32111 & P18848 & Oncology II        & P18848 & 22 &  39519695 &  39522683\\\\\n",
       "\t S100A11 & -0.020127371 & 0.05634378 & 7.209239e-01 &  0.2057731 & 0.08248267 & 0.0126048019 & 530 & 31633 & P31949 & Cardiometabolic    & P31949 &  1 & 152032506 & 152047907\\\\\n",
       "\t FGR     & -0.019842476 & 0.05489644 & 7.177609e-01 &  0.2000033 & 0.08018651 & 0.0126232139 & 531 & 31891 & P09769 & Neurology          & P09769 &  1 &  27612064 &  27635185\\\\\n",
       "\t PRTN3   &  0.005950025 & 0.05575863 & 9.150187e-01 &  0.1959241 & 0.07860921 & 0.0126889837 & 502 & 30570 & P24158 & Cardiometabolic    & P24158 & 19 &    840999 &    848175\\\\\n",
       "\t ⋮ & ⋮ & ⋮ & ⋮ & ⋮ & ⋮ & ⋮ & ⋮ & ⋮ & ⋮ & ⋮ & ⋮ & ⋮ & ⋮ & ⋮\\\\\n",
       "\t TRIM40  &  0.015176739 & 0.05438525 & 7.801989e-01 &  6.344192e-04 & 0.07763974 & 0.9934803 & 541 & 32111 & Q6P9F5 & Neurology II       & Q6P9F5 &  6 &  30136124 &  30148735\\\\\n",
       "\t FOSB    & -0.017463453 & 0.05500059 & 7.508537e-01 &  6.474125e-04 & 0.07949958 & 0.9935024 & 531 & 31891 & P53539 & Neurology          & P53539 & 19 &  45467995 &  45475179\\\\\n",
       "\t SEMA3G  &  0.067889384 & 0.05352909 & 2.047012e-01 &  6.205768e-04 & 0.07687376 & 0.9935590 & 541 & 32111 & Q9NS98 & Inflammation II    & Q9NS98 &  3 &  52433035 &  52445103\\\\\n",
       "\t CNPY4   &  0.023961630 & 0.05482669 & 6.620800e-01 & -6.088976e-04 & 0.07815011 & 0.9937834 & 533 & 31945 & Q8N129 & Oncology           & Q8N129 &  7 & 100119634 & 100125508\\\\\n",
       "\t EVPL    & -0.036379118 & 0.05453537 & 5.047250e-01 &  5.531332e-04 & 0.07755658 & 0.9943095 & 541 & 32111 & Q92817 & Oncology II        & Q92817 & 17 &  76004502 &  76027306\\\\\n",
       "\t WASF3   & -0.013186791 & 0.05458372 & 8.090991e-01 &  5.330072e-04 & 0.07742937 & 0.9945076 & 531 & 31891 & Q9UPY6 & Neurology          & Q9UPY6 & 13 &  26557683 &  26688948\\\\\n",
       "\t PACS2   & -0.065569750 & 0.05450367 & 2.289633e-01 & -4.199918e-04 & 0.07699178 & 0.9956475 & 541 & 32111 & Q86VP3 & Cardiometabolic II & Q86VP3 & 14 & 105300563 & 105398147\\\\\n",
       "\t IFNGR2  &  0.046235880 & 0.05508532 & 4.012727e-01 &  4.053387e-04 & 0.07865114 & 0.9958880 & 531 & 31891 & P38484 & Neurology          & P38484 & 21 &  33403413 &  33479348\\\\\n",
       "\t F9      &  0.111793945 & 0.05793482 & 5.365017e-02 & -3.778283e-04 & 0.07893398 & 0.9961808 & 532 & 31756 & P00740 & Cardiometabolic    & P00740 & 23 & 139530739 & 139563459\\\\\n",
       "\t GCC1    & -0.034071045 & 0.05466188 & 5.330839e-01 & -3.516747e-04 & 0.07633727 & 0.9963243 & 541 & 32111 & Q96CN9 & Neurology II       & Q96CN9 &  7 & 127580628 & 127593611\\\\\n",
       "\t FHIP2A  &  0.034042960 & 0.05461131 & 5.330426e-01 &  3.473156e-04 & 0.07684055 & 0.9963936 & 541 & 32111 & Q5W0V3 & Cardiometabolic II & Q5W0V3 & 10 & 114821744 & 114899832\\\\\n",
       "\t RAB27B  & -0.053528571 & 0.05417910 & 3.231561e-01 &  3.393977e-04 & 0.07664324 & 0.9964668 & 541 & 32111 & O00194 & Cardiometabolic II & O00194 & 18 &  54717860 &  54895516\\\\\n",
       "\t PCYT2   &  0.015798626 & 0.05548710 & 7.758540e-01 & -3.373014e-04 & 0.07853975 & 0.9965734 & 541 & 32111 & Q99447 & Oncology II        & Q99447 & 17 &  81900958 &  81911432\\\\\n",
       "\t RILP    & -0.024561917 & 0.05497800 & 6.550491e-01 &  3.010849e-04 & 0.07867083 & 0.9969464 & 531 & 31825 & Q96NA2 & Oncology           & Q96NA2 & 17 &   1646145 &   1649866\\\\\n",
       "\t AREG    &  0.362713742 & 0.05944031 & 1.046507e-09 & -2.928142e-04 & 0.08522372 & 0.9972586 & 533 & 31945 & P15514 & Oncology           & P15514 &  4 &  74445136 &  74455005\\\\\n",
       "\t PGD     &  0.047479922 & 0.05548961 & 3.921890e-01 & -2.495572e-04 & 0.07850040 & 0.9974635 & 541 & 32111 & P52209 & Cardiometabolic II & P52209 &  1 &  10398592 &  10420511\\\\\n",
       "\t ANGPTL2 &  0.040628254 & 0.05555394 & 4.645777e-01 &  2.132818e-04 & 0.07957247 & 0.9978614 & 533 & 31819 & Q9UKU9 & Inflammation       & Q9UKU9 &  9 & 127087348 & 127122635\\\\\n",
       "\t MFAP3L  & -0.044811055 & 0.05365172 & 4.035932e-01 & -1.721092e-04 & 0.07741613 & 0.9982262 & 541 & 32111 & O75121 & Neurology II       & O75121 &  4 & 169986597 & 170033031\\\\\n",
       "\t ZP3     & -0.001421686 & 0.05272153 & 9.784869e-01 &  1.578262e-04 & 0.07565281 & 0.9983355 & 541 & 32111 & P21754 & Cardiometabolic II & P21754 &  7 &  76397518 &  76442071\\\\\n",
       "\t PRL     &  0.045298810 & 0.05640362 & 4.219060e-01 &  1.541262e-04 & 0.08152083 & 0.9984915 & 531 & 31891 & P01236 & Neurology          & P01236 &  6 &  22287244 &  22302826\\\\\n",
       "\t NIT2    & -0.012012722 & 0.05564839 & 8.290904e-01 & -1.366500e-04 & 0.07895122 & 0.9986190 & 538 & 31992 & Q9NQR4 & Cardiometabolic II & Q9NQR4 &  3 & 100334739 & 100361635\\\\\n",
       "\t DYNLT3  & -0.102312880 & 0.05400229 & 5.814505e-02 &  1.265631e-04 & 0.07771553 & 0.9987006 & 541 & 32111 & P51808 & Oncology II        & P51808 & 23 &  37836757 &  37847571\\\\\n",
       "\t TNNI3   &  0.039571273 & 0.05458230 & 4.684621e-01 & -1.200125e-04 & 0.07805061 & 0.9987732 & 532 & 31884 & P19429 & Cardiometabolic    & P19429 & 19 &  55151767 &  55157773\\\\\n",
       "\t CEP164  & -0.041524026 & 0.05504611 & 4.506392e-01 & -1.198943e-04 & 0.07913154 & 0.9987911 & 533 & 31945 & Q9UPV0 & Inflammation       & Q9UPV0 & 11 & 117314557 & 117413266\\\\\n",
       "\t LACRT   & -0.087655812 & 0.05522829 & 1.124777e-01 & -7.696100e-05 & 0.07687195 & 0.9992012 & 539 & 32053 & Q9GZZ8 & Oncology II        & Q9GZZ8 & 12 &  54630811 &  54634895\\\\\n",
       "\t MAP2K1  &  0.017063007 & 0.05549776 & 7.584979e-01 &  6.026511e-05 & 0.07881852 & 0.9993899 & 541 & 32111 & Q02750 & Oncology II        & Q02750 & 15 &  66386837 &  66491656\\\\\n",
       "\t CD300C  &  0.198181180 & 0.05456262 & 2.810382e-04 & -5.573204e-05 & 0.07809940 & 0.9994306 & 531 & 31891 & Q08708 & Neurology          & Q08708 & 17 &  74541073 &  74546115\\\\\n",
       "\t BSND    & -0.024082352 & 0.05370085 & 6.538257e-01 & -4.562151e-05 & 0.07823523 & 0.9995347 & 541 & 32111 & Q8WZ55 & Oncology II        & Q8WZ55 &  1 &  54998933 &  55017172\\\\\n",
       "\t GHRHR   & -0.076350800 & 0.05479503 & 1.635021e-01 &  3.099625e-05 & 0.07763654 & 0.9996814 & 531 & 31891 & Q02643 & Neurology          & Q02643 &  7 &  30938669 &  30993254\\\\\n",
       "\t FZD10   &  0.029143211 & 0.05388023 & 5.885843e-01 &  2.664567e-05 & 0.07787649 & 0.9997270 & 541 & 32111 & Q9ULW2 & Neurology II       & Q9ULW2 & 12 & 130162459 & 130165740\\\\\n",
       "\\end{tabular}\n"
      ],
      "text/markdown": [
       "\n",
       "A data.table: 2919 × 15\n",
       "\n",
       "| PROTEIN &lt;chr&gt; | BETA &lt;dbl&gt; | STDERR &lt;dbl&gt; | PVALUE &lt;dbl&gt; | PROTxE4 &lt;dbl&gt; | PROTxE4_STDERR &lt;dbl&gt; | PROTxE4_PVALUE &lt;dbl&gt; | NCASES &lt;int&gt; | NCONTROLS &lt;int&gt; | UniProt &lt;chr&gt; | Panel &lt;chr&gt; | UniProt2 &lt;chr&gt; | Gene_CHROM &lt;int&gt; | Gene_start &lt;int&gt; | Gene_end &lt;int&gt; |\n",
       "|---|---|---|---|---|---|---|---|---|---|---|---|---|---|---|\n",
       "| CEND1   |  0.073874888 | 0.05405086 | 1.716986e-01 |  0.2654944 | 0.07937150 | 0.0008229492 | 541 | 32111 | Q8N111 | Neurology II       | Q8N111 | 11 |    787115 |    790113 |\n",
       "| PNPT1   |  0.080397252 | 0.05524805 | 1.456124e-01 | -0.2595978 | 0.08035951 | 0.0012359352 | 533 | 31945 | Q8TCS8 | Inflammation       | Q8TCS8 |  2 |  55634061 |  55693863 |\n",
       "| GGT1    |  0.239548468 | 0.05976952 | 6.126883e-05 | -0.2496042 | 0.08064929 | 0.0019685696 | 531 | 31833 | P19440 | Neurology          | P19440 | 22 |  24594811 |  24629005 |\n",
       "| PCSK7   |  0.082023688 | 0.05462843 | 1.332306e-01 | -0.2428209 | 0.07891993 | 0.0020923563 | 541 | 32111 | Q16549 | Oncology II        | Q16549 | 11 | 117204337 | 117232525 |\n",
       "| BCL7A   |  0.097753461 | 0.05402380 | 7.038084e-02 | -0.2384891 | 0.07830314 | 0.0023212758 | 541 | 32111 | Q4VC05 | Oncology II        | Q4VC05 | 12 | 122019422 | 122062044 |\n",
       "| NCF2    | -0.111638543 | 0.05500180 | 4.238448e-02 |  0.2402574 | 0.07939981 | 0.0024787906 | 530 | 31885 | P19878 | Inflammation       | P19878 |  1 | 183555562 | 183590876 |\n",
       "| CBX2    | -0.090518088 | 0.05339859 | 9.004887e-02 |  0.2298219 | 0.07606096 | 0.0025148551 | 541 | 32111 | Q14781 | Cardiometabolic II | Q14781 | 17 |  79778148 |  79787983 |\n",
       "| AMBN    | -0.043358276 | 0.05452807 | 4.265233e-01 |  0.2292448 | 0.07810476 | 0.0033344660 | 533 | 31945 | Q9NP70 | Inflammation       | Q9NP70 |  4 |  70592256 |  70607288 |\n",
       "| MANSC4  |  0.121604688 | 0.05357215 | 2.321221e-02 | -0.2157350 | 0.07407298 | 0.0035858784 | 541 | 32111 | A6NHS7 | Cardiometabolic II | A6NHS7 | 12 |  27762427 |  27780236 |\n",
       "| ITPRIP  |  0.032014904 | 0.05535809 | 5.630455e-01 | -0.2316742 | 0.08013171 | 0.0038381367 | 541 | 32111 | Q8IWB1 | Neurology II       | Q8IWB1 | 10 | 104309698 | 104338465 |\n",
       "| ZBP1    | -0.080946372 | 0.05586916 | 1.473778e-01 |  0.2316666 | 0.08102534 | 0.0042472879 | 541 | 32111 | Q9H171 | Inflammation II    | Q9H171 | 20 |  57603846 |  57620576 |\n",
       "| BLNK    | -0.084842830 | 0.05432986 | 1.183765e-01 |  0.2222081 | 0.07778945 | 0.0042829597 | 541 | 32111 | Q8WV28 | Inflammation II    | Q8WV28 | 10 |  96189171 |  96271587 |\n",
       "| IKZF2   | -0.089358662 | 0.05480992 | 1.030302e-01 |  0.2263542 | 0.07974933 | 0.0045351603 | 533 | 31945 | Q9UKS7 | Oncology           | Q9UKS7 |  2 | 212999691 | 213152427 |\n",
       "| MKI67   | -0.090449055 | 0.05428431 | 9.567164e-02 |  0.2252630 | 0.08033572 | 0.0050469774 | 541 | 32111 | P46013 | Inflammation II    | P46013 | 10 | 128096659 | 128126423 |\n",
       "| DOC2B   | -0.044055689 | 0.05390914 | 4.138020e-01 |  0.2170003 | 0.07892067 | 0.0059668116 | 541 | 32111 | Q14184 | Neurology II       | Q14184 | 17 |    142789 |    181650 |\n",
       "| APBB1IP |  0.023616245 | 0.05625137 | 6.746066e-01 |  0.2209657 | 0.08081437 | 0.0062524871 | 533 | 31945 | Q7Z5R6 | Oncology           | Q7Z5R6 | 10 |  26438341 |  26567803 |\n",
       "| ANXA1   | -0.029985133 | 0.05720719 | 6.001744e-01 |  0.2242317 | 0.08428542 | 0.0078051189 | 531 | 31920 | P04083 | Inflammation II    | P04083 |  9 |  73151865 |  73170393 |\n",
       "| BCL2L15 | -0.038643736 | 0.05558260 | 4.868994e-01 |  0.2118009 | 0.07970447 | 0.0078762744 | 541 | 32111 | Q5TBC7 | Inflammation II    | Q5TBC7 |  1 | 113876816 | 113887581 |\n",
       "| SCLY    |  0.077219721 | 0.05825155 | 1.849639e-01 | -0.2174733 | 0.08326603 | 0.0090069724 | 531 | 31825 | Q96I15 | Oncology           | Q96I15 |  2 | 238060924 | 238099413 |\n",
       "| GLP1R   | -0.074061484 | 0.05363050 | 1.672918e-01 |  0.2026165 | 0.07775467 | 0.0091648262 | 541 | 32111 | P43220 | Neurology II       | P43220 |  6 |  39048781 |  39091303 |\n",
       "| PAM     | -0.027430998 | 0.05381062 | 6.102131e-01 |  0.2035990 | 0.07819687 | 0.0092230945 | 529 | 31704 | P19021 | Cardiometabolic    | P19021 |  5 | 102753981 | 103029730 |\n",
       "| APOE    |  0.025871177 | 0.05859747 | 6.588462e-01 | -0.2104990 | 0.08125157 | 0.0095779078 | 541 | 32111 | P02649 | Inflammation II    | P02649 | 19 |  44905791 |  44909393 |\n",
       "| SATB1   | -0.120300993 | 0.05455897 | 2.745608e-02 |  0.2016541 | 0.07796885 | 0.0097000767 | 541 | 32111 | Q01826 | Neurology II       | Q01826 |  3 |  18345377 |  18445621 |\n",
       "| COL5A1  |  0.179770535 | 0.05304242 | 7.010089e-04 | -0.1936526 | 0.07551853 | 0.0103382280 | 541 | 32111 | P20908 | Inflammation II    | P20908 |  9 | 134641803 | 134844843 |\n",
       "| AMY2B   | -0.145065538 | 0.05691901 | 1.081468e-02 |  0.2037086 | 0.08017692 | 0.0110618582 | 480 | 29047 | P19961 | Cardiometabolic    | P19961 |  1 | 103553815 | 103579534 |\n",
       "| ACY1    |  0.079692476 | 0.05921147 | 1.783361e-01 | -0.2012165 | 0.08048436 | 0.0124168720 | 532 | 31884 | Q03154 | Cardiometabolic    | Q03154 |  3 |  51983340 |  51989197 |\n",
       "| ATF4    |  0.025574686 | 0.05320781 | 6.307606e-01 | -0.1962642 | 0.07862480 | 0.0125527589 | 541 | 32111 | P18848 | Oncology II        | P18848 | 22 |  39519695 |  39522683 |\n",
       "| S100A11 | -0.020127371 | 0.05634378 | 7.209239e-01 |  0.2057731 | 0.08248267 | 0.0126048019 | 530 | 31633 | P31949 | Cardiometabolic    | P31949 |  1 | 152032506 | 152047907 |\n",
       "| FGR     | -0.019842476 | 0.05489644 | 7.177609e-01 |  0.2000033 | 0.08018651 | 0.0126232139 | 531 | 31891 | P09769 | Neurology          | P09769 |  1 |  27612064 |  27635185 |\n",
       "| PRTN3   |  0.005950025 | 0.05575863 | 9.150187e-01 |  0.1959241 | 0.07860921 | 0.0126889837 | 502 | 30570 | P24158 | Cardiometabolic    | P24158 | 19 |    840999 |    848175 |\n",
       "| ⋮ | ⋮ | ⋮ | ⋮ | ⋮ | ⋮ | ⋮ | ⋮ | ⋮ | ⋮ | ⋮ | ⋮ | ⋮ | ⋮ | ⋮ |\n",
       "| TRIM40  |  0.015176739 | 0.05438525 | 7.801989e-01 |  6.344192e-04 | 0.07763974 | 0.9934803 | 541 | 32111 | Q6P9F5 | Neurology II       | Q6P9F5 |  6 |  30136124 |  30148735 |\n",
       "| FOSB    | -0.017463453 | 0.05500059 | 7.508537e-01 |  6.474125e-04 | 0.07949958 | 0.9935024 | 531 | 31891 | P53539 | Neurology          | P53539 | 19 |  45467995 |  45475179 |\n",
       "| SEMA3G  |  0.067889384 | 0.05352909 | 2.047012e-01 |  6.205768e-04 | 0.07687376 | 0.9935590 | 541 | 32111 | Q9NS98 | Inflammation II    | Q9NS98 |  3 |  52433035 |  52445103 |\n",
       "| CNPY4   |  0.023961630 | 0.05482669 | 6.620800e-01 | -6.088976e-04 | 0.07815011 | 0.9937834 | 533 | 31945 | Q8N129 | Oncology           | Q8N129 |  7 | 100119634 | 100125508 |\n",
       "| EVPL    | -0.036379118 | 0.05453537 | 5.047250e-01 |  5.531332e-04 | 0.07755658 | 0.9943095 | 541 | 32111 | Q92817 | Oncology II        | Q92817 | 17 |  76004502 |  76027306 |\n",
       "| WASF3   | -0.013186791 | 0.05458372 | 8.090991e-01 |  5.330072e-04 | 0.07742937 | 0.9945076 | 531 | 31891 | Q9UPY6 | Neurology          | Q9UPY6 | 13 |  26557683 |  26688948 |\n",
       "| PACS2   | -0.065569750 | 0.05450367 | 2.289633e-01 | -4.199918e-04 | 0.07699178 | 0.9956475 | 541 | 32111 | Q86VP3 | Cardiometabolic II | Q86VP3 | 14 | 105300563 | 105398147 |\n",
       "| IFNGR2  |  0.046235880 | 0.05508532 | 4.012727e-01 |  4.053387e-04 | 0.07865114 | 0.9958880 | 531 | 31891 | P38484 | Neurology          | P38484 | 21 |  33403413 |  33479348 |\n",
       "| F9      |  0.111793945 | 0.05793482 | 5.365017e-02 | -3.778283e-04 | 0.07893398 | 0.9961808 | 532 | 31756 | P00740 | Cardiometabolic    | P00740 | 23 | 139530739 | 139563459 |\n",
       "| GCC1    | -0.034071045 | 0.05466188 | 5.330839e-01 | -3.516747e-04 | 0.07633727 | 0.9963243 | 541 | 32111 | Q96CN9 | Neurology II       | Q96CN9 |  7 | 127580628 | 127593611 |\n",
       "| FHIP2A  |  0.034042960 | 0.05461131 | 5.330426e-01 |  3.473156e-04 | 0.07684055 | 0.9963936 | 541 | 32111 | Q5W0V3 | Cardiometabolic II | Q5W0V3 | 10 | 114821744 | 114899832 |\n",
       "| RAB27B  | -0.053528571 | 0.05417910 | 3.231561e-01 |  3.393977e-04 | 0.07664324 | 0.9964668 | 541 | 32111 | O00194 | Cardiometabolic II | O00194 | 18 |  54717860 |  54895516 |\n",
       "| PCYT2   |  0.015798626 | 0.05548710 | 7.758540e-01 | -3.373014e-04 | 0.07853975 | 0.9965734 | 541 | 32111 | Q99447 | Oncology II        | Q99447 | 17 |  81900958 |  81911432 |\n",
       "| RILP    | -0.024561917 | 0.05497800 | 6.550491e-01 |  3.010849e-04 | 0.07867083 | 0.9969464 | 531 | 31825 | Q96NA2 | Oncology           | Q96NA2 | 17 |   1646145 |   1649866 |\n",
       "| AREG    |  0.362713742 | 0.05944031 | 1.046507e-09 | -2.928142e-04 | 0.08522372 | 0.9972586 | 533 | 31945 | P15514 | Oncology           | P15514 |  4 |  74445136 |  74455005 |\n",
       "| PGD     |  0.047479922 | 0.05548961 | 3.921890e-01 | -2.495572e-04 | 0.07850040 | 0.9974635 | 541 | 32111 | P52209 | Cardiometabolic II | P52209 |  1 |  10398592 |  10420511 |\n",
       "| ANGPTL2 |  0.040628254 | 0.05555394 | 4.645777e-01 |  2.132818e-04 | 0.07957247 | 0.9978614 | 533 | 31819 | Q9UKU9 | Inflammation       | Q9UKU9 |  9 | 127087348 | 127122635 |\n",
       "| MFAP3L  | -0.044811055 | 0.05365172 | 4.035932e-01 | -1.721092e-04 | 0.07741613 | 0.9982262 | 541 | 32111 | O75121 | Neurology II       | O75121 |  4 | 169986597 | 170033031 |\n",
       "| ZP3     | -0.001421686 | 0.05272153 | 9.784869e-01 |  1.578262e-04 | 0.07565281 | 0.9983355 | 541 | 32111 | P21754 | Cardiometabolic II | P21754 |  7 |  76397518 |  76442071 |\n",
       "| PRL     |  0.045298810 | 0.05640362 | 4.219060e-01 |  1.541262e-04 | 0.08152083 | 0.9984915 | 531 | 31891 | P01236 | Neurology          | P01236 |  6 |  22287244 |  22302826 |\n",
       "| NIT2    | -0.012012722 | 0.05564839 | 8.290904e-01 | -1.366500e-04 | 0.07895122 | 0.9986190 | 538 | 31992 | Q9NQR4 | Cardiometabolic II | Q9NQR4 |  3 | 100334739 | 100361635 |\n",
       "| DYNLT3  | -0.102312880 | 0.05400229 | 5.814505e-02 |  1.265631e-04 | 0.07771553 | 0.9987006 | 541 | 32111 | P51808 | Oncology II        | P51808 | 23 |  37836757 |  37847571 |\n",
       "| TNNI3   |  0.039571273 | 0.05458230 | 4.684621e-01 | -1.200125e-04 | 0.07805061 | 0.9987732 | 532 | 31884 | P19429 | Cardiometabolic    | P19429 | 19 |  55151767 |  55157773 |\n",
       "| CEP164  | -0.041524026 | 0.05504611 | 4.506392e-01 | -1.198943e-04 | 0.07913154 | 0.9987911 | 533 | 31945 | Q9UPV0 | Inflammation       | Q9UPV0 | 11 | 117314557 | 117413266 |\n",
       "| LACRT   | -0.087655812 | 0.05522829 | 1.124777e-01 | -7.696100e-05 | 0.07687195 | 0.9992012 | 539 | 32053 | Q9GZZ8 | Oncology II        | Q9GZZ8 | 12 |  54630811 |  54634895 |\n",
       "| MAP2K1  |  0.017063007 | 0.05549776 | 7.584979e-01 |  6.026511e-05 | 0.07881852 | 0.9993899 | 541 | 32111 | Q02750 | Oncology II        | Q02750 | 15 |  66386837 |  66491656 |\n",
       "| CD300C  |  0.198181180 | 0.05456262 | 2.810382e-04 | -5.573204e-05 | 0.07809940 | 0.9994306 | 531 | 31891 | Q08708 | Neurology          | Q08708 | 17 |  74541073 |  74546115 |\n",
       "| BSND    | -0.024082352 | 0.05370085 | 6.538257e-01 | -4.562151e-05 | 0.07823523 | 0.9995347 | 541 | 32111 | Q8WZ55 | Oncology II        | Q8WZ55 |  1 |  54998933 |  55017172 |\n",
       "| GHRHR   | -0.076350800 | 0.05479503 | 1.635021e-01 |  3.099625e-05 | 0.07763654 | 0.9996814 | 531 | 31891 | Q02643 | Neurology          | Q02643 |  7 |  30938669 |  30993254 |\n",
       "| FZD10   |  0.029143211 | 0.05388023 | 5.885843e-01 |  2.664567e-05 | 0.07787649 | 0.9997270 | 541 | 32111 | Q9ULW2 | Neurology II       | Q9ULW2 | 12 | 130162459 | 130165740 |\n",
       "\n"
      ],
      "text/plain": [
       "     PROTEIN BETA         STDERR     PVALUE       PROTxE4       PROTxE4_STDERR PROTxE4_PVALUE NCASES NCONTROLS UniProt Panel              UniProt2 Gene_CHROM Gene_start Gene_end \n",
       "1    CEND1    0.073874888 0.05405086 1.716986e-01  0.2654944    0.07937150     0.0008229492   541    32111     Q8N111  Neurology II       Q8N111   11            787115     790113\n",
       "2    PNPT1    0.080397252 0.05524805 1.456124e-01 -0.2595978    0.08035951     0.0012359352   533    31945     Q8TCS8  Inflammation       Q8TCS8    2          55634061   55693863\n",
       "3    GGT1     0.239548468 0.05976952 6.126883e-05 -0.2496042    0.08064929     0.0019685696   531    31833     P19440  Neurology          P19440   22          24594811   24629005\n",
       "4    PCSK7    0.082023688 0.05462843 1.332306e-01 -0.2428209    0.07891993     0.0020923563   541    32111     Q16549  Oncology II        Q16549   11         117204337  117232525\n",
       "5    BCL7A    0.097753461 0.05402380 7.038084e-02 -0.2384891    0.07830314     0.0023212758   541    32111     Q4VC05  Oncology II        Q4VC05   12         122019422  122062044\n",
       "6    NCF2    -0.111638543 0.05500180 4.238448e-02  0.2402574    0.07939981     0.0024787906   530    31885     P19878  Inflammation       P19878    1         183555562  183590876\n",
       "7    CBX2    -0.090518088 0.05339859 9.004887e-02  0.2298219    0.07606096     0.0025148551   541    32111     Q14781  Cardiometabolic II Q14781   17          79778148   79787983\n",
       "8    AMBN    -0.043358276 0.05452807 4.265233e-01  0.2292448    0.07810476     0.0033344660   533    31945     Q9NP70  Inflammation       Q9NP70    4          70592256   70607288\n",
       "9    MANSC4   0.121604688 0.05357215 2.321221e-02 -0.2157350    0.07407298     0.0035858784   541    32111     A6NHS7  Cardiometabolic II A6NHS7   12          27762427   27780236\n",
       "10   ITPRIP   0.032014904 0.05535809 5.630455e-01 -0.2316742    0.08013171     0.0038381367   541    32111     Q8IWB1  Neurology II       Q8IWB1   10         104309698  104338465\n",
       "11   ZBP1    -0.080946372 0.05586916 1.473778e-01  0.2316666    0.08102534     0.0042472879   541    32111     Q9H171  Inflammation II    Q9H171   20          57603846   57620576\n",
       "12   BLNK    -0.084842830 0.05432986 1.183765e-01  0.2222081    0.07778945     0.0042829597   541    32111     Q8WV28  Inflammation II    Q8WV28   10          96189171   96271587\n",
       "13   IKZF2   -0.089358662 0.05480992 1.030302e-01  0.2263542    0.07974933     0.0045351603   533    31945     Q9UKS7  Oncology           Q9UKS7    2         212999691  213152427\n",
       "14   MKI67   -0.090449055 0.05428431 9.567164e-02  0.2252630    0.08033572     0.0050469774   541    32111     P46013  Inflammation II    P46013   10         128096659  128126423\n",
       "15   DOC2B   -0.044055689 0.05390914 4.138020e-01  0.2170003    0.07892067     0.0059668116   541    32111     Q14184  Neurology II       Q14184   17            142789     181650\n",
       "16   APBB1IP  0.023616245 0.05625137 6.746066e-01  0.2209657    0.08081437     0.0062524871   533    31945     Q7Z5R6  Oncology           Q7Z5R6   10          26438341   26567803\n",
       "17   ANXA1   -0.029985133 0.05720719 6.001744e-01  0.2242317    0.08428542     0.0078051189   531    31920     P04083  Inflammation II    P04083    9          73151865   73170393\n",
       "18   BCL2L15 -0.038643736 0.05558260 4.868994e-01  0.2118009    0.07970447     0.0078762744   541    32111     Q5TBC7  Inflammation II    Q5TBC7    1         113876816  113887581\n",
       "19   SCLY     0.077219721 0.05825155 1.849639e-01 -0.2174733    0.08326603     0.0090069724   531    31825     Q96I15  Oncology           Q96I15    2         238060924  238099413\n",
       "20   GLP1R   -0.074061484 0.05363050 1.672918e-01  0.2026165    0.07775467     0.0091648262   541    32111     P43220  Neurology II       P43220    6          39048781   39091303\n",
       "21   PAM     -0.027430998 0.05381062 6.102131e-01  0.2035990    0.07819687     0.0092230945   529    31704     P19021  Cardiometabolic    P19021    5         102753981  103029730\n",
       "22   APOE     0.025871177 0.05859747 6.588462e-01 -0.2104990    0.08125157     0.0095779078   541    32111     P02649  Inflammation II    P02649   19          44905791   44909393\n",
       "23   SATB1   -0.120300993 0.05455897 2.745608e-02  0.2016541    0.07796885     0.0097000767   541    32111     Q01826  Neurology II       Q01826    3          18345377   18445621\n",
       "24   COL5A1   0.179770535 0.05304242 7.010089e-04 -0.1936526    0.07551853     0.0103382280   541    32111     P20908  Inflammation II    P20908    9         134641803  134844843\n",
       "25   AMY2B   -0.145065538 0.05691901 1.081468e-02  0.2037086    0.08017692     0.0110618582   480    29047     P19961  Cardiometabolic    P19961    1         103553815  103579534\n",
       "26   ACY1     0.079692476 0.05921147 1.783361e-01 -0.2012165    0.08048436     0.0124168720   532    31884     Q03154  Cardiometabolic    Q03154    3          51983340   51989197\n",
       "27   ATF4     0.025574686 0.05320781 6.307606e-01 -0.1962642    0.07862480     0.0125527589   541    32111     P18848  Oncology II        P18848   22          39519695   39522683\n",
       "28   S100A11 -0.020127371 0.05634378 7.209239e-01  0.2057731    0.08248267     0.0126048019   530    31633     P31949  Cardiometabolic    P31949    1         152032506  152047907\n",
       "29   FGR     -0.019842476 0.05489644 7.177609e-01  0.2000033    0.08018651     0.0126232139   531    31891     P09769  Neurology          P09769    1          27612064   27635185\n",
       "30   PRTN3    0.005950025 0.05575863 9.150187e-01  0.1959241    0.07860921     0.0126889837   502    30570     P24158  Cardiometabolic    P24158   19            840999     848175\n",
       "⋮    ⋮       ⋮            ⋮          ⋮            ⋮             ⋮              ⋮              ⋮      ⋮         ⋮       ⋮                  ⋮        ⋮          ⋮          ⋮        \n",
       "2890 TRIM40   0.015176739 0.05438525 7.801989e-01  6.344192e-04 0.07763974     0.9934803      541    32111     Q6P9F5  Neurology II       Q6P9F5    6          30136124   30148735\n",
       "2891 FOSB    -0.017463453 0.05500059 7.508537e-01  6.474125e-04 0.07949958     0.9935024      531    31891     P53539  Neurology          P53539   19          45467995   45475179\n",
       "2892 SEMA3G   0.067889384 0.05352909 2.047012e-01  6.205768e-04 0.07687376     0.9935590      541    32111     Q9NS98  Inflammation II    Q9NS98    3          52433035   52445103\n",
       "2893 CNPY4    0.023961630 0.05482669 6.620800e-01 -6.088976e-04 0.07815011     0.9937834      533    31945     Q8N129  Oncology           Q8N129    7         100119634  100125508\n",
       "2894 EVPL    -0.036379118 0.05453537 5.047250e-01  5.531332e-04 0.07755658     0.9943095      541    32111     Q92817  Oncology II        Q92817   17          76004502   76027306\n",
       "2895 WASF3   -0.013186791 0.05458372 8.090991e-01  5.330072e-04 0.07742937     0.9945076      531    31891     Q9UPY6  Neurology          Q9UPY6   13          26557683   26688948\n",
       "2896 PACS2   -0.065569750 0.05450367 2.289633e-01 -4.199918e-04 0.07699178     0.9956475      541    32111     Q86VP3  Cardiometabolic II Q86VP3   14         105300563  105398147\n",
       "2897 IFNGR2   0.046235880 0.05508532 4.012727e-01  4.053387e-04 0.07865114     0.9958880      531    31891     P38484  Neurology          P38484   21          33403413   33479348\n",
       "2898 F9       0.111793945 0.05793482 5.365017e-02 -3.778283e-04 0.07893398     0.9961808      532    31756     P00740  Cardiometabolic    P00740   23         139530739  139563459\n",
       "2899 GCC1    -0.034071045 0.05466188 5.330839e-01 -3.516747e-04 0.07633727     0.9963243      541    32111     Q96CN9  Neurology II       Q96CN9    7         127580628  127593611\n",
       "2900 FHIP2A   0.034042960 0.05461131 5.330426e-01  3.473156e-04 0.07684055     0.9963936      541    32111     Q5W0V3  Cardiometabolic II Q5W0V3   10         114821744  114899832\n",
       "2901 RAB27B  -0.053528571 0.05417910 3.231561e-01  3.393977e-04 0.07664324     0.9964668      541    32111     O00194  Cardiometabolic II O00194   18          54717860   54895516\n",
       "2902 PCYT2    0.015798626 0.05548710 7.758540e-01 -3.373014e-04 0.07853975     0.9965734      541    32111     Q99447  Oncology II        Q99447   17          81900958   81911432\n",
       "2903 RILP    -0.024561917 0.05497800 6.550491e-01  3.010849e-04 0.07867083     0.9969464      531    31825     Q96NA2  Oncology           Q96NA2   17           1646145    1649866\n",
       "2904 AREG     0.362713742 0.05944031 1.046507e-09 -2.928142e-04 0.08522372     0.9972586      533    31945     P15514  Oncology           P15514    4          74445136   74455005\n",
       "2905 PGD      0.047479922 0.05548961 3.921890e-01 -2.495572e-04 0.07850040     0.9974635      541    32111     P52209  Cardiometabolic II P52209    1          10398592   10420511\n",
       "2906 ANGPTL2  0.040628254 0.05555394 4.645777e-01  2.132818e-04 0.07957247     0.9978614      533    31819     Q9UKU9  Inflammation       Q9UKU9    9         127087348  127122635\n",
       "2907 MFAP3L  -0.044811055 0.05365172 4.035932e-01 -1.721092e-04 0.07741613     0.9982262      541    32111     O75121  Neurology II       O75121    4         169986597  170033031\n",
       "2908 ZP3     -0.001421686 0.05272153 9.784869e-01  1.578262e-04 0.07565281     0.9983355      541    32111     P21754  Cardiometabolic II P21754    7          76397518   76442071\n",
       "2909 PRL      0.045298810 0.05640362 4.219060e-01  1.541262e-04 0.08152083     0.9984915      531    31891     P01236  Neurology          P01236    6          22287244   22302826\n",
       "2910 NIT2    -0.012012722 0.05564839 8.290904e-01 -1.366500e-04 0.07895122     0.9986190      538    31992     Q9NQR4  Cardiometabolic II Q9NQR4    3         100334739  100361635\n",
       "2911 DYNLT3  -0.102312880 0.05400229 5.814505e-02  1.265631e-04 0.07771553     0.9987006      541    32111     P51808  Oncology II        P51808   23          37836757   37847571\n",
       "2912 TNNI3    0.039571273 0.05458230 4.684621e-01 -1.200125e-04 0.07805061     0.9987732      532    31884     P19429  Cardiometabolic    P19429   19          55151767   55157773\n",
       "2913 CEP164  -0.041524026 0.05504611 4.506392e-01 -1.198943e-04 0.07913154     0.9987911      533    31945     Q9UPV0  Inflammation       Q9UPV0   11         117314557  117413266\n",
       "2914 LACRT   -0.087655812 0.05522829 1.124777e-01 -7.696100e-05 0.07687195     0.9992012      539    32053     Q9GZZ8  Oncology II        Q9GZZ8   12          54630811   54634895\n",
       "2915 MAP2K1   0.017063007 0.05549776 7.584979e-01  6.026511e-05 0.07881852     0.9993899      541    32111     Q02750  Oncology II        Q02750   15          66386837   66491656\n",
       "2916 CD300C   0.198181180 0.05456262 2.810382e-04 -5.573204e-05 0.07809940     0.9994306      531    31891     Q08708  Neurology          Q08708   17          74541073   74546115\n",
       "2917 BSND    -0.024082352 0.05370085 6.538257e-01 -4.562151e-05 0.07823523     0.9995347      541    32111     Q8WZ55  Oncology II        Q8WZ55    1          54998933   55017172\n",
       "2918 GHRHR   -0.076350800 0.05479503 1.635021e-01  3.099625e-05 0.07763654     0.9996814      531    31891     Q02643  Neurology          Q02643    7          30938669   30993254\n",
       "2919 FZD10    0.029143211 0.05388023 5.885843e-01  2.664567e-05 0.07787649     0.9997270      541    32111     Q9ULW2  Neurology II       Q9ULW2   12         130162459  130165740"
      ]
     },
     "metadata": {},
     "output_type": "display_data"
    }
   ],
   "source": [
    "a %>% arrange(PROTxE4_PVALUE)"
   ]
  }
 ],
 "metadata": {
  "kernelspec": {
   "display_name": "R",
   "language": "R",
   "name": "ir"
  },
  "language_info": {
   "codemirror_mode": "r",
   "file_extension": ".r",
   "mimetype": "text/x-r-source",
   "name": "R",
   "pygments_lexer": "r",
   "version": "4.3.2"
  }
 },
 "nbformat": 4,
 "nbformat_minor": 5
}
