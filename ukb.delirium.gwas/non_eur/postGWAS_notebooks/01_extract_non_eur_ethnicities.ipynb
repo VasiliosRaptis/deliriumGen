{
 "cells": [
  {
   "cell_type": "markdown",
   "id": "cb563d0c",
   "metadata": {},
   "source": [
    "### **Setup:**"
   ]
  },
  {
   "cell_type": "code",
   "execution_count": 1,
   "id": "fd87c27e",
   "metadata": {},
   "outputs": [],
   "source": [
    ".libPaths(c(.libPaths(), \"/exports/eddie3_apps_local/apps/SL7/R/4.3.0/lib64/R/library\"))\n",
    "library(\"dplyr\", warn.conflicts = F)\n",
    "library(\"stringr\", warn.conflicts = F)\n",
    "library(\"data.table\", warn.conflicts = F) \n",
    "library(\"vroom\", warn.conflicts = F)\n",
    "library(\"ggplot2\", warn.conflicts = F)"
   ]
  },
  {
   "cell_type": "markdown",
   "id": "3fa61508",
   "metadata": {},
   "source": [
    "### **Change working directory:**"
   ]
  },
  {
   "cell_type": "code",
   "execution_count": 2,
   "id": "b3b6ab1a",
   "metadata": {},
   "outputs": [
    {
     "data": {
      "text/html": [
       "'/exports/cmvm/eddie/smgphs/groups/Quantgen/Users/vasilis/PHD'"
      ],
      "text/latex": [
       "'/exports/cmvm/eddie/smgphs/groups/Quantgen/Users/vasilis/PHD'"
      ],
      "text/markdown": [
       "'/exports/cmvm/eddie/smgphs/groups/Quantgen/Users/vasilis/PHD'"
      ],
      "text/plain": [
       "[1] \"/exports/cmvm/eddie/smgphs/groups/Quantgen/Users/vasilis/PHD\""
      ]
     },
     "metadata": {},
     "output_type": "display_data"
    }
   ],
   "source": [
    "wd = \"/exports/cmvm/eddie/smgphs/groups/Quantgen/Users/vasilis/PHD/\"\n",
    "setwd(wd)\n",
    "getwd()"
   ]
  },
  {
   "cell_type": "markdown",
   "id": "aa16750a",
   "metadata": {},
   "source": [
    "### **Load data:**"
   ]
  },
  {
   "cell_type": "code",
   "execution_count": 3,
   "id": "68f6b587",
   "metadata": {},
   "outputs": [],
   "source": [
    "file <- \"ukb_data/ukb44986/extra_data/f21000.ethnicity.csv\"\n",
    "a    <- fread(file, select = c(1,2))\n",
    "names(a) <- c(\"eid\", \"ethnicity_code\")"
   ]
  },
  {
   "cell_type": "code",
   "execution_count": 4,
   "id": "0f7d7a6f",
   "metadata": {},
   "outputs": [
    {
     "data": {
      "text/html": [
       "<table class=\"dataframe\">\n",
       "<caption>A data.table: 6 × 2</caption>\n",
       "<thead>\n",
       "\t<tr><th scope=col>eid</th><th scope=col>ethnicity_code</th></tr>\n",
       "\t<tr><th scope=col>&lt;int&gt;</th><th scope=col>&lt;int&gt;</th></tr>\n",
       "</thead>\n",
       "<tbody>\n",
       "\t<tr><td>1000015</td><td>1001</td></tr>\n",
       "\t<tr><td>1000027</td><td>1001</td></tr>\n",
       "\t<tr><td>1000039</td><td>1001</td></tr>\n",
       "\t<tr><td>1000040</td><td>1001</td></tr>\n",
       "\t<tr><td>1000053</td><td>1001</td></tr>\n",
       "\t<tr><td>1000064</td><td>1001</td></tr>\n",
       "</tbody>\n",
       "</table>\n"
      ],
      "text/latex": [
       "A data.table: 6 × 2\n",
       "\\begin{tabular}{ll}\n",
       " eid & ethnicity\\_code\\\\\n",
       " <int> & <int>\\\\\n",
       "\\hline\n",
       "\t 1000015 & 1001\\\\\n",
       "\t 1000027 & 1001\\\\\n",
       "\t 1000039 & 1001\\\\\n",
       "\t 1000040 & 1001\\\\\n",
       "\t 1000053 & 1001\\\\\n",
       "\t 1000064 & 1001\\\\\n",
       "\\end{tabular}\n"
      ],
      "text/markdown": [
       "\n",
       "A data.table: 6 × 2\n",
       "\n",
       "| eid &lt;int&gt; | ethnicity_code &lt;int&gt; |\n",
       "|---|---|\n",
       "| 1000015 | 1001 |\n",
       "| 1000027 | 1001 |\n",
       "| 1000039 | 1001 |\n",
       "| 1000040 | 1001 |\n",
       "| 1000053 | 1001 |\n",
       "| 1000064 | 1001 |\n",
       "\n"
      ],
      "text/plain": [
       "  eid     ethnicity_code\n",
       "1 1000015 1001          \n",
       "2 1000027 1001          \n",
       "3 1000039 1001          \n",
       "4 1000040 1001          \n",
       "5 1000053 1001          \n",
       "6 1000064 1001          "
      ]
     },
     "metadata": {},
     "output_type": "display_data"
    }
   ],
   "source": [
    "head(a)"
   ]
  },
  {
   "cell_type": "code",
   "execution_count": 7,
   "id": "2ed972db",
   "metadata": {},
   "outputs": [
    {
     "data": {
      "text/html": [
       "<table class=\"dataframe\">\n",
       "<caption>A data.table: 22 × 5</caption>\n",
       "<thead>\n",
       "\t<tr><th scope=col>coding</th><th scope=col>meaning</th><th scope=col>node_id</th><th scope=col>parent_id</th><th scope=col>selectable</th></tr>\n",
       "\t<tr><th scope=col>&lt;int&gt;</th><th scope=col>&lt;chr&gt;</th><th scope=col>&lt;int&gt;</th><th scope=col>&lt;int&gt;</th><th scope=col>&lt;chr&gt;</th></tr>\n",
       "</thead>\n",
       "<tbody>\n",
       "\t<tr><td>  -3</td><td>Prefer not to answer      </td><td>  -3</td><td>0</td><td>Y</td></tr>\n",
       "\t<tr><td>  -1</td><td>Do not know               </td><td>  -1</td><td>0</td><td>Y</td></tr>\n",
       "\t<tr><td>   1</td><td>White                     </td><td>   1</td><td>0</td><td>Y</td></tr>\n",
       "\t<tr><td>   2</td><td>Mixed                     </td><td>   2</td><td>0</td><td>Y</td></tr>\n",
       "\t<tr><td>   3</td><td>Asian or Asian British    </td><td>   3</td><td>0</td><td>Y</td></tr>\n",
       "\t<tr><td>   4</td><td>Black or Black British    </td><td>   4</td><td>0</td><td>Y</td></tr>\n",
       "\t<tr><td>   5</td><td>Chinese                   </td><td>   5</td><td>0</td><td>Y</td></tr>\n",
       "\t<tr><td>   6</td><td>Other ethnic group        </td><td>   6</td><td>0</td><td>Y</td></tr>\n",
       "\t<tr><td>1001</td><td>British                   </td><td>1001</td><td>1</td><td>Y</td></tr>\n",
       "\t<tr><td>1002</td><td>Irish                     </td><td>1002</td><td>1</td><td>Y</td></tr>\n",
       "\t<tr><td>1003</td><td>Any other white background</td><td>1003</td><td>1</td><td>Y</td></tr>\n",
       "\t<tr><td>2001</td><td>White and Black Caribbean </td><td>2001</td><td>2</td><td>Y</td></tr>\n",
       "\t<tr><td>2002</td><td>White and Black African   </td><td>2002</td><td>2</td><td>Y</td></tr>\n",
       "\t<tr><td>2003</td><td>White and Asian           </td><td>2003</td><td>2</td><td>Y</td></tr>\n",
       "\t<tr><td>2004</td><td>Any other mixed background</td><td>2004</td><td>2</td><td>Y</td></tr>\n",
       "\t<tr><td>3001</td><td>Indian                    </td><td>3001</td><td>3</td><td>Y</td></tr>\n",
       "\t<tr><td>3002</td><td>Pakistani                 </td><td>3002</td><td>3</td><td>Y</td></tr>\n",
       "\t<tr><td>3003</td><td>Bangladeshi               </td><td>3003</td><td>3</td><td>Y</td></tr>\n",
       "\t<tr><td>3004</td><td>Any other Asian background</td><td>3004</td><td>3</td><td>Y</td></tr>\n",
       "\t<tr><td>4001</td><td>Caribbean                 </td><td>4001</td><td>4</td><td>Y</td></tr>\n",
       "\t<tr><td>4002</td><td>African                   </td><td>4002</td><td>4</td><td>Y</td></tr>\n",
       "\t<tr><td>4003</td><td>Any other Black background</td><td>4003</td><td>4</td><td>Y</td></tr>\n",
       "</tbody>\n",
       "</table>\n"
      ],
      "text/latex": [
       "A data.table: 22 × 5\n",
       "\\begin{tabular}{lllll}\n",
       " coding & meaning & node\\_id & parent\\_id & selectable\\\\\n",
       " <int> & <chr> & <int> & <int> & <chr>\\\\\n",
       "\\hline\n",
       "\t   -3 & Prefer not to answer       &   -3 & 0 & Y\\\\\n",
       "\t   -1 & Do not know                &   -1 & 0 & Y\\\\\n",
       "\t    1 & White                      &    1 & 0 & Y\\\\\n",
       "\t    2 & Mixed                      &    2 & 0 & Y\\\\\n",
       "\t    3 & Asian or Asian British     &    3 & 0 & Y\\\\\n",
       "\t    4 & Black or Black British     &    4 & 0 & Y\\\\\n",
       "\t    5 & Chinese                    &    5 & 0 & Y\\\\\n",
       "\t    6 & Other ethnic group         &    6 & 0 & Y\\\\\n",
       "\t 1001 & British                    & 1001 & 1 & Y\\\\\n",
       "\t 1002 & Irish                      & 1002 & 1 & Y\\\\\n",
       "\t 1003 & Any other white background & 1003 & 1 & Y\\\\\n",
       "\t 2001 & White and Black Caribbean  & 2001 & 2 & Y\\\\\n",
       "\t 2002 & White and Black African    & 2002 & 2 & Y\\\\\n",
       "\t 2003 & White and Asian            & 2003 & 2 & Y\\\\\n",
       "\t 2004 & Any other mixed background & 2004 & 2 & Y\\\\\n",
       "\t 3001 & Indian                     & 3001 & 3 & Y\\\\\n",
       "\t 3002 & Pakistani                  & 3002 & 3 & Y\\\\\n",
       "\t 3003 & Bangladeshi                & 3003 & 3 & Y\\\\\n",
       "\t 3004 & Any other Asian background & 3004 & 3 & Y\\\\\n",
       "\t 4001 & Caribbean                  & 4001 & 4 & Y\\\\\n",
       "\t 4002 & African                    & 4002 & 4 & Y\\\\\n",
       "\t 4003 & Any other Black background & 4003 & 4 & Y\\\\\n",
       "\\end{tabular}\n"
      ],
      "text/markdown": [
       "\n",
       "A data.table: 22 × 5\n",
       "\n",
       "| coding &lt;int&gt; | meaning &lt;chr&gt; | node_id &lt;int&gt; | parent_id &lt;int&gt; | selectable &lt;chr&gt; |\n",
       "|---|---|---|---|---|\n",
       "|   -3 | Prefer not to answer       |   -3 | 0 | Y |\n",
       "|   -1 | Do not know                |   -1 | 0 | Y |\n",
       "|    1 | White                      |    1 | 0 | Y |\n",
       "|    2 | Mixed                      |    2 | 0 | Y |\n",
       "|    3 | Asian or Asian British     |    3 | 0 | Y |\n",
       "|    4 | Black or Black British     |    4 | 0 | Y |\n",
       "|    5 | Chinese                    |    5 | 0 | Y |\n",
       "|    6 | Other ethnic group         |    6 | 0 | Y |\n",
       "| 1001 | British                    | 1001 | 1 | Y |\n",
       "| 1002 | Irish                      | 1002 | 1 | Y |\n",
       "| 1003 | Any other white background | 1003 | 1 | Y |\n",
       "| 2001 | White and Black Caribbean  | 2001 | 2 | Y |\n",
       "| 2002 | White and Black African    | 2002 | 2 | Y |\n",
       "| 2003 | White and Asian            | 2003 | 2 | Y |\n",
       "| 2004 | Any other mixed background | 2004 | 2 | Y |\n",
       "| 3001 | Indian                     | 3001 | 3 | Y |\n",
       "| 3002 | Pakistani                  | 3002 | 3 | Y |\n",
       "| 3003 | Bangladeshi                | 3003 | 3 | Y |\n",
       "| 3004 | Any other Asian background | 3004 | 3 | Y |\n",
       "| 4001 | Caribbean                  | 4001 | 4 | Y |\n",
       "| 4002 | African                    | 4002 | 4 | Y |\n",
       "| 4003 | Any other Black background | 4003 | 4 | Y |\n",
       "\n"
      ],
      "text/plain": [
       "   coding meaning                    node_id parent_id selectable\n",
       "1    -3   Prefer not to answer         -3    0         Y         \n",
       "2    -1   Do not know                  -1    0         Y         \n",
       "3     1   White                         1    0         Y         \n",
       "4     2   Mixed                         2    0         Y         \n",
       "5     3   Asian or Asian British        3    0         Y         \n",
       "6     4   Black or Black British        4    0         Y         \n",
       "7     5   Chinese                       5    0         Y         \n",
       "8     6   Other ethnic group            6    0         Y         \n",
       "9  1001   British                    1001    1         Y         \n",
       "10 1002   Irish                      1002    1         Y         \n",
       "11 1003   Any other white background 1003    1         Y         \n",
       "12 2001   White and Black Caribbean  2001    2         Y         \n",
       "13 2002   White and Black African    2002    2         Y         \n",
       "14 2003   White and Asian            2003    2         Y         \n",
       "15 2004   Any other mixed background 2004    2         Y         \n",
       "16 3001   Indian                     3001    3         Y         \n",
       "17 3002   Pakistani                  3002    3         Y         \n",
       "18 3003   Bangladeshi                3003    3         Y         \n",
       "19 3004   Any other Asian background 3004    3         Y         \n",
       "20 4001   Caribbean                  4001    4         Y         \n",
       "21 4002   African                    4002    4         Y         \n",
       "22 4003   Any other Black background 4003    4         Y         "
      ]
     },
     "metadata": {},
     "output_type": "display_data"
    }
   ],
   "source": [
    "# coding file, see here: https://biobank.ndph.ox.ac.uk/showcase/coding.cgi?id=1001\n",
    "codes <- fread(\"ukb.delirium.gwas/non_eur/data/coding1001.tsv\")\n",
    "codes %>% arrange(coding)"
   ]
  },
  {
   "cell_type": "markdown",
   "id": "593557f5",
   "metadata": {},
   "source": [
    "### Make ethnic background groups:\n",
    "see here for data-coding: https://biobank.ndph.ox.ac.uk/showcase/coding.cgi?id=1001"
   ]
  },
  {
   "cell_type": "code",
   "execution_count": 9,
   "id": "7c5157ec",
   "metadata": {},
   "outputs": [],
   "source": [
    "# south asian\n",
    "sas_names <- c(\"Asian or Asian British\", \"Indian\", \"Pakistani\", \"Bangladeshi\", \"Any other Asian background\")\n",
    "sas_codes <- codes %>% filter(meaning %in% sas_names) %>% pull(coding)\n",
    "# east asian (china)\n",
    "eas_names <- c(\"Chinese\")\n",
    "eas_codes <- codes %>% filter(meaning %in% eas_names) %>% pull(coding)\n",
    "# african \n",
    "afr_names <- c(\"Black or Black British\", \"Caribbean\", \"African\", \"Any other Black background\")\n",
    "afr_codes <- codes %>% filter(meaning %in% afr_names) %>% pull(coding)"
   ]
  },
  {
   "cell_type": "code",
   "execution_count": 11,
   "id": "fc9eb484",
   "metadata": {},
   "outputs": [
    {
     "data": {
      "text/html": [
       "<table class=\"dataframe\">\n",
       "<caption>A data.table: 6 × 2</caption>\n",
       "<thead>\n",
       "\t<tr><th scope=col>eid</th><th scope=col>ethnicity_code</th></tr>\n",
       "\t<tr><th scope=col>&lt;int&gt;</th><th scope=col>&lt;int&gt;</th></tr>\n",
       "</thead>\n",
       "<tbody>\n",
       "\t<tr><td>1000015</td><td>1001</td></tr>\n",
       "\t<tr><td>1000027</td><td>1001</td></tr>\n",
       "\t<tr><td>1000039</td><td>1001</td></tr>\n",
       "\t<tr><td>1000040</td><td>1001</td></tr>\n",
       "\t<tr><td>1000053</td><td>1001</td></tr>\n",
       "\t<tr><td>1000064</td><td>1001</td></tr>\n",
       "</tbody>\n",
       "</table>\n"
      ],
      "text/latex": [
       "A data.table: 6 × 2\n",
       "\\begin{tabular}{ll}\n",
       " eid & ethnicity\\_code\\\\\n",
       " <int> & <int>\\\\\n",
       "\\hline\n",
       "\t 1000015 & 1001\\\\\n",
       "\t 1000027 & 1001\\\\\n",
       "\t 1000039 & 1001\\\\\n",
       "\t 1000040 & 1001\\\\\n",
       "\t 1000053 & 1001\\\\\n",
       "\t 1000064 & 1001\\\\\n",
       "\\end{tabular}\n"
      ],
      "text/markdown": [
       "\n",
       "A data.table: 6 × 2\n",
       "\n",
       "| eid &lt;int&gt; | ethnicity_code &lt;int&gt; |\n",
       "|---|---|\n",
       "| 1000015 | 1001 |\n",
       "| 1000027 | 1001 |\n",
       "| 1000039 | 1001 |\n",
       "| 1000040 | 1001 |\n",
       "| 1000053 | 1001 |\n",
       "| 1000064 | 1001 |\n",
       "\n"
      ],
      "text/plain": [
       "  eid     ethnicity_code\n",
       "1 1000015 1001          \n",
       "2 1000027 1001          \n",
       "3 1000039 1001          \n",
       "4 1000040 1001          \n",
       "5 1000053 1001          \n",
       "6 1000064 1001          "
      ]
     },
     "metadata": {},
     "output_type": "display_data"
    }
   ],
   "source": [
    "a %>% head"
   ]
  },
  {
   "cell_type": "code",
   "execution_count": 12,
   "id": "8b4d8d77",
   "metadata": {},
   "outputs": [
    {
     "data": {
      "text/html": [
       "<table class=\"dataframe\">\n",
       "<caption>A tibble: 3 × 2</caption>\n",
       "<thead>\n",
       "\t<tr><th scope=col>ethnicity</th><th scope=col>n</th></tr>\n",
       "\t<tr><th scope=col>&lt;chr&gt;</th><th scope=col>&lt;int&gt;</th></tr>\n",
       "</thead>\n",
       "<tbody>\n",
       "\t<tr><td>AFR</td><td>8058</td></tr>\n",
       "\t<tr><td>EAS</td><td>1573</td></tr>\n",
       "\t<tr><td>SAS</td><td>9878</td></tr>\n",
       "</tbody>\n",
       "</table>\n"
      ],
      "text/latex": [
       "A tibble: 3 × 2\n",
       "\\begin{tabular}{ll}\n",
       " ethnicity & n\\\\\n",
       " <chr> & <int>\\\\\n",
       "\\hline\n",
       "\t AFR & 8058\\\\\n",
       "\t EAS & 1573\\\\\n",
       "\t SAS & 9878\\\\\n",
       "\\end{tabular}\n"
      ],
      "text/markdown": [
       "\n",
       "A tibble: 3 × 2\n",
       "\n",
       "| ethnicity &lt;chr&gt; | n &lt;int&gt; |\n",
       "|---|---|\n",
       "| AFR | 8058 |\n",
       "| EAS | 1573 |\n",
       "| SAS | 9878 |\n",
       "\n"
      ],
      "text/plain": [
       "  ethnicity n   \n",
       "1 AFR       8058\n",
       "2 EAS       1573\n",
       "3 SAS       9878"
      ]
     },
     "metadata": {},
     "output_type": "display_data"
    }
   ],
   "source": [
    "ethnic <-\n",
    "a %>% \n",
    "    mutate(ethnicity = case_when(ethnicity_code %in% sas_codes ~ \"SAS\",\n",
    "                                 ethnicity_code %in% eas_codes ~ \"EAS\",\n",
    "                                 ethnicity_code %in% afr_codes ~ \"AFR\", \n",
    "                                 TRUE ~ NA)\n",
    "          ) %>% \n",
    "    filter(!is.na(ethnicity)) %>%\n",
    "    select(\"eid\",\"ethnicity\")\n",
    "\n",
    "ethnic %>% \n",
    "    group_by(ethnicity) %>% \n",
    "    summarise(n=n())"
   ]
  },
  {
   "cell_type": "code",
   "execution_count": 13,
   "id": "c3930919",
   "metadata": {},
   "outputs": [],
   "source": [
    "# extract eids\n",
    "afr_eids <- ethnic %>% filter(ethnicity==\"AFR\") %>% pull(eid)\n",
    "eas_eids <- ethnic %>% filter(ethnicity==\"EAS\") %>% pull(eid)\n",
    "sas_eids <- ethnic %>% filter(ethnicity==\"SAS\") %>% pull(eid)"
   ]
  },
  {
   "cell_type": "markdown",
   "id": "2a619606",
   "metadata": {},
   "source": [
    "### Extract delirium phenotype for non-white british:"
   ]
  },
  {
   "cell_type": "code",
   "execution_count": 11,
   "id": "82a28c64",
   "metadata": {},
   "outputs": [],
   "source": [
    "# load ukb main dataset\n",
    "dat <- fread(\"ukb_data/ukb44986/Download#675074/ukb675074_vr.csv\")"
   ]
  },
  {
   "cell_type": "markdown",
   "id": "67d35001",
   "metadata": {},
   "source": [
    "#### exclude latest withdrawals:"
   ]
  },
  {
   "cell_type": "code",
   "execution_count": 12,
   "id": "8053fb95",
   "metadata": {},
   "outputs": [],
   "source": [
    "w_eids <- fread(\"/exports/cmvm/eddie/smgphs/groups/Quantgen/Users/ukb_data/ukb44986/withdraw44986_131_20231013.txt\")\n",
    "w_eids <- w_eids$V1\n",
    "dat    <- dat %>% filter(!(eid %in% w_eids))"
   ]
  },
  {
   "cell_type": "markdown",
   "id": "3916ed30",
   "metadata": {},
   "source": [
    "#### get delirium cases (F05):"
   ]
  },
  {
   "cell_type": "code",
   "execution_count": 13,
   "id": "bb0fa673",
   "metadata": {},
   "outputs": [
    {
     "name": "stdout",
     "output_type": "stream",
     "text": [
      "[1] \"at least one delirium occurance: n=9150\"\n"
     ]
    }
   ],
   "source": [
    "# get all delirium cases, based on \"F05\" date of first occurance \n",
    "del_eids <- dat %>% filter(!(is.na(`130846-0.0`))) %>% pull(eid)\n",
    "print(paste0(\"at least one delirium occurance: n=\", length(del_eids)))"
   ]
  },
  {
   "cell_type": "markdown",
   "id": "c426dcfe",
   "metadata": {},
   "source": [
    "#### get dead individuals:"
   ]
  },
  {
   "cell_type": "code",
   "execution_count": 14,
   "id": "fc6c80a7",
   "metadata": {},
   "outputs": [
    {
     "name": "stdout",
     "output_type": "stream",
     "text": [
      "[1] \"Individuals who have died: n=44500\"\n"
     ]
    }
   ],
   "source": [
    "# have a non NA age at death (cols 40007*)\n",
    "dead_eids <-\n",
    "    dat %>% \n",
    "    filter(if_any(starts_with(\"40007\"), ~ !is.na(.))) %>%\n",
    "    pull(eid)\n",
    "print(paste0(\"Individuals who have died: n=\", length(dead_eids))) \n"
   ]
  },
  {
   "cell_type": "markdown",
   "id": "4ba05dda",
   "metadata": {},
   "source": [
    "#### rename & create columns:"
   ]
  },
  {
   "cell_type": "code",
   "execution_count": 15,
   "id": "9ddb8b6d",
   "metadata": {},
   "outputs": [],
   "source": [
    "dat2 <- \n",
    "dat %>% \n",
    "    # remale useful columns\n",
    "    rename(\n",
    "        \"sex\" = \"31-0.0\",\n",
    "        \"YOB\" = \"34-0.0\",\n",
    "        \"MOB\" = \"52-0.0\",\n",
    "        \"DOA_0\" = \"53-0.0\", # date of attending assessment centre\n",
    "        \"DOA_1\" = \"53-1.0\", \n",
    "        \"DOA_2\" = \"53-2.0\",\n",
    "        \"DOA_3\" = \"53-3.0\",\n",
    "        \"AAA\"   = \"21003-0.0\", # Age when attended assessment centre\n",
    "        #\"ass_centre\" = \"54-0.0\",\n",
    "        \"batch\" = \"22000-0.0\",\n",
    "        \"g_sex\" = \"22001-0.0\",\n",
    "        \"het_miss_outlier\" = \"22027-0.0\",\n",
    "        \"sex_chr_aneuploidy\" = \"22019-0.0\",\n",
    "        \"g_kinship\" = \"22021-0.0\",\n",
    "        \"g_ethnicity\" = \"22006-0.0\",\n",
    "        \"age_death\" = \"40007-0.0\",\n",
    "        \"delirium_date\"= \"130846-0.0\",\n",
    "        \"delirium_source\" = \"130847-0.0\",\n",
    "        \"provider_0\" = \"40022-0.0\", # provider of inpatient data \n",
    "        \"provider_1\" = \"40022-0.1\",\n",
    "        \"provider_2\" = \"40022-0.2\",\n",
    "        #\"dementia_date\" = \"42018-0.0\"\n",
    "        \n",
    "    ) %>%\n",
    "    rename_with(~gsub(\"22009-0.\", \"PC\", x=.), .cols = starts_with(\"22009-0\")) %>%\n",
    "    # replace empty values with NAs in data provider columns\n",
    "    mutate(across(starts_with(\"provider\"), ~ na_if(.,\"\"))) %>%\n",
    "    # replace empty values with NAs in icd10 diagnoses codes columns\n",
    "    mutate(across(starts_with(\"41270-0\"), ~ na_if(.,\"\"))) %>% \n",
    "    # make variable: has the individual any icd10 diagnosis? \n",
    "    mutate(hasICD10 = ifelse(!is.na(`41270-0.0`),1,0)) %>% \n",
    "    # make an IDate class column for approx. DOB. Day of birth is not accessible so set to 15th\n",
    "    mutate(approx_dob = as.IDate(ISOdate(year=YOB, month=MOB, day=15))) %>%\n",
    "    ## make a dummy age at first assessment variable based on approx. dob and date of assessment\n",
    "    mutate(approx_AAA = round(as.numeric(difftime(DOA_0, approx_dob, units=\"days\")) / 365.25, digits=2)) %>%\n",
    "    # make isdead variable: dead (1) or alive (0)\n",
    "    mutate(isdead = ifelse(eid %in% dead_eids, 1, 0)) %>%\n",
    "    # make outcome variable: delirium case (1) or control (0) \n",
    "    mutate(delirium = ifelse(eid %in% del_eids, 1, 0)) %>% \n",
    "    # extract selected columns\n",
    "    select(eid, YOB, MOB, approx_dob, starts_with(\"DOA\"), AAA, approx_AAA, batch, sex, g_sex, het_miss_outlier, sex_chr_aneuploidy, g_ethnicity, g_kinship, \n",
    "           paste0(\"PC\", seq(1,20)), starts_with(\"provider\"), hasICD10, isdead, age_death, delirium_source, delirium_date, delirium)\n"
   ]
  },
  {
   "cell_type": "markdown",
   "id": "19c910b7",
   "metadata": {},
   "source": [
    "#### make \"age\" variables:\n",
    "- for cases: *date of diagnosis - dob* <br>\n",
    "- for dead controls: *age at death* <br>\n",
    "- for alive controls: *date of cencoring - dob* <br>\n",
    "\n",
    "\\* cencoring dates are different depending on provider, see these: <br>\n",
    "https://biobank.ctsu.ox.ac.uk/crystal/field.cgi?id=40022 (providers) <br>\n",
    "https://biobank.ndph.ox.ac.uk/ukb/exinfo.cgi?src=Data_providers_and_dates (censoring dates) <br>"
   ]
  },
  {
   "cell_type": "code",
   "execution_count": 16,
   "id": "5814d619",
   "metadata": {
    "scrolled": true
   },
   "outputs": [],
   "source": [
    "# create censoring dates (as of: 15.10.23)\n",
    "\n",
    "#  HES: 31 October 2022\n",
    "#  SMR: 31 August 2022\n",
    "# PEDW: 31 May 2022\n",
    "# no data: 31 October 2022 (assumed healthy?)\n",
    "\n",
    "dat2 <-\n",
    "dat2 %>% \n",
    "    mutate(censoring_date = case_when( (provider_0 == \"HES\")  ~ as.IDate(ISOdate(2022,10,31)),\n",
    "                                       (provider_0 == \"SMR\" | provider_1 == \"SMR\" | provider_2 == \"SMR\")    ~ as.IDate(ISOdate(2022,08,31)),\n",
    "                                       (provider_0 == \"PEDW\" | provider_1 == \"PEDW\" | provider_2 == \"PEDW\") ~ as.IDate(ISOdate(2022,05,31)),\n",
    "                                       TRUE ~ as.IDate(ISOdate(2022,10,31))))\n"
   ]
  },
  {
   "cell_type": "code",
   "execution_count": 17,
   "id": "f2a27efa",
   "metadata": {
    "scrolled": true
   },
   "outputs": [],
   "source": [
    "# create age variable\n",
    "dat2 <-\n",
    "dat2 %>% \n",
    "    mutate(age = case_when((delirium == 1) ~ round(as.numeric(difftime(delirium_date, approx_dob, units=\"days\")) / 365.25, digits=1), # cases\n",
    "                           (delirium == 0 & isdead == 0) ~ round(as.numeric(difftime(censoring_date, approx_dob, units=\"days\")) / 365.25, digits=1), # alive control\n",
    "                           (delirium == 0 & isdead == 1) ~ round(as.numeric(age_death), digits = 1))) # dead controls \n"
   ]
  },
  {
   "cell_type": "markdown",
   "id": "98b9457b",
   "metadata": {},
   "source": [
    "**Filter data based on:**\n",
    "- no sex missmatch \n",
    "- **NOT in white british ancestry**\n",
    "- no heterozygosiry or missingness outlier\n",
    "- no \\>\\=10 3rd degree relatives in dataset\n",
    "- no sex chromosome aneuploidy\n"
   ]
  },
  {
   "cell_type": "code",
   "execution_count": 14,
   "id": "a0b4be7a",
   "metadata": {},
   "outputs": [
    {
     "ename": "ERROR",
     "evalue": "Error in eval(expr, envir, enclos): object 'dat2' not found\n",
     "output_type": "error",
     "traceback": [
      "Error in eval(expr, envir, enclos): object 'dat2' not found\nTraceback:\n",
      "1. dat2 %>% filter(sex == g_sex, is.na(het_miss_outlier), is.na(g_ethnicity), \n .     g_kinship != 10, is.na(sex_chr_aneuploidy))",
      "2. filter(., sex == g_sex, is.na(het_miss_outlier), is.na(g_ethnicity), \n .     g_kinship != 10, is.na(sex_chr_aneuploidy))"
     ]
    }
   ],
   "source": [
    "dat3 <-\n",
    "dat2 %>% \n",
    "    filter(sex == g_sex, \n",
    "           is.na(het_miss_outlier), \n",
    "           is.na(g_ethnicity),\n",
    "           g_kinship != 10,\n",
    "           is.na(sex_chr_aneuploidy)\n",
    "           )\n",
    "print(paste0(\"n=\", dim(dat3)[1], \" non-white british individuals remaining\"))\n",
    "print(table(dat3$delirium)) # "
   ]
  },
  {
   "cell_type": "markdown",
   "id": "62cd6aea",
   "metadata": {},
   "source": [
    "#### **export file used here:**"
   ]
  },
  {
   "cell_type": "code",
   "execution_count": 103,
   "id": "00235648",
   "metadata": {},
   "outputs": [],
   "source": [
    "outfile3 <- \"/exports/cmvm/eddie/smgphs/groups/Quantgen/Users/vasilis/PHD/ukb.delirium.gwas/non_eur/data/prelim_file.txt\"\n",
    "write.table(dat3, file=outfile3, quote=F, sep=\" \", row.names=F, col.names=T)"
   ]
  },
  {
   "cell_type": "markdown",
   "id": "e69a4385",
   "metadata": {},
   "source": [
    "### Make per-ancestry tables:\n",
    "**Export .txt file with GWAS covariates and phenotype for regenie** <br>\n",
    "Space separated with header: FID IID C1 C2 C3 P1 <br> \n",
    "see:https://rgcgithub.github.io/regenie/options/#covariate-file-format "
   ]
  },
  {
   "cell_type": "markdown",
   "id": "75fdaffb",
   "metadata": {},
   "source": [
    "#### AFR:"
   ]
  },
  {
   "cell_type": "code",
   "execution_count": 5,
   "id": "8ce8c237",
   "metadata": {},
   "outputs": [],
   "source": [
    "dat3 <- fread(\"/exports/cmvm/eddie/smgphs/groups/Quantgen/Users/vasilis/PHD/ukb.delirium.gwas/non_eur/data/prelim_file.txt\")"
   ]
  },
  {
   "cell_type": "code",
   "execution_count": 43,
   "id": "03026477",
   "metadata": {},
   "outputs": [
    {
     "data": {
      "text/html": [
       "<table class=\"dataframe\">\n",
       "<caption>A tibble: 2 × 7</caption>\n",
       "<thead>\n",
       "\t<tr><th scope=col>delirium</th><th scope=col>n</th><th scope=col>prev (%)</th><th scope=col>age (mean)</th><th scope=col>age (sd)</th><th scope=col>age (median)</th><th scope=col>female (%)</th></tr>\n",
       "\t<tr><th scope=col>&lt;int&gt;</th><th scope=col>&lt;int&gt;</th><th scope=col>&lt;dbl&gt;</th><th scope=col>&lt;dbl&gt;</th><th scope=col>&lt;dbl&gt;</th><th scope=col>&lt;dbl&gt;</th><th scope=col>&lt;dbl&gt;</th></tr>\n",
       "</thead>\n",
       "<tbody>\n",
       "\t<tr><td>0</td><td>7515</td><td>98.49</td><td>65.34</td><td>7.92</td><td>64.0</td><td>57.22</td></tr>\n",
       "\t<tr><td>1</td><td> 115</td><td> 1.51</td><td>71.83</td><td>8.15</td><td>74.4</td><td>45.22</td></tr>\n",
       "</tbody>\n",
       "</table>\n"
      ],
      "text/latex": [
       "A tibble: 2 × 7\n",
       "\\begin{tabular}{lllllll}\n",
       " delirium & n & prev (\\%) & age (mean) & age (sd) & age (median) & female (\\%)\\\\\n",
       " <int> & <int> & <dbl> & <dbl> & <dbl> & <dbl> & <dbl>\\\\\n",
       "\\hline\n",
       "\t 0 & 7515 & 98.49 & 65.34 & 7.92 & 64.0 & 57.22\\\\\n",
       "\t 1 &  115 &  1.51 & 71.83 & 8.15 & 74.4 & 45.22\\\\\n",
       "\\end{tabular}\n"
      ],
      "text/markdown": [
       "\n",
       "A tibble: 2 × 7\n",
       "\n",
       "| delirium &lt;int&gt; | n &lt;int&gt; | prev (%) &lt;dbl&gt; | age (mean) &lt;dbl&gt; | age (sd) &lt;dbl&gt; | age (median) &lt;dbl&gt; | female (%) &lt;dbl&gt; |\n",
       "|---|---|---|---|---|---|---|\n",
       "| 0 | 7515 | 98.49 | 65.34 | 7.92 | 64.0 | 57.22 |\n",
       "| 1 |  115 |  1.51 | 71.83 | 8.15 | 74.4 | 45.22 |\n",
       "\n"
      ],
      "text/plain": [
       "  delirium n    prev (%) age (mean) age (sd) age (median) female (%)\n",
       "1 0        7515 98.49    65.34      7.92     64.0         57.22     \n",
       "2 1         115  1.51    71.83      8.15     74.4         45.22     "
      ]
     },
     "metadata": {},
     "output_type": "display_data"
    }
   ],
   "source": [
    "afr <-\n",
    "dat3 %>% \n",
    "    rename(\"IID\" = \"eid\") %>% mutate(FID = IID) %>%\n",
    "    filter(IID %in% afr_eids) %>%\n",
    "    select(FID, IID, sex, age, batch, starts_with(\"PC\"), delirium,delirium_date)\n",
    "# delirium stats\n",
    "afr %>% group_by(delirium) %>% summarise(n=n(), \n",
    "                                         `prev (%)`   = round(100*n()/nrow(afr),2),\n",
    "                                         `age (mean)` = round(mean(age),2),\n",
    "                                         `age (sd)` = round(sd(age),2),\n",
    "                                         `age (median)` = round(median(age),2),\n",
    "                                         `female (%)` = round(100*(1- sum(sex)/n()),2)\n",
    "\n",
    "                                        )\n",
    "#head(afr)"
   ]
  },
  {
   "cell_type": "code",
   "execution_count": 22,
   "id": "2608e56f",
   "metadata": {},
   "outputs": [],
   "source": [
    "outfile_afr <- \"/exports/cmvm/eddie/smgphs/groups/Quantgen/Users/vasilis/PHD/ukb.delirium.gwas/non_eur/data/pheno/delirium_afr.phe\"\n",
    "write.table(afr, file=outfile_afr, quote=F, sep=\" \", row.names=F, col.names=T)"
   ]
  },
  {
   "cell_type": "markdown",
   "id": "adb0eb25",
   "metadata": {},
   "source": [
    "#### SAS:"
   ]
  },
  {
   "cell_type": "code",
   "execution_count": 57,
   "id": "0c761303",
   "metadata": {},
   "outputs": [
    {
     "data": {
      "text/html": [
       "<table class=\"dataframe\">\n",
       "<caption>A tibble: 2 × 7</caption>\n",
       "<thead>\n",
       "\t<tr><th scope=col>delirium</th><th scope=col>n</th><th scope=col>prev (%)</th><th scope=col>age (mean)</th><th scope=col>age (sd)</th><th scope=col>age (median)</th><th scope=col>female (%)</th></tr>\n",
       "\t<tr><th scope=col>&lt;int&gt;</th><th scope=col>&lt;int&gt;</th><th scope=col>&lt;dbl&gt;</th><th scope=col>&lt;dbl&gt;</th><th scope=col>&lt;dbl&gt;</th><th scope=col>&lt;dbl&gt;</th><th scope=col>&lt;dbl&gt;</th></tr>\n",
       "</thead>\n",
       "<tbody>\n",
       "\t<tr><td>0</td><td>9294</td><td>121.81</td><td>66.81</td><td>8.32</td><td>66.3</td><td>46.18</td></tr>\n",
       "\t<tr><td>1</td><td> 107</td><td>  1.40</td><td>71.45</td><td>8.05</td><td>73.5</td><td>29.91</td></tr>\n",
       "</tbody>\n",
       "</table>\n"
      ],
      "text/latex": [
       "A tibble: 2 × 7\n",
       "\\begin{tabular}{lllllll}\n",
       " delirium & n & prev (\\%) & age (mean) & age (sd) & age (median) & female (\\%)\\\\\n",
       " <int> & <int> & <dbl> & <dbl> & <dbl> & <dbl> & <dbl>\\\\\n",
       "\\hline\n",
       "\t 0 & 9294 & 121.81 & 66.81 & 8.32 & 66.3 & 46.18\\\\\n",
       "\t 1 &  107 &   1.40 & 71.45 & 8.05 & 73.5 & 29.91\\\\\n",
       "\\end{tabular}\n"
      ],
      "text/markdown": [
       "\n",
       "A tibble: 2 × 7\n",
       "\n",
       "| delirium &lt;int&gt; | n &lt;int&gt; | prev (%) &lt;dbl&gt; | age (mean) &lt;dbl&gt; | age (sd) &lt;dbl&gt; | age (median) &lt;dbl&gt; | female (%) &lt;dbl&gt; |\n",
       "|---|---|---|---|---|---|---|\n",
       "| 0 | 9294 | 121.81 | 66.81 | 8.32 | 66.3 | 46.18 |\n",
       "| 1 |  107 |   1.40 | 71.45 | 8.05 | 73.5 | 29.91 |\n",
       "\n"
      ],
      "text/plain": [
       "  delirium n    prev (%) age (mean) age (sd) age (median) female (%)\n",
       "1 0        9294 121.81   66.81      8.32     66.3         46.18     \n",
       "2 1         107   1.40   71.45      8.05     73.5         29.91     "
      ]
     },
     "metadata": {},
     "output_type": "display_data"
    }
   ],
   "source": [
    "sas <-\n",
    "dat3 %>% \n",
    "    rename(\"IID\" = \"eid\") %>% mutate(FID = IID) %>%\n",
    "    filter(IID %in% sas_eids) %>%\n",
    "    select(FID, IID, sex, age, batch, starts_with(\"PC\"), delirium,delirium_date)\n",
    "# delirium stats\n",
    "sas %>% group_by(delirium) %>% summarise(n=n(), \n",
    "                                         `prev (%)`   = round(100*n()/nrow(afr),2),\n",
    "                                         `age (mean)` = round(mean(age),2),\n",
    "                                         `age (sd)` = round(sd(age),2),\n",
    "                                         `age (median)` = round(median(age),2),\n",
    "                                         `female (%)` = round(100*(1- sum(sex)/n()),2)\n",
    "                                        )\n",
    "#head(sas)"
   ]
  },
  {
   "cell_type": "code",
   "execution_count": 24,
   "id": "7808f39e",
   "metadata": {},
   "outputs": [],
   "source": [
    "outfile_sas <- \"/exports/cmvm/eddie/smgphs/groups/Quantgen/Users/vasilis/PHD/ukb.delirium.gwas/non_eur/data/pheno/delirium_sas.phe\"\n",
    "write.table(sas, file=outfile_sas, quote=F, sep=\" \", row.names=F, col.names=T)"
   ]
  },
  {
   "cell_type": "markdown",
   "id": "a9890079",
   "metadata": {},
   "source": [
    "#### EAS:"
   ]
  },
  {
   "cell_type": "code",
   "execution_count": 25,
   "id": "895487f3",
   "metadata": {},
   "outputs": [
    {
     "data": {
      "text/html": [
       "<table class=\"dataframe\">\n",
       "<caption>A tibble: 2 × 4</caption>\n",
       "<thead>\n",
       "\t<tr><th scope=col>delirium</th><th scope=col>n</th><th scope=col>prev (%)</th><th scope=col>age (mean)</th></tr>\n",
       "\t<tr><th scope=col>&lt;dbl&gt;</th><th scope=col>&lt;int&gt;</th><th scope=col>&lt;dbl&gt;</th><th scope=col>&lt;dbl&gt;</th></tr>\n",
       "</thead>\n",
       "<tbody>\n",
       "\t<tr><td>0</td><td>1495</td><td>99.7</td><td>66.3</td></tr>\n",
       "\t<tr><td>1</td><td>   5</td><td> 0.3</td><td>66.7</td></tr>\n",
       "</tbody>\n",
       "</table>\n"
      ],
      "text/latex": [
       "A tibble: 2 × 4\n",
       "\\begin{tabular}{llll}\n",
       " delirium & n & prev (\\%) & age (mean)\\\\\n",
       " <dbl> & <int> & <dbl> & <dbl>\\\\\n",
       "\\hline\n",
       "\t 0 & 1495 & 99.7 & 66.3\\\\\n",
       "\t 1 &    5 &  0.3 & 66.7\\\\\n",
       "\\end{tabular}\n"
      ],
      "text/markdown": [
       "\n",
       "A tibble: 2 × 4\n",
       "\n",
       "| delirium &lt;dbl&gt; | n &lt;int&gt; | prev (%) &lt;dbl&gt; | age (mean) &lt;dbl&gt; |\n",
       "|---|---|---|---|\n",
       "| 0 | 1495 | 99.7 | 66.3 |\n",
       "| 1 |    5 |  0.3 | 66.7 |\n",
       "\n"
      ],
      "text/plain": [
       "  delirium n    prev (%) age (mean)\n",
       "1 0        1495 99.7     66.3      \n",
       "2 1           5  0.3     66.7      "
      ]
     },
     "metadata": {},
     "output_type": "display_data"
    }
   ],
   "source": [
    "eas <-\n",
    "dat3 %>% \n",
    "    rename(\"IID\" = \"eid\") %>% mutate(FID = IID) %>%\n",
    "    filter(IID %in% eas_eids) %>%\n",
    "    select(FID, IID, sex, age, batch, starts_with(\"PC\"), delirium,delirium_date)\n",
    "# delirium stats\n",
    "eas %>% group_by(delirium) %>% summarise(n=n(), \n",
    "                                         `prev (%)`   = round(100*n()/nrow(eas),1),\n",
    "                                         `age (mean)` = round(mean(age),1)\n",
    "                                        )"
   ]
  },
  {
   "cell_type": "code",
   "execution_count": 26,
   "id": "bd2a0326",
   "metadata": {},
   "outputs": [],
   "source": [
    "outfile_eas <- \"/exports/cmvm/eddie/smgphs/groups/Quantgen/Users/vasilis/PHD/ukb.delirium.gwas/non_eur/data/pheno/delirium_eas_LOWCOUNT.phe\"\n",
    "write.table(eas, file=outfile_eas, quote=F, sep=\" \", row.names=F, col.names=T)"
   ]
  }
 ],
 "metadata": {
  "kernelspec": {
   "display_name": "R",
   "language": "R",
   "name": "ir"
  },
  "language_info": {
   "codemirror_mode": "r",
   "file_extension": ".r",
   "mimetype": "text/x-r-source",
   "name": "R",
   "pygments_lexer": "r",
   "version": "4.3.2"
  }
 },
 "nbformat": 4,
 "nbformat_minor": 5
}
