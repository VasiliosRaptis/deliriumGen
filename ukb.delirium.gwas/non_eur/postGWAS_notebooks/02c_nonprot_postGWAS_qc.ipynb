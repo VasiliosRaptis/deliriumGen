{
 "cells": [
  {
   "cell_type": "markdown",
   "id": "edfa3dd4",
   "metadata": {},
   "source": [
    "*NOTE: sumstats still in hg37*"
   ]
  },
  {
   "cell_type": "markdown",
   "id": "cb563d0c",
   "metadata": {},
   "source": [
    "### **Setup:**"
   ]
  },
  {
   "cell_type": "code",
   "execution_count": 1,
   "id": "fd87c27e",
   "metadata": {},
   "outputs": [
    {
     "name": "stderr",
     "output_type": "stream",
     "text": [
      "── \u001b[1mAttaching core tidyverse packages\u001b[22m ──────────────────────────────────────────────────────────────────────────────────────────────────────────────────────────────────────────────── tidyverse 2.0.0 ──\n",
      "\u001b[32m✔\u001b[39m \u001b[34mforcats  \u001b[39m 1.0.0     \u001b[32m✔\u001b[39m \u001b[34mreadr    \u001b[39m 2.1.5\n",
      "\u001b[32m✔\u001b[39m \u001b[34mggplot2  \u001b[39m 3.5.1     \u001b[32m✔\u001b[39m \u001b[34mstringr  \u001b[39m 1.5.1\n",
      "\u001b[32m✔\u001b[39m \u001b[34mlubridate\u001b[39m 1.9.3     \u001b[32m✔\u001b[39m \u001b[34mtibble   \u001b[39m 3.2.1\n",
      "\u001b[32m✔\u001b[39m \u001b[34mpurrr    \u001b[39m 1.0.2     \u001b[32m✔\u001b[39m \u001b[34mtidyr    \u001b[39m 1.3.1\n",
      "── \u001b[1mConflicts\u001b[22m ────────────────────────────────────────────────────────────────────────────────────────────────────────────────────────────────────────────────────────────────── tidyverse_conflicts() ──\n",
      "\u001b[31m✖\u001b[39m \u001b[34mdplyr\u001b[39m::\u001b[32mfilter()\u001b[39m masks \u001b[34mstats\u001b[39m::filter()\n",
      "\u001b[31m✖\u001b[39m \u001b[34mdplyr\u001b[39m::\u001b[32mlag()\u001b[39m    masks \u001b[34mstats\u001b[39m::lag()\n",
      "\u001b[36mℹ\u001b[39m Use the conflicted package (\u001b[3m\u001b[34m<http://conflicted.r-lib.org/>\u001b[39m\u001b[23m) to force all conflicts to become errors\n"
     ]
    }
   ],
   "source": [
    ".libPaths(c(.libPaths(), \"/exports/eddie3_apps_local/apps/SL7/R/4.3.0/lib64/R/library\"))\n",
    "library(\"dplyr\", warn.conflicts = F)\n",
    "library(\"tidyverse\")\n",
    "library(\"stringr\", warn.conflicts = F)\n",
    "library(\"data.table\", warn.conflicts = F) \n",
    "library(\"vroom\", warn.conflicts = F)\n",
    "library(\"ggplot2\", warn.conflicts = F)"
   ]
  },
  {
   "cell_type": "markdown",
   "id": "3fa61508",
   "metadata": {},
   "source": [
    "### **Change working directory:**"
   ]
  },
  {
   "cell_type": "code",
   "execution_count": 2,
   "id": "b3b6ab1a",
   "metadata": {},
   "outputs": [
    {
     "data": {
      "text/html": [
       "'/exports/cmvm/eddie/smgphs/groups/Quantgen/Users/vasilis/PHD'"
      ],
      "text/latex": [
       "'/exports/cmvm/eddie/smgphs/groups/Quantgen/Users/vasilis/PHD'"
      ],
      "text/markdown": [
       "'/exports/cmvm/eddie/smgphs/groups/Quantgen/Users/vasilis/PHD'"
      ],
      "text/plain": [
       "[1] \"/exports/cmvm/eddie/smgphs/groups/Quantgen/Users/vasilis/PHD\""
      ]
     },
     "metadata": {},
     "output_type": "display_data"
    }
   ],
   "source": [
    "wd = \"/exports/cmvm/eddie/smgphs/groups/Quantgen/Users/vasilis/PHD/\"\n",
    "setwd(wd)\n",
    "getwd()"
   ]
  },
  {
   "cell_type": "markdown",
   "id": "aa16750a",
   "metadata": {},
   "source": [
    "### **Load data:**"
   ]
  },
  {
   "cell_type": "code",
   "execution_count": 3,
   "id": "52710852",
   "metadata": {},
   "outputs": [],
   "source": [
    "nonprot <-\n",
    "  list.files(path=\"ukb.delirium.gwas/non_prot_eur/output\", pattern = \"ukb_nonprot_eur_c.*_delirium.regenie\", full.names=T) %>%\n",
    "  map_df(~fread(.))"
   ]
  },
  {
   "cell_type": "markdown",
   "id": "17d333ae",
   "metadata": {},
   "source": [
    "### **QC**:\n"
   ]
  },
  {
   "cell_type": "code",
   "execution_count": 4,
   "id": "010fd66a",
   "metadata": {},
   "outputs": [
    {
     "data": {
      "text/html": [
       "<table class=\"dataframe\">\n",
       "<caption>A data.table: 6 × 18</caption>\n",
       "<thead>\n",
       "\t<tr><th scope=col>CHROM</th><th scope=col>GENPOS</th><th scope=col>ID</th><th scope=col>ALLELE0</th><th scope=col>ALLELE1</th><th scope=col>A1FREQ</th><th scope=col>A1FREQ_CASES</th><th scope=col>A1FREQ_CONTROLS</th><th scope=col>MAF</th><th scope=col>MAC</th><th scope=col>MAF_CASES</th><th scope=col>MAC_CASES</th><th scope=col>MAF_CONTROLS</th><th scope=col>MAC_CONTROLS</th><th scope=col>BETA</th><th scope=col>SE</th><th scope=col>INFO</th><th scope=col>P</th></tr>\n",
       "\t<tr><th scope=col>&lt;int&gt;</th><th scope=col>&lt;int&gt;</th><th scope=col>&lt;chr&gt;</th><th scope=col>&lt;chr&gt;</th><th scope=col>&lt;chr&gt;</th><th scope=col>&lt;dbl&gt;</th><th scope=col>&lt;dbl&gt;</th><th scope=col>&lt;dbl&gt;</th><th scope=col>&lt;dbl&gt;</th><th scope=col>&lt;dbl&gt;</th><th scope=col>&lt;dbl&gt;</th><th scope=col>&lt;dbl&gt;</th><th scope=col>&lt;dbl&gt;</th><th scope=col>&lt;dbl&gt;</th><th scope=col>&lt;dbl&gt;</th><th scope=col>&lt;dbl&gt;</th><th scope=col>&lt;dbl&gt;</th><th scope=col>&lt;dbl&gt;</th></tr>\n",
       "</thead>\n",
       "<tbody>\n",
       "\t<tr><td>1</td><td>13483</td><td>rs554760071</td><td>G</td><td>C</td><td>0.005014410</td><td>0.004875420</td><td>0.005017010</td><td>0.005014410</td><td> 3619.4112</td><td>0.004875420</td><td> 64.843086</td><td>0.005017010</td><td> 3554.5616</td><td>-0.0382893</td><td>0.1777700</td><td>0.500866</td><td>0.8294662</td></tr>\n",
       "\t<tr><td>1</td><td>14975</td><td>rs11803341 </td><td>C</td><td>T</td><td>0.000614720</td><td>0.000505086</td><td>0.000616778</td><td>0.000614720</td><td>  443.7061</td><td>0.000505086</td><td>  6.717644</td><td>0.000616778</td><td>  436.9884</td><td>-0.2480200</td><td>0.4715280</td><td>0.608614</td><td>0.5988941</td></tr>\n",
       "\t<tr><td>1</td><td>17641</td><td>rs578081284</td><td>G</td><td>A</td><td>0.000825771</td><td>0.000936754</td><td>0.000823688</td><td>0.000825771</td><td>  596.0432</td><td>0.000936754</td><td> 12.458828</td><td>0.000823688</td><td>  583.5846</td><td> 0.2985120</td><td>0.3499940</td><td>0.858936</td><td>0.3937105</td></tr>\n",
       "\t<tr><td>1</td><td>18849</td><td>rs533090414</td><td>C</td><td>G</td><td>0.975644000</td><td>0.975293000</td><td>0.975650000</td><td>0.024356000</td><td>17580.2095</td><td>0.024707000</td><td>328.603100</td><td>0.024350000</td><td>17252.0237</td><td>-0.0330117</td><td>0.0801674</td><td>0.511276</td><td>0.6804982</td></tr>\n",
       "\t<tr><td>1</td><td>30524</td><td>rs534702355</td><td>G</td><td>A</td><td>0.000600355</td><td>0.000589415</td><td>0.000600560</td><td>0.000600355</td><td>  433.3374</td><td>0.000589415</td><td>  7.839220</td><td>0.000600560</td><td>  425.4980</td><td>-0.0837607</td><td>0.4473000</td><td>0.618697</td><td>0.8514579</td></tr>\n",
       "\t<tr><td>1</td><td>49318</td><td>rs536836601</td><td>A</td><td>G</td><td>0.001395820</td><td>0.001381390</td><td>0.001396090</td><td>0.001395820</td><td> 1007.5057</td><td>0.001381390</td><td> 18.372487</td><td>0.001396090</td><td>  989.1326</td><td>-0.0304761</td><td>0.3207220</td><td>0.541904</td><td>0.9242963</td></tr>\n",
       "</tbody>\n",
       "</table>\n"
      ],
      "text/latex": [
       "A data.table: 6 × 18\n",
       "\\begin{tabular}{llllllllllllllllll}\n",
       " CHROM & GENPOS & ID & ALLELE0 & ALLELE1 & A1FREQ & A1FREQ\\_CASES & A1FREQ\\_CONTROLS & MAF & MAC & MAF\\_CASES & MAC\\_CASES & MAF\\_CONTROLS & MAC\\_CONTROLS & BETA & SE & INFO & P\\\\\n",
       " <int> & <int> & <chr> & <chr> & <chr> & <dbl> & <dbl> & <dbl> & <dbl> & <dbl> & <dbl> & <dbl> & <dbl> & <dbl> & <dbl> & <dbl> & <dbl> & <dbl>\\\\\n",
       "\\hline\n",
       "\t 1 & 13483 & rs554760071 & G & C & 0.005014410 & 0.004875420 & 0.005017010 & 0.005014410 &  3619.4112 & 0.004875420 &  64.843086 & 0.005017010 &  3554.5616 & -0.0382893 & 0.1777700 & 0.500866 & 0.8294662\\\\\n",
       "\t 1 & 14975 & rs11803341  & C & T & 0.000614720 & 0.000505086 & 0.000616778 & 0.000614720 &   443.7061 & 0.000505086 &   6.717644 & 0.000616778 &   436.9884 & -0.2480200 & 0.4715280 & 0.608614 & 0.5988941\\\\\n",
       "\t 1 & 17641 & rs578081284 & G & A & 0.000825771 & 0.000936754 & 0.000823688 & 0.000825771 &   596.0432 & 0.000936754 &  12.458828 & 0.000823688 &   583.5846 &  0.2985120 & 0.3499940 & 0.858936 & 0.3937105\\\\\n",
       "\t 1 & 18849 & rs533090414 & C & G & 0.975644000 & 0.975293000 & 0.975650000 & 0.024356000 & 17580.2095 & 0.024707000 & 328.603100 & 0.024350000 & 17252.0237 & -0.0330117 & 0.0801674 & 0.511276 & 0.6804982\\\\\n",
       "\t 1 & 30524 & rs534702355 & G & A & 0.000600355 & 0.000589415 & 0.000600560 & 0.000600355 &   433.3374 & 0.000589415 &   7.839220 & 0.000600560 &   425.4980 & -0.0837607 & 0.4473000 & 0.618697 & 0.8514579\\\\\n",
       "\t 1 & 49318 & rs536836601 & A & G & 0.001395820 & 0.001381390 & 0.001396090 & 0.001395820 &  1007.5057 & 0.001381390 &  18.372487 & 0.001396090 &   989.1326 & -0.0304761 & 0.3207220 & 0.541904 & 0.9242963\\\\\n",
       "\\end{tabular}\n"
      ],
      "text/markdown": [
       "\n",
       "A data.table: 6 × 18\n",
       "\n",
       "| CHROM &lt;int&gt; | GENPOS &lt;int&gt; | ID &lt;chr&gt; | ALLELE0 &lt;chr&gt; | ALLELE1 &lt;chr&gt; | A1FREQ &lt;dbl&gt; | A1FREQ_CASES &lt;dbl&gt; | A1FREQ_CONTROLS &lt;dbl&gt; | MAF &lt;dbl&gt; | MAC &lt;dbl&gt; | MAF_CASES &lt;dbl&gt; | MAC_CASES &lt;dbl&gt; | MAF_CONTROLS &lt;dbl&gt; | MAC_CONTROLS &lt;dbl&gt; | BETA &lt;dbl&gt; | SE &lt;dbl&gt; | INFO &lt;dbl&gt; | P &lt;dbl&gt; |\n",
       "|---|---|---|---|---|---|---|---|---|---|---|---|---|---|---|---|---|---|\n",
       "| 1 | 13483 | rs554760071 | G | C | 0.005014410 | 0.004875420 | 0.005017010 | 0.005014410 |  3619.4112 | 0.004875420 |  64.843086 | 0.005017010 |  3554.5616 | -0.0382893 | 0.1777700 | 0.500866 | 0.8294662 |\n",
       "| 1 | 14975 | rs11803341  | C | T | 0.000614720 | 0.000505086 | 0.000616778 | 0.000614720 |   443.7061 | 0.000505086 |   6.717644 | 0.000616778 |   436.9884 | -0.2480200 | 0.4715280 | 0.608614 | 0.5988941 |\n",
       "| 1 | 17641 | rs578081284 | G | A | 0.000825771 | 0.000936754 | 0.000823688 | 0.000825771 |   596.0432 | 0.000936754 |  12.458828 | 0.000823688 |   583.5846 |  0.2985120 | 0.3499940 | 0.858936 | 0.3937105 |\n",
       "| 1 | 18849 | rs533090414 | C | G | 0.975644000 | 0.975293000 | 0.975650000 | 0.024356000 | 17580.2095 | 0.024707000 | 328.603100 | 0.024350000 | 17252.0237 | -0.0330117 | 0.0801674 | 0.511276 | 0.6804982 |\n",
       "| 1 | 30524 | rs534702355 | G | A | 0.000600355 | 0.000589415 | 0.000600560 | 0.000600355 |   433.3374 | 0.000589415 |   7.839220 | 0.000600560 |   425.4980 | -0.0837607 | 0.4473000 | 0.618697 | 0.8514579 |\n",
       "| 1 | 49318 | rs536836601 | A | G | 0.001395820 | 0.001381390 | 0.001396090 | 0.001395820 |  1007.5057 | 0.001381390 |  18.372487 | 0.001396090 |   989.1326 | -0.0304761 | 0.3207220 | 0.541904 | 0.9242963 |\n",
       "\n"
      ],
      "text/plain": [
       "  CHROM GENPOS ID          ALLELE0 ALLELE1 A1FREQ      A1FREQ_CASES A1FREQ_CONTROLS MAF         MAC        MAF_CASES   MAC_CASES  MAF_CONTROLS MAC_CONTROLS BETA       SE        INFO     P        \n",
       "1 1     13483  rs554760071 G       C       0.005014410 0.004875420  0.005017010     0.005014410  3619.4112 0.004875420  64.843086 0.005017010   3554.5616   -0.0382893 0.1777700 0.500866 0.8294662\n",
       "2 1     14975  rs11803341  C       T       0.000614720 0.000505086  0.000616778     0.000614720   443.7061 0.000505086   6.717644 0.000616778    436.9884   -0.2480200 0.4715280 0.608614 0.5988941\n",
       "3 1     17641  rs578081284 G       A       0.000825771 0.000936754  0.000823688     0.000825771   596.0432 0.000936754  12.458828 0.000823688    583.5846    0.2985120 0.3499940 0.858936 0.3937105\n",
       "4 1     18849  rs533090414 C       G       0.975644000 0.975293000  0.975650000     0.024356000 17580.2095 0.024707000 328.603100 0.024350000  17252.0237   -0.0330117 0.0801674 0.511276 0.6804982\n",
       "5 1     30524  rs534702355 G       A       0.000600355 0.000589415  0.000600560     0.000600355   433.3374 0.000589415   7.839220 0.000600560    425.4980   -0.0837607 0.4473000 0.618697 0.8514579\n",
       "6 1     49318  rs536836601 A       G       0.001395820 0.001381390  0.001396090     0.001395820  1007.5057 0.001381390  18.372487 0.001396090    989.1326   -0.0304761 0.3207220 0.541904 0.9242963"
      ]
     },
     "metadata": {},
     "output_type": "display_data"
    }
   ],
   "source": [
    "nonprot_qc <- \n",
    "    nonprot %>% \n",
    "    # make pvalue \n",
    "    mutate(P = 10^(-1*LOG10P)) %>%\n",
    "    # make maf\n",
    "    mutate(MAF = ifelse(A1FREQ > 0.5, 1 - A1FREQ, A1FREQ)) %>%\n",
    "    mutate(MAF_CASES = ifelse(A1FREQ_CASES > 0.5, 1 - A1FREQ_CASES, A1FREQ_CASES)) %>%\n",
    "    mutate(MAF_CONTROLS = ifelse(A1FREQ_CONTROLS > 0.5, 1 - A1FREQ_CONTROLS, A1FREQ_CONTROLS)) %>%\n",
    "    # make mac \n",
    "    mutate(MAC = 2*N*MAF) %>% \n",
    "    mutate(MAC_CASES = 2*N_CASES*MAF_CASES) %>%\n",
    "    mutate(MAC_CONTROLS = 2*N_CONTROLS*MAF_CONTROLS) %>% \n",
    "    # filter MAC>=5 on cases and controls\n",
    "    filter(MAC_CASES >= 5 & MAC_CONTROLS >= 5) %>%\n",
    "    # filter INFO >= 0.5 \n",
    "    filter(INFO >= 0.5) %>%\n",
    "    # select\n",
    "    select(CHROM, GENPOS, ID, ALLELE0, ALLELE1, A1FREQ,A1FREQ_CASES, A1FREQ_CONTROLS, MAF, MAC, MAF_CASES, MAC_CASES, MAF_CONTROLS, MAC_CONTROLS, BETA, SE, INFO, P)\n",
    "nonprot_qc %>% head"
   ]
  },
  {
   "cell_type": "code",
   "execution_count": 5,
   "id": "de5c8fcf",
   "metadata": {},
   "outputs": [
    {
     "name": "stdout",
     "output_type": "stream",
     "text": [
      "Variants in nonprot UKB EUR GWAS: 21,976,921"
     ]
    }
   ],
   "source": [
    "cat(paste0(\"Variants in nonprot UKB EUR GWAS: \", prettyNum(nrow(nonprot_qc),big.mark = \",\")))\n"
   ]
  },
  {
   "cell_type": "markdown",
   "id": "1df463d9",
   "metadata": {},
   "source": [
    "### Write output:\n"
   ]
  },
  {
   "cell_type": "code",
   "execution_count": 6,
   "id": "73354230",
   "metadata": {},
   "outputs": [],
   "source": [
    "write.table(nonprot_qc, file=\"ukb.delirium.gwas/non_prot_eur/output/ukb_nonprot_eur_fgQC_all.regenie\", quote=F, col.names=T, row.names=F)"
   ]
  }
 ],
 "metadata": {
  "kernelspec": {
   "display_name": "R",
   "language": "R",
   "name": "ir"
  },
  "language_info": {
   "codemirror_mode": "r",
   "file_extension": ".r",
   "mimetype": "text/x-r-source",
   "name": "R",
   "pygments_lexer": "r",
   "version": "4.3.2"
  }
 },
 "nbformat": 4,
 "nbformat_minor": 5
}
