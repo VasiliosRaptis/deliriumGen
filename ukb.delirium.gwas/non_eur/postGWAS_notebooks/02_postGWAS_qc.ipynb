{
 "cells": [
  {
   "cell_type": "markdown",
   "id": "edfa3dd4",
   "metadata": {},
   "source": [
    "*NOTE: sumstats still in hg37*"
   ]
  },
  {
   "cell_type": "markdown",
   "id": "cb563d0c",
   "metadata": {},
   "source": [
    "### **Setup:**"
   ]
  },
  {
   "cell_type": "code",
   "execution_count": 1,
   "id": "fd87c27e",
   "metadata": {},
   "outputs": [
    {
     "name": "stderr",
     "output_type": "stream",
     "text": [
      "── \u001b[1mAttaching core tidyverse packages\u001b[22m ──────────────────────────────────────────────────────────────────────────────────────────────────────────────────────────────────────────────── tidyverse 2.0.0 ──\n",
      "\u001b[32m✔\u001b[39m \u001b[34mforcats  \u001b[39m 1.0.0     \u001b[32m✔\u001b[39m \u001b[34mreadr    \u001b[39m 2.1.5\n",
      "\u001b[32m✔\u001b[39m \u001b[34mggplot2  \u001b[39m 3.5.1     \u001b[32m✔\u001b[39m \u001b[34mstringr  \u001b[39m 1.5.1\n",
      "\u001b[32m✔\u001b[39m \u001b[34mlubridate\u001b[39m 1.9.3     \u001b[32m✔\u001b[39m \u001b[34mtibble   \u001b[39m 3.2.1\n",
      "\u001b[32m✔\u001b[39m \u001b[34mpurrr    \u001b[39m 1.0.2     \u001b[32m✔\u001b[39m \u001b[34mtidyr    \u001b[39m 1.3.1\n",
      "── \u001b[1mConflicts\u001b[22m ────────────────────────────────────────────────────────────────────────────────────────────────────────────────────────────────────────────────────────────────── tidyverse_conflicts() ──\n",
      "\u001b[31m✖\u001b[39m \u001b[34mdplyr\u001b[39m::\u001b[32mfilter()\u001b[39m masks \u001b[34mstats\u001b[39m::filter()\n",
      "\u001b[31m✖\u001b[39m \u001b[34mdplyr\u001b[39m::\u001b[32mlag()\u001b[39m    masks \u001b[34mstats\u001b[39m::lag()\n",
      "\u001b[36mℹ\u001b[39m Use the conflicted package (\u001b[3m\u001b[34m<http://conflicted.r-lib.org/>\u001b[39m\u001b[23m) to force all conflicts to become errors\n"
     ]
    }
   ],
   "source": [
    ".libPaths(c(.libPaths(), \"/exports/eddie3_apps_local/apps/SL7/R/4.3.0/lib64/R/library\"))\n",
    "library(\"dplyr\", warn.conflicts = F)\n",
    "library(\"tidyverse\")\n",
    "library(\"stringr\", warn.conflicts = F)\n",
    "library(\"data.table\", warn.conflicts = F) \n",
    "library(\"vroom\", warn.conflicts = F)\n",
    "library(\"ggplot2\", warn.conflicts = F)"
   ]
  },
  {
   "cell_type": "markdown",
   "id": "3fa61508",
   "metadata": {},
   "source": [
    "### **Change working directory:**"
   ]
  },
  {
   "cell_type": "code",
   "execution_count": 2,
   "id": "b3b6ab1a",
   "metadata": {},
   "outputs": [
    {
     "data": {
      "text/html": [
       "'/exports/cmvm/eddie/smgphs/groups/Quantgen/Users/vasilis/PHD'"
      ],
      "text/latex": [
       "'/exports/cmvm/eddie/smgphs/groups/Quantgen/Users/vasilis/PHD'"
      ],
      "text/markdown": [
       "'/exports/cmvm/eddie/smgphs/groups/Quantgen/Users/vasilis/PHD'"
      ],
      "text/plain": [
       "[1] \"/exports/cmvm/eddie/smgphs/groups/Quantgen/Users/vasilis/PHD\""
      ]
     },
     "metadata": {},
     "output_type": "display_data"
    }
   ],
   "source": [
    "wd = \"/exports/cmvm/eddie/smgphs/groups/Quantgen/Users/vasilis/PHD/\"\n",
    "setwd(wd)\n",
    "getwd()"
   ]
  },
  {
   "cell_type": "markdown",
   "id": "aa16750a",
   "metadata": {},
   "source": [
    "### **Load data:**"
   ]
  },
  {
   "cell_type": "code",
   "execution_count": 11,
   "id": "52710852",
   "metadata": {},
   "outputs": [],
   "source": [
    "afr <-\n",
    "  list.files(path=\"ukb.delirium.gwas/non_eur/output/afr\", pattern = \"ukb_afr_noqc_c.*_delirium.regenie\", full.names=T) %>%\n",
    "  map_df(~fread(.))"
   ]
  },
  {
   "cell_type": "code",
   "execution_count": 3,
   "id": "17724b6b",
   "metadata": {},
   "outputs": [],
   "source": [
    "sas <-\n",
    "  list.files(path=\"ukb.delirium.gwas/non_eur/output/sas\", pattern = \"ukb_sas_noqc_c.*_delirium.regenie\", full.names=T) %>%\n",
    "  map_df(~fread(.))"
   ]
  },
  {
   "cell_type": "markdown",
   "id": "17d333ae",
   "metadata": {},
   "source": [
    "### QC:\n"
   ]
  },
  {
   "cell_type": "code",
   "execution_count": 13,
   "id": "010fd66a",
   "metadata": {},
   "outputs": [],
   "source": [
    "afr_qc <- \n",
    "    afr %>% \n",
    "    # make pvalue \n",
    "    mutate(P = 10^(-1*LOG10P)) %>%\n",
    "    # make maf\n",
    "    mutate(MAF = ifelse(A1FREQ > 0.5, 1 - A1FREQ, A1FREQ)) %>%\n",
    "    mutate(MAF_CASES = ifelse(A1FREQ_CASES > 0.5, 1 - A1FREQ_CASES, A1FREQ_CASES)) %>%\n",
    "    mutate(MAF_CONTROLS = ifelse(A1FREQ_CONTROLS > 0.5, 1 - A1FREQ_CONTROLS, A1FREQ_CONTROLS)) %>%\n",
    "    # make mac \n",
    "    mutate(MAC = 2*N*MAF) %>% \n",
    "    mutate(MAC_CASES = 2*N_CASES*MAF_CASES) %>%\n",
    "    mutate(MAC_CONTROLS = 2*N_CONTROLS*MAF_CONTROLS) %>% \n",
    "    # filter MAC>=5 on cases and controls\n",
    "    filter(MAC_CASES >= 5 & MAC_CONTROLS >= 5) %>%\n",
    "    # filter INFO >= 0.5 \n",
    "    filter(INFO >= 0.5) %>%\n",
    "    # select\n",
    "    select(CHROM, GENPOS, ID, ALLELE0, ALLELE1, A1FREQ,A1FREQ_CASES, A1FREQ_CONTROLS, MAF, MAC, MAF_CASES, MAC_CASES, MAF_CONTROLS, MAC_CONTROLS, BETA, SE, INFO, P)"
   ]
  },
  {
   "cell_type": "code",
   "execution_count": 4,
   "id": "d8356bde",
   "metadata": {},
   "outputs": [],
   "source": [
    "sas_qc <- \n",
    "    sas %>% \n",
    "    # make pvalue \n",
    "    mutate(P = 10^(-1*LOG10P)) %>%\n",
    "    # make maf\n",
    "    mutate(MAF = ifelse(A1FREQ > 0.5, 1 - A1FREQ, A1FREQ)) %>%\n",
    "    mutate(MAF_CASES = ifelse(A1FREQ_CASES > 0.5, 1 - A1FREQ_CASES, A1FREQ_CASES)) %>%\n",
    "    mutate(MAF_CONTROLS = ifelse(A1FREQ_CONTROLS > 0.5, 1 - A1FREQ_CONTROLS, A1FREQ_CONTROLS)) %>%\n",
    "    # make mac \n",
    "    mutate(MAC = 2*N*MAF) %>% \n",
    "    mutate(MAC_CASES = 2*N_CASES*MAF_CASES) %>%\n",
    "    mutate(MAC_CONTROLS = 2*N_CONTROLS*MAF_CONTROLS) %>% \n",
    "    # filter MAC>=5 on cases and controls\n",
    "    filter(MAC_CASES >= 5 & MAC_CONTROLS >= 5) %>%\n",
    "    # filter INFO >= 0.5 \n",
    "    filter(INFO >= 0.5) %>%\n",
    "    # select\n",
    "    select(CHROM, GENPOS, ID, ALLELE0, ALLELE1, A1FREQ,A1FREQ_CASES, A1FREQ_CONTROLS, MAF, MAC, MAF_CASES, MAC_CASES, MAF_CONTROLS, MAC_CONTROLS, BETA, SE, INFO, P)"
   ]
  },
  {
   "cell_type": "code",
   "execution_count": 26,
   "id": "de5c8fcf",
   "metadata": {},
   "outputs": [
    {
     "name": "stdout",
     "output_type": "stream",
     "text": [
      "Variants in UKB AFR ancestry GWAS: 13,622,268\n",
      "Variants in UKB SAS ancestry GWAS: 8,750,516"
     ]
    }
   ],
   "source": [
    "cat(paste0(\"Variants in UKB AFR ancestry GWAS: \", prettyNum(nrow(afr_qc),big.mark = \",\")))\n",
    "cat(\"\\n\")\n",
    "cat(paste0(\"Variants in UKB SAS ancestry GWAS: \", prettyNum(nrow(sas_qc),big.mark = \",\")))\n"
   ]
  },
  {
   "cell_type": "code",
   "execution_count": 27,
   "id": "2e995873",
   "metadata": {},
   "outputs": [
    {
     "name": "stderr",
     "output_type": "stream",
     "text": [
      "Warning message in rm(sas, afr):\n",
      "“object 'afr' not found”\n"
     ]
    }
   ],
   "source": [
    "rm(sas, afr)"
   ]
  },
  {
   "cell_type": "markdown",
   "id": "1df463d9",
   "metadata": {},
   "source": [
    "### Write output:\n"
   ]
  },
  {
   "cell_type": "code",
   "execution_count": 5,
   "id": "73354230",
   "metadata": {},
   "outputs": [],
   "source": [
    "#write.table(afr_qc, file=\"ukb.delirium.gwas/non_eur/output/afr/ukb_afr_fgQC_all.regenie\", quote=F, col.names=T, row.names=F)\n",
    "write.table(sas_qc, file=\"ukb.delirium.gwas/non_eur/output/sas/ukb_sas_fgQC_all.regenie\", quote=F, col.names=T, row.names=F)"
   ]
  }
 ],
 "metadata": {
  "kernelspec": {
   "display_name": "R",
   "language": "R",
   "name": "ir"
  },
  "language_info": {
   "codemirror_mode": "r",
   "file_extension": ".r",
   "mimetype": "text/x-r-source",
   "name": "R",
   "pygments_lexer": "r",
   "version": "4.3.2"
  }
 },
 "nbformat": 4,
 "nbformat_minor": 5
}
