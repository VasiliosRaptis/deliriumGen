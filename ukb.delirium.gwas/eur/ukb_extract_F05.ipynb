{
 "cells": [
  {
   "cell_type": "markdown",
   "id": "80e11fbe",
   "metadata": {},
   "source": [
    "*This script will extract delirium phenotypes from ukb data, and create a table with gwas covariates + phenotypes*"
   ]
  },
  {
   "cell_type": "markdown",
   "id": "cbdfaf6f",
   "metadata": {},
   "source": [
    "**Add pre-installed package path & load packages:**"
   ]
  },
  {
   "cell_type": "code",
   "execution_count": 1,
   "id": "378fd7c0",
   "metadata": {},
   "outputs": [],
   "source": [
    ".libPaths(c(.libPaths(), \"/exports/eddie3_apps_local/apps/SL7/R/4.3.0/lib64/R/library\"))"
   ]
  },
  {
   "cell_type": "code",
   "execution_count": 2,
   "id": "f70e4e1b",
   "metadata": {},
   "outputs": [],
   "source": [
    "library(\"dplyr\", warn.conflicts = F)\n",
    "library(\"stringr\", warn.conflicts = F)\n",
    "library(\"data.table\", warn.conflicts = F) \n",
    "library(\"vroom\", warn.conflicts = F)\n",
    "library(\"ggplot2\", warn.conflicts = F)\n",
    "library(\"tidyr\", warn.conflicts = F)"
   ]
  },
  {
   "cell_type": "markdown",
   "id": "025fecef",
   "metadata": {},
   "source": [
    "**Change working directory:**"
   ]
  },
  {
   "cell_type": "code",
   "execution_count": 3,
   "id": "fa87ce89",
   "metadata": {},
   "outputs": [
    {
     "data": {
      "text/html": [
       "'/exports/cmvm/eddie/smgphs/groups/Quantgen/Users/ukb_data/ukb44986/Download#675074'"
      ],
      "text/latex": [
       "'/exports/cmvm/eddie/smgphs/groups/Quantgen/Users/ukb\\_data/ukb44986/Download\\#675074'"
      ],
      "text/markdown": [
       "'/exports/cmvm/eddie/smgphs/groups/Quantgen/Users/ukb_data/ukb44986/Download#675074'"
      ],
      "text/plain": [
       "[1] \"/exports/cmvm/eddie/smgphs/groups/Quantgen/Users/ukb_data/ukb44986/Download#675074\""
      ]
     },
     "metadata": {},
     "output_type": "display_data"
    }
   ],
   "source": [
    "wd = \"/exports/cmvm/eddie/smgphs/groups/Quantgen/Users/ukb_data/ukb44986/Download#675074/\"\n",
    "setwd(wd)\n",
    "getwd()"
   ]
  },
  {
   "cell_type": "markdown",
   "id": "3c8c9c8b",
   "metadata": {},
   "source": [
    "**Load data:**"
   ]
  },
  {
   "cell_type": "code",
   "execution_count": 4,
   "id": "4e296979",
   "metadata": {},
   "outputs": [],
   "source": [
    "file <- \"ukb675074_vr.csv\" # .csv with selected fields\n",
    "a    <- fread(file)\n",
    "a    <- as_tibble(a)"
   ]
  },
  {
   "cell_type": "markdown",
   "id": "8dd8d603",
   "metadata": {},
   "source": [
    "**Load extra data (assessment centre; field 54*):**"
   ]
  },
  {
   "cell_type": "code",
   "execution_count": 5,
   "id": "3d9217bd",
   "metadata": {},
   "outputs": [],
   "source": [
    "file <- \"/exports/cmvm/eddie/smgphs/groups/Quantgen/Users/ukb_data/ukb44986/extra_data/f54.ass.centre.csv\"\n",
    "b    <- fread(file)\n",
    "b    <- b %>% select(eid, `54-0.0`)  # select only assessment centre from first visit \n",
    "a    <- inner_join(a, b, by = \"eid\") # merge with main dataset based on \"eid\""
   ]
  },
  {
   "cell_type": "markdown",
   "id": "a6a9ffa7",
   "metadata": {},
   "source": [
    "**Load extra data (dementia outcomes):**"
   ]
  },
  {
   "cell_type": "code",
   "execution_count": 6,
   "id": "e1d6b9ac",
   "metadata": {},
   "outputs": [],
   "source": [
    "file <- \"/exports/cmvm/eddie/smgphs/groups/Quantgen/Users/ukb_data/ukb44986/extra_data/dementia_outcomes.csv\"\n",
    "c    <- fread(file)\n",
    "# select only \"Date of all cause dementia report\"; field 42018\n",
    "c    <- c %>% select(eid, `42018-0.0`) %>% filter(`42018-0.0` != \"1900-01-01\") \n",
    "a    <-left_join(a, c, by = \"eid\") # merge with main dataset based on \"eid\""
   ]
  },
  {
   "cell_type": "markdown",
   "id": "23ec5402",
   "metadata": {},
   "source": [
    "**Exclude latest withdrawls eids:**"
   ]
  },
  {
   "cell_type": "code",
   "execution_count": 7,
   "id": "8c135c6e",
   "metadata": {},
   "outputs": [],
   "source": [
    "w_eids <- fread(\"/exports/cmvm/eddie/smgphs/groups/Quantgen/Users/ukb_data/ukb44986/withdraw44986_131_20231013.txt\")\n",
    "w_eids <- w_eids$V1"
   ]
  },
  {
   "cell_type": "code",
   "execution_count": 8,
   "id": "1f2e57c8",
   "metadata": {},
   "outputs": [],
   "source": [
    "a <- a %>% filter(!(eid %in% w_eids))"
   ]
  },
  {
   "cell_type": "markdown",
   "id": "9a35982b",
   "metadata": {},
   "source": [
    "**Table preview:**"
   ]
  },
  {
   "cell_type": "code",
   "execution_count": 9,
   "id": "231b376d",
   "metadata": {},
   "outputs": [
    {
     "data": {
      "text/html": [
       "<style>\n",
       ".list-inline {list-style: none; margin:0; padding: 0}\n",
       ".list-inline>li {display: inline-block}\n",
       ".list-inline>li:not(:last-child)::after {content: \"\\00b7\"; padding: 0 .5ex}\n",
       "</style>\n",
       "<ol class=list-inline><li>502356</li><li>996</li></ol>\n"
      ],
      "text/latex": [
       "\\begin{enumerate*}\n",
       "\\item 502356\n",
       "\\item 996\n",
       "\\end{enumerate*}\n"
      ],
      "text/markdown": [
       "1. 502356\n",
       "2. 996\n",
       "\n",
       "\n"
      ],
      "text/plain": [
       "[1] 502356    996"
      ]
     },
     "metadata": {},
     "output_type": "display_data"
    },
    {
     "data": {
      "text/html": [
       "<table class=\"dataframe\">\n",
       "<caption>A tibble: 6 × 996</caption>\n",
       "<thead>\n",
       "\t<tr><th scope=col>eid</th><th scope=col>31-0.0</th><th scope=col>34-0.0</th><th scope=col>52-0.0</th><th scope=col>53-0.0</th><th scope=col>53-1.0</th><th scope=col>53-2.0</th><th scope=col>53-3.0</th><th scope=col>21003-0.0</th><th scope=col>21003-1.0</th><th scope=col>⋯</th><th scope=col>41283-0.10</th><th scope=col>41283-0.11</th><th scope=col>41283-0.12</th><th scope=col>41283-0.13</th><th scope=col>41283-0.14</th><th scope=col>41283-0.15</th><th scope=col>130846-0.0</th><th scope=col>130847-0.0</th><th scope=col>54-0.0</th><th scope=col>42018-0.0</th></tr>\n",
       "\t<tr><th scope=col>&lt;int&gt;</th><th scope=col>&lt;int&gt;</th><th scope=col>&lt;int&gt;</th><th scope=col>&lt;int&gt;</th><th scope=col>&lt;IDate&gt;</th><th scope=col>&lt;IDate&gt;</th><th scope=col>&lt;IDate&gt;</th><th scope=col>&lt;IDate&gt;</th><th scope=col>&lt;int&gt;</th><th scope=col>&lt;int&gt;</th><th scope=col>⋯</th><th scope=col>&lt;IDate&gt;</th><th scope=col>&lt;IDate&gt;</th><th scope=col>&lt;IDate&gt;</th><th scope=col>&lt;IDate&gt;</th><th scope=col>&lt;IDate&gt;</th><th scope=col>&lt;IDate&gt;</th><th scope=col>&lt;IDate&gt;</th><th scope=col>&lt;int&gt;</th><th scope=col>&lt;int&gt;</th><th scope=col>&lt;IDate&gt;</th></tr>\n",
       "</thead>\n",
       "<tbody>\n",
       "\t<tr><td>1000015</td><td>1</td><td>1940</td><td>11</td><td>2008-04-23</td><td>NA</td><td>NA</td><td>NA</td><td>67</td><td>NA</td><td>⋯</td><td>NA</td><td>NA</td><td>NA</td><td>NA</td><td>NA</td><td>NA</td><td>NA</td><td>NA</td><td>11010</td><td>NA</td></tr>\n",
       "\t<tr><td>1000027</td><td>1</td><td>1946</td><td> 9</td><td>2008-07-23</td><td>NA</td><td>NA</td><td>NA</td><td>61</td><td>NA</td><td>⋯</td><td>NA</td><td>NA</td><td>NA</td><td>NA</td><td>NA</td><td>NA</td><td>NA</td><td>NA</td><td>11009</td><td>NA</td></tr>\n",
       "\t<tr><td>1000039</td><td>0</td><td>1953</td><td>10</td><td>2008-12-06</td><td>NA</td><td>NA</td><td>NA</td><td>55</td><td>NA</td><td>⋯</td><td>NA</td><td>NA</td><td>NA</td><td>NA</td><td>NA</td><td>NA</td><td>NA</td><td>NA</td><td>11007</td><td>NA</td></tr>\n",
       "\t<tr><td>1000040</td><td>1</td><td>1966</td><td> 3</td><td>2008-09-02</td><td>2012-09-12</td><td>2015-04-22</td><td>2021-02-03</td><td>42</td><td>46</td><td>⋯</td><td>NA</td><td>NA</td><td>NA</td><td>NA</td><td>NA</td><td>NA</td><td>NA</td><td>NA</td><td>11008</td><td>NA</td></tr>\n",
       "\t<tr><td>1000053</td><td>0</td><td>1968</td><td> 2</td><td>2009-02-28</td><td>NA</td><td>NA</td><td>NA</td><td>41</td><td>NA</td><td>⋯</td><td>NA</td><td>NA</td><td>NA</td><td>NA</td><td>NA</td><td>NA</td><td>NA</td><td>NA</td><td>11016</td><td>NA</td></tr>\n",
       "\t<tr><td>1000064</td><td>0</td><td>1964</td><td> 3</td><td>2010-09-10</td><td>NA</td><td>NA</td><td>NA</td><td>46</td><td>NA</td><td>⋯</td><td>NA</td><td>NA</td><td>NA</td><td>NA</td><td>NA</td><td>NA</td><td>NA</td><td>NA</td><td>11023</td><td>NA</td></tr>\n",
       "</tbody>\n",
       "</table>\n"
      ],
      "text/latex": [
       "A tibble: 6 × 996\n",
       "\\begin{tabular}{lllllllllllllllllllll}\n",
       " eid & 31-0.0 & 34-0.0 & 52-0.0 & 53-0.0 & 53-1.0 & 53-2.0 & 53-3.0 & 21003-0.0 & 21003-1.0 & ⋯ & 41283-0.10 & 41283-0.11 & 41283-0.12 & 41283-0.13 & 41283-0.14 & 41283-0.15 & 130846-0.0 & 130847-0.0 & 54-0.0 & 42018-0.0\\\\\n",
       " <int> & <int> & <int> & <int> & <IDate> & <IDate> & <IDate> & <IDate> & <int> & <int> & ⋯ & <IDate> & <IDate> & <IDate> & <IDate> & <IDate> & <IDate> & <IDate> & <int> & <int> & <IDate>\\\\\n",
       "\\hline\n",
       "\t 1000015 & 1 & 1940 & 11 & 2008-04-23 & NA & NA & NA & 67 & NA & ⋯ & NA & NA & NA & NA & NA & NA & NA & NA & 11010 & NA\\\\\n",
       "\t 1000027 & 1 & 1946 &  9 & 2008-07-23 & NA & NA & NA & 61 & NA & ⋯ & NA & NA & NA & NA & NA & NA & NA & NA & 11009 & NA\\\\\n",
       "\t 1000039 & 0 & 1953 & 10 & 2008-12-06 & NA & NA & NA & 55 & NA & ⋯ & NA & NA & NA & NA & NA & NA & NA & NA & 11007 & NA\\\\\n",
       "\t 1000040 & 1 & 1966 &  3 & 2008-09-02 & 2012-09-12 & 2015-04-22 & 2021-02-03 & 42 & 46 & ⋯ & NA & NA & NA & NA & NA & NA & NA & NA & 11008 & NA\\\\\n",
       "\t 1000053 & 0 & 1968 &  2 & 2009-02-28 & NA & NA & NA & 41 & NA & ⋯ & NA & NA & NA & NA & NA & NA & NA & NA & 11016 & NA\\\\\n",
       "\t 1000064 & 0 & 1964 &  3 & 2010-09-10 & NA & NA & NA & 46 & NA & ⋯ & NA & NA & NA & NA & NA & NA & NA & NA & 11023 & NA\\\\\n",
       "\\end{tabular}\n"
      ],
      "text/markdown": [
       "\n",
       "A tibble: 6 × 996\n",
       "\n",
       "| eid &lt;int&gt; | 31-0.0 &lt;int&gt; | 34-0.0 &lt;int&gt; | 52-0.0 &lt;int&gt; | 53-0.0 &lt;IDate&gt; | 53-1.0 &lt;IDate&gt; | 53-2.0 &lt;IDate&gt; | 53-3.0 &lt;IDate&gt; | 21003-0.0 &lt;int&gt; | 21003-1.0 &lt;int&gt; | ⋯ ⋯ | 41283-0.10 &lt;IDate&gt; | 41283-0.11 &lt;IDate&gt; | 41283-0.12 &lt;IDate&gt; | 41283-0.13 &lt;IDate&gt; | 41283-0.14 &lt;IDate&gt; | 41283-0.15 &lt;IDate&gt; | 130846-0.0 &lt;IDate&gt; | 130847-0.0 &lt;int&gt; | 54-0.0 &lt;int&gt; | 42018-0.0 &lt;IDate&gt; |\n",
       "|---|---|---|---|---|---|---|---|---|---|---|---|---|---|---|---|---|---|---|---|---|\n",
       "| 1000015 | 1 | 1940 | 11 | 2008-04-23 | NA | NA | NA | 67 | NA | ⋯ | NA | NA | NA | NA | NA | NA | NA | NA | 11010 | NA |\n",
       "| 1000027 | 1 | 1946 |  9 | 2008-07-23 | NA | NA | NA | 61 | NA | ⋯ | NA | NA | NA | NA | NA | NA | NA | NA | 11009 | NA |\n",
       "| 1000039 | 0 | 1953 | 10 | 2008-12-06 | NA | NA | NA | 55 | NA | ⋯ | NA | NA | NA | NA | NA | NA | NA | NA | 11007 | NA |\n",
       "| 1000040 | 1 | 1966 |  3 | 2008-09-02 | 2012-09-12 | 2015-04-22 | 2021-02-03 | 42 | 46 | ⋯ | NA | NA | NA | NA | NA | NA | NA | NA | 11008 | NA |\n",
       "| 1000053 | 0 | 1968 |  2 | 2009-02-28 | NA | NA | NA | 41 | NA | ⋯ | NA | NA | NA | NA | NA | NA | NA | NA | 11016 | NA |\n",
       "| 1000064 | 0 | 1964 |  3 | 2010-09-10 | NA | NA | NA | 46 | NA | ⋯ | NA | NA | NA | NA | NA | NA | NA | NA | 11023 | NA |\n",
       "\n"
      ],
      "text/plain": [
       "  eid     31-0.0 34-0.0 52-0.0 53-0.0     53-1.0     53-2.0     53-3.0     21003-0.0 21003-1.0 ⋯ 41283-0.10 41283-0.11 41283-0.12 41283-0.13 41283-0.14 41283-0.15 130846-0.0 130847-0.0 54-0.0\n",
       "1 1000015 1      1940   11     2008-04-23 <NA>       <NA>       <NA>       67        NA        ⋯ <NA>       <NA>       <NA>       <NA>       <NA>       <NA>       <NA>       NA         11010 \n",
       "2 1000027 1      1946    9     2008-07-23 <NA>       <NA>       <NA>       61        NA        ⋯ <NA>       <NA>       <NA>       <NA>       <NA>       <NA>       <NA>       NA         11009 \n",
       "3 1000039 0      1953   10     2008-12-06 <NA>       <NA>       <NA>       55        NA        ⋯ <NA>       <NA>       <NA>       <NA>       <NA>       <NA>       <NA>       NA         11007 \n",
       "4 1000040 1      1966    3     2008-09-02 2012-09-12 2015-04-22 2021-02-03 42        46        ⋯ <NA>       <NA>       <NA>       <NA>       <NA>       <NA>       <NA>       NA         11008 \n",
       "5 1000053 0      1968    2     2009-02-28 <NA>       <NA>       <NA>       41        NA        ⋯ <NA>       <NA>       <NA>       <NA>       <NA>       <NA>       <NA>       NA         11016 \n",
       "6 1000064 0      1964    3     2010-09-10 <NA>       <NA>       <NA>       46        NA        ⋯ <NA>       <NA>       <NA>       <NA>       <NA>       <NA>       <NA>       NA         11023 \n",
       "  42018-0.0\n",
       "1 <NA>     \n",
       "2 <NA>     \n",
       "3 <NA>     \n",
       "4 <NA>     \n",
       "5 <NA>     \n",
       "6 <NA>     "
      ]
     },
     "metadata": {},
     "output_type": "display_data"
    }
   ],
   "source": [
    "dim(a)\n",
    "head(a)"
   ]
  },
  {
   "cell_type": "markdown",
   "id": "524168b4",
   "metadata": {},
   "source": [
    "**Get eids for people with delirium:** <br>\n",
    "- **ICD10 diagnoses: code *F05* present in 41270-0.* columns** <br>\n",
    "- **ICD9 diagnoses: code *2930* present in 41271-0.* columns** <br>\n",
    "- **Primary cause of death (ICD10): code *F05* present in 40001* columns** <br>\n",
    "- **Secondary cause of death (ICD10): code *F05* present in 40002* columns** <br>\n"
   ]
  },
  {
   "cell_type": "code",
   "execution_count": 10,
   "id": "68f87997",
   "metadata": {},
   "outputs": [
    {
     "name": "stdout",
     "output_type": "stream",
     "text": [
      "[1] \"icd10 delirium dignoses: n=9114\"\n",
      "[1] \"icd9 delirium dignoses: n=9\"\n",
      "[1] \"deaths with delirium as primary cause: n=4\"\n",
      "[1] \"deaths with delirium as secondary cause: n=51\"\n"
     ]
    }
   ],
   "source": [
    "# icd10 diagnoses \n",
    "del_eids_icd10 <- a %>% filter(if_any(starts_with(\"41270-0\"), ~ str_detect(.,\"F05\"))) %>% pull(eid)\n",
    "print(paste0(\"icd10 delirium dignoses: n=\", length(del_eids_icd10)))\n",
    "# icd9 diagnoses\n",
    "del_eids_icd9 <- a %>% filter(if_any(starts_with(\"41271-0\"), ~ str_detect(.,\"2930\"))) %>% pull(eid)\n",
    "print(paste0(\"icd9 delirium dignoses: n=\", length(del_eids_icd9)))\n",
    "# primary cause of death \n",
    "del_eids_d1 <- a %>% filter(if_any(starts_with(\"40001\"), ~ str_detect(.,\"F05\"))) %>% pull(eid)\n",
    "print(paste0(\"deaths with delirium as primary cause: n=\", length(del_eids_d1)))\n",
    "# secondary cause of death \n",
    "del_eids_d2 <- a %>% filter(if_any(starts_with(\"40002\"), ~ str_detect(.,\"F05\"))) %>% pull(eid)\n",
    "print(paste0(\"deaths with delirium as secondary cause: n=\", length(del_eids_d2)))\n"
   ]
  },
  {
   "cell_type": "code",
   "execution_count": 11,
   "id": "430268ab",
   "metadata": {},
   "outputs": [
    {
     "name": "stdout",
     "output_type": "stream",
     "text": [
      "[1] \"at least one delirium occurance: n=9131\"\n"
     ]
    }
   ],
   "source": [
    "del_eidsA <- c(del_eids_icd10, del_eids_icd9, del_eids_d1, del_eids_d2) %>% unique \n",
    "print(paste0(\"at least one delirium occurance: n=\", length(del_eidsA)))"
   ]
  },
  {
   "cell_type": "markdown",
   "id": "5f336906",
   "metadata": {},
   "source": [
    "**Eids for delirium subcodes:**"
   ]
  },
  {
   "cell_type": "code",
   "execution_count": 10,
   "id": "7112eb5e",
   "metadata": {},
   "outputs": [
    {
     "name": "stdout",
     "output_type": "stream",
     "text": [
      "[1] \"Delirium not superimposed on dementia, so described: n=1413\"\n",
      "[1] \"Delirium superimposed on dementia: n=1758\"\n",
      "[1] \"Other delirium: n=1184\"\n",
      "[1] \"Delirium, unspecified: n=6064\"\n",
      "[1] \"\"\n",
      "[1] \"Alcohol withdrawal state with delirium: n=221\"\n",
      "[1] \"Opioid withdrawal state with delirium: n=1\"\n",
      "[1] \"Sedatives or hypnotics withdrawal state with delirium: n=1\"\n",
      "[1] \"Tobacco withdrawal state with delirium: n=6\"\n",
      "[1] \"Multiple drug use and use of other psychoactive substances, withdrawal state with delirium: n=1\"\n"
     ]
    }
   ],
   "source": [
    "# delirium not superimposed on dementia - F05.0\n",
    "eids_F050 <- a %>% filter(if_any(starts_with(\"41270-0\"), ~ str_detect(.,\"F050\"))) %>% pull(eid)\n",
    "print(paste0(\"Delirium not superimposed on dementia, so described: n=\", length(eids_F050)))\n",
    "# delirium superimposed on dementia - F05.1\n",
    "eids_F051 <- a %>% filter(if_any(starts_with(\"41270-0\"), ~ str_detect(.,\"F051\"))) %>% pull(eid)\n",
    "print(paste0(\"Delirium superimposed on dementia: n=\", length(eids_F051)))\n",
    "# other delirium - F05.8\n",
    "eids_F058 <- a %>% filter(if_any(starts_with(\"41270-0\"), ~ str_detect(.,\"F058\"))) %>% pull(eid)\n",
    "print(paste0(\"Other delirium: n=\", length(eids_F058)))\n",
    "# unspecified delirium - F05.9\n",
    "eids_F059 <- a %>% filter(if_any(starts_with(\"41270-0\"), ~ str_detect(.,\"F059\"))) %>% pull(eid)\n",
    "print(paste0(\"Delirium, unspecified: n=\", length(eids_F059)))\n",
    "print(\"\")\n",
    "\n",
    "# Alcohol withdrawal state with delirium - F10.4 \n",
    "eids_F104 <- a %>% filter(if_any(starts_with(\"41270-0\"), ~ str_detect(.,\"F104\"))) %>% pull(eid)\n",
    "print(paste0(\"Alcohol withdrawal state with delirium: n=\", length(eids_F104)))\n",
    "# Opioid withdrawal state with delirium - F11.4 \n",
    "eids_F114 <- a %>% filter(if_any(starts_with(\"41270-0\"), ~ str_detect(.,\"F114\"))) %>% pull(eid)\n",
    "print(paste0(\"Opioid withdrawal state with delirium: n=\", length(eids_F114)))\n",
    "# Sedatives or hypnotics withdrawal state with delirium - F13.4 \n",
    "eids_F134 <- a %>% filter(if_any(starts_with(\"41270-0\"), ~ str_detect(.,\"F134\"))) %>% pull(eid)\n",
    "print(paste0(\"Sedatives or hypnotics withdrawal state with delirium: n=\", length(eids_F134)))\n",
    "# Tobacco withdrawal state with delirium - F17.4 \n",
    "eids_F174 <- a %>% filter(if_any(starts_with(\"41270-0\"), ~ str_detect(.,\"F174\"))) %>% pull(eid)\n",
    "print(paste0(\"Tobacco withdrawal state with delirium: n=\", length(eids_F174)))\n",
    "# Multiple drug use and use of other psychoactive substances withdrawal state with delirium - F19.4 \n",
    "eids_F194 <- a %>% filter(if_any(starts_with(\"41270-0\"), ~ str_detect(.,\"F194\"))) %>% pull(eid)\n",
    "print(paste0(\"Multiple drug use and use of other psychoactive substances, withdrawal state with delirium: n=\", length(eids_F194)))\n",
    "\n",
    "\n"
   ]
  },
  {
   "cell_type": "markdown",
   "id": "71915e9e",
   "metadata": {},
   "source": [
    "Export subcodes eids:"
   ]
  },
  {
   "cell_type": "code",
   "execution_count": 12,
   "id": "653d2c1b",
   "metadata": {},
   "outputs": [],
   "source": [
    "#write.table(eids_F051, file=\"/exports/cmvm/eddie/smgphs/groups/Quantgen/Users/vasilis/PHD/ukb.delirium.gwas/pheno_covar_files/eids_F051\", row.names=F, col.names=F)\n",
    "#write.table(eids_F050, file=\"/exports/cmvm/eddie/smgphs/groups/Quantgen/Users/vasilis/PHD/ukb.delirium.gwas/pheno_covar_files/eids_F050\", row.names=F, col.names=F)"
   ]
  },
  {
   "cell_type": "markdown",
   "id": "ffc1ef23",
   "metadata": {},
   "source": [
    "**Althernatively: based on the eids with valid \"date of F05 first reported\":**\n"
   ]
  },
  {
   "cell_type": "code",
   "execution_count": 12,
   "id": "592d5e31",
   "metadata": {},
   "outputs": [
    {
     "name": "stdout",
     "output_type": "stream",
     "text": [
      "[1] \"at least one delirium occurance: n=9150\"\n"
     ]
    }
   ],
   "source": [
    "del_eids <- a %>% filter(!(is.na(`130846-0.0`))) %>% pull(eid)\n",
    "print(paste0(\"at least one delirium occurance: n=\", length(del_eids)))"
   ]
  },
  {
   "cell_type": "markdown",
   "id": "c426dcfe",
   "metadata": {},
   "source": [
    "**Get eids for dead people: have a non NA age at death (cols 40007*):**"
   ]
  },
  {
   "cell_type": "code",
   "execution_count": 13,
   "id": "fc6c80a7",
   "metadata": {},
   "outputs": [
    {
     "name": "stdout",
     "output_type": "stream",
     "text": [
      "[1] \"Individuals who have died: n=44500\"\n"
     ]
    },
    {
     "data": {
      "text/html": [
       "TRUE"
      ],
      "text/latex": [
       "TRUE"
      ],
      "text/markdown": [
       "TRUE"
      ],
      "text/plain": [
       "[1] TRUE"
      ]
     },
     "metadata": {},
     "output_type": "display_data"
    }
   ],
   "source": [
    "dead_eids <-\n",
    "    a %>% \n",
    "    filter(if_any(starts_with(\"40007\"), ~ !is.na(.))) %>%\n",
    "    pull(eid)\n",
    "print(paste0(\"Individuals who have died: n=\", length(dead_eids))) \n",
    "\n",
    "# columns 40007-0.0 and 40007-1.0 are the same, use only 40007-0.0\n",
    "all(a$`40007-0.0` == a$`40007-1.0`, na.rm = T)"
   ]
  },
  {
   "cell_type": "markdown",
   "id": "4ba05dda",
   "metadata": {},
   "source": [
    "**Rename & create columns:**"
   ]
  },
  {
   "cell_type": "code",
   "execution_count": 18,
   "id": "c4b8151a",
   "metadata": {},
   "outputs": [],
   "source": [
    "#names(a)"
   ]
  },
  {
   "cell_type": "code",
   "execution_count": 14,
   "id": "9ddb8b6d",
   "metadata": {},
   "outputs": [],
   "source": [
    "a1 <- \n",
    "a %>% \n",
    "    # remale useful columns\n",
    "    rename(\n",
    "        \"sex\" = \"31-0.0\",\n",
    "        \"YOB\" = \"34-0.0\",\n",
    "        \"MOB\" = \"52-0.0\",\n",
    "        \"DOA_0\" = \"53-0.0\", # date of attending assessment centre\n",
    "        \"DOA_1\" = \"53-1.0\", \n",
    "        \"DOA_2\" = \"53-2.0\",\n",
    "        \"DOA_3\" = \"53-3.0\",\n",
    "        \"AAA\"   = \"21003-0.0\", # Age when attended assessment centre\n",
    "        \"ass_centre\" = \"54-0.0\",\n",
    "        \"batch\" = \"22000-0.0\",\n",
    "        \"g_sex\" = \"22001-0.0\",\n",
    "        \"het_miss_outlier\" = \"22027-0.0\",\n",
    "        \"sex_chr_aneuploidy\" = \"22019-0.0\",\n",
    "        \"g_kinship\" = \"22021-0.0\",\n",
    "        \"g_ethnicity\" = \"22006-0.0\",\n",
    "        \"age_death\" = \"40007-0.0\",\n",
    "        \"delirium_date\"= \"130846-0.0\",\n",
    "        \"delirium_source\" = \"130847-0.0\",\n",
    "        \"provider_0\" = \"40022-0.0\", # provider of inpatient data \n",
    "        \"provider_1\" = \"40022-0.1\",\n",
    "        \"provider_2\" = \"40022-0.2\",\n",
    "        \"dementia_date\" = \"42018-0.0\"\n",
    "        \n",
    "    ) %>%\n",
    "    rename_with(~gsub(\"22009-0.\", \"PC\", x=.), .cols = starts_with(\"22009-0\")) %>%\n",
    "    # replace empty values with NAs in data provider columns\n",
    "    mutate(across(starts_with(\"provider\"), ~ na_if(.,\"\"))) %>%\n",
    "    # replace empty values with NAs in icd10 diagnoses codes columns\n",
    "    mutate(across(starts_with(\"41270-0\"), ~ na_if(.,\"\"))) %>% \n",
    "    # make variable: has the individual any icd10 diagnosis? \n",
    "    mutate(hasICD10 = ifelse(!is.na(`41270-0.0`),1,0)) %>% \n",
    "    # make an IDate class column for approx. DOB. Day of birth is not accessible so set to 15th\n",
    "    mutate(approx_dob = as.IDate(ISOdate(year=YOB, month=MOB, day=15))) %>%\n",
    "    ## make a dummy age at first assessment variable based on approx. dob and date of assessment\n",
    "    mutate(approx_AAA = round(as.numeric(difftime(DOA_0, approx_dob, units=\"days\")) / 365.25, digits=2)) %>%\n",
    "    # make isdead variable: dead (1) or alive (0)\n",
    "    mutate(isdead = ifelse(eid %in% dead_eids, 1, 0)) %>%\n",
    "    # make outcome variable: delirium case (1) or control (0) \n",
    "    mutate(delirium = ifelse(eid %in% del_eids, 1, 0)) %>% \n",
    "    # extract selected columns\n",
    "    select(eid, YOB, MOB, approx_dob, starts_with(\"DOA\"), AAA, approx_AAA, ass_centre, batch, sex, g_sex, het_miss_outlier, sex_chr_aneuploidy, g_ethnicity, g_kinship, \n",
    "           paste0(\"PC\", seq(1,20)), starts_with(\"provider\"), hasICD10, isdead, age_death, dementia_date, delirium_source, delirium_date, delirium, \n",
    "           starts_with(\"41270-0\"), starts_with(\"41280-0\"))\n"
   ]
  },
  {
   "cell_type": "markdown",
   "id": "728eefd3",
   "metadata": {},
   "source": [
    "**Make dementia incident / prevalent variable:**"
   ]
  },
  {
   "cell_type": "code",
   "execution_count": 15,
   "id": "a17309e5",
   "metadata": {},
   "outputs": [],
   "source": [
    "# dementia_incident: \n",
    "# -1 = dementia before delirium (prevalent); \n",
    "# 0 = same date as delirium; \n",
    "# 1 = after delirium (incident)\n",
    "a1 <-\n",
    "a1 %>% mutate(dementia_incident = case_when( (as.IDate(delirium_date) < as.IDate(dementia_date))  ~ 1,\n",
    "                                             (as.IDate(delirium_date) > as.IDate(dementia_date)) ~ -1,\n",
    "                                             (as.IDate(delirium_date) == as.IDate(dementia_date)) ~ 0,\n",
    "                                             TRUE ~ NA)) %>% \n",
    "   mutate(dementia_status = ifelse(!is.na(dementia_date),1,0))"
   ]
  },
  {
   "cell_type": "code",
   "execution_count": 16,
   "id": "4dbd756a",
   "metadata": {},
   "outputs": [],
   "source": [
    "# exclcude icd codes diagnoses and dates columns\n",
    "a2 <-\n",
    "a1 %>%\n",
    "    # extract selected columns\n",
    "    select(eid, YOB, MOB, approx_dob, starts_with(\"DOA\"), AAA, approx_AAA, ass_centre, batch, sex, g_sex, het_miss_outlier, sex_chr_aneuploidy, g_ethnicity, g_kinship, \n",
    "           paste0(\"PC\", seq(1,20)), starts_with(\"provider\"), hasICD10, isdead, age_death, dementia_status, dementia_incident, delirium_source, delirium_date, delirium)\n",
    "           #starts_with(\"41270-0\"), starts_with(\"41262-0\"))\n"
   ]
  },
  {
   "cell_type": "markdown",
   "id": "19c910b7",
   "metadata": {},
   "source": [
    "**Make \"age\" variables:** <br>\n",
    "- for cases: *date of diagnosis - dob* <br>\n",
    "- for dead controls: *age at death* <br>\n",
    "- for alive controls: *date of cencoring - dob* <br>\n",
    "\n",
    "\\* cencoring dates are different depending on provider, see these: <br>\n",
    "https://biobank.ctsu.ox.ac.uk/crystal/field.cgi?id=40022 (providers) <br>\n",
    "https://biobank.ndph.ox.ac.uk/ukb/exinfo.cgi?src=Data_providers_and_dates (censoring dates) <br>"
   ]
  },
  {
   "cell_type": "code",
   "execution_count": 17,
   "id": "5814d619",
   "metadata": {
    "scrolled": true
   },
   "outputs": [],
   "source": [
    "# create censoring dates (as of: 15.10.23)\n",
    "\n",
    "#  HES: 31 October 2022\n",
    "#  SMR: 31 August 2022\n",
    "# PEDW: 31 May 2022\n",
    "# no data: 31 October 2022 (assumed healthy?)\n",
    "\n",
    "a2 <-\n",
    "a2 %>% \n",
    "    mutate(censoring_date = case_when( (provider_0 == \"HES\")  ~ as.IDate(ISOdate(2022,10,31)),\n",
    "                                       (provider_0 == \"SMR\" | provider_1 == \"SMR\" | provider_2 == \"SMR\")    ~ as.IDate(ISOdate(2022,08,31)),\n",
    "                                       (provider_0 == \"PEDW\" | provider_1 == \"PEDW\" | provider_2 == \"PEDW\") ~ as.IDate(ISOdate(2022,05,31)),\n",
    "                                       TRUE ~ as.IDate(ISOdate(2022,10,31))))\n"
   ]
  },
  {
   "cell_type": "code",
   "execution_count": 18,
   "id": "f2a27efa",
   "metadata": {
    "scrolled": true
   },
   "outputs": [],
   "source": [
    "# create age variable\n",
    "a2 <-\n",
    "a2 %>% \n",
    "    mutate(age = case_when((delirium == 1) ~ round(as.numeric(difftime(delirium_date, approx_dob, units=\"days\")) / 365.25, digits=1), # cases\n",
    "                           (delirium == 0 & isdead == 0) ~ round(as.numeric(difftime(censoring_date, approx_dob, units=\"days\")) / 365.25, digits=1), # alive control\n",
    "                           (delirium == 0 & isdead == 1) ~ round(as.numeric(age_death), digits = 1))) # dead controls \n"
   ]
  },
  {
   "cell_type": "code",
   "execution_count": 19,
   "id": "44b9b931",
   "metadata": {},
   "outputs": [
    {
     "data": {
      "text/plain": [
       "   Min. 1st Qu.  Median    Mean 3rd Qu.    Max. \n",
       "  23.90   71.60   75.50   74.38   78.80   85.50 "
      ]
     },
     "metadata": {},
     "output_type": "display_data"
    },
    {
     "data": {
      "text/plain": [
       "   Min. 1st Qu.  Median    Mean 3rd Qu.    Max. \n",
       "  40.30   63.90   71.30   70.21   76.60   88.60 "
      ]
     },
     "metadata": {},
     "output_type": "display_data"
    },
    {
     "data": {
      "image/png": "[encoded data removed]",
      "text/plain": [
       "Plot with title “Histogram of .”"
      ]
     },
     "metadata": {
      "image/png": {
       "height": 420,
       "width": 420
      }
     },
     "output_type": "display_data"
    }
   ],
   "source": [
    "a2 %>% filter(delirium == 1) %>% pull(age) %>% summary()\n",
    "a2 %>% filter(delirium == 0) %>% pull(age) %>%summary()\n",
    "\n",
    "a2 %>% pull(age) %>% hist(.,breaks=100)"
   ]
  },
  {
   "cell_type": "code",
   "execution_count": 20,
   "id": "75816a7e",
   "metadata": {},
   "outputs": [
    {
     "name": "stderr",
     "output_type": "stream",
     "text": [
      "\u001b[1m\u001b[22m`summarise()` has grouped output by 'delirium'. You can override using the `.groups` argument.\n"
     ]
    },
    {
     "data": {
      "text/html": [
       "<table class=\"dataframe\">\n",
       "<caption>A grouped_df: 4 × 3</caption>\n",
       "<thead>\n",
       "\t<tr><th scope=col>delirium</th><th scope=col>isdead</th><th scope=col>n</th></tr>\n",
       "\t<tr><th scope=col>&lt;dbl&gt;</th><th scope=col>&lt;dbl&gt;</th><th scope=col>&lt;int&gt;</th></tr>\n",
       "</thead>\n",
       "<tbody>\n",
       "\t<tr><td>0</td><td>0</td><td>453226</td></tr>\n",
       "\t<tr><td>0</td><td>1</td><td> 39980</td></tr>\n",
       "\t<tr><td>1</td><td>0</td><td>  4630</td></tr>\n",
       "\t<tr><td>1</td><td>1</td><td>  4520</td></tr>\n",
       "</tbody>\n",
       "</table>\n"
      ],
      "text/latex": [
       "A grouped\\_df: 4 × 3\n",
       "\\begin{tabular}{lll}\n",
       " delirium & isdead & n\\\\\n",
       " <dbl> & <dbl> & <int>\\\\\n",
       "\\hline\n",
       "\t 0 & 0 & 453226\\\\\n",
       "\t 0 & 1 &  39980\\\\\n",
       "\t 1 & 0 &   4630\\\\\n",
       "\t 1 & 1 &   4520\\\\\n",
       "\\end{tabular}\n"
      ],
      "text/markdown": [
       "\n",
       "A grouped_df: 4 × 3\n",
       "\n",
       "| delirium &lt;dbl&gt; | isdead &lt;dbl&gt; | n &lt;int&gt; |\n",
       "|---|---|---|\n",
       "| 0 | 0 | 453226 |\n",
       "| 0 | 1 |  39980 |\n",
       "| 1 | 0 |   4630 |\n",
       "| 1 | 1 |   4520 |\n",
       "\n"
      ],
      "text/plain": [
       "  delirium isdead n     \n",
       "1 0        0      453226\n",
       "2 0        1       39980\n",
       "3 1        0        4630\n",
       "4 1        1        4520"
      ]
     },
     "metadata": {},
     "output_type": "display_data"
    }
   ],
   "source": [
    "# half of people with delirium have died!\n",
    "a2 %>% group_by(delirium, isdead) %>% summarise(n = n(), )"
   ]
  },
  {
   "cell_type": "code",
   "execution_count": 27,
   "id": "9243745e",
   "metadata": {},
   "outputs": [
    {
     "data": {
      "text/html": [
       "<style>\n",
       ".list-inline {list-style: none; margin:0; padding: 0}\n",
       ".list-inline>li {display: inline-block}\n",
       ".list-inline>li:not(:last-child)::after {content: \"\\00b7\"; padding: 0 .5ex}\n",
       "</style>\n",
       "<ol class=list-inline><li>1000015</li><li>1000027</li><li>1000039</li><li>1000040</li><li>1000053</li><li>1000064</li></ol>\n"
      ],
      "text/latex": [
       "\\begin{enumerate*}\n",
       "\\item 1000015\n",
       "\\item 1000027\n",
       "\\item 1000039\n",
       "\\item 1000040\n",
       "\\item 1000053\n",
       "\\item 1000064\n",
       "\\end{enumerate*}\n"
      ],
      "text/markdown": [
       "1. 1000015\n",
       "2. 1000027\n",
       "3. 1000039\n",
       "4. 1000040\n",
       "5. 1000053\n",
       "6. 1000064\n",
       "\n",
       "\n"
      ],
      "text/plain": [
       "[1] 1000015 1000027 1000039 1000040 1000053 1000064"
      ]
     },
     "metadata": {},
     "output_type": "display_data"
    }
   ],
   "source": [
    "# eids used in gwas\n",
    "#ii <- fread(\"../../../vasilis/PHD/ukb.delirium.gwas/regenie_files/extraction_files/qc_pass_called.id\")\n",
    "#ii <- ii$V1 \n",
    "#head(ii)"
   ]
  },
  {
   "cell_type": "code",
   "execution_count": 21,
   "id": "3fa17028",
   "metadata": {},
   "outputs": [
    {
     "data": {
      "text/html": [
       "<table class=\"dataframe\">\n",
       "<caption>A tibble: 3 × 2</caption>\n",
       "<thead>\n",
       "\t<tr><th scope=col>incident</th><th scope=col>n</th></tr>\n",
       "\t<tr><th scope=col>&lt;dbl&gt;</th><th scope=col>&lt;int&gt;</th></tr>\n",
       "</thead>\n",
       "<tbody>\n",
       "\t<tr><td> 0</td><td>    74</td></tr>\n",
       "\t<tr><td> 1</td><td>  9076</td></tr>\n",
       "\t<tr><td>NA</td><td>493206</td></tr>\n",
       "</tbody>\n",
       "</table>\n"
      ],
      "text/latex": [
       "A tibble: 3 × 2\n",
       "\\begin{tabular}{ll}\n",
       " incident & n\\\\\n",
       " <dbl> & <int>\\\\\n",
       "\\hline\n",
       "\t  0 &     74\\\\\n",
       "\t  1 &   9076\\\\\n",
       "\t NA & 493206\\\\\n",
       "\\end{tabular}\n"
      ],
      "text/markdown": [
       "\n",
       "A tibble: 3 × 2\n",
       "\n",
       "| incident &lt;dbl&gt; | n &lt;int&gt; |\n",
       "|---|---|\n",
       "|  0 |     74 |\n",
       "|  1 |   9076 |\n",
       "| NA | 493206 |\n",
       "\n"
      ],
      "text/plain": [
       "  incident n     \n",
       "1  0           74\n",
       "2  1         9076\n",
       "3 NA       493206"
      ]
     },
     "metadata": {},
     "output_type": "display_data"
    }
   ],
   "source": [
    "# make incident (1) / prevalent (0) cases variable\n",
    "#a3 %\n",
    "a2 <-\n",
    "a2 %>% mutate(incident = case_when( (delirium == 1 & age > AAA) ~ 1,\n",
    "                                    (delirium == 1 & age < AAA) ~ 0,\n",
    "                                    (delirium == 1) ~ -999,\n",
    "                                    TRUE ~ NA))\n",
    "\n",
    "a2 %>% group_by(incident) %>% summarise(n = n())\n"
   ]
  },
  {
   "cell_type": "code",
   "execution_count": 22,
   "id": "535ff8ec",
   "metadata": {},
   "outputs": [
    {
     "data": {
      "text/html": [
       "<table class=\"dataframe\">\n",
       "<caption>A tibble: 6 × 52</caption>\n",
       "<thead>\n",
       "\t<tr><th scope=col>eid</th><th scope=col>YOB</th><th scope=col>MOB</th><th scope=col>approx_dob</th><th scope=col>DOA_0</th><th scope=col>DOA_1</th><th scope=col>DOA_2</th><th scope=col>DOA_3</th><th scope=col>AAA</th><th scope=col>approx_AAA</th><th scope=col>⋯</th><th scope=col>isdead</th><th scope=col>age_death</th><th scope=col>dementia_status</th><th scope=col>dementia_incident</th><th scope=col>delirium_source</th><th scope=col>delirium_date</th><th scope=col>delirium</th><th scope=col>censoring_date</th><th scope=col>age</th><th scope=col>incident</th></tr>\n",
       "\t<tr><th scope=col>&lt;int&gt;</th><th scope=col>&lt;int&gt;</th><th scope=col>&lt;int&gt;</th><th scope=col>&lt;IDate&gt;</th><th scope=col>&lt;IDate&gt;</th><th scope=col>&lt;IDate&gt;</th><th scope=col>&lt;IDate&gt;</th><th scope=col>&lt;IDate&gt;</th><th scope=col>&lt;int&gt;</th><th scope=col>&lt;dbl&gt;</th><th scope=col>⋯</th><th scope=col>&lt;dbl&gt;</th><th scope=col>&lt;dbl&gt;</th><th scope=col>&lt;dbl&gt;</th><th scope=col>&lt;dbl&gt;</th><th scope=col>&lt;int&gt;</th><th scope=col>&lt;IDate&gt;</th><th scope=col>&lt;dbl&gt;</th><th scope=col>&lt;IDate&gt;</th><th scope=col>&lt;dbl&gt;</th><th scope=col>&lt;dbl&gt;</th></tr>\n",
       "</thead>\n",
       "<tbody>\n",
       "\t<tr><td>1000015</td><td>1940</td><td>11</td><td>1940-11-15</td><td>2008-04-23</td><td>NA</td><td>NA</td><td>NA</td><td>67</td><td>67.44</td><td>⋯</td><td>0</td><td>NA</td><td>0</td><td>NA</td><td>NA</td><td>NA</td><td>0</td><td>2022-10-31</td><td>82.0</td><td>NA</td></tr>\n",
       "\t<tr><td>1000027</td><td>1946</td><td> 9</td><td>1946-09-15</td><td>2008-07-23</td><td>NA</td><td>NA</td><td>NA</td><td>61</td><td>61.85</td><td>⋯</td><td>0</td><td>NA</td><td>0</td><td>NA</td><td>NA</td><td>NA</td><td>0</td><td>2022-10-31</td><td>76.1</td><td>NA</td></tr>\n",
       "\t<tr><td>1000039</td><td>1953</td><td>10</td><td>1953-10-15</td><td>2008-12-06</td><td>NA</td><td>NA</td><td>NA</td><td>55</td><td>55.14</td><td>⋯</td><td>0</td><td>NA</td><td>0</td><td>NA</td><td>NA</td><td>NA</td><td>0</td><td>2022-10-31</td><td>69.0</td><td>NA</td></tr>\n",
       "\t<tr><td>1000040</td><td>1966</td><td> 3</td><td>1966-03-15</td><td>2008-09-02</td><td>2012-09-12</td><td>2015-04-22</td><td>2021-02-03</td><td>42</td><td>42.47</td><td>⋯</td><td>0</td><td>NA</td><td>0</td><td>NA</td><td>NA</td><td>NA</td><td>0</td><td>2022-10-31</td><td>56.6</td><td>NA</td></tr>\n",
       "\t<tr><td>1000053</td><td>1968</td><td> 2</td><td>1968-02-15</td><td>2009-02-28</td><td>NA</td><td>NA</td><td>NA</td><td>41</td><td>41.04</td><td>⋯</td><td>0</td><td>NA</td><td>0</td><td>NA</td><td>NA</td><td>NA</td><td>0</td><td>2022-10-31</td><td>54.7</td><td>NA</td></tr>\n",
       "\t<tr><td>1000064</td><td>1964</td><td> 3</td><td>1964-03-15</td><td>2010-09-10</td><td>NA</td><td>NA</td><td>NA</td><td>46</td><td>46.49</td><td>⋯</td><td>0</td><td>NA</td><td>0</td><td>NA</td><td>NA</td><td>NA</td><td>0</td><td>2022-10-31</td><td>58.6</td><td>NA</td></tr>\n",
       "</tbody>\n",
       "</table>\n"
      ],
      "text/latex": [
       "A tibble: 6 × 52\n",
       "\\begin{tabular}{lllllllllllllllllllll}\n",
       " eid & YOB & MOB & approx\\_dob & DOA\\_0 & DOA\\_1 & DOA\\_2 & DOA\\_3 & AAA & approx\\_AAA & ⋯ & isdead & age\\_death & dementia\\_status & dementia\\_incident & delirium\\_source & delirium\\_date & delirium & censoring\\_date & age & incident\\\\\n",
       " <int> & <int> & <int> & <IDate> & <IDate> & <IDate> & <IDate> & <IDate> & <int> & <dbl> & ⋯ & <dbl> & <dbl> & <dbl> & <dbl> & <int> & <IDate> & <dbl> & <IDate> & <dbl> & <dbl>\\\\\n",
       "\\hline\n",
       "\t 1000015 & 1940 & 11 & 1940-11-15 & 2008-04-23 & NA & NA & NA & 67 & 67.44 & ⋯ & 0 & NA & 0 & NA & NA & NA & 0 & 2022-10-31 & 82.0 & NA\\\\\n",
       "\t 1000027 & 1946 &  9 & 1946-09-15 & 2008-07-23 & NA & NA & NA & 61 & 61.85 & ⋯ & 0 & NA & 0 & NA & NA & NA & 0 & 2022-10-31 & 76.1 & NA\\\\\n",
       "\t 1000039 & 1953 & 10 & 1953-10-15 & 2008-12-06 & NA & NA & NA & 55 & 55.14 & ⋯ & 0 & NA & 0 & NA & NA & NA & 0 & 2022-10-31 & 69.0 & NA\\\\\n",
       "\t 1000040 & 1966 &  3 & 1966-03-15 & 2008-09-02 & 2012-09-12 & 2015-04-22 & 2021-02-03 & 42 & 42.47 & ⋯ & 0 & NA & 0 & NA & NA & NA & 0 & 2022-10-31 & 56.6 & NA\\\\\n",
       "\t 1000053 & 1968 &  2 & 1968-02-15 & 2009-02-28 & NA & NA & NA & 41 & 41.04 & ⋯ & 0 & NA & 0 & NA & NA & NA & 0 & 2022-10-31 & 54.7 & NA\\\\\n",
       "\t 1000064 & 1964 &  3 & 1964-03-15 & 2010-09-10 & NA & NA & NA & 46 & 46.49 & ⋯ & 0 & NA & 0 & NA & NA & NA & 0 & 2022-10-31 & 58.6 & NA\\\\\n",
       "\\end{tabular}\n"
      ],
      "text/markdown": [
       "\n",
       "A tibble: 6 × 52\n",
       "\n",
       "| eid &lt;int&gt; | YOB &lt;int&gt; | MOB &lt;int&gt; | approx_dob &lt;IDate&gt; | DOA_0 &lt;IDate&gt; | DOA_1 &lt;IDate&gt; | DOA_2 &lt;IDate&gt; | DOA_3 &lt;IDate&gt; | AAA &lt;int&gt; | approx_AAA &lt;dbl&gt; | ⋯ ⋯ | isdead &lt;dbl&gt; | age_death &lt;dbl&gt; | dementia_status &lt;dbl&gt; | dementia_incident &lt;dbl&gt; | delirium_source &lt;int&gt; | delirium_date &lt;IDate&gt; | delirium &lt;dbl&gt; | censoring_date &lt;IDate&gt; | age &lt;dbl&gt; | incident &lt;dbl&gt; |\n",
       "|---|---|---|---|---|---|---|---|---|---|---|---|---|---|---|---|---|---|---|---|---|\n",
       "| 1000015 | 1940 | 11 | 1940-11-15 | 2008-04-23 | NA | NA | NA | 67 | 67.44 | ⋯ | 0 | NA | 0 | NA | NA | NA | 0 | 2022-10-31 | 82.0 | NA |\n",
       "| 1000027 | 1946 |  9 | 1946-09-15 | 2008-07-23 | NA | NA | NA | 61 | 61.85 | ⋯ | 0 | NA | 0 | NA | NA | NA | 0 | 2022-10-31 | 76.1 | NA |\n",
       "| 1000039 | 1953 | 10 | 1953-10-15 | 2008-12-06 | NA | NA | NA | 55 | 55.14 | ⋯ | 0 | NA | 0 | NA | NA | NA | 0 | 2022-10-31 | 69.0 | NA |\n",
       "| 1000040 | 1966 |  3 | 1966-03-15 | 2008-09-02 | 2012-09-12 | 2015-04-22 | 2021-02-03 | 42 | 42.47 | ⋯ | 0 | NA | 0 | NA | NA | NA | 0 | 2022-10-31 | 56.6 | NA |\n",
       "| 1000053 | 1968 |  2 | 1968-02-15 | 2009-02-28 | NA | NA | NA | 41 | 41.04 | ⋯ | 0 | NA | 0 | NA | NA | NA | 0 | 2022-10-31 | 54.7 | NA |\n",
       "| 1000064 | 1964 |  3 | 1964-03-15 | 2010-09-10 | NA | NA | NA | 46 | 46.49 | ⋯ | 0 | NA | 0 | NA | NA | NA | 0 | 2022-10-31 | 58.6 | NA |\n",
       "\n"
      ],
      "text/plain": [
       "  eid     YOB  MOB approx_dob DOA_0      DOA_1      DOA_2      DOA_3      AAA approx_AAA ⋯ isdead age_death dementia_status dementia_incident delirium_source delirium_date delirium censoring_date\n",
       "1 1000015 1940 11  1940-11-15 2008-04-23 <NA>       <NA>       <NA>       67  67.44      ⋯ 0      NA        0               NA                NA              <NA>          0        2022-10-31    \n",
       "2 1000027 1946  9  1946-09-15 2008-07-23 <NA>       <NA>       <NA>       61  61.85      ⋯ 0      NA        0               NA                NA              <NA>          0        2022-10-31    \n",
       "3 1000039 1953 10  1953-10-15 2008-12-06 <NA>       <NA>       <NA>       55  55.14      ⋯ 0      NA        0               NA                NA              <NA>          0        2022-10-31    \n",
       "4 1000040 1966  3  1966-03-15 2008-09-02 2012-09-12 2015-04-22 2021-02-03 42  42.47      ⋯ 0      NA        0               NA                NA              <NA>          0        2022-10-31    \n",
       "5 1000053 1968  2  1968-02-15 2009-02-28 <NA>       <NA>       <NA>       41  41.04      ⋯ 0      NA        0               NA                NA              <NA>          0        2022-10-31    \n",
       "6 1000064 1964  3  1964-03-15 2010-09-10 <NA>       <NA>       <NA>       46  46.49      ⋯ 0      NA        0               NA                NA              <NA>          0        2022-10-31    \n",
       "  age  incident\n",
       "1 82.0 NA      \n",
       "2 76.1 NA      \n",
       "3 69.0 NA      \n",
       "4 56.6 NA      \n",
       "5 54.7 NA      \n",
       "6 58.6 NA      "
      ]
     },
     "metadata": {},
     "output_type": "display_data"
    },
    {
     "data": {
      "text/html": [
       "<style>\n",
       ".list-inline {list-style: none; margin:0; padding: 0}\n",
       ".list-inline>li {display: inline-block}\n",
       ".list-inline>li:not(:last-child)::after {content: \"\\00b7\"; padding: 0 .5ex}\n",
       "</style>\n",
       "<ol class=list-inline><li>502356</li><li>52</li></ol>\n"
      ],
      "text/latex": [
       "\\begin{enumerate*}\n",
       "\\item 502356\n",
       "\\item 52\n",
       "\\end{enumerate*}\n"
      ],
      "text/markdown": [
       "1. 502356\n",
       "2. 52\n",
       "\n",
       "\n"
      ],
      "text/plain": [
       "[1] 502356     52"
      ]
     },
     "metadata": {},
     "output_type": "display_data"
    }
   ],
   "source": [
    "head(a2)\n",
    "dim(a2)"
   ]
  },
  {
   "cell_type": "markdown",
   "id": "27c81cd3",
   "metadata": {},
   "source": [
    "**Summary characteristics table:**"
   ]
  },
  {
   "cell_type": "markdown",
   "id": "b7ac603a",
   "metadata": {},
   "source": [
    "For all participants:"
   ]
  },
  {
   "cell_type": "code",
   "execution_count": 23,
   "id": "718a8556",
   "metadata": {},
   "outputs": [
    {
     "data": {
      "text/plain": [
       "   Min. 1st Qu.  Median    Mean 3rd Qu.    Max. \n",
       "  51.00   63.70   71.30   70.26   76.80   88.60 "
      ]
     },
     "metadata": {},
     "output_type": "display_data"
    }
   ],
   "source": [
    "# age at last data freeze (2022): \n",
    "a2 %>% \n",
    "    filter(isdead != 1) %>% \n",
    "    mutate(age_at_cens = round(as.numeric(difftime(censoring_date, approx_dob, units=\"days\")) / 365.25, digits=1)) %>% \n",
    "    pull(age_at_cens) %>% summary"
   ]
  },
  {
   "cell_type": "code",
   "execution_count": 26,
   "id": "d90ad8c7",
   "metadata": {},
   "outputs": [
    {
     "name": "stderr",
     "output_type": "stream",
     "text": [
      "\u001b[1m\u001b[22m`stat_bin()` using `bins = 30`. Pick better value with `binwidth`.\n"
     ]
    },
    {
     "data": {
      "image/png": "[encoded data removed]",
      "text/plain": [
       "plot without title"
      ]
     },
     "metadata": {
      "image/png": {
       "height": 420,
       "width": 420
      }
     },
     "output_type": "display_data"
    }
   ],
   "source": [
    "# age at 1st reported delirium\n",
    "ggplot(data = a2[a2$delirium==1,], aes(age)) + \n",
    "geom_histogram(na.rm = T) + \n",
    "theme_bw() +\n",
    "theme(axis.line = element_line(colour = \"black\"),\n",
    "    panel.grid.major = element_blank(),\n",
    "    panel.grid.minor = element_blank(),\n",
    "    panel.border = element_blank(),\n",
    "    panel.background = element_blank()) +\n",
    "geom_vline(xintercept = c(70,75,80), color=\"red\", linetype=\"dotted\") + \n",
    "labs(title=\"Age at first reported delirium event (F05)\",\n",
    "     x =\"Age (years)\", \n",
    "     y = \"Count\") "
   ]
  },
  {
   "cell_type": "code",
   "execution_count": 27,
   "id": "2f281ec1",
   "metadata": {},
   "outputs": [
    {
     "name": "stderr",
     "output_type": "stream",
     "text": [
      "\u001b[1m\u001b[22m`stat_bin()` using `bins = 30`. Pick better value with `binwidth`.\n"
     ]
    },
    {
     "data": {
      "image/png": "[encoded data removed]",
      "text/plain": [
       "plot without title"
      ]
     },
     "metadata": {
      "image/png": {
       "height": 420,
       "width": 420
      }
     },
     "output_type": "display_data"
    }
   ],
   "source": [
    "# date at 1st reported delirium\n",
    "ggplot(data = a, aes(`130846-0.0`)) + \n",
    "geom_histogram(na.rm = T) + \n",
    "theme_bw() +\n",
    "theme(axis.line = element_line(colour = \"black\"),\n",
    "    panel.grid.major = element_blank(),\n",
    "    panel.grid.minor = element_blank(),\n",
    "    panel.border = element_blank(),\n",
    "    panel.background = element_blank()) +\n",
    "labs(title=\"Date at first reported delirium event (F05)\",\n",
    "     x =\"Date (year)\", \n",
    "     y = \"Count\") +\n",
    "xlim(as.IDate(c(\"2000-01-01\", \"2022-11-28\")))\n"
   ]
  },
  {
   "cell_type": "code",
   "execution_count": 28,
   "id": "dfff0c26",
   "metadata": {},
   "outputs": [
    {
     "data": {
      "text/html": [
       "<table class=\"dataframe\">\n",
       "<caption>A tibble: 2 × 3</caption>\n",
       "<thead>\n",
       "\t<tr><th scope=col>isdead</th><th scope=col>n</th><th scope=col>freq</th></tr>\n",
       "\t<tr><th scope=col>&lt;dbl&gt;</th><th scope=col>&lt;int&gt;</th><th scope=col>&lt;dbl&gt;</th></tr>\n",
       "</thead>\n",
       "<tbody>\n",
       "\t<tr><td>0</td><td>457856</td><td>0.9114174</td></tr>\n",
       "\t<tr><td>1</td><td> 44500</td><td>0.0885826</td></tr>\n",
       "</tbody>\n",
       "</table>\n"
      ],
      "text/latex": [
       "A tibble: 2 × 3\n",
       "\\begin{tabular}{lll}\n",
       " isdead & n & freq\\\\\n",
       " <dbl> & <int> & <dbl>\\\\\n",
       "\\hline\n",
       "\t 0 & 457856 & 0.9114174\\\\\n",
       "\t 1 &  44500 & 0.0885826\\\\\n",
       "\\end{tabular}\n"
      ],
      "text/markdown": [
       "\n",
       "A tibble: 2 × 3\n",
       "\n",
       "| isdead &lt;dbl&gt; | n &lt;int&gt; | freq &lt;dbl&gt; |\n",
       "|---|---|---|\n",
       "| 0 | 457856 | 0.9114174 |\n",
       "| 1 |  44500 | 0.0885826 |\n",
       "\n"
      ],
      "text/plain": [
       "  isdead n      freq     \n",
       "1 0      457856 0.9114174\n",
       "2 1       44500 0.0885826"
      ]
     },
     "metadata": {},
     "output_type": "display_data"
    },
    {
     "data": {
      "text/html": [
       "<table class=\"dataframe\">\n",
       "<caption>A tibble: 2 × 3</caption>\n",
       "<thead>\n",
       "\t<tr><th scope=col>sex</th><th scope=col>n</th><th scope=col>freq</th></tr>\n",
       "\t<tr><th scope=col>&lt;int&gt;</th><th scope=col>&lt;int&gt;</th><th scope=col>&lt;dbl&gt;</th></tr>\n",
       "</thead>\n",
       "<tbody>\n",
       "\t<tr><td>0</td><td>273294</td><td>0.5440246</td></tr>\n",
       "\t<tr><td>1</td><td>229062</td><td>0.4559754</td></tr>\n",
       "</tbody>\n",
       "</table>\n"
      ],
      "text/latex": [
       "A tibble: 2 × 3\n",
       "\\begin{tabular}{lll}\n",
       " sex & n & freq\\\\\n",
       " <int> & <int> & <dbl>\\\\\n",
       "\\hline\n",
       "\t 0 & 273294 & 0.5440246\\\\\n",
       "\t 1 & 229062 & 0.4559754\\\\\n",
       "\\end{tabular}\n"
      ],
      "text/markdown": [
       "\n",
       "A tibble: 2 × 3\n",
       "\n",
       "| sex &lt;int&gt; | n &lt;int&gt; | freq &lt;dbl&gt; |\n",
       "|---|---|---|\n",
       "| 0 | 273294 | 0.5440246 |\n",
       "| 1 | 229062 | 0.4559754 |\n",
       "\n"
      ],
      "text/plain": [
       "  sex n      freq     \n",
       "1 0   273294 0.5440246\n",
       "2 1   229062 0.4559754"
      ]
     },
     "metadata": {},
     "output_type": "display_data"
    },
    {
     "data": {
      "text/html": [
       "<table class=\"dataframe\">\n",
       "<caption>A tibble: 2 × 3</caption>\n",
       "<thead>\n",
       "\t<tr><th scope=col>sex</th><th scope=col>n</th><th scope=col>freq</th></tr>\n",
       "\t<tr><th scope=col>&lt;int&gt;</th><th scope=col>&lt;int&gt;</th><th scope=col>&lt;dbl&gt;</th></tr>\n",
       "</thead>\n",
       "<tbody>\n",
       "\t<tr><td>0</td><td>273294</td><td>0.5440246</td></tr>\n",
       "\t<tr><td>1</td><td>229062</td><td>0.4559754</td></tr>\n",
       "</tbody>\n",
       "</table>\n"
      ],
      "text/latex": [
       "A tibble: 2 × 3\n",
       "\\begin{tabular}{lll}\n",
       " sex & n & freq\\\\\n",
       " <int> & <int> & <dbl>\\\\\n",
       "\\hline\n",
       "\t 0 & 273294 & 0.5440246\\\\\n",
       "\t 1 & 229062 & 0.4559754\\\\\n",
       "\\end{tabular}\n"
      ],
      "text/markdown": [
       "\n",
       "A tibble: 2 × 3\n",
       "\n",
       "| sex &lt;int&gt; | n &lt;int&gt; | freq &lt;dbl&gt; |\n",
       "|---|---|---|\n",
       "| 0 | 273294 | 0.5440246 |\n",
       "| 1 | 229062 | 0.4559754 |\n",
       "\n"
      ],
      "text/plain": [
       "  sex n      freq     \n",
       "1 0   273294 0.5440246\n",
       "2 1   229062 0.4559754"
      ]
     },
     "metadata": {},
     "output_type": "display_data"
    },
    {
     "data": {
      "text/html": [
       "<table class=\"dataframe\">\n",
       "<caption>A tibble: 2 × 3</caption>\n",
       "<thead>\n",
       "\t<tr><th scope=col>g_ethnicity</th><th scope=col>n</th><th scope=col>freq</th></tr>\n",
       "\t<tr><th scope=col>&lt;int&gt;</th><th scope=col>&lt;int&gt;</th><th scope=col>&lt;dbl&gt;</th></tr>\n",
       "</thead>\n",
       "<tbody>\n",
       "\t<tr><td> 1</td><td>409511</td><td>0.8151809</td></tr>\n",
       "\t<tr><td>NA</td><td> 92845</td><td>0.1848191</td></tr>\n",
       "</tbody>\n",
       "</table>\n"
      ],
      "text/latex": [
       "A tibble: 2 × 3\n",
       "\\begin{tabular}{lll}\n",
       " g\\_ethnicity & n & freq\\\\\n",
       " <int> & <int> & <dbl>\\\\\n",
       "\\hline\n",
       "\t  1 & 409511 & 0.8151809\\\\\n",
       "\t NA &  92845 & 0.1848191\\\\\n",
       "\\end{tabular}\n"
      ],
      "text/markdown": [
       "\n",
       "A tibble: 2 × 3\n",
       "\n",
       "| g_ethnicity &lt;int&gt; | n &lt;int&gt; | freq &lt;dbl&gt; |\n",
       "|---|---|---|\n",
       "|  1 | 409511 | 0.8151809 |\n",
       "| NA |  92845 | 0.1848191 |\n",
       "\n"
      ],
      "text/plain": [
       "  g_ethnicity n      freq     \n",
       "1  1          409511 0.8151809\n",
       "2 NA           92845 0.1848191"
      ]
     },
     "metadata": {},
     "output_type": "display_data"
    },
    {
     "data": {
      "text/html": [
       "<table class=\"dataframe\">\n",
       "<caption>A tibble: 2 × 3</caption>\n",
       "<thead>\n",
       "\t<tr><th scope=col>dementia_status</th><th scope=col>n</th><th scope=col>freq</th></tr>\n",
       "\t<tr><th scope=col>&lt;dbl&gt;</th><th scope=col>&lt;int&gt;</th><th scope=col>&lt;dbl&gt;</th></tr>\n",
       "</thead>\n",
       "<tbody>\n",
       "\t<tr><td>0</td><td>492309</td><td>0.98000024</td></tr>\n",
       "\t<tr><td>1</td><td> 10047</td><td>0.01999976</td></tr>\n",
       "</tbody>\n",
       "</table>\n"
      ],
      "text/latex": [
       "A tibble: 2 × 3\n",
       "\\begin{tabular}{lll}\n",
       " dementia\\_status & n & freq\\\\\n",
       " <dbl> & <int> & <dbl>\\\\\n",
       "\\hline\n",
       "\t 0 & 492309 & 0.98000024\\\\\n",
       "\t 1 &  10047 & 0.01999976\\\\\n",
       "\\end{tabular}\n"
      ],
      "text/markdown": [
       "\n",
       "A tibble: 2 × 3\n",
       "\n",
       "| dementia_status &lt;dbl&gt; | n &lt;int&gt; | freq &lt;dbl&gt; |\n",
       "|---|---|---|\n",
       "| 0 | 492309 | 0.98000024 |\n",
       "| 1 |  10047 | 0.01999976 |\n",
       "\n"
      ],
      "text/plain": [
       "  dementia_status n      freq      \n",
       "1 0               492309 0.98000024\n",
       "2 1                10047 0.01999976"
      ]
     },
     "metadata": {},
     "output_type": "display_data"
    },
    {
     "data": {
      "text/html": [
       "<table class=\"dataframe\">\n",
       "<caption>A tibble: 2 × 3</caption>\n",
       "<thead>\n",
       "\t<tr><th scope=col>delirium</th><th scope=col>n</th><th scope=col>freq</th></tr>\n",
       "\t<tr><th scope=col>&lt;dbl&gt;</th><th scope=col>&lt;int&gt;</th><th scope=col>&lt;dbl&gt;</th></tr>\n",
       "</thead>\n",
       "<tbody>\n",
       "\t<tr><td>0</td><td>493206</td><td>0.98178583</td></tr>\n",
       "\t<tr><td>1</td><td>  9150</td><td>0.01821417</td></tr>\n",
       "</tbody>\n",
       "</table>\n"
      ],
      "text/latex": [
       "A tibble: 2 × 3\n",
       "\\begin{tabular}{lll}\n",
       " delirium & n & freq\\\\\n",
       " <dbl> & <int> & <dbl>\\\\\n",
       "\\hline\n",
       "\t 0 & 493206 & 0.98178583\\\\\n",
       "\t 1 &   9150 & 0.01821417\\\\\n",
       "\\end{tabular}\n"
      ],
      "text/markdown": [
       "\n",
       "A tibble: 2 × 3\n",
       "\n",
       "| delirium &lt;dbl&gt; | n &lt;int&gt; | freq &lt;dbl&gt; |\n",
       "|---|---|---|\n",
       "| 0 | 493206 | 0.98178583 |\n",
       "| 1 |   9150 | 0.01821417 |\n",
       "\n"
      ],
      "text/plain": [
       "  delirium n      freq      \n",
       "1 0        493206 0.98178583\n",
       "2 1          9150 0.01821417"
      ]
     },
     "metadata": {},
     "output_type": "display_data"
    }
   ],
   "source": [
    "#sex: 0=female; 1=male\n",
    "a2 %>% group_by(isdead) %>% summarise(n = n()) %>% mutate(freq = n/sum(n))\n",
    "a2 %>% group_by(sex) %>% summarise(n = n()) %>% mutate(freq = n/sum(n))\n",
    "a2 %>% group_by(sex) %>% summarise(n = n()) %>% mutate(freq = n/sum(n))\n",
    "a2 %>% group_by(g_ethnicity) %>% summarise(n = n()) %>% mutate(freq = n/sum(n))\n",
    "a2 %>% group_by(dementia_status) %>% summarise(n = n()) %>% mutate(freq = n/sum(n))\n",
    "a2 %>% group_by(delirium) %>% summarise(n = n()) %>% mutate(freq = n/sum(n))\n"
   ]
  },
  {
   "cell_type": "markdown",
   "id": "ed7683a6",
   "metadata": {},
   "source": [
    "Mortality after delirium:"
   ]
  },
  {
   "cell_type": "code",
   "execution_count": 29,
   "id": "f1791241",
   "metadata": {},
   "outputs": [],
   "source": [
    "# survival (in days) after 1st delrium\n",
    "del2death_days <-\n",
    "    a2 %>% filter(delirium==1 & isdead==1) %>% \n",
    "    mutate(del2death_days = (age_death - age)*365.25) %>% select(age,age_death,del2death_days) %>% \n",
    "    pull(del2death_days) "
   ]
  },
  {
   "cell_type": "code",
   "execution_count": null,
   "id": "23a70bac",
   "metadata": {},
   "outputs": [],
   "source": []
  },
  {
   "cell_type": "code",
   "execution_count": null,
   "id": "97f3ec30",
   "metadata": {},
   "outputs": [],
   "source": []
  },
  {
   "cell_type": "markdown",
   "id": "d3670498",
   "metadata": {},
   "source": [
    "By delirium status:"
   ]
  },
  {
   "cell_type": "code",
   "execution_count": 63,
   "id": "843bc02f",
   "metadata": {},
   "outputs": [
    {
     "name": "stderr",
     "output_type": "stream",
     "text": [
      "\u001b[1m\u001b[22m`summarise()` has grouped output by 'delirium'. You can override using the\n",
      "`.groups` argument.\n"
     ]
    },
    {
     "data": {
      "text/html": [
       "<table class=\"dataframe\">\n",
       "<caption>A grouped_df: 5 × 4</caption>\n",
       "<thead>\n",
       "\t<tr><th scope=col>delirium</th><th scope=col>dementia_incident</th><th scope=col>n</th><th scope=col>freq</th></tr>\n",
       "\t<tr><th scope=col>&lt;dbl&gt;</th><th scope=col>&lt;dbl&gt;</th><th scope=col>&lt;int&gt;</th><th scope=col>&lt;dbl&gt;</th></tr>\n",
       "</thead>\n",
       "<tbody>\n",
       "\t<tr><td>0</td><td>NA</td><td>493206</td><td>1.00000000</td></tr>\n",
       "\t<tr><td>1</td><td>-1</td><td>  1368</td><td>0.14950820</td></tr>\n",
       "\t<tr><td>1</td><td> 0</td><td>   903</td><td>0.09868852</td></tr>\n",
       "\t<tr><td>1</td><td> 1</td><td>   972</td><td>0.10622951</td></tr>\n",
       "\t<tr><td>1</td><td>NA</td><td>  5907</td><td>0.64557377</td></tr>\n",
       "</tbody>\n",
       "</table>\n"
      ],
      "text/latex": [
       "A grouped\\_df: 5 × 4\n",
       "\\begin{tabular}{llll}\n",
       " delirium & dementia\\_incident & n & freq\\\\\n",
       " <dbl> & <dbl> & <int> & <dbl>\\\\\n",
       "\\hline\n",
       "\t 0 & NA & 493206 & 1.00000000\\\\\n",
       "\t 1 & -1 &   1368 & 0.14950820\\\\\n",
       "\t 1 &  0 &    903 & 0.09868852\\\\\n",
       "\t 1 &  1 &    972 & 0.10622951\\\\\n",
       "\t 1 & NA &   5907 & 0.64557377\\\\\n",
       "\\end{tabular}\n"
      ],
      "text/markdown": [
       "\n",
       "A grouped_df: 5 × 4\n",
       "\n",
       "| delirium &lt;dbl&gt; | dementia_incident &lt;dbl&gt; | n &lt;int&gt; | freq &lt;dbl&gt; |\n",
       "|---|---|---|---|\n",
       "| 0 | NA | 493206 | 1.00000000 |\n",
       "| 1 | -1 |   1368 | 0.14950820 |\n",
       "| 1 |  0 |    903 | 0.09868852 |\n",
       "| 1 |  1 |    972 | 0.10622951 |\n",
       "| 1 | NA |   5907 | 0.64557377 |\n",
       "\n"
      ],
      "text/plain": [
       "  delirium dementia_incident n      freq      \n",
       "1 0        NA                493206 1.00000000\n",
       "2 1        -1                  1368 0.14950820\n",
       "3 1         0                   903 0.09868852\n",
       "4 1         1                   972 0.10622951\n",
       "5 1        NA                  5907 0.64557377"
      ]
     },
     "metadata": {},
     "output_type": "display_data"
    },
    {
     "name": "stderr",
     "output_type": "stream",
     "text": [
      "\u001b[1m\u001b[22m`summarise()` has grouped output by 'delirium'. You can override using the\n",
      "`.groups` argument.\n"
     ]
    },
    {
     "data": {
      "text/html": [
       "<table class=\"dataframe\">\n",
       "<caption>A grouped_df: 4 × 4</caption>\n",
       "<thead>\n",
       "\t<tr><th scope=col>delirium</th><th scope=col>dementia_status</th><th scope=col>n</th><th scope=col>freq</th></tr>\n",
       "\t<tr><th scope=col>&lt;dbl&gt;</th><th scope=col>&lt;dbl&gt;</th><th scope=col>&lt;int&gt;</th><th scope=col>&lt;dbl&gt;</th></tr>\n",
       "</thead>\n",
       "<tbody>\n",
       "\t<tr><td>0</td><td>0</td><td>486402</td><td>0.98620455</td></tr>\n",
       "\t<tr><td>0</td><td>1</td><td>  6804</td><td>0.01379545</td></tr>\n",
       "\t<tr><td>1</td><td>0</td><td>  5907</td><td>0.64557377</td></tr>\n",
       "\t<tr><td>1</td><td>1</td><td>  3243</td><td>0.35442623</td></tr>\n",
       "</tbody>\n",
       "</table>\n"
      ],
      "text/latex": [
       "A grouped\\_df: 4 × 4\n",
       "\\begin{tabular}{llll}\n",
       " delirium & dementia\\_status & n & freq\\\\\n",
       " <dbl> & <dbl> & <int> & <dbl>\\\\\n",
       "\\hline\n",
       "\t 0 & 0 & 486402 & 0.98620455\\\\\n",
       "\t 0 & 1 &   6804 & 0.01379545\\\\\n",
       "\t 1 & 0 &   5907 & 0.64557377\\\\\n",
       "\t 1 & 1 &   3243 & 0.35442623\\\\\n",
       "\\end{tabular}\n"
      ],
      "text/markdown": [
       "\n",
       "A grouped_df: 4 × 4\n",
       "\n",
       "| delirium &lt;dbl&gt; | dementia_status &lt;dbl&gt; | n &lt;int&gt; | freq &lt;dbl&gt; |\n",
       "|---|---|---|---|\n",
       "| 0 | 0 | 486402 | 0.98620455 |\n",
       "| 0 | 1 |   6804 | 0.01379545 |\n",
       "| 1 | 0 |   5907 | 0.64557377 |\n",
       "| 1 | 1 |   3243 | 0.35442623 |\n",
       "\n"
      ],
      "text/plain": [
       "  delirium dementia_status n      freq      \n",
       "1 0        0               486402 0.98620455\n",
       "2 0        1                 6804 0.01379545\n",
       "3 1        0                 5907 0.64557377\n",
       "4 1        1                 3243 0.35442623"
      ]
     },
     "metadata": {},
     "output_type": "display_data"
    },
    {
     "name": "stderr",
     "output_type": "stream",
     "text": [
      "\u001b[1m\u001b[22m`summarise()` has grouped output by 'delirium'. You can override using the\n",
      "`.groups` argument.\n"
     ]
    },
    {
     "data": {
      "text/html": [
       "<table class=\"dataframe\">\n",
       "<caption>A grouped_df: 4 × 4</caption>\n",
       "<thead>\n",
       "\t<tr><th scope=col>delirium</th><th scope=col>g_ethnicity</th><th scope=col>n</th><th scope=col>freq</th></tr>\n",
       "\t<tr><th scope=col>&lt;dbl&gt;</th><th scope=col>&lt;int&gt;</th><th scope=col>&lt;int&gt;</th><th scope=col>&lt;dbl&gt;</th></tr>\n",
       "</thead>\n",
       "<tbody>\n",
       "\t<tr><td>0</td><td> 1</td><td>401940</td><td>0.8149536</td></tr>\n",
       "\t<tr><td>0</td><td>NA</td><td> 91266</td><td>0.1850464</td></tr>\n",
       "\t<tr><td>1</td><td> 1</td><td>  7571</td><td>0.8274317</td></tr>\n",
       "\t<tr><td>1</td><td>NA</td><td>  1579</td><td>0.1725683</td></tr>\n",
       "</tbody>\n",
       "</table>\n"
      ],
      "text/latex": [
       "A grouped\\_df: 4 × 4\n",
       "\\begin{tabular}{llll}\n",
       " delirium & g\\_ethnicity & n & freq\\\\\n",
       " <dbl> & <int> & <int> & <dbl>\\\\\n",
       "\\hline\n",
       "\t 0 &  1 & 401940 & 0.8149536\\\\\n",
       "\t 0 & NA &  91266 & 0.1850464\\\\\n",
       "\t 1 &  1 &   7571 & 0.8274317\\\\\n",
       "\t 1 & NA &   1579 & 0.1725683\\\\\n",
       "\\end{tabular}\n"
      ],
      "text/markdown": [
       "\n",
       "A grouped_df: 4 × 4\n",
       "\n",
       "| delirium &lt;dbl&gt; | g_ethnicity &lt;int&gt; | n &lt;int&gt; | freq &lt;dbl&gt; |\n",
       "|---|---|---|---|\n",
       "| 0 |  1 | 401940 | 0.8149536 |\n",
       "| 0 | NA |  91266 | 0.1850464 |\n",
       "| 1 |  1 |   7571 | 0.8274317 |\n",
       "| 1 | NA |   1579 | 0.1725683 |\n",
       "\n"
      ],
      "text/plain": [
       "  delirium g_ethnicity n      freq     \n",
       "1 0         1          401940 0.8149536\n",
       "2 0        NA           91266 0.1850464\n",
       "3 1         1            7571 0.8274317\n",
       "4 1        NA            1579 0.1725683"
      ]
     },
     "metadata": {},
     "output_type": "display_data"
    },
    {
     "name": "stderr",
     "output_type": "stream",
     "text": [
      "\u001b[1m\u001b[22m`summarise()` has grouped output by 'delirium'. You can override using the\n",
      "`.groups` argument.\n"
     ]
    },
    {
     "data": {
      "text/html": [
       "<table class=\"dataframe\">\n",
       "<caption>A grouped_df: 4 × 4</caption>\n",
       "<thead>\n",
       "\t<tr><th scope=col>delirium</th><th scope=col>isdead</th><th scope=col>n</th><th scope=col>freq</th></tr>\n",
       "\t<tr><th scope=col>&lt;dbl&gt;</th><th scope=col>&lt;dbl&gt;</th><th scope=col>&lt;int&gt;</th><th scope=col>&lt;dbl&gt;</th></tr>\n",
       "</thead>\n",
       "<tbody>\n",
       "\t<tr><td>0</td><td>0</td><td>453226</td><td>0.91893854</td></tr>\n",
       "\t<tr><td>0</td><td>1</td><td> 39980</td><td>0.08106146</td></tr>\n",
       "\t<tr><td>1</td><td>0</td><td>  4630</td><td>0.50601093</td></tr>\n",
       "\t<tr><td>1</td><td>1</td><td>  4520</td><td>0.49398907</td></tr>\n",
       "</tbody>\n",
       "</table>\n"
      ],
      "text/latex": [
       "A grouped\\_df: 4 × 4\n",
       "\\begin{tabular}{llll}\n",
       " delirium & isdead & n & freq\\\\\n",
       " <dbl> & <dbl> & <int> & <dbl>\\\\\n",
       "\\hline\n",
       "\t 0 & 0 & 453226 & 0.91893854\\\\\n",
       "\t 0 & 1 &  39980 & 0.08106146\\\\\n",
       "\t 1 & 0 &   4630 & 0.50601093\\\\\n",
       "\t 1 & 1 &   4520 & 0.49398907\\\\\n",
       "\\end{tabular}\n"
      ],
      "text/markdown": [
       "\n",
       "A grouped_df: 4 × 4\n",
       "\n",
       "| delirium &lt;dbl&gt; | isdead &lt;dbl&gt; | n &lt;int&gt; | freq &lt;dbl&gt; |\n",
       "|---|---|---|---|\n",
       "| 0 | 0 | 453226 | 0.91893854 |\n",
       "| 0 | 1 |  39980 | 0.08106146 |\n",
       "| 1 | 0 |   4630 | 0.50601093 |\n",
       "| 1 | 1 |   4520 | 0.49398907 |\n",
       "\n"
      ],
      "text/plain": [
       "  delirium isdead n      freq      \n",
       "1 0        0      453226 0.91893854\n",
       "2 0        1       39980 0.08106146\n",
       "3 1        0        4630 0.50601093\n",
       "4 1        1        4520 0.49398907"
      ]
     },
     "metadata": {},
     "output_type": "display_data"
    },
    {
     "data": {
      "text/html": [
       "<table class=\"dataframe\">\n",
       "<caption>A tibble: 2 × 3</caption>\n",
       "<thead>\n",
       "\t<tr><th scope=col>delirium</th><th scope=col>mean</th><th scope=col>sd</th></tr>\n",
       "\t<tr><th scope=col>&lt;dbl&gt;</th><th scope=col>&lt;dbl&gt;</th><th scope=col>&lt;dbl&gt;</th></tr>\n",
       "</thead>\n",
       "<tbody>\n",
       "\t<tr><td>0</td><td>56.40253</td><td>8.08190</td></tr>\n",
       "\t<tr><td>1</td><td>63.39989</td><td>5.37473</td></tr>\n",
       "</tbody>\n",
       "</table>\n"
      ],
      "text/latex": [
       "A tibble: 2 × 3\n",
       "\\begin{tabular}{lll}\n",
       " delirium & mean & sd\\\\\n",
       " <dbl> & <dbl> & <dbl>\\\\\n",
       "\\hline\n",
       "\t 0 & 56.40253 & 8.08190\\\\\n",
       "\t 1 & 63.39989 & 5.37473\\\\\n",
       "\\end{tabular}\n"
      ],
      "text/markdown": [
       "\n",
       "A tibble: 2 × 3\n",
       "\n",
       "| delirium &lt;dbl&gt; | mean &lt;dbl&gt; | sd &lt;dbl&gt; |\n",
       "|---|---|---|\n",
       "| 0 | 56.40253 | 8.08190 |\n",
       "| 1 | 63.39989 | 5.37473 |\n",
       "\n"
      ],
      "text/plain": [
       "  delirium mean     sd     \n",
       "1 0        56.40253 8.08190\n",
       "2 1        63.39989 5.37473"
      ]
     },
     "metadata": {},
     "output_type": "display_data"
    },
    {
     "name": "stderr",
     "output_type": "stream",
     "text": [
      "\u001b[1m\u001b[22m`summarise()` has grouped output by 'delirium'. You can override using the\n",
      "`.groups` argument.\n"
     ]
    },
    {
     "data": {
      "text/html": [
       "<table class=\"dataframe\">\n",
       "<caption>A grouped_df: 4 × 4</caption>\n",
       "<thead>\n",
       "\t<tr><th scope=col>delirium</th><th scope=col>sex</th><th scope=col>n</th><th scope=col>freq</th></tr>\n",
       "\t<tr><th scope=col>&lt;dbl&gt;</th><th scope=col>&lt;int&gt;</th><th scope=col>&lt;int&gt;</th><th scope=col>&lt;dbl&gt;</th></tr>\n",
       "</thead>\n",
       "<tbody>\n",
       "\t<tr><td>0</td><td>0</td><td>269349</td><td>0.5461187</td></tr>\n",
       "\t<tr><td>0</td><td>1</td><td>223857</td><td>0.4538813</td></tr>\n",
       "\t<tr><td>1</td><td>0</td><td>  3945</td><td>0.4311475</td></tr>\n",
       "\t<tr><td>1</td><td>1</td><td>  5205</td><td>0.5688525</td></tr>\n",
       "</tbody>\n",
       "</table>\n"
      ],
      "text/latex": [
       "A grouped\\_df: 4 × 4\n",
       "\\begin{tabular}{llll}\n",
       " delirium & sex & n & freq\\\\\n",
       " <dbl> & <int> & <int> & <dbl>\\\\\n",
       "\\hline\n",
       "\t 0 & 0 & 269349 & 0.5461187\\\\\n",
       "\t 0 & 1 & 223857 & 0.4538813\\\\\n",
       "\t 1 & 0 &   3945 & 0.4311475\\\\\n",
       "\t 1 & 1 &   5205 & 0.5688525\\\\\n",
       "\\end{tabular}\n"
      ],
      "text/markdown": [
       "\n",
       "A grouped_df: 4 × 4\n",
       "\n",
       "| delirium &lt;dbl&gt; | sex &lt;int&gt; | n &lt;int&gt; | freq &lt;dbl&gt; |\n",
       "|---|---|---|---|\n",
       "| 0 | 0 | 269349 | 0.5461187 |\n",
       "| 0 | 1 | 223857 | 0.4538813 |\n",
       "| 1 | 0 |   3945 | 0.4311475 |\n",
       "| 1 | 1 |   5205 | 0.5688525 |\n",
       "\n"
      ],
      "text/plain": [
       "  delirium sex n      freq     \n",
       "1 0        0   269349 0.5461187\n",
       "2 0        1   223857 0.4538813\n",
       "3 1        0     3945 0.4311475\n",
       "4 1        1     5205 0.5688525"
      ]
     },
     "metadata": {},
     "output_type": "display_data"
    }
   ],
   "source": [
    "#sex: 0=female; 1=male\n",
    "a2 %>% group_by(delirium, dementia_incident) %>% summarise(n=n()) %>% mutate(freq = n/sum(n))\n",
    "a2 %>% group_by(delirium, dementia_status) %>% summarise(n=n()) %>% mutate(freq = n/sum(n))\n",
    "a2 %>% group_by(delirium, g_ethnicity) %>% summarise(n=n()) %>% mutate(freq = n/sum(n))\n",
    "a2 %>% group_by(delirium, isdead) %>% summarise(n=n()) %>% mutate(freq = n/sum(n))\n",
    "a2 %>% group_by(delirium) %>% summarise (mean = mean(AAA), sd = sd(AAA))\n",
    "a2 %>% group_by(delirium,sex) %>% summarise (n=n()) %>% mutate(freq = n/sum(n))\n"
   ]
  },
  {
   "cell_type": "code",
   "execution_count": 60,
   "id": "98cf2d77",
   "metadata": {},
   "outputs": [
    {
     "data": {
      "text/html": [
       "<table class=\"dataframe\">\n",
       "<caption>A tibble: 2 × 2</caption>\n",
       "<thead>\n",
       "\t<tr><th scope=col>hasICD10</th><th scope=col>n</th></tr>\n",
       "\t<tr><th scope=col>&lt;dbl&gt;</th><th scope=col>&lt;int&gt;</th></tr>\n",
       "</thead>\n",
       "<tbody>\n",
       "\t<tr><td>0</td><td> 55361</td></tr>\n",
       "\t<tr><td>1</td><td>446995</td></tr>\n",
       "</tbody>\n",
       "</table>\n"
      ],
      "text/latex": [
       "A tibble: 2 × 2\n",
       "\\begin{tabular}{ll}\n",
       " hasICD10 & n\\\\\n",
       " <dbl> & <int>\\\\\n",
       "\\hline\n",
       "\t 0 &  55361\\\\\n",
       "\t 1 & 446995\\\\\n",
       "\\end{tabular}\n"
      ],
      "text/markdown": [
       "\n",
       "A tibble: 2 × 2\n",
       "\n",
       "| hasICD10 &lt;dbl&gt; | n &lt;int&gt; |\n",
       "|---|---|\n",
       "| 0 |  55361 |\n",
       "| 1 | 446995 |\n",
       "\n"
      ],
      "text/plain": [
       "  hasICD10 n     \n",
       "1 0         55361\n",
       "2 1        446995"
      ]
     },
     "metadata": {},
     "output_type": "display_data"
    }
   ],
   "source": [
    "a2 %>% group_by(hasICD10) %>% summarise(n=n())"
   ]
  },
  {
   "cell_type": "markdown",
   "id": "98b9457b",
   "metadata": {},
   "source": [
    "**Filter data based on:**\n",
    "- no sex missmatch \n",
    "- white british ancestry \n",
    "- no heterozygosiry or missingness outlier\n",
    "- no \\>\\=10 3rd degree relatives in dataset\n",
    "- no sex chromosome aneuploidy\n"
   ]
  },
  {
   "cell_type": "code",
   "execution_count": 29,
   "id": "a0b4be7a",
   "metadata": {},
   "outputs": [
    {
     "name": "stdout",
     "output_type": "stream",
     "text": [
      "[1] \"n=407909 white british individuals remaining\"\n",
      "\n",
      "     0      1 \n",
      "400386   7523 \n"
     ]
    }
   ],
   "source": [
    "a3 <-\n",
    "a2 %>% \n",
    "    filter(sex == g_sex, \n",
    "           is.na(het_miss_outlier), \n",
    "           g_ethnicity == 1,\n",
    "           g_kinship != 10,\n",
    "           is.na(sex_chr_aneuploidy)\n",
    "           )\n",
    "print(paste0(\"n=\", dim(a3)[1], \" white british individuals remaining\"))\n",
    "print(table(a3$delirium)) # 7523 delirium cases"
   ]
  },
  {
   "cell_type": "code",
   "execution_count": 30,
   "id": "a3da5383",
   "metadata": {},
   "outputs": [
    {
     "data": {
      "text/html": [
       "0.026483399831619"
      ],
      "text/latex": [
       "0.026483399831619"
      ],
      "text/markdown": [
       "0.026483399831619"
      ],
      "text/plain": [
       "[1] 0.0264834"
      ]
     },
     "metadata": {},
     "output_type": "display_data"
    },
    {
     "data": {
      "text/html": [
       "1447"
      ],
      "text/latex": [
       "1447"
      ],
      "text/markdown": [
       "1447"
      ],
      "text/plain": [
       "[1] 1447"
      ]
     },
     "metadata": {},
     "output_type": "display_data"
    },
    {
     "data": {
      "text/html": [
       "54638"
      ],
      "text/latex": [
       "54638"
      ],
      "text/markdown": [
       "54638"
      ],
      "text/plain": [
       "[1] 54638"
      ]
     },
     "metadata": {},
     "output_type": "display_data"
    }
   ],
   "source": [
    "x1 <- a2 %>% filter(age > 80 & delirium ==1) %>% nrow\n",
    "x2 <- a2 %>% filter(age > 80 ) %>% nrow\n",
    "x1 / x2\n",
    "x1\n",
    "x2"
   ]
  },
  {
   "cell_type": "code",
   "execution_count": 58,
   "id": "a0fe2b31",
   "metadata": {},
   "outputs": [],
   "source": [
    "#ggplot(data = a, aes(`130846-0.0`)) + geom_histogram(na.rm = T)\n",
    "## max date across multiple columns!\n",
    "#a %>% summarise(across(starts_with(\"41262\"), ~ max(., na.rm = TRUE)))"
   ]
  },
  {
   "cell_type": "code",
   "execution_count": 31,
   "id": "afd9788e",
   "metadata": {},
   "outputs": [
    {
     "data": {
      "text/html": [
       "<style>\n",
       ".list-inline {list-style: none; margin:0; padding: 0}\n",
       ".list-inline>li {display: inline-block}\n",
       ".list-inline>li:not(:last-child)::after {content: \"\\00b7\"; padding: 0 .5ex}\n",
       "</style>\n",
       "<ol class=list-inline><li>'eid'</li><li>'YOB'</li><li>'MOB'</li><li>'approx_dob'</li><li>'DOA_0'</li><li>'DOA_1'</li><li>'DOA_2'</li><li>'DOA_3'</li><li>'AAA'</li><li>'approx_AAA'</li><li>'ass_centre'</li><li>'batch'</li><li>'sex'</li><li>'g_sex'</li><li>'het_miss_outlier'</li><li>'sex_chr_aneuploidy'</li><li>'g_ethnicity'</li><li>'g_kinship'</li><li>'PC1'</li><li>'PC2'</li><li>'PC3'</li><li>'PC4'</li><li>'PC5'</li><li>'PC6'</li><li>'PC7'</li><li>'PC8'</li><li>'PC9'</li><li>'PC10'</li><li>'PC11'</li><li>'PC12'</li><li>'PC13'</li><li>'PC14'</li><li>'PC15'</li><li>'PC16'</li><li>'PC17'</li><li>'PC18'</li><li>'PC19'</li><li>'PC20'</li><li>'provider_0'</li><li>'provider_1'</li><li>'provider_2'</li><li>'hasICD10'</li><li>'isdead'</li><li>'age_death'</li><li>'dementia_status'</li><li>'dementia_incident'</li><li>'delirium_source'</li><li>'delirium_date'</li><li>'delirium'</li><li>'censoring_date'</li><li>'age'</li><li>'incident'</li></ol>\n"
      ],
      "text/latex": [
       "\\begin{enumerate*}\n",
       "\\item 'eid'\n",
       "\\item 'YOB'\n",
       "\\item 'MOB'\n",
       "\\item 'approx\\_dob'\n",
       "\\item 'DOA\\_0'\n",
       "\\item 'DOA\\_1'\n",
       "\\item 'DOA\\_2'\n",
       "\\item 'DOA\\_3'\n",
       "\\item 'AAA'\n",
       "\\item 'approx\\_AAA'\n",
       "\\item 'ass\\_centre'\n",
       "\\item 'batch'\n",
       "\\item 'sex'\n",
       "\\item 'g\\_sex'\n",
       "\\item 'het\\_miss\\_outlier'\n",
       "\\item 'sex\\_chr\\_aneuploidy'\n",
       "\\item 'g\\_ethnicity'\n",
       "\\item 'g\\_kinship'\n",
       "\\item 'PC1'\n",
       "\\item 'PC2'\n",
       "\\item 'PC3'\n",
       "\\item 'PC4'\n",
       "\\item 'PC5'\n",
       "\\item 'PC6'\n",
       "\\item 'PC7'\n",
       "\\item 'PC8'\n",
       "\\item 'PC9'\n",
       "\\item 'PC10'\n",
       "\\item 'PC11'\n",
       "\\item 'PC12'\n",
       "\\item 'PC13'\n",
       "\\item 'PC14'\n",
       "\\item 'PC15'\n",
       "\\item 'PC16'\n",
       "\\item 'PC17'\n",
       "\\item 'PC18'\n",
       "\\item 'PC19'\n",
       "\\item 'PC20'\n",
       "\\item 'provider\\_0'\n",
       "\\item 'provider\\_1'\n",
       "\\item 'provider\\_2'\n",
       "\\item 'hasICD10'\n",
       "\\item 'isdead'\n",
       "\\item 'age\\_death'\n",
       "\\item 'dementia\\_status'\n",
       "\\item 'dementia\\_incident'\n",
       "\\item 'delirium\\_source'\n",
       "\\item 'delirium\\_date'\n",
       "\\item 'delirium'\n",
       "\\item 'censoring\\_date'\n",
       "\\item 'age'\n",
       "\\item 'incident'\n",
       "\\end{enumerate*}\n"
      ],
      "text/markdown": [
       "1. 'eid'\n",
       "2. 'YOB'\n",
       "3. 'MOB'\n",
       "4. 'approx_dob'\n",
       "5. 'DOA_0'\n",
       "6. 'DOA_1'\n",
       "7. 'DOA_2'\n",
       "8. 'DOA_3'\n",
       "9. 'AAA'\n",
       "10. 'approx_AAA'\n",
       "11. 'ass_centre'\n",
       "12. 'batch'\n",
       "13. 'sex'\n",
       "14. 'g_sex'\n",
       "15. 'het_miss_outlier'\n",
       "16. 'sex_chr_aneuploidy'\n",
       "17. 'g_ethnicity'\n",
       "18. 'g_kinship'\n",
       "19. 'PC1'\n",
       "20. 'PC2'\n",
       "21. 'PC3'\n",
       "22. 'PC4'\n",
       "23. 'PC5'\n",
       "24. 'PC6'\n",
       "25. 'PC7'\n",
       "26. 'PC8'\n",
       "27. 'PC9'\n",
       "28. 'PC10'\n",
       "29. 'PC11'\n",
       "30. 'PC12'\n",
       "31. 'PC13'\n",
       "32. 'PC14'\n",
       "33. 'PC15'\n",
       "34. 'PC16'\n",
       "35. 'PC17'\n",
       "36. 'PC18'\n",
       "37. 'PC19'\n",
       "38. 'PC20'\n",
       "39. 'provider_0'\n",
       "40. 'provider_1'\n",
       "41. 'provider_2'\n",
       "42. 'hasICD10'\n",
       "43. 'isdead'\n",
       "44. 'age_death'\n",
       "45. 'dementia_status'\n",
       "46. 'dementia_incident'\n",
       "47. 'delirium_source'\n",
       "48. 'delirium_date'\n",
       "49. 'delirium'\n",
       "50. 'censoring_date'\n",
       "51. 'age'\n",
       "52. 'incident'\n",
       "\n",
       "\n"
      ],
      "text/plain": [
       " [1] \"eid\"                \"YOB\"                \"MOB\"                \"approx_dob\"         \"DOA_0\"              \"DOA_1\"              \"DOA_2\"              \"DOA_3\"              \"AAA\"               \n",
       "[10] \"approx_AAA\"         \"ass_centre\"         \"batch\"              \"sex\"                \"g_sex\"              \"het_miss_outlier\"   \"sex_chr_aneuploidy\" \"g_ethnicity\"        \"g_kinship\"         \n",
       "[19] \"PC1\"                \"PC2\"                \"PC3\"                \"PC4\"                \"PC5\"                \"PC6\"                \"PC7\"                \"PC8\"                \"PC9\"               \n",
       "[28] \"PC10\"               \"PC11\"               \"PC12\"               \"PC13\"               \"PC14\"               \"PC15\"               \"PC16\"               \"PC17\"               \"PC18\"              \n",
       "[37] \"PC19\"               \"PC20\"               \"provider_0\"         \"provider_1\"         \"provider_2\"         \"hasICD10\"           \"isdead\"             \"age_death\"          \"dementia_status\"   \n",
       "[46] \"dementia_incident\"  \"delirium_source\"    \"delirium_date\"      \"delirium\"           \"censoring_date\"     \"age\"                \"incident\"          "
      ]
     },
     "metadata": {},
     "output_type": "display_data"
    }
   ],
   "source": [
    "names(a3)"
   ]
  },
  {
   "cell_type": "markdown",
   "id": "643215d1",
   "metadata": {},
   "source": [
    "**Dementia stats:**"
   ]
  },
  {
   "cell_type": "code",
   "execution_count": 33,
   "id": "199e8923",
   "metadata": {},
   "outputs": [
    {
     "data": {
      "text/html": [
       "<table class=\"dataframe\">\n",
       "<caption>A tibble: 2 × 5</caption>\n",
       "<thead>\n",
       "\t<tr><th scope=col>delirium</th><th scope=col>n_del</th><th scope=col>dementia (%)</th><th scope=col>dementia_prev (%)</th><th scope=col>dementia_inc (%)</th></tr>\n",
       "\t<tr><th scope=col>&lt;dbl&gt;</th><th scope=col>&lt;int&gt;</th><th scope=col>&lt;dbl&gt;</th><th scope=col>&lt;dbl&gt;</th><th scope=col>&lt;dbl&gt;</th></tr>\n",
       "</thead>\n",
       "<tbody>\n",
       "\t<tr><td>0</td><td>400386</td><td> 1.40</td><td> 0.00</td><td> 0.00</td></tr>\n",
       "\t<tr><td>1</td><td>  7523</td><td>35.56</td><td>24.95</td><td>10.61</td></tr>\n",
       "</tbody>\n",
       "</table>\n"
      ],
      "text/latex": [
       "A tibble: 2 × 5\n",
       "\\begin{tabular}{lllll}\n",
       " delirium & n\\_del & dementia (\\%) & dementia\\_prev (\\%) & dementia\\_inc (\\%)\\\\\n",
       " <dbl> & <int> & <dbl> & <dbl> & <dbl>\\\\\n",
       "\\hline\n",
       "\t 0 & 400386 &  1.40 &  0.00 &  0.00\\\\\n",
       "\t 1 &   7523 & 35.56 & 24.95 & 10.61\\\\\n",
       "\\end{tabular}\n"
      ],
      "text/markdown": [
       "\n",
       "A tibble: 2 × 5\n",
       "\n",
       "| delirium &lt;dbl&gt; | n_del &lt;int&gt; | dementia (%) &lt;dbl&gt; | dementia_prev (%) &lt;dbl&gt; | dementia_inc (%) &lt;dbl&gt; |\n",
       "|---|---|---|---|---|\n",
       "| 0 | 400386 |  1.40 |  0.00 |  0.00 |\n",
       "| 1 |   7523 | 35.56 | 24.95 | 10.61 |\n",
       "\n"
      ],
      "text/plain": [
       "  delirium n_del  dementia (%) dementia_prev (%) dementia_inc (%)\n",
       "1 0        400386  1.40         0.00              0.00           \n",
       "2 1          7523 35.56        24.95             10.61           "
      ]
     },
     "metadata": {},
     "output_type": "display_data"
    }
   ],
   "source": [
    "a3 %>% \n",
    "    group_by(delirium) %>% \n",
    "    summarise(n_del =n(), \n",
    "              `dementia (%)` = round((sum(dementia_status==1)/n())*100,2),\n",
    "              `dementia_prev (%)` = round((sum(dementia_incident==0 | dementia_incident==-1, na.rm = T)/n())*100,2),\n",
    "              `dementia_inc (%)` = round((sum(dementia_incident==1, na.rm = T)/n())*100,2)              \n",
    "              )\n",
    " "
   ]
  },
  {
   "cell_type": "markdown",
   "id": "2ceb35ee",
   "metadata": {},
   "source": [
    "**Test significant covariates:**"
   ]
  },
  {
   "cell_type": "code",
   "execution_count": 105,
   "id": "fd8c2339",
   "metadata": {},
   "outputs": [
    {
     "data": {
      "text/plain": [
       "\n",
       "Call:\n",
       "glm(formula = formula, family = \"binomial\", data = a3)\n",
       "\n",
       "Coefficients:\n",
       "              Estimate Std. Error z value Pr(>|z|)    \n",
       "(Intercept) -9.6023031  0.1622577 -59.179  < 2e-16 ***\n",
       "age          0.0734504  0.0017422  42.160  < 2e-16 ***\n",
       "sex          0.4416889  0.0235780  18.733  < 2e-16 ***\n",
       "batch       -0.0015963  0.0003804  -4.196 2.71e-05 ***\n",
       "PC1         -0.0068470  0.0076788  -0.892  0.37257    \n",
       "PC2          0.0113811  0.0079500   1.432  0.15226    \n",
       "PC3          0.0147386  0.0077017   1.914  0.05566 .  \n",
       "PC4          0.0124482  0.0059158   2.104  0.03536 *  \n",
       "PC5          0.0026568  0.0025186   1.055  0.29148    \n",
       "PC6         -0.0035073  0.0073767  -0.475  0.63446    \n",
       "PC7          0.0014953  0.0066620   0.224  0.82240    \n",
       "PC8         -0.0010222  0.0066852  -0.153  0.87847    \n",
       "PC9          0.0157721  0.0028169   5.599 2.15e-08 ***\n",
       "PC10        -0.0185299  0.0063806  -2.904  0.00368 ** \n",
       "PC11         0.0117684  0.0047234   2.492  0.01272 *  \n",
       "PC12         0.0033138  0.0063544   0.521  0.60202    \n",
       "PC13        -0.0016501  0.0072818  -0.227  0.82073    \n",
       "PC14         0.0029175  0.0037661   0.775  0.43853    \n",
       "PC15         0.0009094  0.0067795   0.134  0.89329    \n",
       "PC16         0.0018916  0.0040347   0.469  0.63919    \n",
       "PC17        -0.0092028  0.0059290  -1.552  0.12062    \n",
       "PC18         0.0070622  0.0039412   1.792  0.07315 .  \n",
       "PC19         0.0025944  0.0040717   0.637  0.52401    \n",
       "PC20         0.0108704  0.0040767   2.666  0.00767 ** \n",
       "---\n",
       "Signif. codes:  0 ‘***’ 0.001 ‘**’ 0.01 ‘*’ 0.05 ‘.’ 0.1 ‘ ’ 1\n",
       "\n",
       "(Dispersion parameter for binomial family taken to be 1)\n",
       "\n",
       "    Null deviance: 74986  on 407909  degrees of freedom\n",
       "Residual deviance: 72459  on 407886  degrees of freedom\n",
       "AIC: 72507\n",
       "\n",
       "Number of Fisher Scoring iterations: 7\n"
      ]
     },
     "metadata": {},
     "output_type": "display_data"
    }
   ],
   "source": [
    "#formula <- paste(\"delirium ~ age + sex + batch + ass_centre + \", paste0(\"PC\", 1:20, collapse=\"+\"))\n",
    "#glm(formula = formula, data = a3, family = \"binomial\") %>% summary\n",
    "## assessment centre not significant (drop)\n",
    "formula <- paste(\"delirium ~ age + sex + batch + \", paste0(\"PC\", 1:20, collapse=\"+\"))\n",
    "glm(formula = formula, data = a3, family = \"binomial\") %>% summary"
   ]
  },
  {
   "cell_type": "code",
   "execution_count": 22,
   "id": "f9ef4e53",
   "metadata": {},
   "outputs": [
    {
     "data": {
      "text/html": [
       "<table class=\"dataframe\">\n",
       "<caption>A tibble: 6 × 48</caption>\n",
       "<thead>\n",
       "\t<tr><th scope=col>eid</th><th scope=col>YOB</th><th scope=col>MOB</th><th scope=col>approx_dob</th><th scope=col>DOA_0</th><th scope=col>DOA_1</th><th scope=col>DOA_2</th><th scope=col>DOA_3</th><th scope=col>AAA</th><th scope=col>ass_centre</th><th scope=col>⋯</th><th scope=col>provider_1</th><th scope=col>provider_2</th><th scope=col>isdead</th><th scope=col>age_death</th><th scope=col>delirium_source</th><th scope=col>delirium_date</th><th scope=col>delirium</th><th scope=col>censoring_date</th><th scope=col>age</th><th scope=col>incident</th></tr>\n",
       "\t<tr><th scope=col>&lt;int&gt;</th><th scope=col>&lt;int&gt;</th><th scope=col>&lt;int&gt;</th><th scope=col>&lt;IDate&gt;</th><th scope=col>&lt;IDate&gt;</th><th scope=col>&lt;IDate&gt;</th><th scope=col>&lt;IDate&gt;</th><th scope=col>&lt;IDate&gt;</th><th scope=col>&lt;int&gt;</th><th scope=col>&lt;int&gt;</th><th scope=col>⋯</th><th scope=col>&lt;chr&gt;</th><th scope=col>&lt;chr&gt;</th><th scope=col>&lt;dbl&gt;</th><th scope=col>&lt;dbl&gt;</th><th scope=col>&lt;int&gt;</th><th scope=col>&lt;IDate&gt;</th><th scope=col>&lt;dbl&gt;</th><th scope=col>&lt;IDate&gt;</th><th scope=col>&lt;dbl&gt;</th><th scope=col>&lt;dbl&gt;</th></tr>\n",
       "</thead>\n",
       "<tbody>\n",
       "\t<tr><td>1000015</td><td>1940</td><td>11</td><td>1940-11-15</td><td>2008-04-23</td><td>NA</td><td>NA</td><td>NA</td><td>67</td><td>11010</td><td>⋯</td><td>NA</td><td>NA</td><td>0</td><td>NA</td><td>NA</td><td>NA</td><td>0</td><td>2022-10-31</td><td>82.0</td><td>NA</td></tr>\n",
       "\t<tr><td>1000027</td><td>1946</td><td> 9</td><td>1946-09-15</td><td>2008-07-23</td><td>NA</td><td>NA</td><td>NA</td><td>61</td><td>11009</td><td>⋯</td><td>NA</td><td>NA</td><td>0</td><td>NA</td><td>NA</td><td>NA</td><td>0</td><td>2022-10-31</td><td>76.1</td><td>NA</td></tr>\n",
       "\t<tr><td>1000039</td><td>1953</td><td>10</td><td>1953-10-15</td><td>2008-12-06</td><td>NA</td><td>NA</td><td>NA</td><td>55</td><td>11007</td><td>⋯</td><td>NA</td><td>NA</td><td>0</td><td>NA</td><td>NA</td><td>NA</td><td>0</td><td>2022-10-31</td><td>69.0</td><td>NA</td></tr>\n",
       "\t<tr><td>1000040</td><td>1966</td><td> 3</td><td>1966-03-15</td><td>2008-09-02</td><td>2012-09-12</td><td>2015-04-22</td><td>2021-02-03</td><td>42</td><td>11008</td><td>⋯</td><td>NA</td><td>NA</td><td>0</td><td>NA</td><td>NA</td><td>NA</td><td>0</td><td>2022-10-31</td><td>56.6</td><td>NA</td></tr>\n",
       "\t<tr><td>1000053</td><td>1968</td><td> 2</td><td>1968-02-15</td><td>2009-02-28</td><td>NA</td><td>NA</td><td>NA</td><td>41</td><td>11016</td><td>⋯</td><td>NA</td><td>NA</td><td>0</td><td>NA</td><td>NA</td><td>NA</td><td>0</td><td>2022-10-31</td><td>54.7</td><td>NA</td></tr>\n",
       "\t<tr><td>1000064</td><td>1964</td><td> 3</td><td>1964-03-15</td><td>2010-09-10</td><td>NA</td><td>NA</td><td>NA</td><td>46</td><td>11023</td><td>⋯</td><td>NA</td><td>NA</td><td>0</td><td>NA</td><td>NA</td><td>NA</td><td>0</td><td>2022-10-31</td><td>58.6</td><td>NA</td></tr>\n",
       "</tbody>\n",
       "</table>\n"
      ],
      "text/latex": [
       "A tibble: 6 × 48\n",
       "\\begin{tabular}{lllllllllllllllllllll}\n",
       " eid & YOB & MOB & approx\\_dob & DOA\\_0 & DOA\\_1 & DOA\\_2 & DOA\\_3 & AAA & ass\\_centre & ⋯ & provider\\_1 & provider\\_2 & isdead & age\\_death & delirium\\_source & delirium\\_date & delirium & censoring\\_date & age & incident\\\\\n",
       " <int> & <int> & <int> & <IDate> & <IDate> & <IDate> & <IDate> & <IDate> & <int> & <int> & ⋯ & <chr> & <chr> & <dbl> & <dbl> & <int> & <IDate> & <dbl> & <IDate> & <dbl> & <dbl>\\\\\n",
       "\\hline\n",
       "\t 1000015 & 1940 & 11 & 1940-11-15 & 2008-04-23 & NA & NA & NA & 67 & 11010 & ⋯ & NA & NA & 0 & NA & NA & NA & 0 & 2022-10-31 & 82.0 & NA\\\\\n",
       "\t 1000027 & 1946 &  9 & 1946-09-15 & 2008-07-23 & NA & NA & NA & 61 & 11009 & ⋯ & NA & NA & 0 & NA & NA & NA & 0 & 2022-10-31 & 76.1 & NA\\\\\n",
       "\t 1000039 & 1953 & 10 & 1953-10-15 & 2008-12-06 & NA & NA & NA & 55 & 11007 & ⋯ & NA & NA & 0 & NA & NA & NA & 0 & 2022-10-31 & 69.0 & NA\\\\\n",
       "\t 1000040 & 1966 &  3 & 1966-03-15 & 2008-09-02 & 2012-09-12 & 2015-04-22 & 2021-02-03 & 42 & 11008 & ⋯ & NA & NA & 0 & NA & NA & NA & 0 & 2022-10-31 & 56.6 & NA\\\\\n",
       "\t 1000053 & 1968 &  2 & 1968-02-15 & 2009-02-28 & NA & NA & NA & 41 & 11016 & ⋯ & NA & NA & 0 & NA & NA & NA & 0 & 2022-10-31 & 54.7 & NA\\\\\n",
       "\t 1000064 & 1964 &  3 & 1964-03-15 & 2010-09-10 & NA & NA & NA & 46 & 11023 & ⋯ & NA & NA & 0 & NA & NA & NA & 0 & 2022-10-31 & 58.6 & NA\\\\\n",
       "\\end{tabular}\n"
      ],
      "text/markdown": [
       "\n",
       "A tibble: 6 × 48\n",
       "\n",
       "| eid &lt;int&gt; | YOB &lt;int&gt; | MOB &lt;int&gt; | approx_dob &lt;IDate&gt; | DOA_0 &lt;IDate&gt; | DOA_1 &lt;IDate&gt; | DOA_2 &lt;IDate&gt; | DOA_3 &lt;IDate&gt; | AAA &lt;int&gt; | ass_centre &lt;int&gt; | ⋯ ⋯ | provider_1 &lt;chr&gt; | provider_2 &lt;chr&gt; | isdead &lt;dbl&gt; | age_death &lt;dbl&gt; | delirium_source &lt;int&gt; | delirium_date &lt;IDate&gt; | delirium &lt;dbl&gt; | censoring_date &lt;IDate&gt; | age &lt;dbl&gt; | incident &lt;dbl&gt; |\n",
       "|---|---|---|---|---|---|---|---|---|---|---|---|---|---|---|---|---|---|---|---|---|\n",
       "| 1000015 | 1940 | 11 | 1940-11-15 | 2008-04-23 | NA | NA | NA | 67 | 11010 | ⋯ | NA | NA | 0 | NA | NA | NA | 0 | 2022-10-31 | 82.0 | NA |\n",
       "| 1000027 | 1946 |  9 | 1946-09-15 | 2008-07-23 | NA | NA | NA | 61 | 11009 | ⋯ | NA | NA | 0 | NA | NA | NA | 0 | 2022-10-31 | 76.1 | NA |\n",
       "| 1000039 | 1953 | 10 | 1953-10-15 | 2008-12-06 | NA | NA | NA | 55 | 11007 | ⋯ | NA | NA | 0 | NA | NA | NA | 0 | 2022-10-31 | 69.0 | NA |\n",
       "| 1000040 | 1966 |  3 | 1966-03-15 | 2008-09-02 | 2012-09-12 | 2015-04-22 | 2021-02-03 | 42 | 11008 | ⋯ | NA | NA | 0 | NA | NA | NA | 0 | 2022-10-31 | 56.6 | NA |\n",
       "| 1000053 | 1968 |  2 | 1968-02-15 | 2009-02-28 | NA | NA | NA | 41 | 11016 | ⋯ | NA | NA | 0 | NA | NA | NA | 0 | 2022-10-31 | 54.7 | NA |\n",
       "| 1000064 | 1964 |  3 | 1964-03-15 | 2010-09-10 | NA | NA | NA | 46 | 11023 | ⋯ | NA | NA | 0 | NA | NA | NA | 0 | 2022-10-31 | 58.6 | NA |\n",
       "\n"
      ],
      "text/plain": [
       "  eid     YOB  MOB approx_dob DOA_0      DOA_1      DOA_2      DOA_3      AAA\n",
       "1 1000015 1940 11  1940-11-15 2008-04-23 <NA>       <NA>       <NA>       67 \n",
       "2 1000027 1946  9  1946-09-15 2008-07-23 <NA>       <NA>       <NA>       61 \n",
       "3 1000039 1953 10  1953-10-15 2008-12-06 <NA>       <NA>       <NA>       55 \n",
       "4 1000040 1966  3  1966-03-15 2008-09-02 2012-09-12 2015-04-22 2021-02-03 42 \n",
       "5 1000053 1968  2  1968-02-15 2009-02-28 <NA>       <NA>       <NA>       41 \n",
       "6 1000064 1964  3  1964-03-15 2010-09-10 <NA>       <NA>       <NA>       46 \n",
       "  ass_centre ⋯ provider_1 provider_2 isdead age_death delirium_source\n",
       "1 11010      ⋯ NA         NA         0      NA        NA             \n",
       "2 11009      ⋯ NA         NA         0      NA        NA             \n",
       "3 11007      ⋯ NA         NA         0      NA        NA             \n",
       "4 11008      ⋯ NA         NA         0      NA        NA             \n",
       "5 11016      ⋯ NA         NA         0      NA        NA             \n",
       "6 11023      ⋯ NA         NA         0      NA        NA             \n",
       "  delirium_date delirium censoring_date age  incident\n",
       "1 <NA>          0        2022-10-31     82.0 NA      \n",
       "2 <NA>          0        2022-10-31     76.1 NA      \n",
       "3 <NA>          0        2022-10-31     69.0 NA      \n",
       "4 <NA>          0        2022-10-31     56.6 NA      \n",
       "5 <NA>          0        2022-10-31     54.7 NA      \n",
       "6 <NA>          0        2022-10-31     58.6 NA      "
      ]
     },
     "metadata": {},
     "output_type": "display_data"
    }
   ],
   "source": [
    "head(a3)"
   ]
  },
  {
   "cell_type": "code",
   "execution_count": null,
   "id": "e0187550",
   "metadata": {},
   "outputs": [],
   "source": [
    "a3 %>% \n",
    "    mutate(del2death_time = case_when( (delirium == 1 & isdead == 1) ~ 1,)\n",
    "\n"
   ]
  },
  {
   "cell_type": "markdown",
   "id": "75f27046",
   "metadata": {},
   "source": [
    "**Export .txt file with GWAS covariates and phenotype for regenie** <br>\n",
    "Space separated with header: FID IID C1 C2 C3 P1 <br> see:https://rgcgithub.github.io/regenie/options/#covariate-file-format "
   ]
  },
  {
   "cell_type": "code",
   "execution_count": 24,
   "id": "1ee4433f",
   "metadata": {},
   "outputs": [
    {
     "data": {
      "text/html": [
       "<table class=\"dataframe\">\n",
       "<caption>A tibble: 6 × 26</caption>\n",
       "<thead>\n",
       "\t<tr><th scope=col>FID</th><th scope=col>IID</th><th scope=col>sex</th><th scope=col>age</th><th scope=col>batch</th><th scope=col>PC1</th><th scope=col>PC2</th><th scope=col>PC3</th><th scope=col>PC4</th><th scope=col>PC5</th><th scope=col>⋯</th><th scope=col>PC12</th><th scope=col>PC13</th><th scope=col>PC14</th><th scope=col>PC15</th><th scope=col>PC16</th><th scope=col>PC17</th><th scope=col>PC18</th><th scope=col>PC19</th><th scope=col>PC20</th><th scope=col>delirium</th></tr>\n",
       "\t<tr><th scope=col>&lt;int&gt;</th><th scope=col>&lt;int&gt;</th><th scope=col>&lt;int&gt;</th><th scope=col>&lt;dbl&gt;</th><th scope=col>&lt;int&gt;</th><th scope=col>&lt;dbl&gt;</th><th scope=col>&lt;dbl&gt;</th><th scope=col>&lt;dbl&gt;</th><th scope=col>&lt;dbl&gt;</th><th scope=col>&lt;dbl&gt;</th><th scope=col>⋯</th><th scope=col>&lt;dbl&gt;</th><th scope=col>&lt;dbl&gt;</th><th scope=col>&lt;dbl&gt;</th><th scope=col>&lt;dbl&gt;</th><th scope=col>&lt;dbl&gt;</th><th scope=col>&lt;dbl&gt;</th><th scope=col>&lt;dbl&gt;</th><th scope=col>&lt;dbl&gt;</th><th scope=col>&lt;dbl&gt;</th><th scope=col>&lt;dbl&gt;</th></tr>\n",
       "</thead>\n",
       "<tbody>\n",
       "\t<tr><td>1000015</td><td>1000015</td><td>1</td><td>82.0</td><td>50</td><td>-11.09950</td><td>2.14877</td><td>-0.949851</td><td> 1.1805100</td><td>-4.60573</td><td>⋯</td><td> 1.574560</td><td>-2.916850</td><td> 2.175070</td><td> 1.907590</td><td> 4.519030</td><td>-2.286550</td><td> 3.96858</td><td>-0.788353</td><td> 1.93067</td><td>0</td></tr>\n",
       "\t<tr><td>1000027</td><td>1000027</td><td>1</td><td>76.1</td><td> 2</td><td>-12.97330</td><td>3.09785</td><td>-3.105400</td><td> 1.3686900</td><td> 3.41731</td><td>⋯</td><td> 5.039110</td><td>-2.353550</td><td>-1.793530</td><td> 0.706703</td><td>-0.999209</td><td>-2.607720</td><td> 1.20282</td><td>-1.513040</td><td> 1.11784</td><td>0</td></tr>\n",
       "\t<tr><td>1000039</td><td>1000039</td><td>0</td><td>69.0</td><td>29</td><td>-12.66950</td><td>3.55335</td><td> 1.488820</td><td>-0.0348311</td><td>-1.25356</td><td>⋯</td><td> 2.909280</td><td> 4.193440</td><td> 0.672521</td><td> 1.359980</td><td>-1.831130</td><td> 0.799422</td><td>-1.41593</td><td> 2.958720</td><td>-1.90233</td><td>0</td></tr>\n",
       "\t<tr><td>1000040</td><td>1000040</td><td>1</td><td>56.6</td><td>-5</td><td>-15.38280</td><td>3.44060</td><td>-2.842940</td><td> 2.6655800</td><td>-5.93685</td><td>⋯</td><td>-2.669600</td><td>-0.808776</td><td> 4.186370</td><td>-3.066330</td><td>-3.256040</td><td> 0.738720</td><td>-8.48556</td><td>-1.488910</td><td> 1.29605</td><td>0</td></tr>\n",
       "\t<tr><td>1000053</td><td>1000053</td><td>0</td><td>54.7</td><td>19</td><td>-12.19880</td><td>2.87228</td><td> 1.880270</td><td> 0.8088970</td><td> 2.96457</td><td>⋯</td><td> 0.694553</td><td>-0.654478</td><td>-0.361432</td><td>-1.871140</td><td>-6.937880</td><td> 0.730852</td><td> 7.18108</td><td> 3.132090</td><td>-1.14368</td><td>0</td></tr>\n",
       "\t<tr><td>1000064</td><td>1000064</td><td>0</td><td>58.6</td><td>49</td><td> -9.34817</td><td>2.55701</td><td>-0.396884</td><td> 2.8227800</td><td> 4.40571</td><td>⋯</td><td> 1.586540</td><td> 2.108090</td><td> 2.906990</td><td>-2.422250</td><td>-0.748403</td><td> 1.381250</td><td> 3.64285</td><td> 0.389771</td><td>-7.62980</td><td>0</td></tr>\n",
       "</tbody>\n",
       "</table>\n"
      ],
      "text/latex": [
       "A tibble: 6 × 26\n",
       "\\begin{tabular}{lllllllllllllllllllll}\n",
       " FID & IID & sex & age & batch & PC1 & PC2 & PC3 & PC4 & PC5 & ⋯ & PC12 & PC13 & PC14 & PC15 & PC16 & PC17 & PC18 & PC19 & PC20 & delirium\\\\\n",
       " <int> & <int> & <int> & <dbl> & <int> & <dbl> & <dbl> & <dbl> & <dbl> & <dbl> & ⋯ & <dbl> & <dbl> & <dbl> & <dbl> & <dbl> & <dbl> & <dbl> & <dbl> & <dbl> & <dbl>\\\\\n",
       "\\hline\n",
       "\t 1000015 & 1000015 & 1 & 82.0 & 50 & -11.09950 & 2.14877 & -0.949851 &  1.1805100 & -4.60573 & ⋯ &  1.574560 & -2.916850 &  2.175070 &  1.907590 &  4.519030 & -2.286550 &  3.96858 & -0.788353 &  1.93067 & 0\\\\\n",
       "\t 1000027 & 1000027 & 1 & 76.1 &  2 & -12.97330 & 3.09785 & -3.105400 &  1.3686900 &  3.41731 & ⋯ &  5.039110 & -2.353550 & -1.793530 &  0.706703 & -0.999209 & -2.607720 &  1.20282 & -1.513040 &  1.11784 & 0\\\\\n",
       "\t 1000039 & 1000039 & 0 & 69.0 & 29 & -12.66950 & 3.55335 &  1.488820 & -0.0348311 & -1.25356 & ⋯ &  2.909280 &  4.193440 &  0.672521 &  1.359980 & -1.831130 &  0.799422 & -1.41593 &  2.958720 & -1.90233 & 0\\\\\n",
       "\t 1000040 & 1000040 & 1 & 56.6 & -5 & -15.38280 & 3.44060 & -2.842940 &  2.6655800 & -5.93685 & ⋯ & -2.669600 & -0.808776 &  4.186370 & -3.066330 & -3.256040 &  0.738720 & -8.48556 & -1.488910 &  1.29605 & 0\\\\\n",
       "\t 1000053 & 1000053 & 0 & 54.7 & 19 & -12.19880 & 2.87228 &  1.880270 &  0.8088970 &  2.96457 & ⋯ &  0.694553 & -0.654478 & -0.361432 & -1.871140 & -6.937880 &  0.730852 &  7.18108 &  3.132090 & -1.14368 & 0\\\\\n",
       "\t 1000064 & 1000064 & 0 & 58.6 & 49 &  -9.34817 & 2.55701 & -0.396884 &  2.8227800 &  4.40571 & ⋯ &  1.586540 &  2.108090 &  2.906990 & -2.422250 & -0.748403 &  1.381250 &  3.64285 &  0.389771 & -7.62980 & 0\\\\\n",
       "\\end{tabular}\n"
      ],
      "text/markdown": [
       "\n",
       "A tibble: 6 × 26\n",
       "\n",
       "| FID &lt;int&gt; | IID &lt;int&gt; | sex &lt;int&gt; | age &lt;dbl&gt; | batch &lt;int&gt; | PC1 &lt;dbl&gt; | PC2 &lt;dbl&gt; | PC3 &lt;dbl&gt; | PC4 &lt;dbl&gt; | PC5 &lt;dbl&gt; | ⋯ ⋯ | PC12 &lt;dbl&gt; | PC13 &lt;dbl&gt; | PC14 &lt;dbl&gt; | PC15 &lt;dbl&gt; | PC16 &lt;dbl&gt; | PC17 &lt;dbl&gt; | PC18 &lt;dbl&gt; | PC19 &lt;dbl&gt; | PC20 &lt;dbl&gt; | delirium &lt;dbl&gt; |\n",
       "|---|---|---|---|---|---|---|---|---|---|---|---|---|---|---|---|---|---|---|---|---|\n",
       "| 1000015 | 1000015 | 1 | 82.0 | 50 | -11.09950 | 2.14877 | -0.949851 |  1.1805100 | -4.60573 | ⋯ |  1.574560 | -2.916850 |  2.175070 |  1.907590 |  4.519030 | -2.286550 |  3.96858 | -0.788353 |  1.93067 | 0 |\n",
       "| 1000027 | 1000027 | 1 | 76.1 |  2 | -12.97330 | 3.09785 | -3.105400 |  1.3686900 |  3.41731 | ⋯ |  5.039110 | -2.353550 | -1.793530 |  0.706703 | -0.999209 | -2.607720 |  1.20282 | -1.513040 |  1.11784 | 0 |\n",
       "| 1000039 | 1000039 | 0 | 69.0 | 29 | -12.66950 | 3.55335 |  1.488820 | -0.0348311 | -1.25356 | ⋯ |  2.909280 |  4.193440 |  0.672521 |  1.359980 | -1.831130 |  0.799422 | -1.41593 |  2.958720 | -1.90233 | 0 |\n",
       "| 1000040 | 1000040 | 1 | 56.6 | -5 | -15.38280 | 3.44060 | -2.842940 |  2.6655800 | -5.93685 | ⋯ | -2.669600 | -0.808776 |  4.186370 | -3.066330 | -3.256040 |  0.738720 | -8.48556 | -1.488910 |  1.29605 | 0 |\n",
       "| 1000053 | 1000053 | 0 | 54.7 | 19 | -12.19880 | 2.87228 |  1.880270 |  0.8088970 |  2.96457 | ⋯ |  0.694553 | -0.654478 | -0.361432 | -1.871140 | -6.937880 |  0.730852 |  7.18108 |  3.132090 | -1.14368 | 0 |\n",
       "| 1000064 | 1000064 | 0 | 58.6 | 49 |  -9.34817 | 2.55701 | -0.396884 |  2.8227800 |  4.40571 | ⋯ |  1.586540 |  2.108090 |  2.906990 | -2.422250 | -0.748403 |  1.381250 |  3.64285 |  0.389771 | -7.62980 | 0 |\n",
       "\n"
      ],
      "text/plain": [
       "  FID     IID     sex age  batch PC1       PC2     PC3       PC4       \n",
       "1 1000015 1000015 1   82.0 50    -11.09950 2.14877 -0.949851  1.1805100\n",
       "2 1000027 1000027 1   76.1  2    -12.97330 3.09785 -3.105400  1.3686900\n",
       "3 1000039 1000039 0   69.0 29    -12.66950 3.55335  1.488820 -0.0348311\n",
       "4 1000040 1000040 1   56.6 -5    -15.38280 3.44060 -2.842940  2.6655800\n",
       "5 1000053 1000053 0   54.7 19    -12.19880 2.87228  1.880270  0.8088970\n",
       "6 1000064 1000064 0   58.6 49     -9.34817 2.55701 -0.396884  2.8227800\n",
       "  PC5      ⋯ PC12      PC13      PC14      PC15      PC16      PC17     \n",
       "1 -4.60573 ⋯  1.574560 -2.916850  2.175070  1.907590  4.519030 -2.286550\n",
       "2  3.41731 ⋯  5.039110 -2.353550 -1.793530  0.706703 -0.999209 -2.607720\n",
       "3 -1.25356 ⋯  2.909280  4.193440  0.672521  1.359980 -1.831130  0.799422\n",
       "4 -5.93685 ⋯ -2.669600 -0.808776  4.186370 -3.066330 -3.256040  0.738720\n",
       "5  2.96457 ⋯  0.694553 -0.654478 -0.361432 -1.871140 -6.937880  0.730852\n",
       "6  4.40571 ⋯  1.586540  2.108090  2.906990 -2.422250 -0.748403  1.381250\n",
       "  PC18     PC19      PC20     delirium\n",
       "1  3.96858 -0.788353  1.93067 0       \n",
       "2  1.20282 -1.513040  1.11784 0       \n",
       "3 -1.41593  2.958720 -1.90233 0       \n",
       "4 -8.48556 -1.488910  1.29605 0       \n",
       "5  7.18108  3.132090 -1.14368 0       \n",
       "6  3.64285  0.389771 -7.62980 0       "
      ]
     },
     "metadata": {},
     "output_type": "display_data"
    },
    {
     "data": {
      "text/html": [
       "<style>\n",
       ".list-inline {list-style: none; margin:0; padding: 0}\n",
       ".list-inline>li {display: inline-block}\n",
       ".list-inline>li:not(:last-child)::after {content: \"\\00b7\"; padding: 0 .5ex}\n",
       "</style>\n",
       "<ol class=list-inline><li>407909</li><li>26</li></ol>\n"
      ],
      "text/latex": [
       "\\begin{enumerate*}\n",
       "\\item 407909\n",
       "\\item 26\n",
       "\\end{enumerate*}\n"
      ],
      "text/markdown": [
       "1. 407909\n",
       "2. 26\n",
       "\n",
       "\n"
      ],
      "text/plain": [
       "[1] 407909     26"
      ]
     },
     "metadata": {},
     "output_type": "display_data"
    }
   ],
   "source": [
    "a4 <- a3 %>% rename(\"IID\" = \"eid\") %>% mutate(FID = IID) %>% select(FID, IID, sex, age, batch, starts_with(\"PC\"), delirium) \n",
    "head(a4)\n",
    "dim(a4)"
   ]
  },
  {
   "cell_type": "code",
   "execution_count": 70,
   "id": "1214350e",
   "metadata": {},
   "outputs": [],
   "source": [
    "outfile <- \"/exports/cmvm/eddie/smgphs/groups/Quantgen/Users/vasilis/PHD/ukb.delirium.gwas/regenie_files/ukb_wb_del_cov_phe.txt\"\n",
    "write.table(a4, file=outfile, quote=F, sep=\" \", row.names=F, col.names=T)"
   ]
  },
  {
   "cell_type": "markdown",
   "id": "fc2f94aa",
   "metadata": {},
   "source": [
    "**Export .txt file with useful dates:** <br>\n"
   ]
  },
  {
   "cell_type": "code",
   "execution_count": 33,
   "id": "180dea83",
   "metadata": {},
   "outputs": [
    {
     "data": {
      "text/html": [
       "<style>\n",
       ".list-inline {list-style: none; margin:0; padding: 0}\n",
       ".list-inline>li {display: inline-block}\n",
       ".list-inline>li:not(:last-child)::after {content: \"\\00b7\"; padding: 0 .5ex}\n",
       "</style>\n",
       "<ol class=list-inline><li>'eid'</li><li>'YOB'</li><li>'MOB'</li><li>'approx_dob'</li><li>'DOA_0'</li><li>'DOA_1'</li><li>'DOA_2'</li><li>'DOA_3'</li><li>'AAA'</li><li>'approx_AAA'</li><li>'ass_centre'</li><li>'batch'</li><li>'sex'</li><li>'g_sex'</li><li>'het_miss_outlier'</li><li>'sex_chr_aneuploidy'</li><li>'g_ethnicity'</li><li>'g_kinship'</li><li>'PC1'</li><li>'PC2'</li><li>'PC3'</li><li>'PC4'</li><li>'PC5'</li><li>'PC6'</li><li>'PC7'</li><li>'PC8'</li><li>'PC9'</li><li>'PC10'</li><li>'PC11'</li><li>'PC12'</li><li>'PC13'</li><li>'PC14'</li><li>'PC15'</li><li>'PC16'</li><li>'PC17'</li><li>'PC18'</li><li>'PC19'</li><li>'PC20'</li><li>'provider_0'</li><li>'provider_1'</li><li>'provider_2'</li><li>'hasICD10'</li><li>'isdead'</li><li>'age_death'</li><li>'dementia_status'</li><li>'dementia_incident'</li><li>'delirium_source'</li><li>'delirium_date'</li><li>'delirium'</li><li>'censoring_date'</li><li>'age'</li><li>'incident'</li></ol>\n"
      ],
      "text/latex": [
       "\\begin{enumerate*}\n",
       "\\item 'eid'\n",
       "\\item 'YOB'\n",
       "\\item 'MOB'\n",
       "\\item 'approx\\_dob'\n",
       "\\item 'DOA\\_0'\n",
       "\\item 'DOA\\_1'\n",
       "\\item 'DOA\\_2'\n",
       "\\item 'DOA\\_3'\n",
       "\\item 'AAA'\n",
       "\\item 'approx\\_AAA'\n",
       "\\item 'ass\\_centre'\n",
       "\\item 'batch'\n",
       "\\item 'sex'\n",
       "\\item 'g\\_sex'\n",
       "\\item 'het\\_miss\\_outlier'\n",
       "\\item 'sex\\_chr\\_aneuploidy'\n",
       "\\item 'g\\_ethnicity'\n",
       "\\item 'g\\_kinship'\n",
       "\\item 'PC1'\n",
       "\\item 'PC2'\n",
       "\\item 'PC3'\n",
       "\\item 'PC4'\n",
       "\\item 'PC5'\n",
       "\\item 'PC6'\n",
       "\\item 'PC7'\n",
       "\\item 'PC8'\n",
       "\\item 'PC9'\n",
       "\\item 'PC10'\n",
       "\\item 'PC11'\n",
       "\\item 'PC12'\n",
       "\\item 'PC13'\n",
       "\\item 'PC14'\n",
       "\\item 'PC15'\n",
       "\\item 'PC16'\n",
       "\\item 'PC17'\n",
       "\\item 'PC18'\n",
       "\\item 'PC19'\n",
       "\\item 'PC20'\n",
       "\\item 'provider\\_0'\n",
       "\\item 'provider\\_1'\n",
       "\\item 'provider\\_2'\n",
       "\\item 'hasICD10'\n",
       "\\item 'isdead'\n",
       "\\item 'age\\_death'\n",
       "\\item 'dementia\\_status'\n",
       "\\item 'dementia\\_incident'\n",
       "\\item 'delirium\\_source'\n",
       "\\item 'delirium\\_date'\n",
       "\\item 'delirium'\n",
       "\\item 'censoring\\_date'\n",
       "\\item 'age'\n",
       "\\item 'incident'\n",
       "\\end{enumerate*}\n"
      ],
      "text/markdown": [
       "1. 'eid'\n",
       "2. 'YOB'\n",
       "3. 'MOB'\n",
       "4. 'approx_dob'\n",
       "5. 'DOA_0'\n",
       "6. 'DOA_1'\n",
       "7. 'DOA_2'\n",
       "8. 'DOA_3'\n",
       "9. 'AAA'\n",
       "10. 'approx_AAA'\n",
       "11. 'ass_centre'\n",
       "12. 'batch'\n",
       "13. 'sex'\n",
       "14. 'g_sex'\n",
       "15. 'het_miss_outlier'\n",
       "16. 'sex_chr_aneuploidy'\n",
       "17. 'g_ethnicity'\n",
       "18. 'g_kinship'\n",
       "19. 'PC1'\n",
       "20. 'PC2'\n",
       "21. 'PC3'\n",
       "22. 'PC4'\n",
       "23. 'PC5'\n",
       "24. 'PC6'\n",
       "25. 'PC7'\n",
       "26. 'PC8'\n",
       "27. 'PC9'\n",
       "28. 'PC10'\n",
       "29. 'PC11'\n",
       "30. 'PC12'\n",
       "31. 'PC13'\n",
       "32. 'PC14'\n",
       "33. 'PC15'\n",
       "34. 'PC16'\n",
       "35. 'PC17'\n",
       "36. 'PC18'\n",
       "37. 'PC19'\n",
       "38. 'PC20'\n",
       "39. 'provider_0'\n",
       "40. 'provider_1'\n",
       "41. 'provider_2'\n",
       "42. 'hasICD10'\n",
       "43. 'isdead'\n",
       "44. 'age_death'\n",
       "45. 'dementia_status'\n",
       "46. 'dementia_incident'\n",
       "47. 'delirium_source'\n",
       "48. 'delirium_date'\n",
       "49. 'delirium'\n",
       "50. 'censoring_date'\n",
       "51. 'age'\n",
       "52. 'incident'\n",
       "\n",
       "\n"
      ],
      "text/plain": [
       " [1] \"eid\"                \"YOB\"                \"MOB\"               \n",
       " [4] \"approx_dob\"         \"DOA_0\"              \"DOA_1\"             \n",
       " [7] \"DOA_2\"              \"DOA_3\"              \"AAA\"               \n",
       "[10] \"approx_AAA\"         \"ass_centre\"         \"batch\"             \n",
       "[13] \"sex\"                \"g_sex\"              \"het_miss_outlier\"  \n",
       "[16] \"sex_chr_aneuploidy\" \"g_ethnicity\"        \"g_kinship\"         \n",
       "[19] \"PC1\"                \"PC2\"                \"PC3\"               \n",
       "[22] \"PC4\"                \"PC5\"                \"PC6\"               \n",
       "[25] \"PC7\"                \"PC8\"                \"PC9\"               \n",
       "[28] \"PC10\"               \"PC11\"               \"PC12\"              \n",
       "[31] \"PC13\"               \"PC14\"               \"PC15\"              \n",
       "[34] \"PC16\"               \"PC17\"               \"PC18\"              \n",
       "[37] \"PC19\"               \"PC20\"               \"provider_0\"        \n",
       "[40] \"provider_1\"         \"provider_2\"         \"hasICD10\"          \n",
       "[43] \"isdead\"             \"age_death\"          \"dementia_status\"   \n",
       "[46] \"dementia_incident\"  \"delirium_source\"    \"delirium_date\"     \n",
       "[49] \"delirium\"           \"censoring_date\"     \"age\"               \n",
       "[52] \"incident\"          "
      ]
     },
     "metadata": {},
     "output_type": "display_data"
    }
   ],
   "source": [
    "names(a3)"
   ]
  },
  {
   "cell_type": "code",
   "execution_count": 34,
   "id": "3f3d354d",
   "metadata": {},
   "outputs": [
    {
     "data": {
      "text/html": [
       "<table class=\"dataframe\">\n",
       "<caption>A tibble: 6 × 10</caption>\n",
       "<thead>\n",
       "\t<tr><th scope=col>FID</th><th scope=col>IID</th><th scope=col>sex</th><th scope=col>age</th><th scope=col>approx_dob</th><th scope=col>approx_AAA</th><th scope=col>age_death</th><th scope=col>delirium_date</th><th scope=col>censoring_date</th><th scope=col>delirium</th></tr>\n",
       "\t<tr><th scope=col>&lt;int&gt;</th><th scope=col>&lt;int&gt;</th><th scope=col>&lt;int&gt;</th><th scope=col>&lt;dbl&gt;</th><th scope=col>&lt;IDate&gt;</th><th scope=col>&lt;dbl&gt;</th><th scope=col>&lt;dbl&gt;</th><th scope=col>&lt;IDate&gt;</th><th scope=col>&lt;IDate&gt;</th><th scope=col>&lt;dbl&gt;</th></tr>\n",
       "</thead>\n",
       "<tbody>\n",
       "\t<tr><td>1000015</td><td>1000015</td><td>1</td><td>82.0</td><td>1940-11-15</td><td>67.44</td><td>NA</td><td>NA</td><td>2022-10-31</td><td>0</td></tr>\n",
       "\t<tr><td>1000027</td><td>1000027</td><td>1</td><td>76.1</td><td>1946-09-15</td><td>61.85</td><td>NA</td><td>NA</td><td>2022-10-31</td><td>0</td></tr>\n",
       "\t<tr><td>1000039</td><td>1000039</td><td>0</td><td>69.0</td><td>1953-10-15</td><td>55.14</td><td>NA</td><td>NA</td><td>2022-10-31</td><td>0</td></tr>\n",
       "\t<tr><td>1000040</td><td>1000040</td><td>1</td><td>56.6</td><td>1966-03-15</td><td>42.47</td><td>NA</td><td>NA</td><td>2022-10-31</td><td>0</td></tr>\n",
       "\t<tr><td>1000053</td><td>1000053</td><td>0</td><td>54.7</td><td>1968-02-15</td><td>41.04</td><td>NA</td><td>NA</td><td>2022-10-31</td><td>0</td></tr>\n",
       "\t<tr><td>1000064</td><td>1000064</td><td>0</td><td>58.6</td><td>1964-03-15</td><td>46.49</td><td>NA</td><td>NA</td><td>2022-10-31</td><td>0</td></tr>\n",
       "</tbody>\n",
       "</table>\n"
      ],
      "text/latex": [
       "A tibble: 6 × 10\n",
       "\\begin{tabular}{llllllllll}\n",
       " FID & IID & sex & age & approx\\_dob & approx\\_AAA & age\\_death & delirium\\_date & censoring\\_date & delirium\\\\\n",
       " <int> & <int> & <int> & <dbl> & <IDate> & <dbl> & <dbl> & <IDate> & <IDate> & <dbl>\\\\\n",
       "\\hline\n",
       "\t 1000015 & 1000015 & 1 & 82.0 & 1940-11-15 & 67.44 & NA & NA & 2022-10-31 & 0\\\\\n",
       "\t 1000027 & 1000027 & 1 & 76.1 & 1946-09-15 & 61.85 & NA & NA & 2022-10-31 & 0\\\\\n",
       "\t 1000039 & 1000039 & 0 & 69.0 & 1953-10-15 & 55.14 & NA & NA & 2022-10-31 & 0\\\\\n",
       "\t 1000040 & 1000040 & 1 & 56.6 & 1966-03-15 & 42.47 & NA & NA & 2022-10-31 & 0\\\\\n",
       "\t 1000053 & 1000053 & 0 & 54.7 & 1968-02-15 & 41.04 & NA & NA & 2022-10-31 & 0\\\\\n",
       "\t 1000064 & 1000064 & 0 & 58.6 & 1964-03-15 & 46.49 & NA & NA & 2022-10-31 & 0\\\\\n",
       "\\end{tabular}\n"
      ],
      "text/markdown": [
       "\n",
       "A tibble: 6 × 10\n",
       "\n",
       "| FID &lt;int&gt; | IID &lt;int&gt; | sex &lt;int&gt; | age &lt;dbl&gt; | approx_dob &lt;IDate&gt; | approx_AAA &lt;dbl&gt; | age_death &lt;dbl&gt; | delirium_date &lt;IDate&gt; | censoring_date &lt;IDate&gt; | delirium &lt;dbl&gt; |\n",
       "|---|---|---|---|---|---|---|---|---|---|\n",
       "| 1000015 | 1000015 | 1 | 82.0 | 1940-11-15 | 67.44 | NA | NA | 2022-10-31 | 0 |\n",
       "| 1000027 | 1000027 | 1 | 76.1 | 1946-09-15 | 61.85 | NA | NA | 2022-10-31 | 0 |\n",
       "| 1000039 | 1000039 | 0 | 69.0 | 1953-10-15 | 55.14 | NA | NA | 2022-10-31 | 0 |\n",
       "| 1000040 | 1000040 | 1 | 56.6 | 1966-03-15 | 42.47 | NA | NA | 2022-10-31 | 0 |\n",
       "| 1000053 | 1000053 | 0 | 54.7 | 1968-02-15 | 41.04 | NA | NA | 2022-10-31 | 0 |\n",
       "| 1000064 | 1000064 | 0 | 58.6 | 1964-03-15 | 46.49 | NA | NA | 2022-10-31 | 0 |\n",
       "\n"
      ],
      "text/plain": [
       "  FID     IID     sex age  approx_dob approx_AAA age_death delirium_date\n",
       "1 1000015 1000015 1   82.0 1940-11-15 67.44      NA        <NA>         \n",
       "2 1000027 1000027 1   76.1 1946-09-15 61.85      NA        <NA>         \n",
       "3 1000039 1000039 0   69.0 1953-10-15 55.14      NA        <NA>         \n",
       "4 1000040 1000040 1   56.6 1966-03-15 42.47      NA        <NA>         \n",
       "5 1000053 1000053 0   54.7 1968-02-15 41.04      NA        <NA>         \n",
       "6 1000064 1000064 0   58.6 1964-03-15 46.49      NA        <NA>         \n",
       "  censoring_date delirium\n",
       "1 2022-10-31     0       \n",
       "2 2022-10-31     0       \n",
       "3 2022-10-31     0       \n",
       "4 2022-10-31     0       \n",
       "5 2022-10-31     0       \n",
       "6 2022-10-31     0       "
      ]
     },
     "metadata": {},
     "output_type": "display_data"
    },
    {
     "data": {
      "text/html": [
       "<style>\n",
       ".list-inline {list-style: none; margin:0; padding: 0}\n",
       ".list-inline>li {display: inline-block}\n",
       ".list-inline>li:not(:last-child)::after {content: \"\\00b7\"; padding: 0 .5ex}\n",
       "</style>\n",
       "<ol class=list-inline><li>407909</li><li>10</li></ol>\n"
      ],
      "text/latex": [
       "\\begin{enumerate*}\n",
       "\\item 407909\n",
       "\\item 10\n",
       "\\end{enumerate*}\n"
      ],
      "text/markdown": [
       "1. 407909\n",
       "2. 10\n",
       "\n",
       "\n"
      ],
      "text/plain": [
       "[1] 407909     10"
      ]
     },
     "metadata": {},
     "output_type": "display_data"
    }
   ],
   "source": [
    "a_prot <- a3 %>% \n",
    "    rename(\"IID\" = \"eid\") %>% mutate(FID = IID) %>%\n",
    "    select(FID, IID, sex, age, approx_dob, approx_AAA, age_death, delirium_date, censoring_date, delirium) \n",
    "head(a_prot)\n",
    "dim(a_prot)\n",
    "write.table(a_prot, file=\"/exports/cmvm/eddie/smgphs/groups/Quantgen/Users/vasilis/PHD/proteomics/Resource/pheno/delirium.phe\", quote=F, sep=\" \", row.names=F, col.names=T)"
   ]
  },
  {
   "cell_type": "markdown",
   "id": "12c6d6bc",
   "metadata": {},
   "source": [
    "**Export .txt file with delirium & dead phenotype**"
   ]
  },
  {
   "cell_type": "code",
   "execution_count": 17,
   "id": "e8504ef1",
   "metadata": {},
   "outputs": [],
   "source": [
    "a5 <- a3 %>% mutate(del2death = case_when( (delirium == 1 & isdead == 1) ~ 1,\n",
    "                                      (delirium == 1 & isdead == 0) ~ 0,\n",
    "                                      TRUE ~ NA)) \n"
   ]
  },
  {
   "cell_type": "code",
   "execution_count": 21,
   "id": "f703d626",
   "metadata": {},
   "outputs": [],
   "source": [
    "a5 <- a5 %>% \n",
    "    rename(\"IID\" = \"eid\") %>% \n",
    "    mutate(FID = IID) %>% \n",
    "    filter(!is.na(del2death)) %>%\n",
    "    select(FID, IID, sex, age, batch, starts_with(\"PC\"), del2death) "
   ]
  },
  {
   "cell_type": "code",
   "execution_count": 25,
   "id": "b0cb0c31",
   "metadata": {},
   "outputs": [],
   "source": [
    "outfile2 <- \"/exports/cmvm/eddie/smgphs/groups/Quantgen/Users/vasilis/PHD/ukb.delirium.gwas/pheno_covar_files/ukb_wb_del2death_cov_phe.txt\"\n",
    "write.table(a5, file=outfile2, quote=F, sep=\" \", row.names=F, col.names=T)"
   ]
  },
  {
   "cell_type": "markdown",
   "id": "62cd6aea",
   "metadata": {},
   "source": [
    "**Export file used here**"
   ]
  },
  {
   "cell_type": "code",
   "execution_count": 32,
   "id": "00235648",
   "metadata": {},
   "outputs": [],
   "source": [
    "outfile3 <- \"/exports/cmvm/eddie/smgphs/groups/Quantgen/Users/vasilis/PHD/ukb.delirium.gwas/pheno_covar_files/prelim_file.txt\"\n",
    "write.table(a3, file=outfile3, quote=F, sep=\" \", row.names=F, col.names=T)"
   ]
  },
  {
   "cell_type": "markdown",
   "id": "d6a537e1",
   "metadata": {},
   "source": [
    "**Get dates of diagnoses**"
   ]
  },
  {
   "cell_type": "code",
   "execution_count": 13,
   "id": "89893a3b",
   "metadata": {},
   "outputs": [
    {
     "data": {
      "text/html": [
       "<style>\n",
       ".list-inline {list-style: none; margin:0; padding: 0}\n",
       ".list-inline>li {display: inline-block}\n",
       ".list-inline>li:not(:last-child)::after {content: \"\\00b7\"; padding: 0 .5ex}\n",
       "</style>\n",
       "<ol class=list-inline><li>502356</li><li>563</li></ol>\n"
      ],
      "text/latex": [
       "\\begin{enumerate*}\n",
       "\\item 502356\n",
       "\\item 563\n",
       "\\end{enumerate*}\n"
      ],
      "text/markdown": [
       "1. 502356\n",
       "2. 563\n",
       "\n",
       "\n"
      ],
      "text/plain": [
       "[1] 502356    563"
      ]
     },
     "metadata": {},
     "output_type": "display_data"
    }
   ],
   "source": [
    "#names(a1)\n",
    "dim(a1)"
   ]
  },
  {
   "cell_type": "code",
   "execution_count": 14,
   "id": "bbb960ce",
   "metadata": {},
   "outputs": [],
   "source": [
    "# extract tables with diag. codes and dates\n",
    "a1_icd10 <- a1 %>% select(eid, starts_with(\"41270-0\")) \n",
    "a1_dates <- a1 %>% select(eid, starts_with(\"41280-0\"))\n"
   ]
  },
  {
   "cell_type": "code",
   "execution_count": 15,
   "id": "a6e549d8",
   "metadata": {},
   "outputs": [
    {
     "data": {
      "text/html": [
       "<table class=\"dataframe\">\n",
       "<caption>A tibble: 6 × 2</caption>\n",
       "<thead>\n",
       "\t<tr><th scope=col>eid</th><th scope=col>del</th></tr>\n",
       "\t<tr><th scope=col>&lt;int&gt;</th><th scope=col>&lt;chr&gt;</th></tr>\n",
       "</thead>\n",
       "<tbody>\n",
       "\t<tr><td>1000346</td><td>F051:2022-06-27_F059:2021-02-22</td></tr>\n",
       "\t<tr><td>1000493</td><td>F051:2022-05-27                </td></tr>\n",
       "\t<tr><td>1000820</td><td>F059:2010-11-24                </td></tr>\n",
       "\t<tr><td>1000843</td><td>F051:2020-09-28                </td></tr>\n",
       "\t<tr><td>1001307</td><td>F059:2020-04-12                </td></tr>\n",
       "\t<tr><td>1001641</td><td>F059:2019-04-06                </td></tr>\n",
       "</tbody>\n",
       "</table>\n"
      ],
      "text/latex": [
       "A tibble: 6 × 2\n",
       "\\begin{tabular}{ll}\n",
       " eid & del\\\\\n",
       " <int> & <chr>\\\\\n",
       "\\hline\n",
       "\t 1000346 & F051:2022-06-27\\_F059:2021-02-22\\\\\n",
       "\t 1000493 & F051:2022-05-27                \\\\\n",
       "\t 1000820 & F059:2010-11-24                \\\\\n",
       "\t 1000843 & F051:2020-09-28                \\\\\n",
       "\t 1001307 & F059:2020-04-12                \\\\\n",
       "\t 1001641 & F059:2019-04-06                \\\\\n",
       "\\end{tabular}\n"
      ],
      "text/markdown": [
       "\n",
       "A tibble: 6 × 2\n",
       "\n",
       "| eid &lt;int&gt; | del &lt;chr&gt; |\n",
       "|---|---|\n",
       "| 1000346 | F051:2022-06-27_F059:2021-02-22 |\n",
       "| 1000493 | F051:2022-05-27                 |\n",
       "| 1000820 | F059:2010-11-24                 |\n",
       "| 1000843 | F051:2020-09-28                 |\n",
       "| 1001307 | F059:2020-04-12                 |\n",
       "| 1001641 | F059:2019-04-06                 |\n",
       "\n"
      ],
      "text/plain": [
       "  eid     del                            \n",
       "1 1000346 F051:2022-06-27_F059:2021-02-22\n",
       "2 1000493 F051:2022-05-27                \n",
       "3 1000820 F059:2010-11-24                \n",
       "4 1000843 F051:2020-09-28                \n",
       "5 1001307 F059:2020-04-12                \n",
       "6 1001641 F059:2019-04-06                "
      ]
     },
     "metadata": {},
     "output_type": "display_data"
    }
   ],
   "source": [
    "# empty output tibble\n",
    "del_full <- tibble(eid = del_eids, del = character(length(del_eids)))\n",
    "\n",
    "# use dataset a1\n",
    "for (id in del_eids){\n",
    "    #print(id)\n",
    "    # per del_eid: temp named character vector with names: columns correspinding to full del code; values: full delirium code\n",
    "    tt <- a1_icd10 %>%\n",
    "        filter(eid==id) %>%\n",
    "        select(where(~any( str_detect(.,\"F05\"),na.rm = T))) %>%\n",
    "        unlist(use.names = T)\n",
    "    # extract array number from 41270* column and make corresponding 41280* column \n",
    "    arrs       <- names(tt)%>% gsub(pattern = \".*\\\\.\", replacement = \"\")\n",
    "    dates_cols <- names(tt)%>% gsub(pattern = \".*\\\\.\", replacement = \"41280-0.\")\n",
    "    #print(dates_cols)\n",
    "    #print(unname(tt))\n",
    "    ## extract codes only\n",
    "    temp_codes <- unname(tt)\n",
    "    ## extract dates\n",
    "    temp_dates <- a1_dates %>%\n",
    "        filter(eid==id) %>%\n",
    "        select(all_of(dates_cols)) %>%\n",
    "        do.call(\"c\",.)\n",
    "    ## paste <code>:<date> for each del diagnosis\n",
    "    temp_codes_dates1 <- paste0(temp_codes, \":\", temp_dates)\n",
    "    ## paste multiple diagnoses into one sring <codeA>:<dateA>_<codeB>:<dateB> per individual\n",
    "    temp_codes_dates2 <- paste0(temp_codes_dates1, collapse = \"_\")\n",
    "    ## append tibble with <codeA>:<dateA>_<codeB>:<dateB> per individual eid \n",
    "    #del_full[[as.character(id)]] = temp_codes_dates1\n",
    "    del_full[del_full$eid == id, 'del'] <- temp_codes_dates2\n",
    "}\n",
    "\n",
    "del_full %>% head"
   ]
  },
  {
   "cell_type": "code",
   "execution_count": 68,
   "id": "b229b88a",
   "metadata": {},
   "outputs": [],
   "source": [
    "# some eids are without info (del = \":\"), this is beacuse del_eids also include delirium from other sources (e.g. death records)\n",
    "del_full[del_full$del==\":\",\"del\"] <- NA # replace with NA"
   ]
  },
  {
   "cell_type": "code",
   "execution_count": 77,
   "id": "6d7f9474",
   "metadata": {},
   "outputs": [],
   "source": [
    "del_full2 <-\n",
    "del_full %>% \n",
    "    separate_wider_delim(cols = \"del\", names_sep=\".\", delim=\"_\", too_few = \"align_start\") %>%\n",
    "    separate_wider_delim(cols = names(.)[-1], names=c(\"code\",\"date\"), names_sep=\"_\", delim=\":\", too_few = \"align_start\")\n"
   ]
  },
  {
   "cell_type": "code",
   "execution_count": 117,
   "id": "fb963b19",
   "metadata": {},
   "outputs": [],
   "source": [
    "#del_full2 %>% filter(!is.na(del.3_code)) %>% head"
   ]
  },
  {
   "cell_type": "code",
   "execution_count": 116,
   "id": "590b8be0",
   "metadata": {},
   "outputs": [
    {
     "data": {
      "text/html": [
       "<table class=\"dataframe\">\n",
       "<caption>A tibble: 1 × 4</caption>\n",
       "<thead>\n",
       "\t<tr><th scope=col>del.1_code</th><th scope=col>del.2_code</th><th scope=col>del.3_code</th><th scope=col>del.4_code</th></tr>\n",
       "\t<tr><th scope=col>&lt;int&gt;</th><th scope=col>&lt;int&gt;</th><th scope=col>&lt;int&gt;</th><th scope=col>&lt;int&gt;</th></tr>\n",
       "</thead>\n",
       "<tbody>\n",
       "\t<tr><td>9114</td><td>1163</td><td>130</td><td>12</td></tr>\n",
       "</tbody>\n",
       "</table>\n"
      ],
      "text/latex": [
       "A tibble: 1 × 4\n",
       "\\begin{tabular}{llll}\n",
       " del.1\\_code & del.2\\_code & del.3\\_code & del.4\\_code\\\\\n",
       " <int> & <int> & <int> & <int>\\\\\n",
       "\\hline\n",
       "\t 9114 & 1163 & 130 & 12\\\\\n",
       "\\end{tabular}\n"
      ],
      "text/markdown": [
       "\n",
       "A tibble: 1 × 4\n",
       "\n",
       "| del.1_code &lt;int&gt; | del.2_code &lt;int&gt; | del.3_code &lt;int&gt; | del.4_code &lt;int&gt; |\n",
       "|---|---|---|---|\n",
       "| 9114 | 1163 | 130 | 12 |\n",
       "\n"
      ],
      "text/plain": [
       "  del.1_code del.2_code del.3_code del.4_code\n",
       "1 9114       1163       130        12        "
      ]
     },
     "metadata": {},
     "output_type": "display_data"
    }
   ],
   "source": [
    "# non-NA entries \n",
    "del_full2 %>% summarise(across(ends_with(\"code\"), ~ sum(!is.na(.))))"
   ]
  },
  {
   "cell_type": "code",
   "execution_count": 173,
   "id": "8ed53b2f",
   "metadata": {},
   "outputs": [],
   "source": [
    "# column with the number of delirium episodes\n",
    "del_full3 <-\n",
    "del_full2 %>% rowwise %>% \n",
    "    mutate(del_count = sum(!is.na(across(ends_with(\"code\"))))) %>%\n",
    "    ungroup %>%\n",
    "    # convert to date format\n",
    "    mutate(del.1_date = as.IDate(del.1_date)) %>%\n",
    "    mutate(del.2_date = as.IDate(del.2_date)) %>%\n",
    "    mutate(del.3_date = as.IDate(del.3_date)) %>%\n",
    "    mutate(del.4_date = as.IDate(del.4_date)) "
   ]
  },
  {
   "cell_type": "code",
   "execution_count": 174,
   "id": "5907ae0d",
   "metadata": {},
   "outputs": [
    {
     "data": {
      "text/html": [
       "<table class=\"dataframe\">\n",
       "<caption>A matrix: 2 × 5 of type int</caption>\n",
       "<tbody>\n",
       "\t<tr><th scope=row>del_count</th><td> 0</td><td>   1</td><td>   2</td><td>  3</td><td> 4</td></tr>\n",
       "\t<tr><th scope=row>n</th><td>36</td><td>7951</td><td>1033</td><td>118</td><td>12</td></tr>\n",
       "</tbody>\n",
       "</table>\n"
      ],
      "text/latex": [
       "A matrix: 2 × 5 of type int\n",
       "\\begin{tabular}{r|lllll}\n",
       "\tdel\\_count &  0 &    1 &    2 &   3 &  4\\\\\n",
       "\tn & 36 & 7951 & 1033 & 118 & 12\\\\\n",
       "\\end{tabular}\n"
      ],
      "text/markdown": [
       "\n",
       "A matrix: 2 × 5 of type int\n",
       "\n",
       "| del_count |  0 |    1 |    2 |   3 |  4 |\n",
       "| n | 36 | 7951 | 1033 | 118 | 12 |\n",
       "\n"
      ],
      "text/plain": [
       "          [,1] [,2] [,3] [,4] [,5]\n",
       "del_count  0      1    2   3   4  \n",
       "n         36   7951 1033 118  12  "
      ]
     },
     "metadata": {},
     "output_type": "display_data"
    }
   ],
   "source": [
    "# number of delirium episodes per individual\n",
    "del_full3 %>% count(del_count) %>% t"
   ]
  },
  {
   "cell_type": "code",
   "execution_count": 175,
   "id": "245832d8",
   "metadata": {},
   "outputs": [
    {
     "data": {
      "text/html": [
       "<style>\n",
       ".list-inline {list-style: none; margin:0; padding: 0}\n",
       ".list-inline>li {display: inline-block}\n",
       ".list-inline>li:not(:last-child)::after {content: \"\\00b7\"; padding: 0 .5ex}\n",
       "</style>\n",
       "<ol class=list-inline><li>9150</li><li>10</li></ol>\n"
      ],
      "text/latex": [
       "\\begin{enumerate*}\n",
       "\\item 9150\n",
       "\\item 10\n",
       "\\end{enumerate*}\n"
      ],
      "text/markdown": [
       "1. 9150\n",
       "2. 10\n",
       "\n",
       "\n"
      ],
      "text/plain": [
       "[1] 9150   10"
      ]
     },
     "metadata": {},
     "output_type": "display_data"
    },
    {
     "data": {
      "text/html": [
       "<table class=\"dataframe\">\n",
       "<caption>A tibble: 6 × 10</caption>\n",
       "<thead>\n",
       "\t<tr><th scope=col>eid</th><th scope=col>del.1_code</th><th scope=col>del.1_date</th><th scope=col>del.2_code</th><th scope=col>del.2_date</th><th scope=col>del.3_code</th><th scope=col>del.3_date</th><th scope=col>del.4_code</th><th scope=col>del.4_date</th><th scope=col>del_count</th></tr>\n",
       "\t<tr><th scope=col>&lt;int&gt;</th><th scope=col>&lt;chr&gt;</th><th scope=col>&lt;IDate&gt;</th><th scope=col>&lt;chr&gt;</th><th scope=col>&lt;IDate&gt;</th><th scope=col>&lt;chr&gt;</th><th scope=col>&lt;IDate&gt;</th><th scope=col>&lt;chr&gt;</th><th scope=col>&lt;IDate&gt;</th><th scope=col>&lt;int&gt;</th></tr>\n",
       "</thead>\n",
       "<tbody>\n",
       "\t<tr><td>1000346</td><td>F051</td><td>2022-06-27</td><td>F059</td><td>2021-02-22</td><td>NA</td><td>NA</td><td>NA</td><td>NA</td><td>2</td></tr>\n",
       "\t<tr><td>1000493</td><td>F051</td><td>2022-05-27</td><td>NA  </td><td>NA</td><td>NA</td><td>NA</td><td>NA</td><td>NA</td><td>1</td></tr>\n",
       "\t<tr><td>1000820</td><td>F059</td><td>2010-11-24</td><td>NA  </td><td>NA</td><td>NA</td><td>NA</td><td>NA</td><td>NA</td><td>1</td></tr>\n",
       "\t<tr><td>1000843</td><td>F051</td><td>2020-09-28</td><td>NA  </td><td>NA</td><td>NA</td><td>NA</td><td>NA</td><td>NA</td><td>1</td></tr>\n",
       "\t<tr><td>1001307</td><td>F059</td><td>2020-04-12</td><td>NA  </td><td>NA</td><td>NA</td><td>NA</td><td>NA</td><td>NA</td><td>1</td></tr>\n",
       "\t<tr><td>1001641</td><td>F059</td><td>2019-04-06</td><td>NA  </td><td>NA</td><td>NA</td><td>NA</td><td>NA</td><td>NA</td><td>1</td></tr>\n",
       "</tbody>\n",
       "</table>\n"
      ],
      "text/latex": [
       "A tibble: 6 × 10\n",
       "\\begin{tabular}{llllllllll}\n",
       " eid & del.1\\_code & del.1\\_date & del.2\\_code & del.2\\_date & del.3\\_code & del.3\\_date & del.4\\_code & del.4\\_date & del\\_count\\\\\n",
       " <int> & <chr> & <IDate> & <chr> & <IDate> & <chr> & <IDate> & <chr> & <IDate> & <int>\\\\\n",
       "\\hline\n",
       "\t 1000346 & F051 & 2022-06-27 & F059 & 2021-02-22 & NA & NA & NA & NA & 2\\\\\n",
       "\t 1000493 & F051 & 2022-05-27 & NA   & NA & NA & NA & NA & NA & 1\\\\\n",
       "\t 1000820 & F059 & 2010-11-24 & NA   & NA & NA & NA & NA & NA & 1\\\\\n",
       "\t 1000843 & F051 & 2020-09-28 & NA   & NA & NA & NA & NA & NA & 1\\\\\n",
       "\t 1001307 & F059 & 2020-04-12 & NA   & NA & NA & NA & NA & NA & 1\\\\\n",
       "\t 1001641 & F059 & 2019-04-06 & NA   & NA & NA & NA & NA & NA & 1\\\\\n",
       "\\end{tabular}\n"
      ],
      "text/markdown": [
       "\n",
       "A tibble: 6 × 10\n",
       "\n",
       "| eid &lt;int&gt; | del.1_code &lt;chr&gt; | del.1_date &lt;IDate&gt; | del.2_code &lt;chr&gt; | del.2_date &lt;IDate&gt; | del.3_code &lt;chr&gt; | del.3_date &lt;IDate&gt; | del.4_code &lt;chr&gt; | del.4_date &lt;IDate&gt; | del_count &lt;int&gt; |\n",
       "|---|---|---|---|---|---|---|---|---|---|\n",
       "| 1000346 | F051 | 2022-06-27 | F059 | 2021-02-22 | NA | NA | NA | NA | 2 |\n",
       "| 1000493 | F051 | 2022-05-27 | NA   | NA | NA | NA | NA | NA | 1 |\n",
       "| 1000820 | F059 | 2010-11-24 | NA   | NA | NA | NA | NA | NA | 1 |\n",
       "| 1000843 | F051 | 2020-09-28 | NA   | NA | NA | NA | NA | NA | 1 |\n",
       "| 1001307 | F059 | 2020-04-12 | NA   | NA | NA | NA | NA | NA | 1 |\n",
       "| 1001641 | F059 | 2019-04-06 | NA   | NA | NA | NA | NA | NA | 1 |\n",
       "\n"
      ],
      "text/plain": [
       "  eid     del.1_code del.1_date del.2_code del.2_date del.3_code del.3_date\n",
       "1 1000346 F051       2022-06-27 F059       2021-02-22 NA         <NA>      \n",
       "2 1000493 F051       2022-05-27 NA         <NA>       NA         <NA>      \n",
       "3 1000820 F059       2010-11-24 NA         <NA>       NA         <NA>      \n",
       "4 1000843 F051       2020-09-28 NA         <NA>       NA         <NA>      \n",
       "5 1001307 F059       2020-04-12 NA         <NA>       NA         <NA>      \n",
       "6 1001641 F059       2019-04-06 NA         <NA>       NA         <NA>      \n",
       "  del.4_code del.4_date del_count\n",
       "1 NA         <NA>       2        \n",
       "2 NA         <NA>       1        \n",
       "3 NA         <NA>       1        \n",
       "4 NA         <NA>       1        \n",
       "5 NA         <NA>       1        \n",
       "6 NA         <NA>       1        "
      ]
     },
     "metadata": {},
     "output_type": "display_data"
    }
   ],
   "source": [
    "dim(del_full3)\n",
    "head(del_full3)"
   ]
  },
  {
   "cell_type": "markdown",
   "id": "d7ee05ab",
   "metadata": {},
   "source": [
    "test if earliest date matches pre-computed"
   ]
  },
  {
   "cell_type": "code",
   "execution_count": 185,
   "id": "0684868a",
   "metadata": {},
   "outputs": [],
   "source": [
    "x <- left_join(x=del_full3, y=a1[,c(\"eid\",\"delirium_date\")], by=\"eid\") %>%\n",
    "    mutate(min_date = pmin(del.1_date, del.2_date, del.3_date, del.4_date, na.rm = T))"
   ]
  },
  {
   "cell_type": "code",
   "execution_count": 194,
   "id": "fd881a78",
   "metadata": {},
   "outputs": [
    {
     "data": {
      "text/html": [
       "<table class=\"dataframe\">\n",
       "<caption>A tibble: 5 × 13</caption>\n",
       "<thead>\n",
       "\t<tr><th scope=col>eid</th><th scope=col>del.1_code</th><th scope=col>del.1_date</th><th scope=col>del.2_code</th><th scope=col>del.2_date</th><th scope=col>del.3_code</th><th scope=col>del.3_date</th><th scope=col>del.4_code</th><th scope=col>del.4_date</th><th scope=col>del_count</th><th scope=col>delirium_date</th><th scope=col>min_date</th><th scope=col>diff</th></tr>\n",
       "\t<tr><th scope=col>&lt;int&gt;</th><th scope=col>&lt;chr&gt;</th><th scope=col>&lt;IDate&gt;</th><th scope=col>&lt;chr&gt;</th><th scope=col>&lt;IDate&gt;</th><th scope=col>&lt;chr&gt;</th><th scope=col>&lt;IDate&gt;</th><th scope=col>&lt;chr&gt;</th><th scope=col>&lt;IDate&gt;</th><th scope=col>&lt;int&gt;</th><th scope=col>&lt;IDate&gt;</th><th scope=col>&lt;IDate&gt;</th><th scope=col>&lt;dbl&gt;</th></tr>\n",
       "</thead>\n",
       "<tbody>\n",
       "\t<tr><td>2271419</td><td>F058</td><td>2022-01-16</td><td>NA  </td><td>NA</td><td>NA</td><td>NA</td><td>NA</td><td>NA</td><td>1</td><td>2014-08-27</td><td>2022-01-16</td><td>2699</td></tr>\n",
       "\t<tr><td>2433971</td><td>F050</td><td>2016-06-15</td><td>F059</td><td>2016-12-18</td><td>NA</td><td>NA</td><td>NA</td><td>NA</td><td>2</td><td>2015-06-15</td><td>2016-06-15</td><td> 366</td></tr>\n",
       "\t<tr><td>3690906</td><td>F058</td><td>2021-04-27</td><td>NA  </td><td>NA</td><td>NA</td><td>NA</td><td>NA</td><td>NA</td><td>1</td><td>2021-04-14</td><td>2021-04-27</td><td>  13</td></tr>\n",
       "\t<tr><td>4231015</td><td>F059</td><td>2022-09-05</td><td>NA  </td><td>NA</td><td>NA</td><td>NA</td><td>NA</td><td>NA</td><td>1</td><td>2014-10-06</td><td>2022-09-05</td><td>2891</td></tr>\n",
       "\t<tr><td>5397644</td><td>F059</td><td>2020-05-07</td><td>NA  </td><td>NA</td><td>NA</td><td>NA</td><td>NA</td><td>NA</td><td>1</td><td>2016-02-04</td><td>2020-05-07</td><td>1554</td></tr>\n",
       "</tbody>\n",
       "</table>\n"
      ],
      "text/latex": [
       "A tibble: 5 × 13\n",
       "\\begin{tabular}{lllllllllllll}\n",
       " eid & del.1\\_code & del.1\\_date & del.2\\_code & del.2\\_date & del.3\\_code & del.3\\_date & del.4\\_code & del.4\\_date & del\\_count & delirium\\_date & min\\_date & diff\\\\\n",
       " <int> & <chr> & <IDate> & <chr> & <IDate> & <chr> & <IDate> & <chr> & <IDate> & <int> & <IDate> & <IDate> & <dbl>\\\\\n",
       "\\hline\n",
       "\t 2271419 & F058 & 2022-01-16 & NA   & NA & NA & NA & NA & NA & 1 & 2014-08-27 & 2022-01-16 & 2699\\\\\n",
       "\t 2433971 & F050 & 2016-06-15 & F059 & 2016-12-18 & NA & NA & NA & NA & 2 & 2015-06-15 & 2016-06-15 &  366\\\\\n",
       "\t 3690906 & F058 & 2021-04-27 & NA   & NA & NA & NA & NA & NA & 1 & 2021-04-14 & 2021-04-27 &   13\\\\\n",
       "\t 4231015 & F059 & 2022-09-05 & NA   & NA & NA & NA & NA & NA & 1 & 2014-10-06 & 2022-09-05 & 2891\\\\\n",
       "\t 5397644 & F059 & 2020-05-07 & NA   & NA & NA & NA & NA & NA & 1 & 2016-02-04 & 2020-05-07 & 1554\\\\\n",
       "\\end{tabular}\n"
      ],
      "text/markdown": [
       "\n",
       "A tibble: 5 × 13\n",
       "\n",
       "| eid &lt;int&gt; | del.1_code &lt;chr&gt; | del.1_date &lt;IDate&gt; | del.2_code &lt;chr&gt; | del.2_date &lt;IDate&gt; | del.3_code &lt;chr&gt; | del.3_date &lt;IDate&gt; | del.4_code &lt;chr&gt; | del.4_date &lt;IDate&gt; | del_count &lt;int&gt; | delirium_date &lt;IDate&gt; | min_date &lt;IDate&gt; | diff &lt;dbl&gt; |\n",
       "|---|---|---|---|---|---|---|---|---|---|---|---|---|\n",
       "| 2271419 | F058 | 2022-01-16 | NA   | NA | NA | NA | NA | NA | 1 | 2014-08-27 | 2022-01-16 | 2699 |\n",
       "| 2433971 | F050 | 2016-06-15 | F059 | 2016-12-18 | NA | NA | NA | NA | 2 | 2015-06-15 | 2016-06-15 |  366 |\n",
       "| 3690906 | F058 | 2021-04-27 | NA   | NA | NA | NA | NA | NA | 1 | 2021-04-14 | 2021-04-27 |   13 |\n",
       "| 4231015 | F059 | 2022-09-05 | NA   | NA | NA | NA | NA | NA | 1 | 2014-10-06 | 2022-09-05 | 2891 |\n",
       "| 5397644 | F059 | 2020-05-07 | NA   | NA | NA | NA | NA | NA | 1 | 2016-02-04 | 2020-05-07 | 1554 |\n",
       "\n"
      ],
      "text/plain": [
       "  eid     del.1_code del.1_date del.2_code del.2_date del.3_code del.3_date\n",
       "1 2271419 F058       2022-01-16 NA         <NA>       NA         <NA>      \n",
       "2 2433971 F050       2016-06-15 F059       2016-12-18 NA         <NA>      \n",
       "3 3690906 F058       2021-04-27 NA         <NA>       NA         <NA>      \n",
       "4 4231015 F059       2022-09-05 NA         <NA>       NA         <NA>      \n",
       "5 5397644 F059       2020-05-07 NA         <NA>       NA         <NA>      \n",
       "  del.4_code del.4_date del_count delirium_date min_date   diff\n",
       "1 NA         <NA>       1         2014-08-27    2022-01-16 2699\n",
       "2 NA         <NA>       2         2015-06-15    2016-06-15  366\n",
       "3 NA         <NA>       1         2021-04-14    2021-04-27   13\n",
       "4 NA         <NA>       1         2014-10-06    2022-09-05 2891\n",
       "5 NA         <NA>       1         2016-02-04    2020-05-07 1554"
      ]
     },
     "metadata": {},
     "output_type": "display_data"
    }
   ],
   "source": [
    "x %>% mutate(diff = as.numeric(difftime(min_date, delirium_date, units=\"days\"))) %>%\n",
    "    filter(diff !=0)"
   ]
  },
  {
   "cell_type": "code",
   "execution_count": 179,
   "id": "cade67ec",
   "metadata": {},
   "outputs": [],
   "source": [
    "?pmin"
   ]
  },
  {
   "cell_type": "markdown",
   "id": "8e2a7bd9",
   "metadata": {},
   "source": [
    "Write full table"
   ]
  },
  {
   "cell_type": "code",
   "execution_count": 151,
   "id": "c6d65f68",
   "metadata": {},
   "outputs": [],
   "source": [
    "del_full_outfile <- \"/exports/cmvm/eddie/smgphs/groups/Quantgen/Users/vasilis/PHD/ukb.delirium.gwas/pheno_covar_files/ukb_all_del_full.txt\"\n",
    "write.table(del_full3, del_full_outfile, quote=F, sep=\" \", col.names=T, row.names=F)"
   ]
  }
 ],
 "metadata": {
  "kernelspec": {
   "display_name": "R",
   "language": "R",
   "name": "ir"
  },
  "language_info": {
   "codemirror_mode": "r",
   "file_extension": ".r",
   "mimetype": "text/x-r-source",
   "name": "R",
   "pygments_lexer": "r",
   "version": "4.3.2"
  }
 },
 "nbformat": 4,
 "nbformat_minor": 5
}
