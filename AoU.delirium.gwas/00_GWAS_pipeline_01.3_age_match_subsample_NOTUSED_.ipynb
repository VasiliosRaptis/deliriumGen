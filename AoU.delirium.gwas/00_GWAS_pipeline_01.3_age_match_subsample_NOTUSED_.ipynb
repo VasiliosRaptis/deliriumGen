{
 "cells": [
  {
   "cell_type": "markdown",
   "metadata": {},
   "source": [
    "**AUTHOR:** <br>\n",
    "Vasilis Raptis\n",
    "\n",
    "**DATE:** <br>\n",
    "31.05.2024 \n",
    "\n",
    "**PURPOSE:** <br>\n",
    "This notebook: \n",
    "- selects age-mathced controls for delirium cases in each ancestry with 1:5 ratio\n",
    "- creates pheno tables and id lists for plink and regenie\n",
    "- creates age destributions before and after matching\n",
    "- **UPDATE 06.06.24:** repeat for 1:10 ratio\n",
    "\n",
    "**NOTES:** <br>\n",
    "- Use Matchit package, see here: https://cran.r-project.org/web/packages/MatchIt/vignettes/MatchIt.html\n",
    "\n"
   ]
  },
  {
   "cell_type": "markdown",
   "metadata": {},
   "source": [
    "**Setup:**"
   ]
  },
  {
   "cell_type": "code",
   "execution_count": 2,
   "metadata": {},
   "outputs": [],
   "source": [
    "# Define the packages to be installed\n",
    "packages <- c(\"qqman\", \"R.utils\", \"MatchIt\", \"ggpubr\")\n",
    "\n",
    "# Install packages only if they are not already installed\n",
    "new_packages <- packages[!(packages %in% installed.packages()[, \"Package\"])]\n",
    "if(length(new_packages) > 0) {\n",
    "  install.packages(new_packages, dependencies = TRUE)\n",
    "}\n",
    "\n",
    "# libraries\n",
    "library(data.table)\n",
    "library(tidyverse)\n",
    "library(MatchIt)\n",
    "library(stringr)\n",
    "library(R.utils)\n",
    "library(ggplot2)\n",
    "library(ggpubr)\n",
    "\n",
    "## Get my bucket name\n",
    "my_bucket  <- Sys.getenv(\"WORKSPACE_BUCKET\")\n",
    "## Google project name\n",
    "GOOGLE_PROJECT <- Sys.getenv(\"GOOGLE_PROJECT\")"
   ]
  },
  {
   "cell_type": "markdown",
   "metadata": {},
   "source": [
    "**Load data:**"
   ]
  },
  {
   "cell_type": "code",
   "execution_count": 3,
   "metadata": {},
   "outputs": [
    {
     "data": {
      "text/html": [
       "<style>\n",
       ".list-inline {list-style: none; margin:0; padding: 0}\n",
       ".list-inline>li {display: inline-block}\n",
       ".list-inline>li:not(:last-child)::after {content: \"\\00b7\"; padding: 0 .5ex}\n",
       "</style>\n",
       "<ol class=list-inline><li>'gs://fc-secure-0e4de6e0-e2d7-4267-949d-7b1ad758a53f/data/pheno/clean/afr_ids_clean.txt'</li><li>'gs://fc-secure-0e4de6e0-e2d7-4267-949d-7b1ad758a53f/data/pheno/clean/afr_pheno_clean.txt'</li><li>'gs://fc-secure-0e4de6e0-e2d7-4267-949d-7b1ad758a53f/data/pheno/clean/amr_ids_clean.txt'</li><li>'gs://fc-secure-0e4de6e0-e2d7-4267-949d-7b1ad758a53f/data/pheno/clean/amr_pheno_clean.txt'</li><li>'gs://fc-secure-0e4de6e0-e2d7-4267-949d-7b1ad758a53f/data/pheno/clean/eur_ids_clean.txt'</li><li>'gs://fc-secure-0e4de6e0-e2d7-4267-949d-7b1ad758a53f/data/pheno/clean/eur_pheno_clean.txt'</li><li>'gs://fc-secure-0e4de6e0-e2d7-4267-949d-7b1ad758a53f/data/pheno/clean/1on5/'</li></ol>\n"
      ],
      "text/latex": [
       "\\begin{enumerate*}\n",
       "\\item 'gs://fc-secure-0e4de6e0-e2d7-4267-949d-7b1ad758a53f/data/pheno/clean/afr\\_ids\\_clean.txt'\n",
       "\\item 'gs://fc-secure-0e4de6e0-e2d7-4267-949d-7b1ad758a53f/data/pheno/clean/afr\\_pheno\\_clean.txt'\n",
       "\\item 'gs://fc-secure-0e4de6e0-e2d7-4267-949d-7b1ad758a53f/data/pheno/clean/amr\\_ids\\_clean.txt'\n",
       "\\item 'gs://fc-secure-0e4de6e0-e2d7-4267-949d-7b1ad758a53f/data/pheno/clean/amr\\_pheno\\_clean.txt'\n",
       "\\item 'gs://fc-secure-0e4de6e0-e2d7-4267-949d-7b1ad758a53f/data/pheno/clean/eur\\_ids\\_clean.txt'\n",
       "\\item 'gs://fc-secure-0e4de6e0-e2d7-4267-949d-7b1ad758a53f/data/pheno/clean/eur\\_pheno\\_clean.txt'\n",
       "\\item 'gs://fc-secure-0e4de6e0-e2d7-4267-949d-7b1ad758a53f/data/pheno/clean/1on5/'\n",
       "\\end{enumerate*}\n"
      ],
      "text/markdown": [
       "1. 'gs://fc-secure-0e4de6e0-e2d7-4267-949d-7b1ad758a53f/data/pheno/clean/afr_ids_clean.txt'\n",
       "2. 'gs://fc-secure-0e4de6e0-e2d7-4267-949d-7b1ad758a53f/data/pheno/clean/afr_pheno_clean.txt'\n",
       "3. 'gs://fc-secure-0e4de6e0-e2d7-4267-949d-7b1ad758a53f/data/pheno/clean/amr_ids_clean.txt'\n",
       "4. 'gs://fc-secure-0e4de6e0-e2d7-4267-949d-7b1ad758a53f/data/pheno/clean/amr_pheno_clean.txt'\n",
       "5. 'gs://fc-secure-0e4de6e0-e2d7-4267-949d-7b1ad758a53f/data/pheno/clean/eur_ids_clean.txt'\n",
       "6. 'gs://fc-secure-0e4de6e0-e2d7-4267-949d-7b1ad758a53f/data/pheno/clean/eur_pheno_clean.txt'\n",
       "7. 'gs://fc-secure-0e4de6e0-e2d7-4267-949d-7b1ad758a53f/data/pheno/clean/1on5/'\n",
       "\n",
       "\n"
      ],
      "text/plain": [
       "[1] \"gs://fc-secure-0e4de6e0-e2d7-4267-949d-7b1ad758a53f/data/pheno/clean/afr_ids_clean.txt\"  \n",
       "[2] \"gs://fc-secure-0e4de6e0-e2d7-4267-949d-7b1ad758a53f/data/pheno/clean/afr_pheno_clean.txt\"\n",
       "[3] \"gs://fc-secure-0e4de6e0-e2d7-4267-949d-7b1ad758a53f/data/pheno/clean/amr_ids_clean.txt\"  \n",
       "[4] \"gs://fc-secure-0e4de6e0-e2d7-4267-949d-7b1ad758a53f/data/pheno/clean/amr_pheno_clean.txt\"\n",
       "[5] \"gs://fc-secure-0e4de6e0-e2d7-4267-949d-7b1ad758a53f/data/pheno/clean/eur_ids_clean.txt\"  \n",
       "[6] \"gs://fc-secure-0e4de6e0-e2d7-4267-949d-7b1ad758a53f/data/pheno/clean/eur_pheno_clean.txt\"\n",
       "[7] \"gs://fc-secure-0e4de6e0-e2d7-4267-949d-7b1ad758a53f/data/pheno/clean/1on5/\"              "
      ]
     },
     "metadata": {},
     "output_type": "display_data"
    },
    {
     "data": {
      "text/html": [],
      "text/latex": [],
      "text/markdown": [],
      "text/plain": [
       "character(0)"
      ]
     },
     "metadata": {},
     "output_type": "display_data"
    },
    {
     "data": {
      "text/html": [
       "<style>\n",
       ".list-inline {list-style: none; margin:0; padding: 0}\n",
       ".list-inline>li {display: inline-block}\n",
       ".list-inline>li:not(:last-child)::after {content: \"\\00b7\"; padding: 0 .5ex}\n",
       "</style>\n",
       "<ol class=list-inline><li>'afr_pheno_clean_1on5.txt'</li><li>'afr_pheno_clean.txt'</li><li>'amr_pheno_clean_1on5.txt'</li><li>'amr_pheno_clean.txt'</li><li>'eur_pheno_clean_1on5.txt'</li><li>'eur_pheno_clean.txt'</li></ol>\n"
      ],
      "text/latex": [
       "\\begin{enumerate*}\n",
       "\\item 'afr\\_pheno\\_clean\\_1on5.txt'\n",
       "\\item 'afr\\_pheno\\_clean.txt'\n",
       "\\item 'amr\\_pheno\\_clean\\_1on5.txt'\n",
       "\\item 'amr\\_pheno\\_clean.txt'\n",
       "\\item 'eur\\_pheno\\_clean\\_1on5.txt'\n",
       "\\item 'eur\\_pheno\\_clean.txt'\n",
       "\\end{enumerate*}\n"
      ],
      "text/markdown": [
       "1. 'afr_pheno_clean_1on5.txt'\n",
       "2. 'afr_pheno_clean.txt'\n",
       "3. 'amr_pheno_clean_1on5.txt'\n",
       "4. 'amr_pheno_clean.txt'\n",
       "5. 'eur_pheno_clean_1on5.txt'\n",
       "6. 'eur_pheno_clean.txt'\n",
       "\n",
       "\n"
      ],
      "text/plain": [
       "[1] \"afr_pheno_clean_1on5.txt\" \"afr_pheno_clean.txt\"     \n",
       "[3] \"amr_pheno_clean_1on5.txt\" \"amr_pheno_clean.txt\"     \n",
       "[5] \"eur_pheno_clean_1on5.txt\" \"eur_pheno_clean.txt\"     "
      ]
     },
     "metadata": {},
     "output_type": "display_data"
    }
   ],
   "source": [
    "## List data in my bucket folder\n",
    "#system(paste0(\"gsutil ls \", my_bucket, \"/data/pheno\"), intern=T)\n",
    "system(paste0(\"gsutil ls \", my_bucket, \"/data/pheno/clean\"), intern=T)\n",
    "\n",
    "## Copy in workspace\n",
    "system(\"mkdir -p pheno/\")\n",
    "#system(paste0(\"gsutil cp \", my_bucket, \"/data/pheno/*_pheno.txt/\", \" \", \"pheno/\"), intern=T)\n",
    "system(paste0(\"gsutil cp \", my_bucket, \"/data/pheno/clean/*_pheno_clean.txt/\", \" \", \"pheno/\"), intern=T)\n",
    "\n",
    "## List data in workspace\n",
    "system(\"ls pheno/\", intern=T)\n",
    "## load into R\n",
    "eur <- fread(\"pheno/eur_pheno_clean.txt\")\n",
    "afr <- fread(\"pheno/afr_pheno_clean.txt\")\n",
    "amr <- fread(\"pheno/amr_pheno_clean.txt\")"
   ]
  },
  {
   "cell_type": "markdown",
   "metadata": {},
   "source": [
    "**Check initial imbalance for age & sex:**"
   ]
  },
  {
   "cell_type": "markdown",
   "metadata": {},
   "source": [
    "1. EUR"
   ]
  },
  {
   "cell_type": "code",
   "execution_count": 4,
   "metadata": {},
   "outputs": [
    {
     "data": {
      "text/plain": [
       "\n",
       "Call:\n",
       "matchit(formula = delirium_status ~ age + sex, data = eur, method = NULL, \n",
       "    distance = \"glm\")\n",
       "\n",
       "Summary of Balance for All Data:\n",
       "         Means Treated Means Control Std. Mean Diff. Var. Ratio eCDF Mean\n",
       "distance        0.0061        0.0054          0.3545     1.0354    0.0952\n",
       "age            62.2607       58.1026          0.2698     0.8240    0.0460\n",
       "sex             0.5445        0.3967          0.2967          .    0.1477\n",
       "         eCDF Max\n",
       "distance   0.1779\n",
       "age        0.1312\n",
       "sex        0.1477\n",
       "\n",
       "Sample Sizes:\n",
       "          Control Treated\n",
       "All        119824     652\n",
       "Matched    119824     652\n",
       "Unmatched       0       0\n",
       "Discarded       0       0\n"
      ]
     },
     "metadata": {},
     "output_type": "display_data"
    }
   ],
   "source": [
    "# No matching; constructing a pre-match matchit object\n",
    "m.eur0 <- matchit(delirium_status ~ age + sex, \n",
    "                  data = eur,\n",
    "                  method = NULL, \n",
    "                  distance = \"glm\")\n",
    "summary(m.eur0)"
   ]
  },
  {
   "cell_type": "markdown",
   "metadata": {},
   "source": [
    "2. AFR"
   ]
  },
  {
   "cell_type": "code",
   "execution_count": 5,
   "metadata": {},
   "outputs": [
    {
     "data": {
      "text/plain": [
       "\n",
       "Call:\n",
       "matchit(formula = delirium_status ~ age + sex, data = afr, method = NULL, \n",
       "    distance = \"glm\")\n",
       "\n",
       "Summary of Balance for All Data:\n",
       "         Means Treated Means Control Std. Mean Diff. Var. Ratio eCDF Mean\n",
       "distance        0.0046        0.0044          0.1769     1.0020    0.0413\n",
       "age            54.2489       52.3434          0.1273     1.0373    0.0243\n",
       "sex             0.4936        0.4299          0.1274          .    0.0637\n",
       "         eCDF Max\n",
       "distance   0.0808\n",
       "age        0.0743\n",
       "sex        0.0637\n",
       "\n",
       "Sample Sizes:\n",
       "          Control Treated\n",
       "All         52303     233\n",
       "Matched     52303     233\n",
       "Unmatched       0       0\n",
       "Discarded       0       0\n"
      ]
     },
     "metadata": {},
     "output_type": "display_data"
    }
   ],
   "source": [
    "m.afr0 <- matchit(delirium_status ~ age + sex, \n",
    "                  data = afr,\n",
    "                  method = NULL, \n",
    "                  distance = \"glm\")\n",
    "summary(m.afr0) # less imbalanced"
   ]
  },
  {
   "cell_type": "markdown",
   "metadata": {},
   "source": [
    "3. AMR"
   ]
  },
  {
   "cell_type": "code",
   "execution_count": 6,
   "metadata": {},
   "outputs": [
    {
     "data": {
      "text/plain": [
       "\n",
       "Call:\n",
       "matchit(formula = delirium_status ~ age + sex, data = amr, method = NULL, \n",
       "    distance = \"glm\")\n",
       "\n",
       "Summary of Balance for All Data:\n",
       "         Means Treated Means Control Std. Mean Diff. Var. Ratio eCDF Mean\n",
       "distance        0.0045        0.0029          0.5574     1.8229    0.1359\n",
       "age            57.6667       47.5474          0.6032     1.1305    0.1213\n",
       "sex             0.4359        0.3316          0.2104          .    0.1043\n",
       "         eCDF Max\n",
       "distance   0.3141\n",
       "age        0.3019\n",
       "sex        0.1043\n",
       "\n",
       "Sample Sizes:\n",
       "          Control Treated\n",
       "All         39979     117\n",
       "Matched     39979     117\n",
       "Unmatched       0       0\n",
       "Discarded       0       0\n"
      ]
     },
     "metadata": {},
     "output_type": "display_data"
    }
   ],
   "source": [
    "m.amr0 <- matchit(delirium_status ~ age + sex, \n",
    "                  data = amr,\n",
    "                  method = NULL, \n",
    "                  distance = \"glm\")\n",
    "summary(m.amr0) # more imbalanced"
   ]
  },
  {
   "cell_type": "markdown",
   "metadata": {},
   "source": [
    "**Matching:**"
   ]
  },
  {
   "cell_type": "markdown",
   "metadata": {},
   "source": [
    "1. EUR"
   ]
  },
  {
   "cell_type": "code",
   "execution_count": 9,
   "metadata": {},
   "outputs": [
    {
     "data": {
      "text/plain": [
       "A matchit object\n",
       " - method: 10:1 nearest neighbor matching without replacement\n",
       " - distance: Propensity score\n",
       "             - estimated with logistic regression\n",
       " - number of obs.: 120476 (original), 7172 (matched)\n",
       " - target estimand: ATT\n",
       " - covariates: age, sex"
      ]
     },
     "metadata": {},
     "output_type": "display_data"
    },
    {
     "data": {
      "text/plain": [
       "\n",
       "Call:\n",
       "matchit(formula = delirium_status ~ age + sex, data = eur, method = \"nearest\", \n",
       "    distance = \"glm\", ratio = ratio)\n",
       "\n",
       "Summary of Balance for Matched Data:\n",
       "         Means Treated Means Control Std. Mean Diff. Var. Ratio eCDF Mean\n",
       "distance        0.0061        0.0061         -0.0003     1.0026    0.0001\n",
       "age            62.2607       62.4798         -0.0142     1.0554    0.0022\n",
       "sex             0.5445        0.5397          0.0095          .    0.0048\n",
       "         eCDF Max Std. Pair Dist.\n",
       "distance   0.0031          0.0004\n",
       "age        0.0071          0.0142\n",
       "sex        0.0048          0.0095\n",
       "\n",
       "Sample Sizes:\n",
       "          Control Treated\n",
       "All        119824     652\n",
       "Matched      6520     652\n",
       "Unmatched  113304       0\n",
       "Discarded       0       0\n"
      ]
     },
     "metadata": {},
     "output_type": "display_data"
    }
   ],
   "source": [
    "ratio = 10\n",
    "# 1:ratio NN PS matching w/o replacement\n",
    "m.eur1 <- matchit(delirium_status ~ age + sex, \n",
    "                  data = eur,\n",
    "                  method = \"nearest\", # nearest neigbor matching\n",
    "                  distance = \"glm\",\n",
    "                  ratio = ratio\n",
    "                  )\n",
    "# matching summary\n",
    "m.eur1 \n",
    "summary(m.eur1, un=F)\n",
    "# plot Love plot\n",
    "#plot(summary(m.eur1, un=F))\n",
    "# plot jitter plot\n",
    "#plot(m.eur1, type = \"jitter\", interactive = FALSE)\n",
    "# plot density distributions\n",
    "#plot(m.eur1, type = \"density\", interactive = FALSE, which.xs = ~age + sex)"
   ]
  },
  {
   "cell_type": "code",
   "execution_count": 10,
   "metadata": {},
   "outputs": [
    {
     "data": {
      "text/html": [
       "<style>\n",
       ".list-inline {list-style: none; margin:0; padding: 0}\n",
       ".list-inline>li {display: inline-block}\n",
       ".list-inline>li:not(:last-child)::after {content: \"\\00b7\"; padding: 0 .5ex}\n",
       "</style>\n",
       "<ol class=list-inline><li>7172</li><li>18</li></ol>\n"
      ],
      "text/latex": [
       "\\begin{enumerate*}\n",
       "\\item 7172\n",
       "\\item 18\n",
       "\\end{enumerate*}\n"
      ],
      "text/markdown": [
       "1. 7172\n",
       "2. 18\n",
       "\n",
       "\n"
      ],
      "text/plain": [
       "[1] 7172   18"
      ]
     },
     "metadata": {},
     "output_type": "display_data"
    },
    {
     "data": {
      "text/html": [
       "<table class=\"dataframe\">\n",
       "<caption>A tibble: 2 × 7</caption>\n",
       "<thead>\n",
       "\t<tr><th scope=col>delirium_status</th><th scope=col>n</th><th scope=col>female (%)</th><th scope=col>age (mean)</th><th scope=col>age (median)</th><th scope=col>age (max)</th><th scope=col>age (min)</th></tr>\n",
       "\t<tr><th scope=col>&lt;int&gt;</th><th scope=col>&lt;int&gt;</th><th scope=col>&lt;dbl&gt;</th><th scope=col>&lt;dbl&gt;</th><th scope=col>&lt;dbl&gt;</th><th scope=col>&lt;dbl&gt;</th><th scope=col>&lt;dbl&gt;</th></tr>\n",
       "</thead>\n",
       "<tbody>\n",
       "\t<tr><td>0</td><td>6520</td><td>46.03</td><td>62.48</td><td>63</td><td>97</td><td>18</td></tr>\n",
       "\t<tr><td>1</td><td> 652</td><td>45.55</td><td>62.26</td><td>63</td><td>97</td><td> 6</td></tr>\n",
       "</tbody>\n",
       "</table>\n"
      ],
      "text/latex": [
       "A tibble: 2 × 7\n",
       "\\begin{tabular}{lllllll}\n",
       " delirium\\_status & n & female (\\%) & age (mean) & age (median) & age (max) & age (min)\\\\\n",
       " <int> & <int> & <dbl> & <dbl> & <dbl> & <dbl> & <dbl>\\\\\n",
       "\\hline\n",
       "\t 0 & 6520 & 46.03 & 62.48 & 63 & 97 & 18\\\\\n",
       "\t 1 &  652 & 45.55 & 62.26 & 63 & 97 &  6\\\\\n",
       "\\end{tabular}\n"
      ],
      "text/markdown": [
       "\n",
       "A tibble: 2 × 7\n",
       "\n",
       "| delirium_status &lt;int&gt; | n &lt;int&gt; | female (%) &lt;dbl&gt; | age (mean) &lt;dbl&gt; | age (median) &lt;dbl&gt; | age (max) &lt;dbl&gt; | age (min) &lt;dbl&gt; |\n",
       "|---|---|---|---|---|---|---|\n",
       "| 0 | 6520 | 46.03 | 62.48 | 63 | 97 | 18 |\n",
       "| 1 |  652 | 45.55 | 62.26 | 63 | 97 |  6 |\n",
       "\n"
      ],
      "text/plain": [
       "  delirium_status n    female (%) age (mean) age (median) age (max) age (min)\n",
       "1 0               6520 46.03      62.48      63           97        18       \n",
       "2 1                652 45.55      62.26      63           97         6       "
      ]
     },
     "metadata": {},
     "output_type": "display_data"
    }
   ],
   "source": [
    "# extract matched dataset\n",
    "eur_1on5 <- match.data(m.eur1)\n",
    "dim(eur_1on5)\n",
    "# check age and sex stats \n",
    "eur_1on5 %>% \n",
    "    group_by(delirium_status) %>% \n",
    "    summarise(n = n(),\n",
    "              `female (%)` = round((sum(sex==0)/n())*100,2),\n",
    "              `age (mean)` = round(mean(age),2),\n",
    "              `age (median)` = round(median(age),2),\n",
    "              `age (max)` = round(max(age),2),\n",
    "              `age (min)` = round(min(age),2)\n",
    "              )"
   ]
  },
  {
   "cell_type": "markdown",
   "metadata": {},
   "source": [
    "2. AFR:"
   ]
  },
  {
   "cell_type": "code",
   "execution_count": 13,
   "metadata": {},
   "outputs": [
    {
     "data": {
      "text/plain": [
       "A matchit object\n",
       " - method: 10:1 nearest neighbor matching without replacement\n",
       " - distance: Propensity score\n",
       "             - estimated with logistic regression\n",
       " - number of obs.: 52536 (original), 2563 (matched)\n",
       " - target estimand: ATT\n",
       " - covariates: age, sex"
      ]
     },
     "metadata": {},
     "output_type": "display_data"
    },
    {
     "data": {
      "text/plain": [
       "\n",
       "Call:\n",
       "matchit(formula = delirium_status ~ age + sex, data = afr, method = \"nearest\", \n",
       "    distance = \"glm\", ratio = ratio)\n",
       "\n",
       "Summary of Balance for Matched Data:\n",
       "         Means Treated Means Control Std. Mean Diff. Var. Ratio eCDF Mean\n",
       "distance        0.0046        0.0046          0.0001     1.0035    0.0001\n",
       "age            54.2489       54.4893         -0.0161     1.0620    0.0025\n",
       "sex             0.4936        0.4850          0.0172          .    0.0086\n",
       "         eCDF Max Std. Pair Dist.\n",
       "distance   0.0043          0.0001\n",
       "age        0.0086          0.0161\n",
       "sex        0.0086          0.0172\n",
       "\n",
       "Sample Sizes:\n",
       "          Control Treated\n",
       "All         52303     233\n",
       "Matched      2330     233\n",
       "Unmatched   49973       0\n",
       "Discarded       0       0\n"
      ]
     },
     "metadata": {},
     "output_type": "display_data"
    }
   ],
   "source": [
    "ratio=10\n",
    "# 1:ratio NN PS matching w/o replacement\n",
    "m.afr1 <- matchit(delirium_status ~ age + sex, \n",
    "                  data = afr,\n",
    "                  method = \"nearest\", # nearest neigbor matching\n",
    "                  distance = \"glm\",\n",
    "                  ratio = ratio\n",
    "                  )\n",
    "# matching summary\n",
    "m.afr1 \n",
    "summary(m.afr1, un=F)\n",
    "# plot Love plot\n",
    "#plot(summary(m.eur1, un=F))\n",
    "# plot jitter plot\n",
    "#plot(m.eur1, type = \"jitter\", interactive = FALSE)\n",
    "# plot density distributions\n",
    "#plot(m.afr1, type = \"density\", interactive = FALSE, which.xs = ~age + sex)"
   ]
  },
  {
   "cell_type": "code",
   "execution_count": 15,
   "metadata": {},
   "outputs": [
    {
     "data": {
      "text/html": [
       "<style>\n",
       ".list-inline {list-style: none; margin:0; padding: 0}\n",
       ".list-inline>li {display: inline-block}\n",
       ".list-inline>li:not(:last-child)::after {content: \"\\00b7\"; padding: 0 .5ex}\n",
       "</style>\n",
       "<ol class=list-inline><li>2563</li><li>18</li></ol>\n"
      ],
      "text/latex": [
       "\\begin{enumerate*}\n",
       "\\item 2563\n",
       "\\item 18\n",
       "\\end{enumerate*}\n"
      ],
      "text/markdown": [
       "1. 2563\n",
       "2. 18\n",
       "\n",
       "\n"
      ],
      "text/plain": [
       "[1] 2563   18"
      ]
     },
     "metadata": {},
     "output_type": "display_data"
    },
    {
     "data": {
      "text/html": [
       "<table class=\"dataframe\">\n",
       "<caption>A tibble: 2 × 7</caption>\n",
       "<thead>\n",
       "\t<tr><th scope=col>delirium_status</th><th scope=col>n</th><th scope=col>female (%)</th><th scope=col>age (mean)</th><th scope=col>age (median)</th><th scope=col>age (max)</th><th scope=col>age (min)</th></tr>\n",
       "\t<tr><th scope=col>&lt;int&gt;</th><th scope=col>&lt;int&gt;</th><th scope=col>&lt;dbl&gt;</th><th scope=col>&lt;dbl&gt;</th><th scope=col>&lt;dbl&gt;</th><th scope=col>&lt;dbl&gt;</th><th scope=col>&lt;dbl&gt;</th></tr>\n",
       "</thead>\n",
       "<tbody>\n",
       "\t<tr><td>0</td><td>2330</td><td>51.50</td><td>54.49</td><td>56</td><td>89</td><td>19</td></tr>\n",
       "\t<tr><td>1</td><td> 233</td><td>50.64</td><td>54.25</td><td>56</td><td>89</td><td>12</td></tr>\n",
       "</tbody>\n",
       "</table>\n"
      ],
      "text/latex": [
       "A tibble: 2 × 7\n",
       "\\begin{tabular}{lllllll}\n",
       " delirium\\_status & n & female (\\%) & age (mean) & age (median) & age (max) & age (min)\\\\\n",
       " <int> & <int> & <dbl> & <dbl> & <dbl> & <dbl> & <dbl>\\\\\n",
       "\\hline\n",
       "\t 0 & 2330 & 51.50 & 54.49 & 56 & 89 & 19\\\\\n",
       "\t 1 &  233 & 50.64 & 54.25 & 56 & 89 & 12\\\\\n",
       "\\end{tabular}\n"
      ],
      "text/markdown": [
       "\n",
       "A tibble: 2 × 7\n",
       "\n",
       "| delirium_status &lt;int&gt; | n &lt;int&gt; | female (%) &lt;dbl&gt; | age (mean) &lt;dbl&gt; | age (median) &lt;dbl&gt; | age (max) &lt;dbl&gt; | age (min) &lt;dbl&gt; |\n",
       "|---|---|---|---|---|---|---|\n",
       "| 0 | 2330 | 51.50 | 54.49 | 56 | 89 | 19 |\n",
       "| 1 |  233 | 50.64 | 54.25 | 56 | 89 | 12 |\n",
       "\n"
      ],
      "text/plain": [
       "  delirium_status n    female (%) age (mean) age (median) age (max) age (min)\n",
       "1 0               2330 51.50      54.49      56           89        19       \n",
       "2 1                233 50.64      54.25      56           89        12       "
      ]
     },
     "metadata": {},
     "output_type": "display_data"
    }
   ],
   "source": [
    "# extract matched dataset\n",
    "afr_1on5 <- match.data(m.afr1)\n",
    "dim(afr_1on5)\n",
    "# check age and sex stats \n",
    "afr_1on5 %>% \n",
    "    group_by(delirium_status) %>% \n",
    "    summarise(n = n(),\n",
    "              `female (%)` = round((sum(sex==0)/n())*100,2),\n",
    "              `age (mean)` = round(mean(age),2),\n",
    "              `age (median)` = round(median(age),2),\n",
    "              `age (max)` = round(max(age),2),\n",
    "              `age (min)` = round(min(age),2)\n",
    "              )"
   ]
  },
  {
   "cell_type": "markdown",
   "metadata": {},
   "source": [
    "3. AMR:"
   ]
  },
  {
   "cell_type": "code",
   "execution_count": 16,
   "metadata": {},
   "outputs": [
    {
     "data": {
      "text/plain": [
       "A matchit object\n",
       " - method: 10:1 nearest neighbor matching without replacement\n",
       " - distance: Propensity score\n",
       "             - estimated with logistic regression\n",
       " - number of obs.: 40096 (original), 1287 (matched)\n",
       " - target estimand: ATT\n",
       " - covariates: age, sex"
      ]
     },
     "metadata": {},
     "output_type": "display_data"
    },
    {
     "data": {
      "text/plain": [
       "\n",
       "Call:\n",
       "matchit(formula = delirium_status ~ age + sex, data = amr, method = \"nearest\", \n",
       "    distance = \"glm\", ratio = ratio)\n",
       "\n",
       "Summary of Balance for Matched Data:\n",
       "         Means Treated Means Control Std. Mean Diff. Var. Ratio eCDF Mean\n",
       "distance        0.0045        0.0045         -0.0005     1.0091    0.0001\n",
       "age            57.6667       57.7256         -0.0035     1.0261    0.0002\n",
       "sex             0.4359        0.4359          0.0000          .    0.0000\n",
       "         eCDF Max Std. Pair Dist.\n",
       "distance   0.0085          0.0005\n",
       "age        0.0085          0.0035\n",
       "sex        0.0000          0.0000\n",
       "\n",
       "Sample Sizes:\n",
       "          Control Treated\n",
       "All         39979     117\n",
       "Matched      1170     117\n",
       "Unmatched   38809       0\n",
       "Discarded       0       0\n"
      ]
     },
     "metadata": {},
     "output_type": "display_data"
    }
   ],
   "source": [
    "ratio=10\n",
    "# 1:ratio NN PS matching w/o replacement\n",
    "m.amr1 <- matchit(delirium_status ~ age + sex, \n",
    "                  data = amr,\n",
    "                  method = \"nearest\", # nearest neigbor matching\n",
    "                  distance = \"glm\",\n",
    "                  ratio = ratio\n",
    "                  )\n",
    "# matching summary\n",
    "m.amr1 \n",
    "summary(m.amr1, un=F)\n",
    "# plot Love plot\n",
    "#plot(summary(m.eur1, un=F))\n",
    "# plot jitter plot\n",
    "#plot(m.eur1, type = \"jitter\", interactive = FALSE)\n",
    "# plot density distributions\n",
    "#plot(m.amr1, type = \"density\", interactive = FALSE, which.xs = ~age + sex)"
   ]
  },
  {
   "cell_type": "code",
   "execution_count": 17,
   "metadata": {},
   "outputs": [
    {
     "data": {
      "text/html": [
       "<style>\n",
       ".list-inline {list-style: none; margin:0; padding: 0}\n",
       ".list-inline>li {display: inline-block}\n",
       ".list-inline>li:not(:last-child)::after {content: \"\\00b7\"; padding: 0 .5ex}\n",
       "</style>\n",
       "<ol class=list-inline><li>1287</li><li>18</li></ol>\n"
      ],
      "text/latex": [
       "\\begin{enumerate*}\n",
       "\\item 1287\n",
       "\\item 18\n",
       "\\end{enumerate*}\n"
      ],
      "text/markdown": [
       "1. 1287\n",
       "2. 18\n",
       "\n",
       "\n"
      ],
      "text/plain": [
       "[1] 1287   18"
      ]
     },
     "metadata": {},
     "output_type": "display_data"
    },
    {
     "data": {
      "text/html": [
       "<table class=\"dataframe\">\n",
       "<caption>A tibble: 2 × 7</caption>\n",
       "<thead>\n",
       "\t<tr><th scope=col>delirium_status</th><th scope=col>n</th><th scope=col>female (%)</th><th scope=col>age (mean)</th><th scope=col>age (median)</th><th scope=col>age (max)</th><th scope=col>age (min)</th></tr>\n",
       "\t<tr><th scope=col>&lt;int&gt;</th><th scope=col>&lt;int&gt;</th><th scope=col>&lt;dbl&gt;</th><th scope=col>&lt;dbl&gt;</th><th scope=col>&lt;dbl&gt;</th><th scope=col>&lt;dbl&gt;</th><th scope=col>&lt;dbl&gt;</th></tr>\n",
       "</thead>\n",
       "<tbody>\n",
       "\t<tr><td>0</td><td>1170</td><td>56.41</td><td>57.73</td><td>59</td><td>86</td><td>18</td></tr>\n",
       "\t<tr><td>1</td><td> 117</td><td>56.41</td><td>57.67</td><td>59</td><td>86</td><td>12</td></tr>\n",
       "</tbody>\n",
       "</table>\n"
      ],
      "text/latex": [
       "A tibble: 2 × 7\n",
       "\\begin{tabular}{lllllll}\n",
       " delirium\\_status & n & female (\\%) & age (mean) & age (median) & age (max) & age (min)\\\\\n",
       " <int> & <int> & <dbl> & <dbl> & <dbl> & <dbl> & <dbl>\\\\\n",
       "\\hline\n",
       "\t 0 & 1170 & 56.41 & 57.73 & 59 & 86 & 18\\\\\n",
       "\t 1 &  117 & 56.41 & 57.67 & 59 & 86 & 12\\\\\n",
       "\\end{tabular}\n"
      ],
      "text/markdown": [
       "\n",
       "A tibble: 2 × 7\n",
       "\n",
       "| delirium_status &lt;int&gt; | n &lt;int&gt; | female (%) &lt;dbl&gt; | age (mean) &lt;dbl&gt; | age (median) &lt;dbl&gt; | age (max) &lt;dbl&gt; | age (min) &lt;dbl&gt; |\n",
       "|---|---|---|---|---|---|---|\n",
       "| 0 | 1170 | 56.41 | 57.73 | 59 | 86 | 18 |\n",
       "| 1 |  117 | 56.41 | 57.67 | 59 | 86 | 12 |\n",
       "\n"
      ],
      "text/plain": [
       "  delirium_status n    female (%) age (mean) age (median) age (max) age (min)\n",
       "1 0               1170 56.41      57.73      59           86        18       \n",
       "2 1                117 56.41      57.67      59           86        12       "
      ]
     },
     "metadata": {},
     "output_type": "display_data"
    }
   ],
   "source": [
    "# extract matched dataset\n",
    "amr_1on5 <- match.data(m.amr1)\n",
    "dim(amr_1on5)\n",
    "# check age and sex stats \n",
    "amr_1on5 %>% \n",
    "    group_by(delirium_status) %>% \n",
    "    summarise(n = n(),\n",
    "              `female (%)` = round((sum(sex==0)/n())*100,2),\n",
    "              `age (mean)` = round(mean(age),2),\n",
    "              `age (median)` = round(median(age),2),\n",
    "              `age (max)` = round(max(age),2),\n",
    "              `age (min)` = round(min(age),2)\n",
    "              )"
   ]
  },
  {
   "cell_type": "markdown",
   "metadata": {},
   "source": [
    "**Make age distributions before and after matching:**"
   ]
  },
  {
   "cell_type": "code",
   "execution_count": 18,
   "metadata": {},
   "outputs": [],
   "source": [
    "xlim = c(0,110)\n",
    "ylim = c(0,0.032)\n",
    "\n",
    "\n",
    "# temp dfs\n",
    "### eur\n",
    "gg10 <- eur %>% mutate(delirium = ifelse(delirium_status==1, \"cases\", \"controls\"))\n",
    "gg11 <- eur_1on5 %>% mutate(delirium = ifelse(delirium_status==1, \"cases\", \"controls\"))\n",
    "# mean ages\n",
    "mu10 <- gg10 %>% group_by(delirium) %>% summarise(age.mean=mean(age))\n",
    "mu11 <- gg11 %>% group_by(delirium) %>% summarise(age.mean=mean(age))\n",
    "\n",
    "# Before matching\n",
    "p10 <-\n",
    "ggplot(gg10, aes(x = age, fill = delirium)) +\n",
    "    geom_density(alpha=0.2) +\n",
    "    geom_vline(data=mu10, aes(xintercept=age.mean, color=delirium), linetype=\"dashed\") + \n",
    "    xlim(xlim) + \n",
    "    ylim(ylim) + \n",
    "    #ggtitle(label = \"Age Density Distribution - EUR\", subtitle = \"Before Matching\") +\n",
    "    ggtitle(label = \"A. Before Matching\", subtitle = \"EUR\") +\n",
    "    theme_bw() + \n",
    "    xlab(\"\") + \n",
    "    rremove(\"y.title\") \n",
    "# After matching\n",
    "p11 <-\n",
    "ggplot(gg11, aes(x = age, fill = delirium)) +\n",
    "    geom_density(alpha=0.2) +\n",
    "    geom_vline(data=mu11, aes(xintercept=age.mean, color=delirium), linetype=\"dashed\") + \n",
    "    xlim(xlim) + \n",
    "    ylim(ylim) + \n",
    "    #ggtitle(label = NULL, subtitle = \"After Matching\") + \n",
    "    ggtitle(label = \"B. After Matching\", subtitle = \"EUR\") +\n",
    "    theme_bw() + \n",
    "    xlab(\"age\") + \n",
    "    rremove(\"y.title\") \n",
    "\n",
    "# ggarrange(p10, p11, \n",
    "#           nrow = 2, ncol=1,\n",
    "#           common.legend = TRUE, legend=\"right\"\n",
    "#           ) \n",
    "\n",
    "### afr\n",
    "gg20 <- afr %>% mutate(delirium = ifelse(delirium_status==1, \"cases\", \"controls\"))\n",
    "gg21 <- afr_1on5 %>% mutate(delirium = ifelse(delirium_status==1, \"cases\", \"controls\"))\n",
    "# mean ages\n",
    "mu20 <- gg20 %>% group_by(delirium) %>% summarise(age.mean=mean(age))\n",
    "mu21 <- gg21 %>% group_by(delirium) %>% summarise(age.mean=mean(age))\n",
    "\n",
    "# Before matching\n",
    "p20 <-\n",
    "ggplot(gg20, aes(x = age, fill = delirium)) +\n",
    "    geom_density(alpha=0.2) +\n",
    "    geom_vline(data=mu20, aes(xintercept=age.mean, color=delirium), linetype=\"dashed\") + \n",
    "    xlim(xlim) + \n",
    "    ylim(ylim) + \n",
    "    ggtitle(label = \"\", subtitle = \"AFR\") +\n",
    "    theme_bw() + \n",
    "    xlab(\"\") + \n",
    "    rremove(\"y.title\") + rremove(\"y.text\") + rremove(\"y.ticks\") \n",
    "# After matching\n",
    "p21 <-\n",
    "ggplot(gg21, aes(x = age, fill = delirium)) +\n",
    "    geom_density(alpha=0.2) +\n",
    "    geom_vline(data=mu21, aes(xintercept=age.mean, color=delirium), linetype=\"dashed\") + \n",
    "    xlim(xlim) + \n",
    "    ylim(ylim) + \n",
    "    ggtitle(label = \"\", subtitle = \"AFR\") + \n",
    "    theme_bw() + \n",
    "    xlab(\"age\") + \n",
    "    rremove(\"y.title\") + rremove(\"y.text\") + rremove(\"y.ticks\") \n",
    "# ggarrange(p10, p20, p11, p21, \n",
    "#           nrow = 2, ncol=2,\n",
    "#           common.legend = TRUE, legend=\"right\"\n",
    "#           ) \n",
    "\n",
    "### amr\n",
    "gg30 <- amr %>% mutate(delirium = ifelse(delirium_status==1, \"cases\", \"controls\"))\n",
    "gg31 <- amr_1on5 %>% mutate(delirium = ifelse(delirium_status==1, \"cases\", \"controls\"))\n",
    "# mean ages\n",
    "mu30 <- gg30 %>% group_by(delirium) %>% summarise(age.mean=mean(age))\n",
    "mu31 <- gg31 %>% group_by(delirium) %>% summarise(age.mean=mean(age))\n",
    "\n",
    "# Before matching\n",
    "p30 <-\n",
    "ggplot(gg30, aes(x = age, fill = delirium)) +\n",
    "    geom_density(alpha=0.2) +\n",
    "    geom_vline(data=mu30, aes(xintercept=age.mean, color=delirium), linetype=\"dashed\") + \n",
    "    xlim(xlim) + \n",
    "    ylim(ylim) + \n",
    "    ggtitle(label = \"\", subtitle = \"AMR\") +\n",
    "    theme_bw() + \n",
    "    xlab(\"\") + \n",
    "    rremove(\"y.title\") + rremove(\"y.text\") + rremove(\"y.ticks\") \n",
    "# After matching\n",
    "p31 <-\n",
    "ggplot(gg31, aes(x = age, fill = delirium)) +\n",
    "    geom_density(alpha=0.2) +\n",
    "    geom_vline(data=mu31, aes(xintercept=age.mean, color=delirium), linetype=\"dashed\") + \n",
    "    xlim(xlim) + \n",
    "    ylim(ylim) + \n",
    "    ggtitle(label = \"\", subtitle = \"AMR\") + \n",
    "    theme_bw() + \n",
    "    theme(legend.position =  \"bottom\") +  ## works to add this manually as legend in ggarrange\n",
    "    xlab(\"age\") + \n",
    "    rremove(\"y.title\") + rremove(\"y.text\") + rremove(\"y.ticks\") \n"
   ]
  },
  {
   "cell_type": "code",
   "execution_count": 19,
   "metadata": {
    "scrolled": true
   },
   "outputs": [
    {
     "name": "stderr",
     "output_type": "stream",
     "text": [
      "Warning message:\n",
      "“\u001b[1m\u001b[22mRemoved 2 rows containing non-finite outside the scale range\n",
      "(`stat_density()`).”\n",
      "\u001b[1m\u001b[22mSaving 6.67 x 6.67 in image\n",
      "\u001b[1m\u001b[22mSaving 6.67 x 6.67 in image\n"
     ]
    },
    {
     "data": {
      "image/png": "[encoded data removed]",
      "text/plain": [
       "plot without title"
      ]
     },
     "metadata": {
      "image/png": {
       "height": 420,
       "width": 420
      }
     },
     "output_type": "display_data"
    }
   ],
   "source": [
    "legend  <- get_legend(p31)\n",
    "agedist <- \n",
    "ggarrange(p10, p20, p30, p11, p21, p31, \n",
    "          nrow = 2, ncol=3,\n",
    "          common.legend = TRUE, legend=\"bottom\", \n",
    "          widths=c(1.08,1,1),\n",
    "          legend.grob = legend\n",
    "          ) \n",
    "\n",
    "annotate_figure(agedist,\n",
    "                top = text_grob(\"Age Distributions in AllofUs\", size = 14, vjust =0.5))\n",
    "\n",
    "\n",
    "ggsave(\"agedist1on10.png\", dpi = 400)\n",
    "ggsave(\"agedist1on10.pdf\", dpi = 400)"
   ]
  },
  {
   "cell_type": "markdown",
   "metadata": {},
   "source": [
    "**Save subsampled files:**"
   ]
  },
  {
   "cell_type": "code",
   "execution_count": 311,
   "metadata": {},
   "outputs": [
    {
     "data": {
      "text/html": [],
      "text/latex": [],
      "text/markdown": [],
      "text/plain": [
       "character(0)"
      ]
     },
     "metadata": {},
     "output_type": "display_data"
    },
    {
     "data": {
      "text/html": [],
      "text/latex": [],
      "text/markdown": [],
      "text/plain": [
       "character(0)"
      ]
     },
     "metadata": {},
     "output_type": "display_data"
    },
    {
     "data": {
      "text/html": [],
      "text/latex": [],
      "text/markdown": [],
      "text/plain": [
       "character(0)"
      ]
     },
     "metadata": {},
     "output_type": "display_data"
    }
   ],
   "source": [
    "## 1:5 case/control mathcing \n",
    "\n",
    "# save to workspace\n",
    "# write.table(eur_1on5[,1:15], \"pheno/eur_pheno_clean_1on5.txt\", sep=\" \", row.names=F, col.names=T, quote=F)\n",
    "# write.table(afr_1on5[,1:15], \"pheno/afr_pheno_clean_1on5.txt\", sep=\" \", row.names=F, col.names=T, quote=F)\n",
    "# write.table(amr_1on5[,1:15], \"pheno/amr_pheno_clean_1on5.txt\", sep=\" \", row.names=F, col.names=T, quote=F)\n",
    "\n",
    "# save to bucket\n",
    "# system(paste0(\"gsutil cp ./\", \"pheno/eur_pheno_clean_1on5.txt\", \" \", my_bucket, \"/data/pheno/clean/1on5/\"), intern=T)\n",
    "# system(paste0(\"gsutil cp ./\", \"pheno/afr_pheno_clean_1on5.txt\", \" \", my_bucket, \"/data/pheno/clean/1on5/\"), intern=T)\n",
    "# system(paste0(\"gsutil cp ./\", \"pheno/amr_pheno_clean_1on5.txt\", \" \", my_bucket, \"/data/pheno/clean/1on5/\"), intern=T)\n",
    "\n"
   ]
  },
  {
   "cell_type": "code",
   "execution_count": 20,
   "metadata": {},
   "outputs": [
    {
     "data": {
      "text/html": [],
      "text/latex": [],
      "text/markdown": [],
      "text/plain": [
       "character(0)"
      ]
     },
     "metadata": {},
     "output_type": "display_data"
    },
    {
     "data": {
      "text/html": [],
      "text/latex": [],
      "text/markdown": [],
      "text/plain": [
       "character(0)"
      ]
     },
     "metadata": {},
     "output_type": "display_data"
    },
    {
     "data": {
      "text/html": [],
      "text/latex": [],
      "text/markdown": [],
      "text/plain": [
       "character(0)"
      ]
     },
     "metadata": {},
     "output_type": "display_data"
    }
   ],
   "source": [
    "## 1:10 case/control mathcing \n",
    "\n",
    "# save to workspace\n",
    "write.table(eur_1on5[,1:15], \"pheno/eur_pheno_clean_1on10.txt\", sep=\" \", row.names=F, col.names=T, quote=F)\n",
    "write.table(afr_1on5[,1:15], \"pheno/afr_pheno_clean_1on10.txt\", sep=\" \", row.names=F, col.names=T, quote=F)\n",
    "write.table(amr_1on5[,1:15], \"pheno/amr_pheno_clean_1on10.txt\", sep=\" \", row.names=F, col.names=T, quote=F)\n",
    "\n",
    "# save to bucket\n",
    "system(paste0(\"gsutil cp ./\", \"pheno/eur_pheno_clean_1on10.txt\", \" \", my_bucket, \"/data/pheno/clean/1on10/\"), intern=T)\n",
    "system(paste0(\"gsutil cp ./\", \"pheno/afr_pheno_clean_1on10.txt\", \" \", my_bucket, \"/data/pheno/clean/1on10/\"), intern=T)\n",
    "system(paste0(\"gsutil cp ./\", \"pheno/amr_pheno_clean_1on10.txt\", \" \", my_bucket, \"/data/pheno/clean/1on10/\"), intern=T)\n",
    "\n"
   ]
  },
  {
   "cell_type": "markdown",
   "metadata": {},
   "source": [
    "**Make _ids files (to use with --keep in plink2) for subsampled data:**"
   ]
  },
  {
   "cell_type": "code",
   "execution_count": 21,
   "metadata": {},
   "outputs": [
    {
     "data": {
      "text/html": [
       "<style>\n",
       ".list-inline {list-style: none; margin:0; padding: 0}\n",
       ".list-inline>li {display: inline-block}\n",
       ".list-inline>li:not(:last-child)::after {content: \"\\00b7\"; padding: 0 .5ex}\n",
       "</style>\n",
       "<ol class=list-inline><li><span style=white-space:pre-wrap>'  52536 afr_ids.txt'</span></li><li><span style=white-space:pre-wrap>'   2563 afr_ids_clean_1on10.txt'</span></li><li><span style=white-space:pre-wrap>'   1398 afr_ids_clean_1on5.txt'</span></li><li><span style=white-space:pre-wrap>'  40096 amr_ids.txt'</span></li><li><span style=white-space:pre-wrap>'   1287 amr_ids_clean_1on10.txt'</span></li><li><span style=white-space:pre-wrap>'    702 amr_ids_clean_1on5.txt'</span></li><li>' 120476 eur_ids.txt'</li><li><span style=white-space:pre-wrap>'   7172 eur_ids_clean_1on10.txt'</span></li><li><span style=white-space:pre-wrap>'   3912 eur_ids_clean_1on5.txt'</span></li><li>' 230142 total'</li></ol>\n"
      ],
      "text/latex": [
       "\\begin{enumerate*}\n",
       "\\item '  52536 afr\\_ids.txt'\n",
       "\\item '   2563 afr\\_ids\\_clean\\_1on10.txt'\n",
       "\\item '   1398 afr\\_ids\\_clean\\_1on5.txt'\n",
       "\\item '  40096 amr\\_ids.txt'\n",
       "\\item '   1287 amr\\_ids\\_clean\\_1on10.txt'\n",
       "\\item '    702 amr\\_ids\\_clean\\_1on5.txt'\n",
       "\\item ' 120476 eur\\_ids.txt'\n",
       "\\item '   7172 eur\\_ids\\_clean\\_1on10.txt'\n",
       "\\item '   3912 eur\\_ids\\_clean\\_1on5.txt'\n",
       "\\item ' 230142 total'\n",
       "\\end{enumerate*}\n"
      ],
      "text/markdown": [
       "1. <span style=white-space:pre-wrap>'  52536 afr_ids.txt'</span>\n",
       "2. <span style=white-space:pre-wrap>'   2563 afr_ids_clean_1on10.txt'</span>\n",
       "3. <span style=white-space:pre-wrap>'   1398 afr_ids_clean_1on5.txt'</span>\n",
       "4. <span style=white-space:pre-wrap>'  40096 amr_ids.txt'</span>\n",
       "5. <span style=white-space:pre-wrap>'   1287 amr_ids_clean_1on10.txt'</span>\n",
       "6. <span style=white-space:pre-wrap>'    702 amr_ids_clean_1on5.txt'</span>\n",
       "7. ' 120476 eur_ids.txt'\n",
       "8. <span style=white-space:pre-wrap>'   7172 eur_ids_clean_1on10.txt'</span>\n",
       "9. <span style=white-space:pre-wrap>'   3912 eur_ids_clean_1on5.txt'</span>\n",
       "10. ' 230142 total'\n",
       "\n",
       "\n"
      ],
      "text/plain": [
       " [1] \"  52536 afr_ids.txt\"             \"   2563 afr_ids_clean_1on10.txt\"\n",
       " [3] \"   1398 afr_ids_clean_1on5.txt\"  \"  40096 amr_ids.txt\"            \n",
       " [5] \"   1287 amr_ids_clean_1on10.txt\" \"    702 amr_ids_clean_1on5.txt\" \n",
       " [7] \" 120476 eur_ids.txt\"             \"   7172 eur_ids_clean_1on10.txt\"\n",
       " [9] \"   3912 eur_ids_clean_1on5.txt\"  \" 230142 total\"                  "
      ]
     },
     "metadata": {},
     "output_type": "display_data"
    },
    {
     "data": {
      "text/html": [],
      "text/latex": [],
      "text/markdown": [],
      "text/plain": [
       "character(0)"
      ]
     },
     "metadata": {},
     "output_type": "display_data"
    },
    {
     "data": {
      "text/html": [
       "<style>\n",
       ".list-inline {list-style: none; margin:0; padding: 0}\n",
       ".list-inline>li {display: inline-block}\n",
       ".list-inline>li:not(:last-child)::after {content: \"\\00b7\"; padding: 0 .5ex}\n",
       "</style>\n",
       "<ol class=list-inline><li>'gs://fc-secure-0e4de6e0-e2d7-4267-949d-7b1ad758a53f/data/pheno/clean/1on10/afr_ids_clean_1on10.txt'</li><li>'gs://fc-secure-0e4de6e0-e2d7-4267-949d-7b1ad758a53f/data/pheno/clean/1on10/afr_pheno_clean_1on10.txt'</li><li>'gs://fc-secure-0e4de6e0-e2d7-4267-949d-7b1ad758a53f/data/pheno/clean/1on10/amr_ids_clean_1on10.txt'</li><li>'gs://fc-secure-0e4de6e0-e2d7-4267-949d-7b1ad758a53f/data/pheno/clean/1on10/amr_pheno_clean_1on10.txt'</li><li>'gs://fc-secure-0e4de6e0-e2d7-4267-949d-7b1ad758a53f/data/pheno/clean/1on10/eur_ids_clean_1on10.txt'</li><li>'gs://fc-secure-0e4de6e0-e2d7-4267-949d-7b1ad758a53f/data/pheno/clean/1on10/eur_pheno_clean_1on10.txt'</li></ol>\n"
      ],
      "text/latex": [
       "\\begin{enumerate*}\n",
       "\\item 'gs://fc-secure-0e4de6e0-e2d7-4267-949d-7b1ad758a53f/data/pheno/clean/1on10/afr\\_ids\\_clean\\_1on10.txt'\n",
       "\\item 'gs://fc-secure-0e4de6e0-e2d7-4267-949d-7b1ad758a53f/data/pheno/clean/1on10/afr\\_pheno\\_clean\\_1on10.txt'\n",
       "\\item 'gs://fc-secure-0e4de6e0-e2d7-4267-949d-7b1ad758a53f/data/pheno/clean/1on10/amr\\_ids\\_clean\\_1on10.txt'\n",
       "\\item 'gs://fc-secure-0e4de6e0-e2d7-4267-949d-7b1ad758a53f/data/pheno/clean/1on10/amr\\_pheno\\_clean\\_1on10.txt'\n",
       "\\item 'gs://fc-secure-0e4de6e0-e2d7-4267-949d-7b1ad758a53f/data/pheno/clean/1on10/eur\\_ids\\_clean\\_1on10.txt'\n",
       "\\item 'gs://fc-secure-0e4de6e0-e2d7-4267-949d-7b1ad758a53f/data/pheno/clean/1on10/eur\\_pheno\\_clean\\_1on10.txt'\n",
       "\\end{enumerate*}\n"
      ],
      "text/markdown": [
       "1. 'gs://fc-secure-0e4de6e0-e2d7-4267-949d-7b1ad758a53f/data/pheno/clean/1on10/afr_ids_clean_1on10.txt'\n",
       "2. 'gs://fc-secure-0e4de6e0-e2d7-4267-949d-7b1ad758a53f/data/pheno/clean/1on10/afr_pheno_clean_1on10.txt'\n",
       "3. 'gs://fc-secure-0e4de6e0-e2d7-4267-949d-7b1ad758a53f/data/pheno/clean/1on10/amr_ids_clean_1on10.txt'\n",
       "4. 'gs://fc-secure-0e4de6e0-e2d7-4267-949d-7b1ad758a53f/data/pheno/clean/1on10/amr_pheno_clean_1on10.txt'\n",
       "5. 'gs://fc-secure-0e4de6e0-e2d7-4267-949d-7b1ad758a53f/data/pheno/clean/1on10/eur_ids_clean_1on10.txt'\n",
       "6. 'gs://fc-secure-0e4de6e0-e2d7-4267-949d-7b1ad758a53f/data/pheno/clean/1on10/eur_pheno_clean_1on10.txt'\n",
       "\n",
       "\n"
      ],
      "text/plain": [
       "[1] \"gs://fc-secure-0e4de6e0-e2d7-4267-949d-7b1ad758a53f/data/pheno/clean/1on10/afr_ids_clean_1on10.txt\"  \n",
       "[2] \"gs://fc-secure-0e4de6e0-e2d7-4267-949d-7b1ad758a53f/data/pheno/clean/1on10/afr_pheno_clean_1on10.txt\"\n",
       "[3] \"gs://fc-secure-0e4de6e0-e2d7-4267-949d-7b1ad758a53f/data/pheno/clean/1on10/amr_ids_clean_1on10.txt\"  \n",
       "[4] \"gs://fc-secure-0e4de6e0-e2d7-4267-949d-7b1ad758a53f/data/pheno/clean/1on10/amr_pheno_clean_1on10.txt\"\n",
       "[5] \"gs://fc-secure-0e4de6e0-e2d7-4267-949d-7b1ad758a53f/data/pheno/clean/1on10/eur_ids_clean_1on10.txt\"  \n",
       "[6] \"gs://fc-secure-0e4de6e0-e2d7-4267-949d-7b1ad758a53f/data/pheno/clean/1on10/eur_pheno_clean_1on10.txt\""
      ]
     },
     "metadata": {},
     "output_type": "display_data"
    }
   ],
   "source": [
    "eur_ids <- eur_1on5 %>% select(FID,IID)\n",
    "afr_ids <- afr_1on5 %>% select(FID,IID)\n",
    "amr_ids <- amr_1on5 %>% select(FID,IID)\n",
    "## save .txt to workspace\n",
    "write.table(eur_ids, \"eur_ids_clean_1on10.txt\", sep=\" \", row.names=F, col.names=F, quote=F)\n",
    "write.table(afr_ids, \"afr_ids_clean_1on10.txt\", sep=\" \", row.names=F, col.names=F, quote=F)\n",
    "write.table(amr_ids, \"amr_ids_clean_1on10.txt\", sep=\" \", row.names=F, col.names=F, quote=F)\n",
    "## check\n",
    "system(\"wc -l *_ids*.txt\", intern=T)\n",
    "\n",
    "## save .txt to bucket\n",
    "system(paste0(\"gsutil cp ./\", \"*_ids_clean_1on10.txt\", \" \", my_bucket, \"/data/pheno/clean/1on10/\"), intern=T)\n",
    "\n",
    "## check\n",
    "system(paste0(\"gsutil ls \", my_bucket, \"/data/pheno/clean/1on10/*\"), intern=T)"
   ]
  }
 ],
 "metadata": {
  "kernelspec": {
   "display_name": "R",
   "language": "R",
   "name": "ir"
  },
  "language_info": {
   "codemirror_mode": "r",
   "file_extension": ".r",
   "mimetype": "text/x-r-source",
   "name": "R",
   "pygments_lexer": "r",
   "version": "4.4.0"
  },
  "toc": {
   "base_numbering": 1,
   "nav_menu": {},
   "number_sections": true,
   "sideBar": true,
   "skip_h1_title": false,
   "title_cell": "Table of Contents",
   "title_sidebar": "Contents",
   "toc_cell": false,
   "toc_position": {},
   "toc_section_display": true,
   "toc_window_display": false
  }
 },
 "nbformat": 4,
 "nbformat_minor": 2
}
