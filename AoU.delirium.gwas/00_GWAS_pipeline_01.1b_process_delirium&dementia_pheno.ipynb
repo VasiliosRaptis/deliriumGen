{
 "cells": [
  {
   "cell_type": "code",
   "execution_count": 46,
   "metadata": {},
   "outputs": [],
   "source": [
    "## Get my bucket name\n",
    "my_bucket  <- Sys.getenv(\"WORKSPACE_BUCKET\")\n",
    "## Google project name\n",
    "GOOGLE_PROJECT <- Sys.getenv(\"GOOGLE_PROJECT\")"
   ]
  },
  {
   "cell_type": "code",
   "execution_count": 1,
   "metadata": {},
   "outputs": [
    {
     "name": "stderr",
     "output_type": "stream",
     "text": [
      "── \u001b[1mAttaching core tidyverse packages\u001b[22m ──────────────────────── tidyverse 2.0.0 ──\n",
      "\u001b[32m✔\u001b[39m \u001b[34mdplyr    \u001b[39m 1.1.4     \u001b[32m✔\u001b[39m \u001b[34mreadr    \u001b[39m 2.1.5\n",
      "\u001b[32m✔\u001b[39m \u001b[34mforcats  \u001b[39m 1.0.0     \u001b[32m✔\u001b[39m \u001b[34mstringr  \u001b[39m 1.5.1\n",
      "\u001b[32m✔\u001b[39m \u001b[34mggplot2  \u001b[39m 3.5.1     \u001b[32m✔\u001b[39m \u001b[34mtibble   \u001b[39m 3.2.1\n",
      "\u001b[32m✔\u001b[39m \u001b[34mlubridate\u001b[39m 1.9.3     \u001b[32m✔\u001b[39m \u001b[34mtidyr    \u001b[39m 1.3.1\n",
      "\u001b[32m✔\u001b[39m \u001b[34mpurrr    \u001b[39m 1.0.2     \n",
      "── \u001b[1mConflicts\u001b[22m ────────────────────────────────────────── tidyverse_conflicts() ──\n",
      "\u001b[31m✖\u001b[39m \u001b[34mdplyr\u001b[39m::\u001b[32mfilter()\u001b[39m masks \u001b[34mstats\u001b[39m::filter()\n",
      "\u001b[31m✖\u001b[39m \u001b[34mdplyr\u001b[39m::\u001b[32mlag()\u001b[39m    masks \u001b[34mstats\u001b[39m::lag()\n",
      "\u001b[36mℹ\u001b[39m Use the conflicted package (\u001b[3m\u001b[34m<http://conflicted.r-lib.org/>\u001b[39m\u001b[23m) to force all conflicts to become errors\n",
      "The data will be written to gs://fc-secure-0e4de6e0-e2d7-4267-949d-7b1ad758a53f/bq_exports/vraptis@researchallofus.org/20241007/person_84799776/person_84799776_*.csv. Use this path when reading the data into your notebooks in the future.\n",
      "\n"
     ]
    }
   ],
   "source": [
    "library(tidyverse)\n",
    "library(bigrquery)\n",
    "\n",
    "# This query represents dataset \"delirium & dementia\" for domain \"person\" and was generated for All of Us Controlled Tier Dataset v7\n",
    "dataset_84799776_person_sql <- paste(\"\n",
    "    SELECT\n",
    "        person.person_id,\n",
    "        person.gender_concept_id,\n",
    "        p_gender_concept.concept_name as gender,\n",
    "        person.birth_datetime as date_of_birth,\n",
    "        person.race_concept_id,\n",
    "        p_race_concept.concept_name as race,\n",
    "        person.ethnicity_concept_id,\n",
    "        p_ethnicity_concept.concept_name as ethnicity,\n",
    "        person.sex_at_birth_concept_id,\n",
    "        p_sex_at_birth_concept.concept_name as sex_at_birth \n",
    "    FROM\n",
    "        `person` person \n",
    "    LEFT JOIN\n",
    "        `concept` p_gender_concept \n",
    "            ON person.gender_concept_id = p_gender_concept.concept_id \n",
    "    LEFT JOIN\n",
    "        `concept` p_race_concept \n",
    "            ON person.race_concept_id = p_race_concept.concept_id \n",
    "    LEFT JOIN\n",
    "        `concept` p_ethnicity_concept \n",
    "            ON person.ethnicity_concept_id = p_ethnicity_concept.concept_id \n",
    "    LEFT JOIN\n",
    "        `concept` p_sex_at_birth_concept \n",
    "            ON person.sex_at_birth_concept_id = p_sex_at_birth_concept.concept_id\", sep=\"\")\n",
    "\n",
    "# Formulate a Cloud Storage destination path for the data exported from BigQuery.\n",
    "# NOTE: By default data exported multiple times on the same day will overwrite older copies.\n",
    "#       But data exported on a different days will write to a new location so that historical\n",
    "#       copies can be kept as the dataset definition is changed.\n",
    "person_84799776_path <- file.path(\n",
    "  Sys.getenv(\"WORKSPACE_BUCKET\"),\n",
    "  \"bq_exports\",\n",
    "  Sys.getenv(\"OWNER_EMAIL\"),\n",
    "  strftime(lubridate::now(), \"%Y%m%d\"),  # Comment out this line if you want the export to always overwrite.\n",
    "  \"person_84799776\",\n",
    "  \"person_84799776_*.csv\")\n",
    "message(str_glue('The data will be written to {person_84799776_path}. Use this path when reading ',\n",
    "                 'the data into your notebooks in the future.'))\n",
    "\n",
    "# Perform the query and export the dataset to Cloud Storage as CSV files.\n",
    "# NOTE: You only need to run `bq_table_save` once. After that, you can\n",
    "#       just read data from the CSVs in Cloud Storage.\n",
    "bq_table_save(\n",
    "  bq_dataset_query(Sys.getenv(\"WORKSPACE_CDR\"), dataset_84799776_person_sql, billing = Sys.getenv(\"GOOGLE_PROJECT\")),\n",
    "  person_84799776_path,\n",
    "  destination_format = \"CSV\")\n",
    "\n"
   ]
  },
  {
   "cell_type": "code",
   "execution_count": 2,
   "metadata": {},
   "outputs": [
    {
     "name": "stderr",
     "output_type": "stream",
     "text": [
      "Loading gs://fc-secure-0e4de6e0-e2d7-4267-949d-7b1ad758a53f/bq_exports/vraptis@researchallofus.org/20241007/person_84799776/person_84799776_000000000000.csv.\n",
      "\n"
     ]
    },
    {
     "data": {
      "text/html": [
       "<style>\n",
       ".list-inline {list-style: none; margin:0; padding: 0}\n",
       ".list-inline>li {display: inline-block}\n",
       ".list-inline>li:not(:last-child)::after {content: \"\\00b7\"; padding: 0 .5ex}\n",
       "</style>\n",
       "<ol class=list-inline><li>413457</li><li>10</li></ol>\n"
      ],
      "text/latex": [
       "\\begin{enumerate*}\n",
       "\\item 413457\n",
       "\\item 10\n",
       "\\end{enumerate*}\n"
      ],
      "text/markdown": [
       "1. 413457\n",
       "2. 10\n",
       "\n",
       "\n"
      ],
      "text/plain": [
       "[1] 413457     10"
      ]
     },
     "metadata": {},
     "output_type": "display_data"
    },
    {
     "data": {
      "text/html": [
       "<table class=\"dataframe\">\n",
       "<caption>A tibble: 5 × 10</caption>\n",
       "<thead>\n",
       "\t<tr><th scope=col>person_id</th><th scope=col>gender_concept_id</th><th scope=col>gender</th><th scope=col>date_of_birth</th><th scope=col>race_concept_id</th><th scope=col>race</th><th scope=col>ethnicity_concept_id</th><th scope=col>ethnicity</th><th scope=col>sex_at_birth_concept_id</th><th scope=col>sex_at_birth</th></tr>\n",
       "\t<tr><th scope=col>&lt;dbl&gt;</th><th scope=col>&lt;dbl&gt;</th><th scope=col>&lt;chr&gt;</th><th scope=col>&lt;chr&gt;</th><th scope=col>&lt;dbl&gt;</th><th scope=col>&lt;chr&gt;</th><th scope=col>&lt;dbl&gt;</th><th scope=col>&lt;chr&gt;</th><th scope=col>&lt;dbl&gt;</th><th scope=col>&lt;chr&gt;</th></tr>\n",
       "</thead>\n",
       "<tbody>\n",
       "\t<tr><td>1036100</td><td>1585843</td><td>Gender Identity: Additional Options</td><td>1996-06-15 00:00:00 UTC</td><td>1177221</td><td>I prefer not to answer</td><td>903079</td><td>PMI: Prefer Not To Answer</td><td>4124462</td><td>None</td></tr>\n",
       "\t<tr><td>1938775</td><td>1585843</td><td>Gender Identity: Additional Options</td><td>1986-06-15 00:00:00 UTC</td><td>1177221</td><td>I prefer not to answer</td><td>903079</td><td>PMI: Prefer Not To Answer</td><td>4124462</td><td>None</td></tr>\n",
       "\t<tr><td>3028890</td><td>1585843</td><td>Gender Identity: Additional Options</td><td>1982-06-15 00:00:00 UTC</td><td>1177221</td><td>I prefer not to answer</td><td>903079</td><td>PMI: Prefer Not To Answer</td><td>4124462</td><td>None</td></tr>\n",
       "\t<tr><td>1944011</td><td>1177221</td><td>I prefer not to answer             </td><td>1967-06-15 00:00:00 UTC</td><td>1177221</td><td>I prefer not to answer</td><td>903079</td><td>PMI: Prefer Not To Answer</td><td>4124462</td><td>None</td></tr>\n",
       "\t<tr><td>2109271</td><td>1177221</td><td>I prefer not to answer             </td><td>1975-06-15 00:00:00 UTC</td><td>1177221</td><td>I prefer not to answer</td><td>903079</td><td>PMI: Prefer Not To Answer</td><td>4124462</td><td>None</td></tr>\n",
       "</tbody>\n",
       "</table>\n"
      ],
      "text/latex": [
       "A tibble: 5 × 10\n",
       "\\begin{tabular}{llllllllll}\n",
       " person\\_id & gender\\_concept\\_id & gender & date\\_of\\_birth & race\\_concept\\_id & race & ethnicity\\_concept\\_id & ethnicity & sex\\_at\\_birth\\_concept\\_id & sex\\_at\\_birth\\\\\n",
       " <dbl> & <dbl> & <chr> & <chr> & <dbl> & <chr> & <dbl> & <chr> & <dbl> & <chr>\\\\\n",
       "\\hline\n",
       "\t 1036100 & 1585843 & Gender Identity: Additional Options & 1996-06-15 00:00:00 UTC & 1177221 & I prefer not to answer & 903079 & PMI: Prefer Not To Answer & 4124462 & None\\\\\n",
       "\t 1938775 & 1585843 & Gender Identity: Additional Options & 1986-06-15 00:00:00 UTC & 1177221 & I prefer not to answer & 903079 & PMI: Prefer Not To Answer & 4124462 & None\\\\\n",
       "\t 3028890 & 1585843 & Gender Identity: Additional Options & 1982-06-15 00:00:00 UTC & 1177221 & I prefer not to answer & 903079 & PMI: Prefer Not To Answer & 4124462 & None\\\\\n",
       "\t 1944011 & 1177221 & I prefer not to answer              & 1967-06-15 00:00:00 UTC & 1177221 & I prefer not to answer & 903079 & PMI: Prefer Not To Answer & 4124462 & None\\\\\n",
       "\t 2109271 & 1177221 & I prefer not to answer              & 1975-06-15 00:00:00 UTC & 1177221 & I prefer not to answer & 903079 & PMI: Prefer Not To Answer & 4124462 & None\\\\\n",
       "\\end{tabular}\n"
      ],
      "text/markdown": [
       "\n",
       "A tibble: 5 × 10\n",
       "\n",
       "| person_id &lt;dbl&gt; | gender_concept_id &lt;dbl&gt; | gender &lt;chr&gt; | date_of_birth &lt;chr&gt; | race_concept_id &lt;dbl&gt; | race &lt;chr&gt; | ethnicity_concept_id &lt;dbl&gt; | ethnicity &lt;chr&gt; | sex_at_birth_concept_id &lt;dbl&gt; | sex_at_birth &lt;chr&gt; |\n",
       "|---|---|---|---|---|---|---|---|---|---|\n",
       "| 1036100 | 1585843 | Gender Identity: Additional Options | 1996-06-15 00:00:00 UTC | 1177221 | I prefer not to answer | 903079 | PMI: Prefer Not To Answer | 4124462 | None |\n",
       "| 1938775 | 1585843 | Gender Identity: Additional Options | 1986-06-15 00:00:00 UTC | 1177221 | I prefer not to answer | 903079 | PMI: Prefer Not To Answer | 4124462 | None |\n",
       "| 3028890 | 1585843 | Gender Identity: Additional Options | 1982-06-15 00:00:00 UTC | 1177221 | I prefer not to answer | 903079 | PMI: Prefer Not To Answer | 4124462 | None |\n",
       "| 1944011 | 1177221 | I prefer not to answer              | 1967-06-15 00:00:00 UTC | 1177221 | I prefer not to answer | 903079 | PMI: Prefer Not To Answer | 4124462 | None |\n",
       "| 2109271 | 1177221 | I prefer not to answer              | 1975-06-15 00:00:00 UTC | 1177221 | I prefer not to answer | 903079 | PMI: Prefer Not To Answer | 4124462 | None |\n",
       "\n"
      ],
      "text/plain": [
       "  person_id gender_concept_id gender                             \n",
       "1 1036100   1585843           Gender Identity: Additional Options\n",
       "2 1938775   1585843           Gender Identity: Additional Options\n",
       "3 3028890   1585843           Gender Identity: Additional Options\n",
       "4 1944011   1177221           I prefer not to answer             \n",
       "5 2109271   1177221           I prefer not to answer             \n",
       "  date_of_birth           race_concept_id race                  \n",
       "1 1996-06-15 00:00:00 UTC 1177221         I prefer not to answer\n",
       "2 1986-06-15 00:00:00 UTC 1177221         I prefer not to answer\n",
       "3 1982-06-15 00:00:00 UTC 1177221         I prefer not to answer\n",
       "4 1967-06-15 00:00:00 UTC 1177221         I prefer not to answer\n",
       "5 1975-06-15 00:00:00 UTC 1177221         I prefer not to answer\n",
       "  ethnicity_concept_id ethnicity                 sex_at_birth_concept_id\n",
       "1 903079               PMI: Prefer Not To Answer 4124462                \n",
       "2 903079               PMI: Prefer Not To Answer 4124462                \n",
       "3 903079               PMI: Prefer Not To Answer 4124462                \n",
       "4 903079               PMI: Prefer Not To Answer 4124462                \n",
       "5 903079               PMI: Prefer Not To Answer 4124462                \n",
       "  sex_at_birth\n",
       "1 None        \n",
       "2 None        \n",
       "3 None        \n",
       "4 None        \n",
       "5 None        "
      ]
     },
     "metadata": {},
     "output_type": "display_data"
    }
   ],
   "source": [
    "# Read the data directly from Cloud Storage into memory.\n",
    "# NOTE: Alternatively you can `gsutil -m cp {person_84799776_path}` to copy these files\n",
    "#       to the Jupyter disk.\n",
    "read_bq_export_from_workspace_bucket <- function(export_path) {\n",
    "  col_types <- cols(gender = col_character(), race = col_character(), ethnicity = col_character(), sex_at_birth = col_character())\n",
    "  bind_rows(\n",
    "    map(system2('gsutil', args = c('ls', export_path), stdout = TRUE, stderr = TRUE),\n",
    "        function(csv) {\n",
    "          message(str_glue('Loading {csv}.'))\n",
    "          chunk <- read_csv(pipe(str_glue('gsutil cat {csv}')), col_types = col_types, show_col_types = FALSE)\n",
    "          if (is.null(col_types)) {\n",
    "            col_types <- spec(chunk)\n",
    "          }\n",
    "          chunk\n",
    "        }))\n",
    "}\n",
    "dataset_84799776_person_df <- read_bq_export_from_workspace_bucket(person_84799776_path)\n",
    "\n",
    "dim(dataset_84799776_person_df)\n",
    "\n",
    "head(dataset_84799776_person_df, 5)"
   ]
  },
  {
   "cell_type": "code",
   "execution_count": 3,
   "metadata": {},
   "outputs": [
    {
     "name": "stderr",
     "output_type": "stream",
     "text": [
      "The data will be written to gs://fc-secure-0e4de6e0-e2d7-4267-949d-7b1ad758a53f/bq_exports/vraptis@researchallofus.org/20241007/condition_84799776/condition_84799776_*.csv. Use this path when reading the data into your notebooks in the future.\n",
      "\n"
     ]
    }
   ],
   "source": [
    "library(tidyverse)\n",
    "library(bigrquery)\n",
    "\n",
    "# This query represents dataset \"delirium & dementia\" for domain \"condition\" and was generated for All of Us Controlled Tier Dataset v7\n",
    "dataset_84799776_condition_sql <- paste(\"\n",
    "    SELECT\n",
    "        c_occurrence.person_id,\n",
    "        c_occurrence.condition_concept_id,\n",
    "        c_standard_concept.concept_name as standard_concept_name,\n",
    "        c_standard_concept.concept_code as standard_concept_code,\n",
    "        c_standard_concept.vocabulary_id as standard_vocabulary,\n",
    "        c_occurrence.condition_start_datetime,\n",
    "        c_occurrence.condition_end_datetime,\n",
    "        c_occurrence.condition_type_concept_id,\n",
    "        c_type.concept_name as condition_type_concept_name,\n",
    "        c_occurrence.stop_reason,\n",
    "        c_occurrence.visit_occurrence_id,\n",
    "        visit.concept_name as visit_occurrence_concept_name,\n",
    "        c_occurrence.condition_source_value,\n",
    "        c_occurrence.condition_source_concept_id,\n",
    "        c_source_concept.concept_name as source_concept_name,\n",
    "        c_source_concept.concept_code as source_concept_code,\n",
    "        c_source_concept.vocabulary_id as source_vocabulary,\n",
    "        c_occurrence.condition_status_source_value,\n",
    "        c_occurrence.condition_status_concept_id,\n",
    "        c_status.concept_name as condition_status_concept_name \n",
    "    FROM\n",
    "        ( SELECT\n",
    "            * \n",
    "        FROM\n",
    "            `condition_occurrence` c_occurrence \n",
    "        WHERE\n",
    "            (\n",
    "                condition_concept_id IN (SELECT\n",
    "                    DISTINCT c.concept_id \n",
    "                FROM\n",
    "                    `cb_criteria` c \n",
    "                JOIN\n",
    "                    (SELECT\n",
    "                        CAST(cr.id as string) AS id       \n",
    "                    FROM\n",
    "                        `cb_criteria` cr       \n",
    "                    WHERE\n",
    "                        concept_id IN (4182210)       \n",
    "                        AND full_text LIKE '%_rank1]%'      ) a \n",
    "                        ON (c.path LIKE CONCAT('%.', a.id, '.%') \n",
    "                        OR c.path LIKE CONCAT('%.', a.id) \n",
    "                        OR c.path LIKE CONCAT(a.id, '.%') \n",
    "                        OR c.path = a.id) \n",
    "                WHERE\n",
    "                    is_standard = 1 \n",
    "                    AND is_selectable = 1) \n",
    "                OR  condition_source_concept_id IN (SELECT\n",
    "                    DISTINCT c.concept_id \n",
    "                FROM\n",
    "                    `cb_criteria` c \n",
    "                JOIN\n",
    "                    (SELECT\n",
    "                        CAST(cr.id as string) AS id       \n",
    "                    FROM\n",
    "                        `cb_criteria` cr       \n",
    "                    WHERE\n",
    "                        concept_id IN (35207116, 44833398)       \n",
    "                        AND full_text LIKE '%_rank1]%'      ) a \n",
    "                        ON (c.path LIKE CONCAT('%.', a.id, '.%') \n",
    "                        OR c.path LIKE CONCAT('%.', a.id) \n",
    "                        OR c.path LIKE CONCAT(a.id, '.%') \n",
    "                        OR c.path = a.id) \n",
    "                WHERE\n",
    "                    is_standard = 0 \n",
    "                    AND is_selectable = 1)\n",
    "            )) c_occurrence \n",
    "    LEFT JOIN\n",
    "        `concept` c_standard_concept \n",
    "            ON c_occurrence.condition_concept_id = c_standard_concept.concept_id \n",
    "    LEFT JOIN\n",
    "        `concept` c_type \n",
    "            ON c_occurrence.condition_type_concept_id = c_type.concept_id \n",
    "    LEFT JOIN\n",
    "        `visit_occurrence` v \n",
    "            ON c_occurrence.visit_occurrence_id = v.visit_occurrence_id \n",
    "    LEFT JOIN\n",
    "        `concept` visit \n",
    "            ON v.visit_concept_id = visit.concept_id \n",
    "    LEFT JOIN\n",
    "        `concept` c_source_concept \n",
    "            ON c_occurrence.condition_source_concept_id = c_source_concept.concept_id \n",
    "    LEFT JOIN\n",
    "        `concept` c_status \n",
    "            ON c_occurrence.condition_status_concept_id = c_status.concept_id\", sep=\"\")\n",
    "\n",
    "# Formulate a Cloud Storage destination path for the data exported from BigQuery.\n",
    "# NOTE: By default data exported multiple times on the same day will overwrite older copies.\n",
    "#       But data exported on a different days will write to a new location so that historical\n",
    "#       copies can be kept as the dataset definition is changed.\n",
    "condition_84799776_path <- file.path(\n",
    "  Sys.getenv(\"WORKSPACE_BUCKET\"),\n",
    "  \"bq_exports\",\n",
    "  Sys.getenv(\"OWNER_EMAIL\"),\n",
    "  strftime(lubridate::now(), \"%Y%m%d\"),  # Comment out this line if you want the export to always overwrite.\n",
    "  \"condition_84799776\",\n",
    "  \"condition_84799776_*.csv\")\n",
    "message(str_glue('The data will be written to {condition_84799776_path}. Use this path when reading ',\n",
    "                 'the data into your notebooks in the future.'))\n",
    "\n",
    "# Perform the query and export the dataset to Cloud Storage as CSV files.\n",
    "# NOTE: You only need to run `bq_table_save` once. After that, you can\n",
    "#       just read data from the CSVs in Cloud Storage.\n",
    "bq_table_save(\n",
    "  bq_dataset_query(Sys.getenv(\"WORKSPACE_CDR\"), dataset_84799776_condition_sql, billing = Sys.getenv(\"GOOGLE_PROJECT\")),\n",
    "  condition_84799776_path,\n",
    "  destination_format = \"CSV\")\n",
    "\n"
   ]
  },
  {
   "cell_type": "code",
   "execution_count": 4,
   "metadata": {},
   "outputs": [
    {
     "name": "stderr",
     "output_type": "stream",
     "text": [
      "Loading gs://fc-secure-0e4de6e0-e2d7-4267-949d-7b1ad758a53f/bq_exports/vraptis@researchallofus.org/20241007/condition_84799776/condition_84799776_000000000000.csv.\n",
      "\n"
     ]
    },
    {
     "data": {
      "text/html": [
       "<style>\n",
       ".list-inline {list-style: none; margin:0; padding: 0}\n",
       ".list-inline>li {display: inline-block}\n",
       ".list-inline>li:not(:last-child)::after {content: \"\\00b7\"; padding: 0 .5ex}\n",
       "</style>\n",
       "<ol class=list-inline><li>47188</li><li>20</li></ol>\n"
      ],
      "text/latex": [
       "\\begin{enumerate*}\n",
       "\\item 47188\n",
       "\\item 20\n",
       "\\end{enumerate*}\n"
      ],
      "text/markdown": [
       "1. 47188\n",
       "2. 20\n",
       "\n",
       "\n"
      ],
      "text/plain": [
       "[1] 47188    20"
      ]
     },
     "metadata": {},
     "output_type": "display_data"
    },
    {
     "data": {
      "text/html": [
       "<table class=\"dataframe\">\n",
       "<caption>A tibble: 5 × 20</caption>\n",
       "<thead>\n",
       "\t<tr><th scope=col>person_id</th><th scope=col>condition_concept_id</th><th scope=col>standard_concept_name</th><th scope=col>standard_concept_code</th><th scope=col>standard_vocabulary</th><th scope=col>condition_start_datetime</th><th scope=col>condition_end_datetime</th><th scope=col>condition_type_concept_id</th><th scope=col>condition_type_concept_name</th><th scope=col>stop_reason</th><th scope=col>visit_occurrence_id</th><th scope=col>visit_occurrence_concept_name</th><th scope=col>condition_source_value</th><th scope=col>condition_source_concept_id</th><th scope=col>source_concept_name</th><th scope=col>source_concept_code</th><th scope=col>source_vocabulary</th><th scope=col>condition_status_source_value</th><th scope=col>condition_status_concept_id</th><th scope=col>condition_status_concept_name</th></tr>\n",
       "\t<tr><th scope=col>&lt;dbl&gt;</th><th scope=col>&lt;dbl&gt;</th><th scope=col>&lt;chr&gt;</th><th scope=col>&lt;chr&gt;</th><th scope=col>&lt;chr&gt;</th><th scope=col>&lt;chr&gt;</th><th scope=col>&lt;chr&gt;</th><th scope=col>&lt;dbl&gt;</th><th scope=col>&lt;chr&gt;</th><th scope=col>&lt;chr&gt;</th><th scope=col>&lt;dbl&gt;</th><th scope=col>&lt;chr&gt;</th><th scope=col>&lt;chr&gt;</th><th scope=col>&lt;dbl&gt;</th><th scope=col>&lt;chr&gt;</th><th scope=col>&lt;chr&gt;</th><th scope=col>&lt;chr&gt;</th><th scope=col>&lt;chr&gt;</th><th scope=col>&lt;dbl&gt;</th><th scope=col>&lt;chr&gt;</th></tr>\n",
       "</thead>\n",
       "<tbody>\n",
       "\t<tr><td>1387888</td><td>  375791</td><td>Uncomplicated senile dementia           </td><td>191449005    </td><td>SNOMED</td><td>2014-08-12 00:00:00 UTC</td><td>NA                     </td><td>44786629</td><td>Secondary Condition</td><td>NA</td><td>9.0e+15</td><td>Office Visit    </td><td>290.0 </td><td>44835772</td><td>Senile dementia, uncomplicated                                         </td><td>290.0 </td><td>ICD9CM </td><td>NA</td><td>NA</td><td>NA</td></tr>\n",
       "\t<tr><td>1399242</td><td> 4182210</td><td>Dementia                                </td><td>52448006     </td><td>SNOMED</td><td>1983-03-21 06:00:00 UTC</td><td>NA                     </td><td>   32821</td><td>EHR billing record </td><td>NA</td><td>4.2e+16</td><td>Outpatient Visit</td><td>290   </td><td>44824105</td><td>Dementias                                                              </td><td>290   </td><td>ICD9CM </td><td>NA</td><td>NA</td><td>NA</td></tr>\n",
       "\t<tr><td>2183968</td><td>43530666</td><td>Dementia with behavioral disturbance    </td><td>1591000119103</td><td>SNOMED</td><td>2021-11-08 00:00:00 UTC</td><td>2021-11-08 11:59:59 UTC</td><td>44786629</td><td>Secondary Condition</td><td>NA</td><td>2.7e+16</td><td>Inpatient Visit </td><td>F03.91</td><td>45595843</td><td>Unspecified dementia with behavioral disturbance                       </td><td>F03.91</td><td>ICD10CM</td><td>NA</td><td>NA</td><td>NA</td></tr>\n",
       "\t<tr><td>1859387</td><td>  374888</td><td>Dementia associated with another disease</td><td>191519005    </td><td>SNOMED</td><td>1999-04-30 00:00:00 UTC</td><td>1999-04-30 11:59:59 UTC</td><td>44786627</td><td>Primary Condition  </td><td>NA</td><td>2.7e+16</td><td>Outpatient Visit</td><td>294.1 </td><td>44821814</td><td>Dementia in conditions classified elsewhere                            </td><td>294.1 </td><td>ICD9CM </td><td>NA</td><td>NA</td><td>NA</td></tr>\n",
       "\t<tr><td>1268114</td><td>  374888</td><td>Dementia associated with another disease</td><td>191519005    </td><td>SNOMED</td><td>2019-06-03 14:56:00 UTC</td><td>NA                     </td><td>       0</td><td>No matching concept</td><td>NA</td><td>4.4e+16</td><td>Outpatient Visit</td><td>294.11</td><td>44827644</td><td>Dementia in conditions classified elsewhere with behavioral disturbance</td><td>294.11</td><td>ICD9CM </td><td>NA</td><td>NA</td><td>NA</td></tr>\n",
       "</tbody>\n",
       "</table>\n"
      ],
      "text/latex": [
       "A tibble: 5 × 20\n",
       "\\begin{tabular}{llllllllllllllllllll}\n",
       " person\\_id & condition\\_concept\\_id & standard\\_concept\\_name & standard\\_concept\\_code & standard\\_vocabulary & condition\\_start\\_datetime & condition\\_end\\_datetime & condition\\_type\\_concept\\_id & condition\\_type\\_concept\\_name & stop\\_reason & visit\\_occurrence\\_id & visit\\_occurrence\\_concept\\_name & condition\\_source\\_value & condition\\_source\\_concept\\_id & source\\_concept\\_name & source\\_concept\\_code & source\\_vocabulary & condition\\_status\\_source\\_value & condition\\_status\\_concept\\_id & condition\\_status\\_concept\\_name\\\\\n",
       " <dbl> & <dbl> & <chr> & <chr> & <chr> & <chr> & <chr> & <dbl> & <chr> & <chr> & <dbl> & <chr> & <chr> & <dbl> & <chr> & <chr> & <chr> & <chr> & <dbl> & <chr>\\\\\n",
       "\\hline\n",
       "\t 1387888 &   375791 & Uncomplicated senile dementia            & 191449005     & SNOMED & 2014-08-12 00:00:00 UTC & NA                      & 44786629 & Secondary Condition & NA & 9.0e+15 & Office Visit     & 290.0  & 44835772 & Senile dementia, uncomplicated                                          & 290.0  & ICD9CM  & NA & NA & NA\\\\\n",
       "\t 1399242 &  4182210 & Dementia                                 & 52448006      & SNOMED & 1983-03-21 06:00:00 UTC & NA                      &    32821 & EHR billing record  & NA & 4.2e+16 & Outpatient Visit & 290    & 44824105 & Dementias                                                               & 290    & ICD9CM  & NA & NA & NA\\\\\n",
       "\t 2183968 & 43530666 & Dementia with behavioral disturbance     & 1591000119103 & SNOMED & 2021-11-08 00:00:00 UTC & 2021-11-08 11:59:59 UTC & 44786629 & Secondary Condition & NA & 2.7e+16 & Inpatient Visit  & F03.91 & 45595843 & Unspecified dementia with behavioral disturbance                        & F03.91 & ICD10CM & NA & NA & NA\\\\\n",
       "\t 1859387 &   374888 & Dementia associated with another disease & 191519005     & SNOMED & 1999-04-30 00:00:00 UTC & 1999-04-30 11:59:59 UTC & 44786627 & Primary Condition   & NA & 2.7e+16 & Outpatient Visit & 294.1  & 44821814 & Dementia in conditions classified elsewhere                             & 294.1  & ICD9CM  & NA & NA & NA\\\\\n",
       "\t 1268114 &   374888 & Dementia associated with another disease & 191519005     & SNOMED & 2019-06-03 14:56:00 UTC & NA                      &        0 & No matching concept & NA & 4.4e+16 & Outpatient Visit & 294.11 & 44827644 & Dementia in conditions classified elsewhere with behavioral disturbance & 294.11 & ICD9CM  & NA & NA & NA\\\\\n",
       "\\end{tabular}\n"
      ],
      "text/markdown": [
       "\n",
       "A tibble: 5 × 20\n",
       "\n",
       "| person_id &lt;dbl&gt; | condition_concept_id &lt;dbl&gt; | standard_concept_name &lt;chr&gt; | standard_concept_code &lt;chr&gt; | standard_vocabulary &lt;chr&gt; | condition_start_datetime &lt;chr&gt; | condition_end_datetime &lt;chr&gt; | condition_type_concept_id &lt;dbl&gt; | condition_type_concept_name &lt;chr&gt; | stop_reason &lt;chr&gt; | visit_occurrence_id &lt;dbl&gt; | visit_occurrence_concept_name &lt;chr&gt; | condition_source_value &lt;chr&gt; | condition_source_concept_id &lt;dbl&gt; | source_concept_name &lt;chr&gt; | source_concept_code &lt;chr&gt; | source_vocabulary &lt;chr&gt; | condition_status_source_value &lt;chr&gt; | condition_status_concept_id &lt;dbl&gt; | condition_status_concept_name &lt;chr&gt; |\n",
       "|---|---|---|---|---|---|---|---|---|---|---|---|---|---|---|---|---|---|---|---|\n",
       "| 1387888 |   375791 | Uncomplicated senile dementia            | 191449005     | SNOMED | 2014-08-12 00:00:00 UTC | NA                      | 44786629 | Secondary Condition | NA | 9.0e+15 | Office Visit     | 290.0  | 44835772 | Senile dementia, uncomplicated                                          | 290.0  | ICD9CM  | NA | NA | NA |\n",
       "| 1399242 |  4182210 | Dementia                                 | 52448006      | SNOMED | 1983-03-21 06:00:00 UTC | NA                      |    32821 | EHR billing record  | NA | 4.2e+16 | Outpatient Visit | 290    | 44824105 | Dementias                                                               | 290    | ICD9CM  | NA | NA | NA |\n",
       "| 2183968 | 43530666 | Dementia with behavioral disturbance     | 1591000119103 | SNOMED | 2021-11-08 00:00:00 UTC | 2021-11-08 11:59:59 UTC | 44786629 | Secondary Condition | NA | 2.7e+16 | Inpatient Visit  | F03.91 | 45595843 | Unspecified dementia with behavioral disturbance                        | F03.91 | ICD10CM | NA | NA | NA |\n",
       "| 1859387 |   374888 | Dementia associated with another disease | 191519005     | SNOMED | 1999-04-30 00:00:00 UTC | 1999-04-30 11:59:59 UTC | 44786627 | Primary Condition   | NA | 2.7e+16 | Outpatient Visit | 294.1  | 44821814 | Dementia in conditions classified elsewhere                             | 294.1  | ICD9CM  | NA | NA | NA |\n",
       "| 1268114 |   374888 | Dementia associated with another disease | 191519005     | SNOMED | 2019-06-03 14:56:00 UTC | NA                      |        0 | No matching concept | NA | 4.4e+16 | Outpatient Visit | 294.11 | 44827644 | Dementia in conditions classified elsewhere with behavioral disturbance | 294.11 | ICD9CM  | NA | NA | NA |\n",
       "\n"
      ],
      "text/plain": [
       "  person_id condition_concept_id standard_concept_name                   \n",
       "1 1387888     375791             Uncomplicated senile dementia           \n",
       "2 1399242    4182210             Dementia                                \n",
       "3 2183968   43530666             Dementia with behavioral disturbance    \n",
       "4 1859387     374888             Dementia associated with another disease\n",
       "5 1268114     374888             Dementia associated with another disease\n",
       "  standard_concept_code standard_vocabulary condition_start_datetime\n",
       "1 191449005             SNOMED              2014-08-12 00:00:00 UTC \n",
       "2 52448006              SNOMED              1983-03-21 06:00:00 UTC \n",
       "3 1591000119103         SNOMED              2021-11-08 00:00:00 UTC \n",
       "4 191519005             SNOMED              1999-04-30 00:00:00 UTC \n",
       "5 191519005             SNOMED              2019-06-03 14:56:00 UTC \n",
       "  condition_end_datetime  condition_type_concept_id condition_type_concept_name\n",
       "1 NA                      44786629                  Secondary Condition        \n",
       "2 NA                         32821                  EHR billing record         \n",
       "3 2021-11-08 11:59:59 UTC 44786629                  Secondary Condition        \n",
       "4 1999-04-30 11:59:59 UTC 44786627                  Primary Condition          \n",
       "5 NA                             0                  No matching concept        \n",
       "  stop_reason visit_occurrence_id visit_occurrence_concept_name\n",
       "1 NA          9.0e+15             Office Visit                 \n",
       "2 NA          4.2e+16             Outpatient Visit             \n",
       "3 NA          2.7e+16             Inpatient Visit              \n",
       "4 NA          2.7e+16             Outpatient Visit             \n",
       "5 NA          4.4e+16             Outpatient Visit             \n",
       "  condition_source_value condition_source_concept_id\n",
       "1 290.0                  44835772                   \n",
       "2 290                    44824105                   \n",
       "3 F03.91                 45595843                   \n",
       "4 294.1                  44821814                   \n",
       "5 294.11                 44827644                   \n",
       "  source_concept_name                                                    \n",
       "1 Senile dementia, uncomplicated                                         \n",
       "2 Dementias                                                              \n",
       "3 Unspecified dementia with behavioral disturbance                       \n",
       "4 Dementia in conditions classified elsewhere                            \n",
       "5 Dementia in conditions classified elsewhere with behavioral disturbance\n",
       "  source_concept_code source_vocabulary condition_status_source_value\n",
       "1 290.0               ICD9CM            NA                           \n",
       "2 290                 ICD9CM            NA                           \n",
       "3 F03.91              ICD10CM           NA                           \n",
       "4 294.1               ICD9CM            NA                           \n",
       "5 294.11              ICD9CM            NA                           \n",
       "  condition_status_concept_id condition_status_concept_name\n",
       "1 NA                          NA                           \n",
       "2 NA                          NA                           \n",
       "3 NA                          NA                           \n",
       "4 NA                          NA                           \n",
       "5 NA                          NA                           "
      ]
     },
     "metadata": {},
     "output_type": "display_data"
    }
   ],
   "source": [
    "# Read the data directly from Cloud Storage into memory.\n",
    "# NOTE: Alternatively you can `gsutil -m cp {condition_84799776_path}` to copy these files\n",
    "#       to the Jupyter disk.\n",
    "read_bq_export_from_workspace_bucket <- function(export_path) {\n",
    "  col_types <- cols(standard_concept_name = col_character(), standard_concept_code = col_character(), standard_vocabulary = col_character(), condition_type_concept_name = col_character(), stop_reason = col_character(), visit_occurrence_concept_name = col_character(), condition_source_value = col_character(), source_concept_name = col_character(), source_concept_code = col_character(), source_vocabulary = col_character(), condition_status_source_value = col_character(), condition_status_concept_name = col_character())\n",
    "  bind_rows(\n",
    "    map(system2('gsutil', args = c('ls', export_path), stdout = TRUE, stderr = TRUE),\n",
    "        function(csv) {\n",
    "          message(str_glue('Loading {csv}.'))\n",
    "          chunk <- read_csv(pipe(str_glue('gsutil cat {csv}')), col_types = col_types, show_col_types = FALSE)\n",
    "          if (is.null(col_types)) {\n",
    "            col_types <- spec(chunk)\n",
    "          }\n",
    "          chunk\n",
    "        }))\n",
    "}\n",
    "dataset_84799776_condition_df <- read_bq_export_from_workspace_bucket(condition_84799776_path)\n",
    "\n",
    "dim(dataset_84799776_condition_df)\n",
    "\n",
    "head(dataset_84799776_condition_df, 5)"
   ]
  },
  {
   "cell_type": "code",
   "execution_count": 5,
   "metadata": {},
   "outputs": [
    {
     "name": "stderr",
     "output_type": "stream",
     "text": [
      "The data will be written to gs://fc-secure-0e4de6e0-e2d7-4267-949d-7b1ad758a53f/bq_exports/vraptis@researchallofus.org/20241007/drug_84799776/drug_84799776_*.csv. Use this path when reading the data into your notebooks in the future.\n",
      "\n"
     ]
    }
   ],
   "source": [
    "library(tidyverse)\n",
    "library(bigrquery)\n",
    "\n",
    "# This query represents dataset \"delirium & dementia\" for domain \"drug\" and was generated for All of Us Controlled Tier Dataset v7\n",
    "dataset_84799776_drug_sql <- paste(\"\n",
    "    SELECT\n",
    "        d_exposure.person_id,\n",
    "        d_exposure.drug_concept_id,\n",
    "        d_standard_concept.concept_name as standard_concept_name,\n",
    "        d_standard_concept.concept_code as standard_concept_code,\n",
    "        d_standard_concept.vocabulary_id as standard_vocabulary,\n",
    "        d_exposure.drug_exposure_start_datetime,\n",
    "        d_exposure.drug_exposure_end_datetime,\n",
    "        d_exposure.verbatim_end_date,\n",
    "        d_exposure.drug_type_concept_id,\n",
    "        d_type.concept_name as drug_type_concept_name,\n",
    "        d_exposure.stop_reason,\n",
    "        d_exposure.refills,\n",
    "        d_exposure.quantity,\n",
    "        d_exposure.days_supply,\n",
    "        d_exposure.sig,\n",
    "        d_exposure.route_concept_id,\n",
    "        d_route.concept_name as route_concept_name,\n",
    "        d_exposure.lot_number,\n",
    "        d_exposure.visit_occurrence_id,\n",
    "        d_visit.concept_name as visit_occurrence_concept_name,\n",
    "        d_exposure.drug_source_value,\n",
    "        d_exposure.drug_source_concept_id,\n",
    "        d_source_concept.concept_name as source_concept_name,\n",
    "        d_source_concept.concept_code as source_concept_code,\n",
    "        d_source_concept.vocabulary_id as source_vocabulary,\n",
    "        d_exposure.route_source_value,\n",
    "        d_exposure.dose_unit_source_value \n",
    "    FROM\n",
    "        ( SELECT\n",
    "            * \n",
    "        FROM\n",
    "            `drug_exposure` d_exposure \n",
    "        WHERE\n",
    "            (\n",
    "                drug_concept_id IN (SELECT\n",
    "                    DISTINCT ca.descendant_id \n",
    "                FROM\n",
    "                    `cb_criteria_ancestor` ca \n",
    "                JOIN\n",
    "                    (SELECT\n",
    "                        DISTINCT c.concept_id       \n",
    "                    FROM\n",
    "                        `cb_criteria` c       \n",
    "                    JOIN\n",
    "                        (SELECT\n",
    "                            CAST(cr.id as string) AS id             \n",
    "                        FROM\n",
    "                            `cb_criteria` cr             \n",
    "                        WHERE\n",
    "                            concept_id IN (21604792)             \n",
    "                            AND full_text LIKE '%_rank1]%'       ) a \n",
    "                            ON (c.path LIKE CONCAT('%.', a.id, '.%') \n",
    "                            OR c.path LIKE CONCAT('%.', a.id) \n",
    "                            OR c.path LIKE CONCAT(a.id, '.%') \n",
    "                            OR c.path = a.id) \n",
    "                    WHERE\n",
    "                        is_standard = 1 \n",
    "                        AND is_selectable = 1) b \n",
    "                        ON (ca.ancestor_id = b.concept_id)))) d_exposure \n",
    "        LEFT JOIN\n",
    "            `concept` d_standard_concept \n",
    "                ON d_exposure.drug_concept_id = d_standard_concept.concept_id \n",
    "        LEFT JOIN\n",
    "            `concept` d_type \n",
    "                ON d_exposure.drug_type_concept_id = d_type.concept_id \n",
    "        LEFT JOIN\n",
    "            `concept` d_route \n",
    "                ON d_exposure.route_concept_id = d_route.concept_id \n",
    "        LEFT JOIN\n",
    "            `visit_occurrence` v \n",
    "                ON d_exposure.visit_occurrence_id = v.visit_occurrence_id \n",
    "        LEFT JOIN\n",
    "            `concept` d_visit \n",
    "                ON v.visit_concept_id = d_visit.concept_id \n",
    "        LEFT JOIN\n",
    "            `concept` d_source_concept \n",
    "                ON d_exposure.drug_source_concept_id = d_source_concept.concept_id\", sep=\"\")\n",
    "\n",
    "# Formulate a Cloud Storage destination path for the data exported from BigQuery.\n",
    "# NOTE: By default data exported multiple times on the same day will overwrite older copies.\n",
    "#       But data exported on a different days will write to a new location so that historical\n",
    "#       copies can be kept as the dataset definition is changed.\n",
    "drug_84799776_path <- file.path(\n",
    "  Sys.getenv(\"WORKSPACE_BUCKET\"),\n",
    "  \"bq_exports\",\n",
    "  Sys.getenv(\"OWNER_EMAIL\"),\n",
    "  strftime(lubridate::now(), \"%Y%m%d\"),  # Comment out this line if you want the export to always overwrite.\n",
    "  \"drug_84799776\",\n",
    "  \"drug_84799776_*.csv\")\n",
    "message(str_glue('The data will be written to {drug_84799776_path}. Use this path when reading ',\n",
    "                 'the data into your notebooks in the future.'))\n",
    "\n",
    "# Perform the query and export the dataset to Cloud Storage as CSV files.\n",
    "# NOTE: You only need to run `bq_table_save` once. After that, you can\n",
    "#       just read data from the CSVs in Cloud Storage.\n",
    "bq_table_save(\n",
    "  bq_dataset_query(Sys.getenv(\"WORKSPACE_CDR\"), dataset_84799776_drug_sql, billing = Sys.getenv(\"GOOGLE_PROJECT\")),\n",
    "  drug_84799776_path,\n",
    "  destination_format = \"CSV\")\n",
    "\n"
   ]
  },
  {
   "cell_type": "code",
   "execution_count": 6,
   "metadata": {},
   "outputs": [
    {
     "name": "stderr",
     "output_type": "stream",
     "text": [
      "Loading gs://fc-secure-0e4de6e0-e2d7-4267-949d-7b1ad758a53f/bq_exports/vraptis@researchallofus.org/20241007/drug_84799776/drug_84799776_000000000000.csv.\n",
      "\n"
     ]
    },
    {
     "data": {
      "text/html": [
       "<style>\n",
       ".list-inline {list-style: none; margin:0; padding: 0}\n",
       ".list-inline>li {display: inline-block}\n",
       ".list-inline>li:not(:last-child)::after {content: \"\\00b7\"; padding: 0 .5ex}\n",
       "</style>\n",
       "<ol class=list-inline><li>33210</li><li>27</li></ol>\n"
      ],
      "text/latex": [
       "\\begin{enumerate*}\n",
       "\\item 33210\n",
       "\\item 27\n",
       "\\end{enumerate*}\n"
      ],
      "text/markdown": [
       "1. 33210\n",
       "2. 27\n",
       "\n",
       "\n"
      ],
      "text/plain": [
       "[1] 33210    27"
      ]
     },
     "metadata": {},
     "output_type": "display_data"
    },
    {
     "data": {
      "text/html": [
       "<table class=\"dataframe\">\n",
       "<caption>A tibble: 5 × 27</caption>\n",
       "<thead>\n",
       "\t<tr><th scope=col>person_id</th><th scope=col>drug_concept_id</th><th scope=col>standard_concept_name</th><th scope=col>standard_concept_code</th><th scope=col>standard_vocabulary</th><th scope=col>drug_exposure_start_datetime</th><th scope=col>drug_exposure_end_datetime</th><th scope=col>verbatim_end_date</th><th scope=col>drug_type_concept_id</th><th scope=col>drug_type_concept_name</th><th scope=col>⋯</th><th scope=col>lot_number</th><th scope=col>visit_occurrence_id</th><th scope=col>visit_occurrence_concept_name</th><th scope=col>drug_source_value</th><th scope=col>drug_source_concept_id</th><th scope=col>source_concept_name</th><th scope=col>source_concept_code</th><th scope=col>source_vocabulary</th><th scope=col>route_source_value</th><th scope=col>dose_unit_source_value</th></tr>\n",
       "\t<tr><th scope=col>&lt;dbl&gt;</th><th scope=col>&lt;dbl&gt;</th><th scope=col>&lt;chr&gt;</th><th scope=col>&lt;chr&gt;</th><th scope=col>&lt;chr&gt;</th><th scope=col>&lt;chr&gt;</th><th scope=col>&lt;chr&gt;</th><th scope=col>&lt;date&gt;</th><th scope=col>&lt;dbl&gt;</th><th scope=col>&lt;chr&gt;</th><th scope=col>⋯</th><th scope=col>&lt;chr&gt;</th><th scope=col>&lt;dbl&gt;</th><th scope=col>&lt;chr&gt;</th><th scope=col>&lt;chr&gt;</th><th scope=col>&lt;dbl&gt;</th><th scope=col>&lt;chr&gt;</th><th scope=col>&lt;chr&gt;</th><th scope=col>&lt;chr&gt;</th><th scope=col>&lt;chr&gt;</th><th scope=col>&lt;chr&gt;</th></tr>\n",
       "</thead>\n",
       "<tbody>\n",
       "\t<tr><td>1946077</td><td>40223769</td><td>donepezil hydrochloride 10 MG Oral Tablet [Aricept]</td><td>997224</td><td>RxNorm</td><td>2015-07-22 18:23:12.2 UTC</td><td>2015-12-21 23:02:38.6 UTC</td><td>NA</td><td>   32839</td><td>EHR prescription issue record</td><td>⋯</td><td>NA</td><td>     NA</td><td>NA             </td><td>NA</td><td>NA</td><td>NA</td><td>NA</td><td>NA</td><td>26643006</td><td>NA</td></tr>\n",
       "\t<tr><td>2487356</td><td>  733562</td><td>rivastigmine 1.5 MG Oral Capsule                   </td><td>314214</td><td>RxNorm</td><td>2012-01-30 17:13:13.5 UTC</td><td>2012-04-23 16:30:09.7 UTC</td><td>NA</td><td>   32839</td><td>EHR prescription issue record</td><td>⋯</td><td>NA</td><td>     NA</td><td>NA             </td><td>NA</td><td>NA</td><td>NA</td><td>NA</td><td>NA</td><td>26643006</td><td>NA</td></tr>\n",
       "\t<tr><td>1373225</td><td>40223778</td><td>donepezil hydrochloride 5 MG Oral Tablet           </td><td>997229</td><td>RxNorm</td><td>2017-10-05 22:00:00 UTC  </td><td>2017-10-14 20:56:00 UTC  </td><td>NA</td><td>38000177</td><td>Prescription written         </td><td>⋯</td><td>NA</td><td>2.7e+16</td><td>Inpatient Visit</td><td>NA</td><td>NA</td><td>NA</td><td>NA</td><td>NA</td><td>26643006</td><td>NA</td></tr>\n",
       "\t<tr><td>3423014</td><td>40222862</td><td>memantine hydrochloride 5 MG Oral Tablet           </td><td>996571</td><td>RxNorm</td><td>2020-05-20 09:00:00 UTC  </td><td>2020-05-22 18:30:00 UTC  </td><td>NA</td><td>38000177</td><td>Prescription written         </td><td>⋯</td><td>NA</td><td>2.7e+16</td><td>Inpatient Visit</td><td>NA</td><td>NA</td><td>NA</td><td>NA</td><td>NA</td><td>26643006</td><td>NA</td></tr>\n",
       "\t<tr><td>1767904</td><td>40223778</td><td>donepezil hydrochloride 5 MG Oral Tablet           </td><td>997229</td><td>RxNorm</td><td>2017-12-05 22:45:00 UTC  </td><td>2017-12-06 20:58:00 UTC  </td><td>NA</td><td>38000177</td><td>Prescription written         </td><td>⋯</td><td>NA</td><td>2.7e+16</td><td>Inpatient Visit</td><td>NA</td><td>NA</td><td>NA</td><td>NA</td><td>NA</td><td>26643006</td><td>NA</td></tr>\n",
       "</tbody>\n",
       "</table>\n"
      ],
      "text/latex": [
       "A tibble: 5 × 27\n",
       "\\begin{tabular}{lllllllllllllllllllll}\n",
       " person\\_id & drug\\_concept\\_id & standard\\_concept\\_name & standard\\_concept\\_code & standard\\_vocabulary & drug\\_exposure\\_start\\_datetime & drug\\_exposure\\_end\\_datetime & verbatim\\_end\\_date & drug\\_type\\_concept\\_id & drug\\_type\\_concept\\_name & ⋯ & lot\\_number & visit\\_occurrence\\_id & visit\\_occurrence\\_concept\\_name & drug\\_source\\_value & drug\\_source\\_concept\\_id & source\\_concept\\_name & source\\_concept\\_code & source\\_vocabulary & route\\_source\\_value & dose\\_unit\\_source\\_value\\\\\n",
       " <dbl> & <dbl> & <chr> & <chr> & <chr> & <chr> & <chr> & <date> & <dbl> & <chr> & ⋯ & <chr> & <dbl> & <chr> & <chr> & <dbl> & <chr> & <chr> & <chr> & <chr> & <chr>\\\\\n",
       "\\hline\n",
       "\t 1946077 & 40223769 & donepezil hydrochloride 10 MG Oral Tablet {[}Aricept{]} & 997224 & RxNorm & 2015-07-22 18:23:12.2 UTC & 2015-12-21 23:02:38.6 UTC & NA &    32839 & EHR prescription issue record & ⋯ & NA &      NA & NA              & NA & NA & NA & NA & NA & 26643006 & NA\\\\\n",
       "\t 2487356 &   733562 & rivastigmine 1.5 MG Oral Capsule                    & 314214 & RxNorm & 2012-01-30 17:13:13.5 UTC & 2012-04-23 16:30:09.7 UTC & NA &    32839 & EHR prescription issue record & ⋯ & NA &      NA & NA              & NA & NA & NA & NA & NA & 26643006 & NA\\\\\n",
       "\t 1373225 & 40223778 & donepezil hydrochloride 5 MG Oral Tablet            & 997229 & RxNorm & 2017-10-05 22:00:00 UTC   & 2017-10-14 20:56:00 UTC   & NA & 38000177 & Prescription written          & ⋯ & NA & 2.7e+16 & Inpatient Visit & NA & NA & NA & NA & NA & 26643006 & NA\\\\\n",
       "\t 3423014 & 40222862 & memantine hydrochloride 5 MG Oral Tablet            & 996571 & RxNorm & 2020-05-20 09:00:00 UTC   & 2020-05-22 18:30:00 UTC   & NA & 38000177 & Prescription written          & ⋯ & NA & 2.7e+16 & Inpatient Visit & NA & NA & NA & NA & NA & 26643006 & NA\\\\\n",
       "\t 1767904 & 40223778 & donepezil hydrochloride 5 MG Oral Tablet            & 997229 & RxNorm & 2017-12-05 22:45:00 UTC   & 2017-12-06 20:58:00 UTC   & NA & 38000177 & Prescription written          & ⋯ & NA & 2.7e+16 & Inpatient Visit & NA & NA & NA & NA & NA & 26643006 & NA\\\\\n",
       "\\end{tabular}\n"
      ],
      "text/markdown": [
       "\n",
       "A tibble: 5 × 27\n",
       "\n",
       "| person_id &lt;dbl&gt; | drug_concept_id &lt;dbl&gt; | standard_concept_name &lt;chr&gt; | standard_concept_code &lt;chr&gt; | standard_vocabulary &lt;chr&gt; | drug_exposure_start_datetime &lt;chr&gt; | drug_exposure_end_datetime &lt;chr&gt; | verbatim_end_date &lt;date&gt; | drug_type_concept_id &lt;dbl&gt; | drug_type_concept_name &lt;chr&gt; | ⋯ ⋯ | lot_number &lt;chr&gt; | visit_occurrence_id &lt;dbl&gt; | visit_occurrence_concept_name &lt;chr&gt; | drug_source_value &lt;chr&gt; | drug_source_concept_id &lt;dbl&gt; | source_concept_name &lt;chr&gt; | source_concept_code &lt;chr&gt; | source_vocabulary &lt;chr&gt; | route_source_value &lt;chr&gt; | dose_unit_source_value &lt;chr&gt; |\n",
       "|---|---|---|---|---|---|---|---|---|---|---|---|---|---|---|---|---|---|---|---|---|\n",
       "| 1946077 | 40223769 | donepezil hydrochloride 10 MG Oral Tablet [Aricept] | 997224 | RxNorm | 2015-07-22 18:23:12.2 UTC | 2015-12-21 23:02:38.6 UTC | NA |    32839 | EHR prescription issue record | ⋯ | NA |      NA | NA              | NA | NA | NA | NA | NA | 26643006 | NA |\n",
       "| 2487356 |   733562 | rivastigmine 1.5 MG Oral Capsule                    | 314214 | RxNorm | 2012-01-30 17:13:13.5 UTC | 2012-04-23 16:30:09.7 UTC | NA |    32839 | EHR prescription issue record | ⋯ | NA |      NA | NA              | NA | NA | NA | NA | NA | 26643006 | NA |\n",
       "| 1373225 | 40223778 | donepezil hydrochloride 5 MG Oral Tablet            | 997229 | RxNorm | 2017-10-05 22:00:00 UTC   | 2017-10-14 20:56:00 UTC   | NA | 38000177 | Prescription written          | ⋯ | NA | 2.7e+16 | Inpatient Visit | NA | NA | NA | NA | NA | 26643006 | NA |\n",
       "| 3423014 | 40222862 | memantine hydrochloride 5 MG Oral Tablet            | 996571 | RxNorm | 2020-05-20 09:00:00 UTC   | 2020-05-22 18:30:00 UTC   | NA | 38000177 | Prescription written          | ⋯ | NA | 2.7e+16 | Inpatient Visit | NA | NA | NA | NA | NA | 26643006 | NA |\n",
       "| 1767904 | 40223778 | donepezil hydrochloride 5 MG Oral Tablet            | 997229 | RxNorm | 2017-12-05 22:45:00 UTC   | 2017-12-06 20:58:00 UTC   | NA | 38000177 | Prescription written          | ⋯ | NA | 2.7e+16 | Inpatient Visit | NA | NA | NA | NA | NA | 26643006 | NA |\n",
       "\n"
      ],
      "text/plain": [
       "  person_id drug_concept_id standard_concept_name                              \n",
       "1 1946077   40223769        donepezil hydrochloride 10 MG Oral Tablet [Aricept]\n",
       "2 2487356     733562        rivastigmine 1.5 MG Oral Capsule                   \n",
       "3 1373225   40223778        donepezil hydrochloride 5 MG Oral Tablet           \n",
       "4 3423014   40222862        memantine hydrochloride 5 MG Oral Tablet           \n",
       "5 1767904   40223778        donepezil hydrochloride 5 MG Oral Tablet           \n",
       "  standard_concept_code standard_vocabulary drug_exposure_start_datetime\n",
       "1 997224                RxNorm              2015-07-22 18:23:12.2 UTC   \n",
       "2 314214                RxNorm              2012-01-30 17:13:13.5 UTC   \n",
       "3 997229                RxNorm              2017-10-05 22:00:00 UTC     \n",
       "4 996571                RxNorm              2020-05-20 09:00:00 UTC     \n",
       "5 997229                RxNorm              2017-12-05 22:45:00 UTC     \n",
       "  drug_exposure_end_datetime verbatim_end_date drug_type_concept_id\n",
       "1 2015-12-21 23:02:38.6 UTC  <NA>                 32839            \n",
       "2 2012-04-23 16:30:09.7 UTC  <NA>                 32839            \n",
       "3 2017-10-14 20:56:00 UTC    <NA>              38000177            \n",
       "4 2020-05-22 18:30:00 UTC    <NA>              38000177            \n",
       "5 2017-12-06 20:58:00 UTC    <NA>              38000177            \n",
       "  drug_type_concept_name        ⋯ lot_number visit_occurrence_id\n",
       "1 EHR prescription issue record ⋯ NA              NA            \n",
       "2 EHR prescription issue record ⋯ NA              NA            \n",
       "3 Prescription written          ⋯ NA         2.7e+16            \n",
       "4 Prescription written          ⋯ NA         2.7e+16            \n",
       "5 Prescription written          ⋯ NA         2.7e+16            \n",
       "  visit_occurrence_concept_name drug_source_value drug_source_concept_id\n",
       "1 NA                            NA                NA                    \n",
       "2 NA                            NA                NA                    \n",
       "3 Inpatient Visit               NA                NA                    \n",
       "4 Inpatient Visit               NA                NA                    \n",
       "5 Inpatient Visit               NA                NA                    \n",
       "  source_concept_name source_concept_code source_vocabulary route_source_value\n",
       "1 NA                  NA                  NA                26643006          \n",
       "2 NA                  NA                  NA                26643006          \n",
       "3 NA                  NA                  NA                26643006          \n",
       "4 NA                  NA                  NA                26643006          \n",
       "5 NA                  NA                  NA                26643006          \n",
       "  dose_unit_source_value\n",
       "1 NA                    \n",
       "2 NA                    \n",
       "3 NA                    \n",
       "4 NA                    \n",
       "5 NA                    "
      ]
     },
     "metadata": {},
     "output_type": "display_data"
    }
   ],
   "source": [
    "# Read the data directly from Cloud Storage into memory.\n",
    "# NOTE: Alternatively you can `gsutil -m cp {drug_84799776_path}` to copy these files\n",
    "#       to the Jupyter disk.\n",
    "read_bq_export_from_workspace_bucket <- function(export_path) {\n",
    "  col_types <- cols(standard_concept_name = col_character(), standard_concept_code = col_character(), standard_vocabulary = col_character(), drug_type_concept_name = col_character(), stop_reason = col_character(), sig = col_character(), route_concept_name = col_character(), lot_number = col_character(), visit_occurrence_concept_name = col_character(), drug_source_value = col_character(), source_concept_name = col_character(), source_concept_code = col_character(), source_vocabulary = col_character(), route_source_value = col_character(), dose_unit_source_value = col_character())\n",
    "  bind_rows(\n",
    "    map(system2('gsutil', args = c('ls', export_path), stdout = TRUE, stderr = TRUE),\n",
    "        function(csv) {\n",
    "          message(str_glue('Loading {csv}.'))\n",
    "          chunk <- read_csv(pipe(str_glue('gsutil cat {csv}')), col_types = col_types, show_col_types = FALSE)\n",
    "          if (is.null(col_types)) {\n",
    "            col_types <- spec(chunk)\n",
    "          }\n",
    "          chunk\n",
    "        }))\n",
    "}\n",
    "dataset_84799776_drug_df <- read_bq_export_from_workspace_bucket(drug_84799776_path)\n",
    "\n",
    "dim(dataset_84799776_drug_df)\n",
    "\n",
    "head(dataset_84799776_drug_df, 5)"
   ]
  },
  {
   "cell_type": "markdown",
   "metadata": {},
   "source": [
    "**Process demographics:**"
   ]
  },
  {
   "cell_type": "code",
   "execution_count": 7,
   "metadata": {},
   "outputs": [
    {
     "data": {
      "text/html": [
       "<table class=\"dataframe\">\n",
       "<caption>A tibble: 6 × 3</caption>\n",
       "<thead>\n",
       "\t<tr><th scope=col>person_id</th><th scope=col>dob</th><th scope=col>sex</th></tr>\n",
       "\t<tr><th scope=col>&lt;dbl&gt;</th><th scope=col>&lt;dttm&gt;</th><th scope=col>&lt;dbl&gt;</th></tr>\n",
       "</thead>\n",
       "<tbody>\n",
       "\t<tr><td>1036100</td><td>1996-06-15</td><td>NA</td></tr>\n",
       "\t<tr><td>1938775</td><td>1986-06-15</td><td>NA</td></tr>\n",
       "\t<tr><td>3028890</td><td>1982-06-15</td><td>NA</td></tr>\n",
       "\t<tr><td>1944011</td><td>1967-06-15</td><td>NA</td></tr>\n",
       "\t<tr><td>2109271</td><td>1975-06-15</td><td>NA</td></tr>\n",
       "\t<tr><td>1211026</td><td>1952-06-15</td><td>NA</td></tr>\n",
       "</tbody>\n",
       "</table>\n"
      ],
      "text/latex": [
       "A tibble: 6 × 3\n",
       "\\begin{tabular}{lll}\n",
       " person\\_id & dob & sex\\\\\n",
       " <dbl> & <dttm> & <dbl>\\\\\n",
       "\\hline\n",
       "\t 1036100 & 1996-06-15 & NA\\\\\n",
       "\t 1938775 & 1986-06-15 & NA\\\\\n",
       "\t 3028890 & 1982-06-15 & NA\\\\\n",
       "\t 1944011 & 1967-06-15 & NA\\\\\n",
       "\t 2109271 & 1975-06-15 & NA\\\\\n",
       "\t 1211026 & 1952-06-15 & NA\\\\\n",
       "\\end{tabular}\n"
      ],
      "text/markdown": [
       "\n",
       "A tibble: 6 × 3\n",
       "\n",
       "| person_id &lt;dbl&gt; | dob &lt;dttm&gt; | sex &lt;dbl&gt; |\n",
       "|---|---|---|\n",
       "| 1036100 | 1996-06-15 | NA |\n",
       "| 1938775 | 1986-06-15 | NA |\n",
       "| 3028890 | 1982-06-15 | NA |\n",
       "| 1944011 | 1967-06-15 | NA |\n",
       "| 2109271 | 1975-06-15 | NA |\n",
       "| 1211026 | 1952-06-15 | NA |\n",
       "\n"
      ],
      "text/plain": [
       "  person_id dob        sex\n",
       "1 1036100   1996-06-15 NA \n",
       "2 1938775   1986-06-15 NA \n",
       "3 3028890   1982-06-15 NA \n",
       "4 1944011   1967-06-15 NA \n",
       "5 2109271   1975-06-15 NA \n",
       "6 1211026   1952-06-15 NA "
      ]
     },
     "metadata": {},
     "output_type": "display_data"
    },
    {
     "name": "stdout",
     "output_type": "stream",
     "text": [
      "# of people by sex (0=female; 1=male; NA: other):"
     ]
    },
    {
     "data": {
      "text/html": [
       "<style>\n",
       ".dl-inline {width: auto; margin:0; padding: 0}\n",
       ".dl-inline>dt, .dl-inline>dd {float: none; width: auto; display: inline-block}\n",
       ".dl-inline>dt::after {content: \":\\0020\"; padding-right: .5ex}\n",
       ".dl-inline>dt:not(:first-of-type) {padding-left: .5ex}\n",
       "</style><dl class=dl-inline><dt>0</dt><dd>249565</dd><dt>1</dt><dd>155169</dd><dt>NA's</dt><dd>8723</dd></dl>\n"
      ],
      "text/latex": [
       "\\begin{description*}\n",
       "\\item[0] 249565\n",
       "\\item[1] 155169\n",
       "\\item[NA's] 8723\n",
       "\\end{description*}\n"
      ],
      "text/markdown": [
       "0\n",
       ":   2495651\n",
       ":   155169NA's\n",
       ":   8723\n",
       "\n"
      ],
      "text/plain": [
       "     0      1   NA's \n",
       "249565 155169   8723 "
      ]
     },
     "metadata": {},
     "output_type": "display_data"
    }
   ],
   "source": [
    "### filter and reformat basic demographics\n",
    "temp_person_df <-\n",
    "dataset_84799776_person_df %>% \n",
    "    ## select relevant columns\n",
    "    select(person_id, date_of_birth, sex_at_birth) %>%\n",
    "    ## reformat dob as date\n",
    "    mutate(date_of_birth = strptime(date_of_birth, format=\"%Y-%m-%d\")) %>% \n",
    "    ## reformat sex_at_birth: 0 female; 1 male; NA other  \n",
    "    mutate(sex_at_birth = case_when(sex_at_birth==\"Female\" ~ 0,\n",
    "                           sex_at_birth==\"Male\" ~ 1,\n",
    "                           TRUE ~ NA)) %>%\n",
    "    ## rename columns\n",
    "    rename(dob = date_of_birth,\n",
    "           sex = sex_at_birth)\n",
    "temp_person_df %>% head\n",
    "\n",
    "cat(\"# of people by sex (0=female; 1=male; NA: other):\")\n",
    "temp_person_df$sex %>% as.factor %>% summary"
   ]
  },
  {
   "cell_type": "markdown",
   "metadata": {},
   "source": [
    "**Process conditions:**"
   ]
  },
  {
   "cell_type": "code",
   "execution_count": 8,
   "metadata": {},
   "outputs": [
    {
     "data": {
      "text/html": [
       "<table class=\"dataframe\">\n",
       "<caption>A tibble: 6 × 20</caption>\n",
       "<thead>\n",
       "\t<tr><th scope=col>person_id</th><th scope=col>condition_concept_id</th><th scope=col>standard_concept_name</th><th scope=col>standard_concept_code</th><th scope=col>standard_vocabulary</th><th scope=col>condition_start_datetime</th><th scope=col>condition_end_datetime</th><th scope=col>condition_type_concept_id</th><th scope=col>condition_type_concept_name</th><th scope=col>stop_reason</th><th scope=col>visit_occurrence_id</th><th scope=col>visit_occurrence_concept_name</th><th scope=col>condition_source_value</th><th scope=col>condition_source_concept_id</th><th scope=col>source_concept_name</th><th scope=col>source_concept_code</th><th scope=col>source_vocabulary</th><th scope=col>condition_status_source_value</th><th scope=col>condition_status_concept_id</th><th scope=col>condition_status_concept_name</th></tr>\n",
       "\t<tr><th scope=col>&lt;dbl&gt;</th><th scope=col>&lt;dbl&gt;</th><th scope=col>&lt;chr&gt;</th><th scope=col>&lt;chr&gt;</th><th scope=col>&lt;chr&gt;</th><th scope=col>&lt;chr&gt;</th><th scope=col>&lt;chr&gt;</th><th scope=col>&lt;dbl&gt;</th><th scope=col>&lt;chr&gt;</th><th scope=col>&lt;chr&gt;</th><th scope=col>&lt;dbl&gt;</th><th scope=col>&lt;chr&gt;</th><th scope=col>&lt;chr&gt;</th><th scope=col>&lt;dbl&gt;</th><th scope=col>&lt;chr&gt;</th><th scope=col>&lt;chr&gt;</th><th scope=col>&lt;chr&gt;</th><th scope=col>&lt;chr&gt;</th><th scope=col>&lt;dbl&gt;</th><th scope=col>&lt;chr&gt;</th></tr>\n",
       "</thead>\n",
       "<tbody>\n",
       "\t<tr><td>1387888</td><td>  375791</td><td>Uncomplicated senile dementia           </td><td>191449005    </td><td>SNOMED</td><td>2014-08-12 00:00:00 UTC</td><td>NA                     </td><td>44786629</td><td>Secondary Condition</td><td>NA</td><td>9.0e+15</td><td>Office Visit    </td><td>290.0 </td><td>44835772</td><td>Senile dementia, uncomplicated                                         </td><td>290.0 </td><td>ICD9CM </td><td>NA</td><td>NA</td><td>NA</td></tr>\n",
       "\t<tr><td>1399242</td><td> 4182210</td><td>Dementia                                </td><td>52448006     </td><td>SNOMED</td><td>1983-03-21 06:00:00 UTC</td><td>NA                     </td><td>   32821</td><td>EHR billing record </td><td>NA</td><td>4.2e+16</td><td>Outpatient Visit</td><td>290   </td><td>44824105</td><td>Dementias                                                              </td><td>290   </td><td>ICD9CM </td><td>NA</td><td>NA</td><td>NA</td></tr>\n",
       "\t<tr><td>2183968</td><td>43530666</td><td>Dementia with behavioral disturbance    </td><td>1591000119103</td><td>SNOMED</td><td>2021-11-08 00:00:00 UTC</td><td>2021-11-08 11:59:59 UTC</td><td>44786629</td><td>Secondary Condition</td><td>NA</td><td>2.7e+16</td><td>Inpatient Visit </td><td>F03.91</td><td>45595843</td><td>Unspecified dementia with behavioral disturbance                       </td><td>F03.91</td><td>ICD10CM</td><td>NA</td><td>NA</td><td>NA</td></tr>\n",
       "\t<tr><td>1859387</td><td>  374888</td><td>Dementia associated with another disease</td><td>191519005    </td><td>SNOMED</td><td>1999-04-30 00:00:00 UTC</td><td>1999-04-30 11:59:59 UTC</td><td>44786627</td><td>Primary Condition  </td><td>NA</td><td>2.7e+16</td><td>Outpatient Visit</td><td>294.1 </td><td>44821814</td><td>Dementia in conditions classified elsewhere                            </td><td>294.1 </td><td>ICD9CM </td><td>NA</td><td>NA</td><td>NA</td></tr>\n",
       "\t<tr><td>1268114</td><td>  374888</td><td>Dementia associated with another disease</td><td>191519005    </td><td>SNOMED</td><td>2019-06-03 14:56:00 UTC</td><td>NA                     </td><td>       0</td><td>No matching concept</td><td>NA</td><td>4.4e+16</td><td>Outpatient Visit</td><td>294.11</td><td>44827644</td><td>Dementia in conditions classified elsewhere with behavioral disturbance</td><td>294.11</td><td>ICD9CM </td><td>NA</td><td>NA</td><td>NA</td></tr>\n",
       "\t<tr><td>2615147</td><td>  377254</td><td>Multi-infarct dementia, uncomplicated   </td><td>70936005     </td><td>SNOMED</td><td>2014-06-26 00:00:00 UTC</td><td>NA                     </td><td>44786629</td><td>Secondary Condition</td><td>NA</td><td>9.0e+15</td><td>Office Visit    </td><td>290.40</td><td>44827641</td><td>Vascular dementia, uncomplicated                                       </td><td>290.40</td><td>ICD9CM </td><td>NA</td><td>NA</td><td>NA</td></tr>\n",
       "</tbody>\n",
       "</table>\n"
      ],
      "text/latex": [
       "A tibble: 6 × 20\n",
       "\\begin{tabular}{llllllllllllllllllll}\n",
       " person\\_id & condition\\_concept\\_id & standard\\_concept\\_name & standard\\_concept\\_code & standard\\_vocabulary & condition\\_start\\_datetime & condition\\_end\\_datetime & condition\\_type\\_concept\\_id & condition\\_type\\_concept\\_name & stop\\_reason & visit\\_occurrence\\_id & visit\\_occurrence\\_concept\\_name & condition\\_source\\_value & condition\\_source\\_concept\\_id & source\\_concept\\_name & source\\_concept\\_code & source\\_vocabulary & condition\\_status\\_source\\_value & condition\\_status\\_concept\\_id & condition\\_status\\_concept\\_name\\\\\n",
       " <dbl> & <dbl> & <chr> & <chr> & <chr> & <chr> & <chr> & <dbl> & <chr> & <chr> & <dbl> & <chr> & <chr> & <dbl> & <chr> & <chr> & <chr> & <chr> & <dbl> & <chr>\\\\\n",
       "\\hline\n",
       "\t 1387888 &   375791 & Uncomplicated senile dementia            & 191449005     & SNOMED & 2014-08-12 00:00:00 UTC & NA                      & 44786629 & Secondary Condition & NA & 9.0e+15 & Office Visit     & 290.0  & 44835772 & Senile dementia, uncomplicated                                          & 290.0  & ICD9CM  & NA & NA & NA\\\\\n",
       "\t 1399242 &  4182210 & Dementia                                 & 52448006      & SNOMED & 1983-03-21 06:00:00 UTC & NA                      &    32821 & EHR billing record  & NA & 4.2e+16 & Outpatient Visit & 290    & 44824105 & Dementias                                                               & 290    & ICD9CM  & NA & NA & NA\\\\\n",
       "\t 2183968 & 43530666 & Dementia with behavioral disturbance     & 1591000119103 & SNOMED & 2021-11-08 00:00:00 UTC & 2021-11-08 11:59:59 UTC & 44786629 & Secondary Condition & NA & 2.7e+16 & Inpatient Visit  & F03.91 & 45595843 & Unspecified dementia with behavioral disturbance                        & F03.91 & ICD10CM & NA & NA & NA\\\\\n",
       "\t 1859387 &   374888 & Dementia associated with another disease & 191519005     & SNOMED & 1999-04-30 00:00:00 UTC & 1999-04-30 11:59:59 UTC & 44786627 & Primary Condition   & NA & 2.7e+16 & Outpatient Visit & 294.1  & 44821814 & Dementia in conditions classified elsewhere                             & 294.1  & ICD9CM  & NA & NA & NA\\\\\n",
       "\t 1268114 &   374888 & Dementia associated with another disease & 191519005     & SNOMED & 2019-06-03 14:56:00 UTC & NA                      &        0 & No matching concept & NA & 4.4e+16 & Outpatient Visit & 294.11 & 44827644 & Dementia in conditions classified elsewhere with behavioral disturbance & 294.11 & ICD9CM  & NA & NA & NA\\\\\n",
       "\t 2615147 &   377254 & Multi-infarct dementia, uncomplicated    & 70936005      & SNOMED & 2014-06-26 00:00:00 UTC & NA                      & 44786629 & Secondary Condition & NA & 9.0e+15 & Office Visit     & 290.40 & 44827641 & Vascular dementia, uncomplicated                                        & 290.40 & ICD9CM  & NA & NA & NA\\\\\n",
       "\\end{tabular}\n"
      ],
      "text/markdown": [
       "\n",
       "A tibble: 6 × 20\n",
       "\n",
       "| person_id &lt;dbl&gt; | condition_concept_id &lt;dbl&gt; | standard_concept_name &lt;chr&gt; | standard_concept_code &lt;chr&gt; | standard_vocabulary &lt;chr&gt; | condition_start_datetime &lt;chr&gt; | condition_end_datetime &lt;chr&gt; | condition_type_concept_id &lt;dbl&gt; | condition_type_concept_name &lt;chr&gt; | stop_reason &lt;chr&gt; | visit_occurrence_id &lt;dbl&gt; | visit_occurrence_concept_name &lt;chr&gt; | condition_source_value &lt;chr&gt; | condition_source_concept_id &lt;dbl&gt; | source_concept_name &lt;chr&gt; | source_concept_code &lt;chr&gt; | source_vocabulary &lt;chr&gt; | condition_status_source_value &lt;chr&gt; | condition_status_concept_id &lt;dbl&gt; | condition_status_concept_name &lt;chr&gt; |\n",
       "|---|---|---|---|---|---|---|---|---|---|---|---|---|---|---|---|---|---|---|---|\n",
       "| 1387888 |   375791 | Uncomplicated senile dementia            | 191449005     | SNOMED | 2014-08-12 00:00:00 UTC | NA                      | 44786629 | Secondary Condition | NA | 9.0e+15 | Office Visit     | 290.0  | 44835772 | Senile dementia, uncomplicated                                          | 290.0  | ICD9CM  | NA | NA | NA |\n",
       "| 1399242 |  4182210 | Dementia                                 | 52448006      | SNOMED | 1983-03-21 06:00:00 UTC | NA                      |    32821 | EHR billing record  | NA | 4.2e+16 | Outpatient Visit | 290    | 44824105 | Dementias                                                               | 290    | ICD9CM  | NA | NA | NA |\n",
       "| 2183968 | 43530666 | Dementia with behavioral disturbance     | 1591000119103 | SNOMED | 2021-11-08 00:00:00 UTC | 2021-11-08 11:59:59 UTC | 44786629 | Secondary Condition | NA | 2.7e+16 | Inpatient Visit  | F03.91 | 45595843 | Unspecified dementia with behavioral disturbance                        | F03.91 | ICD10CM | NA | NA | NA |\n",
       "| 1859387 |   374888 | Dementia associated with another disease | 191519005     | SNOMED | 1999-04-30 00:00:00 UTC | 1999-04-30 11:59:59 UTC | 44786627 | Primary Condition   | NA | 2.7e+16 | Outpatient Visit | 294.1  | 44821814 | Dementia in conditions classified elsewhere                             | 294.1  | ICD9CM  | NA | NA | NA |\n",
       "| 1268114 |   374888 | Dementia associated with another disease | 191519005     | SNOMED | 2019-06-03 14:56:00 UTC | NA                      |        0 | No matching concept | NA | 4.4e+16 | Outpatient Visit | 294.11 | 44827644 | Dementia in conditions classified elsewhere with behavioral disturbance | 294.11 | ICD9CM  | NA | NA | NA |\n",
       "| 2615147 |   377254 | Multi-infarct dementia, uncomplicated    | 70936005      | SNOMED | 2014-06-26 00:00:00 UTC | NA                      | 44786629 | Secondary Condition | NA | 9.0e+15 | Office Visit     | 290.40 | 44827641 | Vascular dementia, uncomplicated                                        | 290.40 | ICD9CM  | NA | NA | NA |\n",
       "\n"
      ],
      "text/plain": [
       "  person_id condition_concept_id standard_concept_name                   \n",
       "1 1387888     375791             Uncomplicated senile dementia           \n",
       "2 1399242    4182210             Dementia                                \n",
       "3 2183968   43530666             Dementia with behavioral disturbance    \n",
       "4 1859387     374888             Dementia associated with another disease\n",
       "5 1268114     374888             Dementia associated with another disease\n",
       "6 2615147     377254             Multi-infarct dementia, uncomplicated   \n",
       "  standard_concept_code standard_vocabulary condition_start_datetime\n",
       "1 191449005             SNOMED              2014-08-12 00:00:00 UTC \n",
       "2 52448006              SNOMED              1983-03-21 06:00:00 UTC \n",
       "3 1591000119103         SNOMED              2021-11-08 00:00:00 UTC \n",
       "4 191519005             SNOMED              1999-04-30 00:00:00 UTC \n",
       "5 191519005             SNOMED              2019-06-03 14:56:00 UTC \n",
       "6 70936005              SNOMED              2014-06-26 00:00:00 UTC \n",
       "  condition_end_datetime  condition_type_concept_id condition_type_concept_name\n",
       "1 NA                      44786629                  Secondary Condition        \n",
       "2 NA                         32821                  EHR billing record         \n",
       "3 2021-11-08 11:59:59 UTC 44786629                  Secondary Condition        \n",
       "4 1999-04-30 11:59:59 UTC 44786627                  Primary Condition          \n",
       "5 NA                             0                  No matching concept        \n",
       "6 NA                      44786629                  Secondary Condition        \n",
       "  stop_reason visit_occurrence_id visit_occurrence_concept_name\n",
       "1 NA          9.0e+15             Office Visit                 \n",
       "2 NA          4.2e+16             Outpatient Visit             \n",
       "3 NA          2.7e+16             Inpatient Visit              \n",
       "4 NA          2.7e+16             Outpatient Visit             \n",
       "5 NA          4.4e+16             Outpatient Visit             \n",
       "6 NA          9.0e+15             Office Visit                 \n",
       "  condition_source_value condition_source_concept_id\n",
       "1 290.0                  44835772                   \n",
       "2 290                    44824105                   \n",
       "3 F03.91                 45595843                   \n",
       "4 294.1                  44821814                   \n",
       "5 294.11                 44827644                   \n",
       "6 290.40                 44827641                   \n",
       "  source_concept_name                                                    \n",
       "1 Senile dementia, uncomplicated                                         \n",
       "2 Dementias                                                              \n",
       "3 Unspecified dementia with behavioral disturbance                       \n",
       "4 Dementia in conditions classified elsewhere                            \n",
       "5 Dementia in conditions classified elsewhere with behavioral disturbance\n",
       "6 Vascular dementia, uncomplicated                                       \n",
       "  source_concept_code source_vocabulary condition_status_source_value\n",
       "1 290.0               ICD9CM            NA                           \n",
       "2 290                 ICD9CM            NA                           \n",
       "3 F03.91              ICD10CM           NA                           \n",
       "4 294.1               ICD9CM            NA                           \n",
       "5 294.11              ICD9CM            NA                           \n",
       "6 290.40              ICD9CM            NA                           \n",
       "  condition_status_concept_id condition_status_concept_name\n",
       "1 NA                          NA                           \n",
       "2 NA                          NA                           \n",
       "3 NA                          NA                           \n",
       "4 NA                          NA                           \n",
       "5 NA                          NA                           \n",
       "6 NA                          NA                           "
      ]
     },
     "metadata": {},
     "output_type": "display_data"
    }
   ],
   "source": [
    "dataset_84799776_condition_df %>% head"
   ]
  },
  {
   "cell_type": "code",
   "execution_count": 9,
   "metadata": {},
   "outputs": [
    {
     "data": {
      "text/html": [
       "<table class=\"dataframe\">\n",
       "<caption>A tibble: 10 × 2</caption>\n",
       "<thead>\n",
       "\t<tr><th scope=col>source_concept_name_code</th><th scope=col>n</th></tr>\n",
       "\t<tr><th scope=col>&lt;chr&gt;</th><th scope=col>&lt;int&gt;</th></tr>\n",
       "</thead>\n",
       "<tbody>\n",
       "\t<tr><td>Unspecified dementia without behavioral disturbance_F03.90                           </td><td>8078</td></tr>\n",
       "\t<tr><td>Postconcussional syndrome_F07.81                                                     </td><td>6757</td></tr>\n",
       "\t<tr><td>Dementia in other diseases classified elsewhere without behavioral disturbance_F02.80</td><td>5445</td></tr>\n",
       "\t<tr><td>Postconcussion syndrome_310.2                                                        </td><td>3651</td></tr>\n",
       "\t<tr><td>Alzheimer's disease, unspecified_G30.9                                               </td><td>3119</td></tr>\n",
       "\t<tr><td>Delirium due to known physiological condition_F05                                    </td><td>2957</td></tr>\n",
       "\t<tr><td>Dementia in other diseases classified elsewhere with behavioral disturbance_F02.81   </td><td>2263</td></tr>\n",
       "\t<tr><td>Vascular dementia without behavioral disturbance_F01.50                              </td><td>2116</td></tr>\n",
       "\t<tr><td>Alzheimer's disease with late onset_G30.1                                            </td><td>1454</td></tr>\n",
       "\t<tr><td>Dementia, unspecified, without behavioral disturbance_294.20                         </td><td>1232</td></tr>\n",
       "</tbody>\n",
       "</table>\n"
      ],
      "text/latex": [
       "A tibble: 10 × 2\n",
       "\\begin{tabular}{ll}\n",
       " source\\_concept\\_name\\_code & n\\\\\n",
       " <chr> & <int>\\\\\n",
       "\\hline\n",
       "\t Unspecified dementia without behavioral disturbance\\_F03.90                            & 8078\\\\\n",
       "\t Postconcussional syndrome\\_F07.81                                                      & 6757\\\\\n",
       "\t Dementia in other diseases classified elsewhere without behavioral disturbance\\_F02.80 & 5445\\\\\n",
       "\t Postconcussion syndrome\\_310.2                                                         & 3651\\\\\n",
       "\t Alzheimer's disease, unspecified\\_G30.9                                                & 3119\\\\\n",
       "\t Delirium due to known physiological condition\\_F05                                     & 2957\\\\\n",
       "\t Dementia in other diseases classified elsewhere with behavioral disturbance\\_F02.81    & 2263\\\\\n",
       "\t Vascular dementia without behavioral disturbance\\_F01.50                               & 2116\\\\\n",
       "\t Alzheimer's disease with late onset\\_G30.1                                             & 1454\\\\\n",
       "\t Dementia, unspecified, without behavioral disturbance\\_294.20                          & 1232\\\\\n",
       "\\end{tabular}\n"
      ],
      "text/markdown": [
       "\n",
       "A tibble: 10 × 2\n",
       "\n",
       "| source_concept_name_code &lt;chr&gt; | n &lt;int&gt; |\n",
       "|---|---|\n",
       "| Unspecified dementia without behavioral disturbance_F03.90                            | 8078 |\n",
       "| Postconcussional syndrome_F07.81                                                      | 6757 |\n",
       "| Dementia in other diseases classified elsewhere without behavioral disturbance_F02.80 | 5445 |\n",
       "| Postconcussion syndrome_310.2                                                         | 3651 |\n",
       "| Alzheimer's disease, unspecified_G30.9                                                | 3119 |\n",
       "| Delirium due to known physiological condition_F05                                     | 2957 |\n",
       "| Dementia in other diseases classified elsewhere with behavioral disturbance_F02.81    | 2263 |\n",
       "| Vascular dementia without behavioral disturbance_F01.50                               | 2116 |\n",
       "| Alzheimer's disease with late onset_G30.1                                             | 1454 |\n",
       "| Dementia, unspecified, without behavioral disturbance_294.20                          | 1232 |\n",
       "\n"
      ],
      "text/plain": [
       "   source_concept_name_code                                                             \n",
       "1  Unspecified dementia without behavioral disturbance_F03.90                           \n",
       "2  Postconcussional syndrome_F07.81                                                     \n",
       "3  Dementia in other diseases classified elsewhere without behavioral disturbance_F02.80\n",
       "4  Postconcussion syndrome_310.2                                                        \n",
       "5  Alzheimer's disease, unspecified_G30.9                                               \n",
       "6  Delirium due to known physiological condition_F05                                    \n",
       "7  Dementia in other diseases classified elsewhere with behavioral disturbance_F02.81   \n",
       "8  Vascular dementia without behavioral disturbance_F01.50                              \n",
       "9  Alzheimer's disease with late onset_G30.1                                            \n",
       "10 Dementia, unspecified, without behavioral disturbance_294.20                         \n",
       "   n   \n",
       "1  8078\n",
       "2  6757\n",
       "3  5445\n",
       "4  3651\n",
       "5  3119\n",
       "6  2957\n",
       "7  2263\n",
       "8  2116\n",
       "9  1454\n",
       "10 1232"
      ]
     },
     "metadata": {},
     "output_type": "display_data"
    }
   ],
   "source": [
    "dataset_84799776_condition_df %>% \n",
    "    mutate(source_concept_name_code = paste0(source_concept_name, \"_\", source_concept_code)) %>%      \n",
    "    group_by(source_concept_name_code) %>% summarise(n=n()) %>% arrange(desc(n)) %>%\n",
    "    head(.,10)"
   ]
  },
  {
   "cell_type": "code",
   "execution_count": 10,
   "metadata": {},
   "outputs": [
    {
     "name": "stdout",
     "output_type": "stream",
     "text": [
      "# of delirium instances: 3939 \n",
      "# of unique delirium indivuals: 1889"
     ]
    },
    {
     "data": {
      "text/html": [
       "<table class=\"dataframe\">\n",
       "<caption>A grouped_df: 6 × 5</caption>\n",
       "<thead>\n",
       "\t<tr><th scope=col>person_id</th><th scope=col>delirium_code</th><th scope=col>delirium_date</th><th scope=col>delirium_count</th><th scope=col>delirium_status</th></tr>\n",
       "\t<tr><th scope=col>&lt;dbl&gt;</th><th scope=col>&lt;chr&gt;</th><th scope=col>&lt;dttm&gt;</th><th scope=col>&lt;int&gt;</th><th scope=col>&lt;dbl&gt;</th></tr>\n",
       "</thead>\n",
       "<tbody>\n",
       "\t<tr><td>1000320</td><td>F05</td><td>2017-07-27</td><td>1</td><td>1</td></tr>\n",
       "\t<tr><td>1001121</td><td>F05</td><td>2020-05-15</td><td>3</td><td>1</td></tr>\n",
       "\t<tr><td>1002832</td><td>F05</td><td>2019-11-19</td><td>1</td><td>1</td></tr>\n",
       "\t<tr><td>1002867</td><td>F05</td><td>2017-03-19</td><td>1</td><td>1</td></tr>\n",
       "\t<tr><td>1003498</td><td>F05</td><td>2016-02-10</td><td>1</td><td>1</td></tr>\n",
       "\t<tr><td>1004234</td><td>F05</td><td>2020-11-19</td><td>1</td><td>1</td></tr>\n",
       "</tbody>\n",
       "</table>\n"
      ],
      "text/latex": [
       "A grouped\\_df: 6 × 5\n",
       "\\begin{tabular}{lllll}\n",
       " person\\_id & delirium\\_code & delirium\\_date & delirium\\_count & delirium\\_status\\\\\n",
       " <dbl> & <chr> & <dttm> & <int> & <dbl>\\\\\n",
       "\\hline\n",
       "\t 1000320 & F05 & 2017-07-27 & 1 & 1\\\\\n",
       "\t 1001121 & F05 & 2020-05-15 & 3 & 1\\\\\n",
       "\t 1002832 & F05 & 2019-11-19 & 1 & 1\\\\\n",
       "\t 1002867 & F05 & 2017-03-19 & 1 & 1\\\\\n",
       "\t 1003498 & F05 & 2016-02-10 & 1 & 1\\\\\n",
       "\t 1004234 & F05 & 2020-11-19 & 1 & 1\\\\\n",
       "\\end{tabular}\n"
      ],
      "text/markdown": [
       "\n",
       "A grouped_df: 6 × 5\n",
       "\n",
       "| person_id &lt;dbl&gt; | delirium_code &lt;chr&gt; | delirium_date &lt;dttm&gt; | delirium_count &lt;int&gt; | delirium_status &lt;dbl&gt; |\n",
       "|---|---|---|---|---|\n",
       "| 1000320 | F05 | 2017-07-27 | 1 | 1 |\n",
       "| 1001121 | F05 | 2020-05-15 | 3 | 1 |\n",
       "| 1002832 | F05 | 2019-11-19 | 1 | 1 |\n",
       "| 1002867 | F05 | 2017-03-19 | 1 | 1 |\n",
       "| 1003498 | F05 | 2016-02-10 | 1 | 1 |\n",
       "| 1004234 | F05 | 2020-11-19 | 1 | 1 |\n",
       "\n"
      ],
      "text/plain": [
       "  person_id delirium_code delirium_date delirium_count delirium_status\n",
       "1 1000320   F05           2017-07-27    1              1              \n",
       "2 1001121   F05           2020-05-15    3              1              \n",
       "3 1002832   F05           2019-11-19    1              1              \n",
       "4 1002867   F05           2017-03-19    1              1              \n",
       "5 1003498   F05           2016-02-10    1              1              \n",
       "6 1004234   F05           2020-11-19    1              1              "
      ]
     },
     "metadata": {},
     "output_type": "display_data"
    }
   ],
   "source": [
    "## get earliest delirium date\n",
    "delirium_concept_codes <- c(\"F05\", \"293.0\")\n",
    "\n",
    "temp_delirium_df <-\n",
    "dataset_84799776_condition_df %>%\n",
    "    ## extract cases for delirium not induced by alcohol/other substances\n",
    "    filter(source_concept_code %in% delirium_concept_codes) %>%\n",
    "    ## reformat starting date variable\n",
    "    mutate(delirium_date = strptime(condition_start_datetime, format=\"%Y-%m-%d\")) %>% \n",
    "    ## select relevant columns: id, delirium_code, delirium_date\n",
    "    select(person_id, source_concept_code, delirium_date, source_concept_name_code) %>%\n",
    "    ## extract only the first delirium instance per person\n",
    "    group_by(person_id) %>%\n",
    "    mutate(delirium_count = n()) %>% # calculate number of delirium instances per person\n",
    "    arrange(delirium_date) %>% \n",
    "    slice(1L) %>% \n",
    "    ## make delirium status columns\n",
    "    mutate(delirium_status = 1) %>%\n",
    "    ## rename columns\n",
    "    rename(delirium_code = source_concept_code)\n",
    "   \n",
    "cat(\"# of delirium instances:\", sum(temp_delirium_df$delirium_count), \"\\n\")\n",
    "cat(\"# of unique delirium indivuals:\", nrow(temp_delirium_df))\n",
    "\n",
    "temp_delirium_df %>% head\n"
   ]
  },
  {
   "cell_type": "code",
   "execution_count": 91,
   "metadata": {},
   "outputs": [
    {
     "data": {
      "text/html": [
       "<style>\n",
       ".list-inline {list-style: none; margin:0; padding: 0}\n",
       ".list-inline>li {display: inline-block}\n",
       ".list-inline>li:not(:last-child)::after {content: \"\\00b7\"; padding: 0 .5ex}\n",
       "</style>\n",
       "<ol class=list-inline><li>888</li><li>5</li></ol>\n"
      ],
      "text/latex": [
       "\\begin{enumerate*}\n",
       "\\item 888\n",
       "\\item 5\n",
       "\\end{enumerate*}\n"
      ],
      "text/markdown": [
       "1. 888\n",
       "2. 5\n",
       "\n",
       "\n"
      ],
      "text/plain": [
       "[1] 888   5"
      ]
     },
     "metadata": {},
     "output_type": "display_data"
    },
    {
     "data": {
      "text/html": [
       "<table class=\"dataframe\">\n",
       "<caption>A grouped_df: 6 × 5</caption>\n",
       "<thead>\n",
       "\t<tr><th scope=col>person_id</th><th scope=col>source_concept_name</th><th scope=col>source_concept_code</th><th scope=col>alzheimer_status</th><th scope=col>alzheimer_date</th></tr>\n",
       "\t<tr><th scope=col>&lt;dbl&gt;</th><th scope=col>&lt;chr&gt;</th><th scope=col>&lt;chr&gt;</th><th scope=col>&lt;dbl&gt;</th><th scope=col>&lt;dttm&gt;</th></tr>\n",
       "</thead>\n",
       "<tbody>\n",
       "\t<tr><td>1001959</td><td>Alzheimer's disease with late onset</td><td>G30.1</td><td>1</td><td>2020-07-30</td></tr>\n",
       "\t<tr><td>1004198</td><td>Alzheimer's disease                </td><td>331.0</td><td>1</td><td>2012-12-10</td></tr>\n",
       "\t<tr><td>1006354</td><td>Alzheimer's disease, unspecified   </td><td>G30.9</td><td>1</td><td>2021-01-19</td></tr>\n",
       "\t<tr><td>1008635</td><td>Alzheimer's disease, unspecified   </td><td>G30.9</td><td>1</td><td>2016-07-27</td></tr>\n",
       "\t<tr><td>1009326</td><td>Alzheimer's disease, unspecified   </td><td>G30.9</td><td>1</td><td>2022-02-24</td></tr>\n",
       "\t<tr><td>1010116</td><td>Alzheimer's disease, unspecified   </td><td>G30.9</td><td>1</td><td>2018-03-21</td></tr>\n",
       "</tbody>\n",
       "</table>\n"
      ],
      "text/latex": [
       "A grouped\\_df: 6 × 5\n",
       "\\begin{tabular}{lllll}\n",
       " person\\_id & source\\_concept\\_name & source\\_concept\\_code & alzheimer\\_status & alzheimer\\_date\\\\\n",
       " <dbl> & <chr> & <chr> & <dbl> & <dttm>\\\\\n",
       "\\hline\n",
       "\t 1001959 & Alzheimer's disease with late onset & G30.1 & 1 & 2020-07-30\\\\\n",
       "\t 1004198 & Alzheimer's disease                 & 331.0 & 1 & 2012-12-10\\\\\n",
       "\t 1006354 & Alzheimer's disease, unspecified    & G30.9 & 1 & 2021-01-19\\\\\n",
       "\t 1008635 & Alzheimer's disease, unspecified    & G30.9 & 1 & 2016-07-27\\\\\n",
       "\t 1009326 & Alzheimer's disease, unspecified    & G30.9 & 1 & 2022-02-24\\\\\n",
       "\t 1010116 & Alzheimer's disease, unspecified    & G30.9 & 1 & 2018-03-21\\\\\n",
       "\\end{tabular}\n"
      ],
      "text/markdown": [
       "\n",
       "A grouped_df: 6 × 5\n",
       "\n",
       "| person_id &lt;dbl&gt; | source_concept_name &lt;chr&gt; | source_concept_code &lt;chr&gt; | alzheimer_status &lt;dbl&gt; | alzheimer_date &lt;dttm&gt; |\n",
       "|---|---|---|---|---|\n",
       "| 1001959 | Alzheimer's disease with late onset | G30.1 | 1 | 2020-07-30 |\n",
       "| 1004198 | Alzheimer's disease                 | 331.0 | 1 | 2012-12-10 |\n",
       "| 1006354 | Alzheimer's disease, unspecified    | G30.9 | 1 | 2021-01-19 |\n",
       "| 1008635 | Alzheimer's disease, unspecified    | G30.9 | 1 | 2016-07-27 |\n",
       "| 1009326 | Alzheimer's disease, unspecified    | G30.9 | 1 | 2022-02-24 |\n",
       "| 1010116 | Alzheimer's disease, unspecified    | G30.9 | 1 | 2018-03-21 |\n",
       "\n"
      ],
      "text/plain": [
       "  person_id source_concept_name                 source_concept_code\n",
       "1 1001959   Alzheimer's disease with late onset G30.1              \n",
       "2 1004198   Alzheimer's disease                 331.0              \n",
       "3 1006354   Alzheimer's disease, unspecified    G30.9              \n",
       "4 1008635   Alzheimer's disease, unspecified    G30.9              \n",
       "5 1009326   Alzheimer's disease, unspecified    G30.9              \n",
       "6 1010116   Alzheimer's disease, unspecified    G30.9              \n",
       "  alzheimer_status alzheimer_date\n",
       "1 1                2020-07-30    \n",
       "2 1                2012-12-10    \n",
       "3 1                2021-01-19    \n",
       "4 1                2016-07-27    \n",
       "5 1                2022-02-24    \n",
       "6 1                2018-03-21    "
      ]
     },
     "metadata": {},
     "output_type": "display_data"
    }
   ],
   "source": [
    "## get individuals with AD + dates \n",
    "alzheimer_full <- \n",
    "dataset_84799776_condition_df %>%\n",
    "    # AD status + date\n",
    "    mutate(alzheimer_status = ifelse(str_detect(source_concept_name, \"Alzheimer\"),1,0),\n",
    "           alzheimer_date   = ifelse(str_detect(source_concept_name, \"Alzheimer\"), condition_start_datetime, NA),\n",
    "           alzheimer_date   = strptime(alzheimer_date, format=\"%Y-%m-%d\")\n",
    "          ) %>%\n",
    "    filter(alzheimer_status==1) %>% \n",
    "    # extract only the first AD record per person\n",
    "    group_by(person_id) %>%\n",
    "    #mutate(dementia_count = n()) %>% \n",
    "    arrange(alzheimer_date) %>% \n",
    "    slice(1L) %>%\n",
    "    select(person_id, source_concept_name, source_concept_code, starts_with(\"alz\"))\n",
    "alzheimer_full %>% dim\n",
    "alzheimer_full %>% head"
   ]
  },
  {
   "cell_type": "code",
   "execution_count": 28,
   "metadata": {},
   "outputs": [
    {
     "name": "stdout",
     "output_type": "stream",
     "text": [
      "# of unique dementia indivuals: 5679"
     ]
    },
    {
     "data": {
      "text/html": [
       "<table class=\"dataframe\">\n",
       "<caption>A grouped_df: 6 × 6</caption>\n",
       "<thead>\n",
       "\t<tr><th scope=col>person_id</th><th scope=col>dementia_code</th><th scope=col>dementia_date</th><th scope=col>source_concept_name</th><th scope=col>dementia_count</th><th scope=col>dementia_status</th></tr>\n",
       "\t<tr><th scope=col>&lt;dbl&gt;</th><th scope=col>&lt;chr&gt;</th><th scope=col>&lt;dttm&gt;</th><th scope=col>&lt;chr&gt;</th><th scope=col>&lt;int&gt;</th><th scope=col>&lt;dbl&gt;</th></tr>\n",
       "</thead>\n",
       "<tbody>\n",
       "\t<tr><td>1000079</td><td>F07.81</td><td>2015-12-18</td><td>Postconcussional syndrome                          </td><td>1</td><td>1</td></tr>\n",
       "\t<tr><td>1000291</td><td>290.13</td><td>2010-12-15</td><td>Presenile dementia with depressive features        </td><td>7</td><td>1</td></tr>\n",
       "\t<tr><td>1000801</td><td>F03.90</td><td>2020-11-20</td><td>Unspecified dementia without behavioral disturbance</td><td>1</td><td>1</td></tr>\n",
       "\t<tr><td>1000926</td><td>F07.81</td><td>2020-06-03</td><td>Postconcussional syndrome                          </td><td>2</td><td>1</td></tr>\n",
       "\t<tr><td>1000976</td><td>F07.81</td><td>2017-06-13</td><td>Postconcussional syndrome                          </td><td>4</td><td>1</td></tr>\n",
       "\t<tr><td>1001395</td><td>310.2 </td><td>1999-10-22</td><td>Postconcussion syndrome                            </td><td>1</td><td>1</td></tr>\n",
       "</tbody>\n",
       "</table>\n"
      ],
      "text/latex": [
       "A grouped\\_df: 6 × 6\n",
       "\\begin{tabular}{llllll}\n",
       " person\\_id & dementia\\_code & dementia\\_date & source\\_concept\\_name & dementia\\_count & dementia\\_status\\\\\n",
       " <dbl> & <chr> & <dttm> & <chr> & <int> & <dbl>\\\\\n",
       "\\hline\n",
       "\t 1000079 & F07.81 & 2015-12-18 & Postconcussional syndrome                           & 1 & 1\\\\\n",
       "\t 1000291 & 290.13 & 2010-12-15 & Presenile dementia with depressive features         & 7 & 1\\\\\n",
       "\t 1000801 & F03.90 & 2020-11-20 & Unspecified dementia without behavioral disturbance & 1 & 1\\\\\n",
       "\t 1000926 & F07.81 & 2020-06-03 & Postconcussional syndrome                           & 2 & 1\\\\\n",
       "\t 1000976 & F07.81 & 2017-06-13 & Postconcussional syndrome                           & 4 & 1\\\\\n",
       "\t 1001395 & 310.2  & 1999-10-22 & Postconcussion syndrome                             & 1 & 1\\\\\n",
       "\\end{tabular}\n"
      ],
      "text/markdown": [
       "\n",
       "A grouped_df: 6 × 6\n",
       "\n",
       "| person_id &lt;dbl&gt; | dementia_code &lt;chr&gt; | dementia_date &lt;dttm&gt; | source_concept_name &lt;chr&gt; | dementia_count &lt;int&gt; | dementia_status &lt;dbl&gt; |\n",
       "|---|---|---|---|---|---|\n",
       "| 1000079 | F07.81 | 2015-12-18 | Postconcussional syndrome                           | 1 | 1 |\n",
       "| 1000291 | 290.13 | 2010-12-15 | Presenile dementia with depressive features         | 7 | 1 |\n",
       "| 1000801 | F03.90 | 2020-11-20 | Unspecified dementia without behavioral disturbance | 1 | 1 |\n",
       "| 1000926 | F07.81 | 2020-06-03 | Postconcussional syndrome                           | 2 | 1 |\n",
       "| 1000976 | F07.81 | 2017-06-13 | Postconcussional syndrome                           | 4 | 1 |\n",
       "| 1001395 | 310.2  | 1999-10-22 | Postconcussion syndrome                             | 1 | 1 |\n",
       "\n"
      ],
      "text/plain": [
       "  person_id dementia_code dementia_date\n",
       "1 1000079   F07.81        2015-12-18   \n",
       "2 1000291   290.13        2010-12-15   \n",
       "3 1000801   F03.90        2020-11-20   \n",
       "4 1000926   F07.81        2020-06-03   \n",
       "5 1000976   F07.81        2017-06-13   \n",
       "6 1001395   310.2         1999-10-22   \n",
       "  source_concept_name                                 dementia_count\n",
       "1 Postconcussional syndrome                           1             \n",
       "2 Presenile dementia with depressive features         7             \n",
       "3 Unspecified dementia without behavioral disturbance 1             \n",
       "4 Postconcussional syndrome                           2             \n",
       "5 Postconcussional syndrome                           4             \n",
       "6 Postconcussion syndrome                             1             \n",
       "  dementia_status\n",
       "1 1              \n",
       "2 1              \n",
       "3 1              \n",
       "4 1              \n",
       "5 1              \n",
       "6 1              "
      ]
     },
     "metadata": {},
     "output_type": "display_data"
    }
   ],
   "source": [
    "## get earliest dementia time from diagnoses\n",
    "dementia_concept_codes <- setdiff(unique(dataset_84799776_condition_df$source_concept_code), delirium_concept_codes) \n",
    "\n",
    "temp_dementia_df <- \n",
    "dataset_84799776_condition_df %>%\n",
    "    ## extract cases for dementia\n",
    "    filter(source_concept_code %in% dementia_concept_codes) %>%\n",
    "    ## reformat starting date variable\n",
    "    mutate(dementia_date = strptime(condition_start_datetime, format=\"%Y-%m-%d\")) %>%     \n",
    "    ## select relevant columns: id, dementia_code, dementia_date\n",
    "    select(person_id, source_concept_code, dementia_date, source_concept_name) %>%\n",
    "    ## extract only the first dementia record per person\n",
    "    group_by(person_id) %>%\n",
    "    mutate(dementia_count = n()) %>% \n",
    "    arrange(dementia_date) %>% \n",
    "    slice(1L) %>%\n",
    "    ## make dementia status column\n",
    "    mutate(dementia_status = 1) %>% \n",
    "    ## rename columns\n",
    "    rename(dementia_code = source_concept_code) \n",
    "   \n",
    "cat(\"# of unique dementia indivuals:\", nrow(temp_dementia_df))\n",
    "\n",
    "temp_dementia_df %>% head\n"
   ]
  },
  {
   "cell_type": "markdown",
   "metadata": {},
   "source": [
    "**Process drugs table:**"
   ]
  },
  {
   "cell_type": "code",
   "execution_count": 29,
   "metadata": {},
   "outputs": [
    {
     "data": {
      "text/html": [
       "<table class=\"dataframe\">\n",
       "<caption>A tibble: 10 × 2</caption>\n",
       "<thead>\n",
       "\t<tr><th scope=col>standard_concept_name</th><th scope=col>n</th></tr>\n",
       "\t<tr><th scope=col>&lt;chr&gt;</th><th scope=col>&lt;int&gt;</th></tr>\n",
       "</thead>\n",
       "<tbody>\n",
       "\t<tr><td>donepezil hydrochloride 10 MG Oral Tablet          </td><td>6644</td></tr>\n",
       "\t<tr><td>donepezil hydrochloride 5 MG Oral Tablet           </td><td>5260</td></tr>\n",
       "\t<tr><td>memantine hydrochloride 10 MG Oral Tablet          </td><td>4485</td></tr>\n",
       "\t<tr><td>donepezil                                          </td><td>3719</td></tr>\n",
       "\t<tr><td>memantine hydrochloride 5 MG Oral Tablet           </td><td>2366</td></tr>\n",
       "\t<tr><td>memantine                                          </td><td>2361</td></tr>\n",
       "\t<tr><td>donepezil hydrochloride 10 MG Oral Tablet [Aricept]</td><td>1154</td></tr>\n",
       "\t<tr><td>donepezil hydrochloride 5 MG Oral Tablet [Aricept] </td><td> 881</td></tr>\n",
       "\t<tr><td>memantine hydrochloride 10 MG Oral Tablet [Namenda]</td><td> 880</td></tr>\n",
       "\t<tr><td>24 HR rivastigmine 0.396 MG/HR Transdermal System  </td><td> 845</td></tr>\n",
       "</tbody>\n",
       "</table>\n"
      ],
      "text/latex": [
       "A tibble: 10 × 2\n",
       "\\begin{tabular}{ll}\n",
       " standard\\_concept\\_name & n\\\\\n",
       " <chr> & <int>\\\\\n",
       "\\hline\n",
       "\t donepezil hydrochloride 10 MG Oral Tablet           & 6644\\\\\n",
       "\t donepezil hydrochloride 5 MG Oral Tablet            & 5260\\\\\n",
       "\t memantine hydrochloride 10 MG Oral Tablet           & 4485\\\\\n",
       "\t donepezil                                           & 3719\\\\\n",
       "\t memantine hydrochloride 5 MG Oral Tablet            & 2366\\\\\n",
       "\t memantine                                           & 2361\\\\\n",
       "\t donepezil hydrochloride 10 MG Oral Tablet {[}Aricept{]} & 1154\\\\\n",
       "\t donepezil hydrochloride 5 MG Oral Tablet {[}Aricept{]}  &  881\\\\\n",
       "\t memantine hydrochloride 10 MG Oral Tablet {[}Namenda{]} &  880\\\\\n",
       "\t 24 HR rivastigmine 0.396 MG/HR Transdermal System   &  845\\\\\n",
       "\\end{tabular}\n"
      ],
      "text/markdown": [
       "\n",
       "A tibble: 10 × 2\n",
       "\n",
       "| standard_concept_name &lt;chr&gt; | n &lt;int&gt; |\n",
       "|---|---|\n",
       "| donepezil hydrochloride 10 MG Oral Tablet           | 6644 |\n",
       "| donepezil hydrochloride 5 MG Oral Tablet            | 5260 |\n",
       "| memantine hydrochloride 10 MG Oral Tablet           | 4485 |\n",
       "| donepezil                                           | 3719 |\n",
       "| memantine hydrochloride 5 MG Oral Tablet            | 2366 |\n",
       "| memantine                                           | 2361 |\n",
       "| donepezil hydrochloride 10 MG Oral Tablet [Aricept] | 1154 |\n",
       "| donepezil hydrochloride 5 MG Oral Tablet [Aricept]  |  881 |\n",
       "| memantine hydrochloride 10 MG Oral Tablet [Namenda] |  880 |\n",
       "| 24 HR rivastigmine 0.396 MG/HR Transdermal System   |  845 |\n",
       "\n"
      ],
      "text/plain": [
       "   standard_concept_name                               n   \n",
       "1  donepezil hydrochloride 10 MG Oral Tablet           6644\n",
       "2  donepezil hydrochloride 5 MG Oral Tablet            5260\n",
       "3  memantine hydrochloride 10 MG Oral Tablet           4485\n",
       "4  donepezil                                           3719\n",
       "5  memantine hydrochloride 5 MG Oral Tablet            2366\n",
       "6  memantine                                           2361\n",
       "7  donepezil hydrochloride 10 MG Oral Tablet [Aricept] 1154\n",
       "8  donepezil hydrochloride 5 MG Oral Tablet [Aricept]   881\n",
       "9  memantine hydrochloride 10 MG Oral Tablet [Namenda]  880\n",
       "10 24 HR rivastigmine 0.396 MG/HR Transdermal System    845"
      ]
     },
     "metadata": {},
     "output_type": "display_data"
    }
   ],
   "source": [
    "dataset_84799776_drug_df %>% group_by(standard_concept_name) %>% summarise(n=n()) %>% arrange(desc(n)) %>% head(.,10)"
   ]
  },
  {
   "cell_type": "code",
   "execution_count": 30,
   "metadata": {},
   "outputs": [
    {
     "data": {
      "text/html": [
       "<table class=\"dataframe\">\n",
       "<caption>A tibble: 2 × 27</caption>\n",
       "<thead>\n",
       "\t<tr><th scope=col>person_id</th><th scope=col>drug_concept_id</th><th scope=col>standard_concept_name</th><th scope=col>standard_concept_code</th><th scope=col>standard_vocabulary</th><th scope=col>drug_exposure_start_datetime</th><th scope=col>drug_exposure_end_datetime</th><th scope=col>verbatim_end_date</th><th scope=col>drug_type_concept_id</th><th scope=col>drug_type_concept_name</th><th scope=col>⋯</th><th scope=col>lot_number</th><th scope=col>visit_occurrence_id</th><th scope=col>visit_occurrence_concept_name</th><th scope=col>drug_source_value</th><th scope=col>drug_source_concept_id</th><th scope=col>source_concept_name</th><th scope=col>source_concept_code</th><th scope=col>source_vocabulary</th><th scope=col>route_source_value</th><th scope=col>dose_unit_source_value</th></tr>\n",
       "\t<tr><th scope=col>&lt;dbl&gt;</th><th scope=col>&lt;dbl&gt;</th><th scope=col>&lt;chr&gt;</th><th scope=col>&lt;chr&gt;</th><th scope=col>&lt;chr&gt;</th><th scope=col>&lt;chr&gt;</th><th scope=col>&lt;chr&gt;</th><th scope=col>&lt;date&gt;</th><th scope=col>&lt;dbl&gt;</th><th scope=col>&lt;chr&gt;</th><th scope=col>⋯</th><th scope=col>&lt;chr&gt;</th><th scope=col>&lt;dbl&gt;</th><th scope=col>&lt;chr&gt;</th><th scope=col>&lt;chr&gt;</th><th scope=col>&lt;dbl&gt;</th><th scope=col>&lt;chr&gt;</th><th scope=col>&lt;chr&gt;</th><th scope=col>&lt;chr&gt;</th><th scope=col>&lt;chr&gt;</th><th scope=col>&lt;chr&gt;</th></tr>\n",
       "</thead>\n",
       "<tbody>\n",
       "\t<tr><td>1946077</td><td>40223769</td><td>donepezil hydrochloride 10 MG Oral Tablet [Aricept]</td><td>997224</td><td>RxNorm</td><td>2015-07-22 18:23:12.2 UTC</td><td>2015-12-21 23:02:38.6 UTC</td><td>NA</td><td>32839</td><td>EHR prescription issue record</td><td>⋯</td><td>NA</td><td>NA</td><td>NA</td><td>NA</td><td>NA</td><td>NA</td><td>NA</td><td>NA</td><td>26643006</td><td>NA</td></tr>\n",
       "\t<tr><td>2487356</td><td>  733562</td><td>rivastigmine 1.5 MG Oral Capsule                   </td><td>314214</td><td>RxNorm</td><td>2012-01-30 17:13:13.5 UTC</td><td>2012-04-23 16:30:09.7 UTC</td><td>NA</td><td>32839</td><td>EHR prescription issue record</td><td>⋯</td><td>NA</td><td>NA</td><td>NA</td><td>NA</td><td>NA</td><td>NA</td><td>NA</td><td>NA</td><td>26643006</td><td>NA</td></tr>\n",
       "</tbody>\n",
       "</table>\n"
      ],
      "text/latex": [
       "A tibble: 2 × 27\n",
       "\\begin{tabular}{lllllllllllllllllllll}\n",
       " person\\_id & drug\\_concept\\_id & standard\\_concept\\_name & standard\\_concept\\_code & standard\\_vocabulary & drug\\_exposure\\_start\\_datetime & drug\\_exposure\\_end\\_datetime & verbatim\\_end\\_date & drug\\_type\\_concept\\_id & drug\\_type\\_concept\\_name & ⋯ & lot\\_number & visit\\_occurrence\\_id & visit\\_occurrence\\_concept\\_name & drug\\_source\\_value & drug\\_source\\_concept\\_id & source\\_concept\\_name & source\\_concept\\_code & source\\_vocabulary & route\\_source\\_value & dose\\_unit\\_source\\_value\\\\\n",
       " <dbl> & <dbl> & <chr> & <chr> & <chr> & <chr> & <chr> & <date> & <dbl> & <chr> & ⋯ & <chr> & <dbl> & <chr> & <chr> & <dbl> & <chr> & <chr> & <chr> & <chr> & <chr>\\\\\n",
       "\\hline\n",
       "\t 1946077 & 40223769 & donepezil hydrochloride 10 MG Oral Tablet {[}Aricept{]} & 997224 & RxNorm & 2015-07-22 18:23:12.2 UTC & 2015-12-21 23:02:38.6 UTC & NA & 32839 & EHR prescription issue record & ⋯ & NA & NA & NA & NA & NA & NA & NA & NA & 26643006 & NA\\\\\n",
       "\t 2487356 &   733562 & rivastigmine 1.5 MG Oral Capsule                    & 314214 & RxNorm & 2012-01-30 17:13:13.5 UTC & 2012-04-23 16:30:09.7 UTC & NA & 32839 & EHR prescription issue record & ⋯ & NA & NA & NA & NA & NA & NA & NA & NA & 26643006 & NA\\\\\n",
       "\\end{tabular}\n"
      ],
      "text/markdown": [
       "\n",
       "A tibble: 2 × 27\n",
       "\n",
       "| person_id &lt;dbl&gt; | drug_concept_id &lt;dbl&gt; | standard_concept_name &lt;chr&gt; | standard_concept_code &lt;chr&gt; | standard_vocabulary &lt;chr&gt; | drug_exposure_start_datetime &lt;chr&gt; | drug_exposure_end_datetime &lt;chr&gt; | verbatim_end_date &lt;date&gt; | drug_type_concept_id &lt;dbl&gt; | drug_type_concept_name &lt;chr&gt; | ⋯ ⋯ | lot_number &lt;chr&gt; | visit_occurrence_id &lt;dbl&gt; | visit_occurrence_concept_name &lt;chr&gt; | drug_source_value &lt;chr&gt; | drug_source_concept_id &lt;dbl&gt; | source_concept_name &lt;chr&gt; | source_concept_code &lt;chr&gt; | source_vocabulary &lt;chr&gt; | route_source_value &lt;chr&gt; | dose_unit_source_value &lt;chr&gt; |\n",
       "|---|---|---|---|---|---|---|---|---|---|---|---|---|---|---|---|---|---|---|---|---|\n",
       "| 1946077 | 40223769 | donepezil hydrochloride 10 MG Oral Tablet [Aricept] | 997224 | RxNorm | 2015-07-22 18:23:12.2 UTC | 2015-12-21 23:02:38.6 UTC | NA | 32839 | EHR prescription issue record | ⋯ | NA | NA | NA | NA | NA | NA | NA | NA | 26643006 | NA |\n",
       "| 2487356 |   733562 | rivastigmine 1.5 MG Oral Capsule                    | 314214 | RxNorm | 2012-01-30 17:13:13.5 UTC | 2012-04-23 16:30:09.7 UTC | NA | 32839 | EHR prescription issue record | ⋯ | NA | NA | NA | NA | NA | NA | NA | NA | 26643006 | NA |\n",
       "\n"
      ],
      "text/plain": [
       "  person_id drug_concept_id standard_concept_name                              \n",
       "1 1946077   40223769        donepezil hydrochloride 10 MG Oral Tablet [Aricept]\n",
       "2 2487356     733562        rivastigmine 1.5 MG Oral Capsule                   \n",
       "  standard_concept_code standard_vocabulary drug_exposure_start_datetime\n",
       "1 997224                RxNorm              2015-07-22 18:23:12.2 UTC   \n",
       "2 314214                RxNorm              2012-01-30 17:13:13.5 UTC   \n",
       "  drug_exposure_end_datetime verbatim_end_date drug_type_concept_id\n",
       "1 2015-12-21 23:02:38.6 UTC  <NA>              32839               \n",
       "2 2012-04-23 16:30:09.7 UTC  <NA>              32839               \n",
       "  drug_type_concept_name        ⋯ lot_number visit_occurrence_id\n",
       "1 EHR prescription issue record ⋯ NA         NA                 \n",
       "2 EHR prescription issue record ⋯ NA         NA                 \n",
       "  visit_occurrence_concept_name drug_source_value drug_source_concept_id\n",
       "1 NA                            NA                NA                    \n",
       "2 NA                            NA                NA                    \n",
       "  source_concept_name source_concept_code source_vocabulary route_source_value\n",
       "1 NA                  NA                  NA                26643006          \n",
       "2 NA                  NA                  NA                26643006          \n",
       "  dose_unit_source_value\n",
       "1 NA                    \n",
       "2 NA                    "
      ]
     },
     "metadata": {},
     "output_type": "display_data"
    }
   ],
   "source": [
    "dataset_84799776_drug_df %>% head(.,2)"
   ]
  },
  {
   "cell_type": "code",
   "execution_count": 31,
   "metadata": {},
   "outputs": [],
   "source": [
    "## get anti dementia drug start date\n",
    "\n",
    "temp_drugs_df <- \n",
    "dataset_84799776_drug_df %>%\n",
    "    ## reformat starting date variable\n",
    "    mutate(drug_date = strptime(drug_exposure_start_datetime, format=\"%Y-%m-%d\")) %>% \n",
    "    ## select relevant columns: id, drug code, drug date\n",
    "    select(person_id, standard_concept_code, drug_date) %>%\n",
    "    ## extract only the first drug exposure date\n",
    "    group_by(person_id) %>%\n",
    "    mutate(drug_count = n()) %>% # calculate number of drug istances\n",
    "    arrange(drug_date) %>% \n",
    "    slice(1L) %>% \n",
    "    ## make drug status column\n",
    "    mutate(drug_status = 1) %>%\n",
    "    ## rename\n",
    "    rename(drug_code = standard_concept_code)\n",
    " "
   ]
  },
  {
   "cell_type": "markdown",
   "metadata": {},
   "source": [
    "**Merge:**"
   ]
  },
  {
   "cell_type": "code",
   "execution_count": 32,
   "metadata": {},
   "outputs": [
    {
     "data": {
      "text/html": [
       "<style>\n",
       ".list-inline {list-style: none; margin:0; padding: 0}\n",
       ".list-inline>li {display: inline-block}\n",
       ".list-inline>li:not(:last-child)::after {content: \"\\00b7\"; padding: 0 .5ex}\n",
       "</style>\n",
       "<ol class=list-inline><li>7047</li><li>12</li></ol>\n"
      ],
      "text/latex": [
       "\\begin{enumerate*}\n",
       "\\item 7047\n",
       "\\item 12\n",
       "\\end{enumerate*}\n"
      ],
      "text/markdown": [
       "1. 7047\n",
       "2. 12\n",
       "\n",
       "\n"
      ],
      "text/plain": [
       "[1] 7047   12"
      ]
     },
     "metadata": {},
     "output_type": "display_data"
    },
    {
     "data": {
      "text/html": [
       "<table class=\"dataframe\">\n",
       "<caption>A grouped_df: 6 × 12</caption>\n",
       "<thead>\n",
       "\t<tr><th scope=col>person_id</th><th scope=col>dementia_code</th><th scope=col>dementia_date</th><th scope=col>source_concept_name</th><th scope=col>dementia_count</th><th scope=col>dementia_status</th><th scope=col>drug_code</th><th scope=col>drug_date</th><th scope=col>drug_count</th><th scope=col>drug_status</th><th scope=col>earliest_dementia_date</th><th scope=col>earliest_dementia_source</th></tr>\n",
       "\t<tr><th scope=col>&lt;dbl&gt;</th><th scope=col>&lt;chr&gt;</th><th scope=col>&lt;dttm&gt;</th><th scope=col>&lt;chr&gt;</th><th scope=col>&lt;int&gt;</th><th scope=col>&lt;dbl&gt;</th><th scope=col>&lt;chr&gt;</th><th scope=col>&lt;dttm&gt;</th><th scope=col>&lt;int&gt;</th><th scope=col>&lt;dbl&gt;</th><th scope=col>&lt;dttm&gt;</th><th scope=col>&lt;chr&gt;</th></tr>\n",
       "</thead>\n",
       "<tbody>\n",
       "\t<tr><td>1000079</td><td>F07.81</td><td>2015-12-18</td><td>Postconcussional syndrome                          </td><td>1</td><td>1</td><td>NA    </td><td>NA</td><td>NA</td><td>NA</td><td>2015-12-18</td><td>condition_F07.81</td></tr>\n",
       "\t<tr><td>1000291</td><td>290.13</td><td>2010-12-15</td><td>Presenile dementia with depressive features        </td><td>7</td><td>1</td><td>NA    </td><td>NA</td><td>NA</td><td>NA</td><td>2010-12-15</td><td>condition_290.13</td></tr>\n",
       "\t<tr><td>1000801</td><td>F03.90</td><td>2020-11-20</td><td>Unspecified dementia without behavioral disturbance</td><td>1</td><td>1</td><td>997223</td><td>2020-12-03</td><td>17</td><td> 1</td><td>2020-11-20</td><td>condition_F03.90</td></tr>\n",
       "\t<tr><td>1000926</td><td>F07.81</td><td>2020-06-03</td><td>Postconcussional syndrome                          </td><td>2</td><td>1</td><td>NA    </td><td>NA</td><td>NA</td><td>NA</td><td>2020-06-03</td><td>condition_F07.81</td></tr>\n",
       "\t<tr><td>1000976</td><td>F07.81</td><td>2017-06-13</td><td>Postconcussional syndrome                          </td><td>4</td><td>1</td><td>NA    </td><td>NA</td><td>NA</td><td>NA</td><td>2017-06-13</td><td>condition_F07.81</td></tr>\n",
       "\t<tr><td>1001395</td><td>310.2 </td><td>1999-10-22</td><td>Postconcussion syndrome                            </td><td>1</td><td>1</td><td>NA    </td><td>NA</td><td>NA</td><td>NA</td><td>1999-10-22</td><td>condition_310.2 </td></tr>\n",
       "</tbody>\n",
       "</table>\n"
      ],
      "text/latex": [
       "A grouped\\_df: 6 × 12\n",
       "\\begin{tabular}{llllllllllll}\n",
       " person\\_id & dementia\\_code & dementia\\_date & source\\_concept\\_name & dementia\\_count & dementia\\_status & drug\\_code & drug\\_date & drug\\_count & drug\\_status & earliest\\_dementia\\_date & earliest\\_dementia\\_source\\\\\n",
       " <dbl> & <chr> & <dttm> & <chr> & <int> & <dbl> & <chr> & <dttm> & <int> & <dbl> & <dttm> & <chr>\\\\\n",
       "\\hline\n",
       "\t 1000079 & F07.81 & 2015-12-18 & Postconcussional syndrome                           & 1 & 1 & NA     & NA & NA & NA & 2015-12-18 & condition\\_F07.81\\\\\n",
       "\t 1000291 & 290.13 & 2010-12-15 & Presenile dementia with depressive features         & 7 & 1 & NA     & NA & NA & NA & 2010-12-15 & condition\\_290.13\\\\\n",
       "\t 1000801 & F03.90 & 2020-11-20 & Unspecified dementia without behavioral disturbance & 1 & 1 & 997223 & 2020-12-03 & 17 &  1 & 2020-11-20 & condition\\_F03.90\\\\\n",
       "\t 1000926 & F07.81 & 2020-06-03 & Postconcussional syndrome                           & 2 & 1 & NA     & NA & NA & NA & 2020-06-03 & condition\\_F07.81\\\\\n",
       "\t 1000976 & F07.81 & 2017-06-13 & Postconcussional syndrome                           & 4 & 1 & NA     & NA & NA & NA & 2017-06-13 & condition\\_F07.81\\\\\n",
       "\t 1001395 & 310.2  & 1999-10-22 & Postconcussion syndrome                             & 1 & 1 & NA     & NA & NA & NA & 1999-10-22 & condition\\_310.2 \\\\\n",
       "\\end{tabular}\n"
      ],
      "text/markdown": [
       "\n",
       "A grouped_df: 6 × 12\n",
       "\n",
       "| person_id &lt;dbl&gt; | dementia_code &lt;chr&gt; | dementia_date &lt;dttm&gt; | source_concept_name &lt;chr&gt; | dementia_count &lt;int&gt; | dementia_status &lt;dbl&gt; | drug_code &lt;chr&gt; | drug_date &lt;dttm&gt; | drug_count &lt;int&gt; | drug_status &lt;dbl&gt; | earliest_dementia_date &lt;dttm&gt; | earliest_dementia_source &lt;chr&gt; |\n",
       "|---|---|---|---|---|---|---|---|---|---|---|---|\n",
       "| 1000079 | F07.81 | 2015-12-18 | Postconcussional syndrome                           | 1 | 1 | NA     | NA | NA | NA | 2015-12-18 | condition_F07.81 |\n",
       "| 1000291 | 290.13 | 2010-12-15 | Presenile dementia with depressive features         | 7 | 1 | NA     | NA | NA | NA | 2010-12-15 | condition_290.13 |\n",
       "| 1000801 | F03.90 | 2020-11-20 | Unspecified dementia without behavioral disturbance | 1 | 1 | 997223 | 2020-12-03 | 17 |  1 | 2020-11-20 | condition_F03.90 |\n",
       "| 1000926 | F07.81 | 2020-06-03 | Postconcussional syndrome                           | 2 | 1 | NA     | NA | NA | NA | 2020-06-03 | condition_F07.81 |\n",
       "| 1000976 | F07.81 | 2017-06-13 | Postconcussional syndrome                           | 4 | 1 | NA     | NA | NA | NA | 2017-06-13 | condition_F07.81 |\n",
       "| 1001395 | 310.2  | 1999-10-22 | Postconcussion syndrome                             | 1 | 1 | NA     | NA | NA | NA | 1999-10-22 | condition_310.2  |\n",
       "\n"
      ],
      "text/plain": [
       "  person_id dementia_code dementia_date\n",
       "1 1000079   F07.81        2015-12-18   \n",
       "2 1000291   290.13        2010-12-15   \n",
       "3 1000801   F03.90        2020-11-20   \n",
       "4 1000926   F07.81        2020-06-03   \n",
       "5 1000976   F07.81        2017-06-13   \n",
       "6 1001395   310.2         1999-10-22   \n",
       "  source_concept_name                                 dementia_count\n",
       "1 Postconcussional syndrome                           1             \n",
       "2 Presenile dementia with depressive features         7             \n",
       "3 Unspecified dementia without behavioral disturbance 1             \n",
       "4 Postconcussional syndrome                           2             \n",
       "5 Postconcussional syndrome                           4             \n",
       "6 Postconcussion syndrome                             1             \n",
       "  dementia_status drug_code drug_date  drug_count drug_status\n",
       "1 1               NA        <NA>       NA         NA         \n",
       "2 1               NA        <NA>       NA         NA         \n",
       "3 1               997223    2020-12-03 17          1         \n",
       "4 1               NA        <NA>       NA         NA         \n",
       "5 1               NA        <NA>       NA         NA         \n",
       "6 1               NA        <NA>       NA         NA         \n",
       "  earliest_dementia_date earliest_dementia_source\n",
       "1 2015-12-18             condition_F07.81        \n",
       "2 2010-12-15             condition_290.13        \n",
       "3 2020-11-20             condition_F03.90        \n",
       "4 2020-06-03             condition_F07.81        \n",
       "5 2017-06-13             condition_F07.81        \n",
       "6 1999-10-22             condition_310.2         "
      ]
     },
     "metadata": {},
     "output_type": "display_data"
    }
   ],
   "source": [
    "## merge dementia and anti-dementia drug tables\n",
    "temp_dementia_df2 <- \n",
    "full_join(temp_dementia_df, temp_drugs_df, by=\"person_id\") %>%\n",
    "    mutate(earliest_dementia_date = case_when( drug_date < dementia_date  ~ drug_date,\n",
    "                                               drug_date > dementia_date ~ dementia_date,\n",
    "                                               drug_date == dementia_date ~ dementia_date,\n",
    "                                               is.na(drug_date) ~ dementia_date, # when only diagnosis is available\n",
    "                                               is.na(dementia_date) ~ drug_date, # when only drug is available\n",
    "                                               TRUE ~ NA )) %>% \n",
    "    mutate(earliest_dementia_source = case_when( drug_date < dementia_date  ~ paste0(\"drug\", \"_\", drug_code),\n",
    "                                                 drug_date > dementia_date ~ paste0(\"condition\", \"_\", dementia_code),\n",
    "                                                 drug_date == dementia_date ~ paste0(\"both\", \"_\", dementia_code, \"_\", drug_code),\n",
    "                                                 is.na(drug_date) ~ paste0(\"condition\", \"_\", dementia_code), # when only diagnosis is available\n",
    "                                                 is.na(dementia_date) ~ paste0(\"drug\", \"_\", drug_code), # when only drug is available\n",
    "                                                 TRUE ~ NA ))\n",
    "\n",
    "dim(temp_dementia_df2)\n",
    "head(temp_dementia_df2)"
   ]
  },
  {
   "cell_type": "code",
   "execution_count": 34,
   "metadata": {},
   "outputs": [
    {
     "name": "stdout",
     "output_type": "stream",
     "text": [
      "# of individuals wiht dementia OR delirium: 8502"
     ]
    },
    {
     "data": {
      "text/html": [
       "<table class=\"dataframe\">\n",
       "<caption>A grouped_df: 6 × 17</caption>\n",
       "<thead>\n",
       "\t<tr><th scope=col>person_id</th><th scope=col>delirium_code</th><th scope=col>delirium_date</th><th scope=col>delirium_count</th><th scope=col>delirium_status</th><th scope=col>dementia_code</th><th scope=col>dementia_date</th><th scope=col>source_concept_name</th><th scope=col>dementia_count</th><th scope=col>dementia_status</th><th scope=col>drug_code</th><th scope=col>drug_date</th><th scope=col>drug_count</th><th scope=col>drug_status</th><th scope=col>earliest_dementia_date</th><th scope=col>earliest_dementia_source</th><th scope=col>dementia_incident</th></tr>\n",
       "\t<tr><th scope=col>&lt;dbl&gt;</th><th scope=col>&lt;chr&gt;</th><th scope=col>&lt;dttm&gt;</th><th scope=col>&lt;int&gt;</th><th scope=col>&lt;dbl&gt;</th><th scope=col>&lt;chr&gt;</th><th scope=col>&lt;dttm&gt;</th><th scope=col>&lt;chr&gt;</th><th scope=col>&lt;int&gt;</th><th scope=col>&lt;dbl&gt;</th><th scope=col>&lt;chr&gt;</th><th scope=col>&lt;dttm&gt;</th><th scope=col>&lt;int&gt;</th><th scope=col>&lt;dbl&gt;</th><th scope=col>&lt;dttm&gt;</th><th scope=col>&lt;chr&gt;</th><th scope=col>&lt;dbl&gt;</th></tr>\n",
       "</thead>\n",
       "<tbody>\n",
       "\t<tr><td>1000320</td><td>F05</td><td>2017-07-27</td><td>1</td><td>1</td><td>NA    </td><td>NA</td><td>NA                                                 </td><td>NA</td><td>NA</td><td>NA    </td><td>NA</td><td>NA</td><td>NA</td><td>NA</td><td>NA         </td><td>NA</td></tr>\n",
       "\t<tr><td>1001121</td><td>F05</td><td>2020-05-15</td><td>3</td><td>1</td><td>NA    </td><td>NA</td><td>NA                                                 </td><td>NA</td><td>NA</td><td>NA    </td><td>NA</td><td>NA</td><td>NA</td><td>NA</td><td>NA         </td><td>NA</td></tr>\n",
       "\t<tr><td>1002832</td><td>F05</td><td>2019-11-19</td><td>1</td><td>1</td><td>NA    </td><td>NA</td><td>NA                                                 </td><td>NA</td><td>NA</td><td>NA    </td><td>NA</td><td>NA</td><td>NA</td><td>NA</td><td>NA         </td><td>NA</td></tr>\n",
       "\t<tr><td>1002867</td><td>F05</td><td>2017-03-19</td><td>1</td><td>1</td><td>NA    </td><td>NA</td><td>NA                                                 </td><td>NA</td><td>NA</td><td>NA    </td><td>NA</td><td>NA</td><td>NA</td><td>NA</td><td>NA         </td><td>NA</td></tr>\n",
       "\t<tr><td>1003498</td><td>F05</td><td>2016-02-10</td><td>1</td><td>1</td><td>F03.90</td><td>2017-04-28</td><td>Unspecified dementia without behavioral disturbance</td><td> 3</td><td> 1</td><td>997229</td><td>2016-07-22</td><td>68</td><td> 1</td><td>2016-07-22</td><td>drug_997229</td><td> 1</td></tr>\n",
       "\t<tr><td>1004234</td><td>F05</td><td>2020-11-19</td><td>1</td><td>1</td><td>NA    </td><td>NA</td><td>NA                                                 </td><td>NA</td><td>NA</td><td>NA    </td><td>NA</td><td>NA</td><td>NA</td><td>NA</td><td>NA         </td><td>NA</td></tr>\n",
       "</tbody>\n",
       "</table>\n"
      ],
      "text/latex": [
       "A grouped\\_df: 6 × 17\n",
       "\\begin{tabular}{lllllllllllllllll}\n",
       " person\\_id & delirium\\_code & delirium\\_date & delirium\\_count & delirium\\_status & dementia\\_code & dementia\\_date & source\\_concept\\_name & dementia\\_count & dementia\\_status & drug\\_code & drug\\_date & drug\\_count & drug\\_status & earliest\\_dementia\\_date & earliest\\_dementia\\_source & dementia\\_incident\\\\\n",
       " <dbl> & <chr> & <dttm> & <int> & <dbl> & <chr> & <dttm> & <chr> & <int> & <dbl> & <chr> & <dttm> & <int> & <dbl> & <dttm> & <chr> & <dbl>\\\\\n",
       "\\hline\n",
       "\t 1000320 & F05 & 2017-07-27 & 1 & 1 & NA     & NA & NA                                                  & NA & NA & NA     & NA & NA & NA & NA & NA          & NA\\\\\n",
       "\t 1001121 & F05 & 2020-05-15 & 3 & 1 & NA     & NA & NA                                                  & NA & NA & NA     & NA & NA & NA & NA & NA          & NA\\\\\n",
       "\t 1002832 & F05 & 2019-11-19 & 1 & 1 & NA     & NA & NA                                                  & NA & NA & NA     & NA & NA & NA & NA & NA          & NA\\\\\n",
       "\t 1002867 & F05 & 2017-03-19 & 1 & 1 & NA     & NA & NA                                                  & NA & NA & NA     & NA & NA & NA & NA & NA          & NA\\\\\n",
       "\t 1003498 & F05 & 2016-02-10 & 1 & 1 & F03.90 & 2017-04-28 & Unspecified dementia without behavioral disturbance &  3 &  1 & 997229 & 2016-07-22 & 68 &  1 & 2016-07-22 & drug\\_997229 &  1\\\\\n",
       "\t 1004234 & F05 & 2020-11-19 & 1 & 1 & NA     & NA & NA                                                  & NA & NA & NA     & NA & NA & NA & NA & NA          & NA\\\\\n",
       "\\end{tabular}\n"
      ],
      "text/markdown": [
       "\n",
       "A grouped_df: 6 × 17\n",
       "\n",
       "| person_id &lt;dbl&gt; | delirium_code &lt;chr&gt; | delirium_date &lt;dttm&gt; | delirium_count &lt;int&gt; | delirium_status &lt;dbl&gt; | dementia_code &lt;chr&gt; | dementia_date &lt;dttm&gt; | source_concept_name &lt;chr&gt; | dementia_count &lt;int&gt; | dementia_status &lt;dbl&gt; | drug_code &lt;chr&gt; | drug_date &lt;dttm&gt; | drug_count &lt;int&gt; | drug_status &lt;dbl&gt; | earliest_dementia_date &lt;dttm&gt; | earliest_dementia_source &lt;chr&gt; | dementia_incident &lt;dbl&gt; |\n",
       "|---|---|---|---|---|---|---|---|---|---|---|---|---|---|---|---|---|\n",
       "| 1000320 | F05 | 2017-07-27 | 1 | 1 | NA     | NA | NA                                                  | NA | NA | NA     | NA | NA | NA | NA | NA          | NA |\n",
       "| 1001121 | F05 | 2020-05-15 | 3 | 1 | NA     | NA | NA                                                  | NA | NA | NA     | NA | NA | NA | NA | NA          | NA |\n",
       "| 1002832 | F05 | 2019-11-19 | 1 | 1 | NA     | NA | NA                                                  | NA | NA | NA     | NA | NA | NA | NA | NA          | NA |\n",
       "| 1002867 | F05 | 2017-03-19 | 1 | 1 | NA     | NA | NA                                                  | NA | NA | NA     | NA | NA | NA | NA | NA          | NA |\n",
       "| 1003498 | F05 | 2016-02-10 | 1 | 1 | F03.90 | 2017-04-28 | Unspecified dementia without behavioral disturbance |  3 |  1 | 997229 | 2016-07-22 | 68 |  1 | 2016-07-22 | drug_997229 |  1 |\n",
       "| 1004234 | F05 | 2020-11-19 | 1 | 1 | NA     | NA | NA                                                  | NA | NA | NA     | NA | NA | NA | NA | NA          | NA |\n",
       "\n"
      ],
      "text/plain": [
       "  person_id delirium_code delirium_date delirium_count delirium_status\n",
       "1 1000320   F05           2017-07-27    1              1              \n",
       "2 1001121   F05           2020-05-15    3              1              \n",
       "3 1002832   F05           2019-11-19    1              1              \n",
       "4 1002867   F05           2017-03-19    1              1              \n",
       "5 1003498   F05           2016-02-10    1              1              \n",
       "6 1004234   F05           2020-11-19    1              1              \n",
       "  dementia_code dementia_date\n",
       "1 NA            <NA>         \n",
       "2 NA            <NA>         \n",
       "3 NA            <NA>         \n",
       "4 NA            <NA>         \n",
       "5 F03.90        2017-04-28   \n",
       "6 NA            <NA>         \n",
       "  source_concept_name                                 dementia_count\n",
       "1 NA                                                  NA            \n",
       "2 NA                                                  NA            \n",
       "3 NA                                                  NA            \n",
       "4 NA                                                  NA            \n",
       "5 Unspecified dementia without behavioral disturbance  3            \n",
       "6 NA                                                  NA            \n",
       "  dementia_status drug_code drug_date  drug_count drug_status\n",
       "1 NA              NA        <NA>       NA         NA         \n",
       "2 NA              NA        <NA>       NA         NA         \n",
       "3 NA              NA        <NA>       NA         NA         \n",
       "4 NA              NA        <NA>       NA         NA         \n",
       "5  1              997229    2016-07-22 68          1         \n",
       "6 NA              NA        <NA>       NA         NA         \n",
       "  earliest_dementia_date earliest_dementia_source dementia_incident\n",
       "1 <NA>                   NA                       NA               \n",
       "2 <NA>                   NA                       NA               \n",
       "3 <NA>                   NA                       NA               \n",
       "4 <NA>                   NA                       NA               \n",
       "5 2016-07-22             drug_997229               1               \n",
       "6 <NA>                   NA                       NA               "
      ]
     },
     "metadata": {},
     "output_type": "display_data"
    }
   ],
   "source": [
    "## merge delirium & dementia tables and make dementia incident variable \n",
    "# -1 = dementia before delirium (prevalent); \n",
    "# 0 = same date as delirium; \n",
    "# 1 = after delirium (incident)\n",
    "\n",
    "deldem <- \n",
    "full_join(temp_delirium_df, temp_dementia_df2, by=\"person_id\") %>%\n",
    "    mutate(dementia_incident = case_when( delirium_date < earliest_dementia_date  ~ 1,\n",
    "                                          delirium_date > earliest_dementia_date ~ -1,\n",
    "                                          delirium_date == earliest_dementia_date ~ 0,\n",
    "                                          TRUE ~ NA))\n",
    "\n",
    "\n",
    "cat(\"# of individuals wiht dementia OR delirium:\", nrow(deldem))\n",
    "head(deldem)"
   ]
  },
  {
   "cell_type": "code",
   "execution_count": 35,
   "metadata": {},
   "outputs": [
    {
     "name": "stderr",
     "output_type": "stream",
     "text": [
      "\u001b[1m\u001b[22m`summarise()` has grouped output by 'delirium_status'. You can override using\n",
      "the `.groups` argument.\n"
     ]
    },
    {
     "data": {
      "text/html": [
       "<table class=\"dataframe\">\n",
       "<caption>A grouped_df: 5 × 3</caption>\n",
       "<thead>\n",
       "\t<tr><th scope=col>delirium_status</th><th scope=col>dementia_incident</th><th scope=col>n</th></tr>\n",
       "\t<tr><th scope=col>&lt;dbl&gt;</th><th scope=col>&lt;dbl&gt;</th><th scope=col>&lt;int&gt;</th></tr>\n",
       "</thead>\n",
       "<tbody>\n",
       "\t<tr><td> 1</td><td>-1</td><td> 225</td></tr>\n",
       "\t<tr><td> 1</td><td> 0</td><td>  71</td></tr>\n",
       "\t<tr><td> 1</td><td> 1</td><td> 138</td></tr>\n",
       "\t<tr><td> 1</td><td>NA</td><td>1455</td></tr>\n",
       "\t<tr><td>NA</td><td>NA</td><td>6613</td></tr>\n",
       "</tbody>\n",
       "</table>\n"
      ],
      "text/latex": [
       "A grouped\\_df: 5 × 3\n",
       "\\begin{tabular}{lll}\n",
       " delirium\\_status & dementia\\_incident & n\\\\\n",
       " <dbl> & <dbl> & <int>\\\\\n",
       "\\hline\n",
       "\t  1 & -1 &  225\\\\\n",
       "\t  1 &  0 &   71\\\\\n",
       "\t  1 &  1 &  138\\\\\n",
       "\t  1 & NA & 1455\\\\\n",
       "\t NA & NA & 6613\\\\\n",
       "\\end{tabular}\n"
      ],
      "text/markdown": [
       "\n",
       "A grouped_df: 5 × 3\n",
       "\n",
       "| delirium_status &lt;dbl&gt; | dementia_incident &lt;dbl&gt; | n &lt;int&gt; |\n",
       "|---|---|---|\n",
       "|  1 | -1 |  225 |\n",
       "|  1 |  0 |   71 |\n",
       "|  1 |  1 |  138 |\n",
       "|  1 | NA | 1455 |\n",
       "| NA | NA | 6613 |\n",
       "\n"
      ],
      "text/plain": [
       "  delirium_status dementia_incident n   \n",
       "1  1              -1                 225\n",
       "2  1               0                  71\n",
       "3  1               1                 138\n",
       "4  1              NA                1455\n",
       "5 NA              NA                6613"
      ]
     },
     "metadata": {},
     "output_type": "display_data"
    }
   ],
   "source": [
    "deldem %>% group_by(delirium_status, dementia_incident) %>% summarise(n=n())"
   ]
  },
  {
   "cell_type": "code",
   "execution_count": 36,
   "metadata": {
    "scrolled": true
   },
   "outputs": [
    {
     "data": {
      "text/html": [
       "<table class=\"dataframe\">\n",
       "<caption>A tibble: 2 × 3</caption>\n",
       "<thead>\n",
       "\t<tr><th scope=col>delirium_status</th><th scope=col>n</th><th scope=col>dementia_prev</th></tr>\n",
       "\t<tr><th scope=col>&lt;dbl&gt;</th><th scope=col>&lt;int&gt;</th><th scope=col>&lt;dbl&gt;</th></tr>\n",
       "</thead>\n",
       "<tbody>\n",
       "\t<tr><td> 1</td><td>1889</td><td>NA</td></tr>\n",
       "\t<tr><td>NA</td><td>6613</td><td>NA</td></tr>\n",
       "</tbody>\n",
       "</table>\n"
      ],
      "text/latex": [
       "A tibble: 2 × 3\n",
       "\\begin{tabular}{lll}\n",
       " delirium\\_status & n & dementia\\_prev\\\\\n",
       " <dbl> & <int> & <dbl>\\\\\n",
       "\\hline\n",
       "\t  1 & 1889 & NA\\\\\n",
       "\t NA & 6613 & NA\\\\\n",
       "\\end{tabular}\n"
      ],
      "text/markdown": [
       "\n",
       "A tibble: 2 × 3\n",
       "\n",
       "| delirium_status &lt;dbl&gt; | n &lt;int&gt; | dementia_prev &lt;dbl&gt; |\n",
       "|---|---|---|\n",
       "|  1 | 1889 | NA |\n",
       "| NA | 6613 | NA |\n",
       "\n"
      ],
      "text/plain": [
       "  delirium_status n    dementia_prev\n",
       "1  1              1889 NA           \n",
       "2 NA              6613 NA           "
      ]
     },
     "metadata": {},
     "output_type": "display_data"
    }
   ],
   "source": [
    "deldem %>% \n",
    "    group_by(delirium_status) %>% \n",
    "    summarise(n=n(),\n",
    "              dementia_prev = round((sum(dementia_status==1,na.rm = F)/n())*100,2))"
   ]
  },
  {
   "cell_type": "code",
   "execution_count": 37,
   "metadata": {},
   "outputs": [],
   "source": [
    "## merge with all participants\n",
    "full <- left_join(temp_person_df, deldem, by = \"person_id\") %>%\n",
    "    mutate(delirium_status = ifelse(is.na(delirium_status),0,delirium_status)) %>%\n",
    "    mutate(dementia_status = ifelse(is.na(dementia_status),0,dementia_status)) %>%\n",
    "    mutate(dementia_incident = ifelse(is.na(dementia_incident),-9,dementia_incident))\n"
   ]
  },
  {
   "cell_type": "code",
   "execution_count": 38,
   "metadata": {},
   "outputs": [
    {
     "data": {
      "text/html": [],
      "text/latex": [],
      "text/markdown": [],
      "text/plain": [
       "character(0)"
      ]
     },
     "metadata": {},
     "output_type": "display_data"
    }
   ],
   "source": [
    "## get participants with genomic data from ancestry table\n",
    "## Copy ancestry_preds.tsv table to workspace\n",
    "library(data.table)\n",
    "GOOGLE_PROJECT <- Sys.getenv(\"GOOGLE_PROJECT\")\n",
    "system(paste(\"gsutil -u\", GOOGLE_PROJECT, \"cp gs://fc-aou-datasets-controlled/v7/wgs/short_read/snpindel/aux/ancestry/ancestry_preds.tsv .\"), intern=T)\n",
    "## load ancestry table\n",
    "ancestry_pred <- fread(\"ancestry_preds.tsv\") %>% select(research_id, ancestry_pred_other) %>% rename(person_id = research_id)\n"
   ]
  },
  {
   "cell_type": "code",
   "execution_count": 39,
   "metadata": {},
   "outputs": [
    {
     "data": {
      "text/html": [
       "<table class=\"dataframe\">\n",
       "<caption>A tibble: 2 × 5</caption>\n",
       "<thead>\n",
       "\t<tr><th scope=col>delirium_status</th><th scope=col>n_del</th><th scope=col>dementia (%)</th><th scope=col>dementia_prev (%)</th><th scope=col>dementia_inc (%)</th></tr>\n",
       "\t<tr><th scope=col>&lt;dbl&gt;</th><th scope=col>&lt;int&gt;</th><th scope=col>&lt;dbl&gt;</th><th scope=col>&lt;dbl&gt;</th><th scope=col>&lt;dbl&gt;</th></tr>\n",
       "</thead>\n",
       "<tbody>\n",
       "\t<tr><td>0</td><td>411568</td><td> 1.29</td><td> 0.00</td><td>0.00</td></tr>\n",
       "\t<tr><td>1</td><td>  1889</td><td>20.65</td><td>15.67</td><td>7.31</td></tr>\n",
       "</tbody>\n",
       "</table>\n"
      ],
      "text/latex": [
       "A tibble: 2 × 5\n",
       "\\begin{tabular}{lllll}\n",
       " delirium\\_status & n\\_del & dementia (\\%) & dementia\\_prev (\\%) & dementia\\_inc (\\%)\\\\\n",
       " <dbl> & <int> & <dbl> & <dbl> & <dbl>\\\\\n",
       "\\hline\n",
       "\t 0 & 411568 &  1.29 &  0.00 & 0.00\\\\\n",
       "\t 1 &   1889 & 20.65 & 15.67 & 7.31\\\\\n",
       "\\end{tabular}\n"
      ],
      "text/markdown": [
       "\n",
       "A tibble: 2 × 5\n",
       "\n",
       "| delirium_status &lt;dbl&gt; | n_del &lt;int&gt; | dementia (%) &lt;dbl&gt; | dementia_prev (%) &lt;dbl&gt; | dementia_inc (%) &lt;dbl&gt; |\n",
       "|---|---|---|---|---|\n",
       "| 0 | 411568 |  1.29 |  0.00 | 0.00 |\n",
       "| 1 |   1889 | 20.65 | 15.67 | 7.31 |\n",
       "\n"
      ],
      "text/plain": [
       "  delirium_status n_del  dementia (%) dementia_prev (%) dementia_inc (%)\n",
       "1 0               411568  1.29         0.00             0.00            \n",
       "2 1                 1889 20.65        15.67             7.31            "
      ]
     },
     "metadata": {},
     "output_type": "display_data"
    }
   ],
   "source": [
    "full %>% \n",
    "    group_by(delirium_status) %>% \n",
    "    summarise(n_del =n(), \n",
    "              `dementia (%)` = round((sum(dementia_status==1)/n())*100,2),\n",
    "              `dementia_prev (%)` = round((sum(dementia_incident==0 | dementia_incident==-1)/n())*100,2),\n",
    "              `dementia_inc (%)` = round((sum(dementia_incident==1)/n())*100,2)              \n",
    "              )\n",
    " "
   ]
  },
  {
   "cell_type": "code",
   "execution_count": 52,
   "metadata": {},
   "outputs": [
    {
     "data": {
      "text/html": [
       "<table class=\"dataframe\">\n",
       "<caption>A tibble: 2 × 5</caption>\n",
       "<thead>\n",
       "\t<tr><th scope=col>delirium_status</th><th scope=col>n_del</th><th scope=col>dementia (%)</th><th scope=col>dementia_prev (%)</th><th scope=col>dementia_inc (%)</th></tr>\n",
       "\t<tr><th scope=col>&lt;dbl&gt;</th><th scope=col>&lt;int&gt;</th><th scope=col>&lt;dbl&gt;</th><th scope=col>&lt;dbl&gt;</th><th scope=col>&lt;dbl&gt;</th></tr>\n",
       "</thead>\n",
       "<tbody>\n",
       "\t<tr><td>0</td><td>244250</td><td> 1.46</td><td> 0.00</td><td>0.00</td></tr>\n",
       "\t<tr><td>1</td><td>  1138</td><td>20.56</td><td>16.43</td><td>6.33</td></tr>\n",
       "</tbody>\n",
       "</table>\n"
      ],
      "text/latex": [
       "A tibble: 2 × 5\n",
       "\\begin{tabular}{lllll}\n",
       " delirium\\_status & n\\_del & dementia (\\%) & dementia\\_prev (\\%) & dementia\\_inc (\\%)\\\\\n",
       " <dbl> & <int> & <dbl> & <dbl> & <dbl>\\\\\n",
       "\\hline\n",
       "\t 0 & 244250 &  1.46 &  0.00 & 0.00\\\\\n",
       "\t 1 &   1138 & 20.56 & 16.43 & 6.33\\\\\n",
       "\\end{tabular}\n"
      ],
      "text/markdown": [
       "\n",
       "A tibble: 2 × 5\n",
       "\n",
       "| delirium_status &lt;dbl&gt; | n_del &lt;int&gt; | dementia (%) &lt;dbl&gt; | dementia_prev (%) &lt;dbl&gt; | dementia_inc (%) &lt;dbl&gt; |\n",
       "|---|---|---|---|---|\n",
       "| 0 | 244250 |  1.46 |  0.00 | 0.00 |\n",
       "| 1 |   1138 | 20.56 | 16.43 | 6.33 |\n",
       "\n"
      ],
      "text/plain": [
       "  delirium_status n_del  dementia (%) dementia_prev (%) dementia_inc (%)\n",
       "1 0               244250  1.46         0.00             0.00            \n",
       "2 1                 1138 20.56        16.43             6.33            "
      ]
     },
     "metadata": {},
     "output_type": "display_data"
    }
   ],
   "source": [
    "full_gen <-\n",
    "full %>% \n",
    "    filter(person_id %in% ancestry_pred$person_id) %>%\n",
    "    rename(\"dementia_concept_name\" = source_concept_name)\n",
    "full_gen %>%\n",
    "    group_by(delirium_status) %>% \n",
    "    summarise(n_del =n(), \n",
    "              `dementia (%)` = round((sum(dementia_status==1)/n())*100,2),\n",
    "              `dementia_prev (%)` = round((sum(dementia_incident==-1 | dementia_incident==0)/n())*100,2),\n",
    "              `dementia_inc (%)` = round((sum(dementia_incident==1)/n())*100,2)              \n",
    "              )\n",
    " "
   ]
  },
  {
   "cell_type": "code",
   "execution_count": 92,
   "metadata": {},
   "outputs": [],
   "source": [
    "write.table(full_gen, \"full_with_dementia.txt\", sep=\" \", row.names=F, col.names=T, quote=T)\n",
    "write.table(alzheimer_full, \"full_with_AD.txt\", sep=\" \", row.names=F, col.names=T, quote=T)"
   ]
  },
  {
   "cell_type": "code",
   "execution_count": 93,
   "metadata": {},
   "outputs": [
    {
     "data": {
      "text/html": [],
      "text/latex": [],
      "text/markdown": [],
      "text/plain": [
       "character(0)"
      ]
     },
     "metadata": {},
     "output_type": "display_data"
    },
    {
     "data": {
      "text/html": [],
      "text/latex": [],
      "text/markdown": [],
      "text/plain": [
       "character(0)"
      ]
     },
     "metadata": {},
     "output_type": "display_data"
    }
   ],
   "source": [
    "system(paste0(\"gsutil cp ./\", \"full_with_dementia.txt\", \" \", my_bucket, \"/data/pheno/with_dementia/full.txt\"), intern=T)\n",
    "system(paste0(\"gsutil cp ./\", \"full_with_AD.txt\", \" \", my_bucket, \"/data/pheno/with_dementia/full_AD.txt\"), intern=T)\n"
   ]
  }
 ],
 "metadata": {
  "kernelspec": {
   "display_name": "R",
   "language": "R",
   "name": "ir"
  },
  "language_info": {
   "codemirror_mode": "r",
   "file_extension": ".r",
   "mimetype": "text/x-r-source",
   "name": "R",
   "pygments_lexer": "r",
   "version": "4.4.0"
  },
  "toc": {
   "base_numbering": 1,
   "nav_menu": {},
   "number_sections": true,
   "sideBar": true,
   "skip_h1_title": false,
   "title_cell": "Table of Contents",
   "title_sidebar": "Contents",
   "toc_cell": false,
   "toc_position": {},
   "toc_section_display": true,
   "toc_window_display": false
  }
 },
 "nbformat": 4,
 "nbformat_minor": 2
}
