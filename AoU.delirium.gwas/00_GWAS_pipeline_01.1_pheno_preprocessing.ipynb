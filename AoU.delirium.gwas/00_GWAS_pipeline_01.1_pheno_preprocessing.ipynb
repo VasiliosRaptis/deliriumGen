{
 "cells": [
  {
   "cell_type": "markdown",
   "metadata": {},
   "source": [
    "**AUTHOR:** <br>\n",
    "Vasilis Raptis\n",
    "\n",
    "**DATE:** <br>\n",
    "20.05.2024 \n",
    "\n",
    "**PURPOSE:** <br>\n",
    "This notebook: \n",
    "- downloads the phenotypic data for the delirium GWAS, queried during the dataset creation. \n",
    "- downloads precomputed ancestry PCs and predicted ancestry for individuals with srWGS data.\n",
    "- merges and does some basic cleaning on the phenotype and covariates.\n",
    "- make \"age\" variable as (age_at_first_delirium_episode OR age_at_cencoring) - dob\n",
    "- extact full table of phenotype and covariates into gooogle bucket\n",
    "\n",
    "**NOTE:** <br>\n",
    "- This notebook needs to be run once, as it saves the phenotype/covariates file to the bucket. After this, just load the *\"{my_bucket}/data/full_pheno_df.csv\"* file into the workspace.\n",
    "- **UPDATE 03.06.2024:** an updated pheno file has been created: *\"{my_bucket}/data/full_pheno_clean_del_df.csv\"* . This use uses only the F05 and X293.0 delirium codes, for consistency with other cohorts. Not much changes, ~100 cases less.\n",
    "- **UPDATE 03.06.2024:** output age as integer. DOB is censored to \"06-15\" mm-dd, so there is no point for finer age definition."
   ]
  },
  {
   "cell_type": "markdown",
   "metadata": {},
   "source": [
    "**Setup:**"
   ]
  },
  {
   "cell_type": "code",
   "execution_count": 1,
   "metadata": {},
   "outputs": [
    {
     "name": "stderr",
     "output_type": "stream",
     "text": [
      "── \u001b[1mAttaching core tidyverse packages\u001b[22m ──────────────────────── tidyverse 2.0.0 ──\n",
      "\u001b[32m✔\u001b[39m \u001b[34mdplyr    \u001b[39m 1.1.4     \u001b[32m✔\u001b[39m \u001b[34mreadr    \u001b[39m 2.1.5\n",
      "\u001b[32m✔\u001b[39m \u001b[34mforcats  \u001b[39m 1.0.0     \u001b[32m✔\u001b[39m \u001b[34mstringr  \u001b[39m 1.5.1\n",
      "\u001b[32m✔\u001b[39m \u001b[34mggplot2  \u001b[39m 3.5.1     \u001b[32m✔\u001b[39m \u001b[34mtibble   \u001b[39m 3.2.1\n",
      "\u001b[32m✔\u001b[39m \u001b[34mlubridate\u001b[39m 1.9.3     \u001b[32m✔\u001b[39m \u001b[34mtidyr    \u001b[39m 1.3.1\n",
      "\u001b[32m✔\u001b[39m \u001b[34mpurrr    \u001b[39m 1.0.2     \n",
      "── \u001b[1mConflicts\u001b[22m ────────────────────────────────────────── tidyverse_conflicts() ──\n",
      "\u001b[31m✖\u001b[39m \u001b[34mdplyr\u001b[39m::\u001b[32mfilter()\u001b[39m masks \u001b[34mstats\u001b[39m::filter()\n",
      "\u001b[31m✖\u001b[39m \u001b[34mdplyr\u001b[39m::\u001b[32mlag()\u001b[39m    masks \u001b[34mstats\u001b[39m::lag()\n",
      "\u001b[36mℹ\u001b[39m Use the conflicted package (\u001b[3m\u001b[34m<http://conflicted.r-lib.org/>\u001b[39m\u001b[23m) to force all conflicts to become errors\n",
      "\n",
      "Attaching package: ‘data.table’\n",
      "\n",
      "\n",
      "The following objects are masked from ‘package:lubridate’:\n",
      "\n",
      "    hour, isoweek, mday, minute, month, quarter, second, wday, week,\n",
      "    yday, year\n",
      "\n",
      "\n",
      "The following objects are masked from ‘package:dplyr’:\n",
      "\n",
      "    between, first, last\n",
      "\n",
      "\n",
      "The following object is masked from ‘package:purrr’:\n",
      "\n",
      "    transpose\n",
      "\n",
      "\n"
     ]
    },
    {
     "data": {
      "text/html": [
       "'gs://fc-secure-0e4de6e0-e2d7-4267-949d-7b1ad758a53f'"
      ],
      "text/latex": [
       "'gs://fc-secure-0e4de6e0-e2d7-4267-949d-7b1ad758a53f'"
      ],
      "text/markdown": [
       "'gs://fc-secure-0e4de6e0-e2d7-4267-949d-7b1ad758a53f'"
      ],
      "text/plain": [
       "[1] \"gs://fc-secure-0e4de6e0-e2d7-4267-949d-7b1ad758a53f\""
      ]
     },
     "metadata": {},
     "output_type": "display_data"
    }
   ],
   "source": [
    "## libraries\n",
    "library(tidyverse)\n",
    "library(bigrquery)\n",
    "library(data.table)\n",
    "\n",
    "## Get my bucket name\n",
    "my_bucket  <- Sys.getenv(\"WORKSPACE_BUCKET\")\n",
    "my_bucket\n",
    "## Google project name\n",
    "GOOGLE_PROJECT <- Sys.getenv(\"GOOGLE_PROJECT\")\n"
   ]
  },
  {
   "cell_type": "code",
   "execution_count": 2,
   "metadata": {},
   "outputs": [
    {
     "data": {
      "text/html": [
       "<style>\n",
       ".list-inline {list-style: none; margin:0; padding: 0}\n",
       ".list-inline>li {display: inline-block}\n",
       ".list-inline>li:not(:last-child)::after {content: \"\\00b7\"; padding: 0 .5ex}\n",
       "</style>\n",
       "<ol class=list-inline><li>'gs://fc-secure-0e4de6e0-e2d7-4267-949d-7b1ad758a53f/data/arrays/'</li><li>'gs://fc-secure-0e4de6e0-e2d7-4267-949d-7b1ad758a53f/data/pheno/'</li><li>'gs://fc-secure-0e4de6e0-e2d7-4267-949d-7b1ad758a53f/data/regenie/'</li></ol>\n"
      ],
      "text/latex": [
       "\\begin{enumerate*}\n",
       "\\item 'gs://fc-secure-0e4de6e0-e2d7-4267-949d-7b1ad758a53f/data/arrays/'\n",
       "\\item 'gs://fc-secure-0e4de6e0-e2d7-4267-949d-7b1ad758a53f/data/pheno/'\n",
       "\\item 'gs://fc-secure-0e4de6e0-e2d7-4267-949d-7b1ad758a53f/data/regenie/'\n",
       "\\end{enumerate*}\n"
      ],
      "text/markdown": [
       "1. 'gs://fc-secure-0e4de6e0-e2d7-4267-949d-7b1ad758a53f/data/arrays/'\n",
       "2. 'gs://fc-secure-0e4de6e0-e2d7-4267-949d-7b1ad758a53f/data/pheno/'\n",
       "3. 'gs://fc-secure-0e4de6e0-e2d7-4267-949d-7b1ad758a53f/data/regenie/'\n",
       "\n",
       "\n"
      ],
      "text/plain": [
       "[1] \"gs://fc-secure-0e4de6e0-e2d7-4267-949d-7b1ad758a53f/data/arrays/\" \n",
       "[2] \"gs://fc-secure-0e4de6e0-e2d7-4267-949d-7b1ad758a53f/data/pheno/\"  \n",
       "[3] \"gs://fc-secure-0e4de6e0-e2d7-4267-949d-7b1ad758a53f/data/regenie/\""
      ]
     },
     "metadata": {},
     "output_type": "display_data"
    },
    {
     "data": {
      "text/html": [
       "<style>\n",
       ".list-inline {list-style: none; margin:0; padding: 0}\n",
       ".list-inline>li {display: inline-block}\n",
       ".list-inline>li:not(:last-child)::after {content: \"\\00b7\"; padding: 0 .5ex}\n",
       "</style>\n",
       "<ol class=list-inline><li>'00_run_notebook_in_background.ipynb'</li><li>'00_test_notebook.ipynb'</li><li>'01_part1_pheno_preprocessing.ipynb'</li><li>'01_part2_pheno_by_ancestry.ipynb'</li><li>'01_part3_age_match_subsample.ipynb'</li><li>'02_part1_genotypes_preprocessing_20240516_215713.ipynb'</li><li>'02_part1_genotypes_preprocessing_20240520_162841.ipynb'</li><li>'02_part1_genotypes_preprocessing.ipynb'</li><li>'03_part1b_run_regenie_step1_afr_20240522_123557.ipynb'</li><li>'03_part1b_run_regenie_step1_eur_20240523_130707.ipynb'</li><li>'03_part1b_run_regenie_step1_eur_20240524_082548.ipynb'</li><li>'03_part1b_run_regenie_step1_eur.ipynb'</li><li>'03_part1_run_regenie_step1.ipynb'</li><li>'03_part2b_run_regenie_step2_clinvar.ipynb'</li><li>'03_part2_run_regenie_step2_20240523_085900.ipynb'</li><li>'03_part2_run_regenie_step2_20240526_163148.ipynb'</li><li>'03_part2_run_regenie_step2.ipynb'</li><li>'04_part1_gwas_plots.ipynb'</li><li>'05_part1_meta_analysis.ipynb'</li><li>'06_part1_replication.ipynb'</li><li>'ancestry_preds.tsv'</li><li>'full_pheno_clean_del_df.csv'</li><li>'x01.1_process_delirium&amp;dementia_pheno.ipynb'</li></ol>\n"
      ],
      "text/latex": [
       "\\begin{enumerate*}\n",
       "\\item '00\\_run\\_notebook\\_in\\_background.ipynb'\n",
       "\\item '00\\_test\\_notebook.ipynb'\n",
       "\\item '01\\_part1\\_pheno\\_preprocessing.ipynb'\n",
       "\\item '01\\_part2\\_pheno\\_by\\_ancestry.ipynb'\n",
       "\\item '01\\_part3\\_age\\_match\\_subsample.ipynb'\n",
       "\\item '02\\_part1\\_genotypes\\_preprocessing\\_20240516\\_215713.ipynb'\n",
       "\\item '02\\_part1\\_genotypes\\_preprocessing\\_20240520\\_162841.ipynb'\n",
       "\\item '02\\_part1\\_genotypes\\_preprocessing.ipynb'\n",
       "\\item '03\\_part1b\\_run\\_regenie\\_step1\\_afr\\_20240522\\_123557.ipynb'\n",
       "\\item '03\\_part1b\\_run\\_regenie\\_step1\\_eur\\_20240523\\_130707.ipynb'\n",
       "\\item '03\\_part1b\\_run\\_regenie\\_step1\\_eur\\_20240524\\_082548.ipynb'\n",
       "\\item '03\\_part1b\\_run\\_regenie\\_step1\\_eur.ipynb'\n",
       "\\item '03\\_part1\\_run\\_regenie\\_step1.ipynb'\n",
       "\\item '03\\_part2b\\_run\\_regenie\\_step2\\_clinvar.ipynb'\n",
       "\\item '03\\_part2\\_run\\_regenie\\_step2\\_20240523\\_085900.ipynb'\n",
       "\\item '03\\_part2\\_run\\_regenie\\_step2\\_20240526\\_163148.ipynb'\n",
       "\\item '03\\_part2\\_run\\_regenie\\_step2.ipynb'\n",
       "\\item '04\\_part1\\_gwas\\_plots.ipynb'\n",
       "\\item '05\\_part1\\_meta\\_analysis.ipynb'\n",
       "\\item '06\\_part1\\_replication.ipynb'\n",
       "\\item 'ancestry\\_preds.tsv'\n",
       "\\item 'full\\_pheno\\_clean\\_del\\_df.csv'\n",
       "\\item 'x01.1\\_process\\_delirium\\&dementia\\_pheno.ipynb'\n",
       "\\end{enumerate*}\n"
      ],
      "text/markdown": [
       "1. '00_run_notebook_in_background.ipynb'\n",
       "2. '00_test_notebook.ipynb'\n",
       "3. '01_part1_pheno_preprocessing.ipynb'\n",
       "4. '01_part2_pheno_by_ancestry.ipynb'\n",
       "5. '01_part3_age_match_subsample.ipynb'\n",
       "6. '02_part1_genotypes_preprocessing_20240516_215713.ipynb'\n",
       "7. '02_part1_genotypes_preprocessing_20240520_162841.ipynb'\n",
       "8. '02_part1_genotypes_preprocessing.ipynb'\n",
       "9. '03_part1b_run_regenie_step1_afr_20240522_123557.ipynb'\n",
       "10. '03_part1b_run_regenie_step1_eur_20240523_130707.ipynb'\n",
       "11. '03_part1b_run_regenie_step1_eur_20240524_082548.ipynb'\n",
       "12. '03_part1b_run_regenie_step1_eur.ipynb'\n",
       "13. '03_part1_run_regenie_step1.ipynb'\n",
       "14. '03_part2b_run_regenie_step2_clinvar.ipynb'\n",
       "15. '03_part2_run_regenie_step2_20240523_085900.ipynb'\n",
       "16. '03_part2_run_regenie_step2_20240526_163148.ipynb'\n",
       "17. '03_part2_run_regenie_step2.ipynb'\n",
       "18. '04_part1_gwas_plots.ipynb'\n",
       "19. '05_part1_meta_analysis.ipynb'\n",
       "20. '06_part1_replication.ipynb'\n",
       "21. 'ancestry_preds.tsv'\n",
       "22. 'full_pheno_clean_del_df.csv'\n",
       "23. 'x01.1_process_delirium&amp;dementia_pheno.ipynb'\n",
       "\n",
       "\n"
      ],
      "text/plain": [
       " [1] \"00_run_notebook_in_background.ipynb\"                   \n",
       " [2] \"00_test_notebook.ipynb\"                                \n",
       " [3] \"01_part1_pheno_preprocessing.ipynb\"                    \n",
       " [4] \"01_part2_pheno_by_ancestry.ipynb\"                      \n",
       " [5] \"01_part3_age_match_subsample.ipynb\"                    \n",
       " [6] \"02_part1_genotypes_preprocessing_20240516_215713.ipynb\"\n",
       " [7] \"02_part1_genotypes_preprocessing_20240520_162841.ipynb\"\n",
       " [8] \"02_part1_genotypes_preprocessing.ipynb\"                \n",
       " [9] \"03_part1b_run_regenie_step1_afr_20240522_123557.ipynb\" \n",
       "[10] \"03_part1b_run_regenie_step1_eur_20240523_130707.ipynb\" \n",
       "[11] \"03_part1b_run_regenie_step1_eur_20240524_082548.ipynb\" \n",
       "[12] \"03_part1b_run_regenie_step1_eur.ipynb\"                 \n",
       "[13] \"03_part1_run_regenie_step1.ipynb\"                      \n",
       "[14] \"03_part2b_run_regenie_step2_clinvar.ipynb\"             \n",
       "[15] \"03_part2_run_regenie_step2_20240523_085900.ipynb\"      \n",
       "[16] \"03_part2_run_regenie_step2_20240526_163148.ipynb\"      \n",
       "[17] \"03_part2_run_regenie_step2.ipynb\"                      \n",
       "[18] \"04_part1_gwas_plots.ipynb\"                             \n",
       "[19] \"05_part1_meta_analysis.ipynb\"                          \n",
       "[20] \"06_part1_replication.ipynb\"                            \n",
       "[21] \"ancestry_preds.tsv\"                                    \n",
       "[22] \"full_pheno_clean_del_df.csv\"                           \n",
       "[23] \"x01.1_process_delirium&dementia_pheno.ipynb\"           "
      ]
     },
     "metadata": {},
     "output_type": "display_data"
    }
   ],
   "source": [
    "# List data in my bucket\n",
    "system(paste0(\"gsutil ls \", my_bucket, \"/data\"), intern=T)\n",
    "# List object in workspace\n",
    "system(\"ls .\", intern=T)"
   ]
  },
  {
   "cell_type": "markdown",
   "metadata": {},
   "source": [
    "**Queries:** "
   ]
  },
  {
   "cell_type": "markdown",
   "metadata": {},
   "source": [
    "**the code below was copied when the dataset \"delirium gwas -basics\" was created*"
   ]
  },
  {
   "cell_type": "code",
   "execution_count": 2,
   "metadata": {},
   "outputs": [
    {
     "name": "stderr",
     "output_type": "stream",
     "text": [
      "The data will be written to gs://fc-secure-0e4de6e0-e2d7-4267-949d-7b1ad758a53f/bq_exports/vraptis@researchallofus.org/20241022/person_17536089/person_17536089_*.csv. Use this path when reading the data into your notebooks in the future.\n",
      "\n"
     ]
    }
   ],
   "source": [
    "#This query represents dataset \"delirium gwas  - basic\" for domain \"person\" and was generated for All of Us Controlled Tier Dataset v7\n",
    "dataset_17536089_person_sql <- paste(\"\n",
    "    SELECT\n",
    "        person.person_id,\n",
    "        person.gender_concept_id,\n",
    "        p_gender_concept.concept_name as gender,\n",
    "        person.birth_datetime as date_of_birth,\n",
    "        person.race_concept_id,\n",
    "        p_race_concept.concept_name as race,\n",
    "        person.ethnicity_concept_id,\n",
    "        p_ethnicity_concept.concept_name as ethnicity,\n",
    "        person.sex_at_birth_concept_id,\n",
    "        p_sex_at_birth_concept.concept_name as sex_at_birth \n",
    "    FROM\n",
    "        `person` person \n",
    "    LEFT JOIN\n",
    "        `concept` p_gender_concept \n",
    "            ON person.gender_concept_id = p_gender_concept.concept_id \n",
    "    LEFT JOIN\n",
    "        `concept` p_race_concept \n",
    "            ON person.race_concept_id = p_race_concept.concept_id \n",
    "    LEFT JOIN\n",
    "        `concept` p_ethnicity_concept \n",
    "            ON person.ethnicity_concept_id = p_ethnicity_concept.concept_id \n",
    "    LEFT JOIN\n",
    "        `concept` p_sex_at_birth_concept \n",
    "            ON person.sex_at_birth_concept_id = p_sex_at_birth_concept.concept_id\", sep=\"\")\n",
    "\n",
    "# Formulate a Cloud Storage destination path for the data exported from BigQuery.\n",
    "# NOTE: By default data exported multiple times on the same day will overwrite older copies.\n",
    "#       But data exported on a different days will write to a new location so that historical\n",
    "#       copies can be kept as the dataset definition is changed.\n",
    "person_17536089_path <- file.path(\n",
    "  Sys.getenv(\"WORKSPACE_BUCKET\"),\n",
    "  \"bq_exports\",\n",
    "  Sys.getenv(\"OWNER_EMAIL\"),\n",
    "  strftime(lubridate::now(), \"%Y%m%d\"),  # Comment out this line if you want the export to always overwrite.\n",
    "  \"person_17536089\",\n",
    "  \"person_17536089_*.csv\")\n",
    "message(str_glue('The data will be written to {person_17536089_path}. Use this path when reading ',\n",
    "                 'the data into your notebooks in the future.'))\n",
    "\n",
    "# Perform the query and export the dataset to Cloud Storage as CSV files.\n",
    "# NOTE: You only need to run `bq_table_save` once. After that, you can\n",
    "#       just read data from the CSVs in Cloud Storage.\n",
    "bq_table_save(\n",
    "  bq_dataset_query(Sys.getenv(\"WORKSPACE_CDR\"), dataset_17536089_person_sql, billing = Sys.getenv(\"GOOGLE_PROJECT\")),\n",
    "  person_17536089_path,\n",
    "  destination_format = \"CSV\")\n",
    "\n"
   ]
  },
  {
   "cell_type": "code",
   "execution_count": 3,
   "metadata": {},
   "outputs": [
    {
     "name": "stderr",
     "output_type": "stream",
     "text": [
      "Loading gs://fc-secure-0e4de6e0-e2d7-4267-949d-7b1ad758a53f/bq_exports/vraptis@researchallofus.org/20241022/person_17536089/person_17536089_000000000000.csv.\n",
      "\n"
     ]
    },
    {
     "data": {
      "text/html": [
       "<style>\n",
       ".list-inline {list-style: none; margin:0; padding: 0}\n",
       ".list-inline>li {display: inline-block}\n",
       ".list-inline>li:not(:last-child)::after {content: \"\\00b7\"; padding: 0 .5ex}\n",
       "</style>\n",
       "<ol class=list-inline><li>413457</li><li>10</li></ol>\n"
      ],
      "text/latex": [
       "\\begin{enumerate*}\n",
       "\\item 413457\n",
       "\\item 10\n",
       "\\end{enumerate*}\n"
      ],
      "text/markdown": [
       "1. 413457\n",
       "2. 10\n",
       "\n",
       "\n"
      ],
      "text/plain": [
       "[1] 413457     10"
      ]
     },
     "metadata": {},
     "output_type": "display_data"
    },
    {
     "data": {
      "text/html": [
       "<table class=\"dataframe\">\n",
       "<caption>A tibble: 5 × 10</caption>\n",
       "<thead>\n",
       "\t<tr><th scope=col>person_id</th><th scope=col>gender_concept_id</th><th scope=col>gender</th><th scope=col>date_of_birth</th><th scope=col>race_concept_id</th><th scope=col>race</th><th scope=col>ethnicity_concept_id</th><th scope=col>ethnicity</th><th scope=col>sex_at_birth_concept_id</th><th scope=col>sex_at_birth</th></tr>\n",
       "\t<tr><th scope=col>&lt;dbl&gt;</th><th scope=col>&lt;dbl&gt;</th><th scope=col>&lt;chr&gt;</th><th scope=col>&lt;chr&gt;</th><th scope=col>&lt;dbl&gt;</th><th scope=col>&lt;chr&gt;</th><th scope=col>&lt;dbl&gt;</th><th scope=col>&lt;chr&gt;</th><th scope=col>&lt;dbl&gt;</th><th scope=col>&lt;chr&gt;</th></tr>\n",
       "</thead>\n",
       "<tbody>\n",
       "\t<tr><td>1118161</td><td>   1585843</td><td>Gender Identity: Additional Options                           </td><td>1964-06-15 00:00:00 UTC</td><td>1177221</td><td>I prefer not to answer</td><td>903079</td><td>PMI: Prefer Not To Answer</td><td>1177221</td><td>I prefer not to answer</td></tr>\n",
       "\t<tr><td>1620611</td><td>   1585843</td><td>Gender Identity: Additional Options                           </td><td>1983-06-15 00:00:00 UTC</td><td>1177221</td><td>I prefer not to answer</td><td>903079</td><td>PMI: Prefer Not To Answer</td><td>1177221</td><td>I prefer not to answer</td></tr>\n",
       "\t<tr><td>2474732</td><td>   1585843</td><td>Gender Identity: Additional Options                           </td><td>1987-06-15 00:00:00 UTC</td><td>1177221</td><td>I prefer not to answer</td><td>903079</td><td>PMI: Prefer Not To Answer</td><td>1177221</td><td>I prefer not to answer</td></tr>\n",
       "\t<tr><td>2449537</td><td>2000000002</td><td>Not man only, not woman only, prefer not to answer, or skipped</td><td>1989-06-15 00:00:00 UTC</td><td>1177221</td><td>I prefer not to answer</td><td>903079</td><td>PMI: Prefer Not To Answer</td><td>1177221</td><td>I prefer not to answer</td></tr>\n",
       "\t<tr><td>2673939</td><td>2000000002</td><td>Not man only, not woman only, prefer not to answer, or skipped</td><td>1990-06-15 00:00:00 UTC</td><td>1177221</td><td>I prefer not to answer</td><td>903079</td><td>PMI: Prefer Not To Answer</td><td>1177221</td><td>I prefer not to answer</td></tr>\n",
       "</tbody>\n",
       "</table>\n"
      ],
      "text/latex": [
       "A tibble: 5 × 10\n",
       "\\begin{tabular}{llllllllll}\n",
       " person\\_id & gender\\_concept\\_id & gender & date\\_of\\_birth & race\\_concept\\_id & race & ethnicity\\_concept\\_id & ethnicity & sex\\_at\\_birth\\_concept\\_id & sex\\_at\\_birth\\\\\n",
       " <dbl> & <dbl> & <chr> & <chr> & <dbl> & <chr> & <dbl> & <chr> & <dbl> & <chr>\\\\\n",
       "\\hline\n",
       "\t 1118161 &    1585843 & Gender Identity: Additional Options                            & 1964-06-15 00:00:00 UTC & 1177221 & I prefer not to answer & 903079 & PMI: Prefer Not To Answer & 1177221 & I prefer not to answer\\\\\n",
       "\t 1620611 &    1585843 & Gender Identity: Additional Options                            & 1983-06-15 00:00:00 UTC & 1177221 & I prefer not to answer & 903079 & PMI: Prefer Not To Answer & 1177221 & I prefer not to answer\\\\\n",
       "\t 2474732 &    1585843 & Gender Identity: Additional Options                            & 1987-06-15 00:00:00 UTC & 1177221 & I prefer not to answer & 903079 & PMI: Prefer Not To Answer & 1177221 & I prefer not to answer\\\\\n",
       "\t 2449537 & 2000000002 & Not man only, not woman only, prefer not to answer, or skipped & 1989-06-15 00:00:00 UTC & 1177221 & I prefer not to answer & 903079 & PMI: Prefer Not To Answer & 1177221 & I prefer not to answer\\\\\n",
       "\t 2673939 & 2000000002 & Not man only, not woman only, prefer not to answer, or skipped & 1990-06-15 00:00:00 UTC & 1177221 & I prefer not to answer & 903079 & PMI: Prefer Not To Answer & 1177221 & I prefer not to answer\\\\\n",
       "\\end{tabular}\n"
      ],
      "text/markdown": [
       "\n",
       "A tibble: 5 × 10\n",
       "\n",
       "| person_id &lt;dbl&gt; | gender_concept_id &lt;dbl&gt; | gender &lt;chr&gt; | date_of_birth &lt;chr&gt; | race_concept_id &lt;dbl&gt; | race &lt;chr&gt; | ethnicity_concept_id &lt;dbl&gt; | ethnicity &lt;chr&gt; | sex_at_birth_concept_id &lt;dbl&gt; | sex_at_birth &lt;chr&gt; |\n",
       "|---|---|---|---|---|---|---|---|---|---|\n",
       "| 1118161 |    1585843 | Gender Identity: Additional Options                            | 1964-06-15 00:00:00 UTC | 1177221 | I prefer not to answer | 903079 | PMI: Prefer Not To Answer | 1177221 | I prefer not to answer |\n",
       "| 1620611 |    1585843 | Gender Identity: Additional Options                            | 1983-06-15 00:00:00 UTC | 1177221 | I prefer not to answer | 903079 | PMI: Prefer Not To Answer | 1177221 | I prefer not to answer |\n",
       "| 2474732 |    1585843 | Gender Identity: Additional Options                            | 1987-06-15 00:00:00 UTC | 1177221 | I prefer not to answer | 903079 | PMI: Prefer Not To Answer | 1177221 | I prefer not to answer |\n",
       "| 2449537 | 2000000002 | Not man only, not woman only, prefer not to answer, or skipped | 1989-06-15 00:00:00 UTC | 1177221 | I prefer not to answer | 903079 | PMI: Prefer Not To Answer | 1177221 | I prefer not to answer |\n",
       "| 2673939 | 2000000002 | Not man only, not woman only, prefer not to answer, or skipped | 1990-06-15 00:00:00 UTC | 1177221 | I prefer not to answer | 903079 | PMI: Prefer Not To Answer | 1177221 | I prefer not to answer |\n",
       "\n"
      ],
      "text/plain": [
       "  person_id gender_concept_id\n",
       "1 1118161      1585843       \n",
       "2 1620611      1585843       \n",
       "3 2474732      1585843       \n",
       "4 2449537   2000000002       \n",
       "5 2673939   2000000002       \n",
       "  gender                                                        \n",
       "1 Gender Identity: Additional Options                           \n",
       "2 Gender Identity: Additional Options                           \n",
       "3 Gender Identity: Additional Options                           \n",
       "4 Not man only, not woman only, prefer not to answer, or skipped\n",
       "5 Not man only, not woman only, prefer not to answer, or skipped\n",
       "  date_of_birth           race_concept_id race                  \n",
       "1 1964-06-15 00:00:00 UTC 1177221         I prefer not to answer\n",
       "2 1983-06-15 00:00:00 UTC 1177221         I prefer not to answer\n",
       "3 1987-06-15 00:00:00 UTC 1177221         I prefer not to answer\n",
       "4 1989-06-15 00:00:00 UTC 1177221         I prefer not to answer\n",
       "5 1990-06-15 00:00:00 UTC 1177221         I prefer not to answer\n",
       "  ethnicity_concept_id ethnicity                 sex_at_birth_concept_id\n",
       "1 903079               PMI: Prefer Not To Answer 1177221                \n",
       "2 903079               PMI: Prefer Not To Answer 1177221                \n",
       "3 903079               PMI: Prefer Not To Answer 1177221                \n",
       "4 903079               PMI: Prefer Not To Answer 1177221                \n",
       "5 903079               PMI: Prefer Not To Answer 1177221                \n",
       "  sex_at_birth          \n",
       "1 I prefer not to answer\n",
       "2 I prefer not to answer\n",
       "3 I prefer not to answer\n",
       "4 I prefer not to answer\n",
       "5 I prefer not to answer"
      ]
     },
     "metadata": {},
     "output_type": "display_data"
    }
   ],
   "source": [
    "# Read the data directly from Cloud Storage into memory.\n",
    "# NOTE: Alternatively you can `gsutil -m cp {person_17536089_path}` to copy these files\n",
    "#       to the Jupyter disk.\n",
    "read_bq_export_from_workspace_bucket <- function(export_path) {\n",
    "  col_types <- cols(gender = col_character(), race = col_character(), ethnicity = col_character(), sex_at_birth = col_character())\n",
    "  bind_rows(\n",
    "    map(system2('gsutil', args = c('ls', export_path), stdout = TRUE, stderr = TRUE),\n",
    "        function(csv) {\n",
    "          message(str_glue('Loading {csv}.'))\n",
    "          chunk <- read_csv(pipe(str_glue('gsutil cat {csv}')), col_types = col_types, show_col_types = FALSE)\n",
    "          if (is.null(col_types)) {\n",
    "            col_types <- spec(chunk)\n",
    "          }\n",
    "          chunk\n",
    "        }))\n",
    "}\n",
    "dataset_17536089_person_df <- read_bq_export_from_workspace_bucket(person_17536089_path)\n",
    "\n",
    "dim(dataset_17536089_person_df)\n",
    "\n",
    "head(dataset_17536089_person_df, 5)"
   ]
  },
  {
   "cell_type": "code",
   "execution_count": 5,
   "metadata": {},
   "outputs": [
    {
     "name": "stderr",
     "output_type": "stream",
     "text": [
      "The data will be written to gs://fc-secure-0e4de6e0-e2d7-4267-949d-7b1ad758a53f/bq_exports/vraptis@researchallofus.org/20240603/condition_17536089/condition_17536089_*.csv. Use this path when reading the data into your notebooks in the future.\n",
      "\n"
     ]
    }
   ],
   "source": [
    "# This query represents dataset \"delirium gwas  - basic\" for domain \"condition\" and was generated for All of Us Controlled Tier Dataset v7\n",
    "dataset_17536089_condition_sql <- paste(\"\n",
    "    SELECT\n",
    "        c_occurrence.person_id,\n",
    "        c_occurrence.condition_concept_id,\n",
    "        c_standard_concept.concept_name as standard_concept_name,\n",
    "        c_standard_concept.concept_code as standard_concept_code,\n",
    "        c_standard_concept.vocabulary_id as standard_vocabulary,\n",
    "        c_occurrence.condition_start_datetime,\n",
    "        c_occurrence.condition_end_datetime,\n",
    "        c_occurrence.condition_type_concept_id,\n",
    "        c_type.concept_name as condition_type_concept_name,\n",
    "        c_occurrence.stop_reason,\n",
    "        c_occurrence.visit_occurrence_id,\n",
    "        visit.concept_name as visit_occurrence_concept_name,\n",
    "        c_occurrence.condition_source_value,\n",
    "        c_occurrence.condition_source_concept_id,\n",
    "        c_source_concept.concept_name as source_concept_name,\n",
    "        c_source_concept.concept_code as source_concept_code,\n",
    "        c_source_concept.vocabulary_id as source_vocabulary,\n",
    "        c_occurrence.condition_status_source_value,\n",
    "        c_occurrence.condition_status_concept_id,\n",
    "        c_status.concept_name as condition_status_concept_name \n",
    "    FROM\n",
    "        ( SELECT\n",
    "            * \n",
    "        FROM\n",
    "            `condition_occurrence` c_occurrence \n",
    "        WHERE\n",
    "            (\n",
    "                condition_concept_id IN (SELECT\n",
    "                    DISTINCT c.concept_id \n",
    "                FROM\n",
    "                    `cb_criteria` c \n",
    "                JOIN\n",
    "                    (SELECT\n",
    "                        CAST(cr.id as string) AS id       \n",
    "                    FROM\n",
    "                        `cb_criteria` cr       \n",
    "                    WHERE\n",
    "                        concept_id IN (373995, 379779)       \n",
    "                        AND full_text LIKE '%_rank1]%'      ) a \n",
    "                        ON (c.path LIKE CONCAT('%.', a.id, '.%') \n",
    "                        OR c.path LIKE CONCAT('%.', a.id) \n",
    "                        OR c.path LIKE CONCAT(a.id, '.%') \n",
    "                        OR c.path = a.id) \n",
    "                WHERE\n",
    "                    is_standard = 1 \n",
    "                    AND is_selectable = 1) \n",
    "                OR  condition_source_concept_id IN (SELECT\n",
    "                    DISTINCT c.concept_id \n",
    "                FROM\n",
    "                    `cb_criteria` c \n",
    "                JOIN\n",
    "                    (SELECT\n",
    "                        CAST(cr.id as string) AS id       \n",
    "                    FROM\n",
    "                        `cb_criteria` cr       \n",
    "                    WHERE\n",
    "                        concept_id IN (35207116, 44826487, 44826488, 44833398, 45552431)       \n",
    "                        AND full_text LIKE '%_rank1]%'      ) a \n",
    "                        ON (c.path LIKE CONCAT('%.', a.id, '.%') \n",
    "                        OR c.path LIKE CONCAT('%.', a.id) \n",
    "                        OR c.path LIKE CONCAT(a.id, '.%') \n",
    "                        OR c.path = a.id) \n",
    "                WHERE\n",
    "                    is_standard = 0 \n",
    "                    AND is_selectable = 1)\n",
    "            )) c_occurrence \n",
    "    LEFT JOIN\n",
    "        `concept` c_standard_concept \n",
    "            ON c_occurrence.condition_concept_id = c_standard_concept.concept_id \n",
    "    LEFT JOIN\n",
    "        `concept` c_type \n",
    "            ON c_occurrence.condition_type_concept_id = c_type.concept_id \n",
    "    LEFT JOIN\n",
    "        `visit_occurrence` v \n",
    "            ON c_occurrence.visit_occurrence_id = v.visit_occurrence_id \n",
    "    LEFT JOIN\n",
    "        `concept` visit \n",
    "            ON v.visit_concept_id = visit.concept_id \n",
    "    LEFT JOIN\n",
    "        `concept` c_source_concept \n",
    "            ON c_occurrence.condition_source_concept_id = c_source_concept.concept_id \n",
    "    LEFT JOIN\n",
    "        `concept` c_status \n",
    "            ON c_occurrence.condition_status_concept_id = c_status.concept_id\", sep=\"\")\n",
    "\n",
    "# Formulate a Cloud Storage destination path for the data exported from BigQuery.\n",
    "# NOTE: By default data exported multiple times on the same day will overwrite older copies.\n",
    "#       But data exported on a different days will write to a new location so that historical\n",
    "#       copies can be kept as the dataset definition is changed.\n",
    "condition_17536089_path <- file.path(\n",
    "  Sys.getenv(\"WORKSPACE_BUCKET\"),\n",
    "  \"bq_exports\",\n",
    "  Sys.getenv(\"OWNER_EMAIL\"),\n",
    "  strftime(lubridate::now(), \"%Y%m%d\"),  # Comment out this line if you want the export to always overwrite.\n",
    "  \"condition_17536089\",\n",
    "  \"condition_17536089_*.csv\")\n",
    "message(str_glue('The data will be written to {condition_17536089_path}. Use this path when reading ',\n",
    "                 'the data into your notebooks in the future.'))\n",
    "\n",
    "# Perform the query and export the dataset to Cloud Storage as CSV files.\n",
    "# NOTE: You only need to run `bq_table_save` once. After that, you can\n",
    "#       just read data from the CSVs in Cloud Storage.\n",
    "bq_table_save(\n",
    "  bq_dataset_query(Sys.getenv(\"WORKSPACE_CDR\"), dataset_17536089_condition_sql, billing = Sys.getenv(\"GOOGLE_PROJECT\")),\n",
    "  condition_17536089_path,\n",
    "  destination_format = \"CSV\")\n",
    "\n"
   ]
  },
  {
   "cell_type": "code",
   "execution_count": 6,
   "metadata": {},
   "outputs": [
    {
     "name": "stderr",
     "output_type": "stream",
     "text": [
      "Loading gs://fc-secure-0e4de6e0-e2d7-4267-949d-7b1ad758a53f/bq_exports/vraptis@researchallofus.org/20240603/condition_17536089/condition_17536089_000000000000.csv.\n",
      "\n"
     ]
    },
    {
     "data": {
      "text/html": [
       "<style>\n",
       ".list-inline {list-style: none; margin:0; padding: 0}\n",
       ".list-inline>li {display: inline-block}\n",
       ".list-inline>li:not(:last-child)::after {content: \"\\00b7\"; padding: 0 .5ex}\n",
       "</style>\n",
       "<ol class=list-inline><li>8785</li><li>20</li></ol>\n"
      ],
      "text/latex": [
       "\\begin{enumerate*}\n",
       "\\item 8785\n",
       "\\item 20\n",
       "\\end{enumerate*}\n"
      ],
      "text/markdown": [
       "1. 8785\n",
       "2. 20\n",
       "\n",
       "\n"
      ],
      "text/plain": [
       "[1] 8785   20"
      ]
     },
     "metadata": {},
     "output_type": "display_data"
    },
    {
     "data": {
      "text/html": [
       "<table class=\"dataframe\">\n",
       "<caption>A tibble: 5 × 20</caption>\n",
       "<thead>\n",
       "\t<tr><th scope=col>person_id</th><th scope=col>condition_concept_id</th><th scope=col>standard_concept_name</th><th scope=col>standard_concept_code</th><th scope=col>standard_vocabulary</th><th scope=col>condition_start_datetime</th><th scope=col>condition_end_datetime</th><th scope=col>condition_type_concept_id</th><th scope=col>condition_type_concept_name</th><th scope=col>stop_reason</th><th scope=col>visit_occurrence_id</th><th scope=col>visit_occurrence_concept_name</th><th scope=col>condition_source_value</th><th scope=col>condition_source_concept_id</th><th scope=col>source_concept_name</th><th scope=col>source_concept_code</th><th scope=col>source_vocabulary</th><th scope=col>condition_status_source_value</th><th scope=col>condition_status_concept_id</th><th scope=col>condition_status_concept_name</th></tr>\n",
       "\t<tr><th scope=col>&lt;dbl&gt;</th><th scope=col>&lt;dbl&gt;</th><th scope=col>&lt;chr&gt;</th><th scope=col>&lt;chr&gt;</th><th scope=col>&lt;chr&gt;</th><th scope=col>&lt;chr&gt;</th><th scope=col>&lt;chr&gt;</th><th scope=col>&lt;dbl&gt;</th><th scope=col>&lt;chr&gt;</th><th scope=col>&lt;chr&gt;</th><th scope=col>&lt;dbl&gt;</th><th scope=col>&lt;chr&gt;</th><th scope=col>&lt;chr&gt;</th><th scope=col>&lt;dbl&gt;</th><th scope=col>&lt;chr&gt;</th><th scope=col>&lt;chr&gt;</th><th scope=col>&lt;chr&gt;</th><th scope=col>&lt;chr&gt;</th><th scope=col>&lt;dbl&gt;</th><th scope=col>&lt;chr&gt;</th></tr>\n",
       "</thead>\n",
       "<tbody>\n",
       "\t<tr><td>2172933</td><td>377830</td><td>Alcohol withdrawal delirium</td><td>8635005</td><td>SNOMED</td><td>2022-04-21 00:00:00 UTC</td><td>NA                     </td><td>44786629</td><td>Secondary Condition</td><td>NA</td><td>4.4e+16</td><td>Outpatient Visit</td><td>8635005</td><td>  377830</td><td>Alcohol withdrawal delirium                  </td><td>8635005</td><td>SNOMED </td><td>NA</td><td>NA</td><td>NA</td></tr>\n",
       "\t<tr><td>1391448</td><td>373995</td><td>Delirium                   </td><td>2776000</td><td>SNOMED</td><td>2020-01-15 05:00:00 UTC</td><td>NA                     </td><td>   32821</td><td>EHR billing record </td><td>NA</td><td>     NA</td><td>NA              </td><td>F05    </td><td>35207116</td><td>Delirium due to known physiological condition</td><td>F05    </td><td>ICD10CM</td><td>NA</td><td>NA</td><td>NA</td></tr>\n",
       "\t<tr><td>1103897</td><td>373995</td><td>Delirium                   </td><td>2776000</td><td>SNOMED</td><td>2018-05-21 00:00:00 UTC</td><td>2018-05-21 11:59:59 UTC</td><td>44786627</td><td>Primary Condition  </td><td>NA</td><td>2.7e+16</td><td>Inpatient Visit </td><td>F05    </td><td>35207116</td><td>Delirium due to known physiological condition</td><td>F05    </td><td>ICD10CM</td><td>NA</td><td>NA</td><td>NA</td></tr>\n",
       "\t<tr><td>7817548</td><td>373995</td><td>Delirium                   </td><td>2776000</td><td>SNOMED</td><td>2020-10-23 00:00:00 UTC</td><td>2020-10-23 11:59:59 UTC</td><td>44786629</td><td>Secondary Condition</td><td>NA</td><td>2.7e+16</td><td>Inpatient Visit </td><td>F05    </td><td>35207116</td><td>Delirium due to known physiological condition</td><td>F05    </td><td>ICD10CM</td><td>NA</td><td>NA</td><td>NA</td></tr>\n",
       "\t<tr><td>1771334</td><td>373995</td><td>Delirium                   </td><td>2776000</td><td>SNOMED</td><td>2022-03-15 00:00:00 UTC</td><td>2022-03-15 11:59:59 UTC</td><td>44786629</td><td>Secondary Condition</td><td>NA</td><td>2.7e+16</td><td>Inpatient Visit </td><td>F05    </td><td>35207116</td><td>Delirium due to known physiological condition</td><td>F05    </td><td>ICD10CM</td><td>NA</td><td>NA</td><td>NA</td></tr>\n",
       "</tbody>\n",
       "</table>\n"
      ],
      "text/latex": [
       "A tibble: 5 × 20\n",
       "\\begin{tabular}{llllllllllllllllllll}\n",
       " person\\_id & condition\\_concept\\_id & standard\\_concept\\_name & standard\\_concept\\_code & standard\\_vocabulary & condition\\_start\\_datetime & condition\\_end\\_datetime & condition\\_type\\_concept\\_id & condition\\_type\\_concept\\_name & stop\\_reason & visit\\_occurrence\\_id & visit\\_occurrence\\_concept\\_name & condition\\_source\\_value & condition\\_source\\_concept\\_id & source\\_concept\\_name & source\\_concept\\_code & source\\_vocabulary & condition\\_status\\_source\\_value & condition\\_status\\_concept\\_id & condition\\_status\\_concept\\_name\\\\\n",
       " <dbl> & <dbl> & <chr> & <chr> & <chr> & <chr> & <chr> & <dbl> & <chr> & <chr> & <dbl> & <chr> & <chr> & <dbl> & <chr> & <chr> & <chr> & <chr> & <dbl> & <chr>\\\\\n",
       "\\hline\n",
       "\t 2172933 & 377830 & Alcohol withdrawal delirium & 8635005 & SNOMED & 2022-04-21 00:00:00 UTC & NA                      & 44786629 & Secondary Condition & NA & 4.4e+16 & Outpatient Visit & 8635005 &   377830 & Alcohol withdrawal delirium                   & 8635005 & SNOMED  & NA & NA & NA\\\\\n",
       "\t 1391448 & 373995 & Delirium                    & 2776000 & SNOMED & 2020-01-15 05:00:00 UTC & NA                      &    32821 & EHR billing record  & NA &      NA & NA               & F05     & 35207116 & Delirium due to known physiological condition & F05     & ICD10CM & NA & NA & NA\\\\\n",
       "\t 1103897 & 373995 & Delirium                    & 2776000 & SNOMED & 2018-05-21 00:00:00 UTC & 2018-05-21 11:59:59 UTC & 44786627 & Primary Condition   & NA & 2.7e+16 & Inpatient Visit  & F05     & 35207116 & Delirium due to known physiological condition & F05     & ICD10CM & NA & NA & NA\\\\\n",
       "\t 7817548 & 373995 & Delirium                    & 2776000 & SNOMED & 2020-10-23 00:00:00 UTC & 2020-10-23 11:59:59 UTC & 44786629 & Secondary Condition & NA & 2.7e+16 & Inpatient Visit  & F05     & 35207116 & Delirium due to known physiological condition & F05     & ICD10CM & NA & NA & NA\\\\\n",
       "\t 1771334 & 373995 & Delirium                    & 2776000 & SNOMED & 2022-03-15 00:00:00 UTC & 2022-03-15 11:59:59 UTC & 44786629 & Secondary Condition & NA & 2.7e+16 & Inpatient Visit  & F05     & 35207116 & Delirium due to known physiological condition & F05     & ICD10CM & NA & NA & NA\\\\\n",
       "\\end{tabular}\n"
      ],
      "text/markdown": [
       "\n",
       "A tibble: 5 × 20\n",
       "\n",
       "| person_id &lt;dbl&gt; | condition_concept_id &lt;dbl&gt; | standard_concept_name &lt;chr&gt; | standard_concept_code &lt;chr&gt; | standard_vocabulary &lt;chr&gt; | condition_start_datetime &lt;chr&gt; | condition_end_datetime &lt;chr&gt; | condition_type_concept_id &lt;dbl&gt; | condition_type_concept_name &lt;chr&gt; | stop_reason &lt;chr&gt; | visit_occurrence_id &lt;dbl&gt; | visit_occurrence_concept_name &lt;chr&gt; | condition_source_value &lt;chr&gt; | condition_source_concept_id &lt;dbl&gt; | source_concept_name &lt;chr&gt; | source_concept_code &lt;chr&gt; | source_vocabulary &lt;chr&gt; | condition_status_source_value &lt;chr&gt; | condition_status_concept_id &lt;dbl&gt; | condition_status_concept_name &lt;chr&gt; |\n",
       "|---|---|---|---|---|---|---|---|---|---|---|---|---|---|---|---|---|---|---|---|\n",
       "| 2172933 | 377830 | Alcohol withdrawal delirium | 8635005 | SNOMED | 2022-04-21 00:00:00 UTC | NA                      | 44786629 | Secondary Condition | NA | 4.4e+16 | Outpatient Visit | 8635005 |   377830 | Alcohol withdrawal delirium                   | 8635005 | SNOMED  | NA | NA | NA |\n",
       "| 1391448 | 373995 | Delirium                    | 2776000 | SNOMED | 2020-01-15 05:00:00 UTC | NA                      |    32821 | EHR billing record  | NA |      NA | NA               | F05     | 35207116 | Delirium due to known physiological condition | F05     | ICD10CM | NA | NA | NA |\n",
       "| 1103897 | 373995 | Delirium                    | 2776000 | SNOMED | 2018-05-21 00:00:00 UTC | 2018-05-21 11:59:59 UTC | 44786627 | Primary Condition   | NA | 2.7e+16 | Inpatient Visit  | F05     | 35207116 | Delirium due to known physiological condition | F05     | ICD10CM | NA | NA | NA |\n",
       "| 7817548 | 373995 | Delirium                    | 2776000 | SNOMED | 2020-10-23 00:00:00 UTC | 2020-10-23 11:59:59 UTC | 44786629 | Secondary Condition | NA | 2.7e+16 | Inpatient Visit  | F05     | 35207116 | Delirium due to known physiological condition | F05     | ICD10CM | NA | NA | NA |\n",
       "| 1771334 | 373995 | Delirium                    | 2776000 | SNOMED | 2022-03-15 00:00:00 UTC | 2022-03-15 11:59:59 UTC | 44786629 | Secondary Condition | NA | 2.7e+16 | Inpatient Visit  | F05     | 35207116 | Delirium due to known physiological condition | F05     | ICD10CM | NA | NA | NA |\n",
       "\n"
      ],
      "text/plain": [
       "  person_id condition_concept_id standard_concept_name      \n",
       "1 2172933   377830               Alcohol withdrawal delirium\n",
       "2 1391448   373995               Delirium                   \n",
       "3 1103897   373995               Delirium                   \n",
       "4 7817548   373995               Delirium                   \n",
       "5 1771334   373995               Delirium                   \n",
       "  standard_concept_code standard_vocabulary condition_start_datetime\n",
       "1 8635005               SNOMED              2022-04-21 00:00:00 UTC \n",
       "2 2776000               SNOMED              2020-01-15 05:00:00 UTC \n",
       "3 2776000               SNOMED              2018-05-21 00:00:00 UTC \n",
       "4 2776000               SNOMED              2020-10-23 00:00:00 UTC \n",
       "5 2776000               SNOMED              2022-03-15 00:00:00 UTC \n",
       "  condition_end_datetime  condition_type_concept_id condition_type_concept_name\n",
       "1 NA                      44786629                  Secondary Condition        \n",
       "2 NA                         32821                  EHR billing record         \n",
       "3 2018-05-21 11:59:59 UTC 44786627                  Primary Condition          \n",
       "4 2020-10-23 11:59:59 UTC 44786629                  Secondary Condition        \n",
       "5 2022-03-15 11:59:59 UTC 44786629                  Secondary Condition        \n",
       "  stop_reason visit_occurrence_id visit_occurrence_concept_name\n",
       "1 NA          4.4e+16             Outpatient Visit             \n",
       "2 NA               NA             NA                           \n",
       "3 NA          2.7e+16             Inpatient Visit              \n",
       "4 NA          2.7e+16             Inpatient Visit              \n",
       "5 NA          2.7e+16             Inpatient Visit              \n",
       "  condition_source_value condition_source_concept_id\n",
       "1 8635005                  377830                   \n",
       "2 F05                    35207116                   \n",
       "3 F05                    35207116                   \n",
       "4 F05                    35207116                   \n",
       "5 F05                    35207116                   \n",
       "  source_concept_name                           source_concept_code\n",
       "1 Alcohol withdrawal delirium                   8635005            \n",
       "2 Delirium due to known physiological condition F05                \n",
       "3 Delirium due to known physiological condition F05                \n",
       "4 Delirium due to known physiological condition F05                \n",
       "5 Delirium due to known physiological condition F05                \n",
       "  source_vocabulary condition_status_source_value condition_status_concept_id\n",
       "1 SNOMED            NA                            NA                         \n",
       "2 ICD10CM           NA                            NA                         \n",
       "3 ICD10CM           NA                            NA                         \n",
       "4 ICD10CM           NA                            NA                         \n",
       "5 ICD10CM           NA                            NA                         \n",
       "  condition_status_concept_name\n",
       "1 NA                           \n",
       "2 NA                           \n",
       "3 NA                           \n",
       "4 NA                           \n",
       "5 NA                           "
      ]
     },
     "metadata": {},
     "output_type": "display_data"
    }
   ],
   "source": [
    "# Read the data directly from Cloud Storage into memory.\n",
    "# NOTE: Alternatively you can `gsutil -m cp {condition_17536089_path}` to copy these files\n",
    "#       to the Jupyter disk.\n",
    "read_bq_export_from_workspace_bucket <- function(export_path) {\n",
    "  col_types <- cols(standard_concept_name = col_character(), standard_concept_code = col_character(), standard_vocabulary = col_character(), condition_type_concept_name = col_character(), stop_reason = col_character(), visit_occurrence_concept_name = col_character(), condition_source_value = col_character(), source_concept_name = col_character(), source_concept_code = col_character(), source_vocabulary = col_character(), condition_status_source_value = col_character(), condition_status_concept_name = col_character())\n",
    "  bind_rows(\n",
    "    map(system2('gsutil', args = c('ls', export_path), stdout = TRUE, stderr = TRUE),\n",
    "        function(csv) {\n",
    "          message(str_glue('Loading {csv}.'))\n",
    "          chunk <- read_csv(pipe(str_glue('gsutil cat {csv}')), col_types = col_types, show_col_types = FALSE)\n",
    "          if (is.null(col_types)) {\n",
    "            col_types <- spec(chunk)\n",
    "          }\n",
    "          chunk\n",
    "        }))\n",
    "}\n",
    "dataset_17536089_condition_df <- read_bq_export_from_workspace_bucket(condition_17536089_path)\n",
    "\n",
    "dim(dataset_17536089_condition_df)\n",
    "\n",
    "head(dataset_17536089_condition_df, 5)"
   ]
  },
  {
   "cell_type": "code",
   "execution_count": 7,
   "metadata": {},
   "outputs": [
    {
     "name": "stderr",
     "output_type": "stream",
     "text": [
      "The data will be written to gs://fc-secure-0e4de6e0-e2d7-4267-949d-7b1ad758a53f/bq_exports/vraptis@researchallofus.org/20240603/zip_code_socioeconomic_17536089/zip_code_socioeconomic_17536089_*.csv. Use this path when reading the data into your notebooks in the future.\n",
      "\n"
     ]
    }
   ],
   "source": [
    "# This query represents dataset \"delirium gwas  - basic\" for domain \"zip_code_socioeconomic\" and was generated for All of Us Controlled Tier Dataset v7\n",
    "dataset_17536089_zip_code_socioeconomic_sql <- paste(\"\n",
    "    SELECT\n",
    "        observation.person_id,\n",
    "        observation.observation_datetime,\n",
    "        zip_code.deprivation_index \n",
    "    FROM\n",
    "        `zip3_ses_map` zip_code \n",
    "    JOIN\n",
    "        `observation` observation \n",
    "            ON CAST(SUBSTR(observation.value_as_string, 0, STRPOS(observation.value_as_string, '*') - 1) AS INT64) = zip_code.zip3 \n",
    "            AND observation_source_concept_id = 1585250 \n",
    "            AND observation.value_as_string NOT LIKE 'Res%'\", sep=\"\")\n",
    "\n",
    "# Formulate a Cloud Storage destination path for the data exported from BigQuery.\n",
    "# NOTE: By default data exported multiple times on the same day will overwrite older copies.\n",
    "#       But data exported on a different days will write to a new location so that historical\n",
    "#       copies can be kept as the dataset definition is changed.\n",
    "zip_code_socioeconomic_17536089_path <- file.path(\n",
    "  Sys.getenv(\"WORKSPACE_BUCKET\"),\n",
    "  \"bq_exports\",\n",
    "  Sys.getenv(\"OWNER_EMAIL\"),\n",
    "  strftime(lubridate::now(), \"%Y%m%d\"),  # Comment out this line if you want the export to always overwrite.\n",
    "  \"zip_code_socioeconomic_17536089\",\n",
    "  \"zip_code_socioeconomic_17536089_*.csv\")\n",
    "message(str_glue('The data will be written to {zip_code_socioeconomic_17536089_path}. Use this path when reading ',\n",
    "                 'the data into your notebooks in the future.'))\n",
    "\n",
    "# Perform the query and export the dataset to Cloud Storage as CSV files.\n",
    "# NOTE: You only need to run `bq_table_save` once. After that, you can\n",
    "#       just read data from the CSVs in Cloud Storage.\n",
    "bq_table_save(\n",
    "  bq_dataset_query(Sys.getenv(\"WORKSPACE_CDR\"), dataset_17536089_zip_code_socioeconomic_sql, billing = Sys.getenv(\"GOOGLE_PROJECT\")),\n",
    "  zip_code_socioeconomic_17536089_path,\n",
    "  destination_format = \"CSV\")\n",
    "\n"
   ]
  },
  {
   "cell_type": "code",
   "execution_count": 8,
   "metadata": {},
   "outputs": [
    {
     "name": "stderr",
     "output_type": "stream",
     "text": [
      "Loading gs://fc-secure-0e4de6e0-e2d7-4267-949d-7b1ad758a53f/bq_exports/vraptis@researchallofus.org/20240603/zip_code_socioeconomic_17536089/zip_code_socioeconomic_17536089_000000000000.csv.\n",
      "\n"
     ]
    },
    {
     "data": {
      "text/html": [
       "<style>\n",
       ".list-inline {list-style: none; margin:0; padding: 0}\n",
       ".list-inline>li {display: inline-block}\n",
       ".list-inline>li:not(:last-child)::after {content: \"\\00b7\"; padding: 0 .5ex}\n",
       "</style>\n",
       "<ol class=list-inline><li>413174</li><li>3</li></ol>\n"
      ],
      "text/latex": [
       "\\begin{enumerate*}\n",
       "\\item 413174\n",
       "\\item 3\n",
       "\\end{enumerate*}\n"
      ],
      "text/markdown": [
       "1. 413174\n",
       "2. 3\n",
       "\n",
       "\n"
      ],
      "text/plain": [
       "[1] 413174      3"
      ]
     },
     "metadata": {},
     "output_type": "display_data"
    },
    {
     "data": {
      "text/html": [
       "<table class=\"dataframe\">\n",
       "<caption>A tibble: 5 × 3</caption>\n",
       "<thead>\n",
       "\t<tr><th scope=col>person_id</th><th scope=col>observation_datetime</th><th scope=col>deprivation_index</th></tr>\n",
       "\t<tr><th scope=col>&lt;dbl&gt;</th><th scope=col>&lt;chr&gt;</th><th scope=col>&lt;dbl&gt;</th></tr>\n",
       "</thead>\n",
       "<tbody>\n",
       "\t<tr><td>6742524</td><td>2021-01-17 00:08:48 UTC</td><td>0.2852150</td></tr>\n",
       "\t<tr><td>1561591</td><td>2019-05-01 21:30:34 UTC</td><td>0.2852150</td></tr>\n",
       "\t<tr><td>1973304</td><td>2019-09-18 17:04:31 UTC</td><td>0.2630131</td></tr>\n",
       "\t<tr><td>5451725</td><td>2022-06-18 03:17:43 UTC</td><td>0.2630131</td></tr>\n",
       "\t<tr><td>1032596</td><td>2019-10-09 22:23:57 UTC</td><td>0.3551754</td></tr>\n",
       "</tbody>\n",
       "</table>\n"
      ],
      "text/latex": [
       "A tibble: 5 × 3\n",
       "\\begin{tabular}{lll}\n",
       " person\\_id & observation\\_datetime & deprivation\\_index\\\\\n",
       " <dbl> & <chr> & <dbl>\\\\\n",
       "\\hline\n",
       "\t 6742524 & 2021-01-17 00:08:48 UTC & 0.2852150\\\\\n",
       "\t 1561591 & 2019-05-01 21:30:34 UTC & 0.2852150\\\\\n",
       "\t 1973304 & 2019-09-18 17:04:31 UTC & 0.2630131\\\\\n",
       "\t 5451725 & 2022-06-18 03:17:43 UTC & 0.2630131\\\\\n",
       "\t 1032596 & 2019-10-09 22:23:57 UTC & 0.3551754\\\\\n",
       "\\end{tabular}\n"
      ],
      "text/markdown": [
       "\n",
       "A tibble: 5 × 3\n",
       "\n",
       "| person_id &lt;dbl&gt; | observation_datetime &lt;chr&gt; | deprivation_index &lt;dbl&gt; |\n",
       "|---|---|---|\n",
       "| 6742524 | 2021-01-17 00:08:48 UTC | 0.2852150 |\n",
       "| 1561591 | 2019-05-01 21:30:34 UTC | 0.2852150 |\n",
       "| 1973304 | 2019-09-18 17:04:31 UTC | 0.2630131 |\n",
       "| 5451725 | 2022-06-18 03:17:43 UTC | 0.2630131 |\n",
       "| 1032596 | 2019-10-09 22:23:57 UTC | 0.3551754 |\n",
       "\n"
      ],
      "text/plain": [
       "  person_id observation_datetime    deprivation_index\n",
       "1 6742524   2021-01-17 00:08:48 UTC 0.2852150        \n",
       "2 1561591   2019-05-01 21:30:34 UTC 0.2852150        \n",
       "3 1973304   2019-09-18 17:04:31 UTC 0.2630131        \n",
       "4 5451725   2022-06-18 03:17:43 UTC 0.2630131        \n",
       "5 1032596   2019-10-09 22:23:57 UTC 0.3551754        "
      ]
     },
     "metadata": {},
     "output_type": "display_data"
    }
   ],
   "source": [
    "# Read the data directly from Cloud Storage into memory.\n",
    "# NOTE: Alternatively you can `gsutil -m cp {zip_code_socioeconomic_17536089_path}` to copy these files\n",
    "#       to the Jupyter disk.\n",
    "read_bq_export_from_workspace_bucket <- function(export_path) {\n",
    "  col_types <- NULL\n",
    "  bind_rows(\n",
    "    map(system2('gsutil', args = c('ls', export_path), stdout = TRUE, stderr = TRUE),\n",
    "        function(csv) {\n",
    "          message(str_glue('Loading {csv}.'))\n",
    "          chunk <- read_csv(pipe(str_glue('gsutil cat {csv}')), col_types = col_types, show_col_types = FALSE)\n",
    "          if (is.null(col_types)) {\n",
    "            col_types <- spec(chunk)\n",
    "          }\n",
    "          chunk\n",
    "        }))\n",
    "}\n",
    "dataset_17536089_zip_code_socioeconomic_df <- read_bq_export_from_workspace_bucket(zip_code_socioeconomic_17536089_path)\n",
    "\n",
    "dim(dataset_17536089_zip_code_socioeconomic_df)\n",
    "\n",
    "head(dataset_17536089_zip_code_socioeconomic_df, 5)"
   ]
  },
  {
   "cell_type": "markdown",
   "metadata": {},
   "source": [
    "**Process delirium phenotypes:**"
   ]
  },
  {
   "cell_type": "code",
   "execution_count": 9,
   "metadata": {},
   "outputs": [
    {
     "data": {
      "text/html": [
       "<table class=\"dataframe\">\n",
       "<caption>A tibble: 10 × 2</caption>\n",
       "<thead>\n",
       "\t<tr><th scope=col>source_concept_name_code</th><th scope=col>n</th></tr>\n",
       "\t<tr><th scope=col>&lt;chr&gt;</th><th scope=col>&lt;int&gt;</th></tr>\n",
       "</thead>\n",
       "<tbody>\n",
       "\t<tr><td>Alcohol dependence with withdrawal delirium_F10.231                                  </td><td>3298</td></tr>\n",
       "\t<tr><td>Delirium due to known physiological condition_F05                                    </td><td>2957</td></tr>\n",
       "\t<tr><td>Delirium due to conditions classified elsewhere_293.0                                </td><td> 982</td></tr>\n",
       "\t<tr><td>Alcohol withdrawal delirium_291.0                                                    </td><td> 683</td></tr>\n",
       "\t<tr><td>Delirium_2776000                                                                     </td><td> 230</td></tr>\n",
       "\t<tr><td>Drug-induced delirium_292.81                                                         </td><td> 221</td></tr>\n",
       "\t<tr><td>Other psychoactive substance use, unspecified with intoxication with delirium_F19.921</td><td>  66</td></tr>\n",
       "\t<tr><td>Alcohol withdrawal delirium_8635005                                                  </td><td>  56</td></tr>\n",
       "\t<tr><td>Subacute delirium_293.1                                                              </td><td>  51</td></tr>\n",
       "\t<tr><td>Delirium due to drug withdrawal_16236701000119107                                    </td><td>  34</td></tr>\n",
       "</tbody>\n",
       "</table>\n"
      ],
      "text/latex": [
       "A tibble: 10 × 2\n",
       "\\begin{tabular}{ll}\n",
       " source\\_concept\\_name\\_code & n\\\\\n",
       " <chr> & <int>\\\\\n",
       "\\hline\n",
       "\t Alcohol dependence with withdrawal delirium\\_F10.231                                   & 3298\\\\\n",
       "\t Delirium due to known physiological condition\\_F05                                     & 2957\\\\\n",
       "\t Delirium due to conditions classified elsewhere\\_293.0                                 &  982\\\\\n",
       "\t Alcohol withdrawal delirium\\_291.0                                                     &  683\\\\\n",
       "\t Delirium\\_2776000                                                                      &  230\\\\\n",
       "\t Drug-induced delirium\\_292.81                                                          &  221\\\\\n",
       "\t Other psychoactive substance use, unspecified with intoxication with delirium\\_F19.921 &   66\\\\\n",
       "\t Alcohol withdrawal delirium\\_8635005                                                   &   56\\\\\n",
       "\t Subacute delirium\\_293.1                                                               &   51\\\\\n",
       "\t Delirium due to drug withdrawal\\_16236701000119107                                     &   34\\\\\n",
       "\\end{tabular}\n"
      ],
      "text/markdown": [
       "\n",
       "A tibble: 10 × 2\n",
       "\n",
       "| source_concept_name_code &lt;chr&gt; | n &lt;int&gt; |\n",
       "|---|---|\n",
       "| Alcohol dependence with withdrawal delirium_F10.231                                   | 3298 |\n",
       "| Delirium due to known physiological condition_F05                                     | 2957 |\n",
       "| Delirium due to conditions classified elsewhere_293.0                                 |  982 |\n",
       "| Alcohol withdrawal delirium_291.0                                                     |  683 |\n",
       "| Delirium_2776000                                                                      |  230 |\n",
       "| Drug-induced delirium_292.81                                                          |  221 |\n",
       "| Other psychoactive substance use, unspecified with intoxication with delirium_F19.921 |   66 |\n",
       "| Alcohol withdrawal delirium_8635005                                                   |   56 |\n",
       "| Subacute delirium_293.1                                                               |   51 |\n",
       "| Delirium due to drug withdrawal_16236701000119107                                     |   34 |\n",
       "\n"
      ],
      "text/plain": [
       "   source_concept_name_code                                                             \n",
       "1  Alcohol dependence with withdrawal delirium_F10.231                                  \n",
       "2  Delirium due to known physiological condition_F05                                    \n",
       "3  Delirium due to conditions classified elsewhere_293.0                                \n",
       "4  Alcohol withdrawal delirium_291.0                                                    \n",
       "5  Delirium_2776000                                                                     \n",
       "6  Drug-induced delirium_292.81                                                         \n",
       "7  Other psychoactive substance use, unspecified with intoxication with delirium_F19.921\n",
       "8  Alcohol withdrawal delirium_8635005                                                  \n",
       "9  Subacute delirium_293.1                                                              \n",
       "10 Delirium due to drug withdrawal_16236701000119107                                    \n",
       "   n   \n",
       "1  3298\n",
       "2  2957\n",
       "3   982\n",
       "4   683\n",
       "5   230\n",
       "6   221\n",
       "7    66\n",
       "8    56\n",
       "9    51\n",
       "10   34"
      ]
     },
     "metadata": {},
     "output_type": "display_data"
    }
   ],
   "source": [
    "## summary of instances per delirium type \n",
    "dataset_17536089_condition_df %>% \n",
    "    mutate(source_concept_name_code = paste0(source_concept_name, \"_\", source_concept_code)) %>%      \n",
    "    group_by(source_concept_name_code) %>% summarise(n=n()) %>% arrange(desc(n)) %>%\n",
    "    head(.,10)\n"
   ]
  },
  {
   "cell_type": "code",
   "execution_count": 10,
   "metadata": {
    "code_folding": [],
    "scrolled": true
   },
   "outputs": [
    {
     "name": "stdout",
     "output_type": "stream",
     "text": [
      "# of delirium instances: 3939 \n",
      "# of unique delirium indivuals: 1889"
     ]
    },
    {
     "data": {
      "text/html": [
       "<table class=\"dataframe\">\n",
       "<caption>A grouped_df: 6 × 4</caption>\n",
       "<thead>\n",
       "\t<tr><th scope=col>person_id</th><th scope=col>delirium_code</th><th scope=col>delirium_date</th><th scope=col>delirium_count</th></tr>\n",
       "\t<tr><th scope=col>&lt;dbl&gt;</th><th scope=col>&lt;chr&gt;</th><th scope=col>&lt;dttm&gt;</th><th scope=col>&lt;int&gt;</th></tr>\n",
       "</thead>\n",
       "<tbody>\n",
       "\t<tr><td>1000320</td><td>F05</td><td>2017-07-27</td><td>1</td></tr>\n",
       "\t<tr><td>1001121</td><td>F05</td><td>2020-05-15</td><td>3</td></tr>\n",
       "\t<tr><td>1002832</td><td>F05</td><td>2019-11-19</td><td>1</td></tr>\n",
       "\t<tr><td>1002867</td><td>F05</td><td>2017-03-19</td><td>1</td></tr>\n",
       "\t<tr><td>1003498</td><td>F05</td><td>2016-02-10</td><td>1</td></tr>\n",
       "\t<tr><td>1004234</td><td>F05</td><td>2020-11-19</td><td>1</td></tr>\n",
       "</tbody>\n",
       "</table>\n"
      ],
      "text/latex": [
       "A grouped\\_df: 6 × 4\n",
       "\\begin{tabular}{llll}\n",
       " person\\_id & delirium\\_code & delirium\\_date & delirium\\_count\\\\\n",
       " <dbl> & <chr> & <dttm> & <int>\\\\\n",
       "\\hline\n",
       "\t 1000320 & F05 & 2017-07-27 & 1\\\\\n",
       "\t 1001121 & F05 & 2020-05-15 & 3\\\\\n",
       "\t 1002832 & F05 & 2019-11-19 & 1\\\\\n",
       "\t 1002867 & F05 & 2017-03-19 & 1\\\\\n",
       "\t 1003498 & F05 & 2016-02-10 & 1\\\\\n",
       "\t 1004234 & F05 & 2020-11-19 & 1\\\\\n",
       "\\end{tabular}\n"
      ],
      "text/markdown": [
       "\n",
       "A grouped_df: 6 × 4\n",
       "\n",
       "| person_id &lt;dbl&gt; | delirium_code &lt;chr&gt; | delirium_date &lt;dttm&gt; | delirium_count &lt;int&gt; |\n",
       "|---|---|---|---|\n",
       "| 1000320 | F05 | 2017-07-27 | 1 |\n",
       "| 1001121 | F05 | 2020-05-15 | 3 |\n",
       "| 1002832 | F05 | 2019-11-19 | 1 |\n",
       "| 1002867 | F05 | 2017-03-19 | 1 |\n",
       "| 1003498 | F05 | 2016-02-10 | 1 |\n",
       "| 1004234 | F05 | 2020-11-19 | 1 |\n",
       "\n"
      ],
      "text/plain": [
       "  person_id delirium_code delirium_date delirium_count\n",
       "1 1000320   F05           2017-07-27    1             \n",
       "2 1001121   F05           2020-05-15    3             \n",
       "3 1002832   F05           2019-11-19    1             \n",
       "4 1002867   F05           2017-03-19    1             \n",
       "5 1003498   F05           2016-02-10    1             \n",
       "6 1004234   F05           2020-11-19    1             "
      ]
     },
     "metadata": {},
     "output_type": "display_data"
    },
    {
     "data": {
      "image/png": "[encoded data removed]",
      "text/plain": [
       "Plot with title “delirium instances per person”"
      ]
     },
     "metadata": {
      "image/png": {
       "height": 420,
       "width": 420
      }
     },
     "output_type": "display_data"
    }
   ],
   "source": [
    "### filter and reformat delirium phenotypes\n",
    "#delirium_concept_codes <- c(\"F05\", \"293.0\", \"2776000\")\n",
    "delirium_concept_codes <- c(\"F05\", \"293.0\")\n",
    "\n",
    "temp_delirium_df <-\n",
    "dataset_17536089_condition_df %>% \n",
    "    ## extract cases for delirium not induced by alcohol/other substances\n",
    "    filter(source_concept_code %in% delirium_concept_codes) %>%\n",
    "    ## reformat starting date variable\n",
    "    mutate(delirium_date = strptime(condition_start_datetime, format=\"%Y-%m-%d\")) %>% \n",
    "    ## select relevant columns: id, delirium_code, delirium_date\n",
    "    select(person_id, source_concept_code, delirium_date) %>%\n",
    "    ## extract only the first delirium instance per person\n",
    "    group_by(person_id) %>%\n",
    "    mutate(delirium_count = n()) %>% # calculate number of delirium instances per person\n",
    "    arrange(delirium_date) %>% \n",
    "    slice(1L) %>% \n",
    "    ## rename columns\n",
    "    rename(delirium_code = source_concept_code)\n",
    "\n",
    "cat(\"# of delirium instances:\", sum(temp_delirium_df$delirium_count), \"\\n\")\n",
    "cat(\"# of unique delirium indivuals:\", nrow(temp_delirium_df))\n",
    "\n",
    "temp_delirium_df %>% head\n",
    "\n",
    "### delirium instances per person\n",
    "hist(temp_delirium_df$delirium_count, breaks=50, main=\"delirium instances per person\")\n"
   ]
  },
  {
   "cell_type": "markdown",
   "metadata": {},
   "source": [
    "**Process basic demographics:**"
   ]
  },
  {
   "cell_type": "code",
   "execution_count": 11,
   "metadata": {},
   "outputs": [
    {
     "data": {
      "text/html": [
       "<table class=\"dataframe\">\n",
       "<caption>A tibble: 10 × 2</caption>\n",
       "<thead>\n",
       "\t<tr><th scope=col>race</th><th scope=col>n</th></tr>\n",
       "\t<tr><th scope=col>&lt;chr&gt;</th><th scope=col>&lt;int&gt;</th></tr>\n",
       "</thead>\n",
       "<tbody>\n",
       "\t<tr><td>White                                    </td><td>229158</td></tr>\n",
       "\t<tr><td>Black or African American                </td><td> 78504</td></tr>\n",
       "\t<tr><td>None Indicated                           </td><td> 64769</td></tr>\n",
       "\t<tr><td>Asian                                    </td><td> 14215</td></tr>\n",
       "\t<tr><td>PMI: Skip                                </td><td>  9142</td></tr>\n",
       "\t<tr><td>More than one population                 </td><td>  7742</td></tr>\n",
       "\t<tr><td>None of these                            </td><td>  4379</td></tr>\n",
       "\t<tr><td>I prefer not to answer                   </td><td>  2550</td></tr>\n",
       "\t<tr><td>Middle Eastern or North African          </td><td>  2513</td></tr>\n",
       "\t<tr><td>Native Hawaiian or Other Pacific Islander</td><td>   485</td></tr>\n",
       "</tbody>\n",
       "</table>\n"
      ],
      "text/latex": [
       "A tibble: 10 × 2\n",
       "\\begin{tabular}{ll}\n",
       " race & n\\\\\n",
       " <chr> & <int>\\\\\n",
       "\\hline\n",
       "\t White                                     & 229158\\\\\n",
       "\t Black or African American                 &  78504\\\\\n",
       "\t None Indicated                            &  64769\\\\\n",
       "\t Asian                                     &  14215\\\\\n",
       "\t PMI: Skip                                 &   9142\\\\\n",
       "\t More than one population                  &   7742\\\\\n",
       "\t None of these                             &   4379\\\\\n",
       "\t I prefer not to answer                    &   2550\\\\\n",
       "\t Middle Eastern or North African           &   2513\\\\\n",
       "\t Native Hawaiian or Other Pacific Islander &    485\\\\\n",
       "\\end{tabular}\n"
      ],
      "text/markdown": [
       "\n",
       "A tibble: 10 × 2\n",
       "\n",
       "| race &lt;chr&gt; | n &lt;int&gt; |\n",
       "|---|---|\n",
       "| White                                     | 229158 |\n",
       "| Black or African American                 |  78504 |\n",
       "| None Indicated                            |  64769 |\n",
       "| Asian                                     |  14215 |\n",
       "| PMI: Skip                                 |   9142 |\n",
       "| More than one population                  |   7742 |\n",
       "| None of these                             |   4379 |\n",
       "| I prefer not to answer                    |   2550 |\n",
       "| Middle Eastern or North African           |   2513 |\n",
       "| Native Hawaiian or Other Pacific Islander |    485 |\n",
       "\n"
      ],
      "text/plain": [
       "   race                                      n     \n",
       "1  White                                     229158\n",
       "2  Black or African American                  78504\n",
       "3  None Indicated                             64769\n",
       "4  Asian                                      14215\n",
       "5  PMI: Skip                                   9142\n",
       "6  More than one population                    7742\n",
       "7  None of these                               4379\n",
       "8  I prefer not to answer                      2550\n",
       "9  Middle Eastern or North African             2513\n",
       "10 Native Hawaiian or Other Pacific Islander    485"
      ]
     },
     "metadata": {},
     "output_type": "display_data"
    },
    {
     "data": {
      "text/html": [
       "<table class=\"dataframe\">\n",
       "<caption>A tibble: 6 × 2</caption>\n",
       "<thead>\n",
       "\t<tr><th scope=col>ethnicity</th><th scope=col>n</th></tr>\n",
       "\t<tr><th scope=col>&lt;chr&gt;</th><th scope=col>&lt;int&gt;</th></tr>\n",
       "</thead>\n",
       "<tbody>\n",
       "\t<tr><td>Not Hispanic or Latino                           </td><td>323175</td></tr>\n",
       "\t<tr><td>Hispanic or Latino                               </td><td> 74114</td></tr>\n",
       "\t<tr><td>PMI: Skip                                        </td><td>  9142</td></tr>\n",
       "\t<tr><td>What Race Ethnicity: Race Ethnicity None Of These</td><td>  4379</td></tr>\n",
       "\t<tr><td>PMI: Prefer Not To Answer                        </td><td>  2550</td></tr>\n",
       "\t<tr><td>No matching concept                              </td><td>    97</td></tr>\n",
       "</tbody>\n",
       "</table>\n"
      ],
      "text/latex": [
       "A tibble: 6 × 2\n",
       "\\begin{tabular}{ll}\n",
       " ethnicity & n\\\\\n",
       " <chr> & <int>\\\\\n",
       "\\hline\n",
       "\t Not Hispanic or Latino                            & 323175\\\\\n",
       "\t Hispanic or Latino                                &  74114\\\\\n",
       "\t PMI: Skip                                         &   9142\\\\\n",
       "\t What Race Ethnicity: Race Ethnicity None Of These &   4379\\\\\n",
       "\t PMI: Prefer Not To Answer                         &   2550\\\\\n",
       "\t No matching concept                               &     97\\\\\n",
       "\\end{tabular}\n"
      ],
      "text/markdown": [
       "\n",
       "A tibble: 6 × 2\n",
       "\n",
       "| ethnicity &lt;chr&gt; | n &lt;int&gt; |\n",
       "|---|---|\n",
       "| Not Hispanic or Latino                            | 323175 |\n",
       "| Hispanic or Latino                                |  74114 |\n",
       "| PMI: Skip                                         |   9142 |\n",
       "| What Race Ethnicity: Race Ethnicity None Of These |   4379 |\n",
       "| PMI: Prefer Not To Answer                         |   2550 |\n",
       "| No matching concept                               |     97 |\n",
       "\n"
      ],
      "text/plain": [
       "  ethnicity                                         n     \n",
       "1 Not Hispanic or Latino                            323175\n",
       "2 Hispanic or Latino                                 74114\n",
       "3 PMI: Skip                                           9142\n",
       "4 What Race Ethnicity: Race Ethnicity None Of These   4379\n",
       "5 PMI: Prefer Not To Answer                           2550\n",
       "6 No matching concept                                   97"
      ]
     },
     "metadata": {},
     "output_type": "display_data"
    },
    {
     "data": {
      "text/html": [
       "<table class=\"dataframe\">\n",
       "<caption>A tibble: 7 × 2</caption>\n",
       "<thead>\n",
       "\t<tr><th scope=col>sex_at_birth</th><th scope=col>n</th></tr>\n",
       "\t<tr><th scope=col>&lt;chr&gt;</th><th scope=col>&lt;int&gt;</th></tr>\n",
       "</thead>\n",
       "<tbody>\n",
       "\t<tr><td>Female                </td><td>249565</td></tr>\n",
       "\t<tr><td>Male                  </td><td>155169</td></tr>\n",
       "\t<tr><td>No matching concept   </td><td>  4284</td></tr>\n",
       "\t<tr><td>PMI: Skip             </td><td>  3855</td></tr>\n",
       "\t<tr><td>I prefer not to answer</td><td>   346</td></tr>\n",
       "\t<tr><td>None                  </td><td>   146</td></tr>\n",
       "\t<tr><td>Intersex              </td><td>    92</td></tr>\n",
       "</tbody>\n",
       "</table>\n"
      ],
      "text/latex": [
       "A tibble: 7 × 2\n",
       "\\begin{tabular}{ll}\n",
       " sex\\_at\\_birth & n\\\\\n",
       " <chr> & <int>\\\\\n",
       "\\hline\n",
       "\t Female                 & 249565\\\\\n",
       "\t Male                   & 155169\\\\\n",
       "\t No matching concept    &   4284\\\\\n",
       "\t PMI: Skip              &   3855\\\\\n",
       "\t I prefer not to answer &    346\\\\\n",
       "\t None                   &    146\\\\\n",
       "\t Intersex               &     92\\\\\n",
       "\\end{tabular}\n"
      ],
      "text/markdown": [
       "\n",
       "A tibble: 7 × 2\n",
       "\n",
       "| sex_at_birth &lt;chr&gt; | n &lt;int&gt; |\n",
       "|---|---|\n",
       "| Female                 | 249565 |\n",
       "| Male                   | 155169 |\n",
       "| No matching concept    |   4284 |\n",
       "| PMI: Skip              |   3855 |\n",
       "| I prefer not to answer |    346 |\n",
       "| None                   |    146 |\n",
       "| Intersex               |     92 |\n",
       "\n"
      ],
      "text/plain": [
       "  sex_at_birth           n     \n",
       "1 Female                 249565\n",
       "2 Male                   155169\n",
       "3 No matching concept      4284\n",
       "4 PMI: Skip                3855\n",
       "5 I prefer not to answer    346\n",
       "6 None                      146\n",
       "7 Intersex                   92"
      ]
     },
     "metadata": {},
     "output_type": "display_data"
    }
   ],
   "source": [
    "## summary of demographic variables\n",
    "dataset_17536089_person_df %>% group_by(race) %>% summarise(n=n()) %>% arrange(desc(n))\n",
    "dataset_17536089_person_df %>% group_by(ethnicity) %>% summarise(n=n()) %>% arrange(desc(n))\n",
    "dataset_17536089_person_df %>% group_by(sex_at_birth) %>% summarise(n=n()) %>% arrange(desc(n))\n"
   ]
  },
  {
   "cell_type": "code",
   "execution_count": 12,
   "metadata": {},
   "outputs": [
    {
     "data": {
      "text/html": [
       "<table class=\"dataframe\">\n",
       "<caption>A tibble: 6 × 4</caption>\n",
       "<thead>\n",
       "\t<tr><th scope=col>person_id</th><th scope=col>dob</th><th scope=col>sex</th><th scope=col>race</th></tr>\n",
       "\t<tr><th scope=col>&lt;dbl&gt;</th><th scope=col>&lt;dttm&gt;</th><th scope=col>&lt;dbl&gt;</th><th scope=col>&lt;chr&gt;</th></tr>\n",
       "</thead>\n",
       "<tbody>\n",
       "\t<tr><td>1116891</td><td>1946-06-15</td><td>NA</td><td>None Indicated</td></tr>\n",
       "\t<tr><td>5134042</td><td>1939-06-15</td><td>NA</td><td>None Indicated</td></tr>\n",
       "\t<tr><td>2793265</td><td>1959-06-15</td><td>NA</td><td>None Indicated</td></tr>\n",
       "\t<tr><td>8695617</td><td>1977-06-15</td><td>NA</td><td>None Indicated</td></tr>\n",
       "\t<tr><td>2002132</td><td>1943-06-15</td><td>NA</td><td>None Indicated</td></tr>\n",
       "\t<tr><td>5054422</td><td>1984-06-15</td><td>NA</td><td>None Indicated</td></tr>\n",
       "</tbody>\n",
       "</table>\n"
      ],
      "text/latex": [
       "A tibble: 6 × 4\n",
       "\\begin{tabular}{llll}\n",
       " person\\_id & dob & sex & race\\\\\n",
       " <dbl> & <dttm> & <dbl> & <chr>\\\\\n",
       "\\hline\n",
       "\t 1116891 & 1946-06-15 & NA & None Indicated\\\\\n",
       "\t 5134042 & 1939-06-15 & NA & None Indicated\\\\\n",
       "\t 2793265 & 1959-06-15 & NA & None Indicated\\\\\n",
       "\t 8695617 & 1977-06-15 & NA & None Indicated\\\\\n",
       "\t 2002132 & 1943-06-15 & NA & None Indicated\\\\\n",
       "\t 5054422 & 1984-06-15 & NA & None Indicated\\\\\n",
       "\\end{tabular}\n"
      ],
      "text/markdown": [
       "\n",
       "A tibble: 6 × 4\n",
       "\n",
       "| person_id &lt;dbl&gt; | dob &lt;dttm&gt; | sex &lt;dbl&gt; | race &lt;chr&gt; |\n",
       "|---|---|---|---|\n",
       "| 1116891 | 1946-06-15 | NA | None Indicated |\n",
       "| 5134042 | 1939-06-15 | NA | None Indicated |\n",
       "| 2793265 | 1959-06-15 | NA | None Indicated |\n",
       "| 8695617 | 1977-06-15 | NA | None Indicated |\n",
       "| 2002132 | 1943-06-15 | NA | None Indicated |\n",
       "| 5054422 | 1984-06-15 | NA | None Indicated |\n",
       "\n"
      ],
      "text/plain": [
       "  person_id dob        sex race          \n",
       "1 1116891   1946-06-15 NA  None Indicated\n",
       "2 5134042   1939-06-15 NA  None Indicated\n",
       "3 2793265   1959-06-15 NA  None Indicated\n",
       "4 8695617   1977-06-15 NA  None Indicated\n",
       "5 2002132   1943-06-15 NA  None Indicated\n",
       "6 5054422   1984-06-15 NA  None Indicated"
      ]
     },
     "metadata": {},
     "output_type": "display_data"
    },
    {
     "name": "stdout",
     "output_type": "stream",
     "text": [
      "# of people by sex (0=female; 1=male; NA: other):"
     ]
    },
    {
     "data": {
      "text/html": [
       "<style>\n",
       ".dl-inline {width: auto; margin:0; padding: 0}\n",
       ".dl-inline>dt, .dl-inline>dd {float: none; width: auto; display: inline-block}\n",
       ".dl-inline>dt::after {content: \":\\0020\"; padding-right: .5ex}\n",
       ".dl-inline>dt:not(:first-of-type) {padding-left: .5ex}\n",
       "</style><dl class=dl-inline><dt>0</dt><dd>249565</dd><dt>1</dt><dd>155169</dd><dt>NA's</dt><dd>8723</dd></dl>\n"
      ],
      "text/latex": [
       "\\begin{description*}\n",
       "\\item[0] 249565\n",
       "\\item[1] 155169\n",
       "\\item[NA's] 8723\n",
       "\\end{description*}\n"
      ],
      "text/markdown": [
       "0\n",
       ":   2495651\n",
       ":   155169NA's\n",
       ":   8723\n",
       "\n"
      ],
      "text/plain": [
       "     0      1   NA's \n",
       "249565 155169   8723 "
      ]
     },
     "metadata": {},
     "output_type": "display_data"
    }
   ],
   "source": [
    "### filter and reformat basic demographics\n",
    "temp_person_df <-\n",
    "dataset_17536089_person_df %>% \n",
    "    ## select relevant columns\n",
    "    select(person_id, date_of_birth, sex_at_birth, race) %>%\n",
    "    ## reformat dob as date\n",
    "    mutate(date_of_birth = strptime(date_of_birth, format=\"%Y-%m-%d\")) %>% \n",
    "    ## reformat sex_at_birth: 0 female; 1 male; NA other  \n",
    "    mutate(sex_at_birth = case_when(sex_at_birth==\"Female\" ~ 0,\n",
    "                           sex_at_birth==\"Male\" ~ 1,\n",
    "                           TRUE ~ NA)) %>%\n",
    "    ## rename columns\n",
    "    rename(dob = date_of_birth,\n",
    "           sex = sex_at_birth)\n",
    "temp_person_df %>% head\n",
    "\n",
    "cat(\"# of people by sex (0=female; 1=male; NA: other):\")\n",
    "temp_person_df$sex %>% as.factor %>% summary"
   ]
  },
  {
   "cell_type": "code",
   "execution_count": 13,
   "metadata": {},
   "outputs": [
    {
     "data": {
      "text/plain": [
       "   person_id            dob                                sex       \n",
       " Min.   :1000000   Min.   :1900-06-15 00:00:00.0000   Min.   :0.000  \n",
       " 1st Qu.:1563091   1st Qu.:1955-06-15 00:00:00.0000   1st Qu.:0.000  \n",
       " Median :2157907   Median :1967-06-15 00:00:00.0000   Median :0.000  \n",
       " Mean   :2875706   Mean   :1968-08-13 07:38:47.3743   Mean   :0.383  \n",
       " 3rd Qu.:3200517   3rd Qu.:1983-06-15 00:00:00.0000   3rd Qu.:1.000  \n",
       " Max.   :9999697   Max.   :2004-06-15 00:00:00.0000   Max.   :1.000  \n",
       "                                                      NA's   :8723   \n",
       "     race          \n",
       " Length:413457     \n",
       " Class :character  \n",
       " Mode  :character  \n",
       "                   \n",
       "                   \n",
       "                   \n",
       "                   "
      ]
     },
     "metadata": {},
     "output_type": "display_data"
    }
   ],
   "source": [
    "## summary of dob\n",
    "##!! some dobs in 190* - error?? - keep for now\n",
    "temp_person_df %>% arrange(dob) %>% summary"
   ]
  },
  {
   "cell_type": "markdown",
   "metadata": {},
   "source": [
    "**Process deprivation index:**"
   ]
  },
  {
   "cell_type": "code",
   "execution_count": 14,
   "metadata": {},
   "outputs": [
    {
     "data": {
      "text/html": [
       "<table class=\"dataframe\">\n",
       "<caption>A tibble: 6 × 3</caption>\n",
       "<thead>\n",
       "\t<tr><th scope=col>person_id</th><th scope=col>depind</th><th scope=col>depind_date</th></tr>\n",
       "\t<tr><th scope=col>&lt;dbl&gt;</th><th scope=col>&lt;dbl&gt;</th><th scope=col>&lt;dttm&gt;</th></tr>\n",
       "</thead>\n",
       "<tbody>\n",
       "\t<tr><td>6742524</td><td>0.2852150</td><td>2021-01-17</td></tr>\n",
       "\t<tr><td>1561591</td><td>0.2852150</td><td>2019-05-01</td></tr>\n",
       "\t<tr><td>1973304</td><td>0.2630131</td><td>2019-09-18</td></tr>\n",
       "\t<tr><td>5451725</td><td>0.2630131</td><td>2022-06-18</td></tr>\n",
       "\t<tr><td>1032596</td><td>0.3551754</td><td>2019-10-09</td></tr>\n",
       "\t<tr><td>1101259</td><td>0.3551754</td><td>2019-06-25</td></tr>\n",
       "</tbody>\n",
       "</table>\n"
      ],
      "text/latex": [
       "A tibble: 6 × 3\n",
       "\\begin{tabular}{lll}\n",
       " person\\_id & depind & depind\\_date\\\\\n",
       " <dbl> & <dbl> & <dttm>\\\\\n",
       "\\hline\n",
       "\t 6742524 & 0.2852150 & 2021-01-17\\\\\n",
       "\t 1561591 & 0.2852150 & 2019-05-01\\\\\n",
       "\t 1973304 & 0.2630131 & 2019-09-18\\\\\n",
       "\t 5451725 & 0.2630131 & 2022-06-18\\\\\n",
       "\t 1032596 & 0.3551754 & 2019-10-09\\\\\n",
       "\t 1101259 & 0.3551754 & 2019-06-25\\\\\n",
       "\\end{tabular}\n"
      ],
      "text/markdown": [
       "\n",
       "A tibble: 6 × 3\n",
       "\n",
       "| person_id &lt;dbl&gt; | depind &lt;dbl&gt; | depind_date &lt;dttm&gt; |\n",
       "|---|---|---|\n",
       "| 6742524 | 0.2852150 | 2021-01-17 |\n",
       "| 1561591 | 0.2852150 | 2019-05-01 |\n",
       "| 1973304 | 0.2630131 | 2019-09-18 |\n",
       "| 5451725 | 0.2630131 | 2022-06-18 |\n",
       "| 1032596 | 0.3551754 | 2019-10-09 |\n",
       "| 1101259 | 0.3551754 | 2019-06-25 |\n",
       "\n"
      ],
      "text/plain": [
       "  person_id depind    depind_date\n",
       "1 6742524   0.2852150 2021-01-17 \n",
       "2 1561591   0.2852150 2019-05-01 \n",
       "3 1973304   0.2630131 2019-09-18 \n",
       "4 5451725   0.2630131 2022-06-18 \n",
       "5 1032596   0.3551754 2019-10-09 \n",
       "6 1101259   0.3551754 2019-06-25 "
      ]
     },
     "metadata": {},
     "output_type": "display_data"
    }
   ],
   "source": [
    "temp_depriv_df <-\n",
    "dataset_17536089_zip_code_socioeconomic_df %>%    \n",
    "    ## reformat date\n",
    "    mutate(depind_date = strptime(observation_datetime, \"%Y-%m-%d\")) %>% \n",
    "    select(person_id, deprivation_index, depind_date) %>%\n",
    "    rename(depind = deprivation_index)\n",
    "head(temp_depriv_df)"
   ]
  },
  {
   "cell_type": "markdown",
   "metadata": {},
   "source": [
    "**Load precomputed predicted ancestry & genomic PCs file:**"
   ]
  },
  {
   "cell_type": "markdown",
   "metadata": {},
   "source": [
    "*see: https://support.researchallofus.org/hc/en-us/articles/4614687617556-How-the-All-of-Us-Genomic-data-are-organized ; section \"srWGS genetic predicted ancestry\"*"
   ]
  },
  {
   "cell_type": "code",
   "execution_count": 15,
   "metadata": {},
   "outputs": [
    {
     "data": {
      "text/html": [
       "<style>\n",
       ".list-inline {list-style: none; margin:0; padding: 0}\n",
       ".list-inline>li {display: inline-block}\n",
       ".list-inline>li:not(:last-child)::after {content: \"\\00b7\"; padding: 0 .5ex}\n",
       "</style>\n",
       "<ol class=list-inline><li>'gs://fc-aou-datasets-controlled/v7/wgs/short_read/snpindel/aux/ancestry/ancestry_preds.tsv'</li><li>'gs://fc-aou-datasets-controlled/v7/wgs/short_read/snpindel/aux/ancestry/merged_sites_only_intersection.vcf.bgz'</li><li>'gs://fc-aou-datasets-controlled/v7/wgs/short_read/snpindel/aux/ancestry/merged_sites_only_intersection.vcf.bgz.tbi'</li><li>'gs://fc-aou-datasets-controlled/v7/wgs/short_read/snpindel/aux/ancestry/preds_oth.html'</li><li>'gs://fc-aou-datasets-controlled/v7/wgs/short_read/snpindel/aux/ancestry/loadings.ht/'</li></ol>\n"
      ],
      "text/latex": [
       "\\begin{enumerate*}\n",
       "\\item 'gs://fc-aou-datasets-controlled/v7/wgs/short\\_read/snpindel/aux/ancestry/ancestry\\_preds.tsv'\n",
       "\\item 'gs://fc-aou-datasets-controlled/v7/wgs/short\\_read/snpindel/aux/ancestry/merged\\_sites\\_only\\_intersection.vcf.bgz'\n",
       "\\item 'gs://fc-aou-datasets-controlled/v7/wgs/short\\_read/snpindel/aux/ancestry/merged\\_sites\\_only\\_intersection.vcf.bgz.tbi'\n",
       "\\item 'gs://fc-aou-datasets-controlled/v7/wgs/short\\_read/snpindel/aux/ancestry/preds\\_oth.html'\n",
       "\\item 'gs://fc-aou-datasets-controlled/v7/wgs/short\\_read/snpindel/aux/ancestry/loadings.ht/'\n",
       "\\end{enumerate*}\n"
      ],
      "text/markdown": [
       "1. 'gs://fc-aou-datasets-controlled/v7/wgs/short_read/snpindel/aux/ancestry/ancestry_preds.tsv'\n",
       "2. 'gs://fc-aou-datasets-controlled/v7/wgs/short_read/snpindel/aux/ancestry/merged_sites_only_intersection.vcf.bgz'\n",
       "3. 'gs://fc-aou-datasets-controlled/v7/wgs/short_read/snpindel/aux/ancestry/merged_sites_only_intersection.vcf.bgz.tbi'\n",
       "4. 'gs://fc-aou-datasets-controlled/v7/wgs/short_read/snpindel/aux/ancestry/preds_oth.html'\n",
       "5. 'gs://fc-aou-datasets-controlled/v7/wgs/short_read/snpindel/aux/ancestry/loadings.ht/'\n",
       "\n",
       "\n"
      ],
      "text/plain": [
       "[1] \"gs://fc-aou-datasets-controlled/v7/wgs/short_read/snpindel/aux/ancestry/ancestry_preds.tsv\"                        \n",
       "[2] \"gs://fc-aou-datasets-controlled/v7/wgs/short_read/snpindel/aux/ancestry/merged_sites_only_intersection.vcf.bgz\"    \n",
       "[3] \"gs://fc-aou-datasets-controlled/v7/wgs/short_read/snpindel/aux/ancestry/merged_sites_only_intersection.vcf.bgz.tbi\"\n",
       "[4] \"gs://fc-aou-datasets-controlled/v7/wgs/short_read/snpindel/aux/ancestry/preds_oth.html\"                            \n",
       "[5] \"gs://fc-aou-datasets-controlled/v7/wgs/short_read/snpindel/aux/ancestry/loadings.ht/\"                              "
      ]
     },
     "metadata": {},
     "output_type": "display_data"
    },
    {
     "data": {
      "text/html": [],
      "text/latex": [],
      "text/markdown": [],
      "text/plain": [
       "character(0)"
      ]
     },
     "metadata": {},
     "output_type": "display_data"
    },
    {
     "data": {
      "text/html": [
       "<style>\n",
       ".list-inline {list-style: none; margin:0; padding: 0}\n",
       ".list-inline>li {display: inline-block}\n",
       ".list-inline>li:not(:last-child)::after {content: \"\\00b7\"; padding: 0 .5ex}\n",
       "</style>\n",
       "<ol class=list-inline><li>'00_run_notebook_in_background.ipynb'</li><li>'00_test_notebook.ipynb'</li><li>'01_part1_pheno_preprocessing.ipynb'</li><li>'01_part2_pheno_by_ancestry.ipynb'</li><li>'01_part3_age_match_subsample.ipynb'</li><li>'02_part1_genotypes_preprocessing_20240516_215713.ipynb'</li><li>'02_part1_genotypes_preprocessing_20240520_162841.ipynb'</li><li>'02_part1_genotypes_preprocessing.ipynb'</li><li>'03_part1b_run_regenie_step1_afr_20240522_123557.ipynb'</li><li>'03_part1b_run_regenie_step1_eur_20240523_130707.ipynb'</li><li>'03_part1b_run_regenie_step1_eur_20240524_082548.ipynb'</li><li>'03_part1b_run_regenie_step1_eur.ipynb'</li><li>'03_part1_run_regenie_step1.ipynb'</li><li>'03_part2b_run_regenie_step2_clinvar.ipynb'</li><li>'03_part2_run_regenie_step2_20240523_085900.ipynb'</li><li>'03_part2_run_regenie_step2_20240526_163148.ipynb'</li><li>'03_part2_run_regenie_step2.ipynb'</li><li>'04_part1_gwas_plots.ipynb'</li><li>'05_part1_meta_analysis.ipynb'</li><li>'06_part1_replication.ipynb'</li><li>'ancestry_preds.tsv'</li><li>'full_pheno_clean_del_df.csv'</li><li>'x01.1_process_delirium&amp;dementia_pheno.ipynb'</li></ol>\n"
      ],
      "text/latex": [
       "\\begin{enumerate*}\n",
       "\\item '00\\_run\\_notebook\\_in\\_background.ipynb'\n",
       "\\item '00\\_test\\_notebook.ipynb'\n",
       "\\item '01\\_part1\\_pheno\\_preprocessing.ipynb'\n",
       "\\item '01\\_part2\\_pheno\\_by\\_ancestry.ipynb'\n",
       "\\item '01\\_part3\\_age\\_match\\_subsample.ipynb'\n",
       "\\item '02\\_part1\\_genotypes\\_preprocessing\\_20240516\\_215713.ipynb'\n",
       "\\item '02\\_part1\\_genotypes\\_preprocessing\\_20240520\\_162841.ipynb'\n",
       "\\item '02\\_part1\\_genotypes\\_preprocessing.ipynb'\n",
       "\\item '03\\_part1b\\_run\\_regenie\\_step1\\_afr\\_20240522\\_123557.ipynb'\n",
       "\\item '03\\_part1b\\_run\\_regenie\\_step1\\_eur\\_20240523\\_130707.ipynb'\n",
       "\\item '03\\_part1b\\_run\\_regenie\\_step1\\_eur\\_20240524\\_082548.ipynb'\n",
       "\\item '03\\_part1b\\_run\\_regenie\\_step1\\_eur.ipynb'\n",
       "\\item '03\\_part1\\_run\\_regenie\\_step1.ipynb'\n",
       "\\item '03\\_part2b\\_run\\_regenie\\_step2\\_clinvar.ipynb'\n",
       "\\item '03\\_part2\\_run\\_regenie\\_step2\\_20240523\\_085900.ipynb'\n",
       "\\item '03\\_part2\\_run\\_regenie\\_step2\\_20240526\\_163148.ipynb'\n",
       "\\item '03\\_part2\\_run\\_regenie\\_step2.ipynb'\n",
       "\\item '04\\_part1\\_gwas\\_plots.ipynb'\n",
       "\\item '05\\_part1\\_meta\\_analysis.ipynb'\n",
       "\\item '06\\_part1\\_replication.ipynb'\n",
       "\\item 'ancestry\\_preds.tsv'\n",
       "\\item 'full\\_pheno\\_clean\\_del\\_df.csv'\n",
       "\\item 'x01.1\\_process\\_delirium\\&dementia\\_pheno.ipynb'\n",
       "\\end{enumerate*}\n"
      ],
      "text/markdown": [
       "1. '00_run_notebook_in_background.ipynb'\n",
       "2. '00_test_notebook.ipynb'\n",
       "3. '01_part1_pheno_preprocessing.ipynb'\n",
       "4. '01_part2_pheno_by_ancestry.ipynb'\n",
       "5. '01_part3_age_match_subsample.ipynb'\n",
       "6. '02_part1_genotypes_preprocessing_20240516_215713.ipynb'\n",
       "7. '02_part1_genotypes_preprocessing_20240520_162841.ipynb'\n",
       "8. '02_part1_genotypes_preprocessing.ipynb'\n",
       "9. '03_part1b_run_regenie_step1_afr_20240522_123557.ipynb'\n",
       "10. '03_part1b_run_regenie_step1_eur_20240523_130707.ipynb'\n",
       "11. '03_part1b_run_regenie_step1_eur_20240524_082548.ipynb'\n",
       "12. '03_part1b_run_regenie_step1_eur.ipynb'\n",
       "13. '03_part1_run_regenie_step1.ipynb'\n",
       "14. '03_part2b_run_regenie_step2_clinvar.ipynb'\n",
       "15. '03_part2_run_regenie_step2_20240523_085900.ipynb'\n",
       "16. '03_part2_run_regenie_step2_20240526_163148.ipynb'\n",
       "17. '03_part2_run_regenie_step2.ipynb'\n",
       "18. '04_part1_gwas_plots.ipynb'\n",
       "19. '05_part1_meta_analysis.ipynb'\n",
       "20. '06_part1_replication.ipynb'\n",
       "21. 'ancestry_preds.tsv'\n",
       "22. 'full_pheno_clean_del_df.csv'\n",
       "23. 'x01.1_process_delirium&amp;dementia_pheno.ipynb'\n",
       "\n",
       "\n"
      ],
      "text/plain": [
       " [1] \"00_run_notebook_in_background.ipynb\"                   \n",
       " [2] \"00_test_notebook.ipynb\"                                \n",
       " [3] \"01_part1_pheno_preprocessing.ipynb\"                    \n",
       " [4] \"01_part2_pheno_by_ancestry.ipynb\"                      \n",
       " [5] \"01_part3_age_match_subsample.ipynb\"                    \n",
       " [6] \"02_part1_genotypes_preprocessing_20240516_215713.ipynb\"\n",
       " [7] \"02_part1_genotypes_preprocessing_20240520_162841.ipynb\"\n",
       " [8] \"02_part1_genotypes_preprocessing.ipynb\"                \n",
       " [9] \"03_part1b_run_regenie_step1_afr_20240522_123557.ipynb\" \n",
       "[10] \"03_part1b_run_regenie_step1_eur_20240523_130707.ipynb\" \n",
       "[11] \"03_part1b_run_regenie_step1_eur_20240524_082548.ipynb\" \n",
       "[12] \"03_part1b_run_regenie_step1_eur.ipynb\"                 \n",
       "[13] \"03_part1_run_regenie_step1.ipynb\"                      \n",
       "[14] \"03_part2b_run_regenie_step2_clinvar.ipynb\"             \n",
       "[15] \"03_part2_run_regenie_step2_20240523_085900.ipynb\"      \n",
       "[16] \"03_part2_run_regenie_step2_20240526_163148.ipynb\"      \n",
       "[17] \"03_part2_run_regenie_step2.ipynb\"                      \n",
       "[18] \"04_part1_gwas_plots.ipynb\"                             \n",
       "[19] \"05_part1_meta_analysis.ipynb\"                          \n",
       "[20] \"06_part1_replication.ipynb\"                            \n",
       "[21] \"ancestry_preds.tsv\"                                    \n",
       "[22] \"full_pheno_clean_del_df.csv\"                           \n",
       "[23] \"x01.1_process_delirium&dementia_pheno.ipynb\"           "
      ]
     },
     "metadata": {},
     "output_type": "display_data"
    }
   ],
   "source": [
    "## locate srWGS ancestry files \n",
    "system(paste(\"gsutil -u\", GOOGLE_PROJECT, \"ls gs://fc-aou-datasets-controlled/v7/wgs/short_read/snpindel/aux/ancestry\"), intern=T)\n",
    "## Copy ancestry_preds.tsv table to workspace\n",
    "system(paste(\"gsutil -u\", GOOGLE_PROJECT, \"cp gs://fc-aou-datasets-controlled/v7/wgs/short_read/snpindel/aux/ancestry/ancestry_preds.tsv .\"), intern=T)\n",
    "## Check that the file is in workspace\n",
    "system(\"ls \", intern=T)\n",
    "## load ancestry table\n",
    "ancestry_pred <- fread(\"ancestry_preds.tsv\")"
   ]
  },
  {
   "cell_type": "code",
   "execution_count": 16,
   "metadata": {},
   "outputs": [],
   "source": [
    "PCs <- paste0(\"PC\", seq(1:16))\n",
    "\n",
    "temp_ancestry_pred_df <-\n",
    "ancestry_pred %>% \n",
    "    ## split and format PC loadings \n",
    "    separate_wider_delim(cols = pca_features, delim = \",\", names = PCs) %>%\n",
    "    mutate(PC1 = str_remove(PC1, \"\\\\[\")) %>%  \n",
    "    mutate(PC16 = str_remove(PC16, \"\\\\]\")) %>%\n",
    "    mutate(across(all_of(PCs), as.numeric)) %>% \n",
    "    ## rename columns\n",
    "    rename(person_id = research_id, gen_ancestry = ancestry_pred_other) %>%\n",
    "    ## select relevant variables\n",
    "    select(person_id, gen_ancestry, all_of(PCs))"
   ]
  },
  {
   "cell_type": "markdown",
   "metadata": {},
   "source": [
    "**Merge into one df:**"
   ]
  },
  {
   "cell_type": "code",
   "execution_count": 17,
   "metadata": {},
   "outputs": [
    {
     "data": {
      "text/html": [
       "<style>\n",
       ".list-inline {list-style: none; margin:0; padding: 0}\n",
       ".list-inline>li {display: inline-block}\n",
       ".list-inline>li:not(:last-child)::after {content: \"\\00b7\"; padding: 0 .5ex}\n",
       "</style>\n",
       "<ol class=list-inline><li>413174</li><li>26</li></ol>\n"
      ],
      "text/latex": [
       "\\begin{enumerate*}\n",
       "\\item 413174\n",
       "\\item 26\n",
       "\\end{enumerate*}\n"
      ],
      "text/markdown": [
       "1. 413174\n",
       "2. 26\n",
       "\n",
       "\n"
      ],
      "text/plain": [
       "[1] 413174     26"
      ]
     },
     "metadata": {},
     "output_type": "display_data"
    },
    {
     "data": {
      "text/html": [
       "<table class=\"dataframe\">\n",
       "<caption>A tibble: 6 × 26</caption>\n",
       "<thead>\n",
       "\t<tr><th scope=col>person_id</th><th scope=col>dob</th><th scope=col>sex</th><th scope=col>race</th><th scope=col>depind</th><th scope=col>depind_date</th><th scope=col>gen_ancestry</th><th scope=col>PC1</th><th scope=col>PC2</th><th scope=col>PC3</th><th scope=col>⋯</th><th scope=col>PC10</th><th scope=col>PC11</th><th scope=col>PC12</th><th scope=col>PC13</th><th scope=col>PC14</th><th scope=col>PC15</th><th scope=col>PC16</th><th scope=col>delirium_code</th><th scope=col>delirium_date</th><th scope=col>delirium_count</th></tr>\n",
       "\t<tr><th scope=col>&lt;dbl&gt;</th><th scope=col>&lt;dttm&gt;</th><th scope=col>&lt;dbl&gt;</th><th scope=col>&lt;chr&gt;</th><th scope=col>&lt;dbl&gt;</th><th scope=col>&lt;dttm&gt;</th><th scope=col>&lt;chr&gt;</th><th scope=col>&lt;dbl&gt;</th><th scope=col>&lt;dbl&gt;</th><th scope=col>&lt;dbl&gt;</th><th scope=col>⋯</th><th scope=col>&lt;dbl&gt;</th><th scope=col>&lt;dbl&gt;</th><th scope=col>&lt;dbl&gt;</th><th scope=col>&lt;dbl&gt;</th><th scope=col>&lt;dbl&gt;</th><th scope=col>&lt;dbl&gt;</th><th scope=col>&lt;dbl&gt;</th><th scope=col>&lt;chr&gt;</th><th scope=col>&lt;dttm&gt;</th><th scope=col>&lt;int&gt;</th></tr>\n",
       "</thead>\n",
       "<tbody>\n",
       "\t<tr><td>1116891</td><td>1946-06-15</td><td>NA</td><td>None Indicated</td><td>0.3512714</td><td>2021-08-23</td><td>NA</td><td>NA</td><td>NA</td><td>NA</td><td>⋯</td><td>NA</td><td>NA</td><td>NA</td><td>NA</td><td>NA</td><td>NA</td><td>NA</td><td>NA</td><td>NA</td><td>NA</td></tr>\n",
       "\t<tr><td>5134042</td><td>1939-06-15</td><td>NA</td><td>None Indicated</td><td>0.2725629</td><td>2021-08-23</td><td>NA</td><td>NA</td><td>NA</td><td>NA</td><td>⋯</td><td>NA</td><td>NA</td><td>NA</td><td>NA</td><td>NA</td><td>NA</td><td>NA</td><td>NA</td><td>NA</td><td>NA</td></tr>\n",
       "\t<tr><td>2793265</td><td>1959-06-15</td><td>NA</td><td>None Indicated</td><td>0.4313811</td><td>2018-05-08</td><td>NA</td><td>NA</td><td>NA</td><td>NA</td><td>⋯</td><td>NA</td><td>NA</td><td>NA</td><td>NA</td><td>NA</td><td>NA</td><td>NA</td><td>NA</td><td>NA</td><td>NA</td></tr>\n",
       "\t<tr><td>8695617</td><td>1977-06-15</td><td>NA</td><td>None Indicated</td><td>0.1921735</td><td>2021-12-07</td><td>NA</td><td>NA</td><td>NA</td><td>NA</td><td>⋯</td><td>NA</td><td>NA</td><td>NA</td><td>NA</td><td>NA</td><td>NA</td><td>NA</td><td>NA</td><td>NA</td><td>NA</td></tr>\n",
       "\t<tr><td>2002132</td><td>1943-06-15</td><td>NA</td><td>None Indicated</td><td>0.3166138</td><td>2021-12-27</td><td>NA</td><td>NA</td><td>NA</td><td>NA</td><td>⋯</td><td>NA</td><td>NA</td><td>NA</td><td>NA</td><td>NA</td><td>NA</td><td>NA</td><td>NA</td><td>NA</td><td>NA</td></tr>\n",
       "\t<tr><td>5054422</td><td>1984-06-15</td><td>NA</td><td>None Indicated</td><td>0.2693429</td><td>2021-08-08</td><td>NA</td><td>NA</td><td>NA</td><td>NA</td><td>⋯</td><td>NA</td><td>NA</td><td>NA</td><td>NA</td><td>NA</td><td>NA</td><td>NA</td><td>NA</td><td>NA</td><td>NA</td></tr>\n",
       "</tbody>\n",
       "</table>\n"
      ],
      "text/latex": [
       "A tibble: 6 × 26\n",
       "\\begin{tabular}{lllllllllllllllllllll}\n",
       " person\\_id & dob & sex & race & depind & depind\\_date & gen\\_ancestry & PC1 & PC2 & PC3 & ⋯ & PC10 & PC11 & PC12 & PC13 & PC14 & PC15 & PC16 & delirium\\_code & delirium\\_date & delirium\\_count\\\\\n",
       " <dbl> & <dttm> & <dbl> & <chr> & <dbl> & <dttm> & <chr> & <dbl> & <dbl> & <dbl> & ⋯ & <dbl> & <dbl> & <dbl> & <dbl> & <dbl> & <dbl> & <dbl> & <chr> & <dttm> & <int>\\\\\n",
       "\\hline\n",
       "\t 1116891 & 1946-06-15 & NA & None Indicated & 0.3512714 & 2021-08-23 & NA & NA & NA & NA & ⋯ & NA & NA & NA & NA & NA & NA & NA & NA & NA & NA\\\\\n",
       "\t 5134042 & 1939-06-15 & NA & None Indicated & 0.2725629 & 2021-08-23 & NA & NA & NA & NA & ⋯ & NA & NA & NA & NA & NA & NA & NA & NA & NA & NA\\\\\n",
       "\t 2793265 & 1959-06-15 & NA & None Indicated & 0.4313811 & 2018-05-08 & NA & NA & NA & NA & ⋯ & NA & NA & NA & NA & NA & NA & NA & NA & NA & NA\\\\\n",
       "\t 8695617 & 1977-06-15 & NA & None Indicated & 0.1921735 & 2021-12-07 & NA & NA & NA & NA & ⋯ & NA & NA & NA & NA & NA & NA & NA & NA & NA & NA\\\\\n",
       "\t 2002132 & 1943-06-15 & NA & None Indicated & 0.3166138 & 2021-12-27 & NA & NA & NA & NA & ⋯ & NA & NA & NA & NA & NA & NA & NA & NA & NA & NA\\\\\n",
       "\t 5054422 & 1984-06-15 & NA & None Indicated & 0.2693429 & 2021-08-08 & NA & NA & NA & NA & ⋯ & NA & NA & NA & NA & NA & NA & NA & NA & NA & NA\\\\\n",
       "\\end{tabular}\n"
      ],
      "text/markdown": [
       "\n",
       "A tibble: 6 × 26\n",
       "\n",
       "| person_id &lt;dbl&gt; | dob &lt;dttm&gt; | sex &lt;dbl&gt; | race &lt;chr&gt; | depind &lt;dbl&gt; | depind_date &lt;dttm&gt; | gen_ancestry &lt;chr&gt; | PC1 &lt;dbl&gt; | PC2 &lt;dbl&gt; | PC3 &lt;dbl&gt; | ⋯ ⋯ | PC10 &lt;dbl&gt; | PC11 &lt;dbl&gt; | PC12 &lt;dbl&gt; | PC13 &lt;dbl&gt; | PC14 &lt;dbl&gt; | PC15 &lt;dbl&gt; | PC16 &lt;dbl&gt; | delirium_code &lt;chr&gt; | delirium_date &lt;dttm&gt; | delirium_count &lt;int&gt; |\n",
       "|---|---|---|---|---|---|---|---|---|---|---|---|---|---|---|---|---|---|---|---|---|\n",
       "| 1116891 | 1946-06-15 | NA | None Indicated | 0.3512714 | 2021-08-23 | NA | NA | NA | NA | ⋯ | NA | NA | NA | NA | NA | NA | NA | NA | NA | NA |\n",
       "| 5134042 | 1939-06-15 | NA | None Indicated | 0.2725629 | 2021-08-23 | NA | NA | NA | NA | ⋯ | NA | NA | NA | NA | NA | NA | NA | NA | NA | NA |\n",
       "| 2793265 | 1959-06-15 | NA | None Indicated | 0.4313811 | 2018-05-08 | NA | NA | NA | NA | ⋯ | NA | NA | NA | NA | NA | NA | NA | NA | NA | NA |\n",
       "| 8695617 | 1977-06-15 | NA | None Indicated | 0.1921735 | 2021-12-07 | NA | NA | NA | NA | ⋯ | NA | NA | NA | NA | NA | NA | NA | NA | NA | NA |\n",
       "| 2002132 | 1943-06-15 | NA | None Indicated | 0.3166138 | 2021-12-27 | NA | NA | NA | NA | ⋯ | NA | NA | NA | NA | NA | NA | NA | NA | NA | NA |\n",
       "| 5054422 | 1984-06-15 | NA | None Indicated | 0.2693429 | 2021-08-08 | NA | NA | NA | NA | ⋯ | NA | NA | NA | NA | NA | NA | NA | NA | NA | NA |\n",
       "\n"
      ],
      "text/plain": [
       "  person_id dob        sex race           depind    depind_date gen_ancestry\n",
       "1 1116891   1946-06-15 NA  None Indicated 0.3512714 2021-08-23  NA          \n",
       "2 5134042   1939-06-15 NA  None Indicated 0.2725629 2021-08-23  NA          \n",
       "3 2793265   1959-06-15 NA  None Indicated 0.4313811 2018-05-08  NA          \n",
       "4 8695617   1977-06-15 NA  None Indicated 0.1921735 2021-12-07  NA          \n",
       "5 2002132   1943-06-15 NA  None Indicated 0.3166138 2021-12-27  NA          \n",
       "6 5054422   1984-06-15 NA  None Indicated 0.2693429 2021-08-08  NA          \n",
       "  PC1 PC2 PC3 ⋯ PC10 PC11 PC12 PC13 PC14 PC15 PC16 delirium_code delirium_date\n",
       "1 NA  NA  NA  ⋯ NA   NA   NA   NA   NA   NA   NA   NA            <NA>         \n",
       "2 NA  NA  NA  ⋯ NA   NA   NA   NA   NA   NA   NA   NA            <NA>         \n",
       "3 NA  NA  NA  ⋯ NA   NA   NA   NA   NA   NA   NA   NA            <NA>         \n",
       "4 NA  NA  NA  ⋯ NA   NA   NA   NA   NA   NA   NA   NA            <NA>         \n",
       "5 NA  NA  NA  ⋯ NA   NA   NA   NA   NA   NA   NA   NA            <NA>         \n",
       "6 NA  NA  NA  ⋯ NA   NA   NA   NA   NA   NA   NA   NA            <NA>         \n",
       "  delirium_count\n",
       "1 NA            \n",
       "2 NA            \n",
       "3 NA            \n",
       "4 NA            \n",
       "5 NA            \n",
       "6 NA            "
      ]
     },
     "metadata": {},
     "output_type": "display_data"
    }
   ],
   "source": [
    "temp_merged_pheno_df <-\n",
    "inner_join(temp_person_df, temp_depriv_df, by=\"person_id\") %>% \n",
    "    left_join(., temp_ancestry_pred_df, by=\"person_id\") %>%\n",
    "    left_join(., temp_delirium_df, by=\"person_id\")\n",
    "dim(temp_merged_pheno_df)\n",
    "temp_merged_pheno_df %>% head"
   ]
  },
  {
   "cell_type": "markdown",
   "metadata": {},
   "source": [
    "**Make age variable:**"
   ]
  },
  {
   "cell_type": "markdown",
   "metadata": {},
   "source": [
    "Define age as:\n",
    "- age at first reported delirium for **delirium cases**: delirium_date - dob\n",
    "- age at censoring for **delirium controls**: censoring_date - dob\n",
    "\n",
    "*censoring date for CDR v7 is **July 1, 2022**, see: https://support.researchallofus.org/hc/en-us/articles/360051661772-What-are-the-CDR-cutoff-dates"
   ]
  },
  {
   "cell_type": "code",
   "execution_count": 18,
   "metadata": {},
   "outputs": [
    {
     "data": {
      "text/html": [
       "<table class=\"dataframe\">\n",
       "<caption>A tibble: 6 × 28</caption>\n",
       "<thead>\n",
       "\t<tr><th scope=col>person_id</th><th scope=col>dob</th><th scope=col>sex</th><th scope=col>race</th><th scope=col>depind</th><th scope=col>depind_date</th><th scope=col>gen_ancestry</th><th scope=col>PC1</th><th scope=col>PC2</th><th scope=col>PC3</th><th scope=col>⋯</th><th scope=col>PC12</th><th scope=col>PC13</th><th scope=col>PC14</th><th scope=col>PC15</th><th scope=col>PC16</th><th scope=col>delirium_code</th><th scope=col>delirium_date</th><th scope=col>delirium_count</th><th scope=col>delirium_status</th><th scope=col>age</th></tr>\n",
       "\t<tr><th scope=col>&lt;dbl&gt;</th><th scope=col>&lt;dttm&gt;</th><th scope=col>&lt;dbl&gt;</th><th scope=col>&lt;chr&gt;</th><th scope=col>&lt;dbl&gt;</th><th scope=col>&lt;dttm&gt;</th><th scope=col>&lt;chr&gt;</th><th scope=col>&lt;dbl&gt;</th><th scope=col>&lt;dbl&gt;</th><th scope=col>&lt;dbl&gt;</th><th scope=col>⋯</th><th scope=col>&lt;dbl&gt;</th><th scope=col>&lt;dbl&gt;</th><th scope=col>&lt;dbl&gt;</th><th scope=col>&lt;dbl&gt;</th><th scope=col>&lt;dbl&gt;</th><th scope=col>&lt;chr&gt;</th><th scope=col>&lt;dttm&gt;</th><th scope=col>&lt;int&gt;</th><th scope=col>&lt;dbl&gt;</th><th scope=col>&lt;int&gt;</th></tr>\n",
       "</thead>\n",
       "<tbody>\n",
       "\t<tr><td>1116891</td><td>1946-06-15</td><td>NA</td><td>None Indicated</td><td>0.3512714</td><td>2021-08-23</td><td>NA</td><td>NA</td><td>NA</td><td>NA</td><td>⋯</td><td>NA</td><td>NA</td><td>NA</td><td>NA</td><td>NA</td><td>NA</td><td>NA</td><td>NA</td><td>0</td><td>76</td></tr>\n",
       "\t<tr><td>5134042</td><td>1939-06-15</td><td>NA</td><td>None Indicated</td><td>0.2725629</td><td>2021-08-23</td><td>NA</td><td>NA</td><td>NA</td><td>NA</td><td>⋯</td><td>NA</td><td>NA</td><td>NA</td><td>NA</td><td>NA</td><td>NA</td><td>NA</td><td>NA</td><td>0</td><td>83</td></tr>\n",
       "\t<tr><td>2793265</td><td>1959-06-15</td><td>NA</td><td>None Indicated</td><td>0.4313811</td><td>2018-05-08</td><td>NA</td><td>NA</td><td>NA</td><td>NA</td><td>⋯</td><td>NA</td><td>NA</td><td>NA</td><td>NA</td><td>NA</td><td>NA</td><td>NA</td><td>NA</td><td>0</td><td>63</td></tr>\n",
       "\t<tr><td>8695617</td><td>1977-06-15</td><td>NA</td><td>None Indicated</td><td>0.1921735</td><td>2021-12-07</td><td>NA</td><td>NA</td><td>NA</td><td>NA</td><td>⋯</td><td>NA</td><td>NA</td><td>NA</td><td>NA</td><td>NA</td><td>NA</td><td>NA</td><td>NA</td><td>0</td><td>45</td></tr>\n",
       "\t<tr><td>2002132</td><td>1943-06-15</td><td>NA</td><td>None Indicated</td><td>0.3166138</td><td>2021-12-27</td><td>NA</td><td>NA</td><td>NA</td><td>NA</td><td>⋯</td><td>NA</td><td>NA</td><td>NA</td><td>NA</td><td>NA</td><td>NA</td><td>NA</td><td>NA</td><td>0</td><td>79</td></tr>\n",
       "\t<tr><td>5054422</td><td>1984-06-15</td><td>NA</td><td>None Indicated</td><td>0.2693429</td><td>2021-08-08</td><td>NA</td><td>NA</td><td>NA</td><td>NA</td><td>⋯</td><td>NA</td><td>NA</td><td>NA</td><td>NA</td><td>NA</td><td>NA</td><td>NA</td><td>NA</td><td>0</td><td>38</td></tr>\n",
       "</tbody>\n",
       "</table>\n"
      ],
      "text/latex": [
       "A tibble: 6 × 28\n",
       "\\begin{tabular}{lllllllllllllllllllll}\n",
       " person\\_id & dob & sex & race & depind & depind\\_date & gen\\_ancestry & PC1 & PC2 & PC3 & ⋯ & PC12 & PC13 & PC14 & PC15 & PC16 & delirium\\_code & delirium\\_date & delirium\\_count & delirium\\_status & age\\\\\n",
       " <dbl> & <dttm> & <dbl> & <chr> & <dbl> & <dttm> & <chr> & <dbl> & <dbl> & <dbl> & ⋯ & <dbl> & <dbl> & <dbl> & <dbl> & <dbl> & <chr> & <dttm> & <int> & <dbl> & <int>\\\\\n",
       "\\hline\n",
       "\t 1116891 & 1946-06-15 & NA & None Indicated & 0.3512714 & 2021-08-23 & NA & NA & NA & NA & ⋯ & NA & NA & NA & NA & NA & NA & NA & NA & 0 & 76\\\\\n",
       "\t 5134042 & 1939-06-15 & NA & None Indicated & 0.2725629 & 2021-08-23 & NA & NA & NA & NA & ⋯ & NA & NA & NA & NA & NA & NA & NA & NA & 0 & 83\\\\\n",
       "\t 2793265 & 1959-06-15 & NA & None Indicated & 0.4313811 & 2018-05-08 & NA & NA & NA & NA & ⋯ & NA & NA & NA & NA & NA & NA & NA & NA & 0 & 63\\\\\n",
       "\t 8695617 & 1977-06-15 & NA & None Indicated & 0.1921735 & 2021-12-07 & NA & NA & NA & NA & ⋯ & NA & NA & NA & NA & NA & NA & NA & NA & 0 & 45\\\\\n",
       "\t 2002132 & 1943-06-15 & NA & None Indicated & 0.3166138 & 2021-12-27 & NA & NA & NA & NA & ⋯ & NA & NA & NA & NA & NA & NA & NA & NA & 0 & 79\\\\\n",
       "\t 5054422 & 1984-06-15 & NA & None Indicated & 0.2693429 & 2021-08-08 & NA & NA & NA & NA & ⋯ & NA & NA & NA & NA & NA & NA & NA & NA & 0 & 38\\\\\n",
       "\\end{tabular}\n"
      ],
      "text/markdown": [
       "\n",
       "A tibble: 6 × 28\n",
       "\n",
       "| person_id &lt;dbl&gt; | dob &lt;dttm&gt; | sex &lt;dbl&gt; | race &lt;chr&gt; | depind &lt;dbl&gt; | depind_date &lt;dttm&gt; | gen_ancestry &lt;chr&gt; | PC1 &lt;dbl&gt; | PC2 &lt;dbl&gt; | PC3 &lt;dbl&gt; | ⋯ ⋯ | PC12 &lt;dbl&gt; | PC13 &lt;dbl&gt; | PC14 &lt;dbl&gt; | PC15 &lt;dbl&gt; | PC16 &lt;dbl&gt; | delirium_code &lt;chr&gt; | delirium_date &lt;dttm&gt; | delirium_count &lt;int&gt; | delirium_status &lt;dbl&gt; | age &lt;int&gt; |\n",
       "|---|---|---|---|---|---|---|---|---|---|---|---|---|---|---|---|---|---|---|---|---|\n",
       "| 1116891 | 1946-06-15 | NA | None Indicated | 0.3512714 | 2021-08-23 | NA | NA | NA | NA | ⋯ | NA | NA | NA | NA | NA | NA | NA | NA | 0 | 76 |\n",
       "| 5134042 | 1939-06-15 | NA | None Indicated | 0.2725629 | 2021-08-23 | NA | NA | NA | NA | ⋯ | NA | NA | NA | NA | NA | NA | NA | NA | 0 | 83 |\n",
       "| 2793265 | 1959-06-15 | NA | None Indicated | 0.4313811 | 2018-05-08 | NA | NA | NA | NA | ⋯ | NA | NA | NA | NA | NA | NA | NA | NA | 0 | 63 |\n",
       "| 8695617 | 1977-06-15 | NA | None Indicated | 0.1921735 | 2021-12-07 | NA | NA | NA | NA | ⋯ | NA | NA | NA | NA | NA | NA | NA | NA | 0 | 45 |\n",
       "| 2002132 | 1943-06-15 | NA | None Indicated | 0.3166138 | 2021-12-27 | NA | NA | NA | NA | ⋯ | NA | NA | NA | NA | NA | NA | NA | NA | 0 | 79 |\n",
       "| 5054422 | 1984-06-15 | NA | None Indicated | 0.2693429 | 2021-08-08 | NA | NA | NA | NA | ⋯ | NA | NA | NA | NA | NA | NA | NA | NA | 0 | 38 |\n",
       "\n"
      ],
      "text/plain": [
       "  person_id dob        sex race           depind    depind_date gen_ancestry\n",
       "1 1116891   1946-06-15 NA  None Indicated 0.3512714 2021-08-23  NA          \n",
       "2 5134042   1939-06-15 NA  None Indicated 0.2725629 2021-08-23  NA          \n",
       "3 2793265   1959-06-15 NA  None Indicated 0.4313811 2018-05-08  NA          \n",
       "4 8695617   1977-06-15 NA  None Indicated 0.1921735 2021-12-07  NA          \n",
       "5 2002132   1943-06-15 NA  None Indicated 0.3166138 2021-12-27  NA          \n",
       "6 5054422   1984-06-15 NA  None Indicated 0.2693429 2021-08-08  NA          \n",
       "  PC1 PC2 PC3 ⋯ PC12 PC13 PC14 PC15 PC16 delirium_code delirium_date\n",
       "1 NA  NA  NA  ⋯ NA   NA   NA   NA   NA   NA            <NA>         \n",
       "2 NA  NA  NA  ⋯ NA   NA   NA   NA   NA   NA            <NA>         \n",
       "3 NA  NA  NA  ⋯ NA   NA   NA   NA   NA   NA            <NA>         \n",
       "4 NA  NA  NA  ⋯ NA   NA   NA   NA   NA   NA            <NA>         \n",
       "5 NA  NA  NA  ⋯ NA   NA   NA   NA   NA   NA            <NA>         \n",
       "6 NA  NA  NA  ⋯ NA   NA   NA   NA   NA   NA            <NA>         \n",
       "  delirium_count delirium_status age\n",
       "1 NA             0               76 \n",
       "2 NA             0               83 \n",
       "3 NA             0               63 \n",
       "4 NA             0               45 \n",
       "5 NA             0               79 \n",
       "6 NA             0               38 "
      ]
     },
     "metadata": {},
     "output_type": "display_data"
    }
   ],
   "source": [
    "# note: I couldn't find death date, add age at death for applicable controls if available. Leave it for now\n",
    "censoring_date <- strptime(\"2022-07-01\", format=\"%Y-%m-%d\")\n",
    "\n",
    "full_pheno_df <-\n",
    "temp_merged_pheno_df %>%\n",
    "    ## make delirium status variable: 0=control; 1=case\n",
    "    mutate(delirium_status = ifelse(!is.na(delirium_code),1,0)) %>% \n",
    "    ## make age variable\n",
    "    mutate(age = case_when(!is.na(delirium_code) ~ round(as.numeric(difftime(delirium_date, dob, units = \"days\")/365.25),2), \n",
    "                           TRUE ~ round(as.numeric(difftime(censoring_date, dob, units = \"days\")/365.25),2))) %>%\n",
    "    ## round age to closest integer\n",
    "    mutate(age = as.integer(age))\n",
    "full_pheno_df %>% head"
   ]
  },
  {
   "cell_type": "markdown",
   "metadata": {},
   "source": [
    "**Save final phenotype file to bucket:**"
   ]
  },
  {
   "cell_type": "code",
   "execution_count": 19,
   "metadata": {},
   "outputs": [
    {
     "data": {
      "text/html": [],
      "text/latex": [],
      "text/markdown": [],
      "text/plain": [
       "character(0)"
      ]
     },
     "metadata": {},
     "output_type": "display_data"
    },
    {
     "data": {
      "text/html": [
       "<style>\n",
       ".list-inline {list-style: none; margin:0; padding: 0}\n",
       ".list-inline>li {display: inline-block}\n",
       ".list-inline>li:not(:last-child)::after {content: \"\\00b7\"; padding: 0 .5ex}\n",
       "</style>\n",
       "<ol class=list-inline><li>'gs://fc-secure-0e4de6e0-e2d7-4267-949d-7b1ad758a53f/data/pheno/full_pheno_clean_del_df.csv'</li><li>'gs://fc-secure-0e4de6e0-e2d7-4267-949d-7b1ad758a53f/data/pheno/full_pheno_df.csv'</li></ol>\n"
      ],
      "text/latex": [
       "\\begin{enumerate*}\n",
       "\\item 'gs://fc-secure-0e4de6e0-e2d7-4267-949d-7b1ad758a53f/data/pheno/full\\_pheno\\_clean\\_del\\_df.csv'\n",
       "\\item 'gs://fc-secure-0e4de6e0-e2d7-4267-949d-7b1ad758a53f/data/pheno/full\\_pheno\\_df.csv'\n",
       "\\end{enumerate*}\n"
      ],
      "text/markdown": [
       "1. 'gs://fc-secure-0e4de6e0-e2d7-4267-949d-7b1ad758a53f/data/pheno/full_pheno_clean_del_df.csv'\n",
       "2. 'gs://fc-secure-0e4de6e0-e2d7-4267-949d-7b1ad758a53f/data/pheno/full_pheno_df.csv'\n",
       "\n",
       "\n"
      ],
      "text/plain": [
       "[1] \"gs://fc-secure-0e4de6e0-e2d7-4267-949d-7b1ad758a53f/data/pheno/full_pheno_clean_del_df.csv\"\n",
       "[2] \"gs://fc-secure-0e4de6e0-e2d7-4267-949d-7b1ad758a53f/data/pheno/full_pheno_df.csv\"          "
      ]
     },
     "metadata": {},
     "output_type": "display_data"
    }
   ],
   "source": [
    "# This snippet assumes that you run setup first\n",
    "\n",
    "# This code saves your dataframe into a csv file in a \"data\" folder in Google Bucket\n",
    "\n",
    "# Replace df with THE NAME OF YOUR DATAFRAME\n",
    "my_dataframe <- full_pheno_df\n",
    "\n",
    "# Replace 'test.csv' with THE NAME of the file you're going to store in the bucket (don't delete the quotation marks)\n",
    "destination_filename <- 'full_pheno_clean_del_df.csv'\n",
    "\n",
    "########################################################################\n",
    "##\n",
    "################# DON'T CHANGE FROM HERE ###############################\n",
    "##\n",
    "########################################################################\n",
    "\n",
    "# store the dataframe in current workspace\n",
    "write_excel_csv(my_dataframe, destination_filename)\n",
    "\n",
    "# Get the bucket name\n",
    "my_bucket <- Sys.getenv('WORKSPACE_BUCKET')\n",
    "\n",
    "# Copy the file from current workspace to the bucket\n",
    "system(paste0(\"gsutil cp ./\", destination_filename, \" \", my_bucket, \"/data/pheno/\"), intern=T)\n",
    "\n",
    "# Check if file is in the bucket\n",
    "system(paste0(\"gsutil ls \", my_bucket, \"/data/pheno/*.csv\"), intern=T)\n"
   ]
  }
 ],
 "metadata": {
  "kernelspec": {
   "display_name": "R",
   "language": "R",
   "name": "ir"
  },
  "language_info": {
   "codemirror_mode": "r",
   "file_extension": ".r",
   "mimetype": "text/x-r-source",
   "name": "R",
   "pygments_lexer": "r",
   "version": "4.4.0"
  },
  "toc": {
   "base_numbering": 1,
   "nav_menu": {},
   "number_sections": true,
   "sideBar": true,
   "skip_h1_title": false,
   "title_cell": "Table of Contents",
   "title_sidebar": "Contents",
   "toc_cell": false,
   "toc_position": {},
   "toc_section_display": true,
   "toc_window_display": false
  }
 },
 "nbformat": 4,
 "nbformat_minor": 2
}
