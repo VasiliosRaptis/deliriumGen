{
 "cells": [
  {
   "cell_type": "markdown",
   "metadata": {},
   "source": [
    "**AUTHOR:** <br>\n",
    "Vasilis Raptis\n",
    "\n",
    "**DATE:** <br>\n",
    "20.05.2024 \n",
    "\n",
    "**PURPOSE:** <br>\n",
    "This notebook: \n",
    "- downloads microarray data\n",
    "- filters microarray data for eur, amr, afr populations -> creates lists of snps and participants\n",
    "- creates microarray plink data without Y chromosome variants (causes regenine step1 to crash otherwise)\n",
    "- copies the filtered lists to bucket\n",
    "\n",
    "\n",
    "**NOTES:** <br>\n",
    "- use *_v7.1 microarray & wgs plink data, as some known issues have been fixed. See here: https://support.researchallofus.org/hc/en-us/articles/25646444720404-Incremental-Data-Release-for-v7-Genotyping-Array-and-Short-Read-Genomic-Data \n",
    "- use plink2\n",
    "- use ancestry ids created in \"01_part2_pheno_by_ancestry\"\n",
    "- needs to be run to create the _noY plink files, copies things to be used by regenie to bucket\n",
    "- **UPDATE 04.06.2024:** run on the 1:5 subsampled data\n",
    "- **UPDATE 06.06.2024:** run on the 1:10 subsampled data\n",
    "- **UPDATE 08.07.2024:** run on full clean data\n"
   ]
  },
  {
   "cell_type": "markdown",
   "metadata": {},
   "source": [
    "**Setup:**"
   ]
  },
  {
   "cell_type": "code",
   "execution_count": 1,
   "metadata": {
    "execution": {
     "iopub.execute_input": "2024-07-08T13:47:32.490150Z",
     "iopub.status.busy": "2024-07-08T13:47:32.487289Z",
     "iopub.status.idle": "2024-07-08T13:47:36.854063Z",
     "shell.execute_reply": "2024-07-08T13:47:36.852156Z"
    }
   },
   "outputs": [
    {
     "name": "stderr",
     "output_type": "stream",
     "text": [
      "── \u001b[1mAttaching core tidyverse packages\u001b[22m ──────────────────────── tidyverse 2.0.0 ──\n",
      "\u001b[32m✔\u001b[39m \u001b[34mdplyr    \u001b[39m 1.1.4     \u001b[32m✔\u001b[39m \u001b[34mreadr    \u001b[39m 2.1.5\n",
      "\u001b[32m✔\u001b[39m \u001b[34mforcats  \u001b[39m 1.0.0     \u001b[32m✔\u001b[39m \u001b[34mstringr  \u001b[39m 1.5.1\n",
      "\u001b[32m✔\u001b[39m \u001b[34mggplot2  \u001b[39m 3.5.1     \u001b[32m✔\u001b[39m \u001b[34mtibble   \u001b[39m 3.2.1\n",
      "\u001b[32m✔\u001b[39m \u001b[34mlubridate\u001b[39m 1.9.3     \u001b[32m✔\u001b[39m \u001b[34mtidyr    \u001b[39m 1.3.1\n",
      "\u001b[32m✔\u001b[39m \u001b[34mpurrr    \u001b[39m 1.0.2     \n"
     ]
    },
    {
     "name": "stderr",
     "output_type": "stream",
     "text": [
      "── \u001b[1mConflicts\u001b[22m ────────────────────────────────────────── tidyverse_conflicts() ──\n",
      "\u001b[31m✖\u001b[39m \u001b[34mdplyr\u001b[39m::\u001b[32mbetween()\u001b[39m     masks \u001b[34mdata.table\u001b[39m::between()\n",
      "\u001b[31m✖\u001b[39m \u001b[34mdplyr\u001b[39m::\u001b[32mfilter()\u001b[39m      masks \u001b[34mstats\u001b[39m::filter()\n",
      "\u001b[31m✖\u001b[39m \u001b[34mdplyr\u001b[39m::\u001b[32mfirst()\u001b[39m       masks \u001b[34mdata.table\u001b[39m::first()\n",
      "\u001b[31m✖\u001b[39m \u001b[34mlubridate\u001b[39m::\u001b[32mhour()\u001b[39m    masks \u001b[34mdata.table\u001b[39m::hour()\n",
      "\u001b[31m✖\u001b[39m \u001b[34mlubridate\u001b[39m::\u001b[32misoweek()\u001b[39m masks \u001b[34mdata.table\u001b[39m::isoweek()\n",
      "\u001b[31m✖\u001b[39m \u001b[34mdplyr\u001b[39m::\u001b[32mlag()\u001b[39m         masks \u001b[34mstats\u001b[39m::lag()\n",
      "\u001b[31m✖\u001b[39m \u001b[34mdplyr\u001b[39m::\u001b[32mlast()\u001b[39m        masks \u001b[34mdata.table\u001b[39m::last()\n",
      "\u001b[31m✖\u001b[39m \u001b[34mlubridate\u001b[39m::\u001b[32mmday()\u001b[39m    masks \u001b[34mdata.table\u001b[39m::mday()\n",
      "\u001b[31m✖\u001b[39m \u001b[34mlubridate\u001b[39m::\u001b[32mminute()\u001b[39m  masks \u001b[34mdata.table\u001b[39m::minute()\n",
      "\u001b[31m✖\u001b[39m \u001b[34mlubridate\u001b[39m::\u001b[32mmonth()\u001b[39m   masks \u001b[34mdata.table\u001b[39m::month()\n",
      "\u001b[31m✖\u001b[39m \u001b[34mlubridate\u001b[39m::\u001b[32mquarter()\u001b[39m masks \u001b[34mdata.table\u001b[39m::quarter()\n",
      "\u001b[31m✖\u001b[39m \u001b[34mlubridate\u001b[39m::\u001b[32msecond()\u001b[39m  masks \u001b[34mdata.table\u001b[39m::second()\n",
      "\u001b[31m✖\u001b[39m \u001b[34mpurrr\u001b[39m::\u001b[32mtranspose()\u001b[39m   masks \u001b[34mdata.table\u001b[39m::transpose()\n",
      "\u001b[31m✖\u001b[39m \u001b[34mlubridate\u001b[39m::\u001b[32mwday()\u001b[39m    masks \u001b[34mdata.table\u001b[39m::wday()\n",
      "\u001b[31m✖\u001b[39m \u001b[34mlubridate\u001b[39m::\u001b[32mweek()\u001b[39m    masks \u001b[34mdata.table\u001b[39m::week()\n",
      "\u001b[31m✖\u001b[39m \u001b[34mlubridate\u001b[39m::\u001b[32myday()\u001b[39m    masks \u001b[34mdata.table\u001b[39m::yday()\n",
      "\u001b[31m✖\u001b[39m \u001b[34mlubridate\u001b[39m::\u001b[32myear()\u001b[39m    masks \u001b[34mdata.table\u001b[39m::year()\n",
      "\u001b[36mℹ\u001b[39m Use the conflicted package (\u001b[3m\u001b[34m<http://conflicted.r-lib.org/>\u001b[39m\u001b[23m) to force all conflicts to become errors\n"
     ]
    }
   ],
   "source": [
    "# libraries\n",
    "library(data.table)\n",
    "library(tidyverse)\n",
    "\n",
    "## Get my bucket name\n",
    "my_bucket  <- Sys.getenv(\"WORKSPACE_BUCKET\")\n",
    "## Google project name\n",
    "GOOGLE_PROJECT <- Sys.getenv(\"GOOGLE_PROJECT\")"
   ]
  },
  {
   "cell_type": "code",
   "execution_count": 2,
   "metadata": {
    "execution": {
     "iopub.execute_input": "2024-07-08T13:47:36.894554Z",
     "iopub.status.busy": "2024-07-08T13:47:36.858504Z",
     "iopub.status.idle": "2024-07-08T13:47:40.697357Z",
     "shell.execute_reply": "2024-07-08T13:47:40.694915Z"
    }
   },
   "outputs": [
    {
     "data": {
      "text/html": [
       "<style>\n",
       ".list-inline {list-style: none; margin:0; padding: 0}\n",
       ".list-inline>li {display: inline-block}\n",
       ".list-inline>li:not(:last-child)::after {content: \"\\00b7\"; padding: 0 .5ex}\n",
       "</style>\n",
       "<ol class=list-inline><li>'gs://fc-secure-0e4de6e0-e2d7-4267-949d-7b1ad758a53f/data/pheno/clean/afr_ids_clean.txt'</li><li>'gs://fc-secure-0e4de6e0-e2d7-4267-949d-7b1ad758a53f/data/pheno/clean/afr_pheno_clean.txt'</li><li>'gs://fc-secure-0e4de6e0-e2d7-4267-949d-7b1ad758a53f/data/pheno/clean/amr_ids_clean.txt'</li><li>'gs://fc-secure-0e4de6e0-e2d7-4267-949d-7b1ad758a53f/data/pheno/clean/amr_pheno_clean.txt'</li><li>'gs://fc-secure-0e4de6e0-e2d7-4267-949d-7b1ad758a53f/data/pheno/clean/eur_ids_clean.txt'</li><li>'gs://fc-secure-0e4de6e0-e2d7-4267-949d-7b1ad758a53f/data/pheno/clean/eur_pheno_clean.txt'</li><li>'gs://fc-secure-0e4de6e0-e2d7-4267-949d-7b1ad758a53f/data/pheno/clean/1on10/'</li><li>'gs://fc-secure-0e4de6e0-e2d7-4267-949d-7b1ad758a53f/data/pheno/clean/1on5/'</li></ol>\n"
      ],
      "text/latex": [
       "\\begin{enumerate*}\n",
       "\\item 'gs://fc-secure-0e4de6e0-e2d7-4267-949d-7b1ad758a53f/data/pheno/clean/afr\\_ids\\_clean.txt'\n",
       "\\item 'gs://fc-secure-0e4de6e0-e2d7-4267-949d-7b1ad758a53f/data/pheno/clean/afr\\_pheno\\_clean.txt'\n",
       "\\item 'gs://fc-secure-0e4de6e0-e2d7-4267-949d-7b1ad758a53f/data/pheno/clean/amr\\_ids\\_clean.txt'\n",
       "\\item 'gs://fc-secure-0e4de6e0-e2d7-4267-949d-7b1ad758a53f/data/pheno/clean/amr\\_pheno\\_clean.txt'\n",
       "\\item 'gs://fc-secure-0e4de6e0-e2d7-4267-949d-7b1ad758a53f/data/pheno/clean/eur\\_ids\\_clean.txt'\n",
       "\\item 'gs://fc-secure-0e4de6e0-e2d7-4267-949d-7b1ad758a53f/data/pheno/clean/eur\\_pheno\\_clean.txt'\n",
       "\\item 'gs://fc-secure-0e4de6e0-e2d7-4267-949d-7b1ad758a53f/data/pheno/clean/1on10/'\n",
       "\\item 'gs://fc-secure-0e4de6e0-e2d7-4267-949d-7b1ad758a53f/data/pheno/clean/1on5/'\n",
       "\\end{enumerate*}\n"
      ],
      "text/markdown": [
       "1. 'gs://fc-secure-0e4de6e0-e2d7-4267-949d-7b1ad758a53f/data/pheno/clean/afr_ids_clean.txt'\n",
       "2. 'gs://fc-secure-0e4de6e0-e2d7-4267-949d-7b1ad758a53f/data/pheno/clean/afr_pheno_clean.txt'\n",
       "3. 'gs://fc-secure-0e4de6e0-e2d7-4267-949d-7b1ad758a53f/data/pheno/clean/amr_ids_clean.txt'\n",
       "4. 'gs://fc-secure-0e4de6e0-e2d7-4267-949d-7b1ad758a53f/data/pheno/clean/amr_pheno_clean.txt'\n",
       "5. 'gs://fc-secure-0e4de6e0-e2d7-4267-949d-7b1ad758a53f/data/pheno/clean/eur_ids_clean.txt'\n",
       "6. 'gs://fc-secure-0e4de6e0-e2d7-4267-949d-7b1ad758a53f/data/pheno/clean/eur_pheno_clean.txt'\n",
       "7. 'gs://fc-secure-0e4de6e0-e2d7-4267-949d-7b1ad758a53f/data/pheno/clean/1on10/'\n",
       "8. 'gs://fc-secure-0e4de6e0-e2d7-4267-949d-7b1ad758a53f/data/pheno/clean/1on5/'\n",
       "\n",
       "\n"
      ],
      "text/plain": [
       "[1] \"gs://fc-secure-0e4de6e0-e2d7-4267-949d-7b1ad758a53f/data/pheno/clean/afr_ids_clean.txt\"  \n",
       "[2] \"gs://fc-secure-0e4de6e0-e2d7-4267-949d-7b1ad758a53f/data/pheno/clean/afr_pheno_clean.txt\"\n",
       "[3] \"gs://fc-secure-0e4de6e0-e2d7-4267-949d-7b1ad758a53f/data/pheno/clean/amr_ids_clean.txt\"  \n",
       "[4] \"gs://fc-secure-0e4de6e0-e2d7-4267-949d-7b1ad758a53f/data/pheno/clean/amr_pheno_clean.txt\"\n",
       "[5] \"gs://fc-secure-0e4de6e0-e2d7-4267-949d-7b1ad758a53f/data/pheno/clean/eur_ids_clean.txt\"  \n",
       "[6] \"gs://fc-secure-0e4de6e0-e2d7-4267-949d-7b1ad758a53f/data/pheno/clean/eur_pheno_clean.txt\"\n",
       "[7] \"gs://fc-secure-0e4de6e0-e2d7-4267-949d-7b1ad758a53f/data/pheno/clean/1on10/\"             \n",
       "[8] \"gs://fc-secure-0e4de6e0-e2d7-4267-949d-7b1ad758a53f/data/pheno/clean/1on5/\"              "
      ]
     },
     "metadata": {},
     "output_type": "display_data"
    },
    {
     "data": {
      "text/html": [
       "<style>\n",
       ".list-inline {list-style: none; margin:0; padding: 0}\n",
       ".list-inline>li {display: inline-block}\n",
       ".list-inline>li:not(:last-child)::after {content: \"\\00b7\"; padding: 0 .5ex}\n",
       "</style>\n",
       "<ol class=list-inline><li>'126G\\t./microarray/plink_v7.1'</li><li>'126G\\t./microarray'</li><li>'824K\\t./.ipynb_checkpoints'</li><li>'126G\\t.'</li></ol>\n"
      ],
      "text/latex": [
       "\\begin{enumerate*}\n",
       "\\item '126G\\textbackslash{}t./microarray/plink\\_v7.1'\n",
       "\\item '126G\\textbackslash{}t./microarray'\n",
       "\\item '824K\\textbackslash{}t./.ipynb\\_checkpoints'\n",
       "\\item '126G\\textbackslash{}t.'\n",
       "\\end{enumerate*}\n"
      ],
      "text/markdown": [
       "1. '126G\\t./microarray/plink_v7.1'\n",
       "2. '126G\\t./microarray'\n",
       "3. '824K\\t./.ipynb_checkpoints'\n",
       "4. '126G\\t.'\n",
       "\n",
       "\n"
      ],
      "text/plain": [
       "[1] \"126G\\t./microarray/plink_v7.1\" \"126G\\t./microarray\"           \n",
       "[3] \"824K\\t./.ipynb_checkpoints\"    \"126G\\t.\"                      "
      ]
     },
     "metadata": {},
     "output_type": "display_data"
    }
   ],
   "source": [
    "# List data in my bucket folder\n",
    "system(paste0(\"gsutil ls \", my_bucket, \"/data/pheno/clean\"), intern=T)\n",
    "# List storage usage in workspace\n",
    "system(\"du -h\", intern=T)"
   ]
  },
  {
   "cell_type": "markdown",
   "metadata": {},
   "source": [
    "**Inspect paths to genomic data:**"
   ]
  },
  {
   "cell_type": "code",
   "execution_count": 3,
   "metadata": {
    "execution": {
     "iopub.execute_input": "2024-07-08T13:47:40.704294Z",
     "iopub.status.busy": "2024-07-08T13:47:40.702942Z",
     "iopub.status.idle": "2024-07-08T13:47:42.466600Z",
     "shell.execute_reply": "2024-07-08T13:47:42.464080Z"
    }
   },
   "outputs": [
    {
     "data": {
      "text/html": [
       "<style>\n",
       ".list-inline {list-style: none; margin:0; padding: 0}\n",
       ".list-inline>li {display: inline-block}\n",
       ".list-inline>li:not(:last-child)::after {content: \"\\00b7\"; padding: 0 .5ex}\n",
       "</style>\n",
       "<ol class=list-inline><li><span style=white-space:pre-wrap>'126.12 GiB  2024-04-11T20:18:48Z  gs://fc-aou-datasets-controlled/v7/microarray/plink_v7.1/arrays.bed'</span></li><li><span style=white-space:pre-wrap>' 69.06 MiB  2024-04-11T20:41:50Z  gs://fc-aou-datasets-controlled/v7/microarray/plink_v7.1/arrays.bim'</span></li><li><span style=white-space:pre-wrap>'  5.64 MiB  2024-04-11T20:26:14Z  gs://fc-aou-datasets-controlled/v7/microarray/plink_v7.1/arrays.fam'</span></li><li>'TOTAL: 3 objects, 135494264236 bytes (126.19 GiB)'</li></ol>\n"
      ],
      "text/latex": [
       "\\begin{enumerate*}\n",
       "\\item '126.12 GiB  2024-04-11T20:18:48Z  gs://fc-aou-datasets-controlled/v7/microarray/plink\\_v7.1/arrays.bed'\n",
       "\\item ' 69.06 MiB  2024-04-11T20:41:50Z  gs://fc-aou-datasets-controlled/v7/microarray/plink\\_v7.1/arrays.bim'\n",
       "\\item '  5.64 MiB  2024-04-11T20:26:14Z  gs://fc-aou-datasets-controlled/v7/microarray/plink\\_v7.1/arrays.fam'\n",
       "\\item 'TOTAL: 3 objects, 135494264236 bytes (126.19 GiB)'\n",
       "\\end{enumerate*}\n"
      ],
      "text/markdown": [
       "1. <span style=white-space:pre-wrap>'126.12 GiB  2024-04-11T20:18:48Z  gs://fc-aou-datasets-controlled/v7/microarray/plink_v7.1/arrays.bed'</span>\n",
       "2. <span style=white-space:pre-wrap>' 69.06 MiB  2024-04-11T20:41:50Z  gs://fc-aou-datasets-controlled/v7/microarray/plink_v7.1/arrays.bim'</span>\n",
       "3. <span style=white-space:pre-wrap>'  5.64 MiB  2024-04-11T20:26:14Z  gs://fc-aou-datasets-controlled/v7/microarray/plink_v7.1/arrays.fam'</span>\n",
       "4. 'TOTAL: 3 objects, 135494264236 bytes (126.19 GiB)'\n",
       "\n",
       "\n"
      ],
      "text/plain": [
       "[1] \"126.12 GiB  2024-04-11T20:18:48Z  gs://fc-aou-datasets-controlled/v7/microarray/plink_v7.1/arrays.bed\"\n",
       "[2] \" 69.06 MiB  2024-04-11T20:41:50Z  gs://fc-aou-datasets-controlled/v7/microarray/plink_v7.1/arrays.bim\"\n",
       "[3] \"  5.64 MiB  2024-04-11T20:26:14Z  gs://fc-aou-datasets-controlled/v7/microarray/plink_v7.1/arrays.fam\"\n",
       "[4] \"TOTAL: 3 objects, 135494264236 bytes (126.19 GiB)\"                                                    "
      ]
     },
     "metadata": {},
     "output_type": "display_data"
    }
   ],
   "source": [
    "system(paste0(\"gsutil -u \", GOOGLE_PROJECT, \" -m ls -lh \", \"gs://fc-aou-datasets-controlled/v7/microarray/plink_v7.1/\"), intern=T)"
   ]
  },
  {
   "cell_type": "markdown",
   "metadata": {},
   "source": [
    "**Load microarray genomic data:** <br>\n",
    "**for regenie Step 1* <br>\n",
    "**126.19 GiB*\n"
   ]
  },
  {
   "cell_type": "code",
   "execution_count": 4,
   "metadata": {
    "execution": {
     "iopub.execute_input": "2024-07-08T13:47:42.473358Z",
     "iopub.status.busy": "2024-07-08T13:47:42.471946Z",
     "iopub.status.idle": "2024-07-08T13:47:42.488556Z",
     "shell.execute_reply": "2024-07-08T13:47:42.486909Z"
    }
   },
   "outputs": [],
   "source": [
    "## make folder for microarray plink data \n",
    "# system(\"mkdir -p ./microarray/plink_v7.1\", intern=T)\n",
    "## load data into workspace\n",
    "# system(paste0(\"gsutil -u \", GOOGLE_PROJECT, \" -m cp gs://fc-aou-datasets-controlled/v7/microarray/plink_v7.1/* ./microarray/plink_v7.1\"), intern=T)\n",
    "## check files are in workspace\n",
    "# system(\"ls -lh ./microarray/plink_v7.1\", intern=T)"
   ]
  },
  {
   "cell_type": "markdown",
   "metadata": {},
   "source": [
    "**Remove Y chrom genotypes:**"
   ]
  },
  {
   "cell_type": "code",
   "execution_count": 5,
   "metadata": {
    "execution": {
     "iopub.execute_input": "2024-07-08T13:47:42.495116Z",
     "iopub.status.busy": "2024-07-08T13:47:42.493741Z",
     "iopub.status.idle": "2024-07-08T13:47:42.504358Z",
     "shell.execute_reply": "2024-07-08T13:47:42.502765Z"
    },
    "scrolled": true
   },
   "outputs": [],
   "source": [
    "## create array plink files without Y chromosome (regenie crashes)\n",
    "# system(paste0(\"plink2 --bfile microarray/plink_v7.1/arrays --chr 1-22, X --make-bed --threads $(nproc) --out microarray/plink_v7.1/arrays_noY\"), intern=T) "
   ]
  },
  {
   "cell_type": "code",
   "execution_count": 6,
   "metadata": {
    "execution": {
     "iopub.execute_input": "2024-07-08T13:47:42.509875Z",
     "iopub.status.busy": "2024-07-08T13:47:42.508476Z",
     "iopub.status.idle": "2024-07-08T13:47:42.519083Z",
     "shell.execute_reply": "2024-07-08T13:47:42.517365Z"
    }
   },
   "outputs": [],
   "source": [
    "## delete original array plink files to save space\n",
    "# system(paste0(\"rm microarray/plink_v7.1/arrays.bed microarray/plink_v7.1/arrays.bim microarray/plink_v7.1/arrays.fam\"), intern=T)\n",
    "# system(paste0(\"ls ./microarray/plink_v7.1/\"), intern=T)\n",
    "# system(paste0(\"du -h \"), intern=T)"
   ]
  },
  {
   "cell_type": "code",
   "execution_count": 7,
   "metadata": {
    "execution": {
     "iopub.execute_input": "2024-07-08T13:47:42.524534Z",
     "iopub.status.busy": "2024-07-08T13:47:42.523145Z",
     "iopub.status.idle": "2024-07-08T13:47:42.587215Z",
     "shell.execute_reply": "2024-07-08T13:47:42.585419Z"
    }
   },
   "outputs": [
    {
     "data": {
      "text/html": [
       "'1735751 ./microarray/plink_v7.1/arrays_noY.bim'"
      ],
      "text/latex": [
       "'1735751 ./microarray/plink\\_v7.1/arrays\\_noY.bim'"
      ],
      "text/markdown": [
       "'1735751 ./microarray/plink_v7.1/arrays_noY.bim'"
      ],
      "text/plain": [
       "[1] \"1735751 ./microarray/plink_v7.1/arrays_noY.bim\""
      ]
     },
     "metadata": {},
     "output_type": "display_data"
    }
   ],
   "source": [
    "## no. of array variants (genome-wide)\n",
    "system(\"wc -l ./microarray/plink_v7.1/arrays_noY.bim\", intern=T)"
   ]
  },
  {
   "cell_type": "markdown",
   "metadata": {},
   "source": [
    "**Load id lists:**"
   ]
  },
  {
   "cell_type": "code",
   "execution_count": 8,
   "metadata": {
    "execution": {
     "iopub.execute_input": "2024-07-08T13:47:42.593067Z",
     "iopub.status.busy": "2024-07-08T13:47:42.591677Z",
     "iopub.status.idle": "2024-07-08T13:47:44.955630Z",
     "shell.execute_reply": "2024-07-08T13:47:44.953249Z"
    }
   },
   "outputs": [
    {
     "data": {
      "text/html": [],
      "text/latex": [],
      "text/markdown": [],
      "text/plain": [
       "character(0)"
      ]
     },
     "metadata": {},
     "output_type": "display_data"
    },
    {
     "data": {
      "text/html": [
       "<style>\n",
       ".list-inline {list-style: none; margin:0; padding: 0}\n",
       ".list-inline>li {display: inline-block}\n",
       ".list-inline>li:not(:last-child)::after {content: \"\\00b7\"; padding: 0 .5ex}\n",
       "</style>\n",
       "<ol class=list-inline><li>'./afr_ids_clean.txt'</li><li>'./amr_ids_clean.txt'</li><li>'./eur_ids_clean.txt'</li></ol>\n"
      ],
      "text/latex": [
       "\\begin{enumerate*}\n",
       "\\item './afr\\_ids\\_clean.txt'\n",
       "\\item './amr\\_ids\\_clean.txt'\n",
       "\\item './eur\\_ids\\_clean.txt'\n",
       "\\end{enumerate*}\n"
      ],
      "text/markdown": [
       "1. './afr_ids_clean.txt'\n",
       "2. './amr_ids_clean.txt'\n",
       "3. './eur_ids_clean.txt'\n",
       "\n",
       "\n"
      ],
      "text/plain": [
       "[1] \"./afr_ids_clean.txt\" \"./amr_ids_clean.txt\" \"./eur_ids_clean.txt\""
      ]
     },
     "metadata": {},
     "output_type": "display_data"
    }
   ],
   "source": [
    "#system(paste0(\"gsutil cp \", my_bucket, \"/data/pheno/clean/1on5/*_ids_clean_1on5.txt\", \" .\"), intern=T)\n",
    "#system(paste0(\"gsutil cp \", my_bucket, \"/data/pheno/clean/1on10/*_ids_clean_1on10.txt\", \" .\"), intern=T)\n",
    "system(paste0(\"gsutil cp \", my_bucket, \"/data/pheno/clean/*_ids_clean.txt\", \" .\"), intern=T)\n",
    "# check in workspace\n",
    "system(paste0(\"ls ./*_ids_clean.txt\"), intern=T)"
   ]
  },
  {
   "cell_type": "markdown",
   "metadata": {},
   "source": [
    "**Filter microarray genomic data:** <br>\n",
    "**filtering is run on the background (~30 mins each ancestry, see \"02_part1_genotypes_preprocessing_20240520_162841.ipynb\"). Uncomment to create .id & .snplist files again* \n"
   ]
  },
  {
   "cell_type": "code",
   "execution_count": 9,
   "metadata": {
    "execution": {
     "iopub.execute_input": "2024-07-08T13:47:44.966609Z",
     "iopub.status.busy": "2024-07-08T13:47:44.965266Z",
     "iopub.status.idle": "2024-07-08T13:47:44.989132Z",
     "shell.execute_reply": "2024-07-08T13:47:44.987290Z"
    }
   },
   "outputs": [],
   "source": [
    "## file names\n",
    "# input files\n",
    "arrays = \"microarray/plink_v7.1/arrays_noY\"\n",
    "# output files\n",
    "arrays_qc_eur = \"microarray/plink_v7.1/arrays_qc_eur_clean\"\n",
    "arrays_qc_amr = \"microarray/plink_v7.1/arrays_qc_amr_clean\"\n",
    "arrays_qc_afr = \"microarray/plink_v7.1/arrays_qc_afr_clean\"\n",
    "# ancestry ids to keep\n",
    "eur_ids = \"eur_ids_clean.txt\"\n",
    "amr_ids = \"amr_ids_clean.txt\"\n",
    "afr_ids = \"afr_ids_clean.txt\""
   ]
  },
  {
   "cell_type": "markdown",
   "metadata": {},
   "source": [
    "European set:"
   ]
  },
  {
   "cell_type": "code",
   "execution_count": 10,
   "metadata": {
    "execution": {
     "iopub.execute_input": "2024-07-08T13:47:44.995831Z",
     "iopub.status.busy": "2024-07-08T13:47:44.994444Z",
     "iopub.status.idle": "2024-07-08T14:46:07.881534Z",
     "shell.execute_reply": "2024-07-08T14:46:07.879534Z"
    }
   },
   "outputs": [
    {
     "data": {
      "text/html": [
       "<style>\n",
       ".list-inline {list-style: none; margin:0; padding: 0}\n",
       ".list-inline>li {display: inline-block}\n",
       ".list-inline>li:not(:last-child)::after {content: \"\\00b7\"; padding: 0 .5ex}\n",
       "</style>\n",
       "<ol class=list-inline><li><span style=white-space:pre-wrap>'PLINK v2.00a6LM 64-bit Intel (16 May 2024)     www.cog-genomics.org/plink/2.0/'</span></li><li><span style=white-space:pre-wrap>'(C) 2005-2024 Shaun Purcell, Christopher Chang   GNU General Public License v3'</span></li><li>'Logging to microarray/plink_v7.1/arrays_qc_eur_clean.log.'</li><li>'Options in effect:'</li><li><span style=white-space:pre-wrap>'  --bfile microarray/plink_v7.1/arrays_noY'</span></li><li><span style=white-space:pre-wrap>'  --chr 1-22, X'</span></li><li><span style=white-space:pre-wrap>'  --geno 0.03'</span></li><li><span style=white-space:pre-wrap>'  --hwe 1e-6'</span></li><li><span style=white-space:pre-wrap>'  --keep eur_ids_clean.txt'</span></li><li><span style=white-space:pre-wrap>'  --mac 3'</span></li><li><span style=white-space:pre-wrap>'  --maf 0.01'</span></li><li><span style=white-space:pre-wrap>'  --mind 0.05'</span></li><li><span style=white-space:pre-wrap>'  --no-id-header'</span></li><li><span style=white-space:pre-wrap>'  --out microarray/plink_v7.1/arrays_qc_eur_clean'</span></li><li><span style=white-space:pre-wrap>'  --write-samples'</span></li><li><span style=white-space:pre-wrap>'  --write-snplist'</span></li><li>''</li><li><span style=white-space:pre-wrap>'Start time: Mon Jul  8 13:47:45 2024'</span></li><li>'14998 MiB RAM detected, ~13147 available; reserving 7499 MiB for main'</li><li>'workspace.'</li><li>'Using up to 4 compute threads.'</li><li>'311429 samples (0 females, 0 males, 311429 ambiguous; 311429 founders) loaded'</li><li>'from microarray/plink_v7.1/arrays_noY.fam.'</li><li>'1735751 variants loaded from microarray/plink_v7.1/arrays_noY.bim.'</li><li>'Note: No phenotype data present.'</li><li>'--keep: 120469 samples remaining.'</li><li>'Calculating sample missingness rates... 0%\\b\\b1%\\b\\b2%\\b\\b3%\\b\\b4%\\b\\b5%\\b\\b6%\\b\\b7%\\b\\b8%\\b\\b9%\\b\\b10%\\b\\b\\b11%\\b\\b\\b12%\\b\\b\\b13%\\b\\b\\b14%\\b\\b\\b15%\\b\\b\\b16%\\b\\b\\b17%\\b\\b\\b18%\\b\\b\\b19%\\b\\b\\b20%\\b\\b\\b21%\\b\\b\\b22%\\b\\b\\b23%\\b\\b\\b24%\\b\\b\\b25%\\b\\b\\b26%\\b\\b\\b27%\\b\\b\\b28%\\b\\b\\b29%\\b\\b\\b30%\\b\\b\\b31%\\b\\b\\b32%\\b\\b\\b33%\\b\\b\\b34%\\b\\b\\b35%\\b\\b\\b36%\\b\\b\\b37%\\b\\b\\b38%\\b\\b\\b39%\\b\\b\\b40%\\b\\b\\b41%\\b\\b\\b42%\\b\\b\\b43%\\b\\b\\b44%\\b\\b\\b45%\\b\\b\\b46%\\b\\b\\b47%\\b\\b\\b48%\\b\\b\\b49%\\b\\b\\b50%\\b\\b\\b51%\\b\\b\\b52%\\b\\b\\b53%\\b\\b\\b54%\\b\\b\\b55%\\b\\b\\b56%\\b\\b\\b57%\\b\\b\\b58%\\b\\b\\b59%\\b\\b\\b60%\\b\\b\\b61%\\b\\b\\b62%\\b\\b\\b63%\\b\\b\\b64%\\b\\b\\b65%\\b\\b\\b66%\\b\\b\\b67%\\b\\b\\b68%\\b\\b\\b69%\\b\\b\\b70%\\b\\b\\b71%\\b\\b\\b72%\\b\\b\\b73%\\b\\b\\b74%\\b\\b\\b75%\\b\\b\\b76%\\b\\b\\b77%\\b\\b\\b78%\\b\\b\\b79%\\b\\b\\b80%\\b\\b\\b81%\\b\\b\\b82%\\b\\b\\b83%\\b\\b\\b84%\\b\\b\\b85%\\b\\b\\b86%\\b\\b\\b87%\\b\\b\\b88%\\b\\b\\b89%\\b\\b\\b90%\\b\\b\\b91%\\b\\b\\b92%\\b\\b\\b93%\\b\\b\\b94%\\b\\b\\b95%\\b\\b\\b96%\\b\\b\\b97%\\b\\b\\b98%\\b\\b\\b99%\\b\\b\\bdone.'</li><li>'0 samples removed due to missing genotype data (--mind).'</li><li>'120469 samples (0 females, 0 males, 120469 ambiguous; 120469 founders)'</li><li>'remaining after main filters.'</li><li>'--write-samples: Sample IDs written to'</li><li>'microarray/plink_v7.1/arrays_qc_eur_clean.id .'</li><li>'Calculating allele frequencies... 0%\\b\\b1%\\b\\b2%\\b\\b3%\\b\\b4%\\b\\b5%\\b\\b6%\\b\\b7%\\b\\b8%\\b\\b9%\\b\\b10%\\b\\b\\b11%\\b\\b\\b12%\\b\\b\\b13%\\b\\b\\b14%\\b\\b\\b15%\\b\\b\\b16%\\b\\b\\b17%\\b\\b\\b18%\\b\\b\\b19%\\b\\b\\b20%\\b\\b\\b21%\\b\\b\\b22%\\b\\b\\b23%\\b\\b\\b24%\\b\\b\\b25%\\b\\b\\b26%\\b\\b\\b27%\\b\\b\\b28%\\b\\b\\b29%\\b\\b\\b30%\\b\\b\\b31%\\b\\b\\b32%\\b\\b\\b33%\\b\\b\\b34%\\b\\b\\b35%\\b\\b\\b36%\\b\\b\\b37%\\b\\b\\b38%\\b\\b\\b39%\\b\\b\\b40%\\b\\b\\b41%\\b\\b\\b42%\\b\\b\\b43%\\b\\b\\b44%\\b\\b\\b45%\\b\\b\\b46%\\b\\b\\b47%\\b\\b\\b48%\\b\\b\\b49%\\b\\b\\b50%\\b\\b\\b51%\\b\\b\\b52%\\b\\b\\b53%\\b\\b\\b54%\\b\\b\\b55%\\b\\b\\b56%\\b\\b\\b57%\\b\\b\\b58%\\b\\b\\b59%\\b\\b\\b60%\\b\\b\\b61%\\b\\b\\b62%\\b\\b\\b63%\\b\\b\\b64%\\b\\b\\b65%\\b\\b\\b66%\\b\\b\\b67%\\b\\b\\b68%\\b\\b\\b69%\\b\\b\\b70%\\b\\b\\b71%\\b\\b\\b72%\\b\\b\\b73%\\b\\b\\b74%\\b\\b\\b75%\\b\\b\\b76%\\b\\b\\b77%\\b\\b\\b78%\\b\\b\\b79%\\b\\b\\b80%\\b\\b\\b81%\\b\\b\\b82%\\b\\b\\b83%\\b\\b\\b84%\\b\\b\\b85%\\b\\b\\b86%\\b\\b\\b87%\\b\\b\\b88%\\b\\b\\b89%\\b\\b\\b90%\\b\\b\\b91%\\b\\b\\b92%\\b\\b\\b93%\\b\\b\\b94%\\b\\b\\b95%\\b\\b\\b96%\\b\\b\\b97%\\b\\b\\b98%\\b\\b\\b99%\\b\\b\\bdone.'</li><li>'--geno: 1504 variants removed due to missing genotype data.'</li><li>'--hwe: 7998 variants removed due to Hardy-Weinberg exact test (founders only).'</li><li>'935446 variants removed due to allele frequency threshold(s)'</li><li>'(--maf/--max-maf/--mac/--max-mac).'</li><li>'790803 variants remaining after main filters.'</li><li>'--write-snplist: Variant IDs written to'</li><li>'microarray/plink_v7.1/arrays_qc_eur_clean.snplist .'</li><li><span style=white-space:pre-wrap>'End time: Mon Jul  8 14:46:07 2024'</span></li></ol>\n"
      ],
      "text/latex": [
       "\\begin{enumerate*}\n",
       "\\item 'PLINK v2.00a6LM 64-bit Intel (16 May 2024)     www.cog-genomics.org/plink/2.0/'\n",
       "\\item '(C) 2005-2024 Shaun Purcell, Christopher Chang   GNU General Public License v3'\n",
       "\\item 'Logging to microarray/plink\\_v7.1/arrays\\_qc\\_eur\\_clean.log.'\n",
       "\\item 'Options in effect:'\n",
       "\\item '  --bfile microarray/plink\\_v7.1/arrays\\_noY'\n",
       "\\item '  --chr 1-22, X'\n",
       "\\item '  --geno 0.03'\n",
       "\\item '  --hwe 1e-6'\n",
       "\\item '  --keep eur\\_ids\\_clean.txt'\n",
       "\\item '  --mac 3'\n",
       "\\item '  --maf 0.01'\n",
       "\\item '  --mind 0.05'\n",
       "\\item '  --no-id-header'\n",
       "\\item '  --out microarray/plink\\_v7.1/arrays\\_qc\\_eur\\_clean'\n",
       "\\item '  --write-samples'\n",
       "\\item '  --write-snplist'\n",
       "\\item ''\n",
       "\\item 'Start time: Mon Jul  8 13:47:45 2024'\n",
       "\\item '14998 MiB RAM detected, \\textasciitilde{}13147 available; reserving 7499 MiB for main'\n",
       "\\item 'workspace.'\n",
       "\\item 'Using up to 4 compute threads.'\n",
       "\\item '311429 samples (0 females, 0 males, 311429 ambiguous; 311429 founders) loaded'\n",
       "\\item 'from microarray/plink\\_v7.1/arrays\\_noY.fam.'\n",
       "\\item '1735751 variants loaded from microarray/plink\\_v7.1/arrays\\_noY.bim.'\n",
       "\\item 'Note: No phenotype data present.'\n",
       "\\item '--keep: 120469 samples remaining.'\n",
       "\\item 'Calculating sample missingness rates... 0\\%\\textbackslash{}b\\textbackslash{}b1\\%\\textbackslash{}b\\textbackslash{}b2\\%\\textbackslash{}b\\textbackslash{}b3\\%\\textbackslash{}b\\textbackslash{}b4\\%\\textbackslash{}b\\textbackslash{}b5\\%\\textbackslash{}b\\textbackslash{}b6\\%\\textbackslash{}b\\textbackslash{}b7\\%\\textbackslash{}b\\textbackslash{}b8\\%\\textbackslash{}b\\textbackslash{}b9\\%\\textbackslash{}b\\textbackslash{}b10\\%\\textbackslash{}b\\textbackslash{}b\\textbackslash{}b11\\%\\textbackslash{}b\\textbackslash{}b\\textbackslash{}b12\\%\\textbackslash{}b\\textbackslash{}b\\textbackslash{}b13\\%\\textbackslash{}b\\textbackslash{}b\\textbackslash{}b14\\%\\textbackslash{}b\\textbackslash{}b\\textbackslash{}b15\\%\\textbackslash{}b\\textbackslash{}b\\textbackslash{}b16\\%\\textbackslash{}b\\textbackslash{}b\\textbackslash{}b17\\%\\textbackslash{}b\\textbackslash{}b\\textbackslash{}b18\\%\\textbackslash{}b\\textbackslash{}b\\textbackslash{}b19\\%\\textbackslash{}b\\textbackslash{}b\\textbackslash{}b20\\%\\textbackslash{}b\\textbackslash{}b\\textbackslash{}b21\\%\\textbackslash{}b\\textbackslash{}b\\textbackslash{}b22\\%\\textbackslash{}b\\textbackslash{}b\\textbackslash{}b23\\%\\textbackslash{}b\\textbackslash{}b\\textbackslash{}b24\\%\\textbackslash{}b\\textbackslash{}b\\textbackslash{}b25\\%\\textbackslash{}b\\textbackslash{}b\\textbackslash{}b26\\%\\textbackslash{}b\\textbackslash{}b\\textbackslash{}b27\\%\\textbackslash{}b\\textbackslash{}b\\textbackslash{}b28\\%\\textbackslash{}b\\textbackslash{}b\\textbackslash{}b29\\%\\textbackslash{}b\\textbackslash{}b\\textbackslash{}b30\\%\\textbackslash{}b\\textbackslash{}b\\textbackslash{}b31\\%\\textbackslash{}b\\textbackslash{}b\\textbackslash{}b32\\%\\textbackslash{}b\\textbackslash{}b\\textbackslash{}b33\\%\\textbackslash{}b\\textbackslash{}b\\textbackslash{}b34\\%\\textbackslash{}b\\textbackslash{}b\\textbackslash{}b35\\%\\textbackslash{}b\\textbackslash{}b\\textbackslash{}b36\\%\\textbackslash{}b\\textbackslash{}b\\textbackslash{}b37\\%\\textbackslash{}b\\textbackslash{}b\\textbackslash{}b38\\%\\textbackslash{}b\\textbackslash{}b\\textbackslash{}b39\\%\\textbackslash{}b\\textbackslash{}b\\textbackslash{}b40\\%\\textbackslash{}b\\textbackslash{}b\\textbackslash{}b41\\%\\textbackslash{}b\\textbackslash{}b\\textbackslash{}b42\\%\\textbackslash{}b\\textbackslash{}b\\textbackslash{}b43\\%\\textbackslash{}b\\textbackslash{}b\\textbackslash{}b44\\%\\textbackslash{}b\\textbackslash{}b\\textbackslash{}b45\\%\\textbackslash{}b\\textbackslash{}b\\textbackslash{}b46\\%\\textbackslash{}b\\textbackslash{}b\\textbackslash{}b47\\%\\textbackslash{}b\\textbackslash{}b\\textbackslash{}b48\\%\\textbackslash{}b\\textbackslash{}b\\textbackslash{}b49\\%\\textbackslash{}b\\textbackslash{}b\\textbackslash{}b50\\%\\textbackslash{}b\\textbackslash{}b\\textbackslash{}b51\\%\\textbackslash{}b\\textbackslash{}b\\textbackslash{}b52\\%\\textbackslash{}b\\textbackslash{}b\\textbackslash{}b53\\%\\textbackslash{}b\\textbackslash{}b\\textbackslash{}b54\\%\\textbackslash{}b\\textbackslash{}b\\textbackslash{}b55\\%\\textbackslash{}b\\textbackslash{}b\\textbackslash{}b56\\%\\textbackslash{}b\\textbackslash{}b\\textbackslash{}b57\\%\\textbackslash{}b\\textbackslash{}b\\textbackslash{}b58\\%\\textbackslash{}b\\textbackslash{}b\\textbackslash{}b59\\%\\textbackslash{}b\\textbackslash{}b\\textbackslash{}b60\\%\\textbackslash{}b\\textbackslash{}b\\textbackslash{}b61\\%\\textbackslash{}b\\textbackslash{}b\\textbackslash{}b62\\%\\textbackslash{}b\\textbackslash{}b\\textbackslash{}b63\\%\\textbackslash{}b\\textbackslash{}b\\textbackslash{}b64\\%\\textbackslash{}b\\textbackslash{}b\\textbackslash{}b65\\%\\textbackslash{}b\\textbackslash{}b\\textbackslash{}b66\\%\\textbackslash{}b\\textbackslash{}b\\textbackslash{}b67\\%\\textbackslash{}b\\textbackslash{}b\\textbackslash{}b68\\%\\textbackslash{}b\\textbackslash{}b\\textbackslash{}b69\\%\\textbackslash{}b\\textbackslash{}b\\textbackslash{}b70\\%\\textbackslash{}b\\textbackslash{}b\\textbackslash{}b71\\%\\textbackslash{}b\\textbackslash{}b\\textbackslash{}b72\\%\\textbackslash{}b\\textbackslash{}b\\textbackslash{}b73\\%\\textbackslash{}b\\textbackslash{}b\\textbackslash{}b74\\%\\textbackslash{}b\\textbackslash{}b\\textbackslash{}b75\\%\\textbackslash{}b\\textbackslash{}b\\textbackslash{}b76\\%\\textbackslash{}b\\textbackslash{}b\\textbackslash{}b77\\%\\textbackslash{}b\\textbackslash{}b\\textbackslash{}b78\\%\\textbackslash{}b\\textbackslash{}b\\textbackslash{}b79\\%\\textbackslash{}b\\textbackslash{}b\\textbackslash{}b80\\%\\textbackslash{}b\\textbackslash{}b\\textbackslash{}b81\\%\\textbackslash{}b\\textbackslash{}b\\textbackslash{}b82\\%\\textbackslash{}b\\textbackslash{}b\\textbackslash{}b83\\%\\textbackslash{}b\\textbackslash{}b\\textbackslash{}b84\\%\\textbackslash{}b\\textbackslash{}b\\textbackslash{}b85\\%\\textbackslash{}b\\textbackslash{}b\\textbackslash{}b86\\%\\textbackslash{}b\\textbackslash{}b\\textbackslash{}b87\\%\\textbackslash{}b\\textbackslash{}b\\textbackslash{}b88\\%\\textbackslash{}b\\textbackslash{}b\\textbackslash{}b89\\%\\textbackslash{}b\\textbackslash{}b\\textbackslash{}b90\\%\\textbackslash{}b\\textbackslash{}b\\textbackslash{}b91\\%\\textbackslash{}b\\textbackslash{}b\\textbackslash{}b92\\%\\textbackslash{}b\\textbackslash{}b\\textbackslash{}b93\\%\\textbackslash{}b\\textbackslash{}b\\textbackslash{}b94\\%\\textbackslash{}b\\textbackslash{}b\\textbackslash{}b95\\%\\textbackslash{}b\\textbackslash{}b\\textbackslash{}b96\\%\\textbackslash{}b\\textbackslash{}b\\textbackslash{}b97\\%\\textbackslash{}b\\textbackslash{}b\\textbackslash{}b98\\%\\textbackslash{}b\\textbackslash{}b\\textbackslash{}b99\\%\\textbackslash{}b\\textbackslash{}b\\textbackslash{}bdone.'\n",
       "\\item '0 samples removed due to missing genotype data (--mind).'\n",
       "\\item '120469 samples (0 females, 0 males, 120469 ambiguous; 120469 founders)'\n",
       "\\item 'remaining after main filters.'\n",
       "\\item '--write-samples: Sample IDs written to'\n",
       "\\item 'microarray/plink\\_v7.1/arrays\\_qc\\_eur\\_clean.id .'\n",
       "\\item 'Calculating allele frequencies... 0\\%\\textbackslash{}b\\textbackslash{}b1\\%\\textbackslash{}b\\textbackslash{}b2\\%\\textbackslash{}b\\textbackslash{}b3\\%\\textbackslash{}b\\textbackslash{}b4\\%\\textbackslash{}b\\textbackslash{}b5\\%\\textbackslash{}b\\textbackslash{}b6\\%\\textbackslash{}b\\textbackslash{}b7\\%\\textbackslash{}b\\textbackslash{}b8\\%\\textbackslash{}b\\textbackslash{}b9\\%\\textbackslash{}b\\textbackslash{}b10\\%\\textbackslash{}b\\textbackslash{}b\\textbackslash{}b11\\%\\textbackslash{}b\\textbackslash{}b\\textbackslash{}b12\\%\\textbackslash{}b\\textbackslash{}b\\textbackslash{}b13\\%\\textbackslash{}b\\textbackslash{}b\\textbackslash{}b14\\%\\textbackslash{}b\\textbackslash{}b\\textbackslash{}b15\\%\\textbackslash{}b\\textbackslash{}b\\textbackslash{}b16\\%\\textbackslash{}b\\textbackslash{}b\\textbackslash{}b17\\%\\textbackslash{}b\\textbackslash{}b\\textbackslash{}b18\\%\\textbackslash{}b\\textbackslash{}b\\textbackslash{}b19\\%\\textbackslash{}b\\textbackslash{}b\\textbackslash{}b20\\%\\textbackslash{}b\\textbackslash{}b\\textbackslash{}b21\\%\\textbackslash{}b\\textbackslash{}b\\textbackslash{}b22\\%\\textbackslash{}b\\textbackslash{}b\\textbackslash{}b23\\%\\textbackslash{}b\\textbackslash{}b\\textbackslash{}b24\\%\\textbackslash{}b\\textbackslash{}b\\textbackslash{}b25\\%\\textbackslash{}b\\textbackslash{}b\\textbackslash{}b26\\%\\textbackslash{}b\\textbackslash{}b\\textbackslash{}b27\\%\\textbackslash{}b\\textbackslash{}b\\textbackslash{}b28\\%\\textbackslash{}b\\textbackslash{}b\\textbackslash{}b29\\%\\textbackslash{}b\\textbackslash{}b\\textbackslash{}b30\\%\\textbackslash{}b\\textbackslash{}b\\textbackslash{}b31\\%\\textbackslash{}b\\textbackslash{}b\\textbackslash{}b32\\%\\textbackslash{}b\\textbackslash{}b\\textbackslash{}b33\\%\\textbackslash{}b\\textbackslash{}b\\textbackslash{}b34\\%\\textbackslash{}b\\textbackslash{}b\\textbackslash{}b35\\%\\textbackslash{}b\\textbackslash{}b\\textbackslash{}b36\\%\\textbackslash{}b\\textbackslash{}b\\textbackslash{}b37\\%\\textbackslash{}b\\textbackslash{}b\\textbackslash{}b38\\%\\textbackslash{}b\\textbackslash{}b\\textbackslash{}b39\\%\\textbackslash{}b\\textbackslash{}b\\textbackslash{}b40\\%\\textbackslash{}b\\textbackslash{}b\\textbackslash{}b41\\%\\textbackslash{}b\\textbackslash{}b\\textbackslash{}b42\\%\\textbackslash{}b\\textbackslash{}b\\textbackslash{}b43\\%\\textbackslash{}b\\textbackslash{}b\\textbackslash{}b44\\%\\textbackslash{}b\\textbackslash{}b\\textbackslash{}b45\\%\\textbackslash{}b\\textbackslash{}b\\textbackslash{}b46\\%\\textbackslash{}b\\textbackslash{}b\\textbackslash{}b47\\%\\textbackslash{}b\\textbackslash{}b\\textbackslash{}b48\\%\\textbackslash{}b\\textbackslash{}b\\textbackslash{}b49\\%\\textbackslash{}b\\textbackslash{}b\\textbackslash{}b50\\%\\textbackslash{}b\\textbackslash{}b\\textbackslash{}b51\\%\\textbackslash{}b\\textbackslash{}b\\textbackslash{}b52\\%\\textbackslash{}b\\textbackslash{}b\\textbackslash{}b53\\%\\textbackslash{}b\\textbackslash{}b\\textbackslash{}b54\\%\\textbackslash{}b\\textbackslash{}b\\textbackslash{}b55\\%\\textbackslash{}b\\textbackslash{}b\\textbackslash{}b56\\%\\textbackslash{}b\\textbackslash{}b\\textbackslash{}b57\\%\\textbackslash{}b\\textbackslash{}b\\textbackslash{}b58\\%\\textbackslash{}b\\textbackslash{}b\\textbackslash{}b59\\%\\textbackslash{}b\\textbackslash{}b\\textbackslash{}b60\\%\\textbackslash{}b\\textbackslash{}b\\textbackslash{}b61\\%\\textbackslash{}b\\textbackslash{}b\\textbackslash{}b62\\%\\textbackslash{}b\\textbackslash{}b\\textbackslash{}b63\\%\\textbackslash{}b\\textbackslash{}b\\textbackslash{}b64\\%\\textbackslash{}b\\textbackslash{}b\\textbackslash{}b65\\%\\textbackslash{}b\\textbackslash{}b\\textbackslash{}b66\\%\\textbackslash{}b\\textbackslash{}b\\textbackslash{}b67\\%\\textbackslash{}b\\textbackslash{}b\\textbackslash{}b68\\%\\textbackslash{}b\\textbackslash{}b\\textbackslash{}b69\\%\\textbackslash{}b\\textbackslash{}b\\textbackslash{}b70\\%\\textbackslash{}b\\textbackslash{}b\\textbackslash{}b71\\%\\textbackslash{}b\\textbackslash{}b\\textbackslash{}b72\\%\\textbackslash{}b\\textbackslash{}b\\textbackslash{}b73\\%\\textbackslash{}b\\textbackslash{}b\\textbackslash{}b74\\%\\textbackslash{}b\\textbackslash{}b\\textbackslash{}b75\\%\\textbackslash{}b\\textbackslash{}b\\textbackslash{}b76\\%\\textbackslash{}b\\textbackslash{}b\\textbackslash{}b77\\%\\textbackslash{}b\\textbackslash{}b\\textbackslash{}b78\\%\\textbackslash{}b\\textbackslash{}b\\textbackslash{}b79\\%\\textbackslash{}b\\textbackslash{}b\\textbackslash{}b80\\%\\textbackslash{}b\\textbackslash{}b\\textbackslash{}b81\\%\\textbackslash{}b\\textbackslash{}b\\textbackslash{}b82\\%\\textbackslash{}b\\textbackslash{}b\\textbackslash{}b83\\%\\textbackslash{}b\\textbackslash{}b\\textbackslash{}b84\\%\\textbackslash{}b\\textbackslash{}b\\textbackslash{}b85\\%\\textbackslash{}b\\textbackslash{}b\\textbackslash{}b86\\%\\textbackslash{}b\\textbackslash{}b\\textbackslash{}b87\\%\\textbackslash{}b\\textbackslash{}b\\textbackslash{}b88\\%\\textbackslash{}b\\textbackslash{}b\\textbackslash{}b89\\%\\textbackslash{}b\\textbackslash{}b\\textbackslash{}b90\\%\\textbackslash{}b\\textbackslash{}b\\textbackslash{}b91\\%\\textbackslash{}b\\textbackslash{}b\\textbackslash{}b92\\%\\textbackslash{}b\\textbackslash{}b\\textbackslash{}b93\\%\\textbackslash{}b\\textbackslash{}b\\textbackslash{}b94\\%\\textbackslash{}b\\textbackslash{}b\\textbackslash{}b95\\%\\textbackslash{}b\\textbackslash{}b\\textbackslash{}b96\\%\\textbackslash{}b\\textbackslash{}b\\textbackslash{}b97\\%\\textbackslash{}b\\textbackslash{}b\\textbackslash{}b98\\%\\textbackslash{}b\\textbackslash{}b\\textbackslash{}b99\\%\\textbackslash{}b\\textbackslash{}b\\textbackslash{}bdone.'\n",
       "\\item '--geno: 1504 variants removed due to missing genotype data.'\n",
       "\\item '--hwe: 7998 variants removed due to Hardy-Weinberg exact test (founders only).'\n",
       "\\item '935446 variants removed due to allele frequency threshold(s)'\n",
       "\\item '(--maf/--max-maf/--mac/--max-mac).'\n",
       "\\item '790803 variants remaining after main filters.'\n",
       "\\item '--write-snplist: Variant IDs written to'\n",
       "\\item 'microarray/plink\\_v7.1/arrays\\_qc\\_eur\\_clean.snplist .'\n",
       "\\item 'End time: Mon Jul  8 14:46:07 2024'\n",
       "\\end{enumerate*}\n"
      ],
      "text/markdown": [
       "1. <span style=white-space:pre-wrap>'PLINK v2.00a6LM 64-bit Intel (16 May 2024)     www.cog-genomics.org/plink/2.0/'</span>\n",
       "2. <span style=white-space:pre-wrap>'(C) 2005-2024 Shaun Purcell, Christopher Chang   GNU General Public License v3'</span>\n",
       "3. 'Logging to microarray/plink_v7.1/arrays_qc_eur_clean.log.'\n",
       "4. 'Options in effect:'\n",
       "5. <span style=white-space:pre-wrap>'  --bfile microarray/plink_v7.1/arrays_noY'</span>\n",
       "6. <span style=white-space:pre-wrap>'  --chr 1-22, X'</span>\n",
       "7. <span style=white-space:pre-wrap>'  --geno 0.03'</span>\n",
       "8. <span style=white-space:pre-wrap>'  --hwe 1e-6'</span>\n",
       "9. <span style=white-space:pre-wrap>'  --keep eur_ids_clean.txt'</span>\n",
       "10. <span style=white-space:pre-wrap>'  --mac 3'</span>\n",
       "11. <span style=white-space:pre-wrap>'  --maf 0.01'</span>\n",
       "12. <span style=white-space:pre-wrap>'  --mind 0.05'</span>\n",
       "13. <span style=white-space:pre-wrap>'  --no-id-header'</span>\n",
       "14. <span style=white-space:pre-wrap>'  --out microarray/plink_v7.1/arrays_qc_eur_clean'</span>\n",
       "15. <span style=white-space:pre-wrap>'  --write-samples'</span>\n",
       "16. <span style=white-space:pre-wrap>'  --write-snplist'</span>\n",
       "17. ''\n",
       "18. <span style=white-space:pre-wrap>'Start time: Mon Jul  8 13:47:45 2024'</span>\n",
       "19. '14998 MiB RAM detected, ~13147 available; reserving 7499 MiB for main'\n",
       "20. 'workspace.'\n",
       "21. 'Using up to 4 compute threads.'\n",
       "22. '311429 samples (0 females, 0 males, 311429 ambiguous; 311429 founders) loaded'\n",
       "23. 'from microarray/plink_v7.1/arrays_noY.fam.'\n",
       "24. '1735751 variants loaded from microarray/plink_v7.1/arrays_noY.bim.'\n",
       "25. 'Note: No phenotype data present.'\n",
       "26. '--keep: 120469 samples remaining.'\n",
       "27. 'Calculating sample missingness rates... 0%\\b\\b1%\\b\\b2%\\b\\b3%\\b\\b4%\\b\\b5%\\b\\b6%\\b\\b7%\\b\\b8%\\b\\b9%\\b\\b10%\\b\\b\\b11%\\b\\b\\b12%\\b\\b\\b13%\\b\\b\\b14%\\b\\b\\b15%\\b\\b\\b16%\\b\\b\\b17%\\b\\b\\b18%\\b\\b\\b19%\\b\\b\\b20%\\b\\b\\b21%\\b\\b\\b22%\\b\\b\\b23%\\b\\b\\b24%\\b\\b\\b25%\\b\\b\\b26%\\b\\b\\b27%\\b\\b\\b28%\\b\\b\\b29%\\b\\b\\b30%\\b\\b\\b31%\\b\\b\\b32%\\b\\b\\b33%\\b\\b\\b34%\\b\\b\\b35%\\b\\b\\b36%\\b\\b\\b37%\\b\\b\\b38%\\b\\b\\b39%\\b\\b\\b40%\\b\\b\\b41%\\b\\b\\b42%\\b\\b\\b43%\\b\\b\\b44%\\b\\b\\b45%\\b\\b\\b46%\\b\\b\\b47%\\b\\b\\b48%\\b\\b\\b49%\\b\\b\\b50%\\b\\b\\b51%\\b\\b\\b52%\\b\\b\\b53%\\b\\b\\b54%\\b\\b\\b55%\\b\\b\\b56%\\b\\b\\b57%\\b\\b\\b58%\\b\\b\\b59%\\b\\b\\b60%\\b\\b\\b61%\\b\\b\\b62%\\b\\b\\b63%\\b\\b\\b64%\\b\\b\\b65%\\b\\b\\b66%\\b\\b\\b67%\\b\\b\\b68%\\b\\b\\b69%\\b\\b\\b70%\\b\\b\\b71%\\b\\b\\b72%\\b\\b\\b73%\\b\\b\\b74%\\b\\b\\b75%\\b\\b\\b76%\\b\\b\\b77%\\b\\b\\b78%\\b\\b\\b79%\\b\\b\\b80%\\b\\b\\b81%\\b\\b\\b82%\\b\\b\\b83%\\b\\b\\b84%\\b\\b\\b85%\\b\\b\\b86%\\b\\b\\b87%\\b\\b\\b88%\\b\\b\\b89%\\b\\b\\b90%\\b\\b\\b91%\\b\\b\\b92%\\b\\b\\b93%\\b\\b\\b94%\\b\\b\\b95%\\b\\b\\b96%\\b\\b\\b97%\\b\\b\\b98%\\b\\b\\b99%\\b\\b\\bdone.'\n",
       "28. '0 samples removed due to missing genotype data (--mind).'\n",
       "29. '120469 samples (0 females, 0 males, 120469 ambiguous; 120469 founders)'\n",
       "30. 'remaining after main filters.'\n",
       "31. '--write-samples: Sample IDs written to'\n",
       "32. 'microarray/plink_v7.1/arrays_qc_eur_clean.id .'\n",
       "33. 'Calculating allele frequencies... 0%\\b\\b1%\\b\\b2%\\b\\b3%\\b\\b4%\\b\\b5%\\b\\b6%\\b\\b7%\\b\\b8%\\b\\b9%\\b\\b10%\\b\\b\\b11%\\b\\b\\b12%\\b\\b\\b13%\\b\\b\\b14%\\b\\b\\b15%\\b\\b\\b16%\\b\\b\\b17%\\b\\b\\b18%\\b\\b\\b19%\\b\\b\\b20%\\b\\b\\b21%\\b\\b\\b22%\\b\\b\\b23%\\b\\b\\b24%\\b\\b\\b25%\\b\\b\\b26%\\b\\b\\b27%\\b\\b\\b28%\\b\\b\\b29%\\b\\b\\b30%\\b\\b\\b31%\\b\\b\\b32%\\b\\b\\b33%\\b\\b\\b34%\\b\\b\\b35%\\b\\b\\b36%\\b\\b\\b37%\\b\\b\\b38%\\b\\b\\b39%\\b\\b\\b40%\\b\\b\\b41%\\b\\b\\b42%\\b\\b\\b43%\\b\\b\\b44%\\b\\b\\b45%\\b\\b\\b46%\\b\\b\\b47%\\b\\b\\b48%\\b\\b\\b49%\\b\\b\\b50%\\b\\b\\b51%\\b\\b\\b52%\\b\\b\\b53%\\b\\b\\b54%\\b\\b\\b55%\\b\\b\\b56%\\b\\b\\b57%\\b\\b\\b58%\\b\\b\\b59%\\b\\b\\b60%\\b\\b\\b61%\\b\\b\\b62%\\b\\b\\b63%\\b\\b\\b64%\\b\\b\\b65%\\b\\b\\b66%\\b\\b\\b67%\\b\\b\\b68%\\b\\b\\b69%\\b\\b\\b70%\\b\\b\\b71%\\b\\b\\b72%\\b\\b\\b73%\\b\\b\\b74%\\b\\b\\b75%\\b\\b\\b76%\\b\\b\\b77%\\b\\b\\b78%\\b\\b\\b79%\\b\\b\\b80%\\b\\b\\b81%\\b\\b\\b82%\\b\\b\\b83%\\b\\b\\b84%\\b\\b\\b85%\\b\\b\\b86%\\b\\b\\b87%\\b\\b\\b88%\\b\\b\\b89%\\b\\b\\b90%\\b\\b\\b91%\\b\\b\\b92%\\b\\b\\b93%\\b\\b\\b94%\\b\\b\\b95%\\b\\b\\b96%\\b\\b\\b97%\\b\\b\\b98%\\b\\b\\b99%\\b\\b\\bdone.'\n",
       "34. '--geno: 1504 variants removed due to missing genotype data.'\n",
       "35. '--hwe: 7998 variants removed due to Hardy-Weinberg exact test (founders only).'\n",
       "36. '935446 variants removed due to allele frequency threshold(s)'\n",
       "37. '(--maf/--max-maf/--mac/--max-mac).'\n",
       "38. '790803 variants remaining after main filters.'\n",
       "39. '--write-snplist: Variant IDs written to'\n",
       "40. 'microarray/plink_v7.1/arrays_qc_eur_clean.snplist .'\n",
       "41. <span style=white-space:pre-wrap>'End time: Mon Jul  8 14:46:07 2024'</span>\n",
       "\n",
       "\n"
      ],
      "text/plain": [
       " [1] \"PLINK v2.00a6LM 64-bit Intel (16 May 2024)     www.cog-genomics.org/plink/2.0/\"                                                                                                                                                                                                                                                                                                                                                                                                                                                                                                                                                                                                                                                                                                                                                                                                                                                                     \n",
       " [2] \"(C) 2005-2024 Shaun Purcell, Christopher Chang   GNU General Public License v3\"                                                                                                                                                                                                                                                                                                                                                                                                                                                                                                                                                                                                                                                                                                                                                                                                                                                                     \n",
       " [3] \"Logging to microarray/plink_v7.1/arrays_qc_eur_clean.log.\"                                                                                                                                                                                                                                                                                                                                                                                                                                                                                                                                                                                                                                                                                                                                                                                                                                                                                          \n",
       " [4] \"Options in effect:\"                                                                                                                                                                                                                                                                                                                                                                                                                                                                                                                                                                                                                                                                                                                                                                                                                                                                                                                                 \n",
       " [5] \"  --bfile microarray/plink_v7.1/arrays_noY\"                                                                                                                                                                                                                                                                                                                                                                                                                                                                                                                                                                                                                                                                                                                                                                                                                                                                                                         \n",
       " [6] \"  --chr 1-22, X\"                                                                                                                                                                                                                                                                                                                                                                                                                                                                                                                                                                                                                                                                                                                                                                                                                                                                                                                                    \n",
       " [7] \"  --geno 0.03\"                                                                                                                                                                                                                                                                                                                                                                                                                                                                                                                                                                                                                                                                                                                                                                                                                                                                                                                                      \n",
       " [8] \"  --hwe 1e-6\"                                                                                                                                                                                                                                                                                                                                                                                                                                                                                                                                                                                                                                                                                                                                                                                                                                                                                                                                       \n",
       " [9] \"  --keep eur_ids_clean.txt\"                                                                                                                                                                                                                                                                                                                                                                                                                                                                                                                                                                                                                                                                                                                                                                                                                                                                                                                         \n",
       "[10] \"  --mac 3\"                                                                                                                                                                                                                                                                                                                                                                                                                                                                                                                                                                                                                                                                                                                                                                                                                                                                                                                                          \n",
       "[11] \"  --maf 0.01\"                                                                                                                                                                                                                                                                                                                                                                                                                                                                                                                                                                                                                                                                                                                                                                                                                                                                                                                                       \n",
       "[12] \"  --mind 0.05\"                                                                                                                                                                                                                                                                                                                                                                                                                                                                                                                                                                                                                                                                                                                                                                                                                                                                                                                                      \n",
       "[13] \"  --no-id-header\"                                                                                                                                                                                                                                                                                                                                                                                                                                                                                                                                                                                                                                                                                                                                                                                                                                                                                                                                   \n",
       "[14] \"  --out microarray/plink_v7.1/arrays_qc_eur_clean\"                                                                                                                                                                                                                                                                                                                                                                                                                                                                                                                                                                                                                                                                                                                                                                                                                                                                                                  \n",
       "[15] \"  --write-samples\"                                                                                                                                                                                                                                                                                                                                                                                                                                                                                                                                                                                                                                                                                                                                                                                                                                                                                                                                  \n",
       "[16] \"  --write-snplist\"                                                                                                                                                                                                                                                                                                                                                                                                                                                                                                                                                                                                                                                                                                                                                                                                                                                                                                                                  \n",
       "[17] \"\"                                                                                                                                                                                                                                                                                                                                                                                                                                                                                                                                                                                                                                                                                                                                                                                                                                                                                                                                                   \n",
       "[18] \"Start time: Mon Jul  8 13:47:45 2024\"                                                                                                                                                                                                                                                                                                                                                                                                                                                                                                                                                                                                                                                                                                                                                                                                                                                                                                               \n",
       "[19] \"14998 MiB RAM detected, ~13147 available; reserving 7499 MiB for main\"                                                                                                                                                                                                                                                                                                                                                                                                                                                                                                                                                                                                                                                                                                                                                                                                                                                                              \n",
       "[20] \"workspace.\"                                                                                                                                                                                                                                                                                                                                                                                                                                                                                                                                                                                                                                                                                                                                                                                                                                                                                                                                         \n",
       "[21] \"Using up to 4 compute threads.\"                                                                                                                                                                                                                                                                                                                                                                                                                                                                                                                                                                                                                                                                                                                                                                                                                                                                                                                     \n",
       "[22] \"311429 samples (0 females, 0 males, 311429 ambiguous; 311429 founders) loaded\"                                                                                                                                                                                                                                                                                                                                                                                                                                                                                                                                                                                                                                                                                                                                                                                                                                                                      \n",
       "[23] \"from microarray/plink_v7.1/arrays_noY.fam.\"                                                                                                                                                                                                                                                                                                                                                                                                                                                                                                                                                                                                                                                                                                                                                                                                                                                                                                         \n",
       "[24] \"1735751 variants loaded from microarray/plink_v7.1/arrays_noY.bim.\"                                                                                                                                                                                                                                                                                                                                                                                                                                                                                                                                                                                                                                                                                                                                                                                                                                                                                 \n",
       "[25] \"Note: No phenotype data present.\"                                                                                                                                                                                                                                                                                                                                                                                                                                                                                                                                                                                                                                                                                                                                                                                                                                                                                                                   \n",
       "[26] \"--keep: 120469 samples remaining.\"                                                                                                                                                                                                                                                                                                                                                                                                                                                                                                                                                                                                                                                                                                                                                                                                                                                                                                                  \n",
       "[27] \"Calculating sample missingness rates... 0%\\b\\b1%\\b\\b2%\\b\\b3%\\b\\b4%\\b\\b5%\\b\\b6%\\b\\b7%\\b\\b8%\\b\\b9%\\b\\b10%\\b\\b\\b11%\\b\\b\\b12%\\b\\b\\b13%\\b\\b\\b14%\\b\\b\\b15%\\b\\b\\b16%\\b\\b\\b17%\\b\\b\\b18%\\b\\b\\b19%\\b\\b\\b20%\\b\\b\\b21%\\b\\b\\b22%\\b\\b\\b23%\\b\\b\\b24%\\b\\b\\b25%\\b\\b\\b26%\\b\\b\\b27%\\b\\b\\b28%\\b\\b\\b29%\\b\\b\\b30%\\b\\b\\b31%\\b\\b\\b32%\\b\\b\\b33%\\b\\b\\b34%\\b\\b\\b35%\\b\\b\\b36%\\b\\b\\b37%\\b\\b\\b38%\\b\\b\\b39%\\b\\b\\b40%\\b\\b\\b41%\\b\\b\\b42%\\b\\b\\b43%\\b\\b\\b44%\\b\\b\\b45%\\b\\b\\b46%\\b\\b\\b47%\\b\\b\\b48%\\b\\b\\b49%\\b\\b\\b50%\\b\\b\\b51%\\b\\b\\b52%\\b\\b\\b53%\\b\\b\\b54%\\b\\b\\b55%\\b\\b\\b56%\\b\\b\\b57%\\b\\b\\b58%\\b\\b\\b59%\\b\\b\\b60%\\b\\b\\b61%\\b\\b\\b62%\\b\\b\\b63%\\b\\b\\b64%\\b\\b\\b65%\\b\\b\\b66%\\b\\b\\b67%\\b\\b\\b68%\\b\\b\\b69%\\b\\b\\b70%\\b\\b\\b71%\\b\\b\\b72%\\b\\b\\b73%\\b\\b\\b74%\\b\\b\\b75%\\b\\b\\b76%\\b\\b\\b77%\\b\\b\\b78%\\b\\b\\b79%\\b\\b\\b80%\\b\\b\\b81%\\b\\b\\b82%\\b\\b\\b83%\\b\\b\\b84%\\b\\b\\b85%\\b\\b\\b86%\\b\\b\\b87%\\b\\b\\b88%\\b\\b\\b89%\\b\\b\\b90%\\b\\b\\b91%\\b\\b\\b92%\\b\\b\\b93%\\b\\b\\b94%\\b\\b\\b95%\\b\\b\\b96%\\b\\b\\b97%\\b\\b\\b98%\\b\\b\\b99%\\b\\b\\bdone.\"\n",
       "[28] \"0 samples removed due to missing genotype data (--mind).\"                                                                                                                                                                                                                                                                                                                                                                                                                                                                                                                                                                                                                                                                                                                                                                                                                                                                                           \n",
       "[29] \"120469 samples (0 females, 0 males, 120469 ambiguous; 120469 founders)\"                                                                                                                                                                                                                                                                                                                                                                                                                                                                                                                                                                                                                                                                                                                                                                                                                                                                             \n",
       "[30] \"remaining after main filters.\"                                                                                                                                                                                                                                                                                                                                                                                                                                                                                                                                                                                                                                                                                                                                                                                                                                                                                                                      \n",
       "[31] \"--write-samples: Sample IDs written to\"                                                                                                                                                                                                                                                                                                                                                                                                                                                                                                                                                                                                                                                                                                                                                                                                                                                                                                             \n",
       "[32] \"microarray/plink_v7.1/arrays_qc_eur_clean.id .\"                                                                                                                                                                                                                                                                                                                                                                                                                                                                                                                                                                                                                                                                                                                                                                                                                                                                                                     \n",
       "[33] \"Calculating allele frequencies... 0%\\b\\b1%\\b\\b2%\\b\\b3%\\b\\b4%\\b\\b5%\\b\\b6%\\b\\b7%\\b\\b8%\\b\\b9%\\b\\b10%\\b\\b\\b11%\\b\\b\\b12%\\b\\b\\b13%\\b\\b\\b14%\\b\\b\\b15%\\b\\b\\b16%\\b\\b\\b17%\\b\\b\\b18%\\b\\b\\b19%\\b\\b\\b20%\\b\\b\\b21%\\b\\b\\b22%\\b\\b\\b23%\\b\\b\\b24%\\b\\b\\b25%\\b\\b\\b26%\\b\\b\\b27%\\b\\b\\b28%\\b\\b\\b29%\\b\\b\\b30%\\b\\b\\b31%\\b\\b\\b32%\\b\\b\\b33%\\b\\b\\b34%\\b\\b\\b35%\\b\\b\\b36%\\b\\b\\b37%\\b\\b\\b38%\\b\\b\\b39%\\b\\b\\b40%\\b\\b\\b41%\\b\\b\\b42%\\b\\b\\b43%\\b\\b\\b44%\\b\\b\\b45%\\b\\b\\b46%\\b\\b\\b47%\\b\\b\\b48%\\b\\b\\b49%\\b\\b\\b50%\\b\\b\\b51%\\b\\b\\b52%\\b\\b\\b53%\\b\\b\\b54%\\b\\b\\b55%\\b\\b\\b56%\\b\\b\\b57%\\b\\b\\b58%\\b\\b\\b59%\\b\\b\\b60%\\b\\b\\b61%\\b\\b\\b62%\\b\\b\\b63%\\b\\b\\b64%\\b\\b\\b65%\\b\\b\\b66%\\b\\b\\b67%\\b\\b\\b68%\\b\\b\\b69%\\b\\b\\b70%\\b\\b\\b71%\\b\\b\\b72%\\b\\b\\b73%\\b\\b\\b74%\\b\\b\\b75%\\b\\b\\b76%\\b\\b\\b77%\\b\\b\\b78%\\b\\b\\b79%\\b\\b\\b80%\\b\\b\\b81%\\b\\b\\b82%\\b\\b\\b83%\\b\\b\\b84%\\b\\b\\b85%\\b\\b\\b86%\\b\\b\\b87%\\b\\b\\b88%\\b\\b\\b89%\\b\\b\\b90%\\b\\b\\b91%\\b\\b\\b92%\\b\\b\\b93%\\b\\b\\b94%\\b\\b\\b95%\\b\\b\\b96%\\b\\b\\b97%\\b\\b\\b98%\\b\\b\\b99%\\b\\b\\bdone.\"      \n",
       "[34] \"--geno: 1504 variants removed due to missing genotype data.\"                                                                                                                                                                                                                                                                                                                                                                                                                                                                                                                                                                                                                                                                                                                                                                                                                                                                                        \n",
       "[35] \"--hwe: 7998 variants removed due to Hardy-Weinberg exact test (founders only).\"                                                                                                                                                                                                                                                                                                                                                                                                                                                                                                                                                                                                                                                                                                                                                                                                                                                                     \n",
       "[36] \"935446 variants removed due to allele frequency threshold(s)\"                                                                                                                                                                                                                                                                                                                                                                                                                                                                                                                                                                                                                                                                                                                                                                                                                                                                                       \n",
       "[37] \"(--maf/--max-maf/--mac/--max-mac).\"                                                                                                                                                                                                                                                                                                                                                                                                                                                                                                                                                                                                                                                                                                                                                                                                                                                                                                                 \n",
       "[38] \"790803 variants remaining after main filters.\"                                                                                                                                                                                                                                                                                                                                                                                                                                                                                                                                                                                                                                                                                                                                                                                                                                                                                                      \n",
       "[39] \"--write-snplist: Variant IDs written to\"                                                                                                                                                                                                                                                                                                                                                                                                                                                                                                                                                                                                                                                                                                                                                                                                                                                                                                            \n",
       "[40] \"microarray/plink_v7.1/arrays_qc_eur_clean.snplist .\"                                                                                                                                                                                                                                                                                                                                                                                                                                                                                                                                                                                                                                                                                                                                                                                                                                                                                                \n",
       "[41] \"End time: Mon Jul  8 14:46:07 2024\"                                                                                                                                                                                                                                                                                                                                                                                                                                                                                                                                                                                                                                                                                                                                                                                                                                                                                                                 "
      ]
     },
     "metadata": {},
     "output_type": "display_data"
    }
   ],
   "source": [
    "system(paste0(\"plink2 --bfile \", arrays,\n",
    "             \" --keep \", eur_ids,\n",
    "             \" --chr 1-22, X\",\n",
    "             \" --maf 0.01 --mac 3 --geno 0.03 --hwe 1e-6 --mind 0.05\",\n",
    "             \" --write-snplist --write-samples --no-id-header\",\n",
    "             \" --out \", arrays_qc_eur), \n",
    "      intern=T)"
   ]
  },
  {
   "cell_type": "markdown",
   "metadata": {},
   "source": [
    "American set:"
   ]
  },
  {
   "cell_type": "code",
   "execution_count": 11,
   "metadata": {
    "execution": {
     "iopub.execute_input": "2024-07-08T14:46:08.168259Z",
     "iopub.status.busy": "2024-07-08T14:46:08.166775Z",
     "iopub.status.idle": "2024-07-08T14:46:08.245317Z",
     "shell.execute_reply": "2024-07-08T14:46:08.243501Z"
    }
   },
   "outputs": [],
   "source": [
    "# system(paste0(\"plink2 --bfile \", arrays,\n",
    "#              \" --keep \", amr_ids,\n",
    "#              \" --chr 1-22, X\",\n",
    "#              \" --maf 0.01 --mac 3 --geno 0.03 --hwe 1e-6 --mind 0.05\",\n",
    "#              \" --write-snplist --write-samples --no-id-header\",\n",
    "#              \" --out \", arrays_qc_amr), \n",
    "#       intern=T)"
   ]
  },
  {
   "cell_type": "markdown",
   "metadata": {},
   "source": [
    "African set:"
   ]
  },
  {
   "cell_type": "code",
   "execution_count": 12,
   "metadata": {
    "execution": {
     "iopub.execute_input": "2024-07-08T14:46:08.254914Z",
     "iopub.status.busy": "2024-07-08T14:46:08.253575Z",
     "iopub.status.idle": "2024-07-08T15:45:06.127791Z",
     "shell.execute_reply": "2024-07-08T15:45:06.124545Z"
    }
   },
   "outputs": [
    {
     "data": {
      "text/html": [
       "<style>\n",
       ".list-inline {list-style: none; margin:0; padding: 0}\n",
       ".list-inline>li {display: inline-block}\n",
       ".list-inline>li:not(:last-child)::after {content: \"\\00b7\"; padding: 0 .5ex}\n",
       "</style>\n",
       "<ol class=list-inline><li><span style=white-space:pre-wrap>'PLINK v2.00a6LM 64-bit Intel (16 May 2024)     www.cog-genomics.org/plink/2.0/'</span></li><li><span style=white-space:pre-wrap>'(C) 2005-2024 Shaun Purcell, Christopher Chang   GNU General Public License v3'</span></li><li>'Logging to microarray/plink_v7.1/arrays_qc_afr_clean.log.'</li><li>'Options in effect:'</li><li><span style=white-space:pre-wrap>'  --bfile microarray/plink_v7.1/arrays_noY'</span></li><li><span style=white-space:pre-wrap>'  --chr 1-22, X'</span></li><li><span style=white-space:pre-wrap>'  --geno 0.03'</span></li><li><span style=white-space:pre-wrap>'  --hwe 1e-6'</span></li><li><span style=white-space:pre-wrap>'  --keep afr_ids_clean.txt'</span></li><li><span style=white-space:pre-wrap>'  --mac 3'</span></li><li><span style=white-space:pre-wrap>'  --maf 0.01'</span></li><li><span style=white-space:pre-wrap>'  --mind 0.05'</span></li><li><span style=white-space:pre-wrap>'  --no-id-header'</span></li><li><span style=white-space:pre-wrap>'  --out microarray/plink_v7.1/arrays_qc_afr_clean'</span></li><li><span style=white-space:pre-wrap>'  --write-samples'</span></li><li><span style=white-space:pre-wrap>'  --write-snplist'</span></li><li>''</li><li><span style=white-space:pre-wrap>'Start time: Mon Jul  8 14:46:08 2024'</span></li><li>'14998 MiB RAM detected, ~12919 available; reserving 7499 MiB for main'</li><li>'workspace.'</li><li>'Using up to 4 compute threads.'</li><li>'311429 samples (0 females, 0 males, 311429 ambiguous; 311429 founders) loaded'</li><li>'from microarray/plink_v7.1/arrays_noY.fam.'</li><li>'1735751 variants loaded from microarray/plink_v7.1/arrays_noY.bim.'</li><li>'Note: No phenotype data present.'</li><li>'--keep: 52533 samples remaining.'</li><li>'Calculating sample missingness rates... 0%\\b\\b1%\\b\\b2%\\b\\b3%\\b\\b4%\\b\\b5%\\b\\b6%\\b\\b7%\\b\\b8%\\b\\b9%\\b\\b10%\\b\\b\\b11%\\b\\b\\b12%\\b\\b\\b13%\\b\\b\\b14%\\b\\b\\b15%\\b\\b\\b16%\\b\\b\\b17%\\b\\b\\b18%\\b\\b\\b19%\\b\\b\\b20%\\b\\b\\b21%\\b\\b\\b22%\\b\\b\\b23%\\b\\b\\b24%\\b\\b\\b25%\\b\\b\\b26%\\b\\b\\b27%\\b\\b\\b28%\\b\\b\\b29%\\b\\b\\b30%\\b\\b\\b31%\\b\\b\\b32%\\b\\b\\b33%\\b\\b\\b34%\\b\\b\\b35%\\b\\b\\b36%\\b\\b\\b37%\\b\\b\\b38%\\b\\b\\b39%\\b\\b\\b40%\\b\\b\\b41%\\b\\b\\b42%\\b\\b\\b43%\\b\\b\\b44%\\b\\b\\b45%\\b\\b\\b46%\\b\\b\\b47%\\b\\b\\b48%\\b\\b\\b49%\\b\\b\\b50%\\b\\b\\b51%\\b\\b\\b52%\\b\\b\\b53%\\b\\b\\b54%\\b\\b\\b55%\\b\\b\\b56%\\b\\b\\b57%\\b\\b\\b58%\\b\\b\\b59%\\b\\b\\b60%\\b\\b\\b61%\\b\\b\\b62%\\b\\b\\b63%\\b\\b\\b64%\\b\\b\\b65%\\b\\b\\b66%\\b\\b\\b67%\\b\\b\\b68%\\b\\b\\b69%\\b\\b\\b70%\\b\\b\\b71%\\b\\b\\b72%\\b\\b\\b73%\\b\\b\\b74%\\b\\b\\b75%\\b\\b\\b76%\\b\\b\\b77%\\b\\b\\b78%\\b\\b\\b79%\\b\\b\\b80%\\b\\b\\b81%\\b\\b\\b82%\\b\\b\\b83%\\b\\b\\b84%\\b\\b\\b85%\\b\\b\\b86%\\b\\b\\b87%\\b\\b\\b88%\\b\\b\\b89%\\b\\b\\b90%\\b\\b\\b91%\\b\\b\\b92%\\b\\b\\b93%\\b\\b\\b94%\\b\\b\\b95%\\b\\b\\b96%\\b\\b\\b97%\\b\\b\\b98%\\b\\b\\b99%\\b\\b\\bdone.'</li><li>'0 samples removed due to missing genotype data (--mind).'</li><li>'52533 samples (0 females, 0 males, 52533 ambiguous; 52533 founders) remaining'</li><li>'after main filters.'</li><li>'--write-samples: Sample IDs written to'</li><li>'microarray/plink_v7.1/arrays_qc_afr_clean.id .'</li><li>'Calculating allele frequencies... 0%\\b\\b1%\\b\\b2%\\b\\b3%\\b\\b4%\\b\\b5%\\b\\b6%\\b\\b7%\\b\\b8%\\b\\b9%\\b\\b10%\\b\\b\\b11%\\b\\b\\b12%\\b\\b\\b13%\\b\\b\\b14%\\b\\b\\b15%\\b\\b\\b16%\\b\\b\\b17%\\b\\b\\b18%\\b\\b\\b19%\\b\\b\\b20%\\b\\b\\b21%\\b\\b\\b22%\\b\\b\\b23%\\b\\b\\b24%\\b\\b\\b25%\\b\\b\\b26%\\b\\b\\b27%\\b\\b\\b28%\\b\\b\\b29%\\b\\b\\b30%\\b\\b\\b31%\\b\\b\\b32%\\b\\b\\b33%\\b\\b\\b34%\\b\\b\\b35%\\b\\b\\b36%\\b\\b\\b37%\\b\\b\\b38%\\b\\b\\b39%\\b\\b\\b40%\\b\\b\\b41%\\b\\b\\b42%\\b\\b\\b43%\\b\\b\\b44%\\b\\b\\b45%\\b\\b\\b46%\\b\\b\\b47%\\b\\b\\b48%\\b\\b\\b49%\\b\\b\\b50%\\b\\b\\b51%\\b\\b\\b52%\\b\\b\\b53%\\b\\b\\b54%\\b\\b\\b55%\\b\\b\\b56%\\b\\b\\b57%\\b\\b\\b58%\\b\\b\\b59%\\b\\b\\b60%\\b\\b\\b61%\\b\\b\\b62%\\b\\b\\b63%\\b\\b\\b64%\\b\\b\\b65%\\b\\b\\b66%\\b\\b\\b67%\\b\\b\\b68%\\b\\b\\b69%\\b\\b\\b70%\\b\\b\\b71%\\b\\b\\b72%\\b\\b\\b73%\\b\\b\\b74%\\b\\b\\b75%\\b\\b\\b76%\\b\\b\\b77%\\b\\b\\b78%\\b\\b\\b79%\\b\\b\\b80%\\b\\b\\b81%\\b\\b\\b82%\\b\\b\\b83%\\b\\b\\b84%\\b\\b\\b85%\\b\\b\\b86%\\b\\b\\b87%\\b\\b\\b88%\\b\\b\\b89%\\b\\b\\b90%\\b\\b\\b91%\\b\\b\\b92%\\b\\b\\b93%\\b\\b\\b94%\\b\\b\\b95%\\b\\b\\b96%\\b\\b\\b97%\\b\\b\\b98%\\b\\b\\b99%\\b\\b\\bdone.'</li><li>'--geno: 14086 variants removed due to missing genotype data.'</li><li>'--hwe: 22539 variants removed due to Hardy-Weinberg exact test (founders only).'</li><li>'685839 variants removed due to allele frequency threshold(s)'</li><li>'(--maf/--max-maf/--mac/--max-mac).'</li><li>'1013287 variants remaining after main filters.'</li><li>'--write-snplist: Variant IDs written to'</li><li>'microarray/plink_v7.1/arrays_qc_afr_clean.snplist .'</li><li><span style=white-space:pre-wrap>'End time: Mon Jul  8 15:45:05 2024'</span></li></ol>\n"
      ],
      "text/latex": [
       "\\begin{enumerate*}\n",
       "\\item 'PLINK v2.00a6LM 64-bit Intel (16 May 2024)     www.cog-genomics.org/plink/2.0/'\n",
       "\\item '(C) 2005-2024 Shaun Purcell, Christopher Chang   GNU General Public License v3'\n",
       "\\item 'Logging to microarray/plink\\_v7.1/arrays\\_qc\\_afr\\_clean.log.'\n",
       "\\item 'Options in effect:'\n",
       "\\item '  --bfile microarray/plink\\_v7.1/arrays\\_noY'\n",
       "\\item '  --chr 1-22, X'\n",
       "\\item '  --geno 0.03'\n",
       "\\item '  --hwe 1e-6'\n",
       "\\item '  --keep afr\\_ids\\_clean.txt'\n",
       "\\item '  --mac 3'\n",
       "\\item '  --maf 0.01'\n",
       "\\item '  --mind 0.05'\n",
       "\\item '  --no-id-header'\n",
       "\\item '  --out microarray/plink\\_v7.1/arrays\\_qc\\_afr\\_clean'\n",
       "\\item '  --write-samples'\n",
       "\\item '  --write-snplist'\n",
       "\\item ''\n",
       "\\item 'Start time: Mon Jul  8 14:46:08 2024'\n",
       "\\item '14998 MiB RAM detected, \\textasciitilde{}12919 available; reserving 7499 MiB for main'\n",
       "\\item 'workspace.'\n",
       "\\item 'Using up to 4 compute threads.'\n",
       "\\item '311429 samples (0 females, 0 males, 311429 ambiguous; 311429 founders) loaded'\n",
       "\\item 'from microarray/plink\\_v7.1/arrays\\_noY.fam.'\n",
       "\\item '1735751 variants loaded from microarray/plink\\_v7.1/arrays\\_noY.bim.'\n",
       "\\item 'Note: No phenotype data present.'\n",
       "\\item '--keep: 52533 samples remaining.'\n",
       "\\item 'Calculating sample missingness rates... 0\\%\\textbackslash{}b\\textbackslash{}b1\\%\\textbackslash{}b\\textbackslash{}b2\\%\\textbackslash{}b\\textbackslash{}b3\\%\\textbackslash{}b\\textbackslash{}b4\\%\\textbackslash{}b\\textbackslash{}b5\\%\\textbackslash{}b\\textbackslash{}b6\\%\\textbackslash{}b\\textbackslash{}b7\\%\\textbackslash{}b\\textbackslash{}b8\\%\\textbackslash{}b\\textbackslash{}b9\\%\\textbackslash{}b\\textbackslash{}b10\\%\\textbackslash{}b\\textbackslash{}b\\textbackslash{}b11\\%\\textbackslash{}b\\textbackslash{}b\\textbackslash{}b12\\%\\textbackslash{}b\\textbackslash{}b\\textbackslash{}b13\\%\\textbackslash{}b\\textbackslash{}b\\textbackslash{}b14\\%\\textbackslash{}b\\textbackslash{}b\\textbackslash{}b15\\%\\textbackslash{}b\\textbackslash{}b\\textbackslash{}b16\\%\\textbackslash{}b\\textbackslash{}b\\textbackslash{}b17\\%\\textbackslash{}b\\textbackslash{}b\\textbackslash{}b18\\%\\textbackslash{}b\\textbackslash{}b\\textbackslash{}b19\\%\\textbackslash{}b\\textbackslash{}b\\textbackslash{}b20\\%\\textbackslash{}b\\textbackslash{}b\\textbackslash{}b21\\%\\textbackslash{}b\\textbackslash{}b\\textbackslash{}b22\\%\\textbackslash{}b\\textbackslash{}b\\textbackslash{}b23\\%\\textbackslash{}b\\textbackslash{}b\\textbackslash{}b24\\%\\textbackslash{}b\\textbackslash{}b\\textbackslash{}b25\\%\\textbackslash{}b\\textbackslash{}b\\textbackslash{}b26\\%\\textbackslash{}b\\textbackslash{}b\\textbackslash{}b27\\%\\textbackslash{}b\\textbackslash{}b\\textbackslash{}b28\\%\\textbackslash{}b\\textbackslash{}b\\textbackslash{}b29\\%\\textbackslash{}b\\textbackslash{}b\\textbackslash{}b30\\%\\textbackslash{}b\\textbackslash{}b\\textbackslash{}b31\\%\\textbackslash{}b\\textbackslash{}b\\textbackslash{}b32\\%\\textbackslash{}b\\textbackslash{}b\\textbackslash{}b33\\%\\textbackslash{}b\\textbackslash{}b\\textbackslash{}b34\\%\\textbackslash{}b\\textbackslash{}b\\textbackslash{}b35\\%\\textbackslash{}b\\textbackslash{}b\\textbackslash{}b36\\%\\textbackslash{}b\\textbackslash{}b\\textbackslash{}b37\\%\\textbackslash{}b\\textbackslash{}b\\textbackslash{}b38\\%\\textbackslash{}b\\textbackslash{}b\\textbackslash{}b39\\%\\textbackslash{}b\\textbackslash{}b\\textbackslash{}b40\\%\\textbackslash{}b\\textbackslash{}b\\textbackslash{}b41\\%\\textbackslash{}b\\textbackslash{}b\\textbackslash{}b42\\%\\textbackslash{}b\\textbackslash{}b\\textbackslash{}b43\\%\\textbackslash{}b\\textbackslash{}b\\textbackslash{}b44\\%\\textbackslash{}b\\textbackslash{}b\\textbackslash{}b45\\%\\textbackslash{}b\\textbackslash{}b\\textbackslash{}b46\\%\\textbackslash{}b\\textbackslash{}b\\textbackslash{}b47\\%\\textbackslash{}b\\textbackslash{}b\\textbackslash{}b48\\%\\textbackslash{}b\\textbackslash{}b\\textbackslash{}b49\\%\\textbackslash{}b\\textbackslash{}b\\textbackslash{}b50\\%\\textbackslash{}b\\textbackslash{}b\\textbackslash{}b51\\%\\textbackslash{}b\\textbackslash{}b\\textbackslash{}b52\\%\\textbackslash{}b\\textbackslash{}b\\textbackslash{}b53\\%\\textbackslash{}b\\textbackslash{}b\\textbackslash{}b54\\%\\textbackslash{}b\\textbackslash{}b\\textbackslash{}b55\\%\\textbackslash{}b\\textbackslash{}b\\textbackslash{}b56\\%\\textbackslash{}b\\textbackslash{}b\\textbackslash{}b57\\%\\textbackslash{}b\\textbackslash{}b\\textbackslash{}b58\\%\\textbackslash{}b\\textbackslash{}b\\textbackslash{}b59\\%\\textbackslash{}b\\textbackslash{}b\\textbackslash{}b60\\%\\textbackslash{}b\\textbackslash{}b\\textbackslash{}b61\\%\\textbackslash{}b\\textbackslash{}b\\textbackslash{}b62\\%\\textbackslash{}b\\textbackslash{}b\\textbackslash{}b63\\%\\textbackslash{}b\\textbackslash{}b\\textbackslash{}b64\\%\\textbackslash{}b\\textbackslash{}b\\textbackslash{}b65\\%\\textbackslash{}b\\textbackslash{}b\\textbackslash{}b66\\%\\textbackslash{}b\\textbackslash{}b\\textbackslash{}b67\\%\\textbackslash{}b\\textbackslash{}b\\textbackslash{}b68\\%\\textbackslash{}b\\textbackslash{}b\\textbackslash{}b69\\%\\textbackslash{}b\\textbackslash{}b\\textbackslash{}b70\\%\\textbackslash{}b\\textbackslash{}b\\textbackslash{}b71\\%\\textbackslash{}b\\textbackslash{}b\\textbackslash{}b72\\%\\textbackslash{}b\\textbackslash{}b\\textbackslash{}b73\\%\\textbackslash{}b\\textbackslash{}b\\textbackslash{}b74\\%\\textbackslash{}b\\textbackslash{}b\\textbackslash{}b75\\%\\textbackslash{}b\\textbackslash{}b\\textbackslash{}b76\\%\\textbackslash{}b\\textbackslash{}b\\textbackslash{}b77\\%\\textbackslash{}b\\textbackslash{}b\\textbackslash{}b78\\%\\textbackslash{}b\\textbackslash{}b\\textbackslash{}b79\\%\\textbackslash{}b\\textbackslash{}b\\textbackslash{}b80\\%\\textbackslash{}b\\textbackslash{}b\\textbackslash{}b81\\%\\textbackslash{}b\\textbackslash{}b\\textbackslash{}b82\\%\\textbackslash{}b\\textbackslash{}b\\textbackslash{}b83\\%\\textbackslash{}b\\textbackslash{}b\\textbackslash{}b84\\%\\textbackslash{}b\\textbackslash{}b\\textbackslash{}b85\\%\\textbackslash{}b\\textbackslash{}b\\textbackslash{}b86\\%\\textbackslash{}b\\textbackslash{}b\\textbackslash{}b87\\%\\textbackslash{}b\\textbackslash{}b\\textbackslash{}b88\\%\\textbackslash{}b\\textbackslash{}b\\textbackslash{}b89\\%\\textbackslash{}b\\textbackslash{}b\\textbackslash{}b90\\%\\textbackslash{}b\\textbackslash{}b\\textbackslash{}b91\\%\\textbackslash{}b\\textbackslash{}b\\textbackslash{}b92\\%\\textbackslash{}b\\textbackslash{}b\\textbackslash{}b93\\%\\textbackslash{}b\\textbackslash{}b\\textbackslash{}b94\\%\\textbackslash{}b\\textbackslash{}b\\textbackslash{}b95\\%\\textbackslash{}b\\textbackslash{}b\\textbackslash{}b96\\%\\textbackslash{}b\\textbackslash{}b\\textbackslash{}b97\\%\\textbackslash{}b\\textbackslash{}b\\textbackslash{}b98\\%\\textbackslash{}b\\textbackslash{}b\\textbackslash{}b99\\%\\textbackslash{}b\\textbackslash{}b\\textbackslash{}bdone.'\n",
       "\\item '0 samples removed due to missing genotype data (--mind).'\n",
       "\\item '52533 samples (0 females, 0 males, 52533 ambiguous; 52533 founders) remaining'\n",
       "\\item 'after main filters.'\n",
       "\\item '--write-samples: Sample IDs written to'\n",
       "\\item 'microarray/plink\\_v7.1/arrays\\_qc\\_afr\\_clean.id .'\n",
       "\\item 'Calculating allele frequencies... 0\\%\\textbackslash{}b\\textbackslash{}b1\\%\\textbackslash{}b\\textbackslash{}b2\\%\\textbackslash{}b\\textbackslash{}b3\\%\\textbackslash{}b\\textbackslash{}b4\\%\\textbackslash{}b\\textbackslash{}b5\\%\\textbackslash{}b\\textbackslash{}b6\\%\\textbackslash{}b\\textbackslash{}b7\\%\\textbackslash{}b\\textbackslash{}b8\\%\\textbackslash{}b\\textbackslash{}b9\\%\\textbackslash{}b\\textbackslash{}b10\\%\\textbackslash{}b\\textbackslash{}b\\textbackslash{}b11\\%\\textbackslash{}b\\textbackslash{}b\\textbackslash{}b12\\%\\textbackslash{}b\\textbackslash{}b\\textbackslash{}b13\\%\\textbackslash{}b\\textbackslash{}b\\textbackslash{}b14\\%\\textbackslash{}b\\textbackslash{}b\\textbackslash{}b15\\%\\textbackslash{}b\\textbackslash{}b\\textbackslash{}b16\\%\\textbackslash{}b\\textbackslash{}b\\textbackslash{}b17\\%\\textbackslash{}b\\textbackslash{}b\\textbackslash{}b18\\%\\textbackslash{}b\\textbackslash{}b\\textbackslash{}b19\\%\\textbackslash{}b\\textbackslash{}b\\textbackslash{}b20\\%\\textbackslash{}b\\textbackslash{}b\\textbackslash{}b21\\%\\textbackslash{}b\\textbackslash{}b\\textbackslash{}b22\\%\\textbackslash{}b\\textbackslash{}b\\textbackslash{}b23\\%\\textbackslash{}b\\textbackslash{}b\\textbackslash{}b24\\%\\textbackslash{}b\\textbackslash{}b\\textbackslash{}b25\\%\\textbackslash{}b\\textbackslash{}b\\textbackslash{}b26\\%\\textbackslash{}b\\textbackslash{}b\\textbackslash{}b27\\%\\textbackslash{}b\\textbackslash{}b\\textbackslash{}b28\\%\\textbackslash{}b\\textbackslash{}b\\textbackslash{}b29\\%\\textbackslash{}b\\textbackslash{}b\\textbackslash{}b30\\%\\textbackslash{}b\\textbackslash{}b\\textbackslash{}b31\\%\\textbackslash{}b\\textbackslash{}b\\textbackslash{}b32\\%\\textbackslash{}b\\textbackslash{}b\\textbackslash{}b33\\%\\textbackslash{}b\\textbackslash{}b\\textbackslash{}b34\\%\\textbackslash{}b\\textbackslash{}b\\textbackslash{}b35\\%\\textbackslash{}b\\textbackslash{}b\\textbackslash{}b36\\%\\textbackslash{}b\\textbackslash{}b\\textbackslash{}b37\\%\\textbackslash{}b\\textbackslash{}b\\textbackslash{}b38\\%\\textbackslash{}b\\textbackslash{}b\\textbackslash{}b39\\%\\textbackslash{}b\\textbackslash{}b\\textbackslash{}b40\\%\\textbackslash{}b\\textbackslash{}b\\textbackslash{}b41\\%\\textbackslash{}b\\textbackslash{}b\\textbackslash{}b42\\%\\textbackslash{}b\\textbackslash{}b\\textbackslash{}b43\\%\\textbackslash{}b\\textbackslash{}b\\textbackslash{}b44\\%\\textbackslash{}b\\textbackslash{}b\\textbackslash{}b45\\%\\textbackslash{}b\\textbackslash{}b\\textbackslash{}b46\\%\\textbackslash{}b\\textbackslash{}b\\textbackslash{}b47\\%\\textbackslash{}b\\textbackslash{}b\\textbackslash{}b48\\%\\textbackslash{}b\\textbackslash{}b\\textbackslash{}b49\\%\\textbackslash{}b\\textbackslash{}b\\textbackslash{}b50\\%\\textbackslash{}b\\textbackslash{}b\\textbackslash{}b51\\%\\textbackslash{}b\\textbackslash{}b\\textbackslash{}b52\\%\\textbackslash{}b\\textbackslash{}b\\textbackslash{}b53\\%\\textbackslash{}b\\textbackslash{}b\\textbackslash{}b54\\%\\textbackslash{}b\\textbackslash{}b\\textbackslash{}b55\\%\\textbackslash{}b\\textbackslash{}b\\textbackslash{}b56\\%\\textbackslash{}b\\textbackslash{}b\\textbackslash{}b57\\%\\textbackslash{}b\\textbackslash{}b\\textbackslash{}b58\\%\\textbackslash{}b\\textbackslash{}b\\textbackslash{}b59\\%\\textbackslash{}b\\textbackslash{}b\\textbackslash{}b60\\%\\textbackslash{}b\\textbackslash{}b\\textbackslash{}b61\\%\\textbackslash{}b\\textbackslash{}b\\textbackslash{}b62\\%\\textbackslash{}b\\textbackslash{}b\\textbackslash{}b63\\%\\textbackslash{}b\\textbackslash{}b\\textbackslash{}b64\\%\\textbackslash{}b\\textbackslash{}b\\textbackslash{}b65\\%\\textbackslash{}b\\textbackslash{}b\\textbackslash{}b66\\%\\textbackslash{}b\\textbackslash{}b\\textbackslash{}b67\\%\\textbackslash{}b\\textbackslash{}b\\textbackslash{}b68\\%\\textbackslash{}b\\textbackslash{}b\\textbackslash{}b69\\%\\textbackslash{}b\\textbackslash{}b\\textbackslash{}b70\\%\\textbackslash{}b\\textbackslash{}b\\textbackslash{}b71\\%\\textbackslash{}b\\textbackslash{}b\\textbackslash{}b72\\%\\textbackslash{}b\\textbackslash{}b\\textbackslash{}b73\\%\\textbackslash{}b\\textbackslash{}b\\textbackslash{}b74\\%\\textbackslash{}b\\textbackslash{}b\\textbackslash{}b75\\%\\textbackslash{}b\\textbackslash{}b\\textbackslash{}b76\\%\\textbackslash{}b\\textbackslash{}b\\textbackslash{}b77\\%\\textbackslash{}b\\textbackslash{}b\\textbackslash{}b78\\%\\textbackslash{}b\\textbackslash{}b\\textbackslash{}b79\\%\\textbackslash{}b\\textbackslash{}b\\textbackslash{}b80\\%\\textbackslash{}b\\textbackslash{}b\\textbackslash{}b81\\%\\textbackslash{}b\\textbackslash{}b\\textbackslash{}b82\\%\\textbackslash{}b\\textbackslash{}b\\textbackslash{}b83\\%\\textbackslash{}b\\textbackslash{}b\\textbackslash{}b84\\%\\textbackslash{}b\\textbackslash{}b\\textbackslash{}b85\\%\\textbackslash{}b\\textbackslash{}b\\textbackslash{}b86\\%\\textbackslash{}b\\textbackslash{}b\\textbackslash{}b87\\%\\textbackslash{}b\\textbackslash{}b\\textbackslash{}b88\\%\\textbackslash{}b\\textbackslash{}b\\textbackslash{}b89\\%\\textbackslash{}b\\textbackslash{}b\\textbackslash{}b90\\%\\textbackslash{}b\\textbackslash{}b\\textbackslash{}b91\\%\\textbackslash{}b\\textbackslash{}b\\textbackslash{}b92\\%\\textbackslash{}b\\textbackslash{}b\\textbackslash{}b93\\%\\textbackslash{}b\\textbackslash{}b\\textbackslash{}b94\\%\\textbackslash{}b\\textbackslash{}b\\textbackslash{}b95\\%\\textbackslash{}b\\textbackslash{}b\\textbackslash{}b96\\%\\textbackslash{}b\\textbackslash{}b\\textbackslash{}b97\\%\\textbackslash{}b\\textbackslash{}b\\textbackslash{}b98\\%\\textbackslash{}b\\textbackslash{}b\\textbackslash{}b99\\%\\textbackslash{}b\\textbackslash{}b\\textbackslash{}bdone.'\n",
       "\\item '--geno: 14086 variants removed due to missing genotype data.'\n",
       "\\item '--hwe: 22539 variants removed due to Hardy-Weinberg exact test (founders only).'\n",
       "\\item '685839 variants removed due to allele frequency threshold(s)'\n",
       "\\item '(--maf/--max-maf/--mac/--max-mac).'\n",
       "\\item '1013287 variants remaining after main filters.'\n",
       "\\item '--write-snplist: Variant IDs written to'\n",
       "\\item 'microarray/plink\\_v7.1/arrays\\_qc\\_afr\\_clean.snplist .'\n",
       "\\item 'End time: Mon Jul  8 15:45:05 2024'\n",
       "\\end{enumerate*}\n"
      ],
      "text/markdown": [
       "1. <span style=white-space:pre-wrap>'PLINK v2.00a6LM 64-bit Intel (16 May 2024)     www.cog-genomics.org/plink/2.0/'</span>\n",
       "2. <span style=white-space:pre-wrap>'(C) 2005-2024 Shaun Purcell, Christopher Chang   GNU General Public License v3'</span>\n",
       "3. 'Logging to microarray/plink_v7.1/arrays_qc_afr_clean.log.'\n",
       "4. 'Options in effect:'\n",
       "5. <span style=white-space:pre-wrap>'  --bfile microarray/plink_v7.1/arrays_noY'</span>\n",
       "6. <span style=white-space:pre-wrap>'  --chr 1-22, X'</span>\n",
       "7. <span style=white-space:pre-wrap>'  --geno 0.03'</span>\n",
       "8. <span style=white-space:pre-wrap>'  --hwe 1e-6'</span>\n",
       "9. <span style=white-space:pre-wrap>'  --keep afr_ids_clean.txt'</span>\n",
       "10. <span style=white-space:pre-wrap>'  --mac 3'</span>\n",
       "11. <span style=white-space:pre-wrap>'  --maf 0.01'</span>\n",
       "12. <span style=white-space:pre-wrap>'  --mind 0.05'</span>\n",
       "13. <span style=white-space:pre-wrap>'  --no-id-header'</span>\n",
       "14. <span style=white-space:pre-wrap>'  --out microarray/plink_v7.1/arrays_qc_afr_clean'</span>\n",
       "15. <span style=white-space:pre-wrap>'  --write-samples'</span>\n",
       "16. <span style=white-space:pre-wrap>'  --write-snplist'</span>\n",
       "17. ''\n",
       "18. <span style=white-space:pre-wrap>'Start time: Mon Jul  8 14:46:08 2024'</span>\n",
       "19. '14998 MiB RAM detected, ~12919 available; reserving 7499 MiB for main'\n",
       "20. 'workspace.'\n",
       "21. 'Using up to 4 compute threads.'\n",
       "22. '311429 samples (0 females, 0 males, 311429 ambiguous; 311429 founders) loaded'\n",
       "23. 'from microarray/plink_v7.1/arrays_noY.fam.'\n",
       "24. '1735751 variants loaded from microarray/plink_v7.1/arrays_noY.bim.'\n",
       "25. 'Note: No phenotype data present.'\n",
       "26. '--keep: 52533 samples remaining.'\n",
       "27. 'Calculating sample missingness rates... 0%\\b\\b1%\\b\\b2%\\b\\b3%\\b\\b4%\\b\\b5%\\b\\b6%\\b\\b7%\\b\\b8%\\b\\b9%\\b\\b10%\\b\\b\\b11%\\b\\b\\b12%\\b\\b\\b13%\\b\\b\\b14%\\b\\b\\b15%\\b\\b\\b16%\\b\\b\\b17%\\b\\b\\b18%\\b\\b\\b19%\\b\\b\\b20%\\b\\b\\b21%\\b\\b\\b22%\\b\\b\\b23%\\b\\b\\b24%\\b\\b\\b25%\\b\\b\\b26%\\b\\b\\b27%\\b\\b\\b28%\\b\\b\\b29%\\b\\b\\b30%\\b\\b\\b31%\\b\\b\\b32%\\b\\b\\b33%\\b\\b\\b34%\\b\\b\\b35%\\b\\b\\b36%\\b\\b\\b37%\\b\\b\\b38%\\b\\b\\b39%\\b\\b\\b40%\\b\\b\\b41%\\b\\b\\b42%\\b\\b\\b43%\\b\\b\\b44%\\b\\b\\b45%\\b\\b\\b46%\\b\\b\\b47%\\b\\b\\b48%\\b\\b\\b49%\\b\\b\\b50%\\b\\b\\b51%\\b\\b\\b52%\\b\\b\\b53%\\b\\b\\b54%\\b\\b\\b55%\\b\\b\\b56%\\b\\b\\b57%\\b\\b\\b58%\\b\\b\\b59%\\b\\b\\b60%\\b\\b\\b61%\\b\\b\\b62%\\b\\b\\b63%\\b\\b\\b64%\\b\\b\\b65%\\b\\b\\b66%\\b\\b\\b67%\\b\\b\\b68%\\b\\b\\b69%\\b\\b\\b70%\\b\\b\\b71%\\b\\b\\b72%\\b\\b\\b73%\\b\\b\\b74%\\b\\b\\b75%\\b\\b\\b76%\\b\\b\\b77%\\b\\b\\b78%\\b\\b\\b79%\\b\\b\\b80%\\b\\b\\b81%\\b\\b\\b82%\\b\\b\\b83%\\b\\b\\b84%\\b\\b\\b85%\\b\\b\\b86%\\b\\b\\b87%\\b\\b\\b88%\\b\\b\\b89%\\b\\b\\b90%\\b\\b\\b91%\\b\\b\\b92%\\b\\b\\b93%\\b\\b\\b94%\\b\\b\\b95%\\b\\b\\b96%\\b\\b\\b97%\\b\\b\\b98%\\b\\b\\b99%\\b\\b\\bdone.'\n",
       "28. '0 samples removed due to missing genotype data (--mind).'\n",
       "29. '52533 samples (0 females, 0 males, 52533 ambiguous; 52533 founders) remaining'\n",
       "30. 'after main filters.'\n",
       "31. '--write-samples: Sample IDs written to'\n",
       "32. 'microarray/plink_v7.1/arrays_qc_afr_clean.id .'\n",
       "33. 'Calculating allele frequencies... 0%\\b\\b1%\\b\\b2%\\b\\b3%\\b\\b4%\\b\\b5%\\b\\b6%\\b\\b7%\\b\\b8%\\b\\b9%\\b\\b10%\\b\\b\\b11%\\b\\b\\b12%\\b\\b\\b13%\\b\\b\\b14%\\b\\b\\b15%\\b\\b\\b16%\\b\\b\\b17%\\b\\b\\b18%\\b\\b\\b19%\\b\\b\\b20%\\b\\b\\b21%\\b\\b\\b22%\\b\\b\\b23%\\b\\b\\b24%\\b\\b\\b25%\\b\\b\\b26%\\b\\b\\b27%\\b\\b\\b28%\\b\\b\\b29%\\b\\b\\b30%\\b\\b\\b31%\\b\\b\\b32%\\b\\b\\b33%\\b\\b\\b34%\\b\\b\\b35%\\b\\b\\b36%\\b\\b\\b37%\\b\\b\\b38%\\b\\b\\b39%\\b\\b\\b40%\\b\\b\\b41%\\b\\b\\b42%\\b\\b\\b43%\\b\\b\\b44%\\b\\b\\b45%\\b\\b\\b46%\\b\\b\\b47%\\b\\b\\b48%\\b\\b\\b49%\\b\\b\\b50%\\b\\b\\b51%\\b\\b\\b52%\\b\\b\\b53%\\b\\b\\b54%\\b\\b\\b55%\\b\\b\\b56%\\b\\b\\b57%\\b\\b\\b58%\\b\\b\\b59%\\b\\b\\b60%\\b\\b\\b61%\\b\\b\\b62%\\b\\b\\b63%\\b\\b\\b64%\\b\\b\\b65%\\b\\b\\b66%\\b\\b\\b67%\\b\\b\\b68%\\b\\b\\b69%\\b\\b\\b70%\\b\\b\\b71%\\b\\b\\b72%\\b\\b\\b73%\\b\\b\\b74%\\b\\b\\b75%\\b\\b\\b76%\\b\\b\\b77%\\b\\b\\b78%\\b\\b\\b79%\\b\\b\\b80%\\b\\b\\b81%\\b\\b\\b82%\\b\\b\\b83%\\b\\b\\b84%\\b\\b\\b85%\\b\\b\\b86%\\b\\b\\b87%\\b\\b\\b88%\\b\\b\\b89%\\b\\b\\b90%\\b\\b\\b91%\\b\\b\\b92%\\b\\b\\b93%\\b\\b\\b94%\\b\\b\\b95%\\b\\b\\b96%\\b\\b\\b97%\\b\\b\\b98%\\b\\b\\b99%\\b\\b\\bdone.'\n",
       "34. '--geno: 14086 variants removed due to missing genotype data.'\n",
       "35. '--hwe: 22539 variants removed due to Hardy-Weinberg exact test (founders only).'\n",
       "36. '685839 variants removed due to allele frequency threshold(s)'\n",
       "37. '(--maf/--max-maf/--mac/--max-mac).'\n",
       "38. '1013287 variants remaining after main filters.'\n",
       "39. '--write-snplist: Variant IDs written to'\n",
       "40. 'microarray/plink_v7.1/arrays_qc_afr_clean.snplist .'\n",
       "41. <span style=white-space:pre-wrap>'End time: Mon Jul  8 15:45:05 2024'</span>\n",
       "\n",
       "\n"
      ],
      "text/plain": [
       " [1] \"PLINK v2.00a6LM 64-bit Intel (16 May 2024)     www.cog-genomics.org/plink/2.0/\"                                                                                                                                                                                                                                                                                                                                                                                                                                                                                                                                                                                                                                                                                                                                                                                                                                                                     \n",
       " [2] \"(C) 2005-2024 Shaun Purcell, Christopher Chang   GNU General Public License v3\"                                                                                                                                                                                                                                                                                                                                                                                                                                                                                                                                                                                                                                                                                                                                                                                                                                                                     \n",
       " [3] \"Logging to microarray/plink_v7.1/arrays_qc_afr_clean.log.\"                                                                                                                                                                                                                                                                                                                                                                                                                                                                                                                                                                                                                                                                                                                                                                                                                                                                                          \n",
       " [4] \"Options in effect:\"                                                                                                                                                                                                                                                                                                                                                                                                                                                                                                                                                                                                                                                                                                                                                                                                                                                                                                                                 \n",
       " [5] \"  --bfile microarray/plink_v7.1/arrays_noY\"                                                                                                                                                                                                                                                                                                                                                                                                                                                                                                                                                                                                                                                                                                                                                                                                                                                                                                         \n",
       " [6] \"  --chr 1-22, X\"                                                                                                                                                                                                                                                                                                                                                                                                                                                                                                                                                                                                                                                                                                                                                                                                                                                                                                                                    \n",
       " [7] \"  --geno 0.03\"                                                                                                                                                                                                                                                                                                                                                                                                                                                                                                                                                                                                                                                                                                                                                                                                                                                                                                                                      \n",
       " [8] \"  --hwe 1e-6\"                                                                                                                                                                                                                                                                                                                                                                                                                                                                                                                                                                                                                                                                                                                                                                                                                                                                                                                                       \n",
       " [9] \"  --keep afr_ids_clean.txt\"                                                                                                                                                                                                                                                                                                                                                                                                                                                                                                                                                                                                                                                                                                                                                                                                                                                                                                                         \n",
       "[10] \"  --mac 3\"                                                                                                                                                                                                                                                                                                                                                                                                                                                                                                                                                                                                                                                                                                                                                                                                                                                                                                                                          \n",
       "[11] \"  --maf 0.01\"                                                                                                                                                                                                                                                                                                                                                                                                                                                                                                                                                                                                                                                                                                                                                                                                                                                                                                                                       \n",
       "[12] \"  --mind 0.05\"                                                                                                                                                                                                                                                                                                                                                                                                                                                                                                                                                                                                                                                                                                                                                                                                                                                                                                                                      \n",
       "[13] \"  --no-id-header\"                                                                                                                                                                                                                                                                                                                                                                                                                                                                                                                                                                                                                                                                                                                                                                                                                                                                                                                                   \n",
       "[14] \"  --out microarray/plink_v7.1/arrays_qc_afr_clean\"                                                                                                                                                                                                                                                                                                                                                                                                                                                                                                                                                                                                                                                                                                                                                                                                                                                                                                  \n",
       "[15] \"  --write-samples\"                                                                                                                                                                                                                                                                                                                                                                                                                                                                                                                                                                                                                                                                                                                                                                                                                                                                                                                                  \n",
       "[16] \"  --write-snplist\"                                                                                                                                                                                                                                                                                                                                                                                                                                                                                                                                                                                                                                                                                                                                                                                                                                                                                                                                  \n",
       "[17] \"\"                                                                                                                                                                                                                                                                                                                                                                                                                                                                                                                                                                                                                                                                                                                                                                                                                                                                                                                                                   \n",
       "[18] \"Start time: Mon Jul  8 14:46:08 2024\"                                                                                                                                                                                                                                                                                                                                                                                                                                                                                                                                                                                                                                                                                                                                                                                                                                                                                                               \n",
       "[19] \"14998 MiB RAM detected, ~12919 available; reserving 7499 MiB for main\"                                                                                                                                                                                                                                                                                                                                                                                                                                                                                                                                                                                                                                                                                                                                                                                                                                                                              \n",
       "[20] \"workspace.\"                                                                                                                                                                                                                                                                                                                                                                                                                                                                                                                                                                                                                                                                                                                                                                                                                                                                                                                                         \n",
       "[21] \"Using up to 4 compute threads.\"                                                                                                                                                                                                                                                                                                                                                                                                                                                                                                                                                                                                                                                                                                                                                                                                                                                                                                                     \n",
       "[22] \"311429 samples (0 females, 0 males, 311429 ambiguous; 311429 founders) loaded\"                                                                                                                                                                                                                                                                                                                                                                                                                                                                                                                                                                                                                                                                                                                                                                                                                                                                      \n",
       "[23] \"from microarray/plink_v7.1/arrays_noY.fam.\"                                                                                                                                                                                                                                                                                                                                                                                                                                                                                                                                                                                                                                                                                                                                                                                                                                                                                                         \n",
       "[24] \"1735751 variants loaded from microarray/plink_v7.1/arrays_noY.bim.\"                                                                                                                                                                                                                                                                                                                                                                                                                                                                                                                                                                                                                                                                                                                                                                                                                                                                                 \n",
       "[25] \"Note: No phenotype data present.\"                                                                                                                                                                                                                                                                                                                                                                                                                                                                                                                                                                                                                                                                                                                                                                                                                                                                                                                   \n",
       "[26] \"--keep: 52533 samples remaining.\"                                                                                                                                                                                                                                                                                                                                                                                                                                                                                                                                                                                                                                                                                                                                                                                                                                                                                                                   \n",
       "[27] \"Calculating sample missingness rates... 0%\\b\\b1%\\b\\b2%\\b\\b3%\\b\\b4%\\b\\b5%\\b\\b6%\\b\\b7%\\b\\b8%\\b\\b9%\\b\\b10%\\b\\b\\b11%\\b\\b\\b12%\\b\\b\\b13%\\b\\b\\b14%\\b\\b\\b15%\\b\\b\\b16%\\b\\b\\b17%\\b\\b\\b18%\\b\\b\\b19%\\b\\b\\b20%\\b\\b\\b21%\\b\\b\\b22%\\b\\b\\b23%\\b\\b\\b24%\\b\\b\\b25%\\b\\b\\b26%\\b\\b\\b27%\\b\\b\\b28%\\b\\b\\b29%\\b\\b\\b30%\\b\\b\\b31%\\b\\b\\b32%\\b\\b\\b33%\\b\\b\\b34%\\b\\b\\b35%\\b\\b\\b36%\\b\\b\\b37%\\b\\b\\b38%\\b\\b\\b39%\\b\\b\\b40%\\b\\b\\b41%\\b\\b\\b42%\\b\\b\\b43%\\b\\b\\b44%\\b\\b\\b45%\\b\\b\\b46%\\b\\b\\b47%\\b\\b\\b48%\\b\\b\\b49%\\b\\b\\b50%\\b\\b\\b51%\\b\\b\\b52%\\b\\b\\b53%\\b\\b\\b54%\\b\\b\\b55%\\b\\b\\b56%\\b\\b\\b57%\\b\\b\\b58%\\b\\b\\b59%\\b\\b\\b60%\\b\\b\\b61%\\b\\b\\b62%\\b\\b\\b63%\\b\\b\\b64%\\b\\b\\b65%\\b\\b\\b66%\\b\\b\\b67%\\b\\b\\b68%\\b\\b\\b69%\\b\\b\\b70%\\b\\b\\b71%\\b\\b\\b72%\\b\\b\\b73%\\b\\b\\b74%\\b\\b\\b75%\\b\\b\\b76%\\b\\b\\b77%\\b\\b\\b78%\\b\\b\\b79%\\b\\b\\b80%\\b\\b\\b81%\\b\\b\\b82%\\b\\b\\b83%\\b\\b\\b84%\\b\\b\\b85%\\b\\b\\b86%\\b\\b\\b87%\\b\\b\\b88%\\b\\b\\b89%\\b\\b\\b90%\\b\\b\\b91%\\b\\b\\b92%\\b\\b\\b93%\\b\\b\\b94%\\b\\b\\b95%\\b\\b\\b96%\\b\\b\\b97%\\b\\b\\b98%\\b\\b\\b99%\\b\\b\\bdone.\"\n",
       "[28] \"0 samples removed due to missing genotype data (--mind).\"                                                                                                                                                                                                                                                                                                                                                                                                                                                                                                                                                                                                                                                                                                                                                                                                                                                                                           \n",
       "[29] \"52533 samples (0 females, 0 males, 52533 ambiguous; 52533 founders) remaining\"                                                                                                                                                                                                                                                                                                                                                                                                                                                                                                                                                                                                                                                                                                                                                                                                                                                                      \n",
       "[30] \"after main filters.\"                                                                                                                                                                                                                                                                                                                                                                                                                                                                                                                                                                                                                                                                                                                                                                                                                                                                                                                                \n",
       "[31] \"--write-samples: Sample IDs written to\"                                                                                                                                                                                                                                                                                                                                                                                                                                                                                                                                                                                                                                                                                                                                                                                                                                                                                                             \n",
       "[32] \"microarray/plink_v7.1/arrays_qc_afr_clean.id .\"                                                                                                                                                                                                                                                                                                                                                                                                                                                                                                                                                                                                                                                                                                                                                                                                                                                                                                     \n",
       "[33] \"Calculating allele frequencies... 0%\\b\\b1%\\b\\b2%\\b\\b3%\\b\\b4%\\b\\b5%\\b\\b6%\\b\\b7%\\b\\b8%\\b\\b9%\\b\\b10%\\b\\b\\b11%\\b\\b\\b12%\\b\\b\\b13%\\b\\b\\b14%\\b\\b\\b15%\\b\\b\\b16%\\b\\b\\b17%\\b\\b\\b18%\\b\\b\\b19%\\b\\b\\b20%\\b\\b\\b21%\\b\\b\\b22%\\b\\b\\b23%\\b\\b\\b24%\\b\\b\\b25%\\b\\b\\b26%\\b\\b\\b27%\\b\\b\\b28%\\b\\b\\b29%\\b\\b\\b30%\\b\\b\\b31%\\b\\b\\b32%\\b\\b\\b33%\\b\\b\\b34%\\b\\b\\b35%\\b\\b\\b36%\\b\\b\\b37%\\b\\b\\b38%\\b\\b\\b39%\\b\\b\\b40%\\b\\b\\b41%\\b\\b\\b42%\\b\\b\\b43%\\b\\b\\b44%\\b\\b\\b45%\\b\\b\\b46%\\b\\b\\b47%\\b\\b\\b48%\\b\\b\\b49%\\b\\b\\b50%\\b\\b\\b51%\\b\\b\\b52%\\b\\b\\b53%\\b\\b\\b54%\\b\\b\\b55%\\b\\b\\b56%\\b\\b\\b57%\\b\\b\\b58%\\b\\b\\b59%\\b\\b\\b60%\\b\\b\\b61%\\b\\b\\b62%\\b\\b\\b63%\\b\\b\\b64%\\b\\b\\b65%\\b\\b\\b66%\\b\\b\\b67%\\b\\b\\b68%\\b\\b\\b69%\\b\\b\\b70%\\b\\b\\b71%\\b\\b\\b72%\\b\\b\\b73%\\b\\b\\b74%\\b\\b\\b75%\\b\\b\\b76%\\b\\b\\b77%\\b\\b\\b78%\\b\\b\\b79%\\b\\b\\b80%\\b\\b\\b81%\\b\\b\\b82%\\b\\b\\b83%\\b\\b\\b84%\\b\\b\\b85%\\b\\b\\b86%\\b\\b\\b87%\\b\\b\\b88%\\b\\b\\b89%\\b\\b\\b90%\\b\\b\\b91%\\b\\b\\b92%\\b\\b\\b93%\\b\\b\\b94%\\b\\b\\b95%\\b\\b\\b96%\\b\\b\\b97%\\b\\b\\b98%\\b\\b\\b99%\\b\\b\\bdone.\"      \n",
       "[34] \"--geno: 14086 variants removed due to missing genotype data.\"                                                                                                                                                                                                                                                                                                                                                                                                                                                                                                                                                                                                                                                                                                                                                                                                                                                                                       \n",
       "[35] \"--hwe: 22539 variants removed due to Hardy-Weinberg exact test (founders only).\"                                                                                                                                                                                                                                                                                                                                                                                                                                                                                                                                                                                                                                                                                                                                                                                                                                                                    \n",
       "[36] \"685839 variants removed due to allele frequency threshold(s)\"                                                                                                                                                                                                                                                                                                                                                                                                                                                                                                                                                                                                                                                                                                                                                                                                                                                                                       \n",
       "[37] \"(--maf/--max-maf/--mac/--max-mac).\"                                                                                                                                                                                                                                                                                                                                                                                                                                                                                                                                                                                                                                                                                                                                                                                                                                                                                                                 \n",
       "[38] \"1013287 variants remaining after main filters.\"                                                                                                                                                                                                                                                                                                                                                                                                                                                                                                                                                                                                                                                                                                                                                                                                                                                                                                     \n",
       "[39] \"--write-snplist: Variant IDs written to\"                                                                                                                                                                                                                                                                                                                                                                                                                                                                                                                                                                                                                                                                                                                                                                                                                                                                                                            \n",
       "[40] \"microarray/plink_v7.1/arrays_qc_afr_clean.snplist .\"                                                                                                                                                                                                                                                                                                                                                                                                                                                                                                                                                                                                                                                                                                                                                                                                                                                                                                \n",
       "[41] \"End time: Mon Jul  8 15:45:05 2024\"                                                                                                                                                                                                                                                                                                                                                                                                                                                                                                                                                                                                                                                                                                                                                                                                                                                                                                                 "
      ]
     },
     "metadata": {},
     "output_type": "display_data"
    }
   ],
   "source": [
    "system(paste0(\"plink2 --bfile \", arrays,\n",
    "             \" --keep \", afr_ids,\n",
    "             \" --chr 1-22, X\",\n",
    "             \" --maf 0.01 --mac 3 --geno 0.03 --hwe 1e-6 --mind 0.05\",\n",
    "             \" --write-snplist --write-samples --no-id-header\",\n",
    "             \" --out \", arrays_qc_afr), \n",
    "      intern=T)"
   ]
  },
  {
   "cell_type": "markdown",
   "metadata": {},
   "source": [
    "**Save lists of filtered ids and SNPs to my bucket:**"
   ]
  },
  {
   "cell_type": "code",
   "execution_count": 13,
   "metadata": {
    "execution": {
     "iopub.execute_input": "2024-07-08T15:45:06.445196Z",
     "iopub.status.busy": "2024-07-08T15:45:06.443706Z",
     "iopub.status.idle": "2024-07-08T15:45:50.790130Z",
     "shell.execute_reply": "2024-07-08T15:45:50.787541Z"
    }
   },
   "outputs": [
    {
     "data": {
      "text/html": [],
      "text/latex": [],
      "text/markdown": [],
      "text/plain": [
       "character(0)"
      ]
     },
     "metadata": {},
     "output_type": "display_data"
    },
    {
     "data": {
      "text/html": [],
      "text/latex": [],
      "text/markdown": [],
      "text/plain": [
       "character(0)"
      ]
     },
     "metadata": {},
     "output_type": "display_data"
    },
    {
     "data": {
      "text/html": [],
      "text/latex": [],
      "text/markdown": [],
      "text/plain": [
       "character(0)"
      ]
     },
     "metadata": {},
     "output_type": "display_data"
    },
    {
     "data": {
      "text/html": [
       "<style>\n",
       ".list-inline {list-style: none; margin:0; padding: 0}\n",
       ".list-inline>li {display: inline-block}\n",
       ".list-inline>li:not(:last-child)::after {content: \"\\00b7\"; padding: 0 .5ex}\n",
       "</style>\n",
       "<ol class=list-inline><li>'gs://fc-secure-0e4de6e0-e2d7-4267-949d-7b1ad758a53f/data/arrays/clean/all/arrays_qc_afr_clean.id'</li><li>'gs://fc-secure-0e4de6e0-e2d7-4267-949d-7b1ad758a53f/data/arrays/clean/all/arrays_qc_afr_clean.log'</li><li>'gs://fc-secure-0e4de6e0-e2d7-4267-949d-7b1ad758a53f/data/arrays/clean/all/arrays_qc_afr_clean.snplist'</li><li>'gs://fc-secure-0e4de6e0-e2d7-4267-949d-7b1ad758a53f/data/arrays/clean/all/arrays_qc_amr_clean.id'</li><li>'gs://fc-secure-0e4de6e0-e2d7-4267-949d-7b1ad758a53f/data/arrays/clean/all/arrays_qc_amr_clean.log'</li><li>'gs://fc-secure-0e4de6e0-e2d7-4267-949d-7b1ad758a53f/data/arrays/clean/all/arrays_qc_amr_clean.snplist'</li><li>'gs://fc-secure-0e4de6e0-e2d7-4267-949d-7b1ad758a53f/data/arrays/clean/all/arrays_qc_eur_clean.id'</li><li>'gs://fc-secure-0e4de6e0-e2d7-4267-949d-7b1ad758a53f/data/arrays/clean/all/arrays_qc_eur_clean.log'</li><li>'gs://fc-secure-0e4de6e0-e2d7-4267-949d-7b1ad758a53f/data/arrays/clean/all/arrays_qc_eur_clean.snplist'</li></ol>\n"
      ],
      "text/latex": [
       "\\begin{enumerate*}\n",
       "\\item 'gs://fc-secure-0e4de6e0-e2d7-4267-949d-7b1ad758a53f/data/arrays/clean/all/arrays\\_qc\\_afr\\_clean.id'\n",
       "\\item 'gs://fc-secure-0e4de6e0-e2d7-4267-949d-7b1ad758a53f/data/arrays/clean/all/arrays\\_qc\\_afr\\_clean.log'\n",
       "\\item 'gs://fc-secure-0e4de6e0-e2d7-4267-949d-7b1ad758a53f/data/arrays/clean/all/arrays\\_qc\\_afr\\_clean.snplist'\n",
       "\\item 'gs://fc-secure-0e4de6e0-e2d7-4267-949d-7b1ad758a53f/data/arrays/clean/all/arrays\\_qc\\_amr\\_clean.id'\n",
       "\\item 'gs://fc-secure-0e4de6e0-e2d7-4267-949d-7b1ad758a53f/data/arrays/clean/all/arrays\\_qc\\_amr\\_clean.log'\n",
       "\\item 'gs://fc-secure-0e4de6e0-e2d7-4267-949d-7b1ad758a53f/data/arrays/clean/all/arrays\\_qc\\_amr\\_clean.snplist'\n",
       "\\item 'gs://fc-secure-0e4de6e0-e2d7-4267-949d-7b1ad758a53f/data/arrays/clean/all/arrays\\_qc\\_eur\\_clean.id'\n",
       "\\item 'gs://fc-secure-0e4de6e0-e2d7-4267-949d-7b1ad758a53f/data/arrays/clean/all/arrays\\_qc\\_eur\\_clean.log'\n",
       "\\item 'gs://fc-secure-0e4de6e0-e2d7-4267-949d-7b1ad758a53f/data/arrays/clean/all/arrays\\_qc\\_eur\\_clean.snplist'\n",
       "\\end{enumerate*}\n"
      ],
      "text/markdown": [
       "1. 'gs://fc-secure-0e4de6e0-e2d7-4267-949d-7b1ad758a53f/data/arrays/clean/all/arrays_qc_afr_clean.id'\n",
       "2. 'gs://fc-secure-0e4de6e0-e2d7-4267-949d-7b1ad758a53f/data/arrays/clean/all/arrays_qc_afr_clean.log'\n",
       "3. 'gs://fc-secure-0e4de6e0-e2d7-4267-949d-7b1ad758a53f/data/arrays/clean/all/arrays_qc_afr_clean.snplist'\n",
       "4. 'gs://fc-secure-0e4de6e0-e2d7-4267-949d-7b1ad758a53f/data/arrays/clean/all/arrays_qc_amr_clean.id'\n",
       "5. 'gs://fc-secure-0e4de6e0-e2d7-4267-949d-7b1ad758a53f/data/arrays/clean/all/arrays_qc_amr_clean.log'\n",
       "6. 'gs://fc-secure-0e4de6e0-e2d7-4267-949d-7b1ad758a53f/data/arrays/clean/all/arrays_qc_amr_clean.snplist'\n",
       "7. 'gs://fc-secure-0e4de6e0-e2d7-4267-949d-7b1ad758a53f/data/arrays/clean/all/arrays_qc_eur_clean.id'\n",
       "8. 'gs://fc-secure-0e4de6e0-e2d7-4267-949d-7b1ad758a53f/data/arrays/clean/all/arrays_qc_eur_clean.log'\n",
       "9. 'gs://fc-secure-0e4de6e0-e2d7-4267-949d-7b1ad758a53f/data/arrays/clean/all/arrays_qc_eur_clean.snplist'\n",
       "\n",
       "\n"
      ],
      "text/plain": [
       "[1] \"gs://fc-secure-0e4de6e0-e2d7-4267-949d-7b1ad758a53f/data/arrays/clean/all/arrays_qc_afr_clean.id\"     \n",
       "[2] \"gs://fc-secure-0e4de6e0-e2d7-4267-949d-7b1ad758a53f/data/arrays/clean/all/arrays_qc_afr_clean.log\"    \n",
       "[3] \"gs://fc-secure-0e4de6e0-e2d7-4267-949d-7b1ad758a53f/data/arrays/clean/all/arrays_qc_afr_clean.snplist\"\n",
       "[4] \"gs://fc-secure-0e4de6e0-e2d7-4267-949d-7b1ad758a53f/data/arrays/clean/all/arrays_qc_amr_clean.id\"     \n",
       "[5] \"gs://fc-secure-0e4de6e0-e2d7-4267-949d-7b1ad758a53f/data/arrays/clean/all/arrays_qc_amr_clean.log\"    \n",
       "[6] \"gs://fc-secure-0e4de6e0-e2d7-4267-949d-7b1ad758a53f/data/arrays/clean/all/arrays_qc_amr_clean.snplist\"\n",
       "[7] \"gs://fc-secure-0e4de6e0-e2d7-4267-949d-7b1ad758a53f/data/arrays/clean/all/arrays_qc_eur_clean.id\"     \n",
       "[8] \"gs://fc-secure-0e4de6e0-e2d7-4267-949d-7b1ad758a53f/data/arrays/clean/all/arrays_qc_eur_clean.log\"    \n",
       "[9] \"gs://fc-secure-0e4de6e0-e2d7-4267-949d-7b1ad758a53f/data/arrays/clean/all/arrays_qc_eur_clean.snplist\""
      ]
     },
     "metadata": {},
     "output_type": "display_data"
    }
   ],
   "source": [
    "system(paste0(\"gsutil cp ./\", arrays_qc_eur, \".*\", \" \", my_bucket, \"/data/arrays/clean/all/\"), intern=T)\n",
    "system(paste0(\"gsutil cp ./\", arrays_qc_afr, \".*\", \" \", my_bucket, \"/data/arrays/clean/all/\"), intern=T)\n",
    "system(paste0(\"gsutil cp ./\", arrays_qc_amr, \".*\", \" \", my_bucket, \"/data/arrays/clean/all/\"), intern=T)\n",
    "# check\n",
    "system(paste0(\"gsutil ls \", my_bucket, \"/data/arrays/clean/all\"), intern=T)"
   ]
  },
  {
   "cell_type": "code",
   "execution_count": 14,
   "metadata": {
    "execution": {
     "iopub.execute_input": "2024-07-08T15:45:50.804772Z",
     "iopub.status.busy": "2024-07-08T15:45:50.803363Z",
     "iopub.status.idle": "2024-07-08T15:45:58.770182Z",
     "shell.execute_reply": "2024-07-08T15:45:58.767691Z"
    }
   },
   "outputs": [
    {
     "data": {
      "text/html": [],
      "text/latex": [],
      "text/markdown": [],
      "text/plain": [
       "character(0)"
      ]
     },
     "metadata": {},
     "output_type": "display_data"
    },
    {
     "data": {
      "text/html": [],
      "text/latex": [],
      "text/markdown": [],
      "text/plain": [
       "character(0)"
      ]
     },
     "metadata": {},
     "output_type": "display_data"
    },
    {
     "data": {
      "text/html": [
       "<style>\n",
       ".list-inline {list-style: none; margin:0; padding: 0}\n",
       ".list-inline>li {display: inline-block}\n",
       ".list-inline>li:not(:last-child)::after {content: \"\\00b7\"; padding: 0 .5ex}\n",
       "</style>\n",
       "<ol class=list-inline><li>'gs://fc-secure-0e4de6e0-e2d7-4267-949d-7b1ad758a53f/data/arrays/clean/all/arrays_qc_afr_clean.id'</li><li>'gs://fc-secure-0e4de6e0-e2d7-4267-949d-7b1ad758a53f/data/arrays/clean/all/arrays_qc_afr_clean.snplist'</li><li>'gs://fc-secure-0e4de6e0-e2d7-4267-949d-7b1ad758a53f/data/arrays/clean/all/arrays_qc_amr_clean.id'</li><li>'gs://fc-secure-0e4de6e0-e2d7-4267-949d-7b1ad758a53f/data/arrays/clean/all/arrays_qc_amr_clean.snplist'</li><li>'gs://fc-secure-0e4de6e0-e2d7-4267-949d-7b1ad758a53f/data/arrays/clean/all/arrays_qc_eur_clean.id'</li><li>'gs://fc-secure-0e4de6e0-e2d7-4267-949d-7b1ad758a53f/data/arrays/clean/all/arrays_qc_eur_clean.snplist'</li><li>'gs://fc-secure-0e4de6e0-e2d7-4267-949d-7b1ad758a53f/data/arrays/clean/all/logs/'</li></ol>\n"
      ],
      "text/latex": [
       "\\begin{enumerate*}\n",
       "\\item 'gs://fc-secure-0e4de6e0-e2d7-4267-949d-7b1ad758a53f/data/arrays/clean/all/arrays\\_qc\\_afr\\_clean.id'\n",
       "\\item 'gs://fc-secure-0e4de6e0-e2d7-4267-949d-7b1ad758a53f/data/arrays/clean/all/arrays\\_qc\\_afr\\_clean.snplist'\n",
       "\\item 'gs://fc-secure-0e4de6e0-e2d7-4267-949d-7b1ad758a53f/data/arrays/clean/all/arrays\\_qc\\_amr\\_clean.id'\n",
       "\\item 'gs://fc-secure-0e4de6e0-e2d7-4267-949d-7b1ad758a53f/data/arrays/clean/all/arrays\\_qc\\_amr\\_clean.snplist'\n",
       "\\item 'gs://fc-secure-0e4de6e0-e2d7-4267-949d-7b1ad758a53f/data/arrays/clean/all/arrays\\_qc\\_eur\\_clean.id'\n",
       "\\item 'gs://fc-secure-0e4de6e0-e2d7-4267-949d-7b1ad758a53f/data/arrays/clean/all/arrays\\_qc\\_eur\\_clean.snplist'\n",
       "\\item 'gs://fc-secure-0e4de6e0-e2d7-4267-949d-7b1ad758a53f/data/arrays/clean/all/logs/'\n",
       "\\end{enumerate*}\n"
      ],
      "text/markdown": [
       "1. 'gs://fc-secure-0e4de6e0-e2d7-4267-949d-7b1ad758a53f/data/arrays/clean/all/arrays_qc_afr_clean.id'\n",
       "2. 'gs://fc-secure-0e4de6e0-e2d7-4267-949d-7b1ad758a53f/data/arrays/clean/all/arrays_qc_afr_clean.snplist'\n",
       "3. 'gs://fc-secure-0e4de6e0-e2d7-4267-949d-7b1ad758a53f/data/arrays/clean/all/arrays_qc_amr_clean.id'\n",
       "4. 'gs://fc-secure-0e4de6e0-e2d7-4267-949d-7b1ad758a53f/data/arrays/clean/all/arrays_qc_amr_clean.snplist'\n",
       "5. 'gs://fc-secure-0e4de6e0-e2d7-4267-949d-7b1ad758a53f/data/arrays/clean/all/arrays_qc_eur_clean.id'\n",
       "6. 'gs://fc-secure-0e4de6e0-e2d7-4267-949d-7b1ad758a53f/data/arrays/clean/all/arrays_qc_eur_clean.snplist'\n",
       "7. 'gs://fc-secure-0e4de6e0-e2d7-4267-949d-7b1ad758a53f/data/arrays/clean/all/logs/'\n",
       "\n",
       "\n"
      ],
      "text/plain": [
       "[1] \"gs://fc-secure-0e4de6e0-e2d7-4267-949d-7b1ad758a53f/data/arrays/clean/all/arrays_qc_afr_clean.id\"     \n",
       "[2] \"gs://fc-secure-0e4de6e0-e2d7-4267-949d-7b1ad758a53f/data/arrays/clean/all/arrays_qc_afr_clean.snplist\"\n",
       "[3] \"gs://fc-secure-0e4de6e0-e2d7-4267-949d-7b1ad758a53f/data/arrays/clean/all/arrays_qc_amr_clean.id\"     \n",
       "[4] \"gs://fc-secure-0e4de6e0-e2d7-4267-949d-7b1ad758a53f/data/arrays/clean/all/arrays_qc_amr_clean.snplist\"\n",
       "[5] \"gs://fc-secure-0e4de6e0-e2d7-4267-949d-7b1ad758a53f/data/arrays/clean/all/arrays_qc_eur_clean.id\"     \n",
       "[6] \"gs://fc-secure-0e4de6e0-e2d7-4267-949d-7b1ad758a53f/data/arrays/clean/all/arrays_qc_eur_clean.snplist\"\n",
       "[7] \"gs://fc-secure-0e4de6e0-e2d7-4267-949d-7b1ad758a53f/data/arrays/clean/all/logs/\"                      "
      ]
     },
     "metadata": {},
     "output_type": "display_data"
    },
    {
     "data": {
      "text/html": [
       "<style>\n",
       ".list-inline {list-style: none; margin:0; padding: 0}\n",
       ".list-inline>li {display: inline-block}\n",
       ".list-inline>li:not(:last-child)::after {content: \"\\00b7\"; padding: 0 .5ex}\n",
       "</style>\n",
       "<ol class=list-inline><li>'gs://fc-secure-0e4de6e0-e2d7-4267-949d-7b1ad758a53f/data/arrays/clean/all/logs/arrays_qc_afr_clean.log'</li><li>'gs://fc-secure-0e4de6e0-e2d7-4267-949d-7b1ad758a53f/data/arrays/clean/all/logs/arrays_qc_amr_clean.log'</li><li>'gs://fc-secure-0e4de6e0-e2d7-4267-949d-7b1ad758a53f/data/arrays/clean/all/logs/arrays_qc_eur_clean.log'</li></ol>\n"
      ],
      "text/latex": [
       "\\begin{enumerate*}\n",
       "\\item 'gs://fc-secure-0e4de6e0-e2d7-4267-949d-7b1ad758a53f/data/arrays/clean/all/logs/arrays\\_qc\\_afr\\_clean.log'\n",
       "\\item 'gs://fc-secure-0e4de6e0-e2d7-4267-949d-7b1ad758a53f/data/arrays/clean/all/logs/arrays\\_qc\\_amr\\_clean.log'\n",
       "\\item 'gs://fc-secure-0e4de6e0-e2d7-4267-949d-7b1ad758a53f/data/arrays/clean/all/logs/arrays\\_qc\\_eur\\_clean.log'\n",
       "\\end{enumerate*}\n"
      ],
      "text/markdown": [
       "1. 'gs://fc-secure-0e4de6e0-e2d7-4267-949d-7b1ad758a53f/data/arrays/clean/all/logs/arrays_qc_afr_clean.log'\n",
       "2. 'gs://fc-secure-0e4de6e0-e2d7-4267-949d-7b1ad758a53f/data/arrays/clean/all/logs/arrays_qc_amr_clean.log'\n",
       "3. 'gs://fc-secure-0e4de6e0-e2d7-4267-949d-7b1ad758a53f/data/arrays/clean/all/logs/arrays_qc_eur_clean.log'\n",
       "\n",
       "\n"
      ],
      "text/plain": [
       "[1] \"gs://fc-secure-0e4de6e0-e2d7-4267-949d-7b1ad758a53f/data/arrays/clean/all/logs/arrays_qc_afr_clean.log\"\n",
       "[2] \"gs://fc-secure-0e4de6e0-e2d7-4267-949d-7b1ad758a53f/data/arrays/clean/all/logs/arrays_qc_amr_clean.log\"\n",
       "[3] \"gs://fc-secure-0e4de6e0-e2d7-4267-949d-7b1ad758a53f/data/arrays/clean/all/logs/arrays_qc_eur_clean.log\""
      ]
     },
     "metadata": {},
     "output_type": "display_data"
    }
   ],
   "source": [
    "# cleanup in bucket\n",
    "system(paste0(\"gsutil cp \", my_bucket, \"/data/arrays/clean/all/*.log\", \" \", my_bucket, \"/data/arrays/clean/all/logs\"), intern=T)\n",
    "system(paste0(\"gsutil rm \", my_bucket, \"/data/arrays/clean/all/*.log\", \" \"), intern=T)\n",
    "\n",
    "system(paste0(\"gsutil ls \", my_bucket, \"/data/arrays/clean/all/\"), intern=T)\n",
    "system(paste0(\"gsutil ls \", my_bucket, \"/data/arrays/clean/all/logs\"), intern=T)"
   ]
  },
  {
   "cell_type": "markdown",
   "metadata": {},
   "source": [
    "**Relatedness files:** <br>\n",
    "see: https://support.researchallofus.org/hc/en-us/articles/4614687617556-How-the-All-of-Us-Genomic-data-are-organized#h_01GY7QXB7GGQNXMVMBZTYHMP1R"
   ]
  },
  {
   "cell_type": "code",
   "execution_count": 15,
   "metadata": {
    "execution": {
     "iopub.execute_input": "2024-07-08T15:45:58.777544Z",
     "iopub.status.busy": "2024-07-08T15:45:58.776198Z",
     "iopub.status.idle": "2024-07-08T15:45:58.788291Z",
     "shell.execute_reply": "2024-07-08T15:45:58.786635Z"
    }
   },
   "outputs": [],
   "source": [
    "# system(\"mkdir ./relatedness\", intern=T)\n",
    "# system(paste0(\"gsutil -u \", GOOGLE_PROJECT, \" -m cp gs://fc-aou-datasets-controlled/v7/wgs/short_read/snpindel/aux/relatedness/* ./relatedness\"), intern=T)"
   ]
  },
  {
   "cell_type": "code",
   "execution_count": 16,
   "metadata": {
    "code_folding": [],
    "execution": {
     "iopub.execute_input": "2024-07-08T15:45:58.794772Z",
     "iopub.status.busy": "2024-07-08T15:45:58.793368Z",
     "iopub.status.idle": "2024-07-08T15:45:58.809702Z",
     "shell.execute_reply": "2024-07-08T15:45:58.808061Z"
    }
   },
   "outputs": [],
   "source": [
    "# ## flagged related samples to remove \n",
    "# rel_to_remove <- fread(\"relatedness/relatedness_flagged_samples.tsv\")\n",
    "# nrow(rel_to_remove)\n",
    "# # relatedness of pairs with a kinship score over 0.1\n",
    "# rel <- fread(\"relatedness/relatedness.tsv\")"
   ]
  },
  {
   "cell_type": "markdown",
   "metadata": {},
   "source": [
    "**Flagged samples:** <br>\n",
    "\"549 (0.22%) samples are flagged as outliers. These samples are not necessarily problematic, because they could represent computed ancestries (or admixtures) that are not well represented in our participant pool.\" see: \"01_Get Started with WGS Data.ipyp\""
   ]
  },
  {
   "cell_type": "code",
   "execution_count": 17,
   "metadata": {
    "execution": {
     "iopub.execute_input": "2024-07-08T15:45:58.816043Z",
     "iopub.status.busy": "2024-07-08T15:45:58.814734Z",
     "iopub.status.idle": "2024-07-08T15:45:58.826187Z",
     "shell.execute_reply": "2024-07-08T15:45:58.824509Z"
    }
   },
   "outputs": [],
   "source": [
    "#system(\"mkdir ./qc\", intern=T)\n",
    "#system(paste0(\"gsutil -u \", GOOGLE_PROJECT, \" -m cp gs://fc-aou-datasets-controlled/v7/wgs/short_read/snpindel/aux/qc/flagged_samples.tsv ./qc/\"), intern=T)\n",
    "#flagged <- fread(\"qc/flagged_samples.tsv\")\n",
    "#flagged"
   ]
  }
 ],
 "metadata": {
  "kernelspec": {
   "display_name": "R",
   "language": "R",
   "name": "ir"
  },
  "language_info": {
   "codemirror_mode": "r",
   "file_extension": ".r",
   "mimetype": "text/x-r-source",
   "name": "R",
   "pygments_lexer": "r",
   "version": "4.4.0"
  },
  "toc": {
   "base_numbering": 1,
   "nav_menu": {},
   "number_sections": true,
   "sideBar": true,
   "skip_h1_title": false,
   "title_cell": "Table of Contents",
   "title_sidebar": "Contents",
   "toc_cell": false,
   "toc_position": {},
   "toc_section_display": true,
   "toc_window_display": false
  }
 },
 "nbformat": 4,
 "nbformat_minor": 2
}
