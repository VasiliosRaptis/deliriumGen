{
 "cells": [
  {
   "cell_type": "markdown",
   "metadata": {},
   "source": [
    "**AUTHOR:** <br>\n",
    "Vasilis Raptis\n",
    "\n",
    "**DATE:** <br>\n",
    "09.07.2024 \n",
    "\n",
    "**PURPOSE:** <br>\n",
    "This notebook: \n",
    "- updates regenie and pheno files necessary for regenie step2 while using ***.bgen*** files. Array genotypes have FID==0, while srWGS .bgen files have FID==IID.\n",
    "\n",
    "**NOTES:** <br>\n",
    "- originally created in 03_part2b_run_regenie_step2_clinvar notebook\n"
   ]
  },
  {
   "cell_type": "markdown",
   "metadata": {},
   "source": [
    "**Setup:**"
   ]
  },
  {
   "cell_type": "code",
   "execution_count": 26,
   "metadata": {},
   "outputs": [],
   "source": [
    "# libraries\n",
    "library(data.table)\n",
    "library(tidyverse)\n",
    "\n",
    "## Get my bucket name\n",
    "my_bucket  <- Sys.getenv(\"WORKSPACE_BUCKET\")\n",
    "## Google project name\n",
    "GOOGLE_PROJECT <- Sys.getenv(\"GOOGLE_PROJECT\")"
   ]
  },
  {
   "cell_type": "markdown",
   "metadata": {},
   "source": [
    "**Update .id files:** "
   ]
  },
  {
   "cell_type": "code",
   "execution_count": 31,
   "metadata": {},
   "outputs": [
    {
     "data": {
      "text/html": [],
      "text/latex": [],
      "text/markdown": [],
      "text/plain": [
       "character(0)"
      ]
     },
     "metadata": {},
     "output_type": "display_data"
    },
    {
     "data": {
      "text/html": [],
      "text/latex": [],
      "text/markdown": [],
      "text/plain": [
       "character(0)"
      ]
     },
     "metadata": {},
     "output_type": "display_data"
    },
    {
     "data": {
      "text/html": [],
      "text/latex": [],
      "text/markdown": [],
      "text/plain": [
       "character(0)"
      ]
     },
     "metadata": {},
     "output_type": "display_data"
    },
    {
     "data": {
      "text/html": [],
      "text/latex": [],
      "text/markdown": [],
      "text/plain": [
       "character(0)"
      ]
     },
     "metadata": {},
     "output_type": "display_data"
    },
    {
     "data": {
      "text/html": [
       "<style>\n",
       ".list-inline {list-style: none; margin:0; padding: 0}\n",
       ".list-inline>li {display: inline-block}\n",
       ".list-inline>li:not(:last-child)::after {content: \"\\00b7\"; padding: 0 .5ex}\n",
       "</style>\n",
       "<ol class=list-inline><li>'./files_for_bgen_step2/afr_pheno_clean_for_bgen.txt'</li><li>'./files_for_bgen_step2/amr_pheno_clean_for_bgen.txt'</li><li>'./files_for_bgen_step2/amr_pheno_for_bgen.txt'</li><li>'./files_for_bgen_step2/arrays_qc_afr_clean_for_bgen.id'</li><li>'./files_for_bgen_step2/arrays_qc_amr_clean_for_bgen.id'</li><li>'./files_for_bgen_step2/arrays_qc_eur_clean_for_bgen.id'</li><li>'./files_for_bgen_step2/del_afr_clean_step1_1.loco'</li><li>'./files_for_bgen_step2/del_amr_clean_step1_1.loco'</li><li>'./files_for_bgen_step2/del_amr_clean_step1_pred.list'</li><li>'./files_for_bgen_step2/del_eur_clean_step1_1.loco'</li><li>'./files_for_bgen_step2/del_eur_clean_step1_pred.list'</li><li>'./files_for_bgen_step2/eur_pheno_clean_for_bgen.txt'</li></ol>\n"
      ],
      "text/latex": [
       "\\begin{enumerate*}\n",
       "\\item './files\\_for\\_bgen\\_step2/afr\\_pheno\\_clean\\_for\\_bgen.txt'\n",
       "\\item './files\\_for\\_bgen\\_step2/amr\\_pheno\\_clean\\_for\\_bgen.txt'\n",
       "\\item './files\\_for\\_bgen\\_step2/amr\\_pheno\\_for\\_bgen.txt'\n",
       "\\item './files\\_for\\_bgen\\_step2/arrays\\_qc\\_afr\\_clean\\_for\\_bgen.id'\n",
       "\\item './files\\_for\\_bgen\\_step2/arrays\\_qc\\_amr\\_clean\\_for\\_bgen.id'\n",
       "\\item './files\\_for\\_bgen\\_step2/arrays\\_qc\\_eur\\_clean\\_for\\_bgen.id'\n",
       "\\item './files\\_for\\_bgen\\_step2/del\\_afr\\_clean\\_step1\\_1.loco'\n",
       "\\item './files\\_for\\_bgen\\_step2/del\\_amr\\_clean\\_step1\\_1.loco'\n",
       "\\item './files\\_for\\_bgen\\_step2/del\\_amr\\_clean\\_step1\\_pred.list'\n",
       "\\item './files\\_for\\_bgen\\_step2/del\\_eur\\_clean\\_step1\\_1.loco'\n",
       "\\item './files\\_for\\_bgen\\_step2/del\\_eur\\_clean\\_step1\\_pred.list'\n",
       "\\item './files\\_for\\_bgen\\_step2/eur\\_pheno\\_clean\\_for\\_bgen.txt'\n",
       "\\end{enumerate*}\n"
      ],
      "text/markdown": [
       "1. './files_for_bgen_step2/afr_pheno_clean_for_bgen.txt'\n",
       "2. './files_for_bgen_step2/amr_pheno_clean_for_bgen.txt'\n",
       "3. './files_for_bgen_step2/amr_pheno_for_bgen.txt'\n",
       "4. './files_for_bgen_step2/arrays_qc_afr_clean_for_bgen.id'\n",
       "5. './files_for_bgen_step2/arrays_qc_amr_clean_for_bgen.id'\n",
       "6. './files_for_bgen_step2/arrays_qc_eur_clean_for_bgen.id'\n",
       "7. './files_for_bgen_step2/del_afr_clean_step1_1.loco'\n",
       "8. './files_for_bgen_step2/del_amr_clean_step1_1.loco'\n",
       "9. './files_for_bgen_step2/del_amr_clean_step1_pred.list'\n",
       "10. './files_for_bgen_step2/del_eur_clean_step1_1.loco'\n",
       "11. './files_for_bgen_step2/del_eur_clean_step1_pred.list'\n",
       "12. './files_for_bgen_step2/eur_pheno_clean_for_bgen.txt'\n",
       "\n",
       "\n"
      ],
      "text/plain": [
       " [1] \"./files_for_bgen_step2/afr_pheno_clean_for_bgen.txt\"   \n",
       " [2] \"./files_for_bgen_step2/amr_pheno_clean_for_bgen.txt\"   \n",
       " [3] \"./files_for_bgen_step2/amr_pheno_for_bgen.txt\"         \n",
       " [4] \"./files_for_bgen_step2/arrays_qc_afr_clean_for_bgen.id\"\n",
       " [5] \"./files_for_bgen_step2/arrays_qc_amr_clean_for_bgen.id\"\n",
       " [6] \"./files_for_bgen_step2/arrays_qc_eur_clean_for_bgen.id\"\n",
       " [7] \"./files_for_bgen_step2/del_afr_clean_step1_1.loco\"     \n",
       " [8] \"./files_for_bgen_step2/del_amr_clean_step1_1.loco\"     \n",
       " [9] \"./files_for_bgen_step2/del_amr_clean_step1_pred.list\"  \n",
       "[10] \"./files_for_bgen_step2/del_eur_clean_step1_1.loco\"     \n",
       "[11] \"./files_for_bgen_step2/del_eur_clean_step1_pred.list\"  \n",
       "[12] \"./files_for_bgen_step2/eur_pheno_clean_for_bgen.txt\"   "
      ]
     },
     "metadata": {},
     "output_type": "display_data"
    }
   ],
   "source": [
    "# change FID column to be the same as IID column, to match the .sample files\n",
    "system(\"mkdir -p ./files_for_bgen_step2\", intern=T)\n",
    "\n",
    "system(paste0(\"awk '{print $2,$2}' microarray/plink_v7.1/arrays_qc_afr_clean.id > \", \"files_for_bgen_step2/arrays_qc_afr_clean_for_bgen.id\"), intern=T)\n",
    "system(paste0(\"awk '{print $2,$2}' microarray/plink_v7.1/arrays_qc_amr_clean.id > \", \"files_for_bgen_step2/arrays_qc_amr_clean_for_bgen.id\"), intern=T)\n",
    "system(paste0(\"awk '{print $2,$2}' microarray/plink_v7.1/arrays_qc_eur_clean.id > \", \"files_for_bgen_step2/arrays_qc_eur_clean_for_bgen.id\"), intern=T)\n",
    "\n",
    "system(\"ls ./files_for_bgen_step2/*\", intern=T)"
   ]
  },
  {
   "cell_type": "markdown",
   "metadata": {},
   "source": [
    "**Update .pheno files:**"
   ]
  },
  {
   "cell_type": "code",
   "execution_count": 32,
   "metadata": {
    "code_folding": [
     10
    ]
   },
   "outputs": [],
   "source": [
    "# change FID column to be the same as IID column, to match the .sample files\n",
    "\n",
    "eur_pheno <- fread(\"pheno/eur_pheno_clean.txt\") %>% mutate(FID = IID)\n",
    "write.table(eur_pheno, \"files_for_bgen_step2/eur_pheno_clean_for_bgen.txt\", sep=\" \", row.names=F, col.names=T, quote=F)\n",
    "\n",
    "afr_pheno <- fread(\"pheno/afr_pheno_clean.txt\") %>% mutate(FID = IID)\n",
    "write.table(afr_pheno, \"files_for_bgen_step2/afr_pheno_clean_for_bgen.txt\", sep=\" \", row.names=F, col.names=T, quote=F)\n",
    "\n",
    "amr_pheno <- fread(\"pheno/amr_pheno_clean.txt\") %>% mutate(FID = IID)\n",
    "write.table(amr_pheno, \"files_for_bgen_step2/amr_pheno_clean_for_bgen.txt\", sep=\" \", row.names=F, col.names=T, quote=F)\n"
   ]
  },
  {
   "cell_type": "markdown",
   "metadata": {},
   "source": [
    "**Update step1 output files:**"
   ]
  },
  {
   "cell_type": "code",
   "execution_count": 33,
   "metadata": {},
   "outputs": [],
   "source": [
    "## change header in .loco files (FID_IID)\n",
    "# eur\n",
    "eur_loco  <- fread(\"regenie_out/step1/del_eur_clean_step1_1.loco\")\n",
    "old_names <- names(eur_loco)[-c(1)] \n",
    "new_names <- str_remove(old_names, \"0_\" ) %>% paste0(. ,\"_\", .)\n",
    "names(eur_loco)[-c(1)] <- new_names\n",
    "write.table(eur_loco, \"files_for_bgen_step2/del_eur_clean_step1_1.loco\", sep=\" \", row.names=F, col.names=T, quote=F)\n",
    "\n",
    "# afr\n",
    "afr_loco  <- fread(\"regenie_out/step1/del_afr_clean_step1_1.loco\")\n",
    "old_names <- names(afr_loco)[-c(1)] \n",
    "new_names <- str_remove(old_names, \"0_\" ) %>% paste0(. ,\"_\", .)\n",
    "names(afr_loco)[-c(1)] <- new_names\n",
    "write.table(afr_loco, \"files_for_bgen_step2/del_afr_clean_step1_1.loco\", sep=\" \", row.names=F, col.names=T, quote=F)\n",
    "\n",
    "# amr\n",
    "amr_loco  <- fread(\"regenie_out/step1/del_amr_clean_step1_1.loco\")\n",
    "old_names <- names(amr_loco)[-c(1)] \n",
    "new_names <- str_remove(old_names, \"0_\" ) %>% paste0(. ,\"_\", .)\n",
    "names(amr_loco)[-c(1)] <- new_names\n",
    "write.table(amr_loco, \"files_for_bgen_step2/del_amr_clean_step1_1.loco\", sep=\" \", row.names=F, col.names=T, quote=F)\n",
    "\n"
   ]
  },
  {
   "cell_type": "code",
   "execution_count": 23,
   "metadata": {},
   "outputs": [],
   "source": [
    "## change pred.list files\n",
    "\n",
    "####### NOTE\n",
    "# not needed, will create new files to run with dsub, see 00_GWAS_pipeline_03.3_regenie_step2_ACAF_srWGS notebook\n",
    "#######\n",
    "\n",
    "# eur\n",
    "# eur_pred <- fread(\"regenie_out/step1/del_eur_clean_step1_pred.list\", header =F)\n",
    "# eur_pred$V2 <- paste0(\"/home/jupyter/workspaces/geneticriskfactorsfordelirium/\",\"files_for_bgen_step2/del_eur_clean_step1_1.loco\")\n",
    "# write.table(eur_pred, \"files_for_bgen_step2/del_eur_clean_step1_pred.list\", sep=\" \", row.names=F, col.names=F, quote=F)\n",
    "\n",
    "# afr \n",
    "# afr_pred <- fread(\"regenie_out/step1/del_afr_clean_step1_pred.list\", header =F)\n",
    "# afr_pred$V2 <- paste0(\"/home/jupyter/workspaces/geneticriskfactorsfordelirium/\",\"files_for_bgen_step2/del_afr_clean_step1_1.loco\")\n",
    "# write.table(afr_pred, \"files_for_bgen_step2/del_afr_clean_step1_pred.list\", sep=\" \", row.names=F, col.names=F, quote=F)\n",
    "\n",
    "# amr\n",
    "# amr_pred <- fread(\"regenie_out/step1/del_amr_clean_step1_pred.list\", header =F)\n",
    "# amr_pred$V2 <- paste0(\"/home/jupyter/workspaces/geneticriskfactorsfordelirium/\",\"files_for_bgen_step2/del_amr_clean_step1_1.loco\")\n",
    "# write.table(amr_pred, \"files_for_bgen_step2/del_amr_clean_step1_pred.list\", sep=\" \", row.names=F, col.names=F, quote=F)\n"
   ]
  },
  {
   "cell_type": "markdown",
   "metadata": {},
   "source": [
    "**Save to bucket:**"
   ]
  },
  {
   "cell_type": "code",
   "execution_count": 34,
   "metadata": {},
   "outputs": [
    {
     "data": {
      "text/html": [],
      "text/latex": [],
      "text/markdown": [],
      "text/plain": [
       "character(0)"
      ]
     },
     "metadata": {},
     "output_type": "display_data"
    }
   ],
   "source": [
    "system(paste0(\"gsutil cp files_for_bgen_step2/* \", my_bucket, \"/data/files_for_bgen_step2_all\"), intern=T)\n"
   ]
  }
 ],
 "metadata": {
  "kernelspec": {
   "display_name": "R",
   "language": "R",
   "name": "ir"
  },
  "language_info": {
   "codemirror_mode": "r",
   "file_extension": ".r",
   "mimetype": "text/x-r-source",
   "name": "R",
   "pygments_lexer": "r",
   "version": "4.4.0"
  },
  "toc": {
   "base_numbering": 1,
   "nav_menu": {},
   "number_sections": true,
   "sideBar": true,
   "skip_h1_title": false,
   "title_cell": "Table of Contents",
   "title_sidebar": "Contents",
   "toc_cell": false,
   "toc_position": {},
   "toc_section_display": true,
   "toc_window_display": false
  }
 },
 "nbformat": 4,
 "nbformat_minor": 2
}
