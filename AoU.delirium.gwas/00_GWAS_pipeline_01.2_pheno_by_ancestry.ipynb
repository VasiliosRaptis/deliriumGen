{
 "cells": [
  {
   "cell_type": "markdown",
   "metadata": {},
   "source": [
    "**AUTHOR:** <br>\n",
    "Vasilis Raptis\n",
    "\n",
    "**DATE:** <br>\n",
    "20.05.2024 \n",
    "\n",
    "**PURPOSE:** <br>\n",
    "This notebook: \n",
    "- makes summary tables by ancestry.\n",
    "- creates clean phenotype & and covariate files ready for plink & regenie, splitted by genetic ancestry.\n",
    "- create {ancestry}_ids.csv files to use with plink2 --keep -> two columns; no header: FID==0,IID==person_id\n",
    "\n",
    "**NOTES:** <br>\n",
    "- covariates: age, sex, PCs1-10.\n",
    "- pheno/covariate files are space separated (.txt)\n",
    "- FID == 0 for the microarray data\n",
    "- We will use only EUR, AMR & AFR ancestries, as they have adequate (>100) delirium cases.\n",
    "- This notebook needs to be run once, as it saves the phenotype/covariates files to the bucket. After this, just load the *\"{my_bucket}/data/###\"* file into the workspace.\n",
    "- **UPDATE 03.06.2024:** Use the *\"{my_bucket}/data/full_pheno_clean_del_df.csv\"* file (see 01_part1_pheno_preprocessing.ipynb) & and save updated output files to: {my_bucket}/data/pheno/clean/*_clean.txt\n",
    "- **UPDATE 07.10.2024:** make discriptive statistics table for puplication (ST1) + add dementia / AD stats"
   ]
  },
  {
   "cell_type": "markdown",
   "metadata": {},
   "source": [
    "**Setup:**"
   ]
  },
  {
   "cell_type": "code",
   "execution_count": 1,
   "metadata": {},
   "outputs": [
    {
     "name": "stderr",
     "output_type": "stream",
     "text": [
      "── \u001b[1mAttaching core tidyverse packages\u001b[22m ──────────────────────── tidyverse 2.0.0 ──\n",
      "\u001b[32m✔\u001b[39m \u001b[34mdplyr    \u001b[39m 1.1.4     \u001b[32m✔\u001b[39m \u001b[34mreadr    \u001b[39m 2.1.5\n",
      "\u001b[32m✔\u001b[39m \u001b[34mforcats  \u001b[39m 1.0.0     \u001b[32m✔\u001b[39m \u001b[34mstringr  \u001b[39m 1.5.1\n",
      "\u001b[32m✔\u001b[39m \u001b[34mggplot2  \u001b[39m 3.5.1     \u001b[32m✔\u001b[39m \u001b[34mtibble   \u001b[39m 3.2.1\n",
      "\u001b[32m✔\u001b[39m \u001b[34mlubridate\u001b[39m 1.9.3     \u001b[32m✔\u001b[39m \u001b[34mtidyr    \u001b[39m 1.3.1\n",
      "\u001b[32m✔\u001b[39m \u001b[34mpurrr    \u001b[39m 1.0.2     \n",
      "── \u001b[1mConflicts\u001b[22m ────────────────────────────────────────── tidyverse_conflicts() ──\n",
      "\u001b[31m✖\u001b[39m \u001b[34mdplyr\u001b[39m::\u001b[32mbetween()\u001b[39m     masks \u001b[34mdata.table\u001b[39m::between()\n",
      "\u001b[31m✖\u001b[39m \u001b[34mdplyr\u001b[39m::\u001b[32mfilter()\u001b[39m      masks \u001b[34mstats\u001b[39m::filter()\n",
      "\u001b[31m✖\u001b[39m \u001b[34mdplyr\u001b[39m::\u001b[32mfirst()\u001b[39m       masks \u001b[34mdata.table\u001b[39m::first()\n",
      "\u001b[31m✖\u001b[39m \u001b[34mlubridate\u001b[39m::\u001b[32mhour()\u001b[39m    masks \u001b[34mdata.table\u001b[39m::hour()\n",
      "\u001b[31m✖\u001b[39m \u001b[34mlubridate\u001b[39m::\u001b[32misoweek()\u001b[39m masks \u001b[34mdata.table\u001b[39m::isoweek()\n",
      "\u001b[31m✖\u001b[39m \u001b[34mdplyr\u001b[39m::\u001b[32mlag()\u001b[39m         masks \u001b[34mstats\u001b[39m::lag()\n",
      "\u001b[31m✖\u001b[39m \u001b[34mdplyr\u001b[39m::\u001b[32mlast()\u001b[39m        masks \u001b[34mdata.table\u001b[39m::last()\n",
      "\u001b[31m✖\u001b[39m \u001b[34mlubridate\u001b[39m::\u001b[32mmday()\u001b[39m    masks \u001b[34mdata.table\u001b[39m::mday()\n",
      "\u001b[31m✖\u001b[39m \u001b[34mlubridate\u001b[39m::\u001b[32mminute()\u001b[39m  masks \u001b[34mdata.table\u001b[39m::minute()\n",
      "\u001b[31m✖\u001b[39m \u001b[34mlubridate\u001b[39m::\u001b[32mmonth()\u001b[39m   masks \u001b[34mdata.table\u001b[39m::month()\n",
      "\u001b[31m✖\u001b[39m \u001b[34mlubridate\u001b[39m::\u001b[32mquarter()\u001b[39m masks \u001b[34mdata.table\u001b[39m::quarter()\n",
      "\u001b[31m✖\u001b[39m \u001b[34mlubridate\u001b[39m::\u001b[32msecond()\u001b[39m  masks \u001b[34mdata.table\u001b[39m::second()\n",
      "\u001b[31m✖\u001b[39m \u001b[34mpurrr\u001b[39m::\u001b[32mtranspose()\u001b[39m   masks \u001b[34mdata.table\u001b[39m::transpose()\n",
      "\u001b[31m✖\u001b[39m \u001b[34mlubridate\u001b[39m::\u001b[32mwday()\u001b[39m    masks \u001b[34mdata.table\u001b[39m::wday()\n",
      "\u001b[31m✖\u001b[39m \u001b[34mlubridate\u001b[39m::\u001b[32mweek()\u001b[39m    masks \u001b[34mdata.table\u001b[39m::week()\n",
      "\u001b[31m✖\u001b[39m \u001b[34mlubridate\u001b[39m::\u001b[32myday()\u001b[39m    masks \u001b[34mdata.table\u001b[39m::yday()\n",
      "\u001b[31m✖\u001b[39m \u001b[34mlubridate\u001b[39m::\u001b[32myear()\u001b[39m    masks \u001b[34mdata.table\u001b[39m::year()\n",
      "\u001b[36mℹ\u001b[39m Use the conflicted package (\u001b[3m\u001b[34m<http://conflicted.r-lib.org/>\u001b[39m\u001b[23m) to force all conflicts to become errors\n"
     ]
    }
   ],
   "source": [
    "# libraries\n",
    "library(data.table)\n",
    "library(tidyverse)\n",
    "\n",
    "## Get my bucket name\n",
    "my_bucket  <- Sys.getenv(\"WORKSPACE_BUCKET\")\n",
    "## Google project name\n",
    "GOOGLE_PROJECT <- Sys.getenv(\"GOOGLE_PROJECT\")"
   ]
  },
  {
   "cell_type": "code",
   "execution_count": 2,
   "metadata": {},
   "outputs": [
    {
     "data": {
      "text/html": [
       "<style>\n",
       ".list-inline {list-style: none; margin:0; padding: 0}\n",
       ".list-inline>li {display: inline-block}\n",
       ".list-inline>li:not(:last-child)::after {content: \"\\00b7\"; padding: 0 .5ex}\n",
       "</style>\n",
       "<ol class=list-inline><li>'gs://fc-secure-0e4de6e0-e2d7-4267-949d-7b1ad758a53f/data/pheno/afr_ids.txt'</li><li>'gs://fc-secure-0e4de6e0-e2d7-4267-949d-7b1ad758a53f/data/pheno/afr_pheno.txt'</li><li>'gs://fc-secure-0e4de6e0-e2d7-4267-949d-7b1ad758a53f/data/pheno/amr_ids.txt'</li><li>'gs://fc-secure-0e4de6e0-e2d7-4267-949d-7b1ad758a53f/data/pheno/amr_pheno.txt'</li><li>'gs://fc-secure-0e4de6e0-e2d7-4267-949d-7b1ad758a53f/data/pheno/eur_ids.txt'</li><li>'gs://fc-secure-0e4de6e0-e2d7-4267-949d-7b1ad758a53f/data/pheno/eur_pheno.txt'</li><li>'gs://fc-secure-0e4de6e0-e2d7-4267-949d-7b1ad758a53f/data/pheno/full_pheno_clean_del_df.csv'</li><li>'gs://fc-secure-0e4de6e0-e2d7-4267-949d-7b1ad758a53f/data/pheno/full_pheno_df.csv'</li><li>'gs://fc-secure-0e4de6e0-e2d7-4267-949d-7b1ad758a53f/data/pheno/clean/'</li></ol>\n"
      ],
      "text/latex": [
       "\\begin{enumerate*}\n",
       "\\item 'gs://fc-secure-0e4de6e0-e2d7-4267-949d-7b1ad758a53f/data/pheno/afr\\_ids.txt'\n",
       "\\item 'gs://fc-secure-0e4de6e0-e2d7-4267-949d-7b1ad758a53f/data/pheno/afr\\_pheno.txt'\n",
       "\\item 'gs://fc-secure-0e4de6e0-e2d7-4267-949d-7b1ad758a53f/data/pheno/amr\\_ids.txt'\n",
       "\\item 'gs://fc-secure-0e4de6e0-e2d7-4267-949d-7b1ad758a53f/data/pheno/amr\\_pheno.txt'\n",
       "\\item 'gs://fc-secure-0e4de6e0-e2d7-4267-949d-7b1ad758a53f/data/pheno/eur\\_ids.txt'\n",
       "\\item 'gs://fc-secure-0e4de6e0-e2d7-4267-949d-7b1ad758a53f/data/pheno/eur\\_pheno.txt'\n",
       "\\item 'gs://fc-secure-0e4de6e0-e2d7-4267-949d-7b1ad758a53f/data/pheno/full\\_pheno\\_clean\\_del\\_df.csv'\n",
       "\\item 'gs://fc-secure-0e4de6e0-e2d7-4267-949d-7b1ad758a53f/data/pheno/full\\_pheno\\_df.csv'\n",
       "\\item 'gs://fc-secure-0e4de6e0-e2d7-4267-949d-7b1ad758a53f/data/pheno/clean/'\n",
       "\\end{enumerate*}\n"
      ],
      "text/markdown": [
       "1. 'gs://fc-secure-0e4de6e0-e2d7-4267-949d-7b1ad758a53f/data/pheno/afr_ids.txt'\n",
       "2. 'gs://fc-secure-0e4de6e0-e2d7-4267-949d-7b1ad758a53f/data/pheno/afr_pheno.txt'\n",
       "3. 'gs://fc-secure-0e4de6e0-e2d7-4267-949d-7b1ad758a53f/data/pheno/amr_ids.txt'\n",
       "4. 'gs://fc-secure-0e4de6e0-e2d7-4267-949d-7b1ad758a53f/data/pheno/amr_pheno.txt'\n",
       "5. 'gs://fc-secure-0e4de6e0-e2d7-4267-949d-7b1ad758a53f/data/pheno/eur_ids.txt'\n",
       "6. 'gs://fc-secure-0e4de6e0-e2d7-4267-949d-7b1ad758a53f/data/pheno/eur_pheno.txt'\n",
       "7. 'gs://fc-secure-0e4de6e0-e2d7-4267-949d-7b1ad758a53f/data/pheno/full_pheno_clean_del_df.csv'\n",
       "8. 'gs://fc-secure-0e4de6e0-e2d7-4267-949d-7b1ad758a53f/data/pheno/full_pheno_df.csv'\n",
       "9. 'gs://fc-secure-0e4de6e0-e2d7-4267-949d-7b1ad758a53f/data/pheno/clean/'\n",
       "\n",
       "\n"
      ],
      "text/plain": [
       "[1] \"gs://fc-secure-0e4de6e0-e2d7-4267-949d-7b1ad758a53f/data/pheno/afr_ids.txt\"                \n",
       "[2] \"gs://fc-secure-0e4de6e0-e2d7-4267-949d-7b1ad758a53f/data/pheno/afr_pheno.txt\"              \n",
       "[3] \"gs://fc-secure-0e4de6e0-e2d7-4267-949d-7b1ad758a53f/data/pheno/amr_ids.txt\"                \n",
       "[4] \"gs://fc-secure-0e4de6e0-e2d7-4267-949d-7b1ad758a53f/data/pheno/amr_pheno.txt\"              \n",
       "[5] \"gs://fc-secure-0e4de6e0-e2d7-4267-949d-7b1ad758a53f/data/pheno/eur_ids.txt\"                \n",
       "[6] \"gs://fc-secure-0e4de6e0-e2d7-4267-949d-7b1ad758a53f/data/pheno/eur_pheno.txt\"              \n",
       "[7] \"gs://fc-secure-0e4de6e0-e2d7-4267-949d-7b1ad758a53f/data/pheno/full_pheno_clean_del_df.csv\"\n",
       "[8] \"gs://fc-secure-0e4de6e0-e2d7-4267-949d-7b1ad758a53f/data/pheno/full_pheno_df.csv\"          \n",
       "[9] \"gs://fc-secure-0e4de6e0-e2d7-4267-949d-7b1ad758a53f/data/pheno/clean/\"                     "
      ]
     },
     "metadata": {},
     "output_type": "display_data"
    },
    {
     "data": {
      "text/html": [
       "<style>\n",
       ".list-inline {list-style: none; margin:0; padding: 0}\n",
       ".list-inline>li {display: inline-block}\n",
       ".list-inline>li:not(:last-child)::after {content: \"\\00b7\"; padding: 0 .5ex}\n",
       "</style>\n",
       "<ol class=list-inline><li>'00_GWAS_pipeline_00_dsub_setup.ipynb'</li><li>'00_GWAS_pipeline_01.1_pheno_preprocessing.ipynb'</li><li>'00_GWAS_pipeline_01.2_pheno_by_ancestry.ipynb'</li><li>'00_GWAS_pipeline_01.3_age_match_subsample_NOTUSED_.ipynb'</li><li>'00_GWAS_pipeline_02.1_genoytypes_preprocessing_20240708_134727.ipynb'</li><li>'00_GWAS_pipeline_02.1_genoytypes_preprocessing.ipynb'</li><li>'00_GWAS_pipeline_03.1_regenie_step1_20240708_203455.ipynb'</li><li>'00_GWAS_pipeline_03.1_regenie_step1.ipynb'</li><li>'00_GWAS_pipeline_03.2_regenie_preprocessing_for_step2.ipynb'</li><li>'00_GWAS_pipeline_03.3_regenie_step2_ACAF_srWGS.ipynb'</li><li>'00_GWAS_pipeline_04.1_postGWAS_processing&amp;MPs.ipynb'</li><li>'00_run_notebook_in_background.ipynb'</li><li>'00_test_dsub.ipynb'</li><li>'00_test_notebook.ipynb'</li><li>'00_test_notebook_python.ipynb'</li><li>'02_part1_genotypes_preprocessing_20240516_215713.ipynb'</li><li>'02_part1_genotypes_preprocessing_20240520_162841.ipynb'</li><li>'02_part1_genotypes_preprocessing.ipynb'</li><li>'03_part1b_run_regenie_step1_afr_20240522_123557.ipynb'</li><li>'03_part1b_run_regenie_step1_eur_20240523_130707.ipynb'</li><li>'03_part1b_run_regenie_step1_eur_20240524_082548.ipynb'</li><li>'03_part1b_run_regenie_step1_eur.ipynb'</li><li>'03_part1_run_regenie_step1.ipynb'</li><li>'03_part2b_run_regenie_step2_clinvar.ipynb'</li><li>'03_part2c_run_regenie_step2_WGS_20240612_201705.ipynb'</li><li>'03_part2c_run_regenie_step2_WGS.ipynb'</li><li>'03_part2_run_regenie_step2_20240523_085900.ipynb'</li><li>'03_part2_run_regenie_step2_20240526_163148.ipynb'</li><li>'03_part2_run_regenie_step2.ipynb'</li><li>'05_part1_meta_analysis.ipynb'</li><li>'06_part1_replication.ipynb'</li><li>'x01.1_process_delirium&amp;dementia_pheno.ipynb'</li><li>'x_dsub_tut 2. Run a basic dsub job.ipynb'</li><li>'x_dsub_tut 3. Run a parallel dsub job.ipynb'</li><li>'x_dsub_tut 6.dsub_use_case_regenie.ipynb'</li><li>'xx tut LDL_4_final_reformatting_bgens_regenie_dsub_HC.ipynb'</li></ol>\n"
      ],
      "text/latex": [
       "\\begin{enumerate*}\n",
       "\\item '00\\_GWAS\\_pipeline\\_00\\_dsub\\_setup.ipynb'\n",
       "\\item '00\\_GWAS\\_pipeline\\_01.1\\_pheno\\_preprocessing.ipynb'\n",
       "\\item '00\\_GWAS\\_pipeline\\_01.2\\_pheno\\_by\\_ancestry.ipynb'\n",
       "\\item '00\\_GWAS\\_pipeline\\_01.3\\_age\\_match\\_subsample\\_NOTUSED\\_.ipynb'\n",
       "\\item '00\\_GWAS\\_pipeline\\_02.1\\_genoytypes\\_preprocessing\\_20240708\\_134727.ipynb'\n",
       "\\item '00\\_GWAS\\_pipeline\\_02.1\\_genoytypes\\_preprocessing.ipynb'\n",
       "\\item '00\\_GWAS\\_pipeline\\_03.1\\_regenie\\_step1\\_20240708\\_203455.ipynb'\n",
       "\\item '00\\_GWAS\\_pipeline\\_03.1\\_regenie\\_step1.ipynb'\n",
       "\\item '00\\_GWAS\\_pipeline\\_03.2\\_regenie\\_preprocessing\\_for\\_step2.ipynb'\n",
       "\\item '00\\_GWAS\\_pipeline\\_03.3\\_regenie\\_step2\\_ACAF\\_srWGS.ipynb'\n",
       "\\item '00\\_GWAS\\_pipeline\\_04.1\\_postGWAS\\_processing\\&MPs.ipynb'\n",
       "\\item '00\\_run\\_notebook\\_in\\_background.ipynb'\n",
       "\\item '00\\_test\\_dsub.ipynb'\n",
       "\\item '00\\_test\\_notebook.ipynb'\n",
       "\\item '00\\_test\\_notebook\\_python.ipynb'\n",
       "\\item '02\\_part1\\_genotypes\\_preprocessing\\_20240516\\_215713.ipynb'\n",
       "\\item '02\\_part1\\_genotypes\\_preprocessing\\_20240520\\_162841.ipynb'\n",
       "\\item '02\\_part1\\_genotypes\\_preprocessing.ipynb'\n",
       "\\item '03\\_part1b\\_run\\_regenie\\_step1\\_afr\\_20240522\\_123557.ipynb'\n",
       "\\item '03\\_part1b\\_run\\_regenie\\_step1\\_eur\\_20240523\\_130707.ipynb'\n",
       "\\item '03\\_part1b\\_run\\_regenie\\_step1\\_eur\\_20240524\\_082548.ipynb'\n",
       "\\item '03\\_part1b\\_run\\_regenie\\_step1\\_eur.ipynb'\n",
       "\\item '03\\_part1\\_run\\_regenie\\_step1.ipynb'\n",
       "\\item '03\\_part2b\\_run\\_regenie\\_step2\\_clinvar.ipynb'\n",
       "\\item '03\\_part2c\\_run\\_regenie\\_step2\\_WGS\\_20240612\\_201705.ipynb'\n",
       "\\item '03\\_part2c\\_run\\_regenie\\_step2\\_WGS.ipynb'\n",
       "\\item '03\\_part2\\_run\\_regenie\\_step2\\_20240523\\_085900.ipynb'\n",
       "\\item '03\\_part2\\_run\\_regenie\\_step2\\_20240526\\_163148.ipynb'\n",
       "\\item '03\\_part2\\_run\\_regenie\\_step2.ipynb'\n",
       "\\item '05\\_part1\\_meta\\_analysis.ipynb'\n",
       "\\item '06\\_part1\\_replication.ipynb'\n",
       "\\item 'x01.1\\_process\\_delirium\\&dementia\\_pheno.ipynb'\n",
       "\\item 'x\\_dsub\\_tut 2. Run a basic dsub job.ipynb'\n",
       "\\item 'x\\_dsub\\_tut 3. Run a parallel dsub job.ipynb'\n",
       "\\item 'x\\_dsub\\_tut 6.dsub\\_use\\_case\\_regenie.ipynb'\n",
       "\\item 'xx tut LDL\\_4\\_final\\_reformatting\\_bgens\\_regenie\\_dsub\\_HC.ipynb'\n",
       "\\end{enumerate*}\n"
      ],
      "text/markdown": [
       "1. '00_GWAS_pipeline_00_dsub_setup.ipynb'\n",
       "2. '00_GWAS_pipeline_01.1_pheno_preprocessing.ipynb'\n",
       "3. '00_GWAS_pipeline_01.2_pheno_by_ancestry.ipynb'\n",
       "4. '00_GWAS_pipeline_01.3_age_match_subsample_NOTUSED_.ipynb'\n",
       "5. '00_GWAS_pipeline_02.1_genoytypes_preprocessing_20240708_134727.ipynb'\n",
       "6. '00_GWAS_pipeline_02.1_genoytypes_preprocessing.ipynb'\n",
       "7. '00_GWAS_pipeline_03.1_regenie_step1_20240708_203455.ipynb'\n",
       "8. '00_GWAS_pipeline_03.1_regenie_step1.ipynb'\n",
       "9. '00_GWAS_pipeline_03.2_regenie_preprocessing_for_step2.ipynb'\n",
       "10. '00_GWAS_pipeline_03.3_regenie_step2_ACAF_srWGS.ipynb'\n",
       "11. '00_GWAS_pipeline_04.1_postGWAS_processing&amp;MPs.ipynb'\n",
       "12. '00_run_notebook_in_background.ipynb'\n",
       "13. '00_test_dsub.ipynb'\n",
       "14. '00_test_notebook.ipynb'\n",
       "15. '00_test_notebook_python.ipynb'\n",
       "16. '02_part1_genotypes_preprocessing_20240516_215713.ipynb'\n",
       "17. '02_part1_genotypes_preprocessing_20240520_162841.ipynb'\n",
       "18. '02_part1_genotypes_preprocessing.ipynb'\n",
       "19. '03_part1b_run_regenie_step1_afr_20240522_123557.ipynb'\n",
       "20. '03_part1b_run_regenie_step1_eur_20240523_130707.ipynb'\n",
       "21. '03_part1b_run_regenie_step1_eur_20240524_082548.ipynb'\n",
       "22. '03_part1b_run_regenie_step1_eur.ipynb'\n",
       "23. '03_part1_run_regenie_step1.ipynb'\n",
       "24. '03_part2b_run_regenie_step2_clinvar.ipynb'\n",
       "25. '03_part2c_run_regenie_step2_WGS_20240612_201705.ipynb'\n",
       "26. '03_part2c_run_regenie_step2_WGS.ipynb'\n",
       "27. '03_part2_run_regenie_step2_20240523_085900.ipynb'\n",
       "28. '03_part2_run_regenie_step2_20240526_163148.ipynb'\n",
       "29. '03_part2_run_regenie_step2.ipynb'\n",
       "30. '05_part1_meta_analysis.ipynb'\n",
       "31. '06_part1_replication.ipynb'\n",
       "32. 'x01.1_process_delirium&amp;dementia_pheno.ipynb'\n",
       "33. 'x_dsub_tut 2. Run a basic dsub job.ipynb'\n",
       "34. 'x_dsub_tut 3. Run a parallel dsub job.ipynb'\n",
       "35. 'x_dsub_tut 6.dsub_use_case_regenie.ipynb'\n",
       "36. 'xx tut LDL_4_final_reformatting_bgens_regenie_dsub_HC.ipynb'\n",
       "\n",
       "\n"
      ],
      "text/plain": [
       " [1] \"00_GWAS_pipeline_00_dsub_setup.ipynb\"                                \n",
       " [2] \"00_GWAS_pipeline_01.1_pheno_preprocessing.ipynb\"                     \n",
       " [3] \"00_GWAS_pipeline_01.2_pheno_by_ancestry.ipynb\"                       \n",
       " [4] \"00_GWAS_pipeline_01.3_age_match_subsample_NOTUSED_.ipynb\"            \n",
       " [5] \"00_GWAS_pipeline_02.1_genoytypes_preprocessing_20240708_134727.ipynb\"\n",
       " [6] \"00_GWAS_pipeline_02.1_genoytypes_preprocessing.ipynb\"                \n",
       " [7] \"00_GWAS_pipeline_03.1_regenie_step1_20240708_203455.ipynb\"           \n",
       " [8] \"00_GWAS_pipeline_03.1_regenie_step1.ipynb\"                           \n",
       " [9] \"00_GWAS_pipeline_03.2_regenie_preprocessing_for_step2.ipynb\"         \n",
       "[10] \"00_GWAS_pipeline_03.3_regenie_step2_ACAF_srWGS.ipynb\"                \n",
       "[11] \"00_GWAS_pipeline_04.1_postGWAS_processing&MPs.ipynb\"                 \n",
       "[12] \"00_run_notebook_in_background.ipynb\"                                 \n",
       "[13] \"00_test_dsub.ipynb\"                                                  \n",
       "[14] \"00_test_notebook.ipynb\"                                              \n",
       "[15] \"00_test_notebook_python.ipynb\"                                       \n",
       "[16] \"02_part1_genotypes_preprocessing_20240516_215713.ipynb\"              \n",
       "[17] \"02_part1_genotypes_preprocessing_20240520_162841.ipynb\"              \n",
       "[18] \"02_part1_genotypes_preprocessing.ipynb\"                              \n",
       "[19] \"03_part1b_run_regenie_step1_afr_20240522_123557.ipynb\"               \n",
       "[20] \"03_part1b_run_regenie_step1_eur_20240523_130707.ipynb\"               \n",
       "[21] \"03_part1b_run_regenie_step1_eur_20240524_082548.ipynb\"               \n",
       "[22] \"03_part1b_run_regenie_step1_eur.ipynb\"                               \n",
       "[23] \"03_part1_run_regenie_step1.ipynb\"                                    \n",
       "[24] \"03_part2b_run_regenie_step2_clinvar.ipynb\"                           \n",
       "[25] \"03_part2c_run_regenie_step2_WGS_20240612_201705.ipynb\"               \n",
       "[26] \"03_part2c_run_regenie_step2_WGS.ipynb\"                               \n",
       "[27] \"03_part2_run_regenie_step2_20240523_085900.ipynb\"                    \n",
       "[28] \"03_part2_run_regenie_step2_20240526_163148.ipynb\"                    \n",
       "[29] \"03_part2_run_regenie_step2.ipynb\"                                    \n",
       "[30] \"05_part1_meta_analysis.ipynb\"                                        \n",
       "[31] \"06_part1_replication.ipynb\"                                          \n",
       "[32] \"x01.1_process_delirium&dementia_pheno.ipynb\"                         \n",
       "[33] \"x_dsub_tut 2. Run a basic dsub job.ipynb\"                            \n",
       "[34] \"x_dsub_tut 3. Run a parallel dsub job.ipynb\"                         \n",
       "[35] \"x_dsub_tut 6.dsub_use_case_regenie.ipynb\"                            \n",
       "[36] \"xx tut LDL_4_final_reformatting_bgens_regenie_dsub_HC.ipynb\"         "
      ]
     },
     "metadata": {},
     "output_type": "display_data"
    },
    {
     "data": {
      "text/html": [
       "<style>\n",
       ".list-inline {list-style: none; margin:0; padding: 0}\n",
       ".list-inline>li {display: inline-block}\n",
       ".list-inline>li:not(:last-child)::after {content: \"\\00b7\"; padding: 0 .5ex}\n",
       "</style>\n",
       "<ol class=list-inline><li>'4.0K\\t./.ipynb_checkpoints'</li><li>'9.3M\\t.'</li></ol>\n"
      ],
      "text/latex": [
       "\\begin{enumerate*}\n",
       "\\item '4.0K\\textbackslash{}t./.ipynb\\_checkpoints'\n",
       "\\item '9.3M\\textbackslash{}t.'\n",
       "\\end{enumerate*}\n"
      ],
      "text/markdown": [
       "1. '4.0K\\t./.ipynb_checkpoints'\n",
       "2. '9.3M\\t.'\n",
       "\n",
       "\n"
      ],
      "text/plain": [
       "[1] \"4.0K\\t./.ipynb_checkpoints\" \"9.3M\\t.\"                   "
      ]
     },
     "metadata": {},
     "output_type": "display_data"
    }
   ],
   "source": [
    "# List data in my bucket pheno folder\n",
    "system(paste0(\"gsutil ls \", my_bucket, \"/data/pheno\"), intern=T)\n",
    "# List object in workspace\n",
    "system(\"ls .\", intern=T)\n",
    "# List storage usage in workspace\n",
    "system(\"du -h\", intern=T)"
   ]
  },
  {
   "cell_type": "markdown",
   "metadata": {},
   "source": [
    "**Load full pheno table:**"
   ]
  },
  {
   "cell_type": "code",
   "execution_count": 3,
   "metadata": {},
   "outputs": [
    {
     "data": {
      "text/html": [],
      "text/latex": [],
      "text/markdown": [],
      "text/plain": [
       "character(0)"
      ]
     },
     "metadata": {},
     "output_type": "display_data"
    },
    {
     "data": {
      "text/html": [
       "<table class=\"dataframe\">\n",
       "<caption>A data.table: 6 × 28</caption>\n",
       "<thead>\n",
       "\t<tr><th scope=col>person_id</th><th scope=col>dob</th><th scope=col>sex</th><th scope=col>race</th><th scope=col>depind</th><th scope=col>depind_date</th><th scope=col>gen_ancestry</th><th scope=col>PC1</th><th scope=col>PC2</th><th scope=col>PC3</th><th scope=col>⋯</th><th scope=col>PC12</th><th scope=col>PC13</th><th scope=col>PC14</th><th scope=col>PC15</th><th scope=col>PC16</th><th scope=col>delirium_code</th><th scope=col>delirium_date</th><th scope=col>delirium_count</th><th scope=col>delirium_status</th><th scope=col>age</th></tr>\n",
       "\t<tr><th scope=col>&lt;int&gt;</th><th scope=col>&lt;chr&gt;</th><th scope=col>&lt;int&gt;</th><th scope=col>&lt;chr&gt;</th><th scope=col>&lt;dbl&gt;</th><th scope=col>&lt;chr&gt;</th><th scope=col>&lt;chr&gt;</th><th scope=col>&lt;dbl&gt;</th><th scope=col>&lt;dbl&gt;</th><th scope=col>&lt;dbl&gt;</th><th scope=col>⋯</th><th scope=col>&lt;dbl&gt;</th><th scope=col>&lt;dbl&gt;</th><th scope=col>&lt;dbl&gt;</th><th scope=col>&lt;dbl&gt;</th><th scope=col>&lt;dbl&gt;</th><th scope=col>&lt;chr&gt;</th><th scope=col>&lt;chr&gt;</th><th scope=col>&lt;int&gt;</th><th scope=col>&lt;int&gt;</th><th scope=col>&lt;int&gt;</th></tr>\n",
       "</thead>\n",
       "<tbody>\n",
       "\t<tr><td>1583400</td><td>1971/06/15 00:00:00</td><td>1</td><td>None of these</td><td>0.2289000</td><td>2020/01/08 00:00:00</td><td>oth</td><td> 0.09295700</td><td>-0.02499529</td><td>-0.026522432</td><td>⋯</td><td> 3.907187e-05</td><td> 0.0002280230</td><td>-0.0000050049</td><td> 0.0001372348</td><td>-5.315775e-04</td><td>NA</td><td>NA</td><td>NA</td><td>0</td><td>51</td></tr>\n",
       "\t<tr><td>1193078</td><td>1978/06/15 00:00:00</td><td>1</td><td>None of these</td><td>0.2619931</td><td>2019/06/06 00:00:00</td><td>eur</td><td> 0.10155976</td><td> 0.12976805</td><td>-0.010792255</td><td>⋯</td><td>-1.879208e-04</td><td>-0.0001394847</td><td>-0.0009090964</td><td> 0.0008948572</td><td> 1.538901e-03</td><td>NA</td><td>NA</td><td>NA</td><td>0</td><td>44</td></tr>\n",
       "\t<tr><td>2403498</td><td>1942/06/15 00:00:00</td><td>1</td><td>None of these</td><td>0.2415240</td><td>2019/02/11 00:00:00</td><td>eur</td><td> 0.10040533</td><td> 0.13062048</td><td>-0.008823804</td><td>⋯</td><td>-7.487362e-04</td><td> 0.0002732151</td><td> 0.0002746470</td><td>-0.0013316116</td><td>-7.235247e-05</td><td>NA</td><td>NA</td><td>NA</td><td>0</td><td>80</td></tr>\n",
       "\t<tr><td>1883620</td><td>1998/06/15 00:00:00</td><td>1</td><td>None of these</td><td>0.3884576</td><td>2020/02/02 00:00:00</td><td>oth</td><td> 0.04925685</td><td> 0.09593613</td><td>-0.008628618</td><td>⋯</td><td>-2.165070e-03</td><td> 0.0017120609</td><td> 0.0022692362</td><td> 0.0024377976</td><td> 1.059544e-03</td><td>NA</td><td>NA</td><td>NA</td><td>0</td><td>24</td></tr>\n",
       "\t<tr><td>3454673</td><td>1996/06/15 00:00:00</td><td>1</td><td>None of these</td><td>0.3325541</td><td>2019/08/29 00:00:00</td><td>oth</td><td>-0.09021576</td><td> 0.06932578</td><td>-0.006370319</td><td>⋯</td><td> 2.625063e-03</td><td> 0.0030603247</td><td>-0.0025710810</td><td> 0.0025824752</td><td> 2.779786e-03</td><td>NA</td><td>NA</td><td>NA</td><td>0</td><td>26</td></tr>\n",
       "\t<tr><td>1802369</td><td>1970/06/15 00:00:00</td><td>1</td><td>None of these</td><td>0.3312764</td><td>2020/02/25 00:00:00</td><td>eur</td><td> 0.09648393</td><td> 0.12552980</td><td>-0.013973749</td><td>⋯</td><td> 2.268770e-05</td><td> 0.0033589271</td><td> 0.0004961625</td><td> 0.0008061035</td><td> 3.523692e-04</td><td>NA</td><td>NA</td><td>NA</td><td>0</td><td>52</td></tr>\n",
       "</tbody>\n",
       "</table>\n"
      ],
      "text/latex": [
       "A data.table: 6 × 28\n",
       "\\begin{tabular}{lllllllllllllllllllll}\n",
       " person\\_id & dob & sex & race & depind & depind\\_date & gen\\_ancestry & PC1 & PC2 & PC3 & ⋯ & PC12 & PC13 & PC14 & PC15 & PC16 & delirium\\_code & delirium\\_date & delirium\\_count & delirium\\_status & age\\\\\n",
       " <int> & <chr> & <int> & <chr> & <dbl> & <chr> & <chr> & <dbl> & <dbl> & <dbl> & ⋯ & <dbl> & <dbl> & <dbl> & <dbl> & <dbl> & <chr> & <chr> & <int> & <int> & <int>\\\\\n",
       "\\hline\n",
       "\t 1583400 & 1971/06/15 00:00:00 & 1 & None of these & 0.2289000 & 2020/01/08 00:00:00 & oth &  0.09295700 & -0.02499529 & -0.026522432 & ⋯ &  3.907187e-05 &  0.0002280230 & -0.0000050049 &  0.0001372348 & -5.315775e-04 & NA & NA & NA & 0 & 51\\\\\n",
       "\t 1193078 & 1978/06/15 00:00:00 & 1 & None of these & 0.2619931 & 2019/06/06 00:00:00 & eur &  0.10155976 &  0.12976805 & -0.010792255 & ⋯ & -1.879208e-04 & -0.0001394847 & -0.0009090964 &  0.0008948572 &  1.538901e-03 & NA & NA & NA & 0 & 44\\\\\n",
       "\t 2403498 & 1942/06/15 00:00:00 & 1 & None of these & 0.2415240 & 2019/02/11 00:00:00 & eur &  0.10040533 &  0.13062048 & -0.008823804 & ⋯ & -7.487362e-04 &  0.0002732151 &  0.0002746470 & -0.0013316116 & -7.235247e-05 & NA & NA & NA & 0 & 80\\\\\n",
       "\t 1883620 & 1998/06/15 00:00:00 & 1 & None of these & 0.3884576 & 2020/02/02 00:00:00 & oth &  0.04925685 &  0.09593613 & -0.008628618 & ⋯ & -2.165070e-03 &  0.0017120609 &  0.0022692362 &  0.0024377976 &  1.059544e-03 & NA & NA & NA & 0 & 24\\\\\n",
       "\t 3454673 & 1996/06/15 00:00:00 & 1 & None of these & 0.3325541 & 2019/08/29 00:00:00 & oth & -0.09021576 &  0.06932578 & -0.006370319 & ⋯ &  2.625063e-03 &  0.0030603247 & -0.0025710810 &  0.0025824752 &  2.779786e-03 & NA & NA & NA & 0 & 26\\\\\n",
       "\t 1802369 & 1970/06/15 00:00:00 & 1 & None of these & 0.3312764 & 2020/02/25 00:00:00 & eur &  0.09648393 &  0.12552980 & -0.013973749 & ⋯ &  2.268770e-05 &  0.0033589271 &  0.0004961625 &  0.0008061035 &  3.523692e-04 & NA & NA & NA & 0 & 52\\\\\n",
       "\\end{tabular}\n"
      ],
      "text/markdown": [
       "\n",
       "A data.table: 6 × 28\n",
       "\n",
       "| person_id &lt;int&gt; | dob &lt;chr&gt; | sex &lt;int&gt; | race &lt;chr&gt; | depind &lt;dbl&gt; | depind_date &lt;chr&gt; | gen_ancestry &lt;chr&gt; | PC1 &lt;dbl&gt; | PC2 &lt;dbl&gt; | PC3 &lt;dbl&gt; | ⋯ ⋯ | PC12 &lt;dbl&gt; | PC13 &lt;dbl&gt; | PC14 &lt;dbl&gt; | PC15 &lt;dbl&gt; | PC16 &lt;dbl&gt; | delirium_code &lt;chr&gt; | delirium_date &lt;chr&gt; | delirium_count &lt;int&gt; | delirium_status &lt;int&gt; | age &lt;int&gt; |\n",
       "|---|---|---|---|---|---|---|---|---|---|---|---|---|---|---|---|---|---|---|---|---|\n",
       "| 1583400 | 1971/06/15 00:00:00 | 1 | None of these | 0.2289000 | 2020/01/08 00:00:00 | oth |  0.09295700 | -0.02499529 | -0.026522432 | ⋯ |  3.907187e-05 |  0.0002280230 | -0.0000050049 |  0.0001372348 | -5.315775e-04 | NA | NA | NA | 0 | 51 |\n",
       "| 1193078 | 1978/06/15 00:00:00 | 1 | None of these | 0.2619931 | 2019/06/06 00:00:00 | eur |  0.10155976 |  0.12976805 | -0.010792255 | ⋯ | -1.879208e-04 | -0.0001394847 | -0.0009090964 |  0.0008948572 |  1.538901e-03 | NA | NA | NA | 0 | 44 |\n",
       "| 2403498 | 1942/06/15 00:00:00 | 1 | None of these | 0.2415240 | 2019/02/11 00:00:00 | eur |  0.10040533 |  0.13062048 | -0.008823804 | ⋯ | -7.487362e-04 |  0.0002732151 |  0.0002746470 | -0.0013316116 | -7.235247e-05 | NA | NA | NA | 0 | 80 |\n",
       "| 1883620 | 1998/06/15 00:00:00 | 1 | None of these | 0.3884576 | 2020/02/02 00:00:00 | oth |  0.04925685 |  0.09593613 | -0.008628618 | ⋯ | -2.165070e-03 |  0.0017120609 |  0.0022692362 |  0.0024377976 |  1.059544e-03 | NA | NA | NA | 0 | 24 |\n",
       "| 3454673 | 1996/06/15 00:00:00 | 1 | None of these | 0.3325541 | 2019/08/29 00:00:00 | oth | -0.09021576 |  0.06932578 | -0.006370319 | ⋯ |  2.625063e-03 |  0.0030603247 | -0.0025710810 |  0.0025824752 |  2.779786e-03 | NA | NA | NA | 0 | 26 |\n",
       "| 1802369 | 1970/06/15 00:00:00 | 1 | None of these | 0.3312764 | 2020/02/25 00:00:00 | eur |  0.09648393 |  0.12552980 | -0.013973749 | ⋯ |  2.268770e-05 |  0.0033589271 |  0.0004961625 |  0.0008061035 |  3.523692e-04 | NA | NA | NA | 0 | 52 |\n",
       "\n"
      ],
      "text/plain": [
       "  person_id dob                 sex race          depind    depind_date        \n",
       "1 1583400   1971/06/15 00:00:00 1   None of these 0.2289000 2020/01/08 00:00:00\n",
       "2 1193078   1978/06/15 00:00:00 1   None of these 0.2619931 2019/06/06 00:00:00\n",
       "3 2403498   1942/06/15 00:00:00 1   None of these 0.2415240 2019/02/11 00:00:00\n",
       "4 1883620   1998/06/15 00:00:00 1   None of these 0.3884576 2020/02/02 00:00:00\n",
       "5 3454673   1996/06/15 00:00:00 1   None of these 0.3325541 2019/08/29 00:00:00\n",
       "6 1802369   1970/06/15 00:00:00 1   None of these 0.3312764 2020/02/25 00:00:00\n",
       "  gen_ancestry PC1         PC2         PC3          ⋯ PC12         \n",
       "1 oth           0.09295700 -0.02499529 -0.026522432 ⋯  3.907187e-05\n",
       "2 eur           0.10155976  0.12976805 -0.010792255 ⋯ -1.879208e-04\n",
       "3 eur           0.10040533  0.13062048 -0.008823804 ⋯ -7.487362e-04\n",
       "4 oth           0.04925685  0.09593613 -0.008628618 ⋯ -2.165070e-03\n",
       "5 oth          -0.09021576  0.06932578 -0.006370319 ⋯  2.625063e-03\n",
       "6 eur           0.09648393  0.12552980 -0.013973749 ⋯  2.268770e-05\n",
       "  PC13          PC14          PC15          PC16          delirium_code\n",
       "1  0.0002280230 -0.0000050049  0.0001372348 -5.315775e-04 NA           \n",
       "2 -0.0001394847 -0.0009090964  0.0008948572  1.538901e-03 NA           \n",
       "3  0.0002732151  0.0002746470 -0.0013316116 -7.235247e-05 NA           \n",
       "4  0.0017120609  0.0022692362  0.0024377976  1.059544e-03 NA           \n",
       "5  0.0030603247 -0.0025710810  0.0025824752  2.779786e-03 NA           \n",
       "6  0.0033589271  0.0004961625  0.0008061035  3.523692e-04 NA           \n",
       "  delirium_date delirium_count delirium_status age\n",
       "1 NA            NA             0               51 \n",
       "2 NA            NA             0               44 \n",
       "3 NA            NA             0               80 \n",
       "4 NA            NA             0               24 \n",
       "5 NA            NA             0               26 \n",
       "6 NA            NA             0               52 "
      ]
     },
     "metadata": {},
     "output_type": "display_data"
    },
    {
     "name": "stdout",
     "output_type": "stream",
     "text": [
      "240158 participants with genomic data"
     ]
    }
   ],
   "source": [
    "## Copy the file from current workspace to the bucket\n",
    "#system(paste0(\"gsutil cp \", my_bucket, \"/data/pheno/\", \"full_pheno_df.csv\", \" .\"), intern=T)\n",
    "system(paste0(\"gsutil cp \", my_bucket, \"/data/pheno/\", \"full_pheno_clean_del_df.csv\", \" .\"), intern=T)\n",
    "\n",
    "## Load the file into an R dataframe\n",
    "#pheno  <- fread(\"full_pheno_df.csv\")\n",
    "pheno  <- fread(\"full_pheno_clean_del_df.csv\")\n",
    "\n",
    "## filter participants with genomic data & male/female sex \n",
    "pheno <- pheno %>% filter(!is.na(gen_ancestry) & !is.na(sex))\n",
    "head(pheno)\n",
    "cat(nrow(pheno), \"participants with genomic data\")"
   ]
  },
  {
   "cell_type": "markdown",
   "metadata": {},
   "source": [
    "**Load dementia/AD data:**"
   ]
  },
  {
   "cell_type": "code",
   "execution_count": 52,
   "metadata": {},
   "outputs": [
    {
     "data": {
      "text/html": [],
      "text/latex": [],
      "text/markdown": [],
      "text/plain": [
       "character(0)"
      ]
     },
     "metadata": {},
     "output_type": "display_data"
    },
    {
     "data": {
      "text/html": [
       "<style>\n",
       ".list-inline {list-style: none; margin:0; padding: 0}\n",
       ".list-inline>li {display: inline-block}\n",
       ".list-inline>li:not(:last-child)::after {content: \"\\00b7\"; padding: 0 .5ex}\n",
       "</style>\n",
       "<ol class=list-inline><li>245388</li><li>19</li></ol>\n"
      ],
      "text/latex": [
       "\\begin{enumerate*}\n",
       "\\item 245388\n",
       "\\item 19\n",
       "\\end{enumerate*}\n"
      ],
      "text/markdown": [
       "1. 245388\n",
       "2. 19\n",
       "\n",
       "\n"
      ],
      "text/plain": [
       "[1] 245388     19"
      ]
     },
     "metadata": {},
     "output_type": "display_data"
    },
    {
     "data": {
      "text/html": [
       "<table class=\"dataframe\">\n",
       "<caption>A data.table: 6 × 19</caption>\n",
       "<thead>\n",
       "\t<tr><th scope=col>person_id</th><th scope=col>dob</th><th scope=col>sex</th><th scope=col>delirium_code</th><th scope=col>delirium_date</th><th scope=col>delirium_count</th><th scope=col>delirium_status</th><th scope=col>dementia_code</th><th scope=col>dementia_date</th><th scope=col>dementia_concept_name</th><th scope=col>dementia_count</th><th scope=col>dementia_status</th><th scope=col>drug_code</th><th scope=col>drug_date</th><th scope=col>drug_count</th><th scope=col>drug_status</th><th scope=col>earliest_dementia_date</th><th scope=col>earliest_dementia_source</th><th scope=col>dementia_incident</th></tr>\n",
       "\t<tr><th scope=col>&lt;int&gt;</th><th scope=col>&lt;IDate&gt;</th><th scope=col>&lt;int&gt;</th><th scope=col>&lt;chr&gt;</th><th scope=col>&lt;IDate&gt;</th><th scope=col>&lt;int&gt;</th><th scope=col>&lt;int&gt;</th><th scope=col>&lt;chr&gt;</th><th scope=col>&lt;IDate&gt;</th><th scope=col>&lt;chr&gt;</th><th scope=col>&lt;int&gt;</th><th scope=col>&lt;int&gt;</th><th scope=col>&lt;int&gt;</th><th scope=col>&lt;IDate&gt;</th><th scope=col>&lt;int&gt;</th><th scope=col>&lt;int&gt;</th><th scope=col>&lt;IDate&gt;</th><th scope=col>&lt;chr&gt;</th><th scope=col>&lt;int&gt;</th></tr>\n",
       "</thead>\n",
       "<tbody>\n",
       "\t<tr><td>1036100</td><td>1996-06-15</td><td>NA</td><td>NA</td><td>NA</td><td>NA</td><td>0</td><td>NA</td><td>NA</td><td>NA</td><td>NA</td><td>0</td><td>NA</td><td>NA</td><td>NA</td><td>NA</td><td>NA</td><td>NA</td><td>-9</td></tr>\n",
       "\t<tr><td>1938775</td><td>1986-06-15</td><td>NA</td><td>NA</td><td>NA</td><td>NA</td><td>0</td><td>NA</td><td>NA</td><td>NA</td><td>NA</td><td>0</td><td>NA</td><td>NA</td><td>NA</td><td>NA</td><td>NA</td><td>NA</td><td>-9</td></tr>\n",
       "\t<tr><td>3028890</td><td>1982-06-15</td><td>NA</td><td>NA</td><td>NA</td><td>NA</td><td>0</td><td>NA</td><td>NA</td><td>NA</td><td>NA</td><td>0</td><td>NA</td><td>NA</td><td>NA</td><td>NA</td><td>NA</td><td>NA</td><td>-9</td></tr>\n",
       "\t<tr><td>2061175</td><td>1997-06-15</td><td>NA</td><td>NA</td><td>NA</td><td>NA</td><td>0</td><td>NA</td><td>NA</td><td>NA</td><td>NA</td><td>0</td><td>NA</td><td>NA</td><td>NA</td><td>NA</td><td>NA</td><td>NA</td><td>-9</td></tr>\n",
       "\t<tr><td>9251240</td><td>1979-06-15</td><td>NA</td><td>NA</td><td>NA</td><td>NA</td><td>0</td><td>NA</td><td>NA</td><td>NA</td><td>NA</td><td>0</td><td>NA</td><td>NA</td><td>NA</td><td>NA</td><td>NA</td><td>NA</td><td>-9</td></tr>\n",
       "\t<tr><td>3419434</td><td>1967-06-15</td><td>NA</td><td>NA</td><td>NA</td><td>NA</td><td>0</td><td>NA</td><td>NA</td><td>NA</td><td>NA</td><td>0</td><td>NA</td><td>NA</td><td>NA</td><td>NA</td><td>NA</td><td>NA</td><td>-9</td></tr>\n",
       "</tbody>\n",
       "</table>\n"
      ],
      "text/latex": [
       "A data.table: 6 × 19\n",
       "\\begin{tabular}{lllllllllllllllllll}\n",
       " person\\_id & dob & sex & delirium\\_code & delirium\\_date & delirium\\_count & delirium\\_status & dementia\\_code & dementia\\_date & dementia\\_concept\\_name & dementia\\_count & dementia\\_status & drug\\_code & drug\\_date & drug\\_count & drug\\_status & earliest\\_dementia\\_date & earliest\\_dementia\\_source & dementia\\_incident\\\\\n",
       " <int> & <IDate> & <int> & <chr> & <IDate> & <int> & <int> & <chr> & <IDate> & <chr> & <int> & <int> & <int> & <IDate> & <int> & <int> & <IDate> & <chr> & <int>\\\\\n",
       "\\hline\n",
       "\t 1036100 & 1996-06-15 & NA & NA & NA & NA & 0 & NA & NA & NA & NA & 0 & NA & NA & NA & NA & NA & NA & -9\\\\\n",
       "\t 1938775 & 1986-06-15 & NA & NA & NA & NA & 0 & NA & NA & NA & NA & 0 & NA & NA & NA & NA & NA & NA & -9\\\\\n",
       "\t 3028890 & 1982-06-15 & NA & NA & NA & NA & 0 & NA & NA & NA & NA & 0 & NA & NA & NA & NA & NA & NA & -9\\\\\n",
       "\t 2061175 & 1997-06-15 & NA & NA & NA & NA & 0 & NA & NA & NA & NA & 0 & NA & NA & NA & NA & NA & NA & -9\\\\\n",
       "\t 9251240 & 1979-06-15 & NA & NA & NA & NA & 0 & NA & NA & NA & NA & 0 & NA & NA & NA & NA & NA & NA & -9\\\\\n",
       "\t 3419434 & 1967-06-15 & NA & NA & NA & NA & 0 & NA & NA & NA & NA & 0 & NA & NA & NA & NA & NA & NA & -9\\\\\n",
       "\\end{tabular}\n"
      ],
      "text/markdown": [
       "\n",
       "A data.table: 6 × 19\n",
       "\n",
       "| person_id &lt;int&gt; | dob &lt;IDate&gt; | sex &lt;int&gt; | delirium_code &lt;chr&gt; | delirium_date &lt;IDate&gt; | delirium_count &lt;int&gt; | delirium_status &lt;int&gt; | dementia_code &lt;chr&gt; | dementia_date &lt;IDate&gt; | dementia_concept_name &lt;chr&gt; | dementia_count &lt;int&gt; | dementia_status &lt;int&gt; | drug_code &lt;int&gt; | drug_date &lt;IDate&gt; | drug_count &lt;int&gt; | drug_status &lt;int&gt; | earliest_dementia_date &lt;IDate&gt; | earliest_dementia_source &lt;chr&gt; | dementia_incident &lt;int&gt; |\n",
       "|---|---|---|---|---|---|---|---|---|---|---|---|---|---|---|---|---|---|---|\n",
       "| 1036100 | 1996-06-15 | NA | NA | NA | NA | 0 | NA | NA | NA | NA | 0 | NA | NA | NA | NA | NA | NA | -9 |\n",
       "| 1938775 | 1986-06-15 | NA | NA | NA | NA | 0 | NA | NA | NA | NA | 0 | NA | NA | NA | NA | NA | NA | -9 |\n",
       "| 3028890 | 1982-06-15 | NA | NA | NA | NA | 0 | NA | NA | NA | NA | 0 | NA | NA | NA | NA | NA | NA | -9 |\n",
       "| 2061175 | 1997-06-15 | NA | NA | NA | NA | 0 | NA | NA | NA | NA | 0 | NA | NA | NA | NA | NA | NA | -9 |\n",
       "| 9251240 | 1979-06-15 | NA | NA | NA | NA | 0 | NA | NA | NA | NA | 0 | NA | NA | NA | NA | NA | NA | -9 |\n",
       "| 3419434 | 1967-06-15 | NA | NA | NA | NA | 0 | NA | NA | NA | NA | 0 | NA | NA | NA | NA | NA | NA | -9 |\n",
       "\n"
      ],
      "text/plain": [
       "  person_id dob        sex delirium_code delirium_date delirium_count\n",
       "1 1036100   1996-06-15 NA  NA            <NA>          NA            \n",
       "2 1938775   1986-06-15 NA  NA            <NA>          NA            \n",
       "3 3028890   1982-06-15 NA  NA            <NA>          NA            \n",
       "4 2061175   1997-06-15 NA  NA            <NA>          NA            \n",
       "5 9251240   1979-06-15 NA  NA            <NA>          NA            \n",
       "6 3419434   1967-06-15 NA  NA            <NA>          NA            \n",
       "  delirium_status dementia_code dementia_date dementia_concept_name\n",
       "1 0               NA            <NA>          NA                   \n",
       "2 0               NA            <NA>          NA                   \n",
       "3 0               NA            <NA>          NA                   \n",
       "4 0               NA            <NA>          NA                   \n",
       "5 0               NA            <NA>          NA                   \n",
       "6 0               NA            <NA>          NA                   \n",
       "  dementia_count dementia_status drug_code drug_date drug_count drug_status\n",
       "1 NA             0               NA        <NA>      NA         NA         \n",
       "2 NA             0               NA        <NA>      NA         NA         \n",
       "3 NA             0               NA        <NA>      NA         NA         \n",
       "4 NA             0               NA        <NA>      NA         NA         \n",
       "5 NA             0               NA        <NA>      NA         NA         \n",
       "6 NA             0               NA        <NA>      NA         NA         \n",
       "  earliest_dementia_date earliest_dementia_source dementia_incident\n",
       "1 <NA>                   NA                       -9               \n",
       "2 <NA>                   NA                       -9               \n",
       "3 <NA>                   NA                       -9               \n",
       "4 <NA>                   NA                       -9               \n",
       "5 <NA>                   NA                       -9               \n",
       "6 <NA>                   NA                       -9               "
      ]
     },
     "metadata": {},
     "output_type": "display_data"
    }
   ],
   "source": [
    "system(paste0(\"gsutil cp \", my_bucket, \"/data/pheno/\", \"with_dementia/full.txt\", \" .\"), intern=T)\n",
    "dem  <- fread(\"full.txt\") \n",
    "dim(dem)\n",
    "head(dem)"
   ]
  },
  {
   "cell_type": "code",
   "execution_count": 67,
   "metadata": {},
   "outputs": [
    {
     "data": {
      "text/html": [],
      "text/latex": [],
      "text/markdown": [],
      "text/plain": [
       "character(0)"
      ]
     },
     "metadata": {},
     "output_type": "display_data"
    },
    {
     "data": {
      "text/html": [
       "<table class=\"dataframe\">\n",
       "<caption>A data.table: 6 × 5</caption>\n",
       "<thead>\n",
       "\t<tr><th scope=col>person_id</th><th scope=col>source_concept_name</th><th scope=col>source_concept_code</th><th scope=col>alzheimer_status</th><th scope=col>alzheimer_date</th></tr>\n",
       "\t<tr><th scope=col>&lt;int&gt;</th><th scope=col>&lt;chr&gt;</th><th scope=col>&lt;chr&gt;</th><th scope=col>&lt;int&gt;</th><th scope=col>&lt;IDate&gt;</th></tr>\n",
       "</thead>\n",
       "<tbody>\n",
       "\t<tr><td>1001959</td><td>Alzheimer's disease with late onset</td><td>G30.1</td><td>1</td><td>2020-07-30</td></tr>\n",
       "\t<tr><td>1004198</td><td>Alzheimer's disease                </td><td>331.0</td><td>1</td><td>2012-12-10</td></tr>\n",
       "\t<tr><td>1006354</td><td>Alzheimer's disease, unspecified   </td><td>G30.9</td><td>1</td><td>2021-01-19</td></tr>\n",
       "\t<tr><td>1008635</td><td>Alzheimer's disease, unspecified   </td><td>G30.9</td><td>1</td><td>2016-07-27</td></tr>\n",
       "\t<tr><td>1009326</td><td>Alzheimer's disease, unspecified   </td><td>G30.9</td><td>1</td><td>2022-02-24</td></tr>\n",
       "\t<tr><td>1010116</td><td>Alzheimer's disease, unspecified   </td><td>G30.9</td><td>1</td><td>2018-03-21</td></tr>\n",
       "</tbody>\n",
       "</table>\n"
      ],
      "text/latex": [
       "A data.table: 6 × 5\n",
       "\\begin{tabular}{lllll}\n",
       " person\\_id & source\\_concept\\_name & source\\_concept\\_code & alzheimer\\_status & alzheimer\\_date\\\\\n",
       " <int> & <chr> & <chr> & <int> & <IDate>\\\\\n",
       "\\hline\n",
       "\t 1001959 & Alzheimer's disease with late onset & G30.1 & 1 & 2020-07-30\\\\\n",
       "\t 1004198 & Alzheimer's disease                 & 331.0 & 1 & 2012-12-10\\\\\n",
       "\t 1006354 & Alzheimer's disease, unspecified    & G30.9 & 1 & 2021-01-19\\\\\n",
       "\t 1008635 & Alzheimer's disease, unspecified    & G30.9 & 1 & 2016-07-27\\\\\n",
       "\t 1009326 & Alzheimer's disease, unspecified    & G30.9 & 1 & 2022-02-24\\\\\n",
       "\t 1010116 & Alzheimer's disease, unspecified    & G30.9 & 1 & 2018-03-21\\\\\n",
       "\\end{tabular}\n"
      ],
      "text/markdown": [
       "\n",
       "A data.table: 6 × 5\n",
       "\n",
       "| person_id &lt;int&gt; | source_concept_name &lt;chr&gt; | source_concept_code &lt;chr&gt; | alzheimer_status &lt;int&gt; | alzheimer_date &lt;IDate&gt; |\n",
       "|---|---|---|---|---|\n",
       "| 1001959 | Alzheimer's disease with late onset | G30.1 | 1 | 2020-07-30 |\n",
       "| 1004198 | Alzheimer's disease                 | 331.0 | 1 | 2012-12-10 |\n",
       "| 1006354 | Alzheimer's disease, unspecified    | G30.9 | 1 | 2021-01-19 |\n",
       "| 1008635 | Alzheimer's disease, unspecified    | G30.9 | 1 | 2016-07-27 |\n",
       "| 1009326 | Alzheimer's disease, unspecified    | G30.9 | 1 | 2022-02-24 |\n",
       "| 1010116 | Alzheimer's disease, unspecified    | G30.9 | 1 | 2018-03-21 |\n",
       "\n"
      ],
      "text/plain": [
       "  person_id source_concept_name                 source_concept_code\n",
       "1 1001959   Alzheimer's disease with late onset G30.1              \n",
       "2 1004198   Alzheimer's disease                 331.0              \n",
       "3 1006354   Alzheimer's disease, unspecified    G30.9              \n",
       "4 1008635   Alzheimer's disease, unspecified    G30.9              \n",
       "5 1009326   Alzheimer's disease, unspecified    G30.9              \n",
       "6 1010116   Alzheimer's disease, unspecified    G30.9              \n",
       "  alzheimer_status alzheimer_date\n",
       "1 1                2020-07-30    \n",
       "2 1                2012-12-10    \n",
       "3 1                2021-01-19    \n",
       "4 1                2016-07-27    \n",
       "5 1                2022-02-24    \n",
       "6 1                2018-03-21    "
      ]
     },
     "metadata": {},
     "output_type": "display_data"
    }
   ],
   "source": [
    "system(paste0(\"gsutil cp \", my_bucket, \"/data/pheno/\", \"with_dementia/full_AD.txt\", \" .\"), intern=T)\n",
    "ad  <- fread(\"full_AD.txt\") \n",
    "ad %>% head"
   ]
  },
  {
   "cell_type": "code",
   "execution_count": 71,
   "metadata": {},
   "outputs": [
    {
     "data": {
      "text/html": [
       "<table class=\"dataframe\">\n",
       "<caption>A data.table: 6 × 31</caption>\n",
       "<thead>\n",
       "\t<tr><th scope=col>person_id</th><th scope=col>dob</th><th scope=col>sex</th><th scope=col>race</th><th scope=col>depind</th><th scope=col>depind_date</th><th scope=col>gen_ancestry</th><th scope=col>PC1</th><th scope=col>PC2</th><th scope=col>PC3</th><th scope=col>⋯</th><th scope=col>PC15</th><th scope=col>PC16</th><th scope=col>delirium_code</th><th scope=col>delirium_date</th><th scope=col>delirium_count</th><th scope=col>delirium_status</th><th scope=col>age</th><th scope=col>dementia_status</th><th scope=col>dementia_concept_name</th><th scope=col>AD_status</th></tr>\n",
       "\t<tr><th scope=col>&lt;int&gt;</th><th scope=col>&lt;chr&gt;</th><th scope=col>&lt;int&gt;</th><th scope=col>&lt;chr&gt;</th><th scope=col>&lt;dbl&gt;</th><th scope=col>&lt;chr&gt;</th><th scope=col>&lt;chr&gt;</th><th scope=col>&lt;dbl&gt;</th><th scope=col>&lt;dbl&gt;</th><th scope=col>&lt;dbl&gt;</th><th scope=col>⋯</th><th scope=col>&lt;dbl&gt;</th><th scope=col>&lt;dbl&gt;</th><th scope=col>&lt;chr&gt;</th><th scope=col>&lt;chr&gt;</th><th scope=col>&lt;int&gt;</th><th scope=col>&lt;int&gt;</th><th scope=col>&lt;int&gt;</th><th scope=col>&lt;int&gt;</th><th scope=col>&lt;chr&gt;</th><th scope=col>&lt;dbl&gt;</th></tr>\n",
       "</thead>\n",
       "<tbody>\n",
       "\t<tr><td>1583400</td><td>1971/06/15 00:00:00</td><td>1</td><td>None of these</td><td>0.2289000</td><td>2020/01/08 00:00:00</td><td>oth</td><td> 0.09295700</td><td>-0.02499529</td><td>-0.026522432</td><td>⋯</td><td> 0.0001372348</td><td>-5.315775e-04</td><td>NA</td><td>NA</td><td>NA</td><td>0</td><td>51</td><td>0</td><td>NA</td><td>0</td></tr>\n",
       "\t<tr><td>1193078</td><td>1978/06/15 00:00:00</td><td>1</td><td>None of these</td><td>0.2619931</td><td>2019/06/06 00:00:00</td><td>eur</td><td> 0.10155976</td><td> 0.12976805</td><td>-0.010792255</td><td>⋯</td><td> 0.0008948572</td><td> 1.538901e-03</td><td>NA</td><td>NA</td><td>NA</td><td>0</td><td>44</td><td>0</td><td>NA</td><td>0</td></tr>\n",
       "\t<tr><td>2403498</td><td>1942/06/15 00:00:00</td><td>1</td><td>None of these</td><td>0.2415240</td><td>2019/02/11 00:00:00</td><td>eur</td><td> 0.10040533</td><td> 0.13062048</td><td>-0.008823804</td><td>⋯</td><td>-0.0013316116</td><td>-7.235247e-05</td><td>NA</td><td>NA</td><td>NA</td><td>0</td><td>80</td><td>0</td><td>NA</td><td>0</td></tr>\n",
       "\t<tr><td>1883620</td><td>1998/06/15 00:00:00</td><td>1</td><td>None of these</td><td>0.3884576</td><td>2020/02/02 00:00:00</td><td>oth</td><td> 0.04925685</td><td> 0.09593613</td><td>-0.008628618</td><td>⋯</td><td> 0.0024377976</td><td> 1.059544e-03</td><td>NA</td><td>NA</td><td>NA</td><td>0</td><td>24</td><td>0</td><td>NA</td><td>0</td></tr>\n",
       "\t<tr><td>3454673</td><td>1996/06/15 00:00:00</td><td>1</td><td>None of these</td><td>0.3325541</td><td>2019/08/29 00:00:00</td><td>oth</td><td>-0.09021576</td><td> 0.06932578</td><td>-0.006370319</td><td>⋯</td><td> 0.0025824752</td><td> 2.779786e-03</td><td>NA</td><td>NA</td><td>NA</td><td>0</td><td>26</td><td>0</td><td>NA</td><td>0</td></tr>\n",
       "\t<tr><td>1802369</td><td>1970/06/15 00:00:00</td><td>1</td><td>None of these</td><td>0.3312764</td><td>2020/02/25 00:00:00</td><td>eur</td><td> 0.09648393</td><td> 0.12552980</td><td>-0.013973749</td><td>⋯</td><td> 0.0008061035</td><td> 3.523692e-04</td><td>NA</td><td>NA</td><td>NA</td><td>0</td><td>52</td><td>0</td><td>NA</td><td>0</td></tr>\n",
       "</tbody>\n",
       "</table>\n"
      ],
      "text/latex": [
       "A data.table: 6 × 31\n",
       "\\begin{tabular}{lllllllllllllllllllll}\n",
       " person\\_id & dob & sex & race & depind & depind\\_date & gen\\_ancestry & PC1 & PC2 & PC3 & ⋯ & PC15 & PC16 & delirium\\_code & delirium\\_date & delirium\\_count & delirium\\_status & age & dementia\\_status & dementia\\_concept\\_name & AD\\_status\\\\\n",
       " <int> & <chr> & <int> & <chr> & <dbl> & <chr> & <chr> & <dbl> & <dbl> & <dbl> & ⋯ & <dbl> & <dbl> & <chr> & <chr> & <int> & <int> & <int> & <int> & <chr> & <dbl>\\\\\n",
       "\\hline\n",
       "\t 1583400 & 1971/06/15 00:00:00 & 1 & None of these & 0.2289000 & 2020/01/08 00:00:00 & oth &  0.09295700 & -0.02499529 & -0.026522432 & ⋯ &  0.0001372348 & -5.315775e-04 & NA & NA & NA & 0 & 51 & 0 & NA & 0\\\\\n",
       "\t 1193078 & 1978/06/15 00:00:00 & 1 & None of these & 0.2619931 & 2019/06/06 00:00:00 & eur &  0.10155976 &  0.12976805 & -0.010792255 & ⋯ &  0.0008948572 &  1.538901e-03 & NA & NA & NA & 0 & 44 & 0 & NA & 0\\\\\n",
       "\t 2403498 & 1942/06/15 00:00:00 & 1 & None of these & 0.2415240 & 2019/02/11 00:00:00 & eur &  0.10040533 &  0.13062048 & -0.008823804 & ⋯ & -0.0013316116 & -7.235247e-05 & NA & NA & NA & 0 & 80 & 0 & NA & 0\\\\\n",
       "\t 1883620 & 1998/06/15 00:00:00 & 1 & None of these & 0.3884576 & 2020/02/02 00:00:00 & oth &  0.04925685 &  0.09593613 & -0.008628618 & ⋯ &  0.0024377976 &  1.059544e-03 & NA & NA & NA & 0 & 24 & 0 & NA & 0\\\\\n",
       "\t 3454673 & 1996/06/15 00:00:00 & 1 & None of these & 0.3325541 & 2019/08/29 00:00:00 & oth & -0.09021576 &  0.06932578 & -0.006370319 & ⋯ &  0.0025824752 &  2.779786e-03 & NA & NA & NA & 0 & 26 & 0 & NA & 0\\\\\n",
       "\t 1802369 & 1970/06/15 00:00:00 & 1 & None of these & 0.3312764 & 2020/02/25 00:00:00 & eur &  0.09648393 &  0.12552980 & -0.013973749 & ⋯ &  0.0008061035 &  3.523692e-04 & NA & NA & NA & 0 & 52 & 0 & NA & 0\\\\\n",
       "\\end{tabular}\n"
      ],
      "text/markdown": [
       "\n",
       "A data.table: 6 × 31\n",
       "\n",
       "| person_id &lt;int&gt; | dob &lt;chr&gt; | sex &lt;int&gt; | race &lt;chr&gt; | depind &lt;dbl&gt; | depind_date &lt;chr&gt; | gen_ancestry &lt;chr&gt; | PC1 &lt;dbl&gt; | PC2 &lt;dbl&gt; | PC3 &lt;dbl&gt; | ⋯ ⋯ | PC15 &lt;dbl&gt; | PC16 &lt;dbl&gt; | delirium_code &lt;chr&gt; | delirium_date &lt;chr&gt; | delirium_count &lt;int&gt; | delirium_status &lt;int&gt; | age &lt;int&gt; | dementia_status &lt;int&gt; | dementia_concept_name &lt;chr&gt; | AD_status &lt;dbl&gt; |\n",
       "|---|---|---|---|---|---|---|---|---|---|---|---|---|---|---|---|---|---|---|---|---|\n",
       "| 1583400 | 1971/06/15 00:00:00 | 1 | None of these | 0.2289000 | 2020/01/08 00:00:00 | oth |  0.09295700 | -0.02499529 | -0.026522432 | ⋯ |  0.0001372348 | -5.315775e-04 | NA | NA | NA | 0 | 51 | 0 | NA | 0 |\n",
       "| 1193078 | 1978/06/15 00:00:00 | 1 | None of these | 0.2619931 | 2019/06/06 00:00:00 | eur |  0.10155976 |  0.12976805 | -0.010792255 | ⋯ |  0.0008948572 |  1.538901e-03 | NA | NA | NA | 0 | 44 | 0 | NA | 0 |\n",
       "| 2403498 | 1942/06/15 00:00:00 | 1 | None of these | 0.2415240 | 2019/02/11 00:00:00 | eur |  0.10040533 |  0.13062048 | -0.008823804 | ⋯ | -0.0013316116 | -7.235247e-05 | NA | NA | NA | 0 | 80 | 0 | NA | 0 |\n",
       "| 1883620 | 1998/06/15 00:00:00 | 1 | None of these | 0.3884576 | 2020/02/02 00:00:00 | oth |  0.04925685 |  0.09593613 | -0.008628618 | ⋯ |  0.0024377976 |  1.059544e-03 | NA | NA | NA | 0 | 24 | 0 | NA | 0 |\n",
       "| 3454673 | 1996/06/15 00:00:00 | 1 | None of these | 0.3325541 | 2019/08/29 00:00:00 | oth | -0.09021576 |  0.06932578 | -0.006370319 | ⋯ |  0.0025824752 |  2.779786e-03 | NA | NA | NA | 0 | 26 | 0 | NA | 0 |\n",
       "| 1802369 | 1970/06/15 00:00:00 | 1 | None of these | 0.3312764 | 2020/02/25 00:00:00 | eur |  0.09648393 |  0.12552980 | -0.013973749 | ⋯ |  0.0008061035 |  3.523692e-04 | NA | NA | NA | 0 | 52 | 0 | NA | 0 |\n",
       "\n"
      ],
      "text/plain": [
       "  person_id dob                 sex race          depind    depind_date        \n",
       "1 1583400   1971/06/15 00:00:00 1   None of these 0.2289000 2020/01/08 00:00:00\n",
       "2 1193078   1978/06/15 00:00:00 1   None of these 0.2619931 2019/06/06 00:00:00\n",
       "3 2403498   1942/06/15 00:00:00 1   None of these 0.2415240 2019/02/11 00:00:00\n",
       "4 1883620   1998/06/15 00:00:00 1   None of these 0.3884576 2020/02/02 00:00:00\n",
       "5 3454673   1996/06/15 00:00:00 1   None of these 0.3325541 2019/08/29 00:00:00\n",
       "6 1802369   1970/06/15 00:00:00 1   None of these 0.3312764 2020/02/25 00:00:00\n",
       "  gen_ancestry PC1         PC2         PC3          ⋯ PC15         \n",
       "1 oth           0.09295700 -0.02499529 -0.026522432 ⋯  0.0001372348\n",
       "2 eur           0.10155976  0.12976805 -0.010792255 ⋯  0.0008948572\n",
       "3 eur           0.10040533  0.13062048 -0.008823804 ⋯ -0.0013316116\n",
       "4 oth           0.04925685  0.09593613 -0.008628618 ⋯  0.0024377976\n",
       "5 oth          -0.09021576  0.06932578 -0.006370319 ⋯  0.0025824752\n",
       "6 eur           0.09648393  0.12552980 -0.013973749 ⋯  0.0008061035\n",
       "  PC16          delirium_code delirium_date delirium_count delirium_status age\n",
       "1 -5.315775e-04 NA            NA            NA             0               51 \n",
       "2  1.538901e-03 NA            NA            NA             0               44 \n",
       "3 -7.235247e-05 NA            NA            NA             0               80 \n",
       "4  1.059544e-03 NA            NA            NA             0               24 \n",
       "5  2.779786e-03 NA            NA            NA             0               26 \n",
       "6  3.523692e-04 NA            NA            NA             0               52 \n",
       "  dementia_status dementia_concept_name AD_status\n",
       "1 0               NA                    0        \n",
       "2 0               NA                    0        \n",
       "3 0               NA                    0        \n",
       "4 0               NA                    0        \n",
       "5 0               NA                    0        \n",
       "6 0               NA                    0        "
      ]
     },
     "metadata": {},
     "output_type": "display_data"
    }
   ],
   "source": [
    "## merge pheno with dementia table\n",
    "pheno2 <-\n",
    "    left_join(pheno, dem[,c(\"person_id\",\"dementia_status\",\"dementia_concept_name\")], by=\"person_id\") %>%\n",
    "    # add AD status\n",
    "    mutate(AD_status = ifelse(person_id %in% ad$person_id, 1, 0))\n",
    "pheno2 %>% head"
   ]
  },
  {
   "cell_type": "markdown",
   "metadata": {},
   "source": [
    "**Delirium by ancestry stats:**"
   ]
  },
  {
   "cell_type": "code",
   "execution_count": 4,
   "metadata": {},
   "outputs": [
    {
     "data": {
      "text/html": [
       "<table class=\"dataframe\">\n",
       "<caption>A tibble: 7 × 8</caption>\n",
       "<thead>\n",
       "\t<tr><th scope=col>gen_ancestry</th><th scope=col>n</th><th scope=col>del_cases</th><th scope=col>del_prev (%)</th><th scope=col>female (%)</th><th scope=col>age (median)</th><th scope=col>age_at_onset (median)</th><th scope=col>mean_depind</th></tr>\n",
       "\t<tr><th scope=col>&lt;chr&gt;</th><th scope=col>&lt;int&gt;</th><th scope=col>&lt;int&gt;</th><th scope=col>&lt;dbl&gt;</th><th scope=col>&lt;dbl&gt;</th><th scope=col>&lt;dbl&gt;</th><th scope=col>&lt;dbl&gt;</th><th scope=col>&lt;dbl&gt;</th></tr>\n",
       "</thead>\n",
       "<tbody>\n",
       "\t<tr><td>eur</td><td>120476</td><td>652</td><td>0.54</td><td>60.25</td><td>61</td><td>63.0</td><td>0.31</td></tr>\n",
       "\t<tr><td>afr</td><td> 52536</td><td>233</td><td>0.44</td><td>56.99</td><td>55</td><td>56.0</td><td>0.36</td></tr>\n",
       "\t<tr><td>amr</td><td> 40096</td><td>117</td><td>0.29</td><td>66.81</td><td>47</td><td>59.0</td><td>0.35</td></tr>\n",
       "\t<tr><td>oth</td><td> 18905</td><td> 97</td><td>0.51</td><td>60.02</td><td>55</td><td>69.0</td><td>0.33</td></tr>\n",
       "\t<tr><td>eas</td><td>  5320</td><td>  6</td><td>0.11</td><td>63.61</td><td>45</td><td>62.0</td><td>0.31</td></tr>\n",
       "\t<tr><td>mid</td><td>   511</td><td>  4</td><td>0.78</td><td>55.77</td><td>46</td><td>63.5</td><td>0.31</td></tr>\n",
       "\t<tr><td>sas</td><td>  2314</td><td>  4</td><td>0.17</td><td>49.91</td><td>42</td><td>66.5</td><td>0.31</td></tr>\n",
       "</tbody>\n",
       "</table>\n"
      ],
      "text/latex": [
       "A tibble: 7 × 8\n",
       "\\begin{tabular}{llllllll}\n",
       " gen\\_ancestry & n & del\\_cases & del\\_prev (\\%) & female (\\%) & age (median) & age\\_at\\_onset (median) & mean\\_depind\\\\\n",
       " <chr> & <int> & <int> & <dbl> & <dbl> & <dbl> & <dbl> & <dbl>\\\\\n",
       "\\hline\n",
       "\t eur & 120476 & 652 & 0.54 & 60.25 & 61 & 63.0 & 0.31\\\\\n",
       "\t afr &  52536 & 233 & 0.44 & 56.99 & 55 & 56.0 & 0.36\\\\\n",
       "\t amr &  40096 & 117 & 0.29 & 66.81 & 47 & 59.0 & 0.35\\\\\n",
       "\t oth &  18905 &  97 & 0.51 & 60.02 & 55 & 69.0 & 0.33\\\\\n",
       "\t eas &   5320 &   6 & 0.11 & 63.61 & 45 & 62.0 & 0.31\\\\\n",
       "\t mid &    511 &   4 & 0.78 & 55.77 & 46 & 63.5 & 0.31\\\\\n",
       "\t sas &   2314 &   4 & 0.17 & 49.91 & 42 & 66.5 & 0.31\\\\\n",
       "\\end{tabular}\n"
      ],
      "text/markdown": [
       "\n",
       "A tibble: 7 × 8\n",
       "\n",
       "| gen_ancestry &lt;chr&gt; | n &lt;int&gt; | del_cases &lt;int&gt; | del_prev (%) &lt;dbl&gt; | female (%) &lt;dbl&gt; | age (median) &lt;dbl&gt; | age_at_onset (median) &lt;dbl&gt; | mean_depind &lt;dbl&gt; |\n",
       "|---|---|---|---|---|---|---|---|\n",
       "| eur | 120476 | 652 | 0.54 | 60.25 | 61 | 63.0 | 0.31 |\n",
       "| afr |  52536 | 233 | 0.44 | 56.99 | 55 | 56.0 | 0.36 |\n",
       "| amr |  40096 | 117 | 0.29 | 66.81 | 47 | 59.0 | 0.35 |\n",
       "| oth |  18905 |  97 | 0.51 | 60.02 | 55 | 69.0 | 0.33 |\n",
       "| eas |   5320 |   6 | 0.11 | 63.61 | 45 | 62.0 | 0.31 |\n",
       "| mid |    511 |   4 | 0.78 | 55.77 | 46 | 63.5 | 0.31 |\n",
       "| sas |   2314 |   4 | 0.17 | 49.91 | 42 | 66.5 | 0.31 |\n",
       "\n"
      ],
      "text/plain": [
       "  gen_ancestry n      del_cases del_prev (%) female (%) age (median)\n",
       "1 eur          120476 652       0.54         60.25      61          \n",
       "2 afr           52536 233       0.44         56.99      55          \n",
       "3 amr           40096 117       0.29         66.81      47          \n",
       "4 oth           18905  97       0.51         60.02      55          \n",
       "5 eas            5320   6       0.11         63.61      45          \n",
       "6 mid             511   4       0.78         55.77      46          \n",
       "7 sas            2314   4       0.17         49.91      42          \n",
       "  age_at_onset (median) mean_depind\n",
       "1 63.0                  0.31       \n",
       "2 56.0                  0.36       \n",
       "3 59.0                  0.35       \n",
       "4 69.0                  0.33       \n",
       "5 62.0                  0.31       \n",
       "6 63.5                  0.31       \n",
       "7 66.5                  0.31       "
      ]
     },
     "metadata": {},
     "output_type": "display_data"
    }
   ],
   "source": [
    "## stats by ancestry\n",
    "\n",
    "pheno %>% \n",
    "    group_by(gen_ancestry) %>% \n",
    "    summarise(n = n(),\n",
    "              del_cases = sum(delirium_status==1), \n",
    "              `del_prev (%)` = round((sum(delirium_status==1)/n())*100,2),\n",
    "              #mean_age = round(mean(age),2),\n",
    "              `female (%)` = round((sum(sex==0)/n())*100,2),\n",
    "              `age (median)` = round(median(age),2),\n",
    "              `age_at_onset (median)` = round(median(age[delirium_status==1]),2),\n",
    "              mean_depind = round(mean(depind),2)) %>%\n",
    "    arrange(desc(del_cases))"
   ]
  },
  {
   "cell_type": "markdown",
   "metadata": {},
   "source": [
    "**Discriptive stats by delirium status:**"
   ]
  },
  {
   "cell_type": "code",
   "execution_count": 73,
   "metadata": {},
   "outputs": [
    {
     "data": {
      "text/html": [
       "<table class=\"dataframe\">\n",
       "<caption>A tibble: 7 × 11</caption>\n",
       "<thead>\n",
       "\t<tr><th scope=col>gen_ancestry</th><th scope=col>n cases (prev)</th><th scope=col>n controls</th><th scope=col>age cases; mean (sd)</th><th scope=col>age contr; mean (sd)</th><th scope=col>sex cases; female (%)</th><th scope=col>sex contr; female (%)</th><th scope=col>dementia in cases; (%)</th><th scope=col>dementia in contr; (%)</th><th scope=col>AD in cases; (%)</th><th scope=col>AD in contr; (%)</th></tr>\n",
       "\t<tr><th scope=col>&lt;chr&gt;</th><th scope=col>&lt;chr&gt;</th><th scope=col>&lt;chr&gt;</th><th scope=col>&lt;chr&gt;</th><th scope=col>&lt;chr&gt;</th><th scope=col>&lt;chr&gt;</th><th scope=col>&lt;chr&gt;</th><th scope=col>&lt;chr&gt;</th><th scope=col>&lt;chr&gt;</th><th scope=col>&lt;chr&gt;</th><th scope=col>&lt;chr&gt;</th></tr>\n",
       "</thead>\n",
       "<tbody>\n",
       "\t<tr><td>eur</td><td>652 (0.54)</td><td>119824</td><td>62.3 (15.4)</td><td>58.1 (17)  </td><td>297 (45.6)</td><td>72286 (60.3)</td><td>133 (20.4)</td><td>2023 (1.7)</td><td>30 (4.6) </td><td>309 (0.3)</td></tr>\n",
       "\t<tr><td>afr</td><td>233 (0.44)</td><td>52303 </td><td>54.2 (15)  </td><td>52.3 (14.7)</td><td>118 (50.6)</td><td>29820 (57)  </td><td>39 (16.7) </td><td>577 (1.1) </td><td>4 (1.7)  </td><td>62 (0.1) </td></tr>\n",
       "\t<tr><td>amr</td><td>117 (0.29)</td><td>39979 </td><td>57.7 (16.8)</td><td>47.5 (15.8)</td><td>66 (56.4) </td><td>26723 (66.8)</td><td>31 (26.5) </td><td>471 (1.2) </td><td>7 (6)    </td><td>80 (0.2) </td></tr>\n",
       "\t<tr><td>oth</td><td>97 (0.51) </td><td>18808 </td><td>66.5 (16.1)</td><td>54 (18.8)  </td><td>34 (35.1) </td><td>11312 (60.1)</td><td>23 (23.7) </td><td>322 (1.7) </td><td>12 (12.4)</td><td>57 (0.3) </td></tr>\n",
       "\t<tr><td>eas</td><td>6 (0.11)  </td><td>5314  </td><td>61.3 (18)  </td><td>47.1 (17.3)</td><td>5 (83.3)  </td><td>3379 (63.6) </td><td>1 (16.7)  </td><td>47 (0.9)  </td><td>0 (0)    </td><td>6 (0.1)  </td></tr>\n",
       "\t<tr><td>mid</td><td>4 (0.78)  </td><td>507   </td><td>53 (26.3)  </td><td>47.7 (17.2)</td><td>0 (0)     </td><td>285 (56.2)  </td><td>1 (25)    </td><td>6 (1.2)   </td><td>1 (25)   </td><td>0 (0)    </td></tr>\n",
       "\t<tr><td>sas</td><td>4 (0.17)  </td><td>2310  </td><td>67 (14.6)  </td><td>45 (16.6)  </td><td>0 (0)     </td><td>1155 (50)   </td><td>1 (25)    </td><td>23 (1)    </td><td>0 (0)    </td><td>1 (0)    </td></tr>\n",
       "</tbody>\n",
       "</table>\n"
      ],
      "text/latex": [
       "A tibble: 7 × 11\n",
       "\\begin{tabular}{lllllllllll}\n",
       " gen\\_ancestry & n cases (prev) & n controls & age cases; mean (sd) & age contr; mean (sd) & sex cases; female (\\%) & sex contr; female (\\%) & dementia in cases; (\\%) & dementia in contr; (\\%) & AD in cases; (\\%) & AD in contr; (\\%)\\\\\n",
       " <chr> & <chr> & <chr> & <chr> & <chr> & <chr> & <chr> & <chr> & <chr> & <chr> & <chr>\\\\\n",
       "\\hline\n",
       "\t eur & 652 (0.54) & 119824 & 62.3 (15.4) & 58.1 (17)   & 297 (45.6) & 72286 (60.3) & 133 (20.4) & 2023 (1.7) & 30 (4.6)  & 309 (0.3)\\\\\n",
       "\t afr & 233 (0.44) & 52303  & 54.2 (15)   & 52.3 (14.7) & 118 (50.6) & 29820 (57)   & 39 (16.7)  & 577 (1.1)  & 4 (1.7)   & 62 (0.1) \\\\\n",
       "\t amr & 117 (0.29) & 39979  & 57.7 (16.8) & 47.5 (15.8) & 66 (56.4)  & 26723 (66.8) & 31 (26.5)  & 471 (1.2)  & 7 (6)     & 80 (0.2) \\\\\n",
       "\t oth & 97 (0.51)  & 18808  & 66.5 (16.1) & 54 (18.8)   & 34 (35.1)  & 11312 (60.1) & 23 (23.7)  & 322 (1.7)  & 12 (12.4) & 57 (0.3) \\\\\n",
       "\t eas & 6 (0.11)   & 5314   & 61.3 (18)   & 47.1 (17.3) & 5 (83.3)   & 3379 (63.6)  & 1 (16.7)   & 47 (0.9)   & 0 (0)     & 6 (0.1)  \\\\\n",
       "\t mid & 4 (0.78)   & 507    & 53 (26.3)   & 47.7 (17.2) & 0 (0)      & 285 (56.2)   & 1 (25)     & 6 (1.2)    & 1 (25)    & 0 (0)    \\\\\n",
       "\t sas & 4 (0.17)   & 2310   & 67 (14.6)   & 45 (16.6)   & 0 (0)      & 1155 (50)    & 1 (25)     & 23 (1)     & 0 (0)     & 1 (0)    \\\\\n",
       "\\end{tabular}\n"
      ],
      "text/markdown": [
       "\n",
       "A tibble: 7 × 11\n",
       "\n",
       "| gen_ancestry &lt;chr&gt; | n cases (prev) &lt;chr&gt; | n controls &lt;chr&gt; | age cases; mean (sd) &lt;chr&gt; | age contr; mean (sd) &lt;chr&gt; | sex cases; female (%) &lt;chr&gt; | sex contr; female (%) &lt;chr&gt; | dementia in cases; (%) &lt;chr&gt; | dementia in contr; (%) &lt;chr&gt; | AD in cases; (%) &lt;chr&gt; | AD in contr; (%) &lt;chr&gt; |\n",
       "|---|---|---|---|---|---|---|---|---|---|---|\n",
       "| eur | 652 (0.54) | 119824 | 62.3 (15.4) | 58.1 (17)   | 297 (45.6) | 72286 (60.3) | 133 (20.4) | 2023 (1.7) | 30 (4.6)  | 309 (0.3) |\n",
       "| afr | 233 (0.44) | 52303  | 54.2 (15)   | 52.3 (14.7) | 118 (50.6) | 29820 (57)   | 39 (16.7)  | 577 (1.1)  | 4 (1.7)   | 62 (0.1)  |\n",
       "| amr | 117 (0.29) | 39979  | 57.7 (16.8) | 47.5 (15.8) | 66 (56.4)  | 26723 (66.8) | 31 (26.5)  | 471 (1.2)  | 7 (6)     | 80 (0.2)  |\n",
       "| oth | 97 (0.51)  | 18808  | 66.5 (16.1) | 54 (18.8)   | 34 (35.1)  | 11312 (60.1) | 23 (23.7)  | 322 (1.7)  | 12 (12.4) | 57 (0.3)  |\n",
       "| eas | 6 (0.11)   | 5314   | 61.3 (18)   | 47.1 (17.3) | 5 (83.3)   | 3379 (63.6)  | 1 (16.7)   | 47 (0.9)   | 0 (0)     | 6 (0.1)   |\n",
       "| mid | 4 (0.78)   | 507    | 53 (26.3)   | 47.7 (17.2) | 0 (0)      | 285 (56.2)   | 1 (25)     | 6 (1.2)    | 1 (25)    | 0 (0)     |\n",
       "| sas | 4 (0.17)   | 2310   | 67 (14.6)   | 45 (16.6)   | 0 (0)      | 1155 (50)    | 1 (25)     | 23 (1)     | 0 (0)     | 1 (0)     |\n",
       "\n"
      ],
      "text/plain": [
       "  gen_ancestry n cases (prev) n controls age cases; mean (sd)\n",
       "1 eur          652 (0.54)     119824     62.3 (15.4)         \n",
       "2 afr          233 (0.44)     52303      54.2 (15)           \n",
       "3 amr          117 (0.29)     39979      57.7 (16.8)         \n",
       "4 oth          97 (0.51)      18808      66.5 (16.1)         \n",
       "5 eas          6 (0.11)       5314       61.3 (18)           \n",
       "6 mid          4 (0.78)       507        53 (26.3)           \n",
       "7 sas          4 (0.17)       2310       67 (14.6)           \n",
       "  age contr; mean (sd) sex cases; female (%) sex contr; female (%)\n",
       "1 58.1 (17)            297 (45.6)            72286 (60.3)         \n",
       "2 52.3 (14.7)          118 (50.6)            29820 (57)           \n",
       "3 47.5 (15.8)          66 (56.4)             26723 (66.8)         \n",
       "4 54 (18.8)            34 (35.1)             11312 (60.1)         \n",
       "5 47.1 (17.3)          5 (83.3)              3379 (63.6)          \n",
       "6 47.7 (17.2)          0 (0)                 285 (56.2)           \n",
       "7 45 (16.6)            0 (0)                 1155 (50)            \n",
       "  dementia in cases; (%) dementia in contr; (%) AD in cases; (%)\n",
       "1 133 (20.4)             2023 (1.7)             30 (4.6)        \n",
       "2 39 (16.7)              577 (1.1)              4 (1.7)         \n",
       "3 31 (26.5)              471 (1.2)              7 (6)           \n",
       "4 23 (23.7)              322 (1.7)              12 (12.4)       \n",
       "5 1 (16.7)               47 (0.9)               0 (0)           \n",
       "6 1 (25)                 6 (1.2)                1 (25)          \n",
       "7 1 (25)                 23 (1)                 0 (0)           \n",
       "  AD in contr; (%)\n",
       "1 309 (0.3)       \n",
       "2 62 (0.1)        \n",
       "3 80 (0.2)        \n",
       "4 57 (0.3)        \n",
       "5 6 (0.1)         \n",
       "6 0 (0)           \n",
       "7 1 (0)           "
      ]
     },
     "metadata": {},
     "output_type": "display_data"
    }
   ],
   "source": [
    "## for st1\n",
    "pheno2 %>%\n",
    "    #filter(gen_ancestry==\"eur\") %>%\n",
    "    group_by(gen_ancestry) %>% \n",
    "    summarise(`n cases (prev)` = paste0(sum(delirium_status==1), \" (\", round(100*(sum(delirium_status==1)/n()),2), \")\"),\n",
    "              `n controls`     = paste0(sum(delirium_status==0)),\n",
    "              `age cases; mean (sd)`  = paste0(round(mean(age[delirium_status==1]),1), \" (\", round(sd(age[delirium_status==1]),1), \")\"),\n",
    "              `age contr; mean (sd)`  = paste0(round(mean(age[delirium_status==0]),1), \" (\", round(sd(age[delirium_status==0]),1), \")\"),\n",
    "              `sex cases; female (%)` = paste0(sum(sex[delirium_status==1]==0), \" (\", round(100*(sum(sex[delirium_status==1]==0))/sum(delirium_status==1),1), \")\"),\n",
    "              `sex contr; female (%)` = paste0(sum(sex[delirium_status==0]==0), \" (\", round(100*(sum(sex[delirium_status==0]==0))/sum(delirium_status==0),1), \")\"),\n",
    "              `dementia in cases; (%)`= paste0(sum(dementia_status[delirium_status==1]==1), \" (\", round(100*(sum(dementia_status[delirium_status==1]==1)/sum(delirium_status==1)),1), \")\"),\n",
    "              `dementia in contr; (%)`= paste0(sum(dementia_status[delirium_status==0]==1), \" (\", round(100*(sum(dementia_status[delirium_status==0]==1)/sum(delirium_status==0)),1), \")\"),\n",
    "              `AD in cases; (%)`      = paste0(sum(AD_status[delirium_status==1]==1), \" (\", round(100*(sum(AD_status[delirium_status==1]==1)/sum(delirium_status==1)),1), \")\"),\n",
    "              `AD in contr; (%)`      = paste0(sum(AD_status[delirium_status==0]==1), \" (\", round(100*(sum(AD_status[delirium_status==0]==1)/sum(delirium_status==0)),1), \")\"),\n",
    "              fct  = sum(delirium_status==1)\n",
    "             ) %>%\n",
    "    arrange(desc(fct)) %>% select(-c(fct))\n"
   ]
  },
  {
   "cell_type": "markdown",
   "metadata": {},
   "source": [
    "**Make regenie pheno/covariate files by ancestry (eur, afr & amr):**"
   ]
  },
  {
   "cell_type": "code",
   "execution_count": 10,
   "metadata": {},
   "outputs": [
    {
     "data": {
      "text/html": [],
      "text/latex": [],
      "text/markdown": [],
      "text/plain": [
       "character(0)"
      ]
     },
     "metadata": {},
     "output_type": "display_data"
    },
    {
     "data": {
      "text/html": [],
      "text/latex": [],
      "text/markdown": [],
      "text/plain": [
       "character(0)"
      ]
     },
     "metadata": {},
     "output_type": "display_data"
    },
    {
     "data": {
      "text/html": [],
      "text/latex": [],
      "text/markdown": [],
      "text/plain": [
       "character(0)"
      ]
     },
     "metadata": {},
     "output_type": "display_data"
    },
    {
     "data": {
      "text/html": [
       "<style>\n",
       ".list-inline {list-style: none; margin:0; padding: 0}\n",
       ".list-inline>li {display: inline-block}\n",
       ".list-inline>li:not(:last-child)::after {content: \"\\00b7\"; padding: 0 .5ex}\n",
       "</style>\n",
       "<ol class=list-inline><li>'gs://fc-secure-0e4de6e0-e2d7-4267-949d-7b1ad758a53f/data/pheno/afr_ids.txt'</li><li>'gs://fc-secure-0e4de6e0-e2d7-4267-949d-7b1ad758a53f/data/pheno/afr_pheno.txt'</li><li>'gs://fc-secure-0e4de6e0-e2d7-4267-949d-7b1ad758a53f/data/pheno/afr_pheno_clean.txt'</li><li>'gs://fc-secure-0e4de6e0-e2d7-4267-949d-7b1ad758a53f/data/pheno/amr_ids.txt'</li><li>'gs://fc-secure-0e4de6e0-e2d7-4267-949d-7b1ad758a53f/data/pheno/amr_pheno.txt'</li><li>'gs://fc-secure-0e4de6e0-e2d7-4267-949d-7b1ad758a53f/data/pheno/amr_pheno_clean.txt'</li><li>'gs://fc-secure-0e4de6e0-e2d7-4267-949d-7b1ad758a53f/data/pheno/eur_ids.txt'</li><li>'gs://fc-secure-0e4de6e0-e2d7-4267-949d-7b1ad758a53f/data/pheno/eur_pheno.txt'</li><li>'gs://fc-secure-0e4de6e0-e2d7-4267-949d-7b1ad758a53f/data/pheno/eur_pheno_clean.txt'</li></ol>\n"
      ],
      "text/latex": [
       "\\begin{enumerate*}\n",
       "\\item 'gs://fc-secure-0e4de6e0-e2d7-4267-949d-7b1ad758a53f/data/pheno/afr\\_ids.txt'\n",
       "\\item 'gs://fc-secure-0e4de6e0-e2d7-4267-949d-7b1ad758a53f/data/pheno/afr\\_pheno.txt'\n",
       "\\item 'gs://fc-secure-0e4de6e0-e2d7-4267-949d-7b1ad758a53f/data/pheno/afr\\_pheno\\_clean.txt'\n",
       "\\item 'gs://fc-secure-0e4de6e0-e2d7-4267-949d-7b1ad758a53f/data/pheno/amr\\_ids.txt'\n",
       "\\item 'gs://fc-secure-0e4de6e0-e2d7-4267-949d-7b1ad758a53f/data/pheno/amr\\_pheno.txt'\n",
       "\\item 'gs://fc-secure-0e4de6e0-e2d7-4267-949d-7b1ad758a53f/data/pheno/amr\\_pheno\\_clean.txt'\n",
       "\\item 'gs://fc-secure-0e4de6e0-e2d7-4267-949d-7b1ad758a53f/data/pheno/eur\\_ids.txt'\n",
       "\\item 'gs://fc-secure-0e4de6e0-e2d7-4267-949d-7b1ad758a53f/data/pheno/eur\\_pheno.txt'\n",
       "\\item 'gs://fc-secure-0e4de6e0-e2d7-4267-949d-7b1ad758a53f/data/pheno/eur\\_pheno\\_clean.txt'\n",
       "\\end{enumerate*}\n"
      ],
      "text/markdown": [
       "1. 'gs://fc-secure-0e4de6e0-e2d7-4267-949d-7b1ad758a53f/data/pheno/afr_ids.txt'\n",
       "2. 'gs://fc-secure-0e4de6e0-e2d7-4267-949d-7b1ad758a53f/data/pheno/afr_pheno.txt'\n",
       "3. 'gs://fc-secure-0e4de6e0-e2d7-4267-949d-7b1ad758a53f/data/pheno/afr_pheno_clean.txt'\n",
       "4. 'gs://fc-secure-0e4de6e0-e2d7-4267-949d-7b1ad758a53f/data/pheno/amr_ids.txt'\n",
       "5. 'gs://fc-secure-0e4de6e0-e2d7-4267-949d-7b1ad758a53f/data/pheno/amr_pheno.txt'\n",
       "6. 'gs://fc-secure-0e4de6e0-e2d7-4267-949d-7b1ad758a53f/data/pheno/amr_pheno_clean.txt'\n",
       "7. 'gs://fc-secure-0e4de6e0-e2d7-4267-949d-7b1ad758a53f/data/pheno/eur_ids.txt'\n",
       "8. 'gs://fc-secure-0e4de6e0-e2d7-4267-949d-7b1ad758a53f/data/pheno/eur_pheno.txt'\n",
       "9. 'gs://fc-secure-0e4de6e0-e2d7-4267-949d-7b1ad758a53f/data/pheno/eur_pheno_clean.txt'\n",
       "\n",
       "\n"
      ],
      "text/plain": [
       "[1] \"gs://fc-secure-0e4de6e0-e2d7-4267-949d-7b1ad758a53f/data/pheno/afr_ids.txt\"        \n",
       "[2] \"gs://fc-secure-0e4de6e0-e2d7-4267-949d-7b1ad758a53f/data/pheno/afr_pheno.txt\"      \n",
       "[3] \"gs://fc-secure-0e4de6e0-e2d7-4267-949d-7b1ad758a53f/data/pheno/afr_pheno_clean.txt\"\n",
       "[4] \"gs://fc-secure-0e4de6e0-e2d7-4267-949d-7b1ad758a53f/data/pheno/amr_ids.txt\"        \n",
       "[5] \"gs://fc-secure-0e4de6e0-e2d7-4267-949d-7b1ad758a53f/data/pheno/amr_pheno.txt\"      \n",
       "[6] \"gs://fc-secure-0e4de6e0-e2d7-4267-949d-7b1ad758a53f/data/pheno/amr_pheno_clean.txt\"\n",
       "[7] \"gs://fc-secure-0e4de6e0-e2d7-4267-949d-7b1ad758a53f/data/pheno/eur_ids.txt\"        \n",
       "[8] \"gs://fc-secure-0e4de6e0-e2d7-4267-949d-7b1ad758a53f/data/pheno/eur_pheno.txt\"      \n",
       "[9] \"gs://fc-secure-0e4de6e0-e2d7-4267-949d-7b1ad758a53f/data/pheno/eur_pheno_clean.txt\""
      ]
     },
     "metadata": {},
     "output_type": "display_data"
    }
   ],
   "source": [
    "## european\n",
    "pheno_eur <-\n",
    "pheno %>% \n",
    "    filter(gen_ancestry == \"eur\") %>%\n",
    "    mutate(FID = 0) %>%\n",
    "    mutate(IID = person_id) %>%\n",
    "    select(FID, IID, delirium_status, age, sex, starts_with(\"PC\")[1:10])\n",
    "\n",
    "## african\n",
    "pheno_afr <-\n",
    "pheno %>% \n",
    "    filter(gen_ancestry == \"afr\") %>%\n",
    "    mutate(FID = 0) %>%\n",
    "    mutate(IID = person_id) %>%\n",
    "    select(FID, IID, delirium_status, age, sex, starts_with(\"PC\")[1:10])\n",
    "\n",
    "## american\n",
    "pheno_amr <-\n",
    "pheno %>% \n",
    "    filter(gen_ancestry == \"amr\") %>%\n",
    "    mutate(FID = 0) %>%\n",
    "    mutate(IID = person_id) %>%\n",
    "    select(FID, IID, delirium_status, age, sex, starts_with(\"PC\")[1:10])\n",
    "\n",
    "## save .txt to workspace (space seperated)\n",
    "write.table(pheno_eur, \"eur_pheno.txt\", sep=\" \", row.names=F, col.names=T, quote=F)\n",
    "write.table(pheno_afr, \"afr_pheno.txt\", sep=\" \", row.names=F, col.names=T, quote=F)\n",
    "write.table(pheno_amr, \"amr_pheno.txt\", sep=\" \", row.names=F, col.names=T, quote=F)\n",
    "\n",
    "## save .txt to bucket\n",
    "# system(paste0(\"gsutil cp ./\", \"eur_pheno.txt\", \" \", my_bucket, \"/data/pheno/\"), intern=T)\n",
    "# system(paste0(\"gsutil cp ./\", \"afr_pheno.txt\", \" \", my_bucket, \"/data/pheno/\"), intern=T)\n",
    "# system(paste0(\"gsutil cp ./\", \"amr_pheno.txt\", \" \", my_bucket, \"/data/pheno/\"), intern=T)\n",
    "system(paste0(\"gsutil cp ./\", \"eur_pheno.txt\", \" \", my_bucket, \"/data/pheno/eur_pheno_clean.txt\"), intern=T)\n",
    "system(paste0(\"gsutil cp ./\", \"afr_pheno.txt\", \" \", my_bucket, \"/data/pheno/afr_pheno_clean.txt\"), intern=T)\n",
    "system(paste0(\"gsutil cp ./\", \"amr_pheno.txt\", \" \", my_bucket, \"/data/pheno/amr_pheno_clean.txt\"), intern=T)\n",
    "\n",
    "## check\n",
    "system(paste0(\"gsutil ls \", my_bucket, \"/data/pheno/*.txt\"), intern=T)"
   ]
  },
  {
   "cell_type": "markdown",
   "metadata": {},
   "source": [
    "**Make _ids files (to use with --keep in plink2):** <br>\n",
    "*two columns; no header: FID==0, IID "
   ]
  },
  {
   "cell_type": "code",
   "execution_count": 12,
   "metadata": {},
   "outputs": [],
   "source": [
    "eur_ids <- pheno_eur %>% select(FID,IID)\n",
    "afr_ids <- pheno_afr %>% select(FID,IID)\n",
    "amr_ids <- pheno_amr %>% select(FID,IID)\n"
   ]
  },
  {
   "cell_type": "code",
   "execution_count": 14,
   "metadata": {},
   "outputs": [
    {
     "data": {
      "text/html": [
       "<style>\n",
       ".list-inline {list-style: none; margin:0; padding: 0}\n",
       ".list-inline>li {display: inline-block}\n",
       ".list-inline>li:not(:last-child)::after {content: \"\\00b7\"; padding: 0 .5ex}\n",
       "</style>\n",
       "<ol class=list-inline><li><span style=white-space:pre-wrap>'  52536 afr_ids.txt'</span></li><li><span style=white-space:pre-wrap>'  40096 amr_ids.txt'</span></li><li>' 120476 eur_ids.txt'</li><li>' 213108 total'</li></ol>\n"
      ],
      "text/latex": [
       "\\begin{enumerate*}\n",
       "\\item '  52536 afr\\_ids.txt'\n",
       "\\item '  40096 amr\\_ids.txt'\n",
       "\\item ' 120476 eur\\_ids.txt'\n",
       "\\item ' 213108 total'\n",
       "\\end{enumerate*}\n"
      ],
      "text/markdown": [
       "1. <span style=white-space:pre-wrap>'  52536 afr_ids.txt'</span>\n",
       "2. <span style=white-space:pre-wrap>'  40096 amr_ids.txt'</span>\n",
       "3. ' 120476 eur_ids.txt'\n",
       "4. ' 213108 total'\n",
       "\n",
       "\n"
      ],
      "text/plain": [
       "[1] \"  52536 afr_ids.txt\" \"  40096 amr_ids.txt\" \" 120476 eur_ids.txt\"\n",
       "[4] \" 213108 total\"      "
      ]
     },
     "metadata": {},
     "output_type": "display_data"
    },
    {
     "data": {
      "text/html": [],
      "text/latex": [],
      "text/markdown": [],
      "text/plain": [
       "character(0)"
      ]
     },
     "metadata": {},
     "output_type": "display_data"
    },
    {
     "data": {
      "text/html": [],
      "text/latex": [],
      "text/markdown": [],
      "text/plain": [
       "character(0)"
      ]
     },
     "metadata": {},
     "output_type": "display_data"
    },
    {
     "data": {
      "text/html": [],
      "text/latex": [],
      "text/markdown": [],
      "text/plain": [
       "character(0)"
      ]
     },
     "metadata": {},
     "output_type": "display_data"
    },
    {
     "data": {
      "text/html": [],
      "text/latex": [],
      "text/markdown": [],
      "text/plain": [
       "character(0)"
      ]
     },
     "metadata": {},
     "output_type": "display_data"
    },
    {
     "data": {
      "text/html": [],
      "text/latex": [],
      "text/markdown": [],
      "text/plain": [
       "character(0)"
      ]
     },
     "metadata": {},
     "output_type": "display_data"
    },
    {
     "data": {
      "text/html": [
       "<style>\n",
       ".list-inline {list-style: none; margin:0; padding: 0}\n",
       ".list-inline>li {display: inline-block}\n",
       ".list-inline>li:not(:last-child)::after {content: \"\\00b7\"; padding: 0 .5ex}\n",
       "</style>\n",
       "<ol class=list-inline><li>'gs://fc-secure-0e4de6e0-e2d7-4267-949d-7b1ad758a53f/data/pheno/afr_ids.txt'</li><li>'gs://fc-secure-0e4de6e0-e2d7-4267-949d-7b1ad758a53f/data/pheno/afr_pheno.txt'</li><li>'gs://fc-secure-0e4de6e0-e2d7-4267-949d-7b1ad758a53f/data/pheno/amr_ids.txt'</li><li>'gs://fc-secure-0e4de6e0-e2d7-4267-949d-7b1ad758a53f/data/pheno/amr_pheno.txt'</li><li>'gs://fc-secure-0e4de6e0-e2d7-4267-949d-7b1ad758a53f/data/pheno/eur_ids.txt'</li><li>'gs://fc-secure-0e4de6e0-e2d7-4267-949d-7b1ad758a53f/data/pheno/eur_pheno.txt'</li><li>'gs://fc-secure-0e4de6e0-e2d7-4267-949d-7b1ad758a53f/data/pheno/full_pheno_clean_del_df.csv'</li><li>'gs://fc-secure-0e4de6e0-e2d7-4267-949d-7b1ad758a53f/data/pheno/full_pheno_df.csv'</li><li>''</li><li>'gs://fc-secure-0e4de6e0-e2d7-4267-949d-7b1ad758a53f/data/pheno/clean/:'</li><li>'gs://fc-secure-0e4de6e0-e2d7-4267-949d-7b1ad758a53f/data/pheno/clean/afr_ids_clean.txt'</li><li>'gs://fc-secure-0e4de6e0-e2d7-4267-949d-7b1ad758a53f/data/pheno/clean/afr_pheno_clean.txt'</li><li>'gs://fc-secure-0e4de6e0-e2d7-4267-949d-7b1ad758a53f/data/pheno/clean/amr_ids_clean.txt'</li><li>'gs://fc-secure-0e4de6e0-e2d7-4267-949d-7b1ad758a53f/data/pheno/clean/amr_pheno_clean.txt'</li><li>'gs://fc-secure-0e4de6e0-e2d7-4267-949d-7b1ad758a53f/data/pheno/clean/eur_ids_clean.txt'</li><li>'gs://fc-secure-0e4de6e0-e2d7-4267-949d-7b1ad758a53f/data/pheno/clean/eur_pheno_clean.txt'</li></ol>\n"
      ],
      "text/latex": [
       "\\begin{enumerate*}\n",
       "\\item 'gs://fc-secure-0e4de6e0-e2d7-4267-949d-7b1ad758a53f/data/pheno/afr\\_ids.txt'\n",
       "\\item 'gs://fc-secure-0e4de6e0-e2d7-4267-949d-7b1ad758a53f/data/pheno/afr\\_pheno.txt'\n",
       "\\item 'gs://fc-secure-0e4de6e0-e2d7-4267-949d-7b1ad758a53f/data/pheno/amr\\_ids.txt'\n",
       "\\item 'gs://fc-secure-0e4de6e0-e2d7-4267-949d-7b1ad758a53f/data/pheno/amr\\_pheno.txt'\n",
       "\\item 'gs://fc-secure-0e4de6e0-e2d7-4267-949d-7b1ad758a53f/data/pheno/eur\\_ids.txt'\n",
       "\\item 'gs://fc-secure-0e4de6e0-e2d7-4267-949d-7b1ad758a53f/data/pheno/eur\\_pheno.txt'\n",
       "\\item 'gs://fc-secure-0e4de6e0-e2d7-4267-949d-7b1ad758a53f/data/pheno/full\\_pheno\\_clean\\_del\\_df.csv'\n",
       "\\item 'gs://fc-secure-0e4de6e0-e2d7-4267-949d-7b1ad758a53f/data/pheno/full\\_pheno\\_df.csv'\n",
       "\\item ''\n",
       "\\item 'gs://fc-secure-0e4de6e0-e2d7-4267-949d-7b1ad758a53f/data/pheno/clean/:'\n",
       "\\item 'gs://fc-secure-0e4de6e0-e2d7-4267-949d-7b1ad758a53f/data/pheno/clean/afr\\_ids\\_clean.txt'\n",
       "\\item 'gs://fc-secure-0e4de6e0-e2d7-4267-949d-7b1ad758a53f/data/pheno/clean/afr\\_pheno\\_clean.txt'\n",
       "\\item 'gs://fc-secure-0e4de6e0-e2d7-4267-949d-7b1ad758a53f/data/pheno/clean/amr\\_ids\\_clean.txt'\n",
       "\\item 'gs://fc-secure-0e4de6e0-e2d7-4267-949d-7b1ad758a53f/data/pheno/clean/amr\\_pheno\\_clean.txt'\n",
       "\\item 'gs://fc-secure-0e4de6e0-e2d7-4267-949d-7b1ad758a53f/data/pheno/clean/eur\\_ids\\_clean.txt'\n",
       "\\item 'gs://fc-secure-0e4de6e0-e2d7-4267-949d-7b1ad758a53f/data/pheno/clean/eur\\_pheno\\_clean.txt'\n",
       "\\end{enumerate*}\n"
      ],
      "text/markdown": [
       "1. 'gs://fc-secure-0e4de6e0-e2d7-4267-949d-7b1ad758a53f/data/pheno/afr_ids.txt'\n",
       "2. 'gs://fc-secure-0e4de6e0-e2d7-4267-949d-7b1ad758a53f/data/pheno/afr_pheno.txt'\n",
       "3. 'gs://fc-secure-0e4de6e0-e2d7-4267-949d-7b1ad758a53f/data/pheno/amr_ids.txt'\n",
       "4. 'gs://fc-secure-0e4de6e0-e2d7-4267-949d-7b1ad758a53f/data/pheno/amr_pheno.txt'\n",
       "5. 'gs://fc-secure-0e4de6e0-e2d7-4267-949d-7b1ad758a53f/data/pheno/eur_ids.txt'\n",
       "6. 'gs://fc-secure-0e4de6e0-e2d7-4267-949d-7b1ad758a53f/data/pheno/eur_pheno.txt'\n",
       "7. 'gs://fc-secure-0e4de6e0-e2d7-4267-949d-7b1ad758a53f/data/pheno/full_pheno_clean_del_df.csv'\n",
       "8. 'gs://fc-secure-0e4de6e0-e2d7-4267-949d-7b1ad758a53f/data/pheno/full_pheno_df.csv'\n",
       "9. ''\n",
       "10. 'gs://fc-secure-0e4de6e0-e2d7-4267-949d-7b1ad758a53f/data/pheno/clean/:'\n",
       "11. 'gs://fc-secure-0e4de6e0-e2d7-4267-949d-7b1ad758a53f/data/pheno/clean/afr_ids_clean.txt'\n",
       "12. 'gs://fc-secure-0e4de6e0-e2d7-4267-949d-7b1ad758a53f/data/pheno/clean/afr_pheno_clean.txt'\n",
       "13. 'gs://fc-secure-0e4de6e0-e2d7-4267-949d-7b1ad758a53f/data/pheno/clean/amr_ids_clean.txt'\n",
       "14. 'gs://fc-secure-0e4de6e0-e2d7-4267-949d-7b1ad758a53f/data/pheno/clean/amr_pheno_clean.txt'\n",
       "15. 'gs://fc-secure-0e4de6e0-e2d7-4267-949d-7b1ad758a53f/data/pheno/clean/eur_ids_clean.txt'\n",
       "16. 'gs://fc-secure-0e4de6e0-e2d7-4267-949d-7b1ad758a53f/data/pheno/clean/eur_pheno_clean.txt'\n",
       "\n",
       "\n"
      ],
      "text/plain": [
       " [1] \"gs://fc-secure-0e4de6e0-e2d7-4267-949d-7b1ad758a53f/data/pheno/afr_ids.txt\"                \n",
       " [2] \"gs://fc-secure-0e4de6e0-e2d7-4267-949d-7b1ad758a53f/data/pheno/afr_pheno.txt\"              \n",
       " [3] \"gs://fc-secure-0e4de6e0-e2d7-4267-949d-7b1ad758a53f/data/pheno/amr_ids.txt\"                \n",
       " [4] \"gs://fc-secure-0e4de6e0-e2d7-4267-949d-7b1ad758a53f/data/pheno/amr_pheno.txt\"              \n",
       " [5] \"gs://fc-secure-0e4de6e0-e2d7-4267-949d-7b1ad758a53f/data/pheno/eur_ids.txt\"                \n",
       " [6] \"gs://fc-secure-0e4de6e0-e2d7-4267-949d-7b1ad758a53f/data/pheno/eur_pheno.txt\"              \n",
       " [7] \"gs://fc-secure-0e4de6e0-e2d7-4267-949d-7b1ad758a53f/data/pheno/full_pheno_clean_del_df.csv\"\n",
       " [8] \"gs://fc-secure-0e4de6e0-e2d7-4267-949d-7b1ad758a53f/data/pheno/full_pheno_df.csv\"          \n",
       " [9] \"\"                                                                                          \n",
       "[10] \"gs://fc-secure-0e4de6e0-e2d7-4267-949d-7b1ad758a53f/data/pheno/clean/:\"                    \n",
       "[11] \"gs://fc-secure-0e4de6e0-e2d7-4267-949d-7b1ad758a53f/data/pheno/clean/afr_ids_clean.txt\"    \n",
       "[12] \"gs://fc-secure-0e4de6e0-e2d7-4267-949d-7b1ad758a53f/data/pheno/clean/afr_pheno_clean.txt\"  \n",
       "[13] \"gs://fc-secure-0e4de6e0-e2d7-4267-949d-7b1ad758a53f/data/pheno/clean/amr_ids_clean.txt\"    \n",
       "[14] \"gs://fc-secure-0e4de6e0-e2d7-4267-949d-7b1ad758a53f/data/pheno/clean/amr_pheno_clean.txt\"  \n",
       "[15] \"gs://fc-secure-0e4de6e0-e2d7-4267-949d-7b1ad758a53f/data/pheno/clean/eur_ids_clean.txt\"    \n",
       "[16] \"gs://fc-secure-0e4de6e0-e2d7-4267-949d-7b1ad758a53f/data/pheno/clean/eur_pheno_clean.txt\"  "
      ]
     },
     "metadata": {},
     "output_type": "display_data"
    }
   ],
   "source": [
    "## save .txt to workspace\n",
    "write.table(eur_ids, \"eur_ids.txt\", sep=\" \", row.names=F, col.names=F, quote=F)\n",
    "write.table(afr_ids, \"afr_ids.txt\", sep=\" \", row.names=F, col.names=F, quote=F)\n",
    "write.table(amr_ids, \"amr_ids.txt\", sep=\" \", row.names=F, col.names=F, quote=F)\n",
    "## check\n",
    "system(\"wc -l *_ids.txt\", intern=T)\n",
    "\n",
    "## save .txt to bucket\n",
    "# system(paste0(\"gsutil cp ./\", \"eur_ids.txt\", \" \", my_bucket, \"/data/pheno/\"), intern=T)\n",
    "# system(paste0(\"gsutil cp ./\", \"afr_ids.txt\", \" \", my_bucket, \"/data/pheno/\"), intern=T)\n",
    "# system(paste0(\"gsutil cp ./\", \"amr_ids.txt\", \" \", my_bucket, \"/data/pheno/\"), intern=T)\n",
    "system(paste0(\"gsutil cp ./\", \"eur_ids.txt\", \" \", my_bucket, \"/data/pheno/eur_ids_clean.txt\"), intern=T)\n",
    "system(paste0(\"gsutil cp ./\", \"afr_ids.txt\", \" \", my_bucket, \"/data/pheno/afr_ids_clean.txt\"), intern=T)\n",
    "system(paste0(\"gsutil cp ./\", \"amr_ids.txt\", \" \", my_bucket, \"/data/pheno/amr_ids_clean.txt\"), intern=T)\n",
    "\n",
    "## move all clean pheno files to a bucket folder:\n",
    "system(paste0(\"gsutil cp \", my_bucket, \"/data/pheno/*_clean.txt\", \" \", my_bucket, \"/data/pheno/clean/\"), intern=T)\n",
    "system(paste0(\"gsutil rm \", my_bucket, \"/data/pheno/*_clean.txt\"), intern=T)\n",
    "\n",
    "## check\n",
    "system(paste0(\"gsutil ls \", my_bucket, \"/data/pheno/*\"), intern=T)\n"
   ]
  }
 ],
 "metadata": {
  "kernelspec": {
   "display_name": "R",
   "language": "R",
   "name": "ir"
  },
  "language_info": {
   "codemirror_mode": "r",
   "file_extension": ".r",
   "mimetype": "text/x-r-source",
   "name": "R",
   "pygments_lexer": "r",
   "version": "4.4.0"
  },
  "toc": {
   "base_numbering": 1,
   "nav_menu": {},
   "number_sections": true,
   "sideBar": true,
   "skip_h1_title": false,
   "title_cell": "Table of Contents",
   "title_sidebar": "Contents",
   "toc_cell": false,
   "toc_position": {},
   "toc_section_display": true,
   "toc_window_display": false
  }
 },
 "nbformat": 4,
 "nbformat_minor": 2
}
