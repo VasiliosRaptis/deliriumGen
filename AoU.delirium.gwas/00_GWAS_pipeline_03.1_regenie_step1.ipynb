{
 "cells": [
  {
   "cell_type": "markdown",
   "metadata": {},
   "source": [
    "**AUTHOR:** <br>\n",
    "Vasilis Raptis\n",
    "\n",
    "**DATE:** <br>\n",
    "21.05.2024 \n",
    "\n",
    "**PURPOSE:** <br>\n",
    "This notebook: \n",
    "- runs regenie step 1, using filted microarray genotypes and delirium phenotype file (eur, afr, amr)\n",
    "- copy regenie step 1 output to bucket\n",
    "\n",
    "**NOTES:** <br>\n",
    "- use lists of filterd ids and snps from bucket, array_noY genotypes from workspace (created with 02_part1_genotypes_preprocessing.ipynb)\n",
    "- afr population has >1M filtered snps, regenie throws an error. Use --force-step1\n",
    "- run in background, using 00_run_notebook_in_background.ipynb\n",
    "- running times :\n",
    " - amr: 5h, 15m, and 19s (with 4 CPUs & 15G RAM)\n",
    " - eur: 8.22h (with 16 CPUs, 14.4G RAM)\n",
    " - afr: 9.51h (with 4 CPUs & 15G RAM)\n",
    " \n",
    "**UPDATE 09.07.24:**\n",
    "- running times (with 16 CPUs, 14.4G RAM):\n",
    " - amr: 3.2h\n",
    " - eur: 7.9h\n",
    " - afr: "
   ]
  },
  {
   "cell_type": "markdown",
   "metadata": {},
   "source": [
    "**Setup:**"
   ]
  },
  {
   "cell_type": "code",
   "execution_count": 1,
   "metadata": {},
   "outputs": [
    {
     "name": "stderr",
     "output_type": "stream",
     "text": [
      "── \u001b[1mAttaching core tidyverse packages\u001b[22m ──────────────────────── tidyverse 2.0.0 ──\n",
      "\u001b[32m✔\u001b[39m \u001b[34mdplyr    \u001b[39m 1.1.4     \u001b[32m✔\u001b[39m \u001b[34mreadr    \u001b[39m 2.1.5\n",
      "\u001b[32m✔\u001b[39m \u001b[34mforcats  \u001b[39m 1.0.0     \u001b[32m✔\u001b[39m \u001b[34mstringr  \u001b[39m 1.5.1\n",
      "\u001b[32m✔\u001b[39m \u001b[34mggplot2  \u001b[39m 3.5.1     \u001b[32m✔\u001b[39m \u001b[34mtibble   \u001b[39m 3.2.1\n",
      "\u001b[32m✔\u001b[39m \u001b[34mlubridate\u001b[39m 1.9.3     \u001b[32m✔\u001b[39m \u001b[34mtidyr    \u001b[39m 1.3.1\n",
      "\u001b[32m✔\u001b[39m \u001b[34mpurrr    \u001b[39m 1.0.2     \n",
      "── \u001b[1mConflicts\u001b[22m ────────────────────────────────────────── tidyverse_conflicts() ──\n",
      "\u001b[31m✖\u001b[39m \u001b[34mdplyr\u001b[39m::\u001b[32mbetween()\u001b[39m     masks \u001b[34mdata.table\u001b[39m::between()\n",
      "\u001b[31m✖\u001b[39m \u001b[34mdplyr\u001b[39m::\u001b[32mfilter()\u001b[39m      masks \u001b[34mstats\u001b[39m::filter()\n",
      "\u001b[31m✖\u001b[39m \u001b[34mdplyr\u001b[39m::\u001b[32mfirst()\u001b[39m       masks \u001b[34mdata.table\u001b[39m::first()\n",
      "\u001b[31m✖\u001b[39m \u001b[34mlubridate\u001b[39m::\u001b[32mhour()\u001b[39m    masks \u001b[34mdata.table\u001b[39m::hour()\n",
      "\u001b[31m✖\u001b[39m \u001b[34mlubridate\u001b[39m::\u001b[32misoweek()\u001b[39m masks \u001b[34mdata.table\u001b[39m::isoweek()\n",
      "\u001b[31m✖\u001b[39m \u001b[34mdplyr\u001b[39m::\u001b[32mlag()\u001b[39m         masks \u001b[34mstats\u001b[39m::lag()\n",
      "\u001b[31m✖\u001b[39m \u001b[34mdplyr\u001b[39m::\u001b[32mlast()\u001b[39m        masks \u001b[34mdata.table\u001b[39m::last()\n",
      "\u001b[31m✖\u001b[39m \u001b[34mlubridate\u001b[39m::\u001b[32mmday()\u001b[39m    masks \u001b[34mdata.table\u001b[39m::mday()\n",
      "\u001b[31m✖\u001b[39m \u001b[34mlubridate\u001b[39m::\u001b[32mminute()\u001b[39m  masks \u001b[34mdata.table\u001b[39m::minute()\n",
      "\u001b[31m✖\u001b[39m \u001b[34mlubridate\u001b[39m::\u001b[32mmonth()\u001b[39m   masks \u001b[34mdata.table\u001b[39m::month()\n",
      "\u001b[31m✖\u001b[39m \u001b[34mlubridate\u001b[39m::\u001b[32mquarter()\u001b[39m masks \u001b[34mdata.table\u001b[39m::quarter()\n",
      "\u001b[31m✖\u001b[39m \u001b[34mlubridate\u001b[39m::\u001b[32msecond()\u001b[39m  masks \u001b[34mdata.table\u001b[39m::second()\n",
      "\u001b[31m✖\u001b[39m \u001b[34mpurrr\u001b[39m::\u001b[32mtranspose()\u001b[39m   masks \u001b[34mdata.table\u001b[39m::transpose()\n",
      "\u001b[31m✖\u001b[39m \u001b[34mlubridate\u001b[39m::\u001b[32mwday()\u001b[39m    masks \u001b[34mdata.table\u001b[39m::wday()\n",
      "\u001b[31m✖\u001b[39m \u001b[34mlubridate\u001b[39m::\u001b[32mweek()\u001b[39m    masks \u001b[34mdata.table\u001b[39m::week()\n",
      "\u001b[31m✖\u001b[39m \u001b[34mlubridate\u001b[39m::\u001b[32myday()\u001b[39m    masks \u001b[34mdata.table\u001b[39m::yday()\n",
      "\u001b[31m✖\u001b[39m \u001b[34mlubridate\u001b[39m::\u001b[32myear()\u001b[39m    masks \u001b[34mdata.table\u001b[39m::year()\n",
      "\u001b[36mℹ\u001b[39m Use the conflicted package (\u001b[3m\u001b[34m<http://conflicted.r-lib.org/>\u001b[39m\u001b[23m) to force all conflicts to become errors\n"
     ]
    }
   ],
   "source": [
    "# libraries\n",
    "library(data.table)\n",
    "library(tidyverse)\n",
    "\n",
    "## Get my bucket name\n",
    "my_bucket  <- Sys.getenv(\"WORKSPACE_BUCKET\")\n",
    "## Google project name\n",
    "GOOGLE_PROJECT <- Sys.getenv(\"GOOGLE_PROJECT\")"
   ]
  },
  {
   "cell_type": "code",
   "execution_count": 3,
   "metadata": {},
   "outputs": [
    {
     "data": {
      "text/html": [
       "<style>\n",
       ".list-inline {list-style: none; margin:0; padding: 0}\n",
       ".list-inline>li {display: inline-block}\n",
       ".list-inline>li:not(:last-child)::after {content: \"\\00b7\"; padding: 0 .5ex}\n",
       "</style>\n",
       "<ol class=list-inline><li>'gs://fc-secure-0e4de6e0-e2d7-4267-949d-7b1ad758a53f/data/pheno/clean/afr_ids_clean.txt'</li><li>'gs://fc-secure-0e4de6e0-e2d7-4267-949d-7b1ad758a53f/data/pheno/clean/afr_pheno_clean.txt'</li><li>'gs://fc-secure-0e4de6e0-e2d7-4267-949d-7b1ad758a53f/data/pheno/clean/amr_ids_clean.txt'</li><li>'gs://fc-secure-0e4de6e0-e2d7-4267-949d-7b1ad758a53f/data/pheno/clean/amr_pheno_clean.txt'</li><li>'gs://fc-secure-0e4de6e0-e2d7-4267-949d-7b1ad758a53f/data/pheno/clean/eur_ids_clean.txt'</li><li>'gs://fc-secure-0e4de6e0-e2d7-4267-949d-7b1ad758a53f/data/pheno/clean/eur_pheno_clean.txt'</li><li>'gs://fc-secure-0e4de6e0-e2d7-4267-949d-7b1ad758a53f/data/pheno/clean/1on10/'</li><li>'gs://fc-secure-0e4de6e0-e2d7-4267-949d-7b1ad758a53f/data/pheno/clean/1on5/'</li></ol>\n"
      ],
      "text/latex": [
       "\\begin{enumerate*}\n",
       "\\item 'gs://fc-secure-0e4de6e0-e2d7-4267-949d-7b1ad758a53f/data/pheno/clean/afr\\_ids\\_clean.txt'\n",
       "\\item 'gs://fc-secure-0e4de6e0-e2d7-4267-949d-7b1ad758a53f/data/pheno/clean/afr\\_pheno\\_clean.txt'\n",
       "\\item 'gs://fc-secure-0e4de6e0-e2d7-4267-949d-7b1ad758a53f/data/pheno/clean/amr\\_ids\\_clean.txt'\n",
       "\\item 'gs://fc-secure-0e4de6e0-e2d7-4267-949d-7b1ad758a53f/data/pheno/clean/amr\\_pheno\\_clean.txt'\n",
       "\\item 'gs://fc-secure-0e4de6e0-e2d7-4267-949d-7b1ad758a53f/data/pheno/clean/eur\\_ids\\_clean.txt'\n",
       "\\item 'gs://fc-secure-0e4de6e0-e2d7-4267-949d-7b1ad758a53f/data/pheno/clean/eur\\_pheno\\_clean.txt'\n",
       "\\item 'gs://fc-secure-0e4de6e0-e2d7-4267-949d-7b1ad758a53f/data/pheno/clean/1on10/'\n",
       "\\item 'gs://fc-secure-0e4de6e0-e2d7-4267-949d-7b1ad758a53f/data/pheno/clean/1on5/'\n",
       "\\end{enumerate*}\n"
      ],
      "text/markdown": [
       "1. 'gs://fc-secure-0e4de6e0-e2d7-4267-949d-7b1ad758a53f/data/pheno/clean/afr_ids_clean.txt'\n",
       "2. 'gs://fc-secure-0e4de6e0-e2d7-4267-949d-7b1ad758a53f/data/pheno/clean/afr_pheno_clean.txt'\n",
       "3. 'gs://fc-secure-0e4de6e0-e2d7-4267-949d-7b1ad758a53f/data/pheno/clean/amr_ids_clean.txt'\n",
       "4. 'gs://fc-secure-0e4de6e0-e2d7-4267-949d-7b1ad758a53f/data/pheno/clean/amr_pheno_clean.txt'\n",
       "5. 'gs://fc-secure-0e4de6e0-e2d7-4267-949d-7b1ad758a53f/data/pheno/clean/eur_ids_clean.txt'\n",
       "6. 'gs://fc-secure-0e4de6e0-e2d7-4267-949d-7b1ad758a53f/data/pheno/clean/eur_pheno_clean.txt'\n",
       "7. 'gs://fc-secure-0e4de6e0-e2d7-4267-949d-7b1ad758a53f/data/pheno/clean/1on10/'\n",
       "8. 'gs://fc-secure-0e4de6e0-e2d7-4267-949d-7b1ad758a53f/data/pheno/clean/1on5/'\n",
       "\n",
       "\n"
      ],
      "text/plain": [
       "[1] \"gs://fc-secure-0e4de6e0-e2d7-4267-949d-7b1ad758a53f/data/pheno/clean/afr_ids_clean.txt\"  \n",
       "[2] \"gs://fc-secure-0e4de6e0-e2d7-4267-949d-7b1ad758a53f/data/pheno/clean/afr_pheno_clean.txt\"\n",
       "[3] \"gs://fc-secure-0e4de6e0-e2d7-4267-949d-7b1ad758a53f/data/pheno/clean/amr_ids_clean.txt\"  \n",
       "[4] \"gs://fc-secure-0e4de6e0-e2d7-4267-949d-7b1ad758a53f/data/pheno/clean/amr_pheno_clean.txt\"\n",
       "[5] \"gs://fc-secure-0e4de6e0-e2d7-4267-949d-7b1ad758a53f/data/pheno/clean/eur_ids_clean.txt\"  \n",
       "[6] \"gs://fc-secure-0e4de6e0-e2d7-4267-949d-7b1ad758a53f/data/pheno/clean/eur_pheno_clean.txt\"\n",
       "[7] \"gs://fc-secure-0e4de6e0-e2d7-4267-949d-7b1ad758a53f/data/pheno/clean/1on10/\"             \n",
       "[8] \"gs://fc-secure-0e4de6e0-e2d7-4267-949d-7b1ad758a53f/data/pheno/clean/1on5/\"              "
      ]
     },
     "metadata": {},
     "output_type": "display_data"
    },
    {
     "data": {
      "text/html": [
       "<style>\n",
       ".list-inline {list-style: none; margin:0; padding: 0}\n",
       ".list-inline>li {display: inline-block}\n",
       ".list-inline>li:not(:last-child)::after {content: \"\\00b7\"; padding: 0 .5ex}\n",
       "</style>\n",
       "<ol class=list-inline><li>'gs://fc-secure-0e4de6e0-e2d7-4267-949d-7b1ad758a53f/data/arrays/clean/all/arrays_qc_afr_clean.id'</li><li>'gs://fc-secure-0e4de6e0-e2d7-4267-949d-7b1ad758a53f/data/arrays/clean/all/arrays_qc_afr_clean.snplist'</li><li>'gs://fc-secure-0e4de6e0-e2d7-4267-949d-7b1ad758a53f/data/arrays/clean/all/arrays_qc_amr_clean.id'</li><li>'gs://fc-secure-0e4de6e0-e2d7-4267-949d-7b1ad758a53f/data/arrays/clean/all/arrays_qc_amr_clean.snplist'</li><li>'gs://fc-secure-0e4de6e0-e2d7-4267-949d-7b1ad758a53f/data/arrays/clean/all/arrays_qc_eur_clean.id'</li><li>'gs://fc-secure-0e4de6e0-e2d7-4267-949d-7b1ad758a53f/data/arrays/clean/all/arrays_qc_eur_clean.snplist'</li><li>'gs://fc-secure-0e4de6e0-e2d7-4267-949d-7b1ad758a53f/data/arrays/clean/all/logs/'</li></ol>\n"
      ],
      "text/latex": [
       "\\begin{enumerate*}\n",
       "\\item 'gs://fc-secure-0e4de6e0-e2d7-4267-949d-7b1ad758a53f/data/arrays/clean/all/arrays\\_qc\\_afr\\_clean.id'\n",
       "\\item 'gs://fc-secure-0e4de6e0-e2d7-4267-949d-7b1ad758a53f/data/arrays/clean/all/arrays\\_qc\\_afr\\_clean.snplist'\n",
       "\\item 'gs://fc-secure-0e4de6e0-e2d7-4267-949d-7b1ad758a53f/data/arrays/clean/all/arrays\\_qc\\_amr\\_clean.id'\n",
       "\\item 'gs://fc-secure-0e4de6e0-e2d7-4267-949d-7b1ad758a53f/data/arrays/clean/all/arrays\\_qc\\_amr\\_clean.snplist'\n",
       "\\item 'gs://fc-secure-0e4de6e0-e2d7-4267-949d-7b1ad758a53f/data/arrays/clean/all/arrays\\_qc\\_eur\\_clean.id'\n",
       "\\item 'gs://fc-secure-0e4de6e0-e2d7-4267-949d-7b1ad758a53f/data/arrays/clean/all/arrays\\_qc\\_eur\\_clean.snplist'\n",
       "\\item 'gs://fc-secure-0e4de6e0-e2d7-4267-949d-7b1ad758a53f/data/arrays/clean/all/logs/'\n",
       "\\end{enumerate*}\n"
      ],
      "text/markdown": [
       "1. 'gs://fc-secure-0e4de6e0-e2d7-4267-949d-7b1ad758a53f/data/arrays/clean/all/arrays_qc_afr_clean.id'\n",
       "2. 'gs://fc-secure-0e4de6e0-e2d7-4267-949d-7b1ad758a53f/data/arrays/clean/all/arrays_qc_afr_clean.snplist'\n",
       "3. 'gs://fc-secure-0e4de6e0-e2d7-4267-949d-7b1ad758a53f/data/arrays/clean/all/arrays_qc_amr_clean.id'\n",
       "4. 'gs://fc-secure-0e4de6e0-e2d7-4267-949d-7b1ad758a53f/data/arrays/clean/all/arrays_qc_amr_clean.snplist'\n",
       "5. 'gs://fc-secure-0e4de6e0-e2d7-4267-949d-7b1ad758a53f/data/arrays/clean/all/arrays_qc_eur_clean.id'\n",
       "6. 'gs://fc-secure-0e4de6e0-e2d7-4267-949d-7b1ad758a53f/data/arrays/clean/all/arrays_qc_eur_clean.snplist'\n",
       "7. 'gs://fc-secure-0e4de6e0-e2d7-4267-949d-7b1ad758a53f/data/arrays/clean/all/logs/'\n",
       "\n",
       "\n"
      ],
      "text/plain": [
       "[1] \"gs://fc-secure-0e4de6e0-e2d7-4267-949d-7b1ad758a53f/data/arrays/clean/all/arrays_qc_afr_clean.id\"     \n",
       "[2] \"gs://fc-secure-0e4de6e0-e2d7-4267-949d-7b1ad758a53f/data/arrays/clean/all/arrays_qc_afr_clean.snplist\"\n",
       "[3] \"gs://fc-secure-0e4de6e0-e2d7-4267-949d-7b1ad758a53f/data/arrays/clean/all/arrays_qc_amr_clean.id\"     \n",
       "[4] \"gs://fc-secure-0e4de6e0-e2d7-4267-949d-7b1ad758a53f/data/arrays/clean/all/arrays_qc_amr_clean.snplist\"\n",
       "[5] \"gs://fc-secure-0e4de6e0-e2d7-4267-949d-7b1ad758a53f/data/arrays/clean/all/arrays_qc_eur_clean.id\"     \n",
       "[6] \"gs://fc-secure-0e4de6e0-e2d7-4267-949d-7b1ad758a53f/data/arrays/clean/all/arrays_qc_eur_clean.snplist\"\n",
       "[7] \"gs://fc-secure-0e4de6e0-e2d7-4267-949d-7b1ad758a53f/data/arrays/clean/all/logs/\"                      "
      ]
     },
     "metadata": {},
     "output_type": "display_data"
    },
    {
     "data": {
      "text/html": [
       "<style>\n",
       ".list-inline {list-style: none; margin:0; padding: 0}\n",
       ".list-inline>li {display: inline-block}\n",
       ".list-inline>li:not(:last-child)::after {content: \"\\00b7\"; padding: 0 .5ex}\n",
       "</style>\n",
       "<ol class=list-inline><li>'126G\\t./microarray/plink_v7.1'</li><li>'126G\\t./microarray'</li><li>'2.1M\\t./.ipynb_checkpoints'</li><li>'126G\\t.'</li></ol>\n"
      ],
      "text/latex": [
       "\\begin{enumerate*}\n",
       "\\item '126G\\textbackslash{}t./microarray/plink\\_v7.1'\n",
       "\\item '126G\\textbackslash{}t./microarray'\n",
       "\\item '2.1M\\textbackslash{}t./.ipynb\\_checkpoints'\n",
       "\\item '126G\\textbackslash{}t.'\n",
       "\\end{enumerate*}\n"
      ],
      "text/markdown": [
       "1. '126G\\t./microarray/plink_v7.1'\n",
       "2. '126G\\t./microarray'\n",
       "3. '2.1M\\t./.ipynb_checkpoints'\n",
       "4. '126G\\t.'\n",
       "\n",
       "\n"
      ],
      "text/plain": [
       "[1] \"126G\\t./microarray/plink_v7.1\" \"126G\\t./microarray\"           \n",
       "[3] \"2.1M\\t./.ipynb_checkpoints\"    \"126G\\t.\"                      "
      ]
     },
     "metadata": {},
     "output_type": "display_data"
    }
   ],
   "source": [
    "# List data in my bucket folder\n",
    "system(paste0(\"gsutil ls \", my_bucket, \"/data/pheno/clean\"), intern=T)\n",
    "system(paste0(\"gsutil ls \", my_bucket, \"/data/arrays/clean/all\"), intern=T)\n",
    "# List storage usage in workspace\n",
    "system(\"du -h\", intern=T)"
   ]
  },
  {
   "cell_type": "markdown",
   "metadata": {},
   "source": [
    "**Regenie Step 1:**"
   ]
  },
  {
   "cell_type": "code",
   "execution_count": 8,
   "metadata": {},
   "outputs": [
    {
     "data": {
      "text/html": [],
      "text/latex": [],
      "text/markdown": [],
      "text/plain": [
       "character(0)"
      ]
     },
     "metadata": {},
     "output_type": "display_data"
    },
    {
     "data": {
      "text/html": [
       "'regenie_tmp_preds_l0_Y1'"
      ],
      "text/latex": [
       "'regenie\\_tmp\\_preds\\_l0\\_Y1'"
      ],
      "text/markdown": [
       "'regenie_tmp_preds_l0_Y1'"
      ],
      "text/plain": [
       "[1] \"regenie_tmp_preds_l0_Y1\""
      ]
     },
     "metadata": {},
     "output_type": "display_data"
    }
   ],
   "source": [
    "## create folder in workspace\n",
    "system(paste0(\"mkdir -p regenie_out/step1/tmpdir\"), intern=T)\n",
    "system(paste0(\"ls regenie_out/step1/tmpdir\"), intern=T)"
   ]
  },
  {
   "cell_type": "code",
   "execution_count": 4,
   "metadata": {},
   "outputs": [
    {
     "data": {
      "text/html": [],
      "text/latex": [],
      "text/markdown": [],
      "text/plain": [
       "character(0)"
      ]
     },
     "metadata": {},
     "output_type": "display_data"
    },
    {
     "data": {
      "text/html": [],
      "text/latex": [],
      "text/markdown": [],
      "text/plain": [
       "character(0)"
      ]
     },
     "metadata": {},
     "output_type": "display_data"
    },
    {
     "data": {
      "text/html": [
       "<style>\n",
       ".list-inline {list-style: none; margin:0; padding: 0}\n",
       ".list-inline>li {display: inline-block}\n",
       ".list-inline>li:not(:last-child)::after {content: \"\\00b7\"; padding: 0 .5ex}\n",
       "</style>\n",
       "<ol class=list-inline><li>'afr_pheno_clean.txt'</li><li>'amr_pheno_clean.txt'</li><li>'eur_pheno_clean.txt'</li></ol>\n"
      ],
      "text/latex": [
       "\\begin{enumerate*}\n",
       "\\item 'afr\\_pheno\\_clean.txt'\n",
       "\\item 'amr\\_pheno\\_clean.txt'\n",
       "\\item 'eur\\_pheno\\_clean.txt'\n",
       "\\end{enumerate*}\n"
      ],
      "text/markdown": [
       "1. 'afr_pheno_clean.txt'\n",
       "2. 'amr_pheno_clean.txt'\n",
       "3. 'eur_pheno_clean.txt'\n",
       "\n",
       "\n"
      ],
      "text/plain": [
       "[1] \"afr_pheno_clean.txt\" \"amr_pheno_clean.txt\" \"eur_pheno_clean.txt\""
      ]
     },
     "metadata": {},
     "output_type": "display_data"
    },
    {
     "data": {
      "text/html": [],
      "text/latex": [],
      "text/markdown": [],
      "text/plain": [
       "character(0)"
      ]
     },
     "metadata": {},
     "output_type": "display_data"
    },
    {
     "data": {
      "text/html": [],
      "text/latex": [],
      "text/markdown": [],
      "text/plain": [
       "character(0)"
      ]
     },
     "metadata": {},
     "output_type": "display_data"
    },
    {
     "data": {
      "text/html": [
       "<style>\n",
       ".list-inline {list-style: none; margin:0; padding: 0}\n",
       ".list-inline>li {display: inline-block}\n",
       ".list-inline>li:not(:last-child)::after {content: \"\\00b7\"; padding: 0 .5ex}\n",
       "</style>\n",
       "<ol class=list-inline><li>'arrays_noY.bed'</li><li>'arrays_noY.bim'</li><li>'arrays_noY.fam'</li><li>'arrays_noY.log'</li><li>'arrays_qc_afr_clean.id'</li><li>'arrays_qc_afr_clean.log'</li><li>'arrays_qc_afr_clean.snplist'</li><li>'arrays_qc_amr_clean.id'</li><li>'arrays_qc_amr_clean.log'</li><li>'arrays_qc_amr_clean.snplist'</li><li>'arrays_qc_eur_clean.id'</li><li>'arrays_qc_eur_clean.log'</li><li>'arrays_qc_eur_clean.snplist'</li></ol>\n"
      ],
      "text/latex": [
       "\\begin{enumerate*}\n",
       "\\item 'arrays\\_noY.bed'\n",
       "\\item 'arrays\\_noY.bim'\n",
       "\\item 'arrays\\_noY.fam'\n",
       "\\item 'arrays\\_noY.log'\n",
       "\\item 'arrays\\_qc\\_afr\\_clean.id'\n",
       "\\item 'arrays\\_qc\\_afr\\_clean.log'\n",
       "\\item 'arrays\\_qc\\_afr\\_clean.snplist'\n",
       "\\item 'arrays\\_qc\\_amr\\_clean.id'\n",
       "\\item 'arrays\\_qc\\_amr\\_clean.log'\n",
       "\\item 'arrays\\_qc\\_amr\\_clean.snplist'\n",
       "\\item 'arrays\\_qc\\_eur\\_clean.id'\n",
       "\\item 'arrays\\_qc\\_eur\\_clean.log'\n",
       "\\item 'arrays\\_qc\\_eur\\_clean.snplist'\n",
       "\\end{enumerate*}\n"
      ],
      "text/markdown": [
       "1. 'arrays_noY.bed'\n",
       "2. 'arrays_noY.bim'\n",
       "3. 'arrays_noY.fam'\n",
       "4. 'arrays_noY.log'\n",
       "5. 'arrays_qc_afr_clean.id'\n",
       "6. 'arrays_qc_afr_clean.log'\n",
       "7. 'arrays_qc_afr_clean.snplist'\n",
       "8. 'arrays_qc_amr_clean.id'\n",
       "9. 'arrays_qc_amr_clean.log'\n",
       "10. 'arrays_qc_amr_clean.snplist'\n",
       "11. 'arrays_qc_eur_clean.id'\n",
       "12. 'arrays_qc_eur_clean.log'\n",
       "13. 'arrays_qc_eur_clean.snplist'\n",
       "\n",
       "\n"
      ],
      "text/plain": [
       " [1] \"arrays_noY.bed\"              \"arrays_noY.bim\"             \n",
       " [3] \"arrays_noY.fam\"              \"arrays_noY.log\"             \n",
       " [5] \"arrays_qc_afr_clean.id\"      \"arrays_qc_afr_clean.log\"    \n",
       " [7] \"arrays_qc_afr_clean.snplist\" \"arrays_qc_amr_clean.id\"     \n",
       " [9] \"arrays_qc_amr_clean.log\"     \"arrays_qc_amr_clean.snplist\"\n",
       "[11] \"arrays_qc_eur_clean.id\"      \"arrays_qc_eur_clean.log\"    \n",
       "[13] \"arrays_qc_eur_clean.snplist\""
      ]
     },
     "metadata": {},
     "output_type": "display_data"
    }
   ],
   "source": [
    "## load pheno tables from bucket\n",
    "system(paste0(\"mkdir -p ./pheno/\"), intern=T)\n",
    "system(paste0(\"gsutil cp \", my_bucket, \"/data/pheno/clean/*pheno_clean.txt\", \" ./pheno/\"), intern=T)\n",
    "system(paste0(\"ls ./pheno/\"), intern=T)\n",
    "## load filtered lists from bucket\n",
    "system(paste0(\"gsutil cp \", my_bucket, \"/data/arrays/clean/all/arrays_qc_*.snplist\", \" ./microarray/plink_v7.1/\"), intern=T)\n",
    "system(paste0(\"gsutil cp \", my_bucket, \"/data/arrays/clean/all/arrays_qc_*.id\", \" ./microarray/plink_v7.1/\"), intern=T)\n",
    "system(paste0(\"ls ./microarray/plink_v7.1/\"), intern=T)"
   ]
  },
  {
   "cell_type": "code",
   "execution_count": 6,
   "metadata": {},
   "outputs": [
    {
     "data": {
      "text/html": [],
      "text/latex": [],
      "text/markdown": [],
      "text/plain": [
       "character(0)"
      ]
     },
     "metadata": {},
     "output_type": "display_data"
    }
   ],
   "source": [
    "system(paste0(\"mkdir -p ./regenie_out/step1\"), intern=T)\n"
   ]
  },
  {
   "cell_type": "markdown",
   "metadata": {},
   "source": [
    "American set:"
   ]
  },
  {
   "cell_type": "code",
   "execution_count": 9,
   "metadata": {},
   "outputs": [],
   "source": [
    "# paths\n",
    "bed     = \"microarray/plink_v7.1/arrays_noY\"\n",
    "keep    = \"microarray/plink_v7.1/arrays_qc_amr_clean.id\"\n",
    "extract = \"microarray/plink_v7.1/arrays_qc_amr_clean.snplist\"\n",
    "pheno   = \"pheno/amr_pheno_clean.txt\"\n",
    "out     = \"regenie_out/step1/del_amr_clean_step1\"\n",
    "\n",
    "system(paste0(\"regenie --step 1 \",\n",
    "              \" --bed \", bed,\n",
    "              \" --keep \", keep,\n",
    "              \" --extract \", extract,\n",
    "              \" --phenoFile \", pheno,\n",
    "              \" --phenoCol delirium_status \",\n",
    "              \" --covarFile \", pheno,\n",
    "              \" --covarColList age,PC{1:10} \",\n",
    "              \" --catCovarList sex \",\n",
    "              \" --bt \", \n",
    "              \" --bsize 1000 \", \n",
    "              \" --lowmem --lowmem-prefix regenie_out/step1/tmpdir/regenie_tmp_preds \",\n",
    "              \" --threads $(nproc) \",\n",
    "              \" --out \", out\n",
    "             ),\n",
    "       intern=T)"
   ]
  },
  {
   "cell_type": "markdown",
   "metadata": {},
   "source": [
    "European set:"
   ]
  },
  {
   "cell_type": "code",
   "execution_count": 10,
   "metadata": {},
   "outputs": [],
   "source": [
    "# paths\n",
    "bed     = \"microarray/plink_v7.1/arrays_noY\"\n",
    "keep    = \"microarray/plink_v7.1/arrays_qc_eur_clean.id\"\n",
    "extract = \"microarray/plink_v7.1/arrays_qc_eur_clean.snplist\"\n",
    "pheno   = \"pheno/eur_pheno_clean.txt\"\n",
    "out     = \"regenie_out/step1/del_eur_clean_step1\"\n",
    "\n",
    "system(paste0(\"regenie --step 1 \",\n",
    "              \" --bed \", bed,\n",
    "              \" --keep \", keep,\n",
    "              \" --extract \", extract,\n",
    "              \" --phenoFile \", pheno,\n",
    "              \" --phenoCol delirium_status \",\n",
    "              \" --covarFile \", pheno,\n",
    "              \" --covarColList age,PC{1:10} \",\n",
    "              \" --catCovarList sex \",\n",
    "              \" --bt \", \n",
    "              \" --bsize 1000 \", \n",
    "              \" --lowmem --lowmem-prefix regenie_out/step1/tmpdir/regenie_tmp_preds \",\n",
    "              \" --threads $(nproc) \",\n",
    "              \" --out \", out\n",
    "             ),\n",
    "       intern=T)"
   ]
  },
  {
   "cell_type": "markdown",
   "metadata": {},
   "source": [
    "African set:"
   ]
  },
  {
   "cell_type": "code",
   "execution_count": 11,
   "metadata": {},
   "outputs": [],
   "source": [
    "# paths\n",
    "bed     = \"microarray/plink_v7.1/arrays_noY\"\n",
    "keep    = \"microarray/plink_v7.1/arrays_qc_afr_clean.id\"\n",
    "extract = \"microarray/plink_v7.1/arrays_qc_afr_clean.snplist\"\n",
    "pheno   = \"pheno/afr_pheno_clean.txt\"\n",
    "out     = \"regenie_out/step1/del_afr_clean_step1\"\n",
    "\n",
    "system(paste0(\"regenie --step 1 \",\n",
    "              \"--force-step1 \",\n",
    "              \" --bed \", bed,\n",
    "              \" --keep \", keep,\n",
    "              \" --extract \", extract,\n",
    "              \" --phenoFile \", pheno,\n",
    "              \" --phenoCol delirium_status \",\n",
    "              \" --covarFile \", pheno,\n",
    "              \" --covarColList age,PC{1:10} \",\n",
    "              \" --catCovarList sex \",\n",
    "              \" --bt \", \n",
    "              \" --bsize 1000 \", \n",
    "              \" --lowmem --lowmem-prefix regenie_out/step1/tmpdir/regenie_tmp_preds \",\n",
    "              \" --threads $(nproc) \",\n",
    "              \" --out \", out\n",
    "             ),\n",
    "       intern=T)"
   ]
  },
  {
   "cell_type": "markdown",
   "metadata": {},
   "source": [
    "**Copy to bucket:**"
   ]
  },
  {
   "cell_type": "code",
   "execution_count": 7,
   "metadata": {},
   "outputs": [
    {
     "data": {
      "text/html": [],
      "text/latex": [],
      "text/markdown": [],
      "text/plain": [
       "character(0)"
      ]
     },
     "metadata": {},
     "output_type": "display_data"
    },
    {
     "data": {
      "text/html": [],
      "text/latex": [],
      "text/markdown": [],
      "text/plain": [
       "character(0)"
      ]
     },
     "metadata": {},
     "output_type": "display_data"
    },
    {
     "data": {
      "text/html": [
       "<style>\n",
       ".list-inline {list-style: none; margin:0; padding: 0}\n",
       ".list-inline>li {display: inline-block}\n",
       ".list-inline>li:not(:last-child)::after {content: \"\\00b7\"; padding: 0 .5ex}\n",
       "</style>\n",
       "<ol class=list-inline><li>'gs://fc-secure-0e4de6e0-e2d7-4267-949d-7b1ad758a53f/data/regenie/step1/del_afr_clean_1on10_step1_1.loco'</li><li>'gs://fc-secure-0e4de6e0-e2d7-4267-949d-7b1ad758a53f/data/regenie/step1/del_afr_clean_1on10_step1_pred.list'</li><li>'gs://fc-secure-0e4de6e0-e2d7-4267-949d-7b1ad758a53f/data/regenie/step1/del_afr_step1_1.loco'</li><li>'gs://fc-secure-0e4de6e0-e2d7-4267-949d-7b1ad758a53f/data/regenie/step1/del_afr_step1_pred.list'</li><li>'gs://fc-secure-0e4de6e0-e2d7-4267-949d-7b1ad758a53f/data/regenie/step1/del_amr_clean_1on10_step1_1.loco'</li><li>'gs://fc-secure-0e4de6e0-e2d7-4267-949d-7b1ad758a53f/data/regenie/step1/del_amr_clean_1on10_step1_pred.list'</li><li>'gs://fc-secure-0e4de6e0-e2d7-4267-949d-7b1ad758a53f/data/regenie/step1/del_amr_step1_1.loco'</li><li>'gs://fc-secure-0e4de6e0-e2d7-4267-949d-7b1ad758a53f/data/regenie/step1/del_amr_step1_pred.list'</li><li>'gs://fc-secure-0e4de6e0-e2d7-4267-949d-7b1ad758a53f/data/regenie/step1/del_eur_clean_1on10_step1_1.loco'</li><li>'gs://fc-secure-0e4de6e0-e2d7-4267-949d-7b1ad758a53f/data/regenie/step1/del_eur_clean_1on10_step1_pred.list'</li><li>'gs://fc-secure-0e4de6e0-e2d7-4267-949d-7b1ad758a53f/data/regenie/step1/del_eur_clean_1on5_step1_1.loco'</li><li>'gs://fc-secure-0e4de6e0-e2d7-4267-949d-7b1ad758a53f/data/regenie/step1/del_eur_clean_1on5_step1_pred.list'</li><li>'gs://fc-secure-0e4de6e0-e2d7-4267-949d-7b1ad758a53f/data/regenie/step1/del_eur_step1_1.loco'</li><li>'gs://fc-secure-0e4de6e0-e2d7-4267-949d-7b1ad758a53f/data/regenie/step1/del_eur_step1_pred.list'</li><li>'gs://fc-secure-0e4de6e0-e2d7-4267-949d-7b1ad758a53f/data/regenie/step1/logs/'</li></ol>\n"
      ],
      "text/latex": [
       "\\begin{enumerate*}\n",
       "\\item 'gs://fc-secure-0e4de6e0-e2d7-4267-949d-7b1ad758a53f/data/regenie/step1/del\\_afr\\_clean\\_1on10\\_step1\\_1.loco'\n",
       "\\item 'gs://fc-secure-0e4de6e0-e2d7-4267-949d-7b1ad758a53f/data/regenie/step1/del\\_afr\\_clean\\_1on10\\_step1\\_pred.list'\n",
       "\\item 'gs://fc-secure-0e4de6e0-e2d7-4267-949d-7b1ad758a53f/data/regenie/step1/del\\_afr\\_step1\\_1.loco'\n",
       "\\item 'gs://fc-secure-0e4de6e0-e2d7-4267-949d-7b1ad758a53f/data/regenie/step1/del\\_afr\\_step1\\_pred.list'\n",
       "\\item 'gs://fc-secure-0e4de6e0-e2d7-4267-949d-7b1ad758a53f/data/regenie/step1/del\\_amr\\_clean\\_1on10\\_step1\\_1.loco'\n",
       "\\item 'gs://fc-secure-0e4de6e0-e2d7-4267-949d-7b1ad758a53f/data/regenie/step1/del\\_amr\\_clean\\_1on10\\_step1\\_pred.list'\n",
       "\\item 'gs://fc-secure-0e4de6e0-e2d7-4267-949d-7b1ad758a53f/data/regenie/step1/del\\_amr\\_step1\\_1.loco'\n",
       "\\item 'gs://fc-secure-0e4de6e0-e2d7-4267-949d-7b1ad758a53f/data/regenie/step1/del\\_amr\\_step1\\_pred.list'\n",
       "\\item 'gs://fc-secure-0e4de6e0-e2d7-4267-949d-7b1ad758a53f/data/regenie/step1/del\\_eur\\_clean\\_1on10\\_step1\\_1.loco'\n",
       "\\item 'gs://fc-secure-0e4de6e0-e2d7-4267-949d-7b1ad758a53f/data/regenie/step1/del\\_eur\\_clean\\_1on10\\_step1\\_pred.list'\n",
       "\\item 'gs://fc-secure-0e4de6e0-e2d7-4267-949d-7b1ad758a53f/data/regenie/step1/del\\_eur\\_clean\\_1on5\\_step1\\_1.loco'\n",
       "\\item 'gs://fc-secure-0e4de6e0-e2d7-4267-949d-7b1ad758a53f/data/regenie/step1/del\\_eur\\_clean\\_1on5\\_step1\\_pred.list'\n",
       "\\item 'gs://fc-secure-0e4de6e0-e2d7-4267-949d-7b1ad758a53f/data/regenie/step1/del\\_eur\\_step1\\_1.loco'\n",
       "\\item 'gs://fc-secure-0e4de6e0-e2d7-4267-949d-7b1ad758a53f/data/regenie/step1/del\\_eur\\_step1\\_pred.list'\n",
       "\\item 'gs://fc-secure-0e4de6e0-e2d7-4267-949d-7b1ad758a53f/data/regenie/step1/logs/'\n",
       "\\end{enumerate*}\n"
      ],
      "text/markdown": [
       "1. 'gs://fc-secure-0e4de6e0-e2d7-4267-949d-7b1ad758a53f/data/regenie/step1/del_afr_clean_1on10_step1_1.loco'\n",
       "2. 'gs://fc-secure-0e4de6e0-e2d7-4267-949d-7b1ad758a53f/data/regenie/step1/del_afr_clean_1on10_step1_pred.list'\n",
       "3. 'gs://fc-secure-0e4de6e0-e2d7-4267-949d-7b1ad758a53f/data/regenie/step1/del_afr_step1_1.loco'\n",
       "4. 'gs://fc-secure-0e4de6e0-e2d7-4267-949d-7b1ad758a53f/data/regenie/step1/del_afr_step1_pred.list'\n",
       "5. 'gs://fc-secure-0e4de6e0-e2d7-4267-949d-7b1ad758a53f/data/regenie/step1/del_amr_clean_1on10_step1_1.loco'\n",
       "6. 'gs://fc-secure-0e4de6e0-e2d7-4267-949d-7b1ad758a53f/data/regenie/step1/del_amr_clean_1on10_step1_pred.list'\n",
       "7. 'gs://fc-secure-0e4de6e0-e2d7-4267-949d-7b1ad758a53f/data/regenie/step1/del_amr_step1_1.loco'\n",
       "8. 'gs://fc-secure-0e4de6e0-e2d7-4267-949d-7b1ad758a53f/data/regenie/step1/del_amr_step1_pred.list'\n",
       "9. 'gs://fc-secure-0e4de6e0-e2d7-4267-949d-7b1ad758a53f/data/regenie/step1/del_eur_clean_1on10_step1_1.loco'\n",
       "10. 'gs://fc-secure-0e4de6e0-e2d7-4267-949d-7b1ad758a53f/data/regenie/step1/del_eur_clean_1on10_step1_pred.list'\n",
       "11. 'gs://fc-secure-0e4de6e0-e2d7-4267-949d-7b1ad758a53f/data/regenie/step1/del_eur_clean_1on5_step1_1.loco'\n",
       "12. 'gs://fc-secure-0e4de6e0-e2d7-4267-949d-7b1ad758a53f/data/regenie/step1/del_eur_clean_1on5_step1_pred.list'\n",
       "13. 'gs://fc-secure-0e4de6e0-e2d7-4267-949d-7b1ad758a53f/data/regenie/step1/del_eur_step1_1.loco'\n",
       "14. 'gs://fc-secure-0e4de6e0-e2d7-4267-949d-7b1ad758a53f/data/regenie/step1/del_eur_step1_pred.list'\n",
       "15. 'gs://fc-secure-0e4de6e0-e2d7-4267-949d-7b1ad758a53f/data/regenie/step1/logs/'\n",
       "\n",
       "\n"
      ],
      "text/plain": [
       " [1] \"gs://fc-secure-0e4de6e0-e2d7-4267-949d-7b1ad758a53f/data/regenie/step1/del_afr_clean_1on10_step1_1.loco\"   \n",
       " [2] \"gs://fc-secure-0e4de6e0-e2d7-4267-949d-7b1ad758a53f/data/regenie/step1/del_afr_clean_1on10_step1_pred.list\"\n",
       " [3] \"gs://fc-secure-0e4de6e0-e2d7-4267-949d-7b1ad758a53f/data/regenie/step1/del_afr_step1_1.loco\"               \n",
       " [4] \"gs://fc-secure-0e4de6e0-e2d7-4267-949d-7b1ad758a53f/data/regenie/step1/del_afr_step1_pred.list\"            \n",
       " [5] \"gs://fc-secure-0e4de6e0-e2d7-4267-949d-7b1ad758a53f/data/regenie/step1/del_amr_clean_1on10_step1_1.loco\"   \n",
       " [6] \"gs://fc-secure-0e4de6e0-e2d7-4267-949d-7b1ad758a53f/data/regenie/step1/del_amr_clean_1on10_step1_pred.list\"\n",
       " [7] \"gs://fc-secure-0e4de6e0-e2d7-4267-949d-7b1ad758a53f/data/regenie/step1/del_amr_step1_1.loco\"               \n",
       " [8] \"gs://fc-secure-0e4de6e0-e2d7-4267-949d-7b1ad758a53f/data/regenie/step1/del_amr_step1_pred.list\"            \n",
       " [9] \"gs://fc-secure-0e4de6e0-e2d7-4267-949d-7b1ad758a53f/data/regenie/step1/del_eur_clean_1on10_step1_1.loco\"   \n",
       "[10] \"gs://fc-secure-0e4de6e0-e2d7-4267-949d-7b1ad758a53f/data/regenie/step1/del_eur_clean_1on10_step1_pred.list\"\n",
       "[11] \"gs://fc-secure-0e4de6e0-e2d7-4267-949d-7b1ad758a53f/data/regenie/step1/del_eur_clean_1on5_step1_1.loco\"    \n",
       "[12] \"gs://fc-secure-0e4de6e0-e2d7-4267-949d-7b1ad758a53f/data/regenie/step1/del_eur_clean_1on5_step1_pred.list\" \n",
       "[13] \"gs://fc-secure-0e4de6e0-e2d7-4267-949d-7b1ad758a53f/data/regenie/step1/del_eur_step1_1.loco\"               \n",
       "[14] \"gs://fc-secure-0e4de6e0-e2d7-4267-949d-7b1ad758a53f/data/regenie/step1/del_eur_step1_pred.list\"            \n",
       "[15] \"gs://fc-secure-0e4de6e0-e2d7-4267-949d-7b1ad758a53f/data/regenie/step1/logs/\"                              "
      ]
     },
     "metadata": {},
     "output_type": "display_data"
    }
   ],
   "source": [
    "# step1 loco predictions\n",
    "system(paste0(\"gsutil cp regenie_out/step1/del_*_step1_1.loco\", \" \", my_bucket, \"/data/regenie/step1/\"), intern=T)\n",
    "# path file (modify if reused in another location)\n",
    "system(paste0(\"gsutil cp regenie_out/step1/del_*_step1_pred.list\", \" \", my_bucket, \"/data/regenie/step1/\"), intern=T)\n",
    "# log files\n",
    "#system(paste0(\"gsutil cp regenie_out/step1/del_*_step1.log\", \" \", my_bucket, \"/data/regenie/step1/\"), intern=T)\n",
    "# check\n",
    "system(paste0(\"gsutil ls \", my_bucket, \"/data/regenie/step1/\"), intern=T)"
   ]
  }
 ],
 "metadata": {
  "kernelspec": {
   "display_name": "R",
   "language": "R",
   "name": "ir"
  },
  "language_info": {
   "codemirror_mode": "r",
   "file_extension": ".r",
   "mimetype": "text/x-r-source",
   "name": "R",
   "pygments_lexer": "r",
   "version": "4.4.0"
  },
  "toc": {
   "base_numbering": 1,
   "nav_menu": {},
   "number_sections": true,
   "sideBar": true,
   "skip_h1_title": false,
   "title_cell": "Table of Contents",
   "title_sidebar": "Contents",
   "toc_cell": false,
   "toc_position": {},
   "toc_section_display": true,
   "toc_window_display": false
  }
 },
 "nbformat": 4,
 "nbformat_minor": 2
}
